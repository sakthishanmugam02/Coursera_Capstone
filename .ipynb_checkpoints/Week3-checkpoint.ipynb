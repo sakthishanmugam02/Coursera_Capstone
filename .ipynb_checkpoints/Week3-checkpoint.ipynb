{
 "cells": [
  {
   "cell_type": "markdown",
   "metadata": {},
   "source": [
    "# Applied Data Science Week 3 Assignment"
   ]
  },
  {
   "cell_type": "markdown",
   "metadata": {},
   "source": [
    "1. Import required libraries "
   ]
  },
  {
   "cell_type": "code",
   "execution_count": 1,
   "metadata": {},
   "outputs": [],
   "source": [
    "import pandas as pd"
   ]
  },
  {
   "cell_type": "markdown",
   "metadata": {},
   "source": [
    "2. Load the data frame from the wiki page using read_html panda function"
   ]
  },
  {
   "cell_type": "code",
   "execution_count": 2,
   "metadata": {},
   "outputs": [
    {
     "data": {
      "text/plain": [
       "(286, 3)"
      ]
     },
     "execution_count": 2,
     "metadata": {},
     "output_type": "execute_result"
    }
   ],
   "source": [
    "#parse the html page into panda data frame\n",
    "\n",
    "link = \"https://en.wikipedia.org/wiki/List_of_postal_codes_of_Canada:_M\"\n",
    "\n",
    "tables = pd.read_html(link)\n",
    "\n",
    "df = tables[0].iloc[1:]\n",
    "\n",
    "df.columns = ['PostalCode', 'Borough', 'Neighbourhood']\n",
    "\n",
    "df.shape"
   ]
  },
  {
   "cell_type": "markdown",
   "metadata": {},
   "source": [
    "3. Drop Borough entries which is equal to 'Not assigned'"
   ]
  },
  {
   "cell_type": "code",
   "execution_count": 3,
   "metadata": {},
   "outputs": [
    {
     "name": "stderr",
     "output_type": "stream",
     "text": [
      "/Users/sakthi/opt/anaconda3/lib/python3.7/site-packages/pandas/core/frame.py:4117: SettingWithCopyWarning: \n",
      "A value is trying to be set on a copy of a slice from a DataFrame\n",
      "\n",
      "See the caveats in the documentation: http://pandas.pydata.org/pandas-docs/stable/user_guide/indexing.html#returning-a-view-versus-a-copy\n",
      "  errors=errors,\n"
     ]
    },
    {
     "data": {
      "text/plain": [
       "(210, 3)"
      ]
     },
     "execution_count": 3,
     "metadata": {},
     "output_type": "execute_result"
    }
   ],
   "source": [
    "df.drop(df[df.Borough == 'Not assigned'].index, inplace=True)\n",
    "\n",
    "df.shape"
   ]
  },
  {
   "cell_type": "markdown",
   "metadata": {},
   "source": [
    "4. Aggregate Neighbourhood as command separated value by grouping Borough"
   ]
  },
  {
   "cell_type": "code",
   "execution_count": 4,
   "metadata": {},
   "outputs": [
    {
     "data": {
      "text/plain": [
       "(11, 3)"
      ]
     },
     "execution_count": 4,
     "metadata": {},
     "output_type": "execute_result"
    }
   ],
   "source": [
    "df1 = df.groupby('Borough').agg({'PostalCode' : 'first', 'Neighbourhood' : ','.join}).reset_index().reindex(columns=df.columns)\n",
    "\n",
    "df1.shape"
   ]
  },
  {
   "cell_type": "markdown",
   "metadata": {},
   "source": [
    "5. Fill Neighbourhood value as Borough in case if it is 'Not assigned'"
   ]
  },
  {
   "cell_type": "code",
   "execution_count": 5,
   "metadata": {},
   "outputs": [
    {
     "data": {
      "text/html": [
       "<div>\n",
       "<style scoped>\n",
       "    .dataframe tbody tr th:only-of-type {\n",
       "        vertical-align: middle;\n",
       "    }\n",
       "\n",
       "    .dataframe tbody tr th {\n",
       "        vertical-align: top;\n",
       "    }\n",
       "\n",
       "    .dataframe thead th {\n",
       "        text-align: right;\n",
       "    }\n",
       "</style>\n",
       "<table border=\"1\" class=\"dataframe\">\n",
       "  <thead>\n",
       "    <tr style=\"text-align: right;\">\n",
       "      <th></th>\n",
       "      <th>PostalCode</th>\n",
       "      <th>Borough</th>\n",
       "      <th>Neighbourhood</th>\n",
       "    </tr>\n",
       "  </thead>\n",
       "  <tbody>\n",
       "    <tr>\n",
       "      <th>0</th>\n",
       "      <td>M4N</td>\n",
       "      <td>Central Toronto</td>\n",
       "      <td>Lawrence Park,Roselawn,Davisville North,Forest...</td>\n",
       "    </tr>\n",
       "    <tr>\n",
       "      <th>1</th>\n",
       "      <td>M5A</td>\n",
       "      <td>Downtown Toronto</td>\n",
       "      <td>Harbourfront,Queen's Park,Ryerson,Garden Distr...</td>\n",
       "    </tr>\n",
       "    <tr>\n",
       "      <th>2</th>\n",
       "      <td>M4E</td>\n",
       "      <td>East Toronto</td>\n",
       "      <td>The Beaches,The Danforth West,Riverdale,The Be...</td>\n",
       "    </tr>\n",
       "    <tr>\n",
       "      <th>3</th>\n",
       "      <td>M4B</td>\n",
       "      <td>East York</td>\n",
       "      <td>Woodbine Gardens,Parkview Hill,Woodbine Height...</td>\n",
       "    </tr>\n",
       "    <tr>\n",
       "      <th>4</th>\n",
       "      <td>M9B</td>\n",
       "      <td>Etobicoke</td>\n",
       "      <td>Cloverdale,Islington,Martin Grove,Princess Gar...</td>\n",
       "    </tr>\n",
       "    <tr>\n",
       "      <th>5</th>\n",
       "      <td>M7R</td>\n",
       "      <td>Mississauga</td>\n",
       "      <td>Canada Post Gateway Processing Centre</td>\n",
       "    </tr>\n",
       "    <tr>\n",
       "      <th>6</th>\n",
       "      <td>M3A</td>\n",
       "      <td>North York</td>\n",
       "      <td>Parkwoods,Victoria Village,Lawrence Heights,La...</td>\n",
       "    </tr>\n",
       "    <tr>\n",
       "      <th>7</th>\n",
       "      <td>M9A</td>\n",
       "      <td>Queen's Park</td>\n",
       "      <td>Queen's Park</td>\n",
       "    </tr>\n",
       "    <tr>\n",
       "      <th>8</th>\n",
       "      <td>M1B</td>\n",
       "      <td>Scarborough</td>\n",
       "      <td>Rouge,Malvern,Highland Creek,Rouge Hill,Port U...</td>\n",
       "    </tr>\n",
       "    <tr>\n",
       "      <th>9</th>\n",
       "      <td>M6H</td>\n",
       "      <td>West Toronto</td>\n",
       "      <td>Dovercourt Village,Dufferin,Little Portugal,Tr...</td>\n",
       "    </tr>\n",
       "    <tr>\n",
       "      <th>10</th>\n",
       "      <td>M6C</td>\n",
       "      <td>York</td>\n",
       "      <td>Humewood-Cedarvale,Caledonia-Fairbanks,Del Ray...</td>\n",
       "    </tr>\n",
       "  </tbody>\n",
       "</table>\n",
       "</div>"
      ],
      "text/plain": [
       "   PostalCode           Borough  \\\n",
       "0         M4N   Central Toronto   \n",
       "1         M5A  Downtown Toronto   \n",
       "2         M4E      East Toronto   \n",
       "3         M4B         East York   \n",
       "4         M9B         Etobicoke   \n",
       "5         M7R       Mississauga   \n",
       "6         M3A        North York   \n",
       "7         M9A      Queen's Park   \n",
       "8         M1B       Scarborough   \n",
       "9         M6H      West Toronto   \n",
       "10        M6C              York   \n",
       "\n",
       "                                        Neighbourhood  \n",
       "0   Lawrence Park,Roselawn,Davisville North,Forest...  \n",
       "1   Harbourfront,Queen's Park,Ryerson,Garden Distr...  \n",
       "2   The Beaches,The Danforth West,Riverdale,The Be...  \n",
       "3   Woodbine Gardens,Parkview Hill,Woodbine Height...  \n",
       "4   Cloverdale,Islington,Martin Grove,Princess Gar...  \n",
       "5               Canada Post Gateway Processing Centre  \n",
       "6   Parkwoods,Victoria Village,Lawrence Heights,La...  \n",
       "7                                        Queen's Park  \n",
       "8   Rouge,Malvern,Highland Creek,Rouge Hill,Port U...  \n",
       "9   Dovercourt Village,Dufferin,Little Portugal,Tr...  \n",
       "10  Humewood-Cedarvale,Caledonia-Fairbanks,Del Ray...  "
      ]
     },
     "execution_count": 5,
     "metadata": {},
     "output_type": "execute_result"
    }
   ],
   "source": [
    "df1.loc[df1['Neighbourhood'] == 'Not assigned', 'Neighbourhood'] = df1['Borough']\n",
    "df1"
   ]
  },
  {
   "cell_type": "markdown",
   "metadata": {},
   "source": [
    "6. Print the resulted shape"
   ]
  },
  {
   "cell_type": "code",
   "execution_count": 6,
   "metadata": {},
   "outputs": [
    {
     "data": {
      "text/plain": [
       "(11, 3)"
      ]
     },
     "execution_count": 6,
     "metadata": {},
     "output_type": "execute_result"
    }
   ],
   "source": [
    "df1.shape"
   ]
  },
  {
   "cell_type": "markdown",
   "metadata": {},
   "source": [
    "#### Print the resulted data frame"
   ]
  },
  {
   "cell_type": "code",
   "execution_count": 7,
   "metadata": {},
   "outputs": [
    {
     "data": {
      "text/html": [
       "<div>\n",
       "<style scoped>\n",
       "    .dataframe tbody tr th:only-of-type {\n",
       "        vertical-align: middle;\n",
       "    }\n",
       "\n",
       "    .dataframe tbody tr th {\n",
       "        vertical-align: top;\n",
       "    }\n",
       "\n",
       "    .dataframe thead th {\n",
       "        text-align: right;\n",
       "    }\n",
       "</style>\n",
       "<table border=\"1\" class=\"dataframe\">\n",
       "  <thead>\n",
       "    <tr style=\"text-align: right;\">\n",
       "      <th></th>\n",
       "      <th>PostalCode</th>\n",
       "      <th>Borough</th>\n",
       "      <th>Neighbourhood</th>\n",
       "    </tr>\n",
       "  </thead>\n",
       "  <tbody>\n",
       "    <tr>\n",
       "      <th>0</th>\n",
       "      <td>M4N</td>\n",
       "      <td>Central Toronto</td>\n",
       "      <td>Lawrence Park,Roselawn,Davisville North,Forest...</td>\n",
       "    </tr>\n",
       "    <tr>\n",
       "      <th>1</th>\n",
       "      <td>M5A</td>\n",
       "      <td>Downtown Toronto</td>\n",
       "      <td>Harbourfront,Queen's Park,Ryerson,Garden Distr...</td>\n",
       "    </tr>\n",
       "    <tr>\n",
       "      <th>2</th>\n",
       "      <td>M4E</td>\n",
       "      <td>East Toronto</td>\n",
       "      <td>The Beaches,The Danforth West,Riverdale,The Be...</td>\n",
       "    </tr>\n",
       "    <tr>\n",
       "      <th>3</th>\n",
       "      <td>M4B</td>\n",
       "      <td>East York</td>\n",
       "      <td>Woodbine Gardens,Parkview Hill,Woodbine Height...</td>\n",
       "    </tr>\n",
       "    <tr>\n",
       "      <th>4</th>\n",
       "      <td>M9B</td>\n",
       "      <td>Etobicoke</td>\n",
       "      <td>Cloverdale,Islington,Martin Grove,Princess Gar...</td>\n",
       "    </tr>\n",
       "    <tr>\n",
       "      <th>5</th>\n",
       "      <td>M7R</td>\n",
       "      <td>Mississauga</td>\n",
       "      <td>Canada Post Gateway Processing Centre</td>\n",
       "    </tr>\n",
       "    <tr>\n",
       "      <th>6</th>\n",
       "      <td>M3A</td>\n",
       "      <td>North York</td>\n",
       "      <td>Parkwoods,Victoria Village,Lawrence Heights,La...</td>\n",
       "    </tr>\n",
       "    <tr>\n",
       "      <th>7</th>\n",
       "      <td>M9A</td>\n",
       "      <td>Queen's Park</td>\n",
       "      <td>Queen's Park</td>\n",
       "    </tr>\n",
       "    <tr>\n",
       "      <th>8</th>\n",
       "      <td>M1B</td>\n",
       "      <td>Scarborough</td>\n",
       "      <td>Rouge,Malvern,Highland Creek,Rouge Hill,Port U...</td>\n",
       "    </tr>\n",
       "    <tr>\n",
       "      <th>9</th>\n",
       "      <td>M6H</td>\n",
       "      <td>West Toronto</td>\n",
       "      <td>Dovercourt Village,Dufferin,Little Portugal,Tr...</td>\n",
       "    </tr>\n",
       "    <tr>\n",
       "      <th>10</th>\n",
       "      <td>M6C</td>\n",
       "      <td>York</td>\n",
       "      <td>Humewood-Cedarvale,Caledonia-Fairbanks,Del Ray...</td>\n",
       "    </tr>\n",
       "  </tbody>\n",
       "</table>\n",
       "</div>"
      ],
      "text/plain": [
       "   PostalCode           Borough  \\\n",
       "0         M4N   Central Toronto   \n",
       "1         M5A  Downtown Toronto   \n",
       "2         M4E      East Toronto   \n",
       "3         M4B         East York   \n",
       "4         M9B         Etobicoke   \n",
       "5         M7R       Mississauga   \n",
       "6         M3A        North York   \n",
       "7         M9A      Queen's Park   \n",
       "8         M1B       Scarborough   \n",
       "9         M6H      West Toronto   \n",
       "10        M6C              York   \n",
       "\n",
       "                                        Neighbourhood  \n",
       "0   Lawrence Park,Roselawn,Davisville North,Forest...  \n",
       "1   Harbourfront,Queen's Park,Ryerson,Garden Distr...  \n",
       "2   The Beaches,The Danforth West,Riverdale,The Be...  \n",
       "3   Woodbine Gardens,Parkview Hill,Woodbine Height...  \n",
       "4   Cloverdale,Islington,Martin Grove,Princess Gar...  \n",
       "5               Canada Post Gateway Processing Centre  \n",
       "6   Parkwoods,Victoria Village,Lawrence Heights,La...  \n",
       "7                                        Queen's Park  \n",
       "8   Rouge,Malvern,Highland Creek,Rouge Hill,Port U...  \n",
       "9   Dovercourt Village,Dufferin,Little Portugal,Tr...  \n",
       "10  Humewood-Cedarvale,Caledonia-Fairbanks,Del Ray...  "
      ]
     },
     "execution_count": 7,
     "metadata": {},
     "output_type": "execute_result"
    }
   ],
   "source": [
    "df1"
   ]
  },
  {
   "cell_type": "markdown",
   "metadata": {},
   "source": [
    "7. Install and import the geocoder"
   ]
  },
  {
   "cell_type": "code",
   "execution_count": 8,
   "metadata": {},
   "outputs": [
    {
     "name": "stdout",
     "output_type": "stream",
     "text": [
      "Requirement already satisfied: geocoder in /Users/sakthi/opt/anaconda3/lib/python3.7/site-packages (1.38.1)\n",
      "Requirement already satisfied: requests in /Users/sakthi/opt/anaconda3/lib/python3.7/site-packages (from geocoder) (2.22.0)\n",
      "Requirement already satisfied: ratelim in /Users/sakthi/opt/anaconda3/lib/python3.7/site-packages (from geocoder) (0.1.6)\n",
      "Requirement already satisfied: future in /Users/sakthi/opt/anaconda3/lib/python3.7/site-packages (from geocoder) (0.18.2)\n",
      "Requirement already satisfied: six in /Users/sakthi/opt/anaconda3/lib/python3.7/site-packages (from geocoder) (1.13.0)\n",
      "Requirement already satisfied: click in /Users/sakthi/opt/anaconda3/lib/python3.7/site-packages (from geocoder) (7.0)\n",
      "Requirement already satisfied: idna<2.9,>=2.5 in /Users/sakthi/opt/anaconda3/lib/python3.7/site-packages (from requests->geocoder) (2.8)\n",
      "Requirement already satisfied: chardet<3.1.0,>=3.0.2 in /Users/sakthi/opt/anaconda3/lib/python3.7/site-packages (from requests->geocoder) (3.0.4)\n",
      "Requirement already satisfied: certifi>=2017.4.17 in /Users/sakthi/opt/anaconda3/lib/python3.7/site-packages (from requests->geocoder) (2019.11.28)\n",
      "Requirement already satisfied: urllib3!=1.25.0,!=1.25.1,<1.26,>=1.21.1 in /Users/sakthi/opt/anaconda3/lib/python3.7/site-packages (from requests->geocoder) (1.25.7)\n",
      "Requirement already satisfied: decorator in /Users/sakthi/opt/anaconda3/lib/python3.7/site-packages (from ratelim->geocoder) (4.4.1)\n"
     ]
    }
   ],
   "source": [
    "!pip install geocoder\n",
    "\n",
    "import geocoder # import geocoder"
   ]
  },
  {
   "cell_type": "markdown",
   "metadata": {},
   "source": [
    "8. Prepare list to fetch coordinates from postal code"
   ]
  },
  {
   "cell_type": "code",
   "execution_count": 12,
   "metadata": {},
   "outputs": [
    {
     "data": {
      "text/plain": [
       "['M4N', 'M5A', 'M4E', 'M4B', 'M9B', 'M7R', 'M3A', 'M9A', 'M1B', 'M6H', 'M6C']"
      ]
     },
     "execution_count": 12,
     "metadata": {},
     "output_type": "execute_result"
    }
   ],
   "source": [
    "# Only run once to get the Latitude / Longitude then Pickled\n",
    "import geocoder\n",
    "\n",
    "# Create a copy of the part_01 dataframe\n",
    "df2 = df1.copy()\n",
    "\n",
    "# Create a list of all the Postal Codes\n",
    "postal_codes = df1['PostalCode'].tolist()\n",
    "\n",
    "postal_codes"
   ]
  },
  {
   "cell_type": "code",
   "execution_count": 13,
   "metadata": {},
   "outputs": [
    {
     "name": "stdout",
     "output_type": "stream",
     "text": [
      "Collecting package metadata (current_repodata.json): done\n",
      "Solving environment: done\n",
      "\n",
      "## Package Plan ##\n",
      "\n",
      "  environment location: /Users/sakthi/opt/anaconda3\n",
      "\n",
      "  added / updated specs:\n",
      "    - geocoder\n",
      "\n",
      "\n",
      "The following packages will be downloaded:\n",
      "\n",
      "    package                    |            build\n",
      "    ---------------------------|-----------------\n",
      "    geocoder-1.38.1            |             py_1          53 KB  conda-forge\n",
      "    ratelim-0.1.6              |             py_2           6 KB  conda-forge\n",
      "    ------------------------------------------------------------\n",
      "                                           Total:          59 KB\n",
      "\n",
      "The following NEW packages will be INSTALLED:\n",
      "\n",
      "  geocoder           conda-forge/noarch::geocoder-1.38.1-py_1\n",
      "  ratelim            conda-forge/noarch::ratelim-0.1.6-py_2\n",
      "\n",
      "\n",
      "\n",
      "Downloading and Extracting Packages\n",
      "ratelim-0.1.6        | 6 KB      | ##################################### | 100% \n",
      "geocoder-1.38.1      | 53 KB     | ##################################### | 100% \n",
      "Preparing transaction: done\n",
      "Verifying transaction: done\n",
      "Executing transaction: done\n"
     ]
    }
   ],
   "source": [
    "!conda install -c conda-forge geocoder --yes"
   ]
  },
  {
   "cell_type": "markdown",
   "metadata": {},
   "source": [
    "9. Get the coordinates by calling geocoder function"
   ]
  },
  {
   "cell_type": "code",
   "execution_count": 19,
   "metadata": {},
   "outputs": [
    {
     "name": "stdout",
     "output_type": "stream",
     "text": [
      "M4N, Toronto, Ontario\n",
      "Trying for M4N\n"
     ]
    },
    {
     "name": "stderr",
     "output_type": "stream",
     "text": [
      "Status code 401 from http://api.opencagedata.com/geocode/v1/json: ERROR - 401 Client Error: Unauthorized for url: http://api.opencagedata.com/geocode/v1/json?query=M4N%2C+Toronto%2C+Ontario&key=13aa077d21ae42f287ec8607e07b2159&limit=1\n"
     ]
    },
    {
     "name": "stdout",
     "output_type": "stream",
     "text": [
      "Trying for M4N\n"
     ]
    },
    {
     "name": "stderr",
     "output_type": "stream",
     "text": [
      "Status code 401 from http://api.opencagedata.com/geocode/v1/json: ERROR - 401 Client Error: Unauthorized for url: http://api.opencagedata.com/geocode/v1/json?query=M4N%2C+Toronto%2C+Ontario&key=13aa077d21ae42f287ec8607e07b2159&limit=1\n"
     ]
    },
    {
     "name": "stdout",
     "output_type": "stream",
     "text": [
      "Trying for M4N\n"
     ]
    },
    {
     "name": "stderr",
     "output_type": "stream",
     "text": [
      "Status code 401 from http://api.opencagedata.com/geocode/v1/json: ERROR - 401 Client Error: Unauthorized for url: http://api.opencagedata.com/geocode/v1/json?query=M4N%2C+Toronto%2C+Ontario&key=13aa077d21ae42f287ec8607e07b2159&limit=1\n"
     ]
    },
    {
     "name": "stdout",
     "output_type": "stream",
     "text": [
      "Trying for M4N\n",
      "M4N, done\n",
      "M5A, Toronto, Ontario\n",
      "Trying for M5A\n"
     ]
    },
    {
     "name": "stderr",
     "output_type": "stream",
     "text": [
      "Status code 401 from http://api.opencagedata.com/geocode/v1/json: ERROR - 401 Client Error: Unauthorized for url: http://api.opencagedata.com/geocode/v1/json?query=M5A%2C+Toronto%2C+Ontario&key=13aa077d21ae42f287ec8607e07b2159&limit=1\n"
     ]
    },
    {
     "name": "stdout",
     "output_type": "stream",
     "text": [
      "Trying for M5A\n"
     ]
    },
    {
     "name": "stderr",
     "output_type": "stream",
     "text": [
      "Status code 401 from http://api.opencagedata.com/geocode/v1/json: ERROR - 401 Client Error: Unauthorized for url: http://api.opencagedata.com/geocode/v1/json?query=M5A%2C+Toronto%2C+Ontario&key=13aa077d21ae42f287ec8607e07b2159&limit=1\n"
     ]
    },
    {
     "name": "stdout",
     "output_type": "stream",
     "text": [
      "Trying for M5A\n"
     ]
    },
    {
     "name": "stderr",
     "output_type": "stream",
     "text": [
      "Status code 401 from http://api.opencagedata.com/geocode/v1/json: ERROR - 401 Client Error: Unauthorized for url: http://api.opencagedata.com/geocode/v1/json?query=M5A%2C+Toronto%2C+Ontario&key=13aa077d21ae42f287ec8607e07b2159&limit=1\n"
     ]
    },
    {
     "name": "stdout",
     "output_type": "stream",
     "text": [
      "Trying for M5A\n",
      "M5A, done\n",
      "M4E, Toronto, Ontario\n",
      "Trying for M4E\n"
     ]
    },
    {
     "name": "stderr",
     "output_type": "stream",
     "text": [
      "Status code 401 from http://api.opencagedata.com/geocode/v1/json: ERROR - 401 Client Error: Unauthorized for url: http://api.opencagedata.com/geocode/v1/json?query=M4E%2C+Toronto%2C+Ontario&key=13aa077d21ae42f287ec8607e07b2159&limit=1\n"
     ]
    },
    {
     "name": "stdout",
     "output_type": "stream",
     "text": [
      "Trying for M4E\n"
     ]
    },
    {
     "name": "stderr",
     "output_type": "stream",
     "text": [
      "Status code 401 from http://api.opencagedata.com/geocode/v1/json: ERROR - 401 Client Error: Unauthorized for url: http://api.opencagedata.com/geocode/v1/json?query=M4E%2C+Toronto%2C+Ontario&key=13aa077d21ae42f287ec8607e07b2159&limit=1\n"
     ]
    },
    {
     "name": "stdout",
     "output_type": "stream",
     "text": [
      "Trying for M4E\n"
     ]
    },
    {
     "name": "stderr",
     "output_type": "stream",
     "text": [
      "Status code 401 from http://api.opencagedata.com/geocode/v1/json: ERROR - 401 Client Error: Unauthorized for url: http://api.opencagedata.com/geocode/v1/json?query=M4E%2C+Toronto%2C+Ontario&key=13aa077d21ae42f287ec8607e07b2159&limit=1\n"
     ]
    },
    {
     "name": "stdout",
     "output_type": "stream",
     "text": [
      "Trying for M4E\n"
     ]
    },
    {
     "name": "stderr",
     "output_type": "stream",
     "text": [
      "Status code 401 from http://api.opencagedata.com/geocode/v1/json: ERROR - 401 Client Error: Unauthorized for url: http://api.opencagedata.com/geocode/v1/json?query=M4E%2C+Toronto%2C+Ontario&key=13aa077d21ae42f287ec8607e07b2159&limit=1\n"
     ]
    },
    {
     "name": "stdout",
     "output_type": "stream",
     "text": [
      "Trying for M4E\n"
     ]
    },
    {
     "name": "stderr",
     "output_type": "stream",
     "text": [
      "Status code 401 from http://api.opencagedata.com/geocode/v1/json: ERROR - 401 Client Error: Unauthorized for url: http://api.opencagedata.com/geocode/v1/json?query=M4E%2C+Toronto%2C+Ontario&key=13aa077d21ae42f287ec8607e07b2159&limit=1\n"
     ]
    },
    {
     "name": "stdout",
     "output_type": "stream",
     "text": [
      "Trying for M4E\n"
     ]
    },
    {
     "name": "stderr",
     "output_type": "stream",
     "text": [
      "Status code 401 from http://api.opencagedata.com/geocode/v1/json: ERROR - 401 Client Error: Unauthorized for url: http://api.opencagedata.com/geocode/v1/json?query=M4E%2C+Toronto%2C+Ontario&key=13aa077d21ae42f287ec8607e07b2159&limit=1\n"
     ]
    },
    {
     "name": "stdout",
     "output_type": "stream",
     "text": [
      "Trying for M4E\n"
     ]
    },
    {
     "name": "stderr",
     "output_type": "stream",
     "text": [
      "Status code 401 from http://api.opencagedata.com/geocode/v1/json: ERROR - 401 Client Error: Unauthorized for url: http://api.opencagedata.com/geocode/v1/json?query=M4E%2C+Toronto%2C+Ontario&key=13aa077d21ae42f287ec8607e07b2159&limit=1\n"
     ]
    },
    {
     "name": "stdout",
     "output_type": "stream",
     "text": [
      "Trying for M4E\n"
     ]
    },
    {
     "name": "stderr",
     "output_type": "stream",
     "text": [
      "Status code 401 from http://api.opencagedata.com/geocode/v1/json: ERROR - 401 Client Error: Unauthorized for url: http://api.opencagedata.com/geocode/v1/json?query=M4E%2C+Toronto%2C+Ontario&key=13aa077d21ae42f287ec8607e07b2159&limit=1\n"
     ]
    },
    {
     "name": "stdout",
     "output_type": "stream",
     "text": [
      "Trying for M4E\n"
     ]
    },
    {
     "name": "stderr",
     "output_type": "stream",
     "text": [
      "Status code 401 from http://api.opencagedata.com/geocode/v1/json: ERROR - 401 Client Error: Unauthorized for url: http://api.opencagedata.com/geocode/v1/json?query=M4E%2C+Toronto%2C+Ontario&key=13aa077d21ae42f287ec8607e07b2159&limit=1\n"
     ]
    },
    {
     "name": "stdout",
     "output_type": "stream",
     "text": [
      "Trying for M4E\n"
     ]
    },
    {
     "name": "stderr",
     "output_type": "stream",
     "text": [
      "Status code 401 from http://api.opencagedata.com/geocode/v1/json: ERROR - 401 Client Error: Unauthorized for url: http://api.opencagedata.com/geocode/v1/json?query=M4E%2C+Toronto%2C+Ontario&key=13aa077d21ae42f287ec8607e07b2159&limit=1\n"
     ]
    },
    {
     "name": "stdout",
     "output_type": "stream",
     "text": [
      "Trying for M4E\n"
     ]
    },
    {
     "name": "stderr",
     "output_type": "stream",
     "text": [
      "Status code 401 from http://api.opencagedata.com/geocode/v1/json: ERROR - 401 Client Error: Unauthorized for url: http://api.opencagedata.com/geocode/v1/json?query=M4E%2C+Toronto%2C+Ontario&key=13aa077d21ae42f287ec8607e07b2159&limit=1\n"
     ]
    },
    {
     "name": "stdout",
     "output_type": "stream",
     "text": [
      "Trying for M4E\n"
     ]
    },
    {
     "name": "stderr",
     "output_type": "stream",
     "text": [
      "Status code 401 from http://api.opencagedata.com/geocode/v1/json: ERROR - 401 Client Error: Unauthorized for url: http://api.opencagedata.com/geocode/v1/json?query=M4E%2C+Toronto%2C+Ontario&key=13aa077d21ae42f287ec8607e07b2159&limit=1\n"
     ]
    },
    {
     "name": "stdout",
     "output_type": "stream",
     "text": [
      "Trying for M4E\n"
     ]
    },
    {
     "name": "stderr",
     "output_type": "stream",
     "text": [
      "Status code 401 from http://api.opencagedata.com/geocode/v1/json: ERROR - 401 Client Error: Unauthorized for url: http://api.opencagedata.com/geocode/v1/json?query=M4E%2C+Toronto%2C+Ontario&key=13aa077d21ae42f287ec8607e07b2159&limit=1\n"
     ]
    },
    {
     "name": "stdout",
     "output_type": "stream",
     "text": [
      "Trying for M4E\n"
     ]
    },
    {
     "name": "stderr",
     "output_type": "stream",
     "text": [
      "Status code 401 from http://api.opencagedata.com/geocode/v1/json: ERROR - 401 Client Error: Unauthorized for url: http://api.opencagedata.com/geocode/v1/json?query=M4E%2C+Toronto%2C+Ontario&key=13aa077d21ae42f287ec8607e07b2159&limit=1\n"
     ]
    },
    {
     "name": "stdout",
     "output_type": "stream",
     "text": [
      "Trying for M4E\n"
     ]
    },
    {
     "name": "stderr",
     "output_type": "stream",
     "text": [
      "Status code 401 from http://api.opencagedata.com/geocode/v1/json: ERROR - 401 Client Error: Unauthorized for url: http://api.opencagedata.com/geocode/v1/json?query=M4E%2C+Toronto%2C+Ontario&key=13aa077d21ae42f287ec8607e07b2159&limit=1\n"
     ]
    },
    {
     "name": "stdout",
     "output_type": "stream",
     "text": [
      "Trying for M4E\n"
     ]
    },
    {
     "name": "stderr",
     "output_type": "stream",
     "text": [
      "Status code 401 from http://api.opencagedata.com/geocode/v1/json: ERROR - 401 Client Error: Unauthorized for url: http://api.opencagedata.com/geocode/v1/json?query=M4E%2C+Toronto%2C+Ontario&key=13aa077d21ae42f287ec8607e07b2159&limit=1\n"
     ]
    },
    {
     "name": "stdout",
     "output_type": "stream",
     "text": [
      "Trying for M4E\n"
     ]
    },
    {
     "name": "stderr",
     "output_type": "stream",
     "text": [
      "Status code 401 from http://api.opencagedata.com/geocode/v1/json: ERROR - 401 Client Error: Unauthorized for url: http://api.opencagedata.com/geocode/v1/json?query=M4E%2C+Toronto%2C+Ontario&key=13aa077d21ae42f287ec8607e07b2159&limit=1\n"
     ]
    },
    {
     "name": "stdout",
     "output_type": "stream",
     "text": [
      "Trying for M4E\n"
     ]
    },
    {
     "name": "stderr",
     "output_type": "stream",
     "text": [
      "Status code 401 from http://api.opencagedata.com/geocode/v1/json: ERROR - 401 Client Error: Unauthorized for url: http://api.opencagedata.com/geocode/v1/json?query=M4E%2C+Toronto%2C+Ontario&key=13aa077d21ae42f287ec8607e07b2159&limit=1\n"
     ]
    },
    {
     "name": "stdout",
     "output_type": "stream",
     "text": [
      "Trying for M4E\n"
     ]
    },
    {
     "name": "stderr",
     "output_type": "stream",
     "text": [
      "Status code 401 from http://api.opencagedata.com/geocode/v1/json: ERROR - 401 Client Error: Unauthorized for url: http://api.opencagedata.com/geocode/v1/json?query=M4E%2C+Toronto%2C+Ontario&key=13aa077d21ae42f287ec8607e07b2159&limit=1\n"
     ]
    },
    {
     "name": "stdout",
     "output_type": "stream",
     "text": [
      "Trying for M4E\n"
     ]
    },
    {
     "name": "stderr",
     "output_type": "stream",
     "text": [
      "Status code 401 from http://api.opencagedata.com/geocode/v1/json: ERROR - 401 Client Error: Unauthorized for url: http://api.opencagedata.com/geocode/v1/json?query=M4E%2C+Toronto%2C+Ontario&key=13aa077d21ae42f287ec8607e07b2159&limit=1\n"
     ]
    },
    {
     "name": "stdout",
     "output_type": "stream",
     "text": [
      "Trying for M4E\n"
     ]
    },
    {
     "name": "stderr",
     "output_type": "stream",
     "text": [
      "Status code 401 from http://api.opencagedata.com/geocode/v1/json: ERROR - 401 Client Error: Unauthorized for url: http://api.opencagedata.com/geocode/v1/json?query=M4E%2C+Toronto%2C+Ontario&key=13aa077d21ae42f287ec8607e07b2159&limit=1\n"
     ]
    },
    {
     "name": "stdout",
     "output_type": "stream",
     "text": [
      "Trying for M4E\n"
     ]
    },
    {
     "name": "stderr",
     "output_type": "stream",
     "text": [
      "Status code 401 from http://api.opencagedata.com/geocode/v1/json: ERROR - 401 Client Error: Unauthorized for url: http://api.opencagedata.com/geocode/v1/json?query=M4E%2C+Toronto%2C+Ontario&key=13aa077d21ae42f287ec8607e07b2159&limit=1\n"
     ]
    },
    {
     "name": "stdout",
     "output_type": "stream",
     "text": [
      "Trying for M4E\n"
     ]
    },
    {
     "name": "stderr",
     "output_type": "stream",
     "text": [
      "Status code 401 from http://api.opencagedata.com/geocode/v1/json: ERROR - 401 Client Error: Unauthorized for url: http://api.opencagedata.com/geocode/v1/json?query=M4E%2C+Toronto%2C+Ontario&key=13aa077d21ae42f287ec8607e07b2159&limit=1\n"
     ]
    },
    {
     "name": "stdout",
     "output_type": "stream",
     "text": [
      "Trying for M4E\n"
     ]
    },
    {
     "name": "stderr",
     "output_type": "stream",
     "text": [
      "Status code 401 from http://api.opencagedata.com/geocode/v1/json: ERROR - 401 Client Error: Unauthorized for url: http://api.opencagedata.com/geocode/v1/json?query=M4E%2C+Toronto%2C+Ontario&key=13aa077d21ae42f287ec8607e07b2159&limit=1\n"
     ]
    },
    {
     "name": "stdout",
     "output_type": "stream",
     "text": [
      "Trying for M4E\n"
     ]
    },
    {
     "name": "stderr",
     "output_type": "stream",
     "text": [
      "Status code 401 from http://api.opencagedata.com/geocode/v1/json: ERROR - 401 Client Error: Unauthorized for url: http://api.opencagedata.com/geocode/v1/json?query=M4E%2C+Toronto%2C+Ontario&key=13aa077d21ae42f287ec8607e07b2159&limit=1\n"
     ]
    },
    {
     "name": "stdout",
     "output_type": "stream",
     "text": [
      "Trying for M4E\n"
     ]
    },
    {
     "name": "stderr",
     "output_type": "stream",
     "text": [
      "Status code 401 from http://api.opencagedata.com/geocode/v1/json: ERROR - 401 Client Error: Unauthorized for url: http://api.opencagedata.com/geocode/v1/json?query=M4E%2C+Toronto%2C+Ontario&key=13aa077d21ae42f287ec8607e07b2159&limit=1\n"
     ]
    },
    {
     "name": "stdout",
     "output_type": "stream",
     "text": [
      "Trying for M4E\n"
     ]
    },
    {
     "name": "stderr",
     "output_type": "stream",
     "text": [
      "Status code 401 from http://api.opencagedata.com/geocode/v1/json: ERROR - 401 Client Error: Unauthorized for url: http://api.opencagedata.com/geocode/v1/json?query=M4E%2C+Toronto%2C+Ontario&key=13aa077d21ae42f287ec8607e07b2159&limit=1\n"
     ]
    },
    {
     "name": "stdout",
     "output_type": "stream",
     "text": [
      "Trying for M4E\n"
     ]
    },
    {
     "name": "stderr",
     "output_type": "stream",
     "text": [
      "Status code 401 from http://api.opencagedata.com/geocode/v1/json: ERROR - 401 Client Error: Unauthorized for url: http://api.opencagedata.com/geocode/v1/json?query=M4E%2C+Toronto%2C+Ontario&key=13aa077d21ae42f287ec8607e07b2159&limit=1\n"
     ]
    },
    {
     "name": "stdout",
     "output_type": "stream",
     "text": [
      "Trying for M4E\n"
     ]
    },
    {
     "name": "stderr",
     "output_type": "stream",
     "text": [
      "Status code 401 from http://api.opencagedata.com/geocode/v1/json: ERROR - 401 Client Error: Unauthorized for url: http://api.opencagedata.com/geocode/v1/json?query=M4E%2C+Toronto%2C+Ontario&key=13aa077d21ae42f287ec8607e07b2159&limit=1\n"
     ]
    },
    {
     "name": "stdout",
     "output_type": "stream",
     "text": [
      "Trying for M4E\n"
     ]
    },
    {
     "name": "stderr",
     "output_type": "stream",
     "text": [
      "Status code 401 from http://api.opencagedata.com/geocode/v1/json: ERROR - 401 Client Error: Unauthorized for url: http://api.opencagedata.com/geocode/v1/json?query=M4E%2C+Toronto%2C+Ontario&key=13aa077d21ae42f287ec8607e07b2159&limit=1\n"
     ]
    },
    {
     "name": "stdout",
     "output_type": "stream",
     "text": [
      "Trying for M4E\n"
     ]
    },
    {
     "name": "stderr",
     "output_type": "stream",
     "text": [
      "Status code 401 from http://api.opencagedata.com/geocode/v1/json: ERROR - 401 Client Error: Unauthorized for url: http://api.opencagedata.com/geocode/v1/json?query=M4E%2C+Toronto%2C+Ontario&key=13aa077d21ae42f287ec8607e07b2159&limit=1\n"
     ]
    },
    {
     "name": "stdout",
     "output_type": "stream",
     "text": [
      "Trying for M4E\n"
     ]
    },
    {
     "name": "stderr",
     "output_type": "stream",
     "text": [
      "Status code 401 from http://api.opencagedata.com/geocode/v1/json: ERROR - 401 Client Error: Unauthorized for url: http://api.opencagedata.com/geocode/v1/json?query=M4E%2C+Toronto%2C+Ontario&key=13aa077d21ae42f287ec8607e07b2159&limit=1\n"
     ]
    },
    {
     "name": "stdout",
     "output_type": "stream",
     "text": [
      "Trying for M4E\n"
     ]
    },
    {
     "name": "stderr",
     "output_type": "stream",
     "text": [
      "Status code 401 from http://api.opencagedata.com/geocode/v1/json: ERROR - 401 Client Error: Unauthorized for url: http://api.opencagedata.com/geocode/v1/json?query=M4E%2C+Toronto%2C+Ontario&key=13aa077d21ae42f287ec8607e07b2159&limit=1\n"
     ]
    },
    {
     "name": "stdout",
     "output_type": "stream",
     "text": [
      "Trying for M4E\n"
     ]
    },
    {
     "name": "stderr",
     "output_type": "stream",
     "text": [
      "Status code 401 from http://api.opencagedata.com/geocode/v1/json: ERROR - 401 Client Error: Unauthorized for url: http://api.opencagedata.com/geocode/v1/json?query=M4E%2C+Toronto%2C+Ontario&key=13aa077d21ae42f287ec8607e07b2159&limit=1\n"
     ]
    },
    {
     "name": "stdout",
     "output_type": "stream",
     "text": [
      "Trying for M4E\n"
     ]
    },
    {
     "name": "stderr",
     "output_type": "stream",
     "text": [
      "Status code 401 from http://api.opencagedata.com/geocode/v1/json: ERROR - 401 Client Error: Unauthorized for url: http://api.opencagedata.com/geocode/v1/json?query=M4E%2C+Toronto%2C+Ontario&key=13aa077d21ae42f287ec8607e07b2159&limit=1\n"
     ]
    },
    {
     "name": "stdout",
     "output_type": "stream",
     "text": [
      "Trying for M4E\n"
     ]
    },
    {
     "name": "stderr",
     "output_type": "stream",
     "text": [
      "Status code 401 from http://api.opencagedata.com/geocode/v1/json: ERROR - 401 Client Error: Unauthorized for url: http://api.opencagedata.com/geocode/v1/json?query=M4E%2C+Toronto%2C+Ontario&key=13aa077d21ae42f287ec8607e07b2159&limit=1\n"
     ]
    },
    {
     "name": "stdout",
     "output_type": "stream",
     "text": [
      "Trying for M4E\n"
     ]
    },
    {
     "name": "stderr",
     "output_type": "stream",
     "text": [
      "Status code 401 from http://api.opencagedata.com/geocode/v1/json: ERROR - 401 Client Error: Unauthorized for url: http://api.opencagedata.com/geocode/v1/json?query=M4E%2C+Toronto%2C+Ontario&key=13aa077d21ae42f287ec8607e07b2159&limit=1\n"
     ]
    },
    {
     "name": "stdout",
     "output_type": "stream",
     "text": [
      "Trying for M4E\n"
     ]
    },
    {
     "name": "stderr",
     "output_type": "stream",
     "text": [
      "Status code 401 from http://api.opencagedata.com/geocode/v1/json: ERROR - 401 Client Error: Unauthorized for url: http://api.opencagedata.com/geocode/v1/json?query=M4E%2C+Toronto%2C+Ontario&key=13aa077d21ae42f287ec8607e07b2159&limit=1\n"
     ]
    },
    {
     "name": "stdout",
     "output_type": "stream",
     "text": [
      "Trying for M4E\n"
     ]
    },
    {
     "name": "stderr",
     "output_type": "stream",
     "text": [
      "Status code 401 from http://api.opencagedata.com/geocode/v1/json: ERROR - 401 Client Error: Unauthorized for url: http://api.opencagedata.com/geocode/v1/json?query=M4E%2C+Toronto%2C+Ontario&key=13aa077d21ae42f287ec8607e07b2159&limit=1\n"
     ]
    },
    {
     "name": "stdout",
     "output_type": "stream",
     "text": [
      "Trying for M4E\n"
     ]
    },
    {
     "name": "stderr",
     "output_type": "stream",
     "text": [
      "Status code 401 from http://api.opencagedata.com/geocode/v1/json: ERROR - 401 Client Error: Unauthorized for url: http://api.opencagedata.com/geocode/v1/json?query=M4E%2C+Toronto%2C+Ontario&key=13aa077d21ae42f287ec8607e07b2159&limit=1\n"
     ]
    },
    {
     "name": "stdout",
     "output_type": "stream",
     "text": [
      "Trying for M4E\n"
     ]
    },
    {
     "name": "stderr",
     "output_type": "stream",
     "text": [
      "Status code 401 from http://api.opencagedata.com/geocode/v1/json: ERROR - 401 Client Error: Unauthorized for url: http://api.opencagedata.com/geocode/v1/json?query=M4E%2C+Toronto%2C+Ontario&key=13aa077d21ae42f287ec8607e07b2159&limit=1\n"
     ]
    },
    {
     "name": "stdout",
     "output_type": "stream",
     "text": [
      "Trying for M4E\n"
     ]
    },
    {
     "name": "stderr",
     "output_type": "stream",
     "text": [
      "Status code 401 from http://api.opencagedata.com/geocode/v1/json: ERROR - 401 Client Error: Unauthorized for url: http://api.opencagedata.com/geocode/v1/json?query=M4E%2C+Toronto%2C+Ontario&key=13aa077d21ae42f287ec8607e07b2159&limit=1\n"
     ]
    },
    {
     "name": "stdout",
     "output_type": "stream",
     "text": [
      "Trying for M4E\n"
     ]
    },
    {
     "name": "stderr",
     "output_type": "stream",
     "text": [
      "Status code 401 from http://api.opencagedata.com/geocode/v1/json: ERROR - 401 Client Error: Unauthorized for url: http://api.opencagedata.com/geocode/v1/json?query=M4E%2C+Toronto%2C+Ontario&key=13aa077d21ae42f287ec8607e07b2159&limit=1\n"
     ]
    },
    {
     "name": "stdout",
     "output_type": "stream",
     "text": [
      "Trying for M4E\n"
     ]
    },
    {
     "name": "stderr",
     "output_type": "stream",
     "text": [
      "Status code 401 from http://api.opencagedata.com/geocode/v1/json: ERROR - 401 Client Error: Unauthorized for url: http://api.opencagedata.com/geocode/v1/json?query=M4E%2C+Toronto%2C+Ontario&key=13aa077d21ae42f287ec8607e07b2159&limit=1\n"
     ]
    },
    {
     "name": "stdout",
     "output_type": "stream",
     "text": [
      "Trying for M4E\n"
     ]
    },
    {
     "name": "stderr",
     "output_type": "stream",
     "text": [
      "Status code 401 from http://api.opencagedata.com/geocode/v1/json: ERROR - 401 Client Error: Unauthorized for url: http://api.opencagedata.com/geocode/v1/json?query=M4E%2C+Toronto%2C+Ontario&key=13aa077d21ae42f287ec8607e07b2159&limit=1\n"
     ]
    },
    {
     "name": "stdout",
     "output_type": "stream",
     "text": [
      "Trying for M4E\n"
     ]
    },
    {
     "name": "stderr",
     "output_type": "stream",
     "text": [
      "Status code 401 from http://api.opencagedata.com/geocode/v1/json: ERROR - 401 Client Error: Unauthorized for url: http://api.opencagedata.com/geocode/v1/json?query=M4E%2C+Toronto%2C+Ontario&key=13aa077d21ae42f287ec8607e07b2159&limit=1\n"
     ]
    },
    {
     "name": "stdout",
     "output_type": "stream",
     "text": [
      "Trying for M4E\n"
     ]
    },
    {
     "name": "stderr",
     "output_type": "stream",
     "text": [
      "Status code 401 from http://api.opencagedata.com/geocode/v1/json: ERROR - 401 Client Error: Unauthorized for url: http://api.opencagedata.com/geocode/v1/json?query=M4E%2C+Toronto%2C+Ontario&key=13aa077d21ae42f287ec8607e07b2159&limit=1\n"
     ]
    },
    {
     "name": "stdout",
     "output_type": "stream",
     "text": [
      "Trying for M4E\n"
     ]
    },
    {
     "name": "stderr",
     "output_type": "stream",
     "text": [
      "Status code 401 from http://api.opencagedata.com/geocode/v1/json: ERROR - 401 Client Error: Unauthorized for url: http://api.opencagedata.com/geocode/v1/json?query=M4E%2C+Toronto%2C+Ontario&key=13aa077d21ae42f287ec8607e07b2159&limit=1\n"
     ]
    },
    {
     "name": "stdout",
     "output_type": "stream",
     "text": [
      "Trying for M4E\n"
     ]
    },
    {
     "name": "stderr",
     "output_type": "stream",
     "text": [
      "Status code 401 from http://api.opencagedata.com/geocode/v1/json: ERROR - 401 Client Error: Unauthorized for url: http://api.opencagedata.com/geocode/v1/json?query=M4E%2C+Toronto%2C+Ontario&key=13aa077d21ae42f287ec8607e07b2159&limit=1\n"
     ]
    },
    {
     "name": "stdout",
     "output_type": "stream",
     "text": [
      "Trying for M4E\n"
     ]
    },
    {
     "name": "stderr",
     "output_type": "stream",
     "text": [
      "Status code 401 from http://api.opencagedata.com/geocode/v1/json: ERROR - 401 Client Error: Unauthorized for url: http://api.opencagedata.com/geocode/v1/json?query=M4E%2C+Toronto%2C+Ontario&key=13aa077d21ae42f287ec8607e07b2159&limit=1\n"
     ]
    },
    {
     "name": "stdout",
     "output_type": "stream",
     "text": [
      "Trying for M4E\n"
     ]
    },
    {
     "name": "stderr",
     "output_type": "stream",
     "text": [
      "Status code 401 from http://api.opencagedata.com/geocode/v1/json: ERROR - 401 Client Error: Unauthorized for url: http://api.opencagedata.com/geocode/v1/json?query=M4E%2C+Toronto%2C+Ontario&key=13aa077d21ae42f287ec8607e07b2159&limit=1\n"
     ]
    },
    {
     "name": "stdout",
     "output_type": "stream",
     "text": [
      "Trying for M4E\n"
     ]
    },
    {
     "name": "stderr",
     "output_type": "stream",
     "text": [
      "Status code 401 from http://api.opencagedata.com/geocode/v1/json: ERROR - 401 Client Error: Unauthorized for url: http://api.opencagedata.com/geocode/v1/json?query=M4E%2C+Toronto%2C+Ontario&key=13aa077d21ae42f287ec8607e07b2159&limit=1\n"
     ]
    },
    {
     "name": "stdout",
     "output_type": "stream",
     "text": [
      "Trying for M4E\n"
     ]
    },
    {
     "name": "stderr",
     "output_type": "stream",
     "text": [
      "Status code 401 from http://api.opencagedata.com/geocode/v1/json: ERROR - 401 Client Error: Unauthorized for url: http://api.opencagedata.com/geocode/v1/json?query=M4E%2C+Toronto%2C+Ontario&key=13aa077d21ae42f287ec8607e07b2159&limit=1\n"
     ]
    },
    {
     "name": "stdout",
     "output_type": "stream",
     "text": [
      "Trying for M4E\n"
     ]
    },
    {
     "name": "stderr",
     "output_type": "stream",
     "text": [
      "Status code 401 from http://api.opencagedata.com/geocode/v1/json: ERROR - 401 Client Error: Unauthorized for url: http://api.opencagedata.com/geocode/v1/json?query=M4E%2C+Toronto%2C+Ontario&key=13aa077d21ae42f287ec8607e07b2159&limit=1\n"
     ]
    },
    {
     "name": "stdout",
     "output_type": "stream",
     "text": [
      "Trying for M4E\n"
     ]
    },
    {
     "name": "stderr",
     "output_type": "stream",
     "text": [
      "Status code 401 from http://api.opencagedata.com/geocode/v1/json: ERROR - 401 Client Error: Unauthorized for url: http://api.opencagedata.com/geocode/v1/json?query=M4E%2C+Toronto%2C+Ontario&key=13aa077d21ae42f287ec8607e07b2159&limit=1\n"
     ]
    },
    {
     "name": "stdout",
     "output_type": "stream",
     "text": [
      "Trying for M4E\n"
     ]
    },
    {
     "name": "stderr",
     "output_type": "stream",
     "text": [
      "Status code 401 from http://api.opencagedata.com/geocode/v1/json: ERROR - 401 Client Error: Unauthorized for url: http://api.opencagedata.com/geocode/v1/json?query=M4E%2C+Toronto%2C+Ontario&key=13aa077d21ae42f287ec8607e07b2159&limit=1\n"
     ]
    },
    {
     "name": "stdout",
     "output_type": "stream",
     "text": [
      "Trying for M4E\n"
     ]
    },
    {
     "name": "stderr",
     "output_type": "stream",
     "text": [
      "Status code 401 from http://api.opencagedata.com/geocode/v1/json: ERROR - 401 Client Error: Unauthorized for url: http://api.opencagedata.com/geocode/v1/json?query=M4E%2C+Toronto%2C+Ontario&key=13aa077d21ae42f287ec8607e07b2159&limit=1\n"
     ]
    },
    {
     "name": "stdout",
     "output_type": "stream",
     "text": [
      "Trying for M4E\n"
     ]
    },
    {
     "name": "stderr",
     "output_type": "stream",
     "text": [
      "Status code 401 from http://api.opencagedata.com/geocode/v1/json: ERROR - 401 Client Error: Unauthorized for url: http://api.opencagedata.com/geocode/v1/json?query=M4E%2C+Toronto%2C+Ontario&key=13aa077d21ae42f287ec8607e07b2159&limit=1\n"
     ]
    },
    {
     "name": "stdout",
     "output_type": "stream",
     "text": [
      "Trying for M4E\n"
     ]
    },
    {
     "name": "stderr",
     "output_type": "stream",
     "text": [
      "Status code 401 from http://api.opencagedata.com/geocode/v1/json: ERROR - 401 Client Error: Unauthorized for url: http://api.opencagedata.com/geocode/v1/json?query=M4E%2C+Toronto%2C+Ontario&key=13aa077d21ae42f287ec8607e07b2159&limit=1\n"
     ]
    },
    {
     "name": "stdout",
     "output_type": "stream",
     "text": [
      "Trying for M4E\n"
     ]
    },
    {
     "name": "stderr",
     "output_type": "stream",
     "text": [
      "Status code 401 from http://api.opencagedata.com/geocode/v1/json: ERROR - 401 Client Error: Unauthorized for url: http://api.opencagedata.com/geocode/v1/json?query=M4E%2C+Toronto%2C+Ontario&key=13aa077d21ae42f287ec8607e07b2159&limit=1\n"
     ]
    },
    {
     "name": "stdout",
     "output_type": "stream",
     "text": [
      "Trying for M4E\n"
     ]
    },
    {
     "name": "stderr",
     "output_type": "stream",
     "text": [
      "Status code 401 from http://api.opencagedata.com/geocode/v1/json: ERROR - 401 Client Error: Unauthorized for url: http://api.opencagedata.com/geocode/v1/json?query=M4E%2C+Toronto%2C+Ontario&key=13aa077d21ae42f287ec8607e07b2159&limit=1\n"
     ]
    },
    {
     "name": "stdout",
     "output_type": "stream",
     "text": [
      "Trying for M4E\n"
     ]
    },
    {
     "name": "stderr",
     "output_type": "stream",
     "text": [
      "Status code 401 from http://api.opencagedata.com/geocode/v1/json: ERROR - 401 Client Error: Unauthorized for url: http://api.opencagedata.com/geocode/v1/json?query=M4E%2C+Toronto%2C+Ontario&key=13aa077d21ae42f287ec8607e07b2159&limit=1\n"
     ]
    },
    {
     "name": "stdout",
     "output_type": "stream",
     "text": [
      "Trying for M4E\n"
     ]
    },
    {
     "name": "stderr",
     "output_type": "stream",
     "text": [
      "Status code 401 from http://api.opencagedata.com/geocode/v1/json: ERROR - 401 Client Error: Unauthorized for url: http://api.opencagedata.com/geocode/v1/json?query=M4E%2C+Toronto%2C+Ontario&key=13aa077d21ae42f287ec8607e07b2159&limit=1\n"
     ]
    },
    {
     "name": "stdout",
     "output_type": "stream",
     "text": [
      "Trying for M4E\n"
     ]
    },
    {
     "name": "stderr",
     "output_type": "stream",
     "text": [
      "Status code 401 from http://api.opencagedata.com/geocode/v1/json: ERROR - 401 Client Error: Unauthorized for url: http://api.opencagedata.com/geocode/v1/json?query=M4E%2C+Toronto%2C+Ontario&key=13aa077d21ae42f287ec8607e07b2159&limit=1\n"
     ]
    },
    {
     "name": "stdout",
     "output_type": "stream",
     "text": [
      "Trying for M4E\n"
     ]
    },
    {
     "name": "stderr",
     "output_type": "stream",
     "text": [
      "Status code 401 from http://api.opencagedata.com/geocode/v1/json: ERROR - 401 Client Error: Unauthorized for url: http://api.opencagedata.com/geocode/v1/json?query=M4E%2C+Toronto%2C+Ontario&key=13aa077d21ae42f287ec8607e07b2159&limit=1\n"
     ]
    },
    {
     "name": "stdout",
     "output_type": "stream",
     "text": [
      "Trying for M4E\n"
     ]
    },
    {
     "name": "stderr",
     "output_type": "stream",
     "text": [
      "Status code 401 from http://api.opencagedata.com/geocode/v1/json: ERROR - 401 Client Error: Unauthorized for url: http://api.opencagedata.com/geocode/v1/json?query=M4E%2C+Toronto%2C+Ontario&key=13aa077d21ae42f287ec8607e07b2159&limit=1\n"
     ]
    },
    {
     "name": "stdout",
     "output_type": "stream",
     "text": [
      "Trying for M4E\n"
     ]
    },
    {
     "name": "stderr",
     "output_type": "stream",
     "text": [
      "Status code 401 from http://api.opencagedata.com/geocode/v1/json: ERROR - 401 Client Error: Unauthorized for url: http://api.opencagedata.com/geocode/v1/json?query=M4E%2C+Toronto%2C+Ontario&key=13aa077d21ae42f287ec8607e07b2159&limit=1\n"
     ]
    },
    {
     "name": "stdout",
     "output_type": "stream",
     "text": [
      "Trying for M4E\n"
     ]
    },
    {
     "name": "stderr",
     "output_type": "stream",
     "text": [
      "Status code 401 from http://api.opencagedata.com/geocode/v1/json: ERROR - 401 Client Error: Unauthorized for url: http://api.opencagedata.com/geocode/v1/json?query=M4E%2C+Toronto%2C+Ontario&key=13aa077d21ae42f287ec8607e07b2159&limit=1\n"
     ]
    },
    {
     "name": "stdout",
     "output_type": "stream",
     "text": [
      "Trying for M4E\n"
     ]
    },
    {
     "name": "stderr",
     "output_type": "stream",
     "text": [
      "Status code 401 from http://api.opencagedata.com/geocode/v1/json: ERROR - 401 Client Error: Unauthorized for url: http://api.opencagedata.com/geocode/v1/json?query=M4E%2C+Toronto%2C+Ontario&key=13aa077d21ae42f287ec8607e07b2159&limit=1\n"
     ]
    },
    {
     "name": "stdout",
     "output_type": "stream",
     "text": [
      "Trying for M4E\n"
     ]
    },
    {
     "name": "stderr",
     "output_type": "stream",
     "text": [
      "Status code 401 from http://api.opencagedata.com/geocode/v1/json: ERROR - 401 Client Error: Unauthorized for url: http://api.opencagedata.com/geocode/v1/json?query=M4E%2C+Toronto%2C+Ontario&key=13aa077d21ae42f287ec8607e07b2159&limit=1\n"
     ]
    },
    {
     "name": "stdout",
     "output_type": "stream",
     "text": [
      "Trying for M4E\n"
     ]
    },
    {
     "name": "stderr",
     "output_type": "stream",
     "text": [
      "Status code 401 from http://api.opencagedata.com/geocode/v1/json: ERROR - 401 Client Error: Unauthorized for url: http://api.opencagedata.com/geocode/v1/json?query=M4E%2C+Toronto%2C+Ontario&key=13aa077d21ae42f287ec8607e07b2159&limit=1\n"
     ]
    },
    {
     "name": "stdout",
     "output_type": "stream",
     "text": [
      "Trying for M4E\n"
     ]
    },
    {
     "name": "stderr",
     "output_type": "stream",
     "text": [
      "Status code 401 from http://api.opencagedata.com/geocode/v1/json: ERROR - 401 Client Error: Unauthorized for url: http://api.opencagedata.com/geocode/v1/json?query=M4E%2C+Toronto%2C+Ontario&key=13aa077d21ae42f287ec8607e07b2159&limit=1\n"
     ]
    },
    {
     "name": "stdout",
     "output_type": "stream",
     "text": [
      "Trying for M4E\n"
     ]
    },
    {
     "name": "stderr",
     "output_type": "stream",
     "text": [
      "Status code 401 from http://api.opencagedata.com/geocode/v1/json: ERROR - 401 Client Error: Unauthorized for url: http://api.opencagedata.com/geocode/v1/json?query=M4E%2C+Toronto%2C+Ontario&key=13aa077d21ae42f287ec8607e07b2159&limit=1\n"
     ]
    },
    {
     "name": "stdout",
     "output_type": "stream",
     "text": [
      "Trying for M4E\n"
     ]
    },
    {
     "name": "stderr",
     "output_type": "stream",
     "text": [
      "Status code 401 from http://api.opencagedata.com/geocode/v1/json: ERROR - 401 Client Error: Unauthorized for url: http://api.opencagedata.com/geocode/v1/json?query=M4E%2C+Toronto%2C+Ontario&key=13aa077d21ae42f287ec8607e07b2159&limit=1\n"
     ]
    },
    {
     "name": "stdout",
     "output_type": "stream",
     "text": [
      "Trying for M4E\n"
     ]
    },
    {
     "name": "stderr",
     "output_type": "stream",
     "text": [
      "Status code 401 from http://api.opencagedata.com/geocode/v1/json: ERROR - 401 Client Error: Unauthorized for url: http://api.opencagedata.com/geocode/v1/json?query=M4E%2C+Toronto%2C+Ontario&key=13aa077d21ae42f287ec8607e07b2159&limit=1\n"
     ]
    },
    {
     "name": "stdout",
     "output_type": "stream",
     "text": [
      "Trying for M4E\n"
     ]
    },
    {
     "name": "stderr",
     "output_type": "stream",
     "text": [
      "Status code 401 from http://api.opencagedata.com/geocode/v1/json: ERROR - 401 Client Error: Unauthorized for url: http://api.opencagedata.com/geocode/v1/json?query=M4E%2C+Toronto%2C+Ontario&key=13aa077d21ae42f287ec8607e07b2159&limit=1\n"
     ]
    },
    {
     "name": "stdout",
     "output_type": "stream",
     "text": [
      "Trying for M4E\n"
     ]
    },
    {
     "name": "stderr",
     "output_type": "stream",
     "text": [
      "Status code 401 from http://api.opencagedata.com/geocode/v1/json: ERROR - 401 Client Error: Unauthorized for url: http://api.opencagedata.com/geocode/v1/json?query=M4E%2C+Toronto%2C+Ontario&key=13aa077d21ae42f287ec8607e07b2159&limit=1\n"
     ]
    },
    {
     "name": "stdout",
     "output_type": "stream",
     "text": [
      "Trying for M4E\n"
     ]
    },
    {
     "name": "stderr",
     "output_type": "stream",
     "text": [
      "Status code 401 from http://api.opencagedata.com/geocode/v1/json: ERROR - 401 Client Error: Unauthorized for url: http://api.opencagedata.com/geocode/v1/json?query=M4E%2C+Toronto%2C+Ontario&key=13aa077d21ae42f287ec8607e07b2159&limit=1\n"
     ]
    },
    {
     "name": "stdout",
     "output_type": "stream",
     "text": [
      "Trying for M4E\n"
     ]
    },
    {
     "name": "stderr",
     "output_type": "stream",
     "text": [
      "Status code 401 from http://api.opencagedata.com/geocode/v1/json: ERROR - 401 Client Error: Unauthorized for url: http://api.opencagedata.com/geocode/v1/json?query=M4E%2C+Toronto%2C+Ontario&key=13aa077d21ae42f287ec8607e07b2159&limit=1\n"
     ]
    },
    {
     "name": "stdout",
     "output_type": "stream",
     "text": [
      "Trying for M4E\n"
     ]
    },
    {
     "name": "stderr",
     "output_type": "stream",
     "text": [
      "Status code 401 from http://api.opencagedata.com/geocode/v1/json: ERROR - 401 Client Error: Unauthorized for url: http://api.opencagedata.com/geocode/v1/json?query=M4E%2C+Toronto%2C+Ontario&key=13aa077d21ae42f287ec8607e07b2159&limit=1\n"
     ]
    },
    {
     "name": "stdout",
     "output_type": "stream",
     "text": [
      "Trying for M4E\n"
     ]
    },
    {
     "name": "stderr",
     "output_type": "stream",
     "text": [
      "Status code 401 from http://api.opencagedata.com/geocode/v1/json: ERROR - 401 Client Error: Unauthorized for url: http://api.opencagedata.com/geocode/v1/json?query=M4E%2C+Toronto%2C+Ontario&key=13aa077d21ae42f287ec8607e07b2159&limit=1\n"
     ]
    },
    {
     "name": "stdout",
     "output_type": "stream",
     "text": [
      "Trying for M4E\n"
     ]
    },
    {
     "name": "stderr",
     "output_type": "stream",
     "text": [
      "Status code 401 from http://api.opencagedata.com/geocode/v1/json: ERROR - 401 Client Error: Unauthorized for url: http://api.opencagedata.com/geocode/v1/json?query=M4E%2C+Toronto%2C+Ontario&key=13aa077d21ae42f287ec8607e07b2159&limit=1\n"
     ]
    },
    {
     "name": "stdout",
     "output_type": "stream",
     "text": [
      "Trying for M4E\n"
     ]
    },
    {
     "name": "stderr",
     "output_type": "stream",
     "text": [
      "Status code 401 from http://api.opencagedata.com/geocode/v1/json: ERROR - 401 Client Error: Unauthorized for url: http://api.opencagedata.com/geocode/v1/json?query=M4E%2C+Toronto%2C+Ontario&key=13aa077d21ae42f287ec8607e07b2159&limit=1\n"
     ]
    },
    {
     "name": "stdout",
     "output_type": "stream",
     "text": [
      "Trying for M4E\n"
     ]
    },
    {
     "name": "stderr",
     "output_type": "stream",
     "text": [
      "Status code 401 from http://api.opencagedata.com/geocode/v1/json: ERROR - 401 Client Error: Unauthorized for url: http://api.opencagedata.com/geocode/v1/json?query=M4E%2C+Toronto%2C+Ontario&key=13aa077d21ae42f287ec8607e07b2159&limit=1\n"
     ]
    },
    {
     "name": "stdout",
     "output_type": "stream",
     "text": [
      "Trying for M4E\n"
     ]
    },
    {
     "name": "stderr",
     "output_type": "stream",
     "text": [
      "Status code 401 from http://api.opencagedata.com/geocode/v1/json: ERROR - 401 Client Error: Unauthorized for url: http://api.opencagedata.com/geocode/v1/json?query=M4E%2C+Toronto%2C+Ontario&key=13aa077d21ae42f287ec8607e07b2159&limit=1\n"
     ]
    },
    {
     "name": "stdout",
     "output_type": "stream",
     "text": [
      "Trying for M4E\n"
     ]
    },
    {
     "name": "stderr",
     "output_type": "stream",
     "text": [
      "Status code 401 from http://api.opencagedata.com/geocode/v1/json: ERROR - 401 Client Error: Unauthorized for url: http://api.opencagedata.com/geocode/v1/json?query=M4E%2C+Toronto%2C+Ontario&key=13aa077d21ae42f287ec8607e07b2159&limit=1\n"
     ]
    },
    {
     "name": "stdout",
     "output_type": "stream",
     "text": [
      "Trying for M4E\n"
     ]
    },
    {
     "name": "stderr",
     "output_type": "stream",
     "text": [
      "Status code 401 from http://api.opencagedata.com/geocode/v1/json: ERROR - 401 Client Error: Unauthorized for url: http://api.opencagedata.com/geocode/v1/json?query=M4E%2C+Toronto%2C+Ontario&key=13aa077d21ae42f287ec8607e07b2159&limit=1\n"
     ]
    },
    {
     "name": "stdout",
     "output_type": "stream",
     "text": [
      "Trying for M4E\n"
     ]
    },
    {
     "name": "stderr",
     "output_type": "stream",
     "text": [
      "Status code 401 from http://api.opencagedata.com/geocode/v1/json: ERROR - 401 Client Error: Unauthorized for url: http://api.opencagedata.com/geocode/v1/json?query=M4E%2C+Toronto%2C+Ontario&key=13aa077d21ae42f287ec8607e07b2159&limit=1\n"
     ]
    },
    {
     "name": "stdout",
     "output_type": "stream",
     "text": [
      "Trying for M4E\n"
     ]
    },
    {
     "name": "stderr",
     "output_type": "stream",
     "text": [
      "Status code 401 from http://api.opencagedata.com/geocode/v1/json: ERROR - 401 Client Error: Unauthorized for url: http://api.opencagedata.com/geocode/v1/json?query=M4E%2C+Toronto%2C+Ontario&key=13aa077d21ae42f287ec8607e07b2159&limit=1\n"
     ]
    },
    {
     "name": "stdout",
     "output_type": "stream",
     "text": [
      "Trying for M4E\n"
     ]
    },
    {
     "name": "stderr",
     "output_type": "stream",
     "text": [
      "Status code 401 from http://api.opencagedata.com/geocode/v1/json: ERROR - 401 Client Error: Unauthorized for url: http://api.opencagedata.com/geocode/v1/json?query=M4E%2C+Toronto%2C+Ontario&key=13aa077d21ae42f287ec8607e07b2159&limit=1\n"
     ]
    },
    {
     "name": "stdout",
     "output_type": "stream",
     "text": [
      "Trying for M4E\n"
     ]
    },
    {
     "name": "stderr",
     "output_type": "stream",
     "text": [
      "Status code 401 from http://api.opencagedata.com/geocode/v1/json: ERROR - 401 Client Error: Unauthorized for url: http://api.opencagedata.com/geocode/v1/json?query=M4E%2C+Toronto%2C+Ontario&key=13aa077d21ae42f287ec8607e07b2159&limit=1\n"
     ]
    },
    {
     "name": "stdout",
     "output_type": "stream",
     "text": [
      "Trying for M4E\n"
     ]
    },
    {
     "name": "stderr",
     "output_type": "stream",
     "text": [
      "Status code 401 from http://api.opencagedata.com/geocode/v1/json: ERROR - 401 Client Error: Unauthorized for url: http://api.opencagedata.com/geocode/v1/json?query=M4E%2C+Toronto%2C+Ontario&key=13aa077d21ae42f287ec8607e07b2159&limit=1\n"
     ]
    },
    {
     "name": "stdout",
     "output_type": "stream",
     "text": [
      "Trying for M4E\n"
     ]
    },
    {
     "name": "stderr",
     "output_type": "stream",
     "text": [
      "Status code 401 from http://api.opencagedata.com/geocode/v1/json: ERROR - 401 Client Error: Unauthorized for url: http://api.opencagedata.com/geocode/v1/json?query=M4E%2C+Toronto%2C+Ontario&key=13aa077d21ae42f287ec8607e07b2159&limit=1\n"
     ]
    },
    {
     "name": "stdout",
     "output_type": "stream",
     "text": [
      "Trying for M4E\n"
     ]
    },
    {
     "name": "stderr",
     "output_type": "stream",
     "text": [
      "Status code 401 from http://api.opencagedata.com/geocode/v1/json: ERROR - 401 Client Error: Unauthorized for url: http://api.opencagedata.com/geocode/v1/json?query=M4E%2C+Toronto%2C+Ontario&key=13aa077d21ae42f287ec8607e07b2159&limit=1\n"
     ]
    },
    {
     "name": "stdout",
     "output_type": "stream",
     "text": [
      "Trying for M4E\n"
     ]
    },
    {
     "name": "stderr",
     "output_type": "stream",
     "text": [
      "Status code 401 from http://api.opencagedata.com/geocode/v1/json: ERROR - 401 Client Error: Unauthorized for url: http://api.opencagedata.com/geocode/v1/json?query=M4E%2C+Toronto%2C+Ontario&key=13aa077d21ae42f287ec8607e07b2159&limit=1\n"
     ]
    },
    {
     "name": "stdout",
     "output_type": "stream",
     "text": [
      "Trying for M4E\n"
     ]
    },
    {
     "name": "stderr",
     "output_type": "stream",
     "text": [
      "Status code 401 from http://api.opencagedata.com/geocode/v1/json: ERROR - 401 Client Error: Unauthorized for url: http://api.opencagedata.com/geocode/v1/json?query=M4E%2C+Toronto%2C+Ontario&key=13aa077d21ae42f287ec8607e07b2159&limit=1\n"
     ]
    },
    {
     "name": "stdout",
     "output_type": "stream",
     "text": [
      "Trying for M4E\n"
     ]
    },
    {
     "name": "stderr",
     "output_type": "stream",
     "text": [
      "Status code 401 from http://api.opencagedata.com/geocode/v1/json: ERROR - 401 Client Error: Unauthorized for url: http://api.opencagedata.com/geocode/v1/json?query=M4E%2C+Toronto%2C+Ontario&key=13aa077d21ae42f287ec8607e07b2159&limit=1\n"
     ]
    },
    {
     "name": "stdout",
     "output_type": "stream",
     "text": [
      "Trying for M4E\n"
     ]
    },
    {
     "name": "stderr",
     "output_type": "stream",
     "text": [
      "Status code 401 from http://api.opencagedata.com/geocode/v1/json: ERROR - 401 Client Error: Unauthorized for url: http://api.opencagedata.com/geocode/v1/json?query=M4E%2C+Toronto%2C+Ontario&key=13aa077d21ae42f287ec8607e07b2159&limit=1\n"
     ]
    },
    {
     "name": "stdout",
     "output_type": "stream",
     "text": [
      "Trying for M4E\n"
     ]
    },
    {
     "name": "stderr",
     "output_type": "stream",
     "text": [
      "Status code 401 from http://api.opencagedata.com/geocode/v1/json: ERROR - 401 Client Error: Unauthorized for url: http://api.opencagedata.com/geocode/v1/json?query=M4E%2C+Toronto%2C+Ontario&key=13aa077d21ae42f287ec8607e07b2159&limit=1\n"
     ]
    },
    {
     "name": "stdout",
     "output_type": "stream",
     "text": [
      "Trying for M4E\n"
     ]
    },
    {
     "name": "stderr",
     "output_type": "stream",
     "text": [
      "Status code 401 from http://api.opencagedata.com/geocode/v1/json: ERROR - 401 Client Error: Unauthorized for url: http://api.opencagedata.com/geocode/v1/json?query=M4E%2C+Toronto%2C+Ontario&key=13aa077d21ae42f287ec8607e07b2159&limit=1\n"
     ]
    },
    {
     "name": "stdout",
     "output_type": "stream",
     "text": [
      "Trying for M4E\n"
     ]
    },
    {
     "name": "stderr",
     "output_type": "stream",
     "text": [
      "Status code 401 from http://api.opencagedata.com/geocode/v1/json: ERROR - 401 Client Error: Unauthorized for url: http://api.opencagedata.com/geocode/v1/json?query=M4E%2C+Toronto%2C+Ontario&key=13aa077d21ae42f287ec8607e07b2159&limit=1\n"
     ]
    },
    {
     "name": "stdout",
     "output_type": "stream",
     "text": [
      "Trying for M4E\n"
     ]
    },
    {
     "name": "stderr",
     "output_type": "stream",
     "text": [
      "Status code 401 from http://api.opencagedata.com/geocode/v1/json: ERROR - 401 Client Error: Unauthorized for url: http://api.opencagedata.com/geocode/v1/json?query=M4E%2C+Toronto%2C+Ontario&key=13aa077d21ae42f287ec8607e07b2159&limit=1\n"
     ]
    },
    {
     "name": "stdout",
     "output_type": "stream",
     "text": [
      "Trying for M4E\n"
     ]
    },
    {
     "name": "stderr",
     "output_type": "stream",
     "text": [
      "Status code 401 from http://api.opencagedata.com/geocode/v1/json: ERROR - 401 Client Error: Unauthorized for url: http://api.opencagedata.com/geocode/v1/json?query=M4E%2C+Toronto%2C+Ontario&key=13aa077d21ae42f287ec8607e07b2159&limit=1\n"
     ]
    },
    {
     "name": "stdout",
     "output_type": "stream",
     "text": [
      "Trying for M4E\n"
     ]
    },
    {
     "name": "stderr",
     "output_type": "stream",
     "text": [
      "Status code 401 from http://api.opencagedata.com/geocode/v1/json: ERROR - 401 Client Error: Unauthorized for url: http://api.opencagedata.com/geocode/v1/json?query=M4E%2C+Toronto%2C+Ontario&key=13aa077d21ae42f287ec8607e07b2159&limit=1\n"
     ]
    },
    {
     "name": "stdout",
     "output_type": "stream",
     "text": [
      "Trying for M4E\n"
     ]
    },
    {
     "name": "stderr",
     "output_type": "stream",
     "text": [
      "Status code 401 from http://api.opencagedata.com/geocode/v1/json: ERROR - 401 Client Error: Unauthorized for url: http://api.opencagedata.com/geocode/v1/json?query=M4E%2C+Toronto%2C+Ontario&key=13aa077d21ae42f287ec8607e07b2159&limit=1\n"
     ]
    },
    {
     "name": "stdout",
     "output_type": "stream",
     "text": [
      "Trying for M4E\n"
     ]
    },
    {
     "name": "stderr",
     "output_type": "stream",
     "text": [
      "Status code 401 from http://api.opencagedata.com/geocode/v1/json: ERROR - 401 Client Error: Unauthorized for url: http://api.opencagedata.com/geocode/v1/json?query=M4E%2C+Toronto%2C+Ontario&key=13aa077d21ae42f287ec8607e07b2159&limit=1\n"
     ]
    },
    {
     "name": "stdout",
     "output_type": "stream",
     "text": [
      "Trying for M4E\n"
     ]
    },
    {
     "name": "stderr",
     "output_type": "stream",
     "text": [
      "Status code 401 from http://api.opencagedata.com/geocode/v1/json: ERROR - 401 Client Error: Unauthorized for url: http://api.opencagedata.com/geocode/v1/json?query=M4E%2C+Toronto%2C+Ontario&key=13aa077d21ae42f287ec8607e07b2159&limit=1\n"
     ]
    },
    {
     "name": "stdout",
     "output_type": "stream",
     "text": [
      "Trying for M4E\n"
     ]
    },
    {
     "name": "stderr",
     "output_type": "stream",
     "text": [
      "Status code 401 from http://api.opencagedata.com/geocode/v1/json: ERROR - 401 Client Error: Unauthorized for url: http://api.opencagedata.com/geocode/v1/json?query=M4E%2C+Toronto%2C+Ontario&key=13aa077d21ae42f287ec8607e07b2159&limit=1\n"
     ]
    },
    {
     "name": "stdout",
     "output_type": "stream",
     "text": [
      "Trying for M4E\n"
     ]
    },
    {
     "name": "stderr",
     "output_type": "stream",
     "text": [
      "Status code 401 from http://api.opencagedata.com/geocode/v1/json: ERROR - 401 Client Error: Unauthorized for url: http://api.opencagedata.com/geocode/v1/json?query=M4E%2C+Toronto%2C+Ontario&key=13aa077d21ae42f287ec8607e07b2159&limit=1\n"
     ]
    },
    {
     "name": "stdout",
     "output_type": "stream",
     "text": [
      "Trying for M4E\n"
     ]
    },
    {
     "name": "stderr",
     "output_type": "stream",
     "text": [
      "Status code 401 from http://api.opencagedata.com/geocode/v1/json: ERROR - 401 Client Error: Unauthorized for url: http://api.opencagedata.com/geocode/v1/json?query=M4E%2C+Toronto%2C+Ontario&key=13aa077d21ae42f287ec8607e07b2159&limit=1\n"
     ]
    },
    {
     "name": "stdout",
     "output_type": "stream",
     "text": [
      "Trying for M4E\n"
     ]
    },
    {
     "name": "stderr",
     "output_type": "stream",
     "text": [
      "Status code 401 from http://api.opencagedata.com/geocode/v1/json: ERROR - 401 Client Error: Unauthorized for url: http://api.opencagedata.com/geocode/v1/json?query=M4E%2C+Toronto%2C+Ontario&key=13aa077d21ae42f287ec8607e07b2159&limit=1\n"
     ]
    },
    {
     "name": "stdout",
     "output_type": "stream",
     "text": [
      "Trying for M4E\n"
     ]
    },
    {
     "name": "stderr",
     "output_type": "stream",
     "text": [
      "Status code 401 from http://api.opencagedata.com/geocode/v1/json: ERROR - 401 Client Error: Unauthorized for url: http://api.opencagedata.com/geocode/v1/json?query=M4E%2C+Toronto%2C+Ontario&key=13aa077d21ae42f287ec8607e07b2159&limit=1\n"
     ]
    },
    {
     "name": "stdout",
     "output_type": "stream",
     "text": [
      "Trying for M4E\n",
      "M4E, done\n",
      "M4B, Toronto, Ontario\n",
      "Trying for M4B\n"
     ]
    },
    {
     "name": "stderr",
     "output_type": "stream",
     "text": [
      "Status code 401 from http://api.opencagedata.com/geocode/v1/json: ERROR - 401 Client Error: Unauthorized for url: http://api.opencagedata.com/geocode/v1/json?query=M4B%2C+Toronto%2C+Ontario&key=13aa077d21ae42f287ec8607e07b2159&limit=1\n"
     ]
    },
    {
     "name": "stdout",
     "output_type": "stream",
     "text": [
      "Trying for M4B\n"
     ]
    },
    {
     "name": "stderr",
     "output_type": "stream",
     "text": [
      "Status code 401 from http://api.opencagedata.com/geocode/v1/json: ERROR - 401 Client Error: Unauthorized for url: http://api.opencagedata.com/geocode/v1/json?query=M4B%2C+Toronto%2C+Ontario&key=13aa077d21ae42f287ec8607e07b2159&limit=1\n"
     ]
    },
    {
     "name": "stdout",
     "output_type": "stream",
     "text": [
      "Trying for M4B\n"
     ]
    },
    {
     "name": "stderr",
     "output_type": "stream",
     "text": [
      "Status code 401 from http://api.opencagedata.com/geocode/v1/json: ERROR - 401 Client Error: Unauthorized for url: http://api.opencagedata.com/geocode/v1/json?query=M4B%2C+Toronto%2C+Ontario&key=13aa077d21ae42f287ec8607e07b2159&limit=1\n"
     ]
    },
    {
     "name": "stdout",
     "output_type": "stream",
     "text": [
      "Trying for M4B\n"
     ]
    },
    {
     "name": "stderr",
     "output_type": "stream",
     "text": [
      "Status code 401 from http://api.opencagedata.com/geocode/v1/json: ERROR - 401 Client Error: Unauthorized for url: http://api.opencagedata.com/geocode/v1/json?query=M4B%2C+Toronto%2C+Ontario&key=13aa077d21ae42f287ec8607e07b2159&limit=1\n"
     ]
    },
    {
     "name": "stdout",
     "output_type": "stream",
     "text": [
      "Trying for M4B\n"
     ]
    },
    {
     "name": "stderr",
     "output_type": "stream",
     "text": [
      "Status code 401 from http://api.opencagedata.com/geocode/v1/json: ERROR - 401 Client Error: Unauthorized for url: http://api.opencagedata.com/geocode/v1/json?query=M4B%2C+Toronto%2C+Ontario&key=13aa077d21ae42f287ec8607e07b2159&limit=1\n"
     ]
    },
    {
     "name": "stdout",
     "output_type": "stream",
     "text": [
      "Trying for M4B\n"
     ]
    },
    {
     "name": "stderr",
     "output_type": "stream",
     "text": [
      "Status code 401 from http://api.opencagedata.com/geocode/v1/json: ERROR - 401 Client Error: Unauthorized for url: http://api.opencagedata.com/geocode/v1/json?query=M4B%2C+Toronto%2C+Ontario&key=13aa077d21ae42f287ec8607e07b2159&limit=1\n"
     ]
    },
    {
     "name": "stdout",
     "output_type": "stream",
     "text": [
      "Trying for M4B\n"
     ]
    },
    {
     "name": "stderr",
     "output_type": "stream",
     "text": [
      "Status code 401 from http://api.opencagedata.com/geocode/v1/json: ERROR - 401 Client Error: Unauthorized for url: http://api.opencagedata.com/geocode/v1/json?query=M4B%2C+Toronto%2C+Ontario&key=13aa077d21ae42f287ec8607e07b2159&limit=1\n"
     ]
    },
    {
     "name": "stdout",
     "output_type": "stream",
     "text": [
      "Trying for M4B\n"
     ]
    },
    {
     "name": "stderr",
     "output_type": "stream",
     "text": [
      "Status code 401 from http://api.opencagedata.com/geocode/v1/json: ERROR - 401 Client Error: Unauthorized for url: http://api.opencagedata.com/geocode/v1/json?query=M4B%2C+Toronto%2C+Ontario&key=13aa077d21ae42f287ec8607e07b2159&limit=1\n"
     ]
    },
    {
     "name": "stdout",
     "output_type": "stream",
     "text": [
      "Trying for M4B\n"
     ]
    },
    {
     "name": "stderr",
     "output_type": "stream",
     "text": [
      "Status code 401 from http://api.opencagedata.com/geocode/v1/json: ERROR - 401 Client Error: Unauthorized for url: http://api.opencagedata.com/geocode/v1/json?query=M4B%2C+Toronto%2C+Ontario&key=13aa077d21ae42f287ec8607e07b2159&limit=1\n"
     ]
    },
    {
     "name": "stdout",
     "output_type": "stream",
     "text": [
      "Trying for M4B\n"
     ]
    },
    {
     "name": "stderr",
     "output_type": "stream",
     "text": [
      "Status code 401 from http://api.opencagedata.com/geocode/v1/json: ERROR - 401 Client Error: Unauthorized for url: http://api.opencagedata.com/geocode/v1/json?query=M4B%2C+Toronto%2C+Ontario&key=13aa077d21ae42f287ec8607e07b2159&limit=1\n"
     ]
    },
    {
     "name": "stdout",
     "output_type": "stream",
     "text": [
      "Trying for M4B\n"
     ]
    },
    {
     "name": "stderr",
     "output_type": "stream",
     "text": [
      "Status code 401 from http://api.opencagedata.com/geocode/v1/json: ERROR - 401 Client Error: Unauthorized for url: http://api.opencagedata.com/geocode/v1/json?query=M4B%2C+Toronto%2C+Ontario&key=13aa077d21ae42f287ec8607e07b2159&limit=1\n"
     ]
    },
    {
     "name": "stdout",
     "output_type": "stream",
     "text": [
      "Trying for M4B\n"
     ]
    },
    {
     "name": "stderr",
     "output_type": "stream",
     "text": [
      "Status code 401 from http://api.opencagedata.com/geocode/v1/json: ERROR - 401 Client Error: Unauthorized for url: http://api.opencagedata.com/geocode/v1/json?query=M4B%2C+Toronto%2C+Ontario&key=13aa077d21ae42f287ec8607e07b2159&limit=1\n"
     ]
    },
    {
     "name": "stdout",
     "output_type": "stream",
     "text": [
      "Trying for M4B\n"
     ]
    },
    {
     "name": "stderr",
     "output_type": "stream",
     "text": [
      "Status code 401 from http://api.opencagedata.com/geocode/v1/json: ERROR - 401 Client Error: Unauthorized for url: http://api.opencagedata.com/geocode/v1/json?query=M4B%2C+Toronto%2C+Ontario&key=13aa077d21ae42f287ec8607e07b2159&limit=1\n"
     ]
    },
    {
     "name": "stdout",
     "output_type": "stream",
     "text": [
      "Trying for M4B\n"
     ]
    },
    {
     "name": "stderr",
     "output_type": "stream",
     "text": [
      "Status code 401 from http://api.opencagedata.com/geocode/v1/json: ERROR - 401 Client Error: Unauthorized for url: http://api.opencagedata.com/geocode/v1/json?query=M4B%2C+Toronto%2C+Ontario&key=13aa077d21ae42f287ec8607e07b2159&limit=1\n"
     ]
    },
    {
     "name": "stdout",
     "output_type": "stream",
     "text": [
      "Trying for M4B\n"
     ]
    },
    {
     "name": "stderr",
     "output_type": "stream",
     "text": [
      "Status code 401 from http://api.opencagedata.com/geocode/v1/json: ERROR - 401 Client Error: Unauthorized for url: http://api.opencagedata.com/geocode/v1/json?query=M4B%2C+Toronto%2C+Ontario&key=13aa077d21ae42f287ec8607e07b2159&limit=1\n"
     ]
    },
    {
     "name": "stdout",
     "output_type": "stream",
     "text": [
      "Trying for M4B\n"
     ]
    },
    {
     "name": "stderr",
     "output_type": "stream",
     "text": [
      "Status code 401 from http://api.opencagedata.com/geocode/v1/json: ERROR - 401 Client Error: Unauthorized for url: http://api.opencagedata.com/geocode/v1/json?query=M4B%2C+Toronto%2C+Ontario&key=13aa077d21ae42f287ec8607e07b2159&limit=1\n"
     ]
    },
    {
     "name": "stdout",
     "output_type": "stream",
     "text": [
      "Trying for M4B\n"
     ]
    },
    {
     "name": "stderr",
     "output_type": "stream",
     "text": [
      "Status code 401 from http://api.opencagedata.com/geocode/v1/json: ERROR - 401 Client Error: Unauthorized for url: http://api.opencagedata.com/geocode/v1/json?query=M4B%2C+Toronto%2C+Ontario&key=13aa077d21ae42f287ec8607e07b2159&limit=1\n"
     ]
    },
    {
     "name": "stdout",
     "output_type": "stream",
     "text": [
      "Trying for M4B\n"
     ]
    },
    {
     "name": "stderr",
     "output_type": "stream",
     "text": [
      "Status code 401 from http://api.opencagedata.com/geocode/v1/json: ERROR - 401 Client Error: Unauthorized for url: http://api.opencagedata.com/geocode/v1/json?query=M4B%2C+Toronto%2C+Ontario&key=13aa077d21ae42f287ec8607e07b2159&limit=1\n"
     ]
    },
    {
     "name": "stdout",
     "output_type": "stream",
     "text": [
      "Trying for M4B\n"
     ]
    },
    {
     "name": "stderr",
     "output_type": "stream",
     "text": [
      "Status code 401 from http://api.opencagedata.com/geocode/v1/json: ERROR - 401 Client Error: Unauthorized for url: http://api.opencagedata.com/geocode/v1/json?query=M4B%2C+Toronto%2C+Ontario&key=13aa077d21ae42f287ec8607e07b2159&limit=1\n"
     ]
    },
    {
     "name": "stdout",
     "output_type": "stream",
     "text": [
      "Trying for M4B\n"
     ]
    },
    {
     "name": "stderr",
     "output_type": "stream",
     "text": [
      "Status code 401 from http://api.opencagedata.com/geocode/v1/json: ERROR - 401 Client Error: Unauthorized for url: http://api.opencagedata.com/geocode/v1/json?query=M4B%2C+Toronto%2C+Ontario&key=13aa077d21ae42f287ec8607e07b2159&limit=1\n"
     ]
    },
    {
     "name": "stdout",
     "output_type": "stream",
     "text": [
      "Trying for M4B\n"
     ]
    },
    {
     "name": "stderr",
     "output_type": "stream",
     "text": [
      "Status code 401 from http://api.opencagedata.com/geocode/v1/json: ERROR - 401 Client Error: Unauthorized for url: http://api.opencagedata.com/geocode/v1/json?query=M4B%2C+Toronto%2C+Ontario&key=13aa077d21ae42f287ec8607e07b2159&limit=1\n"
     ]
    },
    {
     "name": "stdout",
     "output_type": "stream",
     "text": [
      "Trying for M4B\n"
     ]
    },
    {
     "name": "stderr",
     "output_type": "stream",
     "text": [
      "Status code 401 from http://api.opencagedata.com/geocode/v1/json: ERROR - 401 Client Error: Unauthorized for url: http://api.opencagedata.com/geocode/v1/json?query=M4B%2C+Toronto%2C+Ontario&key=13aa077d21ae42f287ec8607e07b2159&limit=1\n"
     ]
    },
    {
     "name": "stdout",
     "output_type": "stream",
     "text": [
      "Trying for M4B\n"
     ]
    },
    {
     "name": "stderr",
     "output_type": "stream",
     "text": [
      "Status code 401 from http://api.opencagedata.com/geocode/v1/json: ERROR - 401 Client Error: Unauthorized for url: http://api.opencagedata.com/geocode/v1/json?query=M4B%2C+Toronto%2C+Ontario&key=13aa077d21ae42f287ec8607e07b2159&limit=1\n"
     ]
    },
    {
     "name": "stdout",
     "output_type": "stream",
     "text": [
      "Trying for M4B\n"
     ]
    },
    {
     "name": "stderr",
     "output_type": "stream",
     "text": [
      "Status code 401 from http://api.opencagedata.com/geocode/v1/json: ERROR - 401 Client Error: Unauthorized for url: http://api.opencagedata.com/geocode/v1/json?query=M4B%2C+Toronto%2C+Ontario&key=13aa077d21ae42f287ec8607e07b2159&limit=1\n"
     ]
    },
    {
     "name": "stdout",
     "output_type": "stream",
     "text": [
      "Trying for M4B\n"
     ]
    },
    {
     "name": "stderr",
     "output_type": "stream",
     "text": [
      "Status code 401 from http://api.opencagedata.com/geocode/v1/json: ERROR - 401 Client Error: Unauthorized for url: http://api.opencagedata.com/geocode/v1/json?query=M4B%2C+Toronto%2C+Ontario&key=13aa077d21ae42f287ec8607e07b2159&limit=1\n"
     ]
    },
    {
     "name": "stdout",
     "output_type": "stream",
     "text": [
      "Trying for M4B\n"
     ]
    },
    {
     "name": "stderr",
     "output_type": "stream",
     "text": [
      "Status code 401 from http://api.opencagedata.com/geocode/v1/json: ERROR - 401 Client Error: Unauthorized for url: http://api.opencagedata.com/geocode/v1/json?query=M4B%2C+Toronto%2C+Ontario&key=13aa077d21ae42f287ec8607e07b2159&limit=1\n"
     ]
    },
    {
     "name": "stdout",
     "output_type": "stream",
     "text": [
      "Trying for M4B\n"
     ]
    },
    {
     "name": "stderr",
     "output_type": "stream",
     "text": [
      "Status code 401 from http://api.opencagedata.com/geocode/v1/json: ERROR - 401 Client Error: Unauthorized for url: http://api.opencagedata.com/geocode/v1/json?query=M4B%2C+Toronto%2C+Ontario&key=13aa077d21ae42f287ec8607e07b2159&limit=1\n"
     ]
    },
    {
     "name": "stdout",
     "output_type": "stream",
     "text": [
      "Trying for M4B\n"
     ]
    },
    {
     "name": "stderr",
     "output_type": "stream",
     "text": [
      "Status code 401 from http://api.opencagedata.com/geocode/v1/json: ERROR - 401 Client Error: Unauthorized for url: http://api.opencagedata.com/geocode/v1/json?query=M4B%2C+Toronto%2C+Ontario&key=13aa077d21ae42f287ec8607e07b2159&limit=1\n"
     ]
    },
    {
     "name": "stdout",
     "output_type": "stream",
     "text": [
      "Trying for M4B\n"
     ]
    },
    {
     "name": "stderr",
     "output_type": "stream",
     "text": [
      "Status code 401 from http://api.opencagedata.com/geocode/v1/json: ERROR - 401 Client Error: Unauthorized for url: http://api.opencagedata.com/geocode/v1/json?query=M4B%2C+Toronto%2C+Ontario&key=13aa077d21ae42f287ec8607e07b2159&limit=1\n"
     ]
    },
    {
     "name": "stdout",
     "output_type": "stream",
     "text": [
      "Trying for M4B\n"
     ]
    },
    {
     "name": "stderr",
     "output_type": "stream",
     "text": [
      "Status code 401 from http://api.opencagedata.com/geocode/v1/json: ERROR - 401 Client Error: Unauthorized for url: http://api.opencagedata.com/geocode/v1/json?query=M4B%2C+Toronto%2C+Ontario&key=13aa077d21ae42f287ec8607e07b2159&limit=1\n"
     ]
    },
    {
     "name": "stdout",
     "output_type": "stream",
     "text": [
      "Trying for M4B\n"
     ]
    },
    {
     "name": "stderr",
     "output_type": "stream",
     "text": [
      "Status code 401 from http://api.opencagedata.com/geocode/v1/json: ERROR - 401 Client Error: Unauthorized for url: http://api.opencagedata.com/geocode/v1/json?query=M4B%2C+Toronto%2C+Ontario&key=13aa077d21ae42f287ec8607e07b2159&limit=1\n"
     ]
    },
    {
     "name": "stdout",
     "output_type": "stream",
     "text": [
      "Trying for M4B\n"
     ]
    },
    {
     "name": "stderr",
     "output_type": "stream",
     "text": [
      "Status code 401 from http://api.opencagedata.com/geocode/v1/json: ERROR - 401 Client Error: Unauthorized for url: http://api.opencagedata.com/geocode/v1/json?query=M4B%2C+Toronto%2C+Ontario&key=13aa077d21ae42f287ec8607e07b2159&limit=1\n"
     ]
    },
    {
     "name": "stdout",
     "output_type": "stream",
     "text": [
      "Trying for M4B\n"
     ]
    },
    {
     "name": "stderr",
     "output_type": "stream",
     "text": [
      "Status code 401 from http://api.opencagedata.com/geocode/v1/json: ERROR - 401 Client Error: Unauthorized for url: http://api.opencagedata.com/geocode/v1/json?query=M4B%2C+Toronto%2C+Ontario&key=13aa077d21ae42f287ec8607e07b2159&limit=1\n"
     ]
    },
    {
     "name": "stdout",
     "output_type": "stream",
     "text": [
      "Trying for M4B\n"
     ]
    },
    {
     "name": "stderr",
     "output_type": "stream",
     "text": [
      "Status code 401 from http://api.opencagedata.com/geocode/v1/json: ERROR - 401 Client Error: Unauthorized for url: http://api.opencagedata.com/geocode/v1/json?query=M4B%2C+Toronto%2C+Ontario&key=13aa077d21ae42f287ec8607e07b2159&limit=1\n"
     ]
    },
    {
     "name": "stdout",
     "output_type": "stream",
     "text": [
      "Trying for M4B\n"
     ]
    },
    {
     "name": "stderr",
     "output_type": "stream",
     "text": [
      "Status code 401 from http://api.opencagedata.com/geocode/v1/json: ERROR - 401 Client Error: Unauthorized for url: http://api.opencagedata.com/geocode/v1/json?query=M4B%2C+Toronto%2C+Ontario&key=13aa077d21ae42f287ec8607e07b2159&limit=1\n"
     ]
    },
    {
     "name": "stdout",
     "output_type": "stream",
     "text": [
      "Trying for M4B\n"
     ]
    },
    {
     "name": "stderr",
     "output_type": "stream",
     "text": [
      "Status code 401 from http://api.opencagedata.com/geocode/v1/json: ERROR - 401 Client Error: Unauthorized for url: http://api.opencagedata.com/geocode/v1/json?query=M4B%2C+Toronto%2C+Ontario&key=13aa077d21ae42f287ec8607e07b2159&limit=1\n"
     ]
    },
    {
     "name": "stdout",
     "output_type": "stream",
     "text": [
      "Trying for M4B\n"
     ]
    },
    {
     "name": "stderr",
     "output_type": "stream",
     "text": [
      "Status code 401 from http://api.opencagedata.com/geocode/v1/json: ERROR - 401 Client Error: Unauthorized for url: http://api.opencagedata.com/geocode/v1/json?query=M4B%2C+Toronto%2C+Ontario&key=13aa077d21ae42f287ec8607e07b2159&limit=1\n"
     ]
    },
    {
     "name": "stdout",
     "output_type": "stream",
     "text": [
      "Trying for M4B\n"
     ]
    },
    {
     "name": "stderr",
     "output_type": "stream",
     "text": [
      "Status code 401 from http://api.opencagedata.com/geocode/v1/json: ERROR - 401 Client Error: Unauthorized for url: http://api.opencagedata.com/geocode/v1/json?query=M4B%2C+Toronto%2C+Ontario&key=13aa077d21ae42f287ec8607e07b2159&limit=1\n"
     ]
    },
    {
     "name": "stdout",
     "output_type": "stream",
     "text": [
      "Trying for M4B\n"
     ]
    },
    {
     "name": "stderr",
     "output_type": "stream",
     "text": [
      "Status code 401 from http://api.opencagedata.com/geocode/v1/json: ERROR - 401 Client Error: Unauthorized for url: http://api.opencagedata.com/geocode/v1/json?query=M4B%2C+Toronto%2C+Ontario&key=13aa077d21ae42f287ec8607e07b2159&limit=1\n"
     ]
    },
    {
     "name": "stdout",
     "output_type": "stream",
     "text": [
      "Trying for M4B\n"
     ]
    },
    {
     "name": "stderr",
     "output_type": "stream",
     "text": [
      "Status code 401 from http://api.opencagedata.com/geocode/v1/json: ERROR - 401 Client Error: Unauthorized for url: http://api.opencagedata.com/geocode/v1/json?query=M4B%2C+Toronto%2C+Ontario&key=13aa077d21ae42f287ec8607e07b2159&limit=1\n"
     ]
    },
    {
     "name": "stdout",
     "output_type": "stream",
     "text": [
      "Trying for M4B\n"
     ]
    },
    {
     "name": "stderr",
     "output_type": "stream",
     "text": [
      "Status code 401 from http://api.opencagedata.com/geocode/v1/json: ERROR - 401 Client Error: Unauthorized for url: http://api.opencagedata.com/geocode/v1/json?query=M4B%2C+Toronto%2C+Ontario&key=13aa077d21ae42f287ec8607e07b2159&limit=1\n"
     ]
    },
    {
     "name": "stdout",
     "output_type": "stream",
     "text": [
      "Trying for M4B\n"
     ]
    },
    {
     "name": "stderr",
     "output_type": "stream",
     "text": [
      "Status code 401 from http://api.opencagedata.com/geocode/v1/json: ERROR - 401 Client Error: Unauthorized for url: http://api.opencagedata.com/geocode/v1/json?query=M4B%2C+Toronto%2C+Ontario&key=13aa077d21ae42f287ec8607e07b2159&limit=1\n"
     ]
    },
    {
     "name": "stdout",
     "output_type": "stream",
     "text": [
      "Trying for M4B\n"
     ]
    },
    {
     "name": "stderr",
     "output_type": "stream",
     "text": [
      "Status code 401 from http://api.opencagedata.com/geocode/v1/json: ERROR - 401 Client Error: Unauthorized for url: http://api.opencagedata.com/geocode/v1/json?query=M4B%2C+Toronto%2C+Ontario&key=13aa077d21ae42f287ec8607e07b2159&limit=1\n"
     ]
    },
    {
     "name": "stdout",
     "output_type": "stream",
     "text": [
      "Trying for M4B\n"
     ]
    },
    {
     "name": "stderr",
     "output_type": "stream",
     "text": [
      "Status code 401 from http://api.opencagedata.com/geocode/v1/json: ERROR - 401 Client Error: Unauthorized for url: http://api.opencagedata.com/geocode/v1/json?query=M4B%2C+Toronto%2C+Ontario&key=13aa077d21ae42f287ec8607e07b2159&limit=1\n"
     ]
    },
    {
     "name": "stdout",
     "output_type": "stream",
     "text": [
      "Trying for M4B\n"
     ]
    },
    {
     "name": "stderr",
     "output_type": "stream",
     "text": [
      "Status code 401 from http://api.opencagedata.com/geocode/v1/json: ERROR - 401 Client Error: Unauthorized for url: http://api.opencagedata.com/geocode/v1/json?query=M4B%2C+Toronto%2C+Ontario&key=13aa077d21ae42f287ec8607e07b2159&limit=1\n"
     ]
    },
    {
     "name": "stdout",
     "output_type": "stream",
     "text": [
      "Trying for M4B\n"
     ]
    },
    {
     "name": "stderr",
     "output_type": "stream",
     "text": [
      "Status code 401 from http://api.opencagedata.com/geocode/v1/json: ERROR - 401 Client Error: Unauthorized for url: http://api.opencagedata.com/geocode/v1/json?query=M4B%2C+Toronto%2C+Ontario&key=13aa077d21ae42f287ec8607e07b2159&limit=1\n"
     ]
    },
    {
     "name": "stdout",
     "output_type": "stream",
     "text": [
      "Trying for M4B\n"
     ]
    },
    {
     "name": "stderr",
     "output_type": "stream",
     "text": [
      "Status code 401 from http://api.opencagedata.com/geocode/v1/json: ERROR - 401 Client Error: Unauthorized for url: http://api.opencagedata.com/geocode/v1/json?query=M4B%2C+Toronto%2C+Ontario&key=13aa077d21ae42f287ec8607e07b2159&limit=1\n"
     ]
    },
    {
     "name": "stdout",
     "output_type": "stream",
     "text": [
      "Trying for M4B\n"
     ]
    },
    {
     "name": "stderr",
     "output_type": "stream",
     "text": [
      "Status code 401 from http://api.opencagedata.com/geocode/v1/json: ERROR - 401 Client Error: Unauthorized for url: http://api.opencagedata.com/geocode/v1/json?query=M4B%2C+Toronto%2C+Ontario&key=13aa077d21ae42f287ec8607e07b2159&limit=1\n"
     ]
    },
    {
     "name": "stdout",
     "output_type": "stream",
     "text": [
      "Trying for M4B\n"
     ]
    },
    {
     "name": "stderr",
     "output_type": "stream",
     "text": [
      "Status code 401 from http://api.opencagedata.com/geocode/v1/json: ERROR - 401 Client Error: Unauthorized for url: http://api.opencagedata.com/geocode/v1/json?query=M4B%2C+Toronto%2C+Ontario&key=13aa077d21ae42f287ec8607e07b2159&limit=1\n"
     ]
    },
    {
     "name": "stdout",
     "output_type": "stream",
     "text": [
      "Trying for M4B\n"
     ]
    },
    {
     "name": "stderr",
     "output_type": "stream",
     "text": [
      "Status code 401 from http://api.opencagedata.com/geocode/v1/json: ERROR - 401 Client Error: Unauthorized for url: http://api.opencagedata.com/geocode/v1/json?query=M4B%2C+Toronto%2C+Ontario&key=13aa077d21ae42f287ec8607e07b2159&limit=1\n"
     ]
    },
    {
     "name": "stdout",
     "output_type": "stream",
     "text": [
      "Trying for M4B\n"
     ]
    },
    {
     "name": "stderr",
     "output_type": "stream",
     "text": [
      "Status code 401 from http://api.opencagedata.com/geocode/v1/json: ERROR - 401 Client Error: Unauthorized for url: http://api.opencagedata.com/geocode/v1/json?query=M4B%2C+Toronto%2C+Ontario&key=13aa077d21ae42f287ec8607e07b2159&limit=1\n"
     ]
    },
    {
     "name": "stdout",
     "output_type": "stream",
     "text": [
      "Trying for M4B\n"
     ]
    },
    {
     "name": "stderr",
     "output_type": "stream",
     "text": [
      "Status code 401 from http://api.opencagedata.com/geocode/v1/json: ERROR - 401 Client Error: Unauthorized for url: http://api.opencagedata.com/geocode/v1/json?query=M4B%2C+Toronto%2C+Ontario&key=13aa077d21ae42f287ec8607e07b2159&limit=1\n"
     ]
    },
    {
     "name": "stdout",
     "output_type": "stream",
     "text": [
      "Trying for M4B\n"
     ]
    },
    {
     "name": "stderr",
     "output_type": "stream",
     "text": [
      "Status code 401 from http://api.opencagedata.com/geocode/v1/json: ERROR - 401 Client Error: Unauthorized for url: http://api.opencagedata.com/geocode/v1/json?query=M4B%2C+Toronto%2C+Ontario&key=13aa077d21ae42f287ec8607e07b2159&limit=1\n"
     ]
    },
    {
     "name": "stdout",
     "output_type": "stream",
     "text": [
      "Trying for M4B\n"
     ]
    },
    {
     "name": "stderr",
     "output_type": "stream",
     "text": [
      "Status code 401 from http://api.opencagedata.com/geocode/v1/json: ERROR - 401 Client Error: Unauthorized for url: http://api.opencagedata.com/geocode/v1/json?query=M4B%2C+Toronto%2C+Ontario&key=13aa077d21ae42f287ec8607e07b2159&limit=1\n"
     ]
    },
    {
     "name": "stdout",
     "output_type": "stream",
     "text": [
      "Trying for M4B\n"
     ]
    },
    {
     "name": "stderr",
     "output_type": "stream",
     "text": [
      "Status code 401 from http://api.opencagedata.com/geocode/v1/json: ERROR - 401 Client Error: Unauthorized for url: http://api.opencagedata.com/geocode/v1/json?query=M4B%2C+Toronto%2C+Ontario&key=13aa077d21ae42f287ec8607e07b2159&limit=1\n"
     ]
    },
    {
     "name": "stdout",
     "output_type": "stream",
     "text": [
      "Trying for M4B\n"
     ]
    },
    {
     "name": "stderr",
     "output_type": "stream",
     "text": [
      "Status code 401 from http://api.opencagedata.com/geocode/v1/json: ERROR - 401 Client Error: Unauthorized for url: http://api.opencagedata.com/geocode/v1/json?query=M4B%2C+Toronto%2C+Ontario&key=13aa077d21ae42f287ec8607e07b2159&limit=1\n"
     ]
    },
    {
     "name": "stdout",
     "output_type": "stream",
     "text": [
      "Trying for M4B\n"
     ]
    },
    {
     "name": "stderr",
     "output_type": "stream",
     "text": [
      "Status code 401 from http://api.opencagedata.com/geocode/v1/json: ERROR - 401 Client Error: Unauthorized for url: http://api.opencagedata.com/geocode/v1/json?query=M4B%2C+Toronto%2C+Ontario&key=13aa077d21ae42f287ec8607e07b2159&limit=1\n"
     ]
    },
    {
     "name": "stdout",
     "output_type": "stream",
     "text": [
      "Trying for M4B\n"
     ]
    },
    {
     "name": "stderr",
     "output_type": "stream",
     "text": [
      "Status code 401 from http://api.opencagedata.com/geocode/v1/json: ERROR - 401 Client Error: Unauthorized for url: http://api.opencagedata.com/geocode/v1/json?query=M4B%2C+Toronto%2C+Ontario&key=13aa077d21ae42f287ec8607e07b2159&limit=1\n"
     ]
    },
    {
     "name": "stdout",
     "output_type": "stream",
     "text": [
      "Trying for M4B\n"
     ]
    },
    {
     "name": "stderr",
     "output_type": "stream",
     "text": [
      "Status code 401 from http://api.opencagedata.com/geocode/v1/json: ERROR - 401 Client Error: Unauthorized for url: http://api.opencagedata.com/geocode/v1/json?query=M4B%2C+Toronto%2C+Ontario&key=13aa077d21ae42f287ec8607e07b2159&limit=1\n"
     ]
    },
    {
     "name": "stdout",
     "output_type": "stream",
     "text": [
      "Trying for M4B\n"
     ]
    },
    {
     "name": "stderr",
     "output_type": "stream",
     "text": [
      "Status code 401 from http://api.opencagedata.com/geocode/v1/json: ERROR - 401 Client Error: Unauthorized for url: http://api.opencagedata.com/geocode/v1/json?query=M4B%2C+Toronto%2C+Ontario&key=13aa077d21ae42f287ec8607e07b2159&limit=1\n"
     ]
    },
    {
     "name": "stdout",
     "output_type": "stream",
     "text": [
      "Trying for M4B\n"
     ]
    },
    {
     "name": "stderr",
     "output_type": "stream",
     "text": [
      "Status code 401 from http://api.opencagedata.com/geocode/v1/json: ERROR - 401 Client Error: Unauthorized for url: http://api.opencagedata.com/geocode/v1/json?query=M4B%2C+Toronto%2C+Ontario&key=13aa077d21ae42f287ec8607e07b2159&limit=1\n"
     ]
    },
    {
     "name": "stdout",
     "output_type": "stream",
     "text": [
      "Trying for M4B\n"
     ]
    },
    {
     "name": "stderr",
     "output_type": "stream",
     "text": [
      "Status code 401 from http://api.opencagedata.com/geocode/v1/json: ERROR - 401 Client Error: Unauthorized for url: http://api.opencagedata.com/geocode/v1/json?query=M4B%2C+Toronto%2C+Ontario&key=13aa077d21ae42f287ec8607e07b2159&limit=1\n"
     ]
    },
    {
     "name": "stdout",
     "output_type": "stream",
     "text": [
      "Trying for M4B\n"
     ]
    },
    {
     "name": "stderr",
     "output_type": "stream",
     "text": [
      "Status code 401 from http://api.opencagedata.com/geocode/v1/json: ERROR - 401 Client Error: Unauthorized for url: http://api.opencagedata.com/geocode/v1/json?query=M4B%2C+Toronto%2C+Ontario&key=13aa077d21ae42f287ec8607e07b2159&limit=1\n"
     ]
    },
    {
     "name": "stdout",
     "output_type": "stream",
     "text": [
      "Trying for M4B\n"
     ]
    },
    {
     "name": "stderr",
     "output_type": "stream",
     "text": [
      "Status code 401 from http://api.opencagedata.com/geocode/v1/json: ERROR - 401 Client Error: Unauthorized for url: http://api.opencagedata.com/geocode/v1/json?query=M4B%2C+Toronto%2C+Ontario&key=13aa077d21ae42f287ec8607e07b2159&limit=1\n"
     ]
    },
    {
     "name": "stdout",
     "output_type": "stream",
     "text": [
      "Trying for M4B\n"
     ]
    },
    {
     "name": "stderr",
     "output_type": "stream",
     "text": [
      "Status code 401 from http://api.opencagedata.com/geocode/v1/json: ERROR - 401 Client Error: Unauthorized for url: http://api.opencagedata.com/geocode/v1/json?query=M4B%2C+Toronto%2C+Ontario&key=13aa077d21ae42f287ec8607e07b2159&limit=1\n"
     ]
    },
    {
     "name": "stdout",
     "output_type": "stream",
     "text": [
      "Trying for M4B\n"
     ]
    },
    {
     "name": "stderr",
     "output_type": "stream",
     "text": [
      "Status code 401 from http://api.opencagedata.com/geocode/v1/json: ERROR - 401 Client Error: Unauthorized for url: http://api.opencagedata.com/geocode/v1/json?query=M4B%2C+Toronto%2C+Ontario&key=13aa077d21ae42f287ec8607e07b2159&limit=1\n"
     ]
    },
    {
     "name": "stdout",
     "output_type": "stream",
     "text": [
      "Trying for M4B\n"
     ]
    },
    {
     "name": "stderr",
     "output_type": "stream",
     "text": [
      "Status code 401 from http://api.opencagedata.com/geocode/v1/json: ERROR - 401 Client Error: Unauthorized for url: http://api.opencagedata.com/geocode/v1/json?query=M4B%2C+Toronto%2C+Ontario&key=13aa077d21ae42f287ec8607e07b2159&limit=1\n"
     ]
    },
    {
     "name": "stdout",
     "output_type": "stream",
     "text": [
      "Trying for M4B\n"
     ]
    },
    {
     "name": "stderr",
     "output_type": "stream",
     "text": [
      "Status code 401 from http://api.opencagedata.com/geocode/v1/json: ERROR - 401 Client Error: Unauthorized for url: http://api.opencagedata.com/geocode/v1/json?query=M4B%2C+Toronto%2C+Ontario&key=13aa077d21ae42f287ec8607e07b2159&limit=1\n"
     ]
    },
    {
     "name": "stdout",
     "output_type": "stream",
     "text": [
      "Trying for M4B\n"
     ]
    },
    {
     "name": "stderr",
     "output_type": "stream",
     "text": [
      "Status code 401 from http://api.opencagedata.com/geocode/v1/json: ERROR - 401 Client Error: Unauthorized for url: http://api.opencagedata.com/geocode/v1/json?query=M4B%2C+Toronto%2C+Ontario&key=13aa077d21ae42f287ec8607e07b2159&limit=1\n"
     ]
    },
    {
     "name": "stdout",
     "output_type": "stream",
     "text": [
      "Trying for M4B\n"
     ]
    },
    {
     "name": "stderr",
     "output_type": "stream",
     "text": [
      "Status code 401 from http://api.opencagedata.com/geocode/v1/json: ERROR - 401 Client Error: Unauthorized for url: http://api.opencagedata.com/geocode/v1/json?query=M4B%2C+Toronto%2C+Ontario&key=13aa077d21ae42f287ec8607e07b2159&limit=1\n"
     ]
    },
    {
     "name": "stdout",
     "output_type": "stream",
     "text": [
      "Trying for M4B\n"
     ]
    },
    {
     "name": "stderr",
     "output_type": "stream",
     "text": [
      "Status code 401 from http://api.opencagedata.com/geocode/v1/json: ERROR - 401 Client Error: Unauthorized for url: http://api.opencagedata.com/geocode/v1/json?query=M4B%2C+Toronto%2C+Ontario&key=13aa077d21ae42f287ec8607e07b2159&limit=1\n"
     ]
    },
    {
     "name": "stdout",
     "output_type": "stream",
     "text": [
      "Trying for M4B\n"
     ]
    },
    {
     "name": "stderr",
     "output_type": "stream",
     "text": [
      "Status code 401 from http://api.opencagedata.com/geocode/v1/json: ERROR - 401 Client Error: Unauthorized for url: http://api.opencagedata.com/geocode/v1/json?query=M4B%2C+Toronto%2C+Ontario&key=13aa077d21ae42f287ec8607e07b2159&limit=1\n"
     ]
    },
    {
     "name": "stdout",
     "output_type": "stream",
     "text": [
      "Trying for M4B\n"
     ]
    },
    {
     "name": "stderr",
     "output_type": "stream",
     "text": [
      "Status code 401 from http://api.opencagedata.com/geocode/v1/json: ERROR - 401 Client Error: Unauthorized for url: http://api.opencagedata.com/geocode/v1/json?query=M4B%2C+Toronto%2C+Ontario&key=13aa077d21ae42f287ec8607e07b2159&limit=1\n"
     ]
    },
    {
     "name": "stdout",
     "output_type": "stream",
     "text": [
      "Trying for M4B\n"
     ]
    },
    {
     "name": "stderr",
     "output_type": "stream",
     "text": [
      "Status code 401 from http://api.opencagedata.com/geocode/v1/json: ERROR - 401 Client Error: Unauthorized for url: http://api.opencagedata.com/geocode/v1/json?query=M4B%2C+Toronto%2C+Ontario&key=13aa077d21ae42f287ec8607e07b2159&limit=1\n"
     ]
    },
    {
     "name": "stdout",
     "output_type": "stream",
     "text": [
      "Trying for M4B\n"
     ]
    },
    {
     "name": "stderr",
     "output_type": "stream",
     "text": [
      "Status code 401 from http://api.opencagedata.com/geocode/v1/json: ERROR - 401 Client Error: Unauthorized for url: http://api.opencagedata.com/geocode/v1/json?query=M4B%2C+Toronto%2C+Ontario&key=13aa077d21ae42f287ec8607e07b2159&limit=1\n"
     ]
    },
    {
     "name": "stdout",
     "output_type": "stream",
     "text": [
      "Trying for M4B\n"
     ]
    },
    {
     "name": "stderr",
     "output_type": "stream",
     "text": [
      "Status code 401 from http://api.opencagedata.com/geocode/v1/json: ERROR - 401 Client Error: Unauthorized for url: http://api.opencagedata.com/geocode/v1/json?query=M4B%2C+Toronto%2C+Ontario&key=13aa077d21ae42f287ec8607e07b2159&limit=1\n"
     ]
    },
    {
     "name": "stdout",
     "output_type": "stream",
     "text": [
      "Trying for M4B\n"
     ]
    },
    {
     "name": "stderr",
     "output_type": "stream",
     "text": [
      "Status code 401 from http://api.opencagedata.com/geocode/v1/json: ERROR - 401 Client Error: Unauthorized for url: http://api.opencagedata.com/geocode/v1/json?query=M4B%2C+Toronto%2C+Ontario&key=13aa077d21ae42f287ec8607e07b2159&limit=1\n"
     ]
    },
    {
     "name": "stdout",
     "output_type": "stream",
     "text": [
      "Trying for M4B\n"
     ]
    },
    {
     "name": "stderr",
     "output_type": "stream",
     "text": [
      "Status code 401 from http://api.opencagedata.com/geocode/v1/json: ERROR - 401 Client Error: Unauthorized for url: http://api.opencagedata.com/geocode/v1/json?query=M4B%2C+Toronto%2C+Ontario&key=13aa077d21ae42f287ec8607e07b2159&limit=1\n"
     ]
    },
    {
     "name": "stdout",
     "output_type": "stream",
     "text": [
      "Trying for M4B\n"
     ]
    },
    {
     "name": "stderr",
     "output_type": "stream",
     "text": [
      "Status code 401 from http://api.opencagedata.com/geocode/v1/json: ERROR - 401 Client Error: Unauthorized for url: http://api.opencagedata.com/geocode/v1/json?query=M4B%2C+Toronto%2C+Ontario&key=13aa077d21ae42f287ec8607e07b2159&limit=1\n"
     ]
    },
    {
     "name": "stdout",
     "output_type": "stream",
     "text": [
      "Trying for M4B\n"
     ]
    },
    {
     "name": "stderr",
     "output_type": "stream",
     "text": [
      "Status code 401 from http://api.opencagedata.com/geocode/v1/json: ERROR - 401 Client Error: Unauthorized for url: http://api.opencagedata.com/geocode/v1/json?query=M4B%2C+Toronto%2C+Ontario&key=13aa077d21ae42f287ec8607e07b2159&limit=1\n"
     ]
    },
    {
     "name": "stdout",
     "output_type": "stream",
     "text": [
      "Trying for M4B\n"
     ]
    },
    {
     "name": "stderr",
     "output_type": "stream",
     "text": [
      "Status code 401 from http://api.opencagedata.com/geocode/v1/json: ERROR - 401 Client Error: Unauthorized for url: http://api.opencagedata.com/geocode/v1/json?query=M4B%2C+Toronto%2C+Ontario&key=13aa077d21ae42f287ec8607e07b2159&limit=1\n"
     ]
    },
    {
     "name": "stdout",
     "output_type": "stream",
     "text": [
      "Trying for M4B\n"
     ]
    },
    {
     "name": "stderr",
     "output_type": "stream",
     "text": [
      "Status code 401 from http://api.opencagedata.com/geocode/v1/json: ERROR - 401 Client Error: Unauthorized for url: http://api.opencagedata.com/geocode/v1/json?query=M4B%2C+Toronto%2C+Ontario&key=13aa077d21ae42f287ec8607e07b2159&limit=1\n"
     ]
    },
    {
     "name": "stdout",
     "output_type": "stream",
     "text": [
      "Trying for M4B\n"
     ]
    },
    {
     "name": "stderr",
     "output_type": "stream",
     "text": [
      "Status code 401 from http://api.opencagedata.com/geocode/v1/json: ERROR - 401 Client Error: Unauthorized for url: http://api.opencagedata.com/geocode/v1/json?query=M4B%2C+Toronto%2C+Ontario&key=13aa077d21ae42f287ec8607e07b2159&limit=1\n"
     ]
    },
    {
     "name": "stdout",
     "output_type": "stream",
     "text": [
      "Trying for M4B\n"
     ]
    },
    {
     "name": "stderr",
     "output_type": "stream",
     "text": [
      "Status code 401 from http://api.opencagedata.com/geocode/v1/json: ERROR - 401 Client Error: Unauthorized for url: http://api.opencagedata.com/geocode/v1/json?query=M4B%2C+Toronto%2C+Ontario&key=13aa077d21ae42f287ec8607e07b2159&limit=1\n"
     ]
    },
    {
     "name": "stdout",
     "output_type": "stream",
     "text": [
      "Trying for M4B\n"
     ]
    },
    {
     "name": "stderr",
     "output_type": "stream",
     "text": [
      "Status code 401 from http://api.opencagedata.com/geocode/v1/json: ERROR - 401 Client Error: Unauthorized for url: http://api.opencagedata.com/geocode/v1/json?query=M4B%2C+Toronto%2C+Ontario&key=13aa077d21ae42f287ec8607e07b2159&limit=1\n"
     ]
    },
    {
     "name": "stdout",
     "output_type": "stream",
     "text": [
      "Trying for M4B\n"
     ]
    },
    {
     "name": "stderr",
     "output_type": "stream",
     "text": [
      "Status code 401 from http://api.opencagedata.com/geocode/v1/json: ERROR - 401 Client Error: Unauthorized for url: http://api.opencagedata.com/geocode/v1/json?query=M4B%2C+Toronto%2C+Ontario&key=13aa077d21ae42f287ec8607e07b2159&limit=1\n"
     ]
    },
    {
     "name": "stdout",
     "output_type": "stream",
     "text": [
      "Trying for M4B\n"
     ]
    },
    {
     "name": "stderr",
     "output_type": "stream",
     "text": [
      "Status code 401 from http://api.opencagedata.com/geocode/v1/json: ERROR - 401 Client Error: Unauthorized for url: http://api.opencagedata.com/geocode/v1/json?query=M4B%2C+Toronto%2C+Ontario&key=13aa077d21ae42f287ec8607e07b2159&limit=1\n"
     ]
    },
    {
     "name": "stdout",
     "output_type": "stream",
     "text": [
      "Trying for M4B\n"
     ]
    },
    {
     "name": "stderr",
     "output_type": "stream",
     "text": [
      "Status code 401 from http://api.opencagedata.com/geocode/v1/json: ERROR - 401 Client Error: Unauthorized for url: http://api.opencagedata.com/geocode/v1/json?query=M4B%2C+Toronto%2C+Ontario&key=13aa077d21ae42f287ec8607e07b2159&limit=1\n"
     ]
    },
    {
     "name": "stdout",
     "output_type": "stream",
     "text": [
      "Trying for M4B\n"
     ]
    },
    {
     "name": "stderr",
     "output_type": "stream",
     "text": [
      "Status code 401 from http://api.opencagedata.com/geocode/v1/json: ERROR - 401 Client Error: Unauthorized for url: http://api.opencagedata.com/geocode/v1/json?query=M4B%2C+Toronto%2C+Ontario&key=13aa077d21ae42f287ec8607e07b2159&limit=1\n"
     ]
    },
    {
     "name": "stdout",
     "output_type": "stream",
     "text": [
      "Trying for M4B\n"
     ]
    },
    {
     "name": "stderr",
     "output_type": "stream",
     "text": [
      "Status code 401 from http://api.opencagedata.com/geocode/v1/json: ERROR - 401 Client Error: Unauthorized for url: http://api.opencagedata.com/geocode/v1/json?query=M4B%2C+Toronto%2C+Ontario&key=13aa077d21ae42f287ec8607e07b2159&limit=1\n"
     ]
    },
    {
     "name": "stdout",
     "output_type": "stream",
     "text": [
      "Trying for M4B\n"
     ]
    },
    {
     "name": "stderr",
     "output_type": "stream",
     "text": [
      "Status code 401 from http://api.opencagedata.com/geocode/v1/json: ERROR - 401 Client Error: Unauthorized for url: http://api.opencagedata.com/geocode/v1/json?query=M4B%2C+Toronto%2C+Ontario&key=13aa077d21ae42f287ec8607e07b2159&limit=1\n"
     ]
    },
    {
     "name": "stdout",
     "output_type": "stream",
     "text": [
      "Trying for M4B\n"
     ]
    },
    {
     "name": "stderr",
     "output_type": "stream",
     "text": [
      "Status code 401 from http://api.opencagedata.com/geocode/v1/json: ERROR - 401 Client Error: Unauthorized for url: http://api.opencagedata.com/geocode/v1/json?query=M4B%2C+Toronto%2C+Ontario&key=13aa077d21ae42f287ec8607e07b2159&limit=1\n"
     ]
    },
    {
     "name": "stdout",
     "output_type": "stream",
     "text": [
      "Trying for M4B\n"
     ]
    },
    {
     "name": "stderr",
     "output_type": "stream",
     "text": [
      "Status code 401 from http://api.opencagedata.com/geocode/v1/json: ERROR - 401 Client Error: Unauthorized for url: http://api.opencagedata.com/geocode/v1/json?query=M4B%2C+Toronto%2C+Ontario&key=13aa077d21ae42f287ec8607e07b2159&limit=1\n"
     ]
    },
    {
     "name": "stdout",
     "output_type": "stream",
     "text": [
      "Trying for M4B\n"
     ]
    },
    {
     "name": "stderr",
     "output_type": "stream",
     "text": [
      "Status code 401 from http://api.opencagedata.com/geocode/v1/json: ERROR - 401 Client Error: Unauthorized for url: http://api.opencagedata.com/geocode/v1/json?query=M4B%2C+Toronto%2C+Ontario&key=13aa077d21ae42f287ec8607e07b2159&limit=1\n"
     ]
    },
    {
     "name": "stdout",
     "output_type": "stream",
     "text": [
      "Trying for M4B\n"
     ]
    },
    {
     "name": "stderr",
     "output_type": "stream",
     "text": [
      "Status code 401 from http://api.opencagedata.com/geocode/v1/json: ERROR - 401 Client Error: Unauthorized for url: http://api.opencagedata.com/geocode/v1/json?query=M4B%2C+Toronto%2C+Ontario&key=13aa077d21ae42f287ec8607e07b2159&limit=1\n"
     ]
    },
    {
     "name": "stdout",
     "output_type": "stream",
     "text": [
      "Trying for M4B\n"
     ]
    },
    {
     "name": "stderr",
     "output_type": "stream",
     "text": [
      "Status code 401 from http://api.opencagedata.com/geocode/v1/json: ERROR - 401 Client Error: Unauthorized for url: http://api.opencagedata.com/geocode/v1/json?query=M4B%2C+Toronto%2C+Ontario&key=13aa077d21ae42f287ec8607e07b2159&limit=1\n"
     ]
    },
    {
     "name": "stdout",
     "output_type": "stream",
     "text": [
      "Trying for M4B\n"
     ]
    },
    {
     "name": "stderr",
     "output_type": "stream",
     "text": [
      "Status code 401 from http://api.opencagedata.com/geocode/v1/json: ERROR - 401 Client Error: Unauthorized for url: http://api.opencagedata.com/geocode/v1/json?query=M4B%2C+Toronto%2C+Ontario&key=13aa077d21ae42f287ec8607e07b2159&limit=1\n"
     ]
    },
    {
     "name": "stdout",
     "output_type": "stream",
     "text": [
      "Trying for M4B\n"
     ]
    },
    {
     "name": "stderr",
     "output_type": "stream",
     "text": [
      "Status code 401 from http://api.opencagedata.com/geocode/v1/json: ERROR - 401 Client Error: Unauthorized for url: http://api.opencagedata.com/geocode/v1/json?query=M4B%2C+Toronto%2C+Ontario&key=13aa077d21ae42f287ec8607e07b2159&limit=1\n"
     ]
    },
    {
     "name": "stdout",
     "output_type": "stream",
     "text": [
      "Trying for M4B\n"
     ]
    },
    {
     "name": "stderr",
     "output_type": "stream",
     "text": [
      "Status code 401 from http://api.opencagedata.com/geocode/v1/json: ERROR - 401 Client Error: Unauthorized for url: http://api.opencagedata.com/geocode/v1/json?query=M4B%2C+Toronto%2C+Ontario&key=13aa077d21ae42f287ec8607e07b2159&limit=1\n"
     ]
    },
    {
     "name": "stdout",
     "output_type": "stream",
     "text": [
      "Trying for M4B\n"
     ]
    },
    {
     "name": "stderr",
     "output_type": "stream",
     "text": [
      "Status code 401 from http://api.opencagedata.com/geocode/v1/json: ERROR - 401 Client Error: Unauthorized for url: http://api.opencagedata.com/geocode/v1/json?query=M4B%2C+Toronto%2C+Ontario&key=13aa077d21ae42f287ec8607e07b2159&limit=1\n"
     ]
    },
    {
     "name": "stdout",
     "output_type": "stream",
     "text": [
      "Trying for M4B\n"
     ]
    },
    {
     "name": "stderr",
     "output_type": "stream",
     "text": [
      "Status code 401 from http://api.opencagedata.com/geocode/v1/json: ERROR - 401 Client Error: Unauthorized for url: http://api.opencagedata.com/geocode/v1/json?query=M4B%2C+Toronto%2C+Ontario&key=13aa077d21ae42f287ec8607e07b2159&limit=1\n"
     ]
    },
    {
     "name": "stdout",
     "output_type": "stream",
     "text": [
      "Trying for M4B\n"
     ]
    },
    {
     "name": "stderr",
     "output_type": "stream",
     "text": [
      "Status code 401 from http://api.opencagedata.com/geocode/v1/json: ERROR - 401 Client Error: Unauthorized for url: http://api.opencagedata.com/geocode/v1/json?query=M4B%2C+Toronto%2C+Ontario&key=13aa077d21ae42f287ec8607e07b2159&limit=1\n"
     ]
    },
    {
     "name": "stdout",
     "output_type": "stream",
     "text": [
      "Trying for M4B\n"
     ]
    },
    {
     "name": "stderr",
     "output_type": "stream",
     "text": [
      "Status code 401 from http://api.opencagedata.com/geocode/v1/json: ERROR - 401 Client Error: Unauthorized for url: http://api.opencagedata.com/geocode/v1/json?query=M4B%2C+Toronto%2C+Ontario&key=13aa077d21ae42f287ec8607e07b2159&limit=1\n"
     ]
    },
    {
     "name": "stdout",
     "output_type": "stream",
     "text": [
      "Trying for M4B\n"
     ]
    },
    {
     "name": "stderr",
     "output_type": "stream",
     "text": [
      "Status code 401 from http://api.opencagedata.com/geocode/v1/json: ERROR - 401 Client Error: Unauthorized for url: http://api.opencagedata.com/geocode/v1/json?query=M4B%2C+Toronto%2C+Ontario&key=13aa077d21ae42f287ec8607e07b2159&limit=1\n"
     ]
    },
    {
     "name": "stdout",
     "output_type": "stream",
     "text": [
      "Trying for M4B\n"
     ]
    },
    {
     "name": "stderr",
     "output_type": "stream",
     "text": [
      "Status code 401 from http://api.opencagedata.com/geocode/v1/json: ERROR - 401 Client Error: Unauthorized for url: http://api.opencagedata.com/geocode/v1/json?query=M4B%2C+Toronto%2C+Ontario&key=13aa077d21ae42f287ec8607e07b2159&limit=1\n"
     ]
    },
    {
     "name": "stdout",
     "output_type": "stream",
     "text": [
      "Trying for M4B\n"
     ]
    },
    {
     "name": "stderr",
     "output_type": "stream",
     "text": [
      "Status code 401 from http://api.opencagedata.com/geocode/v1/json: ERROR - 401 Client Error: Unauthorized for url: http://api.opencagedata.com/geocode/v1/json?query=M4B%2C+Toronto%2C+Ontario&key=13aa077d21ae42f287ec8607e07b2159&limit=1\n"
     ]
    },
    {
     "name": "stdout",
     "output_type": "stream",
     "text": [
      "Trying for M4B\n"
     ]
    },
    {
     "name": "stderr",
     "output_type": "stream",
     "text": [
      "Status code 401 from http://api.opencagedata.com/geocode/v1/json: ERROR - 401 Client Error: Unauthorized for url: http://api.opencagedata.com/geocode/v1/json?query=M4B%2C+Toronto%2C+Ontario&key=13aa077d21ae42f287ec8607e07b2159&limit=1\n"
     ]
    },
    {
     "name": "stdout",
     "output_type": "stream",
     "text": [
      "Trying for M4B\n"
     ]
    },
    {
     "name": "stderr",
     "output_type": "stream",
     "text": [
      "Status code 401 from http://api.opencagedata.com/geocode/v1/json: ERROR - 401 Client Error: Unauthorized for url: http://api.opencagedata.com/geocode/v1/json?query=M4B%2C+Toronto%2C+Ontario&key=13aa077d21ae42f287ec8607e07b2159&limit=1\n"
     ]
    },
    {
     "name": "stdout",
     "output_type": "stream",
     "text": [
      "Trying for M4B\n"
     ]
    },
    {
     "name": "stderr",
     "output_type": "stream",
     "text": [
      "Status code 401 from http://api.opencagedata.com/geocode/v1/json: ERROR - 401 Client Error: Unauthorized for url: http://api.opencagedata.com/geocode/v1/json?query=M4B%2C+Toronto%2C+Ontario&key=13aa077d21ae42f287ec8607e07b2159&limit=1\n"
     ]
    },
    {
     "name": "stdout",
     "output_type": "stream",
     "text": [
      "Trying for M4B\n"
     ]
    },
    {
     "name": "stderr",
     "output_type": "stream",
     "text": [
      "Status code 401 from http://api.opencagedata.com/geocode/v1/json: ERROR - 401 Client Error: Unauthorized for url: http://api.opencagedata.com/geocode/v1/json?query=M4B%2C+Toronto%2C+Ontario&key=13aa077d21ae42f287ec8607e07b2159&limit=1\n"
     ]
    },
    {
     "name": "stdout",
     "output_type": "stream",
     "text": [
      "Trying for M4B\n"
     ]
    },
    {
     "name": "stderr",
     "output_type": "stream",
     "text": [
      "Status code 401 from http://api.opencagedata.com/geocode/v1/json: ERROR - 401 Client Error: Unauthorized for url: http://api.opencagedata.com/geocode/v1/json?query=M4B%2C+Toronto%2C+Ontario&key=13aa077d21ae42f287ec8607e07b2159&limit=1\n"
     ]
    },
    {
     "name": "stdout",
     "output_type": "stream",
     "text": [
      "Trying for M4B\n"
     ]
    },
    {
     "name": "stderr",
     "output_type": "stream",
     "text": [
      "Status code 401 from http://api.opencagedata.com/geocode/v1/json: ERROR - 401 Client Error: Unauthorized for url: http://api.opencagedata.com/geocode/v1/json?query=M4B%2C+Toronto%2C+Ontario&key=13aa077d21ae42f287ec8607e07b2159&limit=1\n"
     ]
    },
    {
     "name": "stdout",
     "output_type": "stream",
     "text": [
      "Trying for M4B\n"
     ]
    },
    {
     "name": "stderr",
     "output_type": "stream",
     "text": [
      "Status code 401 from http://api.opencagedata.com/geocode/v1/json: ERROR - 401 Client Error: Unauthorized for url: http://api.opencagedata.com/geocode/v1/json?query=M4B%2C+Toronto%2C+Ontario&key=13aa077d21ae42f287ec8607e07b2159&limit=1\n"
     ]
    },
    {
     "name": "stdout",
     "output_type": "stream",
     "text": [
      "Trying for M4B\n"
     ]
    },
    {
     "name": "stderr",
     "output_type": "stream",
     "text": [
      "Status code 401 from http://api.opencagedata.com/geocode/v1/json: ERROR - 401 Client Error: Unauthorized for url: http://api.opencagedata.com/geocode/v1/json?query=M4B%2C+Toronto%2C+Ontario&key=13aa077d21ae42f287ec8607e07b2159&limit=1\n"
     ]
    },
    {
     "name": "stdout",
     "output_type": "stream",
     "text": [
      "Trying for M4B\n"
     ]
    },
    {
     "name": "stderr",
     "output_type": "stream",
     "text": [
      "Status code 401 from http://api.opencagedata.com/geocode/v1/json: ERROR - 401 Client Error: Unauthorized for url: http://api.opencagedata.com/geocode/v1/json?query=M4B%2C+Toronto%2C+Ontario&key=13aa077d21ae42f287ec8607e07b2159&limit=1\n"
     ]
    },
    {
     "name": "stdout",
     "output_type": "stream",
     "text": [
      "Trying for M4B\n"
     ]
    },
    {
     "name": "stderr",
     "output_type": "stream",
     "text": [
      "Status code 401 from http://api.opencagedata.com/geocode/v1/json: ERROR - 401 Client Error: Unauthorized for url: http://api.opencagedata.com/geocode/v1/json?query=M4B%2C+Toronto%2C+Ontario&key=13aa077d21ae42f287ec8607e07b2159&limit=1\n"
     ]
    },
    {
     "name": "stdout",
     "output_type": "stream",
     "text": [
      "Trying for M4B\n"
     ]
    },
    {
     "name": "stderr",
     "output_type": "stream",
     "text": [
      "Status code 401 from http://api.opencagedata.com/geocode/v1/json: ERROR - 401 Client Error: Unauthorized for url: http://api.opencagedata.com/geocode/v1/json?query=M4B%2C+Toronto%2C+Ontario&key=13aa077d21ae42f287ec8607e07b2159&limit=1\n"
     ]
    },
    {
     "name": "stdout",
     "output_type": "stream",
     "text": [
      "Trying for M4B\n"
     ]
    },
    {
     "name": "stderr",
     "output_type": "stream",
     "text": [
      "Status code 401 from http://api.opencagedata.com/geocode/v1/json: ERROR - 401 Client Error: Unauthorized for url: http://api.opencagedata.com/geocode/v1/json?query=M4B%2C+Toronto%2C+Ontario&key=13aa077d21ae42f287ec8607e07b2159&limit=1\n"
     ]
    },
    {
     "name": "stdout",
     "output_type": "stream",
     "text": [
      "Trying for M4B\n"
     ]
    },
    {
     "name": "stderr",
     "output_type": "stream",
     "text": [
      "Status code 401 from http://api.opencagedata.com/geocode/v1/json: ERROR - 401 Client Error: Unauthorized for url: http://api.opencagedata.com/geocode/v1/json?query=M4B%2C+Toronto%2C+Ontario&key=13aa077d21ae42f287ec8607e07b2159&limit=1\n"
     ]
    },
    {
     "name": "stdout",
     "output_type": "stream",
     "text": [
      "Trying for M4B\n"
     ]
    },
    {
     "name": "stderr",
     "output_type": "stream",
     "text": [
      "Status code 401 from http://api.opencagedata.com/geocode/v1/json: ERROR - 401 Client Error: Unauthorized for url: http://api.opencagedata.com/geocode/v1/json?query=M4B%2C+Toronto%2C+Ontario&key=13aa077d21ae42f287ec8607e07b2159&limit=1\n"
     ]
    },
    {
     "name": "stdout",
     "output_type": "stream",
     "text": [
      "Trying for M4B\n"
     ]
    },
    {
     "name": "stderr",
     "output_type": "stream",
     "text": [
      "Status code 401 from http://api.opencagedata.com/geocode/v1/json: ERROR - 401 Client Error: Unauthorized for url: http://api.opencagedata.com/geocode/v1/json?query=M4B%2C+Toronto%2C+Ontario&key=13aa077d21ae42f287ec8607e07b2159&limit=1\n"
     ]
    },
    {
     "name": "stdout",
     "output_type": "stream",
     "text": [
      "Trying for M4B\n"
     ]
    },
    {
     "name": "stderr",
     "output_type": "stream",
     "text": [
      "Status code 401 from http://api.opencagedata.com/geocode/v1/json: ERROR - 401 Client Error: Unauthorized for url: http://api.opencagedata.com/geocode/v1/json?query=M4B%2C+Toronto%2C+Ontario&key=13aa077d21ae42f287ec8607e07b2159&limit=1\n"
     ]
    },
    {
     "name": "stdout",
     "output_type": "stream",
     "text": [
      "Trying for M4B\n"
     ]
    },
    {
     "name": "stderr",
     "output_type": "stream",
     "text": [
      "Status code 401 from http://api.opencagedata.com/geocode/v1/json: ERROR - 401 Client Error: Unauthorized for url: http://api.opencagedata.com/geocode/v1/json?query=M4B%2C+Toronto%2C+Ontario&key=13aa077d21ae42f287ec8607e07b2159&limit=1\n"
     ]
    },
    {
     "name": "stdout",
     "output_type": "stream",
     "text": [
      "Trying for M4B\n"
     ]
    },
    {
     "name": "stderr",
     "output_type": "stream",
     "text": [
      "Status code 401 from http://api.opencagedata.com/geocode/v1/json: ERROR - 401 Client Error: Unauthorized for url: http://api.opencagedata.com/geocode/v1/json?query=M4B%2C+Toronto%2C+Ontario&key=13aa077d21ae42f287ec8607e07b2159&limit=1\n"
     ]
    },
    {
     "name": "stdout",
     "output_type": "stream",
     "text": [
      "Trying for M4B\n"
     ]
    },
    {
     "name": "stderr",
     "output_type": "stream",
     "text": [
      "Status code 401 from http://api.opencagedata.com/geocode/v1/json: ERROR - 401 Client Error: Unauthorized for url: http://api.opencagedata.com/geocode/v1/json?query=M4B%2C+Toronto%2C+Ontario&key=13aa077d21ae42f287ec8607e07b2159&limit=1\n"
     ]
    },
    {
     "name": "stdout",
     "output_type": "stream",
     "text": [
      "Trying for M4B\n"
     ]
    },
    {
     "name": "stderr",
     "output_type": "stream",
     "text": [
      "Status code 401 from http://api.opencagedata.com/geocode/v1/json: ERROR - 401 Client Error: Unauthorized for url: http://api.opencagedata.com/geocode/v1/json?query=M4B%2C+Toronto%2C+Ontario&key=13aa077d21ae42f287ec8607e07b2159&limit=1\n"
     ]
    },
    {
     "name": "stdout",
     "output_type": "stream",
     "text": [
      "Trying for M4B\n"
     ]
    },
    {
     "name": "stderr",
     "output_type": "stream",
     "text": [
      "Status code 401 from http://api.opencagedata.com/geocode/v1/json: ERROR - 401 Client Error: Unauthorized for url: http://api.opencagedata.com/geocode/v1/json?query=M4B%2C+Toronto%2C+Ontario&key=13aa077d21ae42f287ec8607e07b2159&limit=1\n"
     ]
    },
    {
     "name": "stdout",
     "output_type": "stream",
     "text": [
      "Trying for M4B\n"
     ]
    },
    {
     "name": "stderr",
     "output_type": "stream",
     "text": [
      "Status code 401 from http://api.opencagedata.com/geocode/v1/json: ERROR - 401 Client Error: Unauthorized for url: http://api.opencagedata.com/geocode/v1/json?query=M4B%2C+Toronto%2C+Ontario&key=13aa077d21ae42f287ec8607e07b2159&limit=1\n"
     ]
    },
    {
     "name": "stdout",
     "output_type": "stream",
     "text": [
      "Trying for M4B\n"
     ]
    },
    {
     "name": "stderr",
     "output_type": "stream",
     "text": [
      "Status code 401 from http://api.opencagedata.com/geocode/v1/json: ERROR - 401 Client Error: Unauthorized for url: http://api.opencagedata.com/geocode/v1/json?query=M4B%2C+Toronto%2C+Ontario&key=13aa077d21ae42f287ec8607e07b2159&limit=1\n"
     ]
    },
    {
     "name": "stdout",
     "output_type": "stream",
     "text": [
      "Trying for M4B\n"
     ]
    },
    {
     "name": "stderr",
     "output_type": "stream",
     "text": [
      "Status code 401 from http://api.opencagedata.com/geocode/v1/json: ERROR - 401 Client Error: Unauthorized for url: http://api.opencagedata.com/geocode/v1/json?query=M4B%2C+Toronto%2C+Ontario&key=13aa077d21ae42f287ec8607e07b2159&limit=1\n"
     ]
    },
    {
     "name": "stdout",
     "output_type": "stream",
     "text": [
      "Trying for M4B\n"
     ]
    },
    {
     "name": "stderr",
     "output_type": "stream",
     "text": [
      "Status code 401 from http://api.opencagedata.com/geocode/v1/json: ERROR - 401 Client Error: Unauthorized for url: http://api.opencagedata.com/geocode/v1/json?query=M4B%2C+Toronto%2C+Ontario&key=13aa077d21ae42f287ec8607e07b2159&limit=1\n"
     ]
    },
    {
     "name": "stdout",
     "output_type": "stream",
     "text": [
      "Trying for M4B\n"
     ]
    },
    {
     "name": "stderr",
     "output_type": "stream",
     "text": [
      "Status code 401 from http://api.opencagedata.com/geocode/v1/json: ERROR - 401 Client Error: Unauthorized for url: http://api.opencagedata.com/geocode/v1/json?query=M4B%2C+Toronto%2C+Ontario&key=13aa077d21ae42f287ec8607e07b2159&limit=1\n"
     ]
    },
    {
     "name": "stdout",
     "output_type": "stream",
     "text": [
      "Trying for M4B\n"
     ]
    },
    {
     "name": "stderr",
     "output_type": "stream",
     "text": [
      "Status code 401 from http://api.opencagedata.com/geocode/v1/json: ERROR - 401 Client Error: Unauthorized for url: http://api.opencagedata.com/geocode/v1/json?query=M4B%2C+Toronto%2C+Ontario&key=13aa077d21ae42f287ec8607e07b2159&limit=1\n"
     ]
    },
    {
     "name": "stdout",
     "output_type": "stream",
     "text": [
      "Trying for M4B\n"
     ]
    },
    {
     "name": "stderr",
     "output_type": "stream",
     "text": [
      "Status code 401 from http://api.opencagedata.com/geocode/v1/json: ERROR - 401 Client Error: Unauthorized for url: http://api.opencagedata.com/geocode/v1/json?query=M4B%2C+Toronto%2C+Ontario&key=13aa077d21ae42f287ec8607e07b2159&limit=1\n"
     ]
    },
    {
     "name": "stdout",
     "output_type": "stream",
     "text": [
      "Trying for M4B\n"
     ]
    },
    {
     "name": "stderr",
     "output_type": "stream",
     "text": [
      "Status code 401 from http://api.opencagedata.com/geocode/v1/json: ERROR - 401 Client Error: Unauthorized for url: http://api.opencagedata.com/geocode/v1/json?query=M4B%2C+Toronto%2C+Ontario&key=13aa077d21ae42f287ec8607e07b2159&limit=1\n"
     ]
    },
    {
     "name": "stdout",
     "output_type": "stream",
     "text": [
      "Trying for M4B\n"
     ]
    },
    {
     "name": "stderr",
     "output_type": "stream",
     "text": [
      "Status code 401 from http://api.opencagedata.com/geocode/v1/json: ERROR - 401 Client Error: Unauthorized for url: http://api.opencagedata.com/geocode/v1/json?query=M4B%2C+Toronto%2C+Ontario&key=13aa077d21ae42f287ec8607e07b2159&limit=1\n"
     ]
    },
    {
     "name": "stdout",
     "output_type": "stream",
     "text": [
      "Trying for M4B\n"
     ]
    },
    {
     "name": "stderr",
     "output_type": "stream",
     "text": [
      "Status code 401 from http://api.opencagedata.com/geocode/v1/json: ERROR - 401 Client Error: Unauthorized for url: http://api.opencagedata.com/geocode/v1/json?query=M4B%2C+Toronto%2C+Ontario&key=13aa077d21ae42f287ec8607e07b2159&limit=1\n"
     ]
    },
    {
     "name": "stdout",
     "output_type": "stream",
     "text": [
      "Trying for M4B\n"
     ]
    },
    {
     "name": "stderr",
     "output_type": "stream",
     "text": [
      "Status code 401 from http://api.opencagedata.com/geocode/v1/json: ERROR - 401 Client Error: Unauthorized for url: http://api.opencagedata.com/geocode/v1/json?query=M4B%2C+Toronto%2C+Ontario&key=13aa077d21ae42f287ec8607e07b2159&limit=1\n"
     ]
    },
    {
     "name": "stdout",
     "output_type": "stream",
     "text": [
      "Trying for M4B\n"
     ]
    },
    {
     "name": "stderr",
     "output_type": "stream",
     "text": [
      "Status code 401 from http://api.opencagedata.com/geocode/v1/json: ERROR - 401 Client Error: Unauthorized for url: http://api.opencagedata.com/geocode/v1/json?query=M4B%2C+Toronto%2C+Ontario&key=13aa077d21ae42f287ec8607e07b2159&limit=1\n"
     ]
    },
    {
     "name": "stdout",
     "output_type": "stream",
     "text": [
      "Trying for M4B\n"
     ]
    },
    {
     "name": "stderr",
     "output_type": "stream",
     "text": [
      "Status code 401 from http://api.opencagedata.com/geocode/v1/json: ERROR - 401 Client Error: Unauthorized for url: http://api.opencagedata.com/geocode/v1/json?query=M4B%2C+Toronto%2C+Ontario&key=13aa077d21ae42f287ec8607e07b2159&limit=1\n"
     ]
    },
    {
     "name": "stdout",
     "output_type": "stream",
     "text": [
      "Trying for M4B\n"
     ]
    },
    {
     "name": "stderr",
     "output_type": "stream",
     "text": [
      "Status code 401 from http://api.opencagedata.com/geocode/v1/json: ERROR - 401 Client Error: Unauthorized for url: http://api.opencagedata.com/geocode/v1/json?query=M4B%2C+Toronto%2C+Ontario&key=13aa077d21ae42f287ec8607e07b2159&limit=1\n"
     ]
    },
    {
     "name": "stdout",
     "output_type": "stream",
     "text": [
      "Trying for M4B\n"
     ]
    },
    {
     "name": "stderr",
     "output_type": "stream",
     "text": [
      "Status code 401 from http://api.opencagedata.com/geocode/v1/json: ERROR - 401 Client Error: Unauthorized for url: http://api.opencagedata.com/geocode/v1/json?query=M4B%2C+Toronto%2C+Ontario&key=13aa077d21ae42f287ec8607e07b2159&limit=1\n"
     ]
    },
    {
     "name": "stdout",
     "output_type": "stream",
     "text": [
      "Trying for M4B\n"
     ]
    },
    {
     "name": "stderr",
     "output_type": "stream",
     "text": [
      "Status code 401 from http://api.opencagedata.com/geocode/v1/json: ERROR - 401 Client Error: Unauthorized for url: http://api.opencagedata.com/geocode/v1/json?query=M4B%2C+Toronto%2C+Ontario&key=13aa077d21ae42f287ec8607e07b2159&limit=1\n"
     ]
    },
    {
     "name": "stdout",
     "output_type": "stream",
     "text": [
      "Trying for M4B\n"
     ]
    },
    {
     "name": "stderr",
     "output_type": "stream",
     "text": [
      "Status code 401 from http://api.opencagedata.com/geocode/v1/json: ERROR - 401 Client Error: Unauthorized for url: http://api.opencagedata.com/geocode/v1/json?query=M4B%2C+Toronto%2C+Ontario&key=13aa077d21ae42f287ec8607e07b2159&limit=1\n"
     ]
    },
    {
     "name": "stdout",
     "output_type": "stream",
     "text": [
      "Trying for M4B\n"
     ]
    },
    {
     "name": "stderr",
     "output_type": "stream",
     "text": [
      "Status code 401 from http://api.opencagedata.com/geocode/v1/json: ERROR - 401 Client Error: Unauthorized for url: http://api.opencagedata.com/geocode/v1/json?query=M4B%2C+Toronto%2C+Ontario&key=13aa077d21ae42f287ec8607e07b2159&limit=1\n"
     ]
    },
    {
     "name": "stdout",
     "output_type": "stream",
     "text": [
      "Trying for M4B\n"
     ]
    },
    {
     "name": "stderr",
     "output_type": "stream",
     "text": [
      "Status code 401 from http://api.opencagedata.com/geocode/v1/json: ERROR - 401 Client Error: Unauthorized for url: http://api.opencagedata.com/geocode/v1/json?query=M4B%2C+Toronto%2C+Ontario&key=13aa077d21ae42f287ec8607e07b2159&limit=1\n"
     ]
    },
    {
     "name": "stdout",
     "output_type": "stream",
     "text": [
      "Trying for M4B\n"
     ]
    },
    {
     "name": "stderr",
     "output_type": "stream",
     "text": [
      "Status code 401 from http://api.opencagedata.com/geocode/v1/json: ERROR - 401 Client Error: Unauthorized for url: http://api.opencagedata.com/geocode/v1/json?query=M4B%2C+Toronto%2C+Ontario&key=13aa077d21ae42f287ec8607e07b2159&limit=1\n"
     ]
    },
    {
     "name": "stdout",
     "output_type": "stream",
     "text": [
      "Trying for M4B\n"
     ]
    },
    {
     "name": "stderr",
     "output_type": "stream",
     "text": [
      "Status code 401 from http://api.opencagedata.com/geocode/v1/json: ERROR - 401 Client Error: Unauthorized for url: http://api.opencagedata.com/geocode/v1/json?query=M4B%2C+Toronto%2C+Ontario&key=13aa077d21ae42f287ec8607e07b2159&limit=1\n"
     ]
    },
    {
     "name": "stdout",
     "output_type": "stream",
     "text": [
      "Trying for M4B\n"
     ]
    },
    {
     "name": "stderr",
     "output_type": "stream",
     "text": [
      "Status code 401 from http://api.opencagedata.com/geocode/v1/json: ERROR - 401 Client Error: Unauthorized for url: http://api.opencagedata.com/geocode/v1/json?query=M4B%2C+Toronto%2C+Ontario&key=13aa077d21ae42f287ec8607e07b2159&limit=1\n"
     ]
    },
    {
     "name": "stdout",
     "output_type": "stream",
     "text": [
      "Trying for M4B\n"
     ]
    },
    {
     "name": "stderr",
     "output_type": "stream",
     "text": [
      "Status code 401 from http://api.opencagedata.com/geocode/v1/json: ERROR - 401 Client Error: Unauthorized for url: http://api.opencagedata.com/geocode/v1/json?query=M4B%2C+Toronto%2C+Ontario&key=13aa077d21ae42f287ec8607e07b2159&limit=1\n"
     ]
    },
    {
     "name": "stdout",
     "output_type": "stream",
     "text": [
      "Trying for M4B\n"
     ]
    },
    {
     "name": "stderr",
     "output_type": "stream",
     "text": [
      "Status code 401 from http://api.opencagedata.com/geocode/v1/json: ERROR - 401 Client Error: Unauthorized for url: http://api.opencagedata.com/geocode/v1/json?query=M4B%2C+Toronto%2C+Ontario&key=13aa077d21ae42f287ec8607e07b2159&limit=1\n"
     ]
    },
    {
     "name": "stdout",
     "output_type": "stream",
     "text": [
      "Trying for M4B\n"
     ]
    },
    {
     "name": "stderr",
     "output_type": "stream",
     "text": [
      "Status code 401 from http://api.opencagedata.com/geocode/v1/json: ERROR - 401 Client Error: Unauthorized for url: http://api.opencagedata.com/geocode/v1/json?query=M4B%2C+Toronto%2C+Ontario&key=13aa077d21ae42f287ec8607e07b2159&limit=1\n"
     ]
    },
    {
     "name": "stdout",
     "output_type": "stream",
     "text": [
      "Trying for M4B\n"
     ]
    },
    {
     "name": "stderr",
     "output_type": "stream",
     "text": [
      "Status code 401 from http://api.opencagedata.com/geocode/v1/json: ERROR - 401 Client Error: Unauthorized for url: http://api.opencagedata.com/geocode/v1/json?query=M4B%2C+Toronto%2C+Ontario&key=13aa077d21ae42f287ec8607e07b2159&limit=1\n"
     ]
    },
    {
     "name": "stdout",
     "output_type": "stream",
     "text": [
      "Trying for M4B\n"
     ]
    },
    {
     "name": "stderr",
     "output_type": "stream",
     "text": [
      "Status code 401 from http://api.opencagedata.com/geocode/v1/json: ERROR - 401 Client Error: Unauthorized for url: http://api.opencagedata.com/geocode/v1/json?query=M4B%2C+Toronto%2C+Ontario&key=13aa077d21ae42f287ec8607e07b2159&limit=1\n"
     ]
    },
    {
     "name": "stdout",
     "output_type": "stream",
     "text": [
      "Trying for M4B\n"
     ]
    },
    {
     "name": "stderr",
     "output_type": "stream",
     "text": [
      "Status code 401 from http://api.opencagedata.com/geocode/v1/json: ERROR - 401 Client Error: Unauthorized for url: http://api.opencagedata.com/geocode/v1/json?query=M4B%2C+Toronto%2C+Ontario&key=13aa077d21ae42f287ec8607e07b2159&limit=1\n"
     ]
    },
    {
     "name": "stdout",
     "output_type": "stream",
     "text": [
      "Trying for M4B\n"
     ]
    },
    {
     "name": "stderr",
     "output_type": "stream",
     "text": [
      "Status code 401 from http://api.opencagedata.com/geocode/v1/json: ERROR - 401 Client Error: Unauthorized for url: http://api.opencagedata.com/geocode/v1/json?query=M4B%2C+Toronto%2C+Ontario&key=13aa077d21ae42f287ec8607e07b2159&limit=1\n"
     ]
    },
    {
     "name": "stdout",
     "output_type": "stream",
     "text": [
      "Trying for M4B\n"
     ]
    },
    {
     "name": "stderr",
     "output_type": "stream",
     "text": [
      "Status code 401 from http://api.opencagedata.com/geocode/v1/json: ERROR - 401 Client Error: Unauthorized for url: http://api.opencagedata.com/geocode/v1/json?query=M4B%2C+Toronto%2C+Ontario&key=13aa077d21ae42f287ec8607e07b2159&limit=1\n"
     ]
    },
    {
     "name": "stdout",
     "output_type": "stream",
     "text": [
      "Trying for M4B\n"
     ]
    },
    {
     "name": "stderr",
     "output_type": "stream",
     "text": [
      "Status code 401 from http://api.opencagedata.com/geocode/v1/json: ERROR - 401 Client Error: Unauthorized for url: http://api.opencagedata.com/geocode/v1/json?query=M4B%2C+Toronto%2C+Ontario&key=13aa077d21ae42f287ec8607e07b2159&limit=1\n"
     ]
    },
    {
     "name": "stdout",
     "output_type": "stream",
     "text": [
      "Trying for M4B\n"
     ]
    },
    {
     "name": "stderr",
     "output_type": "stream",
     "text": [
      "Status code 401 from http://api.opencagedata.com/geocode/v1/json: ERROR - 401 Client Error: Unauthorized for url: http://api.opencagedata.com/geocode/v1/json?query=M4B%2C+Toronto%2C+Ontario&key=13aa077d21ae42f287ec8607e07b2159&limit=1\n"
     ]
    },
    {
     "name": "stdout",
     "output_type": "stream",
     "text": [
      "Trying for M4B\n"
     ]
    },
    {
     "name": "stderr",
     "output_type": "stream",
     "text": [
      "Status code 401 from http://api.opencagedata.com/geocode/v1/json: ERROR - 401 Client Error: Unauthorized for url: http://api.opencagedata.com/geocode/v1/json?query=M4B%2C+Toronto%2C+Ontario&key=13aa077d21ae42f287ec8607e07b2159&limit=1\n"
     ]
    },
    {
     "name": "stdout",
     "output_type": "stream",
     "text": [
      "Trying for M4B\n"
     ]
    },
    {
     "name": "stderr",
     "output_type": "stream",
     "text": [
      "Status code 401 from http://api.opencagedata.com/geocode/v1/json: ERROR - 401 Client Error: Unauthorized for url: http://api.opencagedata.com/geocode/v1/json?query=M4B%2C+Toronto%2C+Ontario&key=13aa077d21ae42f287ec8607e07b2159&limit=1\n"
     ]
    },
    {
     "name": "stdout",
     "output_type": "stream",
     "text": [
      "Trying for M4B\n"
     ]
    },
    {
     "name": "stderr",
     "output_type": "stream",
     "text": [
      "Status code 401 from http://api.opencagedata.com/geocode/v1/json: ERROR - 401 Client Error: Unauthorized for url: http://api.opencagedata.com/geocode/v1/json?query=M4B%2C+Toronto%2C+Ontario&key=13aa077d21ae42f287ec8607e07b2159&limit=1\n"
     ]
    },
    {
     "name": "stdout",
     "output_type": "stream",
     "text": [
      "Trying for M4B\n"
     ]
    },
    {
     "name": "stderr",
     "output_type": "stream",
     "text": [
      "Status code 401 from http://api.opencagedata.com/geocode/v1/json: ERROR - 401 Client Error: Unauthorized for url: http://api.opencagedata.com/geocode/v1/json?query=M4B%2C+Toronto%2C+Ontario&key=13aa077d21ae42f287ec8607e07b2159&limit=1\n"
     ]
    },
    {
     "name": "stdout",
     "output_type": "stream",
     "text": [
      "Trying for M4B\n",
      "M4B, done\n",
      "M9B, Toronto, Ontario\n",
      "Trying for M9B\n"
     ]
    },
    {
     "name": "stderr",
     "output_type": "stream",
     "text": [
      "Status code 401 from http://api.opencagedata.com/geocode/v1/json: ERROR - 401 Client Error: Unauthorized for url: http://api.opencagedata.com/geocode/v1/json?query=M9B%2C+Toronto%2C+Ontario&key=13aa077d21ae42f287ec8607e07b2159&limit=1\n"
     ]
    },
    {
     "name": "stdout",
     "output_type": "stream",
     "text": [
      "Trying for M9B\n"
     ]
    },
    {
     "name": "stderr",
     "output_type": "stream",
     "text": [
      "Status code 401 from http://api.opencagedata.com/geocode/v1/json: ERROR - 401 Client Error: Unauthorized for url: http://api.opencagedata.com/geocode/v1/json?query=M9B%2C+Toronto%2C+Ontario&key=13aa077d21ae42f287ec8607e07b2159&limit=1\n"
     ]
    },
    {
     "name": "stdout",
     "output_type": "stream",
     "text": [
      "Trying for M9B\n"
     ]
    },
    {
     "name": "stderr",
     "output_type": "stream",
     "text": [
      "Status code 401 from http://api.opencagedata.com/geocode/v1/json: ERROR - 401 Client Error: Unauthorized for url: http://api.opencagedata.com/geocode/v1/json?query=M9B%2C+Toronto%2C+Ontario&key=13aa077d21ae42f287ec8607e07b2159&limit=1\n"
     ]
    },
    {
     "name": "stdout",
     "output_type": "stream",
     "text": [
      "Trying for M9B\n"
     ]
    },
    {
     "name": "stderr",
     "output_type": "stream",
     "text": [
      "Status code 401 from http://api.opencagedata.com/geocode/v1/json: ERROR - 401 Client Error: Unauthorized for url: http://api.opencagedata.com/geocode/v1/json?query=M9B%2C+Toronto%2C+Ontario&key=13aa077d21ae42f287ec8607e07b2159&limit=1\n"
     ]
    },
    {
     "name": "stdout",
     "output_type": "stream",
     "text": [
      "Trying for M9B\n"
     ]
    },
    {
     "name": "stderr",
     "output_type": "stream",
     "text": [
      "Status code 401 from http://api.opencagedata.com/geocode/v1/json: ERROR - 401 Client Error: Unauthorized for url: http://api.opencagedata.com/geocode/v1/json?query=M9B%2C+Toronto%2C+Ontario&key=13aa077d21ae42f287ec8607e07b2159&limit=1\n"
     ]
    },
    {
     "name": "stdout",
     "output_type": "stream",
     "text": [
      "Trying for M9B\n"
     ]
    },
    {
     "name": "stderr",
     "output_type": "stream",
     "text": [
      "Status code 401 from http://api.opencagedata.com/geocode/v1/json: ERROR - 401 Client Error: Unauthorized for url: http://api.opencagedata.com/geocode/v1/json?query=M9B%2C+Toronto%2C+Ontario&key=13aa077d21ae42f287ec8607e07b2159&limit=1\n"
     ]
    },
    {
     "name": "stdout",
     "output_type": "stream",
     "text": [
      "Trying for M9B\n"
     ]
    },
    {
     "name": "stderr",
     "output_type": "stream",
     "text": [
      "Status code 401 from http://api.opencagedata.com/geocode/v1/json: ERROR - 401 Client Error: Unauthorized for url: http://api.opencagedata.com/geocode/v1/json?query=M9B%2C+Toronto%2C+Ontario&key=13aa077d21ae42f287ec8607e07b2159&limit=1\n"
     ]
    },
    {
     "name": "stdout",
     "output_type": "stream",
     "text": [
      "Trying for M9B\n"
     ]
    },
    {
     "name": "stderr",
     "output_type": "stream",
     "text": [
      "Status code 401 from http://api.opencagedata.com/geocode/v1/json: ERROR - 401 Client Error: Unauthorized for url: http://api.opencagedata.com/geocode/v1/json?query=M9B%2C+Toronto%2C+Ontario&key=13aa077d21ae42f287ec8607e07b2159&limit=1\n"
     ]
    },
    {
     "name": "stdout",
     "output_type": "stream",
     "text": [
      "Trying for M9B\n"
     ]
    },
    {
     "name": "stderr",
     "output_type": "stream",
     "text": [
      "Status code 401 from http://api.opencagedata.com/geocode/v1/json: ERROR - 401 Client Error: Unauthorized for url: http://api.opencagedata.com/geocode/v1/json?query=M9B%2C+Toronto%2C+Ontario&key=13aa077d21ae42f287ec8607e07b2159&limit=1\n"
     ]
    },
    {
     "name": "stdout",
     "output_type": "stream",
     "text": [
      "Trying for M9B\n"
     ]
    },
    {
     "name": "stderr",
     "output_type": "stream",
     "text": [
      "Status code 401 from http://api.opencagedata.com/geocode/v1/json: ERROR - 401 Client Error: Unauthorized for url: http://api.opencagedata.com/geocode/v1/json?query=M9B%2C+Toronto%2C+Ontario&key=13aa077d21ae42f287ec8607e07b2159&limit=1\n"
     ]
    },
    {
     "name": "stdout",
     "output_type": "stream",
     "text": [
      "Trying for M9B\n"
     ]
    },
    {
     "name": "stderr",
     "output_type": "stream",
     "text": [
      "Status code 401 from http://api.opencagedata.com/geocode/v1/json: ERROR - 401 Client Error: Unauthorized for url: http://api.opencagedata.com/geocode/v1/json?query=M9B%2C+Toronto%2C+Ontario&key=13aa077d21ae42f287ec8607e07b2159&limit=1\n"
     ]
    },
    {
     "name": "stdout",
     "output_type": "stream",
     "text": [
      "Trying for M9B\n"
     ]
    },
    {
     "name": "stderr",
     "output_type": "stream",
     "text": [
      "Status code 401 from http://api.opencagedata.com/geocode/v1/json: ERROR - 401 Client Error: Unauthorized for url: http://api.opencagedata.com/geocode/v1/json?query=M9B%2C+Toronto%2C+Ontario&key=13aa077d21ae42f287ec8607e07b2159&limit=1\n"
     ]
    },
    {
     "name": "stdout",
     "output_type": "stream",
     "text": [
      "Trying for M9B\n"
     ]
    },
    {
     "name": "stderr",
     "output_type": "stream",
     "text": [
      "Status code 401 from http://api.opencagedata.com/geocode/v1/json: ERROR - 401 Client Error: Unauthorized for url: http://api.opencagedata.com/geocode/v1/json?query=M9B%2C+Toronto%2C+Ontario&key=13aa077d21ae42f287ec8607e07b2159&limit=1\n"
     ]
    },
    {
     "name": "stdout",
     "output_type": "stream",
     "text": [
      "Trying for M9B\n"
     ]
    },
    {
     "name": "stderr",
     "output_type": "stream",
     "text": [
      "Status code 401 from http://api.opencagedata.com/geocode/v1/json: ERROR - 401 Client Error: Unauthorized for url: http://api.opencagedata.com/geocode/v1/json?query=M9B%2C+Toronto%2C+Ontario&key=13aa077d21ae42f287ec8607e07b2159&limit=1\n"
     ]
    },
    {
     "name": "stdout",
     "output_type": "stream",
     "text": [
      "Trying for M9B\n"
     ]
    },
    {
     "name": "stderr",
     "output_type": "stream",
     "text": [
      "Status code 401 from http://api.opencagedata.com/geocode/v1/json: ERROR - 401 Client Error: Unauthorized for url: http://api.opencagedata.com/geocode/v1/json?query=M9B%2C+Toronto%2C+Ontario&key=13aa077d21ae42f287ec8607e07b2159&limit=1\n"
     ]
    },
    {
     "name": "stdout",
     "output_type": "stream",
     "text": [
      "Trying for M9B\n"
     ]
    },
    {
     "name": "stderr",
     "output_type": "stream",
     "text": [
      "Status code 401 from http://api.opencagedata.com/geocode/v1/json: ERROR - 401 Client Error: Unauthorized for url: http://api.opencagedata.com/geocode/v1/json?query=M9B%2C+Toronto%2C+Ontario&key=13aa077d21ae42f287ec8607e07b2159&limit=1\n"
     ]
    },
    {
     "name": "stdout",
     "output_type": "stream",
     "text": [
      "Trying for M9B\n"
     ]
    },
    {
     "name": "stderr",
     "output_type": "stream",
     "text": [
      "Status code 401 from http://api.opencagedata.com/geocode/v1/json: ERROR - 401 Client Error: Unauthorized for url: http://api.opencagedata.com/geocode/v1/json?query=M9B%2C+Toronto%2C+Ontario&key=13aa077d21ae42f287ec8607e07b2159&limit=1\n"
     ]
    },
    {
     "name": "stdout",
     "output_type": "stream",
     "text": [
      "Trying for M9B\n"
     ]
    },
    {
     "name": "stderr",
     "output_type": "stream",
     "text": [
      "Status code 401 from http://api.opencagedata.com/geocode/v1/json: ERROR - 401 Client Error: Unauthorized for url: http://api.opencagedata.com/geocode/v1/json?query=M9B%2C+Toronto%2C+Ontario&key=13aa077d21ae42f287ec8607e07b2159&limit=1\n"
     ]
    },
    {
     "name": "stdout",
     "output_type": "stream",
     "text": [
      "Trying for M9B\n"
     ]
    },
    {
     "name": "stderr",
     "output_type": "stream",
     "text": [
      "Status code 401 from http://api.opencagedata.com/geocode/v1/json: ERROR - 401 Client Error: Unauthorized for url: http://api.opencagedata.com/geocode/v1/json?query=M9B%2C+Toronto%2C+Ontario&key=13aa077d21ae42f287ec8607e07b2159&limit=1\n"
     ]
    },
    {
     "name": "stdout",
     "output_type": "stream",
     "text": [
      "Trying for M9B\n"
     ]
    },
    {
     "name": "stderr",
     "output_type": "stream",
     "text": [
      "Status code 401 from http://api.opencagedata.com/geocode/v1/json: ERROR - 401 Client Error: Unauthorized for url: http://api.opencagedata.com/geocode/v1/json?query=M9B%2C+Toronto%2C+Ontario&key=13aa077d21ae42f287ec8607e07b2159&limit=1\n"
     ]
    },
    {
     "name": "stdout",
     "output_type": "stream",
     "text": [
      "Trying for M9B\n",
      "M9B, done\n",
      "M7R, Toronto, Ontario\n",
      "Trying for M7R\n"
     ]
    },
    {
     "name": "stderr",
     "output_type": "stream",
     "text": [
      "Status code 401 from http://api.opencagedata.com/geocode/v1/json: ERROR - 401 Client Error: Unauthorized for url: http://api.opencagedata.com/geocode/v1/json?query=M7R%2C+Toronto%2C+Ontario&key=13aa077d21ae42f287ec8607e07b2159&limit=1\n"
     ]
    },
    {
     "name": "stdout",
     "output_type": "stream",
     "text": [
      "Trying for M7R\n"
     ]
    },
    {
     "name": "stderr",
     "output_type": "stream",
     "text": [
      "Status code 401 from http://api.opencagedata.com/geocode/v1/json: ERROR - 401 Client Error: Unauthorized for url: http://api.opencagedata.com/geocode/v1/json?query=M7R%2C+Toronto%2C+Ontario&key=13aa077d21ae42f287ec8607e07b2159&limit=1\n"
     ]
    },
    {
     "name": "stdout",
     "output_type": "stream",
     "text": [
      "Trying for M7R\n"
     ]
    },
    {
     "name": "stderr",
     "output_type": "stream",
     "text": [
      "Status code 401 from http://api.opencagedata.com/geocode/v1/json: ERROR - 401 Client Error: Unauthorized for url: http://api.opencagedata.com/geocode/v1/json?query=M7R%2C+Toronto%2C+Ontario&key=13aa077d21ae42f287ec8607e07b2159&limit=1\n"
     ]
    },
    {
     "name": "stdout",
     "output_type": "stream",
     "text": [
      "Trying for M7R\n"
     ]
    },
    {
     "name": "stderr",
     "output_type": "stream",
     "text": [
      "Status code 401 from http://api.opencagedata.com/geocode/v1/json: ERROR - 401 Client Error: Unauthorized for url: http://api.opencagedata.com/geocode/v1/json?query=M7R%2C+Toronto%2C+Ontario&key=13aa077d21ae42f287ec8607e07b2159&limit=1\n"
     ]
    },
    {
     "name": "stdout",
     "output_type": "stream",
     "text": [
      "Trying for M7R\n"
     ]
    },
    {
     "name": "stderr",
     "output_type": "stream",
     "text": [
      "Status code 401 from http://api.opencagedata.com/geocode/v1/json: ERROR - 401 Client Error: Unauthorized for url: http://api.opencagedata.com/geocode/v1/json?query=M7R%2C+Toronto%2C+Ontario&key=13aa077d21ae42f287ec8607e07b2159&limit=1\n"
     ]
    },
    {
     "name": "stdout",
     "output_type": "stream",
     "text": [
      "Trying for M7R\n"
     ]
    },
    {
     "name": "stderr",
     "output_type": "stream",
     "text": [
      "Status code 401 from http://api.opencagedata.com/geocode/v1/json: ERROR - 401 Client Error: Unauthorized for url: http://api.opencagedata.com/geocode/v1/json?query=M7R%2C+Toronto%2C+Ontario&key=13aa077d21ae42f287ec8607e07b2159&limit=1\n"
     ]
    },
    {
     "name": "stdout",
     "output_type": "stream",
     "text": [
      "Trying for M7R\n"
     ]
    },
    {
     "name": "stderr",
     "output_type": "stream",
     "text": [
      "Status code 401 from http://api.opencagedata.com/geocode/v1/json: ERROR - 401 Client Error: Unauthorized for url: http://api.opencagedata.com/geocode/v1/json?query=M7R%2C+Toronto%2C+Ontario&key=13aa077d21ae42f287ec8607e07b2159&limit=1\n"
     ]
    },
    {
     "name": "stdout",
     "output_type": "stream",
     "text": [
      "Trying for M7R\n"
     ]
    },
    {
     "name": "stderr",
     "output_type": "stream",
     "text": [
      "Status code 401 from http://api.opencagedata.com/geocode/v1/json: ERROR - 401 Client Error: Unauthorized for url: http://api.opencagedata.com/geocode/v1/json?query=M7R%2C+Toronto%2C+Ontario&key=13aa077d21ae42f287ec8607e07b2159&limit=1\n"
     ]
    },
    {
     "name": "stdout",
     "output_type": "stream",
     "text": [
      "Trying for M7R\n"
     ]
    },
    {
     "name": "stderr",
     "output_type": "stream",
     "text": [
      "Status code 401 from http://api.opencagedata.com/geocode/v1/json: ERROR - 401 Client Error: Unauthorized for url: http://api.opencagedata.com/geocode/v1/json?query=M7R%2C+Toronto%2C+Ontario&key=13aa077d21ae42f287ec8607e07b2159&limit=1\n"
     ]
    },
    {
     "name": "stdout",
     "output_type": "stream",
     "text": [
      "Trying for M7R\n"
     ]
    },
    {
     "name": "stderr",
     "output_type": "stream",
     "text": [
      "Status code 401 from http://api.opencagedata.com/geocode/v1/json: ERROR - 401 Client Error: Unauthorized for url: http://api.opencagedata.com/geocode/v1/json?query=M7R%2C+Toronto%2C+Ontario&key=13aa077d21ae42f287ec8607e07b2159&limit=1\n"
     ]
    },
    {
     "name": "stdout",
     "output_type": "stream",
     "text": [
      "Trying for M7R\n"
     ]
    },
    {
     "name": "stderr",
     "output_type": "stream",
     "text": [
      "Status code 401 from http://api.opencagedata.com/geocode/v1/json: ERROR - 401 Client Error: Unauthorized for url: http://api.opencagedata.com/geocode/v1/json?query=M7R%2C+Toronto%2C+Ontario&key=13aa077d21ae42f287ec8607e07b2159&limit=1\n"
     ]
    },
    {
     "name": "stdout",
     "output_type": "stream",
     "text": [
      "Trying for M7R\n"
     ]
    },
    {
     "name": "stderr",
     "output_type": "stream",
     "text": [
      "Status code 401 from http://api.opencagedata.com/geocode/v1/json: ERROR - 401 Client Error: Unauthorized for url: http://api.opencagedata.com/geocode/v1/json?query=M7R%2C+Toronto%2C+Ontario&key=13aa077d21ae42f287ec8607e07b2159&limit=1\n"
     ]
    },
    {
     "name": "stdout",
     "output_type": "stream",
     "text": [
      "Trying for M7R\n"
     ]
    },
    {
     "name": "stderr",
     "output_type": "stream",
     "text": [
      "Status code 401 from http://api.opencagedata.com/geocode/v1/json: ERROR - 401 Client Error: Unauthorized for url: http://api.opencagedata.com/geocode/v1/json?query=M7R%2C+Toronto%2C+Ontario&key=13aa077d21ae42f287ec8607e07b2159&limit=1\n"
     ]
    },
    {
     "name": "stdout",
     "output_type": "stream",
     "text": [
      "Trying for M7R\n"
     ]
    },
    {
     "name": "stderr",
     "output_type": "stream",
     "text": [
      "Status code 401 from http://api.opencagedata.com/geocode/v1/json: ERROR - 401 Client Error: Unauthorized for url: http://api.opencagedata.com/geocode/v1/json?query=M7R%2C+Toronto%2C+Ontario&key=13aa077d21ae42f287ec8607e07b2159&limit=1\n"
     ]
    },
    {
     "name": "stdout",
     "output_type": "stream",
     "text": [
      "Trying for M7R\n"
     ]
    },
    {
     "name": "stderr",
     "output_type": "stream",
     "text": [
      "Status code 401 from http://api.opencagedata.com/geocode/v1/json: ERROR - 401 Client Error: Unauthorized for url: http://api.opencagedata.com/geocode/v1/json?query=M7R%2C+Toronto%2C+Ontario&key=13aa077d21ae42f287ec8607e07b2159&limit=1\n"
     ]
    },
    {
     "name": "stdout",
     "output_type": "stream",
     "text": [
      "Trying for M7R\n"
     ]
    },
    {
     "name": "stderr",
     "output_type": "stream",
     "text": [
      "Status code 401 from http://api.opencagedata.com/geocode/v1/json: ERROR - 401 Client Error: Unauthorized for url: http://api.opencagedata.com/geocode/v1/json?query=M7R%2C+Toronto%2C+Ontario&key=13aa077d21ae42f287ec8607e07b2159&limit=1\n"
     ]
    },
    {
     "name": "stdout",
     "output_type": "stream",
     "text": [
      "Trying for M7R\n"
     ]
    },
    {
     "name": "stderr",
     "output_type": "stream",
     "text": [
      "Status code 401 from http://api.opencagedata.com/geocode/v1/json: ERROR - 401 Client Error: Unauthorized for url: http://api.opencagedata.com/geocode/v1/json?query=M7R%2C+Toronto%2C+Ontario&key=13aa077d21ae42f287ec8607e07b2159&limit=1\n"
     ]
    },
    {
     "name": "stdout",
     "output_type": "stream",
     "text": [
      "Trying for M7R\n"
     ]
    },
    {
     "name": "stderr",
     "output_type": "stream",
     "text": [
      "Status code 401 from http://api.opencagedata.com/geocode/v1/json: ERROR - 401 Client Error: Unauthorized for url: http://api.opencagedata.com/geocode/v1/json?query=M7R%2C+Toronto%2C+Ontario&key=13aa077d21ae42f287ec8607e07b2159&limit=1\n"
     ]
    },
    {
     "name": "stdout",
     "output_type": "stream",
     "text": [
      "Trying for M7R\n"
     ]
    },
    {
     "name": "stderr",
     "output_type": "stream",
     "text": [
      "Status code 401 from http://api.opencagedata.com/geocode/v1/json: ERROR - 401 Client Error: Unauthorized for url: http://api.opencagedata.com/geocode/v1/json?query=M7R%2C+Toronto%2C+Ontario&key=13aa077d21ae42f287ec8607e07b2159&limit=1\n"
     ]
    },
    {
     "name": "stdout",
     "output_type": "stream",
     "text": [
      "Trying for M7R\n"
     ]
    },
    {
     "name": "stderr",
     "output_type": "stream",
     "text": [
      "Status code 401 from http://api.opencagedata.com/geocode/v1/json: ERROR - 401 Client Error: Unauthorized for url: http://api.opencagedata.com/geocode/v1/json?query=M7R%2C+Toronto%2C+Ontario&key=13aa077d21ae42f287ec8607e07b2159&limit=1\n"
     ]
    },
    {
     "name": "stdout",
     "output_type": "stream",
     "text": [
      "Trying for M7R\n"
     ]
    },
    {
     "name": "stderr",
     "output_type": "stream",
     "text": [
      "Status code 401 from http://api.opencagedata.com/geocode/v1/json: ERROR - 401 Client Error: Unauthorized for url: http://api.opencagedata.com/geocode/v1/json?query=M7R%2C+Toronto%2C+Ontario&key=13aa077d21ae42f287ec8607e07b2159&limit=1\n"
     ]
    },
    {
     "name": "stdout",
     "output_type": "stream",
     "text": [
      "Trying for M7R\n"
     ]
    },
    {
     "name": "stderr",
     "output_type": "stream",
     "text": [
      "Status code 401 from http://api.opencagedata.com/geocode/v1/json: ERROR - 401 Client Error: Unauthorized for url: http://api.opencagedata.com/geocode/v1/json?query=M7R%2C+Toronto%2C+Ontario&key=13aa077d21ae42f287ec8607e07b2159&limit=1\n"
     ]
    },
    {
     "name": "stdout",
     "output_type": "stream",
     "text": [
      "Trying for M7R\n"
     ]
    },
    {
     "name": "stderr",
     "output_type": "stream",
     "text": [
      "Status code 401 from http://api.opencagedata.com/geocode/v1/json: ERROR - 401 Client Error: Unauthorized for url: http://api.opencagedata.com/geocode/v1/json?query=M7R%2C+Toronto%2C+Ontario&key=13aa077d21ae42f287ec8607e07b2159&limit=1\n"
     ]
    },
    {
     "name": "stdout",
     "output_type": "stream",
     "text": [
      "Trying for M7R\n"
     ]
    },
    {
     "name": "stderr",
     "output_type": "stream",
     "text": [
      "Status code 401 from http://api.opencagedata.com/geocode/v1/json: ERROR - 401 Client Error: Unauthorized for url: http://api.opencagedata.com/geocode/v1/json?query=M7R%2C+Toronto%2C+Ontario&key=13aa077d21ae42f287ec8607e07b2159&limit=1\n"
     ]
    },
    {
     "name": "stdout",
     "output_type": "stream",
     "text": [
      "Trying for M7R\n"
     ]
    },
    {
     "name": "stderr",
     "output_type": "stream",
     "text": [
      "Status code 401 from http://api.opencagedata.com/geocode/v1/json: ERROR - 401 Client Error: Unauthorized for url: http://api.opencagedata.com/geocode/v1/json?query=M7R%2C+Toronto%2C+Ontario&key=13aa077d21ae42f287ec8607e07b2159&limit=1\n"
     ]
    },
    {
     "name": "stdout",
     "output_type": "stream",
     "text": [
      "Trying for M7R\n"
     ]
    },
    {
     "name": "stderr",
     "output_type": "stream",
     "text": [
      "Status code 401 from http://api.opencagedata.com/geocode/v1/json: ERROR - 401 Client Error: Unauthorized for url: http://api.opencagedata.com/geocode/v1/json?query=M7R%2C+Toronto%2C+Ontario&key=13aa077d21ae42f287ec8607e07b2159&limit=1\n"
     ]
    },
    {
     "name": "stdout",
     "output_type": "stream",
     "text": [
      "Trying for M7R\n"
     ]
    },
    {
     "name": "stderr",
     "output_type": "stream",
     "text": [
      "Status code 401 from http://api.opencagedata.com/geocode/v1/json: ERROR - 401 Client Error: Unauthorized for url: http://api.opencagedata.com/geocode/v1/json?query=M7R%2C+Toronto%2C+Ontario&key=13aa077d21ae42f287ec8607e07b2159&limit=1\n"
     ]
    },
    {
     "name": "stdout",
     "output_type": "stream",
     "text": [
      "Trying for M7R\n"
     ]
    },
    {
     "name": "stderr",
     "output_type": "stream",
     "text": [
      "Status code 401 from http://api.opencagedata.com/geocode/v1/json: ERROR - 401 Client Error: Unauthorized for url: http://api.opencagedata.com/geocode/v1/json?query=M7R%2C+Toronto%2C+Ontario&key=13aa077d21ae42f287ec8607e07b2159&limit=1\n"
     ]
    },
    {
     "name": "stdout",
     "output_type": "stream",
     "text": [
      "Trying for M7R\n"
     ]
    },
    {
     "name": "stderr",
     "output_type": "stream",
     "text": [
      "Status code 401 from http://api.opencagedata.com/geocode/v1/json: ERROR - 401 Client Error: Unauthorized for url: http://api.opencagedata.com/geocode/v1/json?query=M7R%2C+Toronto%2C+Ontario&key=13aa077d21ae42f287ec8607e07b2159&limit=1\n"
     ]
    },
    {
     "name": "stdout",
     "output_type": "stream",
     "text": [
      "Trying for M7R\n",
      "M7R, done\n",
      "M3A, Toronto, Ontario\n",
      "Trying for M3A\n"
     ]
    },
    {
     "name": "stderr",
     "output_type": "stream",
     "text": [
      "Status code 401 from http://api.opencagedata.com/geocode/v1/json: ERROR - 401 Client Error: Unauthorized for url: http://api.opencagedata.com/geocode/v1/json?query=M3A%2C+Toronto%2C+Ontario&key=13aa077d21ae42f287ec8607e07b2159&limit=1\n"
     ]
    },
    {
     "name": "stdout",
     "output_type": "stream",
     "text": [
      "Trying for M3A\n",
      "M3A, done\n",
      "M9A, Toronto, Ontario\n",
      "Trying for M9A\n"
     ]
    },
    {
     "name": "stderr",
     "output_type": "stream",
     "text": [
      "Status code 401 from http://api.opencagedata.com/geocode/v1/json: ERROR - 401 Client Error: Unauthorized for url: http://api.opencagedata.com/geocode/v1/json?query=M9A%2C+Toronto%2C+Ontario&key=13aa077d21ae42f287ec8607e07b2159&limit=1\n"
     ]
    },
    {
     "name": "stdout",
     "output_type": "stream",
     "text": [
      "Trying for M9A\n"
     ]
    },
    {
     "name": "stderr",
     "output_type": "stream",
     "text": [
      "Status code 401 from http://api.opencagedata.com/geocode/v1/json: ERROR - 401 Client Error: Unauthorized for url: http://api.opencagedata.com/geocode/v1/json?query=M9A%2C+Toronto%2C+Ontario&key=13aa077d21ae42f287ec8607e07b2159&limit=1\n"
     ]
    },
    {
     "name": "stdout",
     "output_type": "stream",
     "text": [
      "Trying for M9A\n"
     ]
    },
    {
     "name": "stderr",
     "output_type": "stream",
     "text": [
      "Status code 401 from http://api.opencagedata.com/geocode/v1/json: ERROR - 401 Client Error: Unauthorized for url: http://api.opencagedata.com/geocode/v1/json?query=M9A%2C+Toronto%2C+Ontario&key=13aa077d21ae42f287ec8607e07b2159&limit=1\n"
     ]
    },
    {
     "name": "stdout",
     "output_type": "stream",
     "text": [
      "Trying for M9A\n"
     ]
    },
    {
     "name": "stderr",
     "output_type": "stream",
     "text": [
      "Status code 401 from http://api.opencagedata.com/geocode/v1/json: ERROR - 401 Client Error: Unauthorized for url: http://api.opencagedata.com/geocode/v1/json?query=M9A%2C+Toronto%2C+Ontario&key=13aa077d21ae42f287ec8607e07b2159&limit=1\n"
     ]
    },
    {
     "name": "stdout",
     "output_type": "stream",
     "text": [
      "Trying for M9A\n"
     ]
    },
    {
     "name": "stderr",
     "output_type": "stream",
     "text": [
      "Status code 401 from http://api.opencagedata.com/geocode/v1/json: ERROR - 401 Client Error: Unauthorized for url: http://api.opencagedata.com/geocode/v1/json?query=M9A%2C+Toronto%2C+Ontario&key=13aa077d21ae42f287ec8607e07b2159&limit=1\n"
     ]
    },
    {
     "name": "stdout",
     "output_type": "stream",
     "text": [
      "Trying for M9A\n"
     ]
    },
    {
     "name": "stderr",
     "output_type": "stream",
     "text": [
      "Status code 401 from http://api.opencagedata.com/geocode/v1/json: ERROR - 401 Client Error: Unauthorized for url: http://api.opencagedata.com/geocode/v1/json?query=M9A%2C+Toronto%2C+Ontario&key=13aa077d21ae42f287ec8607e07b2159&limit=1\n"
     ]
    },
    {
     "name": "stdout",
     "output_type": "stream",
     "text": [
      "Trying for M9A\n"
     ]
    },
    {
     "name": "stderr",
     "output_type": "stream",
     "text": [
      "Status code 401 from http://api.opencagedata.com/geocode/v1/json: ERROR - 401 Client Error: Unauthorized for url: http://api.opencagedata.com/geocode/v1/json?query=M9A%2C+Toronto%2C+Ontario&key=13aa077d21ae42f287ec8607e07b2159&limit=1\n"
     ]
    },
    {
     "name": "stdout",
     "output_type": "stream",
     "text": [
      "Trying for M9A\n"
     ]
    },
    {
     "name": "stderr",
     "output_type": "stream",
     "text": [
      "Status code 401 from http://api.opencagedata.com/geocode/v1/json: ERROR - 401 Client Error: Unauthorized for url: http://api.opencagedata.com/geocode/v1/json?query=M9A%2C+Toronto%2C+Ontario&key=13aa077d21ae42f287ec8607e07b2159&limit=1\n"
     ]
    },
    {
     "name": "stdout",
     "output_type": "stream",
     "text": [
      "Trying for M9A\n"
     ]
    },
    {
     "name": "stderr",
     "output_type": "stream",
     "text": [
      "Status code 401 from http://api.opencagedata.com/geocode/v1/json: ERROR - 401 Client Error: Unauthorized for url: http://api.opencagedata.com/geocode/v1/json?query=M9A%2C+Toronto%2C+Ontario&key=13aa077d21ae42f287ec8607e07b2159&limit=1\n"
     ]
    },
    {
     "name": "stdout",
     "output_type": "stream",
     "text": [
      "Trying for M9A\n"
     ]
    },
    {
     "name": "stderr",
     "output_type": "stream",
     "text": [
      "Status code 401 from http://api.opencagedata.com/geocode/v1/json: ERROR - 401 Client Error: Unauthorized for url: http://api.opencagedata.com/geocode/v1/json?query=M9A%2C+Toronto%2C+Ontario&key=13aa077d21ae42f287ec8607e07b2159&limit=1\n"
     ]
    },
    {
     "name": "stdout",
     "output_type": "stream",
     "text": [
      "Trying for M9A\n"
     ]
    },
    {
     "name": "stderr",
     "output_type": "stream",
     "text": [
      "Status code 401 from http://api.opencagedata.com/geocode/v1/json: ERROR - 401 Client Error: Unauthorized for url: http://api.opencagedata.com/geocode/v1/json?query=M9A%2C+Toronto%2C+Ontario&key=13aa077d21ae42f287ec8607e07b2159&limit=1\n"
     ]
    },
    {
     "name": "stdout",
     "output_type": "stream",
     "text": [
      "Trying for M9A\n"
     ]
    },
    {
     "name": "stderr",
     "output_type": "stream",
     "text": [
      "Status code 401 from http://api.opencagedata.com/geocode/v1/json: ERROR - 401 Client Error: Unauthorized for url: http://api.opencagedata.com/geocode/v1/json?query=M9A%2C+Toronto%2C+Ontario&key=13aa077d21ae42f287ec8607e07b2159&limit=1\n"
     ]
    },
    {
     "name": "stdout",
     "output_type": "stream",
     "text": [
      "Trying for M9A\n"
     ]
    },
    {
     "name": "stderr",
     "output_type": "stream",
     "text": [
      "Status code 401 from http://api.opencagedata.com/geocode/v1/json: ERROR - 401 Client Error: Unauthorized for url: http://api.opencagedata.com/geocode/v1/json?query=M9A%2C+Toronto%2C+Ontario&key=13aa077d21ae42f287ec8607e07b2159&limit=1\n"
     ]
    },
    {
     "name": "stdout",
     "output_type": "stream",
     "text": [
      "Trying for M9A\n"
     ]
    },
    {
     "name": "stderr",
     "output_type": "stream",
     "text": [
      "Status code 401 from http://api.opencagedata.com/geocode/v1/json: ERROR - 401 Client Error: Unauthorized for url: http://api.opencagedata.com/geocode/v1/json?query=M9A%2C+Toronto%2C+Ontario&key=13aa077d21ae42f287ec8607e07b2159&limit=1\n"
     ]
    },
    {
     "name": "stdout",
     "output_type": "stream",
     "text": [
      "Trying for M9A\n"
     ]
    },
    {
     "name": "stderr",
     "output_type": "stream",
     "text": [
      "Status code 401 from http://api.opencagedata.com/geocode/v1/json: ERROR - 401 Client Error: Unauthorized for url: http://api.opencagedata.com/geocode/v1/json?query=M9A%2C+Toronto%2C+Ontario&key=13aa077d21ae42f287ec8607e07b2159&limit=1\n"
     ]
    },
    {
     "name": "stdout",
     "output_type": "stream",
     "text": [
      "Trying for M9A\n"
     ]
    },
    {
     "name": "stderr",
     "output_type": "stream",
     "text": [
      "Status code 401 from http://api.opencagedata.com/geocode/v1/json: ERROR - 401 Client Error: Unauthorized for url: http://api.opencagedata.com/geocode/v1/json?query=M9A%2C+Toronto%2C+Ontario&key=13aa077d21ae42f287ec8607e07b2159&limit=1\n"
     ]
    },
    {
     "name": "stdout",
     "output_type": "stream",
     "text": [
      "Trying for M9A\n"
     ]
    },
    {
     "name": "stderr",
     "output_type": "stream",
     "text": [
      "Status code 401 from http://api.opencagedata.com/geocode/v1/json: ERROR - 401 Client Error: Unauthorized for url: http://api.opencagedata.com/geocode/v1/json?query=M9A%2C+Toronto%2C+Ontario&key=13aa077d21ae42f287ec8607e07b2159&limit=1\n"
     ]
    },
    {
     "name": "stdout",
     "output_type": "stream",
     "text": [
      "Trying for M9A\n"
     ]
    },
    {
     "name": "stderr",
     "output_type": "stream",
     "text": [
      "Status code 401 from http://api.opencagedata.com/geocode/v1/json: ERROR - 401 Client Error: Unauthorized for url: http://api.opencagedata.com/geocode/v1/json?query=M9A%2C+Toronto%2C+Ontario&key=13aa077d21ae42f287ec8607e07b2159&limit=1\n"
     ]
    },
    {
     "name": "stdout",
     "output_type": "stream",
     "text": [
      "Trying for M9A\n"
     ]
    },
    {
     "name": "stderr",
     "output_type": "stream",
     "text": [
      "Status code 401 from http://api.opencagedata.com/geocode/v1/json: ERROR - 401 Client Error: Unauthorized for url: http://api.opencagedata.com/geocode/v1/json?query=M9A%2C+Toronto%2C+Ontario&key=13aa077d21ae42f287ec8607e07b2159&limit=1\n"
     ]
    },
    {
     "name": "stdout",
     "output_type": "stream",
     "text": [
      "Trying for M9A\n"
     ]
    },
    {
     "name": "stderr",
     "output_type": "stream",
     "text": [
      "Status code 401 from http://api.opencagedata.com/geocode/v1/json: ERROR - 401 Client Error: Unauthorized for url: http://api.opencagedata.com/geocode/v1/json?query=M9A%2C+Toronto%2C+Ontario&key=13aa077d21ae42f287ec8607e07b2159&limit=1\n"
     ]
    },
    {
     "name": "stdout",
     "output_type": "stream",
     "text": [
      "Trying for M9A\n"
     ]
    },
    {
     "name": "stderr",
     "output_type": "stream",
     "text": [
      "Status code 401 from http://api.opencagedata.com/geocode/v1/json: ERROR - 401 Client Error: Unauthorized for url: http://api.opencagedata.com/geocode/v1/json?query=M9A%2C+Toronto%2C+Ontario&key=13aa077d21ae42f287ec8607e07b2159&limit=1\n"
     ]
    },
    {
     "name": "stdout",
     "output_type": "stream",
     "text": [
      "Trying for M9A\n"
     ]
    },
    {
     "name": "stderr",
     "output_type": "stream",
     "text": [
      "Status code 401 from http://api.opencagedata.com/geocode/v1/json: ERROR - 401 Client Error: Unauthorized for url: http://api.opencagedata.com/geocode/v1/json?query=M9A%2C+Toronto%2C+Ontario&key=13aa077d21ae42f287ec8607e07b2159&limit=1\n"
     ]
    },
    {
     "name": "stdout",
     "output_type": "stream",
     "text": [
      "Trying for M9A\n"
     ]
    },
    {
     "name": "stderr",
     "output_type": "stream",
     "text": [
      "Status code 401 from http://api.opencagedata.com/geocode/v1/json: ERROR - 401 Client Error: Unauthorized for url: http://api.opencagedata.com/geocode/v1/json?query=M9A%2C+Toronto%2C+Ontario&key=13aa077d21ae42f287ec8607e07b2159&limit=1\n"
     ]
    },
    {
     "name": "stdout",
     "output_type": "stream",
     "text": [
      "Trying for M9A\n"
     ]
    },
    {
     "name": "stderr",
     "output_type": "stream",
     "text": [
      "Status code 401 from http://api.opencagedata.com/geocode/v1/json: ERROR - 401 Client Error: Unauthorized for url: http://api.opencagedata.com/geocode/v1/json?query=M9A%2C+Toronto%2C+Ontario&key=13aa077d21ae42f287ec8607e07b2159&limit=1\n"
     ]
    },
    {
     "name": "stdout",
     "output_type": "stream",
     "text": [
      "Trying for M9A\n"
     ]
    },
    {
     "name": "stderr",
     "output_type": "stream",
     "text": [
      "Status code 401 from http://api.opencagedata.com/geocode/v1/json: ERROR - 401 Client Error: Unauthorized for url: http://api.opencagedata.com/geocode/v1/json?query=M9A%2C+Toronto%2C+Ontario&key=13aa077d21ae42f287ec8607e07b2159&limit=1\n"
     ]
    },
    {
     "name": "stdout",
     "output_type": "stream",
     "text": [
      "Trying for M9A\n"
     ]
    },
    {
     "name": "stderr",
     "output_type": "stream",
     "text": [
      "Status code 401 from http://api.opencagedata.com/geocode/v1/json: ERROR - 401 Client Error: Unauthorized for url: http://api.opencagedata.com/geocode/v1/json?query=M9A%2C+Toronto%2C+Ontario&key=13aa077d21ae42f287ec8607e07b2159&limit=1\n"
     ]
    },
    {
     "name": "stdout",
     "output_type": "stream",
     "text": [
      "Trying for M9A\n"
     ]
    },
    {
     "name": "stderr",
     "output_type": "stream",
     "text": [
      "Status code 401 from http://api.opencagedata.com/geocode/v1/json: ERROR - 401 Client Error: Unauthorized for url: http://api.opencagedata.com/geocode/v1/json?query=M9A%2C+Toronto%2C+Ontario&key=13aa077d21ae42f287ec8607e07b2159&limit=1\n"
     ]
    },
    {
     "name": "stdout",
     "output_type": "stream",
     "text": [
      "Trying for M9A\n"
     ]
    },
    {
     "name": "stderr",
     "output_type": "stream",
     "text": [
      "Status code 401 from http://api.opencagedata.com/geocode/v1/json: ERROR - 401 Client Error: Unauthorized for url: http://api.opencagedata.com/geocode/v1/json?query=M9A%2C+Toronto%2C+Ontario&key=13aa077d21ae42f287ec8607e07b2159&limit=1\n"
     ]
    },
    {
     "name": "stdout",
     "output_type": "stream",
     "text": [
      "Trying for M9A\n"
     ]
    },
    {
     "name": "stderr",
     "output_type": "stream",
     "text": [
      "Status code 401 from http://api.opencagedata.com/geocode/v1/json: ERROR - 401 Client Error: Unauthorized for url: http://api.opencagedata.com/geocode/v1/json?query=M9A%2C+Toronto%2C+Ontario&key=13aa077d21ae42f287ec8607e07b2159&limit=1\n"
     ]
    },
    {
     "name": "stdout",
     "output_type": "stream",
     "text": [
      "Trying for M9A\n"
     ]
    },
    {
     "name": "stderr",
     "output_type": "stream",
     "text": [
      "Status code 401 from http://api.opencagedata.com/geocode/v1/json: ERROR - 401 Client Error: Unauthorized for url: http://api.opencagedata.com/geocode/v1/json?query=M9A%2C+Toronto%2C+Ontario&key=13aa077d21ae42f287ec8607e07b2159&limit=1\n"
     ]
    },
    {
     "name": "stdout",
     "output_type": "stream",
     "text": [
      "Trying for M9A\n"
     ]
    },
    {
     "name": "stderr",
     "output_type": "stream",
     "text": [
      "Status code 401 from http://api.opencagedata.com/geocode/v1/json: ERROR - 401 Client Error: Unauthorized for url: http://api.opencagedata.com/geocode/v1/json?query=M9A%2C+Toronto%2C+Ontario&key=13aa077d21ae42f287ec8607e07b2159&limit=1\n"
     ]
    },
    {
     "name": "stdout",
     "output_type": "stream",
     "text": [
      "Trying for M9A\n"
     ]
    },
    {
     "name": "stderr",
     "output_type": "stream",
     "text": [
      "Status code 401 from http://api.opencagedata.com/geocode/v1/json: ERROR - 401 Client Error: Unauthorized for url: http://api.opencagedata.com/geocode/v1/json?query=M9A%2C+Toronto%2C+Ontario&key=13aa077d21ae42f287ec8607e07b2159&limit=1\n"
     ]
    },
    {
     "name": "stdout",
     "output_type": "stream",
     "text": [
      "Trying for M9A\n"
     ]
    },
    {
     "name": "stderr",
     "output_type": "stream",
     "text": [
      "Status code 401 from http://api.opencagedata.com/geocode/v1/json: ERROR - 401 Client Error: Unauthorized for url: http://api.opencagedata.com/geocode/v1/json?query=M9A%2C+Toronto%2C+Ontario&key=13aa077d21ae42f287ec8607e07b2159&limit=1\n"
     ]
    },
    {
     "name": "stdout",
     "output_type": "stream",
     "text": [
      "Trying for M9A\n"
     ]
    },
    {
     "name": "stderr",
     "output_type": "stream",
     "text": [
      "Status code 401 from http://api.opencagedata.com/geocode/v1/json: ERROR - 401 Client Error: Unauthorized for url: http://api.opencagedata.com/geocode/v1/json?query=M9A%2C+Toronto%2C+Ontario&key=13aa077d21ae42f287ec8607e07b2159&limit=1\n"
     ]
    },
    {
     "name": "stdout",
     "output_type": "stream",
     "text": [
      "Trying for M9A\n"
     ]
    },
    {
     "name": "stderr",
     "output_type": "stream",
     "text": [
      "Status code 401 from http://api.opencagedata.com/geocode/v1/json: ERROR - 401 Client Error: Unauthorized for url: http://api.opencagedata.com/geocode/v1/json?query=M9A%2C+Toronto%2C+Ontario&key=13aa077d21ae42f287ec8607e07b2159&limit=1\n"
     ]
    },
    {
     "name": "stdout",
     "output_type": "stream",
     "text": [
      "Trying for M9A\n"
     ]
    },
    {
     "name": "stderr",
     "output_type": "stream",
     "text": [
      "Status code 401 from http://api.opencagedata.com/geocode/v1/json: ERROR - 401 Client Error: Unauthorized for url: http://api.opencagedata.com/geocode/v1/json?query=M9A%2C+Toronto%2C+Ontario&key=13aa077d21ae42f287ec8607e07b2159&limit=1\n"
     ]
    },
    {
     "name": "stdout",
     "output_type": "stream",
     "text": [
      "Trying for M9A\n"
     ]
    },
    {
     "name": "stderr",
     "output_type": "stream",
     "text": [
      "Status code 401 from http://api.opencagedata.com/geocode/v1/json: ERROR - 401 Client Error: Unauthorized for url: http://api.opencagedata.com/geocode/v1/json?query=M9A%2C+Toronto%2C+Ontario&key=13aa077d21ae42f287ec8607e07b2159&limit=1\n"
     ]
    },
    {
     "name": "stdout",
     "output_type": "stream",
     "text": [
      "Trying for M9A\n"
     ]
    },
    {
     "name": "stderr",
     "output_type": "stream",
     "text": [
      "Status code 401 from http://api.opencagedata.com/geocode/v1/json: ERROR - 401 Client Error: Unauthorized for url: http://api.opencagedata.com/geocode/v1/json?query=M9A%2C+Toronto%2C+Ontario&key=13aa077d21ae42f287ec8607e07b2159&limit=1\n"
     ]
    },
    {
     "name": "stdout",
     "output_type": "stream",
     "text": [
      "Trying for M9A\n"
     ]
    },
    {
     "name": "stderr",
     "output_type": "stream",
     "text": [
      "Status code 401 from http://api.opencagedata.com/geocode/v1/json: ERROR - 401 Client Error: Unauthorized for url: http://api.opencagedata.com/geocode/v1/json?query=M9A%2C+Toronto%2C+Ontario&key=13aa077d21ae42f287ec8607e07b2159&limit=1\n"
     ]
    },
    {
     "name": "stdout",
     "output_type": "stream",
     "text": [
      "Trying for M9A\n"
     ]
    },
    {
     "name": "stderr",
     "output_type": "stream",
     "text": [
      "Status code 401 from http://api.opencagedata.com/geocode/v1/json: ERROR - 401 Client Error: Unauthorized for url: http://api.opencagedata.com/geocode/v1/json?query=M9A%2C+Toronto%2C+Ontario&key=13aa077d21ae42f287ec8607e07b2159&limit=1\n"
     ]
    },
    {
     "name": "stdout",
     "output_type": "stream",
     "text": [
      "Trying for M9A\n"
     ]
    },
    {
     "name": "stderr",
     "output_type": "stream",
     "text": [
      "Status code 401 from http://api.opencagedata.com/geocode/v1/json: ERROR - 401 Client Error: Unauthorized for url: http://api.opencagedata.com/geocode/v1/json?query=M9A%2C+Toronto%2C+Ontario&key=13aa077d21ae42f287ec8607e07b2159&limit=1\n"
     ]
    },
    {
     "name": "stdout",
     "output_type": "stream",
     "text": [
      "Trying for M9A\n"
     ]
    },
    {
     "name": "stderr",
     "output_type": "stream",
     "text": [
      "Status code 401 from http://api.opencagedata.com/geocode/v1/json: ERROR - 401 Client Error: Unauthorized for url: http://api.opencagedata.com/geocode/v1/json?query=M9A%2C+Toronto%2C+Ontario&key=13aa077d21ae42f287ec8607e07b2159&limit=1\n"
     ]
    },
    {
     "name": "stdout",
     "output_type": "stream",
     "text": [
      "Trying for M9A\n"
     ]
    },
    {
     "name": "stderr",
     "output_type": "stream",
     "text": [
      "Status code 401 from http://api.opencagedata.com/geocode/v1/json: ERROR - 401 Client Error: Unauthorized for url: http://api.opencagedata.com/geocode/v1/json?query=M9A%2C+Toronto%2C+Ontario&key=13aa077d21ae42f287ec8607e07b2159&limit=1\n"
     ]
    },
    {
     "name": "stdout",
     "output_type": "stream",
     "text": [
      "Trying for M9A\n"
     ]
    },
    {
     "name": "stderr",
     "output_type": "stream",
     "text": [
      "Status code 401 from http://api.opencagedata.com/geocode/v1/json: ERROR - 401 Client Error: Unauthorized for url: http://api.opencagedata.com/geocode/v1/json?query=M9A%2C+Toronto%2C+Ontario&key=13aa077d21ae42f287ec8607e07b2159&limit=1\n"
     ]
    },
    {
     "name": "stdout",
     "output_type": "stream",
     "text": [
      "Trying for M9A\n"
     ]
    },
    {
     "name": "stderr",
     "output_type": "stream",
     "text": [
      "Status code 401 from http://api.opencagedata.com/geocode/v1/json: ERROR - 401 Client Error: Unauthorized for url: http://api.opencagedata.com/geocode/v1/json?query=M9A%2C+Toronto%2C+Ontario&key=13aa077d21ae42f287ec8607e07b2159&limit=1\n"
     ]
    },
    {
     "name": "stdout",
     "output_type": "stream",
     "text": [
      "Trying for M9A\n"
     ]
    },
    {
     "name": "stderr",
     "output_type": "stream",
     "text": [
      "Status code 401 from http://api.opencagedata.com/geocode/v1/json: ERROR - 401 Client Error: Unauthorized for url: http://api.opencagedata.com/geocode/v1/json?query=M9A%2C+Toronto%2C+Ontario&key=13aa077d21ae42f287ec8607e07b2159&limit=1\n"
     ]
    },
    {
     "name": "stdout",
     "output_type": "stream",
     "text": [
      "Trying for M9A\n"
     ]
    },
    {
     "name": "stderr",
     "output_type": "stream",
     "text": [
      "Status code 401 from http://api.opencagedata.com/geocode/v1/json: ERROR - 401 Client Error: Unauthorized for url: http://api.opencagedata.com/geocode/v1/json?query=M9A%2C+Toronto%2C+Ontario&key=13aa077d21ae42f287ec8607e07b2159&limit=1\n"
     ]
    },
    {
     "name": "stdout",
     "output_type": "stream",
     "text": [
      "Trying for M9A\n"
     ]
    },
    {
     "name": "stderr",
     "output_type": "stream",
     "text": [
      "Status code 401 from http://api.opencagedata.com/geocode/v1/json: ERROR - 401 Client Error: Unauthorized for url: http://api.opencagedata.com/geocode/v1/json?query=M9A%2C+Toronto%2C+Ontario&key=13aa077d21ae42f287ec8607e07b2159&limit=1\n"
     ]
    },
    {
     "name": "stdout",
     "output_type": "stream",
     "text": [
      "Trying for M9A\n"
     ]
    },
    {
     "name": "stderr",
     "output_type": "stream",
     "text": [
      "Status code 401 from http://api.opencagedata.com/geocode/v1/json: ERROR - 401 Client Error: Unauthorized for url: http://api.opencagedata.com/geocode/v1/json?query=M9A%2C+Toronto%2C+Ontario&key=13aa077d21ae42f287ec8607e07b2159&limit=1\n"
     ]
    },
    {
     "name": "stdout",
     "output_type": "stream",
     "text": [
      "Trying for M9A\n"
     ]
    },
    {
     "name": "stderr",
     "output_type": "stream",
     "text": [
      "Status code 401 from http://api.opencagedata.com/geocode/v1/json: ERROR - 401 Client Error: Unauthorized for url: http://api.opencagedata.com/geocode/v1/json?query=M9A%2C+Toronto%2C+Ontario&key=13aa077d21ae42f287ec8607e07b2159&limit=1\n"
     ]
    },
    {
     "name": "stdout",
     "output_type": "stream",
     "text": [
      "Trying for M9A\n"
     ]
    },
    {
     "name": "stderr",
     "output_type": "stream",
     "text": [
      "Status code 401 from http://api.opencagedata.com/geocode/v1/json: ERROR - 401 Client Error: Unauthorized for url: http://api.opencagedata.com/geocode/v1/json?query=M9A%2C+Toronto%2C+Ontario&key=13aa077d21ae42f287ec8607e07b2159&limit=1\n"
     ]
    },
    {
     "name": "stdout",
     "output_type": "stream",
     "text": [
      "Trying for M9A\n"
     ]
    },
    {
     "name": "stderr",
     "output_type": "stream",
     "text": [
      "Status code 401 from http://api.opencagedata.com/geocode/v1/json: ERROR - 401 Client Error: Unauthorized for url: http://api.opencagedata.com/geocode/v1/json?query=M9A%2C+Toronto%2C+Ontario&key=13aa077d21ae42f287ec8607e07b2159&limit=1\n"
     ]
    },
    {
     "name": "stdout",
     "output_type": "stream",
     "text": [
      "Trying for M9A\n"
     ]
    },
    {
     "name": "stderr",
     "output_type": "stream",
     "text": [
      "Status code 401 from http://api.opencagedata.com/geocode/v1/json: ERROR - 401 Client Error: Unauthorized for url: http://api.opencagedata.com/geocode/v1/json?query=M9A%2C+Toronto%2C+Ontario&key=13aa077d21ae42f287ec8607e07b2159&limit=1\n"
     ]
    },
    {
     "name": "stdout",
     "output_type": "stream",
     "text": [
      "Trying for M9A\n"
     ]
    },
    {
     "name": "stderr",
     "output_type": "stream",
     "text": [
      "Status code 401 from http://api.opencagedata.com/geocode/v1/json: ERROR - 401 Client Error: Unauthorized for url: http://api.opencagedata.com/geocode/v1/json?query=M9A%2C+Toronto%2C+Ontario&key=13aa077d21ae42f287ec8607e07b2159&limit=1\n"
     ]
    },
    {
     "name": "stdout",
     "output_type": "stream",
     "text": [
      "Trying for M9A\n"
     ]
    },
    {
     "name": "stderr",
     "output_type": "stream",
     "text": [
      "Status code 401 from http://api.opencagedata.com/geocode/v1/json: ERROR - 401 Client Error: Unauthorized for url: http://api.opencagedata.com/geocode/v1/json?query=M9A%2C+Toronto%2C+Ontario&key=13aa077d21ae42f287ec8607e07b2159&limit=1\n"
     ]
    },
    {
     "name": "stdout",
     "output_type": "stream",
     "text": [
      "Trying for M9A\n"
     ]
    },
    {
     "name": "stderr",
     "output_type": "stream",
     "text": [
      "Status code 401 from http://api.opencagedata.com/geocode/v1/json: ERROR - 401 Client Error: Unauthorized for url: http://api.opencagedata.com/geocode/v1/json?query=M9A%2C+Toronto%2C+Ontario&key=13aa077d21ae42f287ec8607e07b2159&limit=1\n"
     ]
    },
    {
     "name": "stdout",
     "output_type": "stream",
     "text": [
      "Trying for M9A\n"
     ]
    },
    {
     "name": "stderr",
     "output_type": "stream",
     "text": [
      "Status code 401 from http://api.opencagedata.com/geocode/v1/json: ERROR - 401 Client Error: Unauthorized for url: http://api.opencagedata.com/geocode/v1/json?query=M9A%2C+Toronto%2C+Ontario&key=13aa077d21ae42f287ec8607e07b2159&limit=1\n"
     ]
    },
    {
     "name": "stdout",
     "output_type": "stream",
     "text": [
      "Trying for M9A\n"
     ]
    },
    {
     "name": "stderr",
     "output_type": "stream",
     "text": [
      "Status code 401 from http://api.opencagedata.com/geocode/v1/json: ERROR - 401 Client Error: Unauthorized for url: http://api.opencagedata.com/geocode/v1/json?query=M9A%2C+Toronto%2C+Ontario&key=13aa077d21ae42f287ec8607e07b2159&limit=1\n"
     ]
    },
    {
     "name": "stdout",
     "output_type": "stream",
     "text": [
      "Trying for M9A\n"
     ]
    },
    {
     "name": "stderr",
     "output_type": "stream",
     "text": [
      "Status code 401 from http://api.opencagedata.com/geocode/v1/json: ERROR - 401 Client Error: Unauthorized for url: http://api.opencagedata.com/geocode/v1/json?query=M9A%2C+Toronto%2C+Ontario&key=13aa077d21ae42f287ec8607e07b2159&limit=1\n"
     ]
    },
    {
     "name": "stdout",
     "output_type": "stream",
     "text": [
      "Trying for M9A\n"
     ]
    },
    {
     "name": "stderr",
     "output_type": "stream",
     "text": [
      "Status code 401 from http://api.opencagedata.com/geocode/v1/json: ERROR - 401 Client Error: Unauthorized for url: http://api.opencagedata.com/geocode/v1/json?query=M9A%2C+Toronto%2C+Ontario&key=13aa077d21ae42f287ec8607e07b2159&limit=1\n"
     ]
    },
    {
     "name": "stdout",
     "output_type": "stream",
     "text": [
      "Trying for M9A\n"
     ]
    },
    {
     "name": "stderr",
     "output_type": "stream",
     "text": [
      "Status code 401 from http://api.opencagedata.com/geocode/v1/json: ERROR - 401 Client Error: Unauthorized for url: http://api.opencagedata.com/geocode/v1/json?query=M9A%2C+Toronto%2C+Ontario&key=13aa077d21ae42f287ec8607e07b2159&limit=1\n"
     ]
    },
    {
     "name": "stdout",
     "output_type": "stream",
     "text": [
      "Trying for M9A\n"
     ]
    },
    {
     "name": "stderr",
     "output_type": "stream",
     "text": [
      "Status code 401 from http://api.opencagedata.com/geocode/v1/json: ERROR - 401 Client Error: Unauthorized for url: http://api.opencagedata.com/geocode/v1/json?query=M9A%2C+Toronto%2C+Ontario&key=13aa077d21ae42f287ec8607e07b2159&limit=1\n"
     ]
    },
    {
     "name": "stdout",
     "output_type": "stream",
     "text": [
      "Trying for M9A\n"
     ]
    },
    {
     "name": "stderr",
     "output_type": "stream",
     "text": [
      "Status code 401 from http://api.opencagedata.com/geocode/v1/json: ERROR - 401 Client Error: Unauthorized for url: http://api.opencagedata.com/geocode/v1/json?query=M9A%2C+Toronto%2C+Ontario&key=13aa077d21ae42f287ec8607e07b2159&limit=1\n"
     ]
    },
    {
     "name": "stdout",
     "output_type": "stream",
     "text": [
      "Trying for M9A\n"
     ]
    },
    {
     "name": "stderr",
     "output_type": "stream",
     "text": [
      "Status code 401 from http://api.opencagedata.com/geocode/v1/json: ERROR - 401 Client Error: Unauthorized for url: http://api.opencagedata.com/geocode/v1/json?query=M9A%2C+Toronto%2C+Ontario&key=13aa077d21ae42f287ec8607e07b2159&limit=1\n"
     ]
    },
    {
     "name": "stdout",
     "output_type": "stream",
     "text": [
      "Trying for M9A\n"
     ]
    },
    {
     "name": "stderr",
     "output_type": "stream",
     "text": [
      "Status code 401 from http://api.opencagedata.com/geocode/v1/json: ERROR - 401 Client Error: Unauthorized for url: http://api.opencagedata.com/geocode/v1/json?query=M9A%2C+Toronto%2C+Ontario&key=13aa077d21ae42f287ec8607e07b2159&limit=1\n"
     ]
    },
    {
     "name": "stdout",
     "output_type": "stream",
     "text": [
      "Trying for M9A\n"
     ]
    },
    {
     "name": "stderr",
     "output_type": "stream",
     "text": [
      "Status code 401 from http://api.opencagedata.com/geocode/v1/json: ERROR - 401 Client Error: Unauthorized for url: http://api.opencagedata.com/geocode/v1/json?query=M9A%2C+Toronto%2C+Ontario&key=13aa077d21ae42f287ec8607e07b2159&limit=1\n"
     ]
    },
    {
     "name": "stdout",
     "output_type": "stream",
     "text": [
      "Trying for M9A\n"
     ]
    },
    {
     "name": "stderr",
     "output_type": "stream",
     "text": [
      "Status code 401 from http://api.opencagedata.com/geocode/v1/json: ERROR - 401 Client Error: Unauthorized for url: http://api.opencagedata.com/geocode/v1/json?query=M9A%2C+Toronto%2C+Ontario&key=13aa077d21ae42f287ec8607e07b2159&limit=1\n"
     ]
    },
    {
     "name": "stdout",
     "output_type": "stream",
     "text": [
      "Trying for M9A\n"
     ]
    },
    {
     "name": "stderr",
     "output_type": "stream",
     "text": [
      "Status code 401 from http://api.opencagedata.com/geocode/v1/json: ERROR - 401 Client Error: Unauthorized for url: http://api.opencagedata.com/geocode/v1/json?query=M9A%2C+Toronto%2C+Ontario&key=13aa077d21ae42f287ec8607e07b2159&limit=1\n"
     ]
    },
    {
     "name": "stdout",
     "output_type": "stream",
     "text": [
      "Trying for M9A\n"
     ]
    },
    {
     "name": "stderr",
     "output_type": "stream",
     "text": [
      "Status code 401 from http://api.opencagedata.com/geocode/v1/json: ERROR - 401 Client Error: Unauthorized for url: http://api.opencagedata.com/geocode/v1/json?query=M9A%2C+Toronto%2C+Ontario&key=13aa077d21ae42f287ec8607e07b2159&limit=1\n"
     ]
    },
    {
     "name": "stdout",
     "output_type": "stream",
     "text": [
      "Trying for M9A\n"
     ]
    },
    {
     "name": "stderr",
     "output_type": "stream",
     "text": [
      "Status code 401 from http://api.opencagedata.com/geocode/v1/json: ERROR - 401 Client Error: Unauthorized for url: http://api.opencagedata.com/geocode/v1/json?query=M9A%2C+Toronto%2C+Ontario&key=13aa077d21ae42f287ec8607e07b2159&limit=1\n"
     ]
    },
    {
     "name": "stdout",
     "output_type": "stream",
     "text": [
      "Trying for M9A\n"
     ]
    },
    {
     "name": "stderr",
     "output_type": "stream",
     "text": [
      "Status code 401 from http://api.opencagedata.com/geocode/v1/json: ERROR - 401 Client Error: Unauthorized for url: http://api.opencagedata.com/geocode/v1/json?query=M9A%2C+Toronto%2C+Ontario&key=13aa077d21ae42f287ec8607e07b2159&limit=1\n"
     ]
    },
    {
     "name": "stdout",
     "output_type": "stream",
     "text": [
      "Trying for M9A\n"
     ]
    },
    {
     "name": "stderr",
     "output_type": "stream",
     "text": [
      "Status code 401 from http://api.opencagedata.com/geocode/v1/json: ERROR - 401 Client Error: Unauthorized for url: http://api.opencagedata.com/geocode/v1/json?query=M9A%2C+Toronto%2C+Ontario&key=13aa077d21ae42f287ec8607e07b2159&limit=1\n"
     ]
    },
    {
     "name": "stdout",
     "output_type": "stream",
     "text": [
      "Trying for M9A\n"
     ]
    },
    {
     "name": "stderr",
     "output_type": "stream",
     "text": [
      "Status code 401 from http://api.opencagedata.com/geocode/v1/json: ERROR - 401 Client Error: Unauthorized for url: http://api.opencagedata.com/geocode/v1/json?query=M9A%2C+Toronto%2C+Ontario&key=13aa077d21ae42f287ec8607e07b2159&limit=1\n"
     ]
    },
    {
     "name": "stdout",
     "output_type": "stream",
     "text": [
      "Trying for M9A\n"
     ]
    },
    {
     "name": "stderr",
     "output_type": "stream",
     "text": [
      "Status code 401 from http://api.opencagedata.com/geocode/v1/json: ERROR - 401 Client Error: Unauthorized for url: http://api.opencagedata.com/geocode/v1/json?query=M9A%2C+Toronto%2C+Ontario&key=13aa077d21ae42f287ec8607e07b2159&limit=1\n"
     ]
    },
    {
     "name": "stdout",
     "output_type": "stream",
     "text": [
      "Trying for M9A\n"
     ]
    },
    {
     "name": "stderr",
     "output_type": "stream",
     "text": [
      "Status code 401 from http://api.opencagedata.com/geocode/v1/json: ERROR - 401 Client Error: Unauthorized for url: http://api.opencagedata.com/geocode/v1/json?query=M9A%2C+Toronto%2C+Ontario&key=13aa077d21ae42f287ec8607e07b2159&limit=1\n"
     ]
    },
    {
     "name": "stdout",
     "output_type": "stream",
     "text": [
      "Trying for M9A\n"
     ]
    },
    {
     "name": "stderr",
     "output_type": "stream",
     "text": [
      "Status code 401 from http://api.opencagedata.com/geocode/v1/json: ERROR - 401 Client Error: Unauthorized for url: http://api.opencagedata.com/geocode/v1/json?query=M9A%2C+Toronto%2C+Ontario&key=13aa077d21ae42f287ec8607e07b2159&limit=1\n"
     ]
    },
    {
     "name": "stdout",
     "output_type": "stream",
     "text": [
      "Trying for M9A\n"
     ]
    },
    {
     "name": "stderr",
     "output_type": "stream",
     "text": [
      "Status code 401 from http://api.opencagedata.com/geocode/v1/json: ERROR - 401 Client Error: Unauthorized for url: http://api.opencagedata.com/geocode/v1/json?query=M9A%2C+Toronto%2C+Ontario&key=13aa077d21ae42f287ec8607e07b2159&limit=1\n"
     ]
    },
    {
     "name": "stdout",
     "output_type": "stream",
     "text": [
      "Trying for M9A\n"
     ]
    },
    {
     "name": "stderr",
     "output_type": "stream",
     "text": [
      "Status code 401 from http://api.opencagedata.com/geocode/v1/json: ERROR - 401 Client Error: Unauthorized for url: http://api.opencagedata.com/geocode/v1/json?query=M9A%2C+Toronto%2C+Ontario&key=13aa077d21ae42f287ec8607e07b2159&limit=1\n"
     ]
    },
    {
     "name": "stdout",
     "output_type": "stream",
     "text": [
      "Trying for M9A\n"
     ]
    },
    {
     "name": "stderr",
     "output_type": "stream",
     "text": [
      "Status code 401 from http://api.opencagedata.com/geocode/v1/json: ERROR - 401 Client Error: Unauthorized for url: http://api.opencagedata.com/geocode/v1/json?query=M9A%2C+Toronto%2C+Ontario&key=13aa077d21ae42f287ec8607e07b2159&limit=1\n"
     ]
    },
    {
     "name": "stdout",
     "output_type": "stream",
     "text": [
      "Trying for M9A\n"
     ]
    },
    {
     "name": "stderr",
     "output_type": "stream",
     "text": [
      "Status code 401 from http://api.opencagedata.com/geocode/v1/json: ERROR - 401 Client Error: Unauthorized for url: http://api.opencagedata.com/geocode/v1/json?query=M9A%2C+Toronto%2C+Ontario&key=13aa077d21ae42f287ec8607e07b2159&limit=1\n"
     ]
    },
    {
     "name": "stdout",
     "output_type": "stream",
     "text": [
      "Trying for M9A\n"
     ]
    },
    {
     "name": "stderr",
     "output_type": "stream",
     "text": [
      "Status code 401 from http://api.opencagedata.com/geocode/v1/json: ERROR - 401 Client Error: Unauthorized for url: http://api.opencagedata.com/geocode/v1/json?query=M9A%2C+Toronto%2C+Ontario&key=13aa077d21ae42f287ec8607e07b2159&limit=1\n"
     ]
    },
    {
     "name": "stdout",
     "output_type": "stream",
     "text": [
      "Trying for M9A\n"
     ]
    },
    {
     "name": "stderr",
     "output_type": "stream",
     "text": [
      "Status code 401 from http://api.opencagedata.com/geocode/v1/json: ERROR - 401 Client Error: Unauthorized for url: http://api.opencagedata.com/geocode/v1/json?query=M9A%2C+Toronto%2C+Ontario&key=13aa077d21ae42f287ec8607e07b2159&limit=1\n"
     ]
    },
    {
     "name": "stdout",
     "output_type": "stream",
     "text": [
      "Trying for M9A\n"
     ]
    },
    {
     "name": "stderr",
     "output_type": "stream",
     "text": [
      "Status code 401 from http://api.opencagedata.com/geocode/v1/json: ERROR - 401 Client Error: Unauthorized for url: http://api.opencagedata.com/geocode/v1/json?query=M9A%2C+Toronto%2C+Ontario&key=13aa077d21ae42f287ec8607e07b2159&limit=1\n"
     ]
    },
    {
     "name": "stdout",
     "output_type": "stream",
     "text": [
      "Trying for M9A\n"
     ]
    },
    {
     "name": "stderr",
     "output_type": "stream",
     "text": [
      "Status code 401 from http://api.opencagedata.com/geocode/v1/json: ERROR - 401 Client Error: Unauthorized for url: http://api.opencagedata.com/geocode/v1/json?query=M9A%2C+Toronto%2C+Ontario&key=13aa077d21ae42f287ec8607e07b2159&limit=1\n"
     ]
    },
    {
     "name": "stdout",
     "output_type": "stream",
     "text": [
      "Trying for M9A\n"
     ]
    },
    {
     "name": "stderr",
     "output_type": "stream",
     "text": [
      "Status code 401 from http://api.opencagedata.com/geocode/v1/json: ERROR - 401 Client Error: Unauthorized for url: http://api.opencagedata.com/geocode/v1/json?query=M9A%2C+Toronto%2C+Ontario&key=13aa077d21ae42f287ec8607e07b2159&limit=1\n"
     ]
    },
    {
     "name": "stdout",
     "output_type": "stream",
     "text": [
      "Trying for M9A\n"
     ]
    },
    {
     "name": "stderr",
     "output_type": "stream",
     "text": [
      "Status code 401 from http://api.opencagedata.com/geocode/v1/json: ERROR - 401 Client Error: Unauthorized for url: http://api.opencagedata.com/geocode/v1/json?query=M9A%2C+Toronto%2C+Ontario&key=13aa077d21ae42f287ec8607e07b2159&limit=1\n"
     ]
    },
    {
     "name": "stdout",
     "output_type": "stream",
     "text": [
      "Trying for M9A\n"
     ]
    },
    {
     "name": "stderr",
     "output_type": "stream",
     "text": [
      "Status code 401 from http://api.opencagedata.com/geocode/v1/json: ERROR - 401 Client Error: Unauthorized for url: http://api.opencagedata.com/geocode/v1/json?query=M9A%2C+Toronto%2C+Ontario&key=13aa077d21ae42f287ec8607e07b2159&limit=1\n"
     ]
    },
    {
     "name": "stdout",
     "output_type": "stream",
     "text": [
      "Trying for M9A\n"
     ]
    },
    {
     "name": "stderr",
     "output_type": "stream",
     "text": [
      "Status code 401 from http://api.opencagedata.com/geocode/v1/json: ERROR - 401 Client Error: Unauthorized for url: http://api.opencagedata.com/geocode/v1/json?query=M9A%2C+Toronto%2C+Ontario&key=13aa077d21ae42f287ec8607e07b2159&limit=1\n"
     ]
    },
    {
     "name": "stdout",
     "output_type": "stream",
     "text": [
      "Trying for M9A\n"
     ]
    },
    {
     "name": "stderr",
     "output_type": "stream",
     "text": [
      "Status code 401 from http://api.opencagedata.com/geocode/v1/json: ERROR - 401 Client Error: Unauthorized for url: http://api.opencagedata.com/geocode/v1/json?query=M9A%2C+Toronto%2C+Ontario&key=13aa077d21ae42f287ec8607e07b2159&limit=1\n"
     ]
    },
    {
     "name": "stdout",
     "output_type": "stream",
     "text": [
      "Trying for M9A\n"
     ]
    },
    {
     "name": "stderr",
     "output_type": "stream",
     "text": [
      "Status code 401 from http://api.opencagedata.com/geocode/v1/json: ERROR - 401 Client Error: Unauthorized for url: http://api.opencagedata.com/geocode/v1/json?query=M9A%2C+Toronto%2C+Ontario&key=13aa077d21ae42f287ec8607e07b2159&limit=1\n"
     ]
    },
    {
     "name": "stdout",
     "output_type": "stream",
     "text": [
      "Trying for M9A\n"
     ]
    },
    {
     "name": "stderr",
     "output_type": "stream",
     "text": [
      "Status code 401 from http://api.opencagedata.com/geocode/v1/json: ERROR - 401 Client Error: Unauthorized for url: http://api.opencagedata.com/geocode/v1/json?query=M9A%2C+Toronto%2C+Ontario&key=13aa077d21ae42f287ec8607e07b2159&limit=1\n"
     ]
    },
    {
     "name": "stdout",
     "output_type": "stream",
     "text": [
      "Trying for M9A\n"
     ]
    },
    {
     "name": "stderr",
     "output_type": "stream",
     "text": [
      "Status code 401 from http://api.opencagedata.com/geocode/v1/json: ERROR - 401 Client Error: Unauthorized for url: http://api.opencagedata.com/geocode/v1/json?query=M9A%2C+Toronto%2C+Ontario&key=13aa077d21ae42f287ec8607e07b2159&limit=1\n"
     ]
    },
    {
     "name": "stdout",
     "output_type": "stream",
     "text": [
      "Trying for M9A\n"
     ]
    },
    {
     "name": "stderr",
     "output_type": "stream",
     "text": [
      "Status code 401 from http://api.opencagedata.com/geocode/v1/json: ERROR - 401 Client Error: Unauthorized for url: http://api.opencagedata.com/geocode/v1/json?query=M9A%2C+Toronto%2C+Ontario&key=13aa077d21ae42f287ec8607e07b2159&limit=1\n"
     ]
    },
    {
     "name": "stdout",
     "output_type": "stream",
     "text": [
      "Trying for M9A\n"
     ]
    },
    {
     "name": "stderr",
     "output_type": "stream",
     "text": [
      "Status code 401 from http://api.opencagedata.com/geocode/v1/json: ERROR - 401 Client Error: Unauthorized for url: http://api.opencagedata.com/geocode/v1/json?query=M9A%2C+Toronto%2C+Ontario&key=13aa077d21ae42f287ec8607e07b2159&limit=1\n"
     ]
    },
    {
     "name": "stdout",
     "output_type": "stream",
     "text": [
      "Trying for M9A\n"
     ]
    },
    {
     "name": "stderr",
     "output_type": "stream",
     "text": [
      "Status code 401 from http://api.opencagedata.com/geocode/v1/json: ERROR - 401 Client Error: Unauthorized for url: http://api.opencagedata.com/geocode/v1/json?query=M9A%2C+Toronto%2C+Ontario&key=13aa077d21ae42f287ec8607e07b2159&limit=1\n"
     ]
    },
    {
     "name": "stdout",
     "output_type": "stream",
     "text": [
      "Trying for M9A\n"
     ]
    },
    {
     "name": "stderr",
     "output_type": "stream",
     "text": [
      "Status code 401 from http://api.opencagedata.com/geocode/v1/json: ERROR - 401 Client Error: Unauthorized for url: http://api.opencagedata.com/geocode/v1/json?query=M9A%2C+Toronto%2C+Ontario&key=13aa077d21ae42f287ec8607e07b2159&limit=1\n"
     ]
    },
    {
     "name": "stdout",
     "output_type": "stream",
     "text": [
      "Trying for M9A\n"
     ]
    },
    {
     "name": "stderr",
     "output_type": "stream",
     "text": [
      "Status code 401 from http://api.opencagedata.com/geocode/v1/json: ERROR - 401 Client Error: Unauthorized for url: http://api.opencagedata.com/geocode/v1/json?query=M9A%2C+Toronto%2C+Ontario&key=13aa077d21ae42f287ec8607e07b2159&limit=1\n"
     ]
    },
    {
     "name": "stdout",
     "output_type": "stream",
     "text": [
      "Trying for M9A\n"
     ]
    },
    {
     "name": "stderr",
     "output_type": "stream",
     "text": [
      "Status code 401 from http://api.opencagedata.com/geocode/v1/json: ERROR - 401 Client Error: Unauthorized for url: http://api.opencagedata.com/geocode/v1/json?query=M9A%2C+Toronto%2C+Ontario&key=13aa077d21ae42f287ec8607e07b2159&limit=1\n"
     ]
    },
    {
     "name": "stdout",
     "output_type": "stream",
     "text": [
      "Trying for M9A\n"
     ]
    },
    {
     "name": "stderr",
     "output_type": "stream",
     "text": [
      "Status code 401 from http://api.opencagedata.com/geocode/v1/json: ERROR - 401 Client Error: Unauthorized for url: http://api.opencagedata.com/geocode/v1/json?query=M9A%2C+Toronto%2C+Ontario&key=13aa077d21ae42f287ec8607e07b2159&limit=1\n"
     ]
    },
    {
     "name": "stdout",
     "output_type": "stream",
     "text": [
      "Trying for M9A\n"
     ]
    },
    {
     "name": "stderr",
     "output_type": "stream",
     "text": [
      "Status code 401 from http://api.opencagedata.com/geocode/v1/json: ERROR - 401 Client Error: Unauthorized for url: http://api.opencagedata.com/geocode/v1/json?query=M9A%2C+Toronto%2C+Ontario&key=13aa077d21ae42f287ec8607e07b2159&limit=1\n"
     ]
    },
    {
     "name": "stdout",
     "output_type": "stream",
     "text": [
      "Trying for M9A\n"
     ]
    },
    {
     "name": "stderr",
     "output_type": "stream",
     "text": [
      "Status code 401 from http://api.opencagedata.com/geocode/v1/json: ERROR - 401 Client Error: Unauthorized for url: http://api.opencagedata.com/geocode/v1/json?query=M9A%2C+Toronto%2C+Ontario&key=13aa077d21ae42f287ec8607e07b2159&limit=1\n"
     ]
    },
    {
     "name": "stdout",
     "output_type": "stream",
     "text": [
      "Trying for M9A\n"
     ]
    },
    {
     "name": "stderr",
     "output_type": "stream",
     "text": [
      "Status code 401 from http://api.opencagedata.com/geocode/v1/json: ERROR - 401 Client Error: Unauthorized for url: http://api.opencagedata.com/geocode/v1/json?query=M9A%2C+Toronto%2C+Ontario&key=13aa077d21ae42f287ec8607e07b2159&limit=1\n"
     ]
    },
    {
     "name": "stdout",
     "output_type": "stream",
     "text": [
      "Trying for M9A\n"
     ]
    },
    {
     "name": "stderr",
     "output_type": "stream",
     "text": [
      "Status code 401 from http://api.opencagedata.com/geocode/v1/json: ERROR - 401 Client Error: Unauthorized for url: http://api.opencagedata.com/geocode/v1/json?query=M9A%2C+Toronto%2C+Ontario&key=13aa077d21ae42f287ec8607e07b2159&limit=1\n"
     ]
    },
    {
     "name": "stdout",
     "output_type": "stream",
     "text": [
      "Trying for M9A\n"
     ]
    },
    {
     "name": "stderr",
     "output_type": "stream",
     "text": [
      "Status code 401 from http://api.opencagedata.com/geocode/v1/json: ERROR - 401 Client Error: Unauthorized for url: http://api.opencagedata.com/geocode/v1/json?query=M9A%2C+Toronto%2C+Ontario&key=13aa077d21ae42f287ec8607e07b2159&limit=1\n"
     ]
    },
    {
     "name": "stdout",
     "output_type": "stream",
     "text": [
      "Trying for M9A\n"
     ]
    },
    {
     "name": "stderr",
     "output_type": "stream",
     "text": [
      "Status code 401 from http://api.opencagedata.com/geocode/v1/json: ERROR - 401 Client Error: Unauthorized for url: http://api.opencagedata.com/geocode/v1/json?query=M9A%2C+Toronto%2C+Ontario&key=13aa077d21ae42f287ec8607e07b2159&limit=1\n"
     ]
    },
    {
     "name": "stdout",
     "output_type": "stream",
     "text": [
      "Trying for M9A\n"
     ]
    },
    {
     "name": "stderr",
     "output_type": "stream",
     "text": [
      "Status code 401 from http://api.opencagedata.com/geocode/v1/json: ERROR - 401 Client Error: Unauthorized for url: http://api.opencagedata.com/geocode/v1/json?query=M9A%2C+Toronto%2C+Ontario&key=13aa077d21ae42f287ec8607e07b2159&limit=1\n"
     ]
    },
    {
     "name": "stdout",
     "output_type": "stream",
     "text": [
      "Trying for M9A\n"
     ]
    },
    {
     "name": "stderr",
     "output_type": "stream",
     "text": [
      "Status code 401 from http://api.opencagedata.com/geocode/v1/json: ERROR - 401 Client Error: Unauthorized for url: http://api.opencagedata.com/geocode/v1/json?query=M9A%2C+Toronto%2C+Ontario&key=13aa077d21ae42f287ec8607e07b2159&limit=1\n"
     ]
    },
    {
     "name": "stdout",
     "output_type": "stream",
     "text": [
      "Trying for M9A\n"
     ]
    },
    {
     "name": "stderr",
     "output_type": "stream",
     "text": [
      "Status code 401 from http://api.opencagedata.com/geocode/v1/json: ERROR - 401 Client Error: Unauthorized for url: http://api.opencagedata.com/geocode/v1/json?query=M9A%2C+Toronto%2C+Ontario&key=13aa077d21ae42f287ec8607e07b2159&limit=1\n"
     ]
    },
    {
     "name": "stdout",
     "output_type": "stream",
     "text": [
      "Trying for M9A\n"
     ]
    },
    {
     "name": "stderr",
     "output_type": "stream",
     "text": [
      "Status code 401 from http://api.opencagedata.com/geocode/v1/json: ERROR - 401 Client Error: Unauthorized for url: http://api.opencagedata.com/geocode/v1/json?query=M9A%2C+Toronto%2C+Ontario&key=13aa077d21ae42f287ec8607e07b2159&limit=1\n"
     ]
    },
    {
     "name": "stdout",
     "output_type": "stream",
     "text": [
      "Trying for M9A\n"
     ]
    },
    {
     "name": "stderr",
     "output_type": "stream",
     "text": [
      "Status code 401 from http://api.opencagedata.com/geocode/v1/json: ERROR - 401 Client Error: Unauthorized for url: http://api.opencagedata.com/geocode/v1/json?query=M9A%2C+Toronto%2C+Ontario&key=13aa077d21ae42f287ec8607e07b2159&limit=1\n"
     ]
    },
    {
     "name": "stdout",
     "output_type": "stream",
     "text": [
      "Trying for M9A\n"
     ]
    },
    {
     "name": "stderr",
     "output_type": "stream",
     "text": [
      "Status code 401 from http://api.opencagedata.com/geocode/v1/json: ERROR - 401 Client Error: Unauthorized for url: http://api.opencagedata.com/geocode/v1/json?query=M9A%2C+Toronto%2C+Ontario&key=13aa077d21ae42f287ec8607e07b2159&limit=1\n"
     ]
    },
    {
     "name": "stdout",
     "output_type": "stream",
     "text": [
      "Trying for M9A\n"
     ]
    },
    {
     "name": "stderr",
     "output_type": "stream",
     "text": [
      "Status code 401 from http://api.opencagedata.com/geocode/v1/json: ERROR - 401 Client Error: Unauthorized for url: http://api.opencagedata.com/geocode/v1/json?query=M9A%2C+Toronto%2C+Ontario&key=13aa077d21ae42f287ec8607e07b2159&limit=1\n"
     ]
    },
    {
     "name": "stdout",
     "output_type": "stream",
     "text": [
      "Trying for M9A\n"
     ]
    },
    {
     "name": "stderr",
     "output_type": "stream",
     "text": [
      "Status code 401 from http://api.opencagedata.com/geocode/v1/json: ERROR - 401 Client Error: Unauthorized for url: http://api.opencagedata.com/geocode/v1/json?query=M9A%2C+Toronto%2C+Ontario&key=13aa077d21ae42f287ec8607e07b2159&limit=1\n"
     ]
    },
    {
     "name": "stdout",
     "output_type": "stream",
     "text": [
      "Trying for M9A\n"
     ]
    },
    {
     "name": "stderr",
     "output_type": "stream",
     "text": [
      "Status code 401 from http://api.opencagedata.com/geocode/v1/json: ERROR - 401 Client Error: Unauthorized for url: http://api.opencagedata.com/geocode/v1/json?query=M9A%2C+Toronto%2C+Ontario&key=13aa077d21ae42f287ec8607e07b2159&limit=1\n"
     ]
    },
    {
     "name": "stdout",
     "output_type": "stream",
     "text": [
      "Trying for M9A\n"
     ]
    },
    {
     "name": "stderr",
     "output_type": "stream",
     "text": [
      "Status code 401 from http://api.opencagedata.com/geocode/v1/json: ERROR - 401 Client Error: Unauthorized for url: http://api.opencagedata.com/geocode/v1/json?query=M9A%2C+Toronto%2C+Ontario&key=13aa077d21ae42f287ec8607e07b2159&limit=1\n"
     ]
    },
    {
     "name": "stdout",
     "output_type": "stream",
     "text": [
      "Trying for M9A\n"
     ]
    },
    {
     "name": "stderr",
     "output_type": "stream",
     "text": [
      "Status code 401 from http://api.opencagedata.com/geocode/v1/json: ERROR - 401 Client Error: Unauthorized for url: http://api.opencagedata.com/geocode/v1/json?query=M9A%2C+Toronto%2C+Ontario&key=13aa077d21ae42f287ec8607e07b2159&limit=1\n"
     ]
    },
    {
     "name": "stdout",
     "output_type": "stream",
     "text": [
      "Trying for M9A\n"
     ]
    },
    {
     "name": "stderr",
     "output_type": "stream",
     "text": [
      "Status code 401 from http://api.opencagedata.com/geocode/v1/json: ERROR - 401 Client Error: Unauthorized for url: http://api.opencagedata.com/geocode/v1/json?query=M9A%2C+Toronto%2C+Ontario&key=13aa077d21ae42f287ec8607e07b2159&limit=1\n"
     ]
    },
    {
     "name": "stdout",
     "output_type": "stream",
     "text": [
      "Trying for M9A\n"
     ]
    },
    {
     "name": "stderr",
     "output_type": "stream",
     "text": [
      "Status code 401 from http://api.opencagedata.com/geocode/v1/json: ERROR - 401 Client Error: Unauthorized for url: http://api.opencagedata.com/geocode/v1/json?query=M9A%2C+Toronto%2C+Ontario&key=13aa077d21ae42f287ec8607e07b2159&limit=1\n"
     ]
    },
    {
     "name": "stdout",
     "output_type": "stream",
     "text": [
      "Trying for M9A\n"
     ]
    },
    {
     "name": "stderr",
     "output_type": "stream",
     "text": [
      "Status code 401 from http://api.opencagedata.com/geocode/v1/json: ERROR - 401 Client Error: Unauthorized for url: http://api.opencagedata.com/geocode/v1/json?query=M9A%2C+Toronto%2C+Ontario&key=13aa077d21ae42f287ec8607e07b2159&limit=1\n"
     ]
    },
    {
     "name": "stdout",
     "output_type": "stream",
     "text": [
      "Trying for M9A\n"
     ]
    },
    {
     "name": "stderr",
     "output_type": "stream",
     "text": [
      "Status code 401 from http://api.opencagedata.com/geocode/v1/json: ERROR - 401 Client Error: Unauthorized for url: http://api.opencagedata.com/geocode/v1/json?query=M9A%2C+Toronto%2C+Ontario&key=13aa077d21ae42f287ec8607e07b2159&limit=1\n"
     ]
    },
    {
     "name": "stdout",
     "output_type": "stream",
     "text": [
      "Trying for M9A\n"
     ]
    },
    {
     "name": "stderr",
     "output_type": "stream",
     "text": [
      "Status code 401 from http://api.opencagedata.com/geocode/v1/json: ERROR - 401 Client Error: Unauthorized for url: http://api.opencagedata.com/geocode/v1/json?query=M9A%2C+Toronto%2C+Ontario&key=13aa077d21ae42f287ec8607e07b2159&limit=1\n"
     ]
    },
    {
     "name": "stdout",
     "output_type": "stream",
     "text": [
      "Trying for M9A\n"
     ]
    },
    {
     "name": "stderr",
     "output_type": "stream",
     "text": [
      "Status code 401 from http://api.opencagedata.com/geocode/v1/json: ERROR - 401 Client Error: Unauthorized for url: http://api.opencagedata.com/geocode/v1/json?query=M9A%2C+Toronto%2C+Ontario&key=13aa077d21ae42f287ec8607e07b2159&limit=1\n"
     ]
    },
    {
     "name": "stdout",
     "output_type": "stream",
     "text": [
      "Trying for M9A\n"
     ]
    },
    {
     "name": "stderr",
     "output_type": "stream",
     "text": [
      "Status code 401 from http://api.opencagedata.com/geocode/v1/json: ERROR - 401 Client Error: Unauthorized for url: http://api.opencagedata.com/geocode/v1/json?query=M9A%2C+Toronto%2C+Ontario&key=13aa077d21ae42f287ec8607e07b2159&limit=1\n"
     ]
    },
    {
     "name": "stdout",
     "output_type": "stream",
     "text": [
      "Trying for M9A\n"
     ]
    },
    {
     "name": "stderr",
     "output_type": "stream",
     "text": [
      "Status code 401 from http://api.opencagedata.com/geocode/v1/json: ERROR - 401 Client Error: Unauthorized for url: http://api.opencagedata.com/geocode/v1/json?query=M9A%2C+Toronto%2C+Ontario&key=13aa077d21ae42f287ec8607e07b2159&limit=1\n"
     ]
    },
    {
     "name": "stdout",
     "output_type": "stream",
     "text": [
      "Trying for M9A\n"
     ]
    },
    {
     "name": "stderr",
     "output_type": "stream",
     "text": [
      "Status code 401 from http://api.opencagedata.com/geocode/v1/json: ERROR - 401 Client Error: Unauthorized for url: http://api.opencagedata.com/geocode/v1/json?query=M9A%2C+Toronto%2C+Ontario&key=13aa077d21ae42f287ec8607e07b2159&limit=1\n"
     ]
    },
    {
     "name": "stdout",
     "output_type": "stream",
     "text": [
      "Trying for M9A\n"
     ]
    },
    {
     "name": "stderr",
     "output_type": "stream",
     "text": [
      "Status code 401 from http://api.opencagedata.com/geocode/v1/json: ERROR - 401 Client Error: Unauthorized for url: http://api.opencagedata.com/geocode/v1/json?query=M9A%2C+Toronto%2C+Ontario&key=13aa077d21ae42f287ec8607e07b2159&limit=1\n"
     ]
    },
    {
     "name": "stdout",
     "output_type": "stream",
     "text": [
      "Trying for M9A\n"
     ]
    },
    {
     "name": "stderr",
     "output_type": "stream",
     "text": [
      "Status code 401 from http://api.opencagedata.com/geocode/v1/json: ERROR - 401 Client Error: Unauthorized for url: http://api.opencagedata.com/geocode/v1/json?query=M9A%2C+Toronto%2C+Ontario&key=13aa077d21ae42f287ec8607e07b2159&limit=1\n"
     ]
    },
    {
     "name": "stdout",
     "output_type": "stream",
     "text": [
      "Trying for M9A\n"
     ]
    },
    {
     "name": "stderr",
     "output_type": "stream",
     "text": [
      "Status code 401 from http://api.opencagedata.com/geocode/v1/json: ERROR - 401 Client Error: Unauthorized for url: http://api.opencagedata.com/geocode/v1/json?query=M9A%2C+Toronto%2C+Ontario&key=13aa077d21ae42f287ec8607e07b2159&limit=1\n"
     ]
    },
    {
     "name": "stdout",
     "output_type": "stream",
     "text": [
      "Trying for M9A\n"
     ]
    },
    {
     "name": "stderr",
     "output_type": "stream",
     "text": [
      "Status code 401 from http://api.opencagedata.com/geocode/v1/json: ERROR - 401 Client Error: Unauthorized for url: http://api.opencagedata.com/geocode/v1/json?query=M9A%2C+Toronto%2C+Ontario&key=13aa077d21ae42f287ec8607e07b2159&limit=1\n"
     ]
    },
    {
     "name": "stdout",
     "output_type": "stream",
     "text": [
      "Trying for M9A\n"
     ]
    },
    {
     "name": "stderr",
     "output_type": "stream",
     "text": [
      "Status code 401 from http://api.opencagedata.com/geocode/v1/json: ERROR - 401 Client Error: Unauthorized for url: http://api.opencagedata.com/geocode/v1/json?query=M9A%2C+Toronto%2C+Ontario&key=13aa077d21ae42f287ec8607e07b2159&limit=1\n"
     ]
    },
    {
     "name": "stdout",
     "output_type": "stream",
     "text": [
      "Trying for M9A\n"
     ]
    },
    {
     "name": "stderr",
     "output_type": "stream",
     "text": [
      "Status code 401 from http://api.opencagedata.com/geocode/v1/json: ERROR - 401 Client Error: Unauthorized for url: http://api.opencagedata.com/geocode/v1/json?query=M9A%2C+Toronto%2C+Ontario&key=13aa077d21ae42f287ec8607e07b2159&limit=1\n"
     ]
    },
    {
     "name": "stdout",
     "output_type": "stream",
     "text": [
      "Trying for M9A\n"
     ]
    },
    {
     "name": "stderr",
     "output_type": "stream",
     "text": [
      "Status code 401 from http://api.opencagedata.com/geocode/v1/json: ERROR - 401 Client Error: Unauthorized for url: http://api.opencagedata.com/geocode/v1/json?query=M9A%2C+Toronto%2C+Ontario&key=13aa077d21ae42f287ec8607e07b2159&limit=1\n"
     ]
    },
    {
     "name": "stdout",
     "output_type": "stream",
     "text": [
      "Trying for M9A\n"
     ]
    },
    {
     "name": "stderr",
     "output_type": "stream",
     "text": [
      "Status code 401 from http://api.opencagedata.com/geocode/v1/json: ERROR - 401 Client Error: Unauthorized for url: http://api.opencagedata.com/geocode/v1/json?query=M9A%2C+Toronto%2C+Ontario&key=13aa077d21ae42f287ec8607e07b2159&limit=1\n"
     ]
    },
    {
     "name": "stdout",
     "output_type": "stream",
     "text": [
      "Trying for M9A\n"
     ]
    },
    {
     "name": "stderr",
     "output_type": "stream",
     "text": [
      "Status code 401 from http://api.opencagedata.com/geocode/v1/json: ERROR - 401 Client Error: Unauthorized for url: http://api.opencagedata.com/geocode/v1/json?query=M9A%2C+Toronto%2C+Ontario&key=13aa077d21ae42f287ec8607e07b2159&limit=1\n"
     ]
    },
    {
     "name": "stdout",
     "output_type": "stream",
     "text": [
      "Trying for M9A\n"
     ]
    },
    {
     "name": "stderr",
     "output_type": "stream",
     "text": [
      "Status code 401 from http://api.opencagedata.com/geocode/v1/json: ERROR - 401 Client Error: Unauthorized for url: http://api.opencagedata.com/geocode/v1/json?query=M9A%2C+Toronto%2C+Ontario&key=13aa077d21ae42f287ec8607e07b2159&limit=1\n"
     ]
    },
    {
     "name": "stdout",
     "output_type": "stream",
     "text": [
      "Trying for M9A\n"
     ]
    },
    {
     "name": "stderr",
     "output_type": "stream",
     "text": [
      "Status code 401 from http://api.opencagedata.com/geocode/v1/json: ERROR - 401 Client Error: Unauthorized for url: http://api.opencagedata.com/geocode/v1/json?query=M9A%2C+Toronto%2C+Ontario&key=13aa077d21ae42f287ec8607e07b2159&limit=1\n"
     ]
    },
    {
     "name": "stdout",
     "output_type": "stream",
     "text": [
      "Trying for M9A\n"
     ]
    },
    {
     "name": "stderr",
     "output_type": "stream",
     "text": [
      "Status code 401 from http://api.opencagedata.com/geocode/v1/json: ERROR - 401 Client Error: Unauthorized for url: http://api.opencagedata.com/geocode/v1/json?query=M9A%2C+Toronto%2C+Ontario&key=13aa077d21ae42f287ec8607e07b2159&limit=1\n"
     ]
    },
    {
     "name": "stdout",
     "output_type": "stream",
     "text": [
      "Trying for M9A\n"
     ]
    },
    {
     "name": "stderr",
     "output_type": "stream",
     "text": [
      "Status code 401 from http://api.opencagedata.com/geocode/v1/json: ERROR - 401 Client Error: Unauthorized for url: http://api.opencagedata.com/geocode/v1/json?query=M9A%2C+Toronto%2C+Ontario&key=13aa077d21ae42f287ec8607e07b2159&limit=1\n"
     ]
    },
    {
     "name": "stdout",
     "output_type": "stream",
     "text": [
      "Trying for M9A\n"
     ]
    },
    {
     "name": "stderr",
     "output_type": "stream",
     "text": [
      "Status code 401 from http://api.opencagedata.com/geocode/v1/json: ERROR - 401 Client Error: Unauthorized for url: http://api.opencagedata.com/geocode/v1/json?query=M9A%2C+Toronto%2C+Ontario&key=13aa077d21ae42f287ec8607e07b2159&limit=1\n"
     ]
    },
    {
     "name": "stdout",
     "output_type": "stream",
     "text": [
      "Trying for M9A\n"
     ]
    },
    {
     "name": "stderr",
     "output_type": "stream",
     "text": [
      "Status code 401 from http://api.opencagedata.com/geocode/v1/json: ERROR - 401 Client Error: Unauthorized for url: http://api.opencagedata.com/geocode/v1/json?query=M9A%2C+Toronto%2C+Ontario&key=13aa077d21ae42f287ec8607e07b2159&limit=1\n"
     ]
    },
    {
     "name": "stdout",
     "output_type": "stream",
     "text": [
      "Trying for M9A\n"
     ]
    },
    {
     "name": "stderr",
     "output_type": "stream",
     "text": [
      "Status code 401 from http://api.opencagedata.com/geocode/v1/json: ERROR - 401 Client Error: Unauthorized for url: http://api.opencagedata.com/geocode/v1/json?query=M9A%2C+Toronto%2C+Ontario&key=13aa077d21ae42f287ec8607e07b2159&limit=1\n"
     ]
    },
    {
     "name": "stdout",
     "output_type": "stream",
     "text": [
      "Trying for M9A\n"
     ]
    },
    {
     "name": "stderr",
     "output_type": "stream",
     "text": [
      "Status code 401 from http://api.opencagedata.com/geocode/v1/json: ERROR - 401 Client Error: Unauthorized for url: http://api.opencagedata.com/geocode/v1/json?query=M9A%2C+Toronto%2C+Ontario&key=13aa077d21ae42f287ec8607e07b2159&limit=1\n"
     ]
    },
    {
     "name": "stdout",
     "output_type": "stream",
     "text": [
      "Trying for M9A\n"
     ]
    },
    {
     "name": "stderr",
     "output_type": "stream",
     "text": [
      "Status code 401 from http://api.opencagedata.com/geocode/v1/json: ERROR - 401 Client Error: Unauthorized for url: http://api.opencagedata.com/geocode/v1/json?query=M9A%2C+Toronto%2C+Ontario&key=13aa077d21ae42f287ec8607e07b2159&limit=1\n"
     ]
    },
    {
     "name": "stdout",
     "output_type": "stream",
     "text": [
      "Trying for M9A\n"
     ]
    },
    {
     "name": "stderr",
     "output_type": "stream",
     "text": [
      "Status code 401 from http://api.opencagedata.com/geocode/v1/json: ERROR - 401 Client Error: Unauthorized for url: http://api.opencagedata.com/geocode/v1/json?query=M9A%2C+Toronto%2C+Ontario&key=13aa077d21ae42f287ec8607e07b2159&limit=1\n"
     ]
    },
    {
     "name": "stdout",
     "output_type": "stream",
     "text": [
      "Trying for M9A\n"
     ]
    },
    {
     "name": "stderr",
     "output_type": "stream",
     "text": [
      "Status code 401 from http://api.opencagedata.com/geocode/v1/json: ERROR - 401 Client Error: Unauthorized for url: http://api.opencagedata.com/geocode/v1/json?query=M9A%2C+Toronto%2C+Ontario&key=13aa077d21ae42f287ec8607e07b2159&limit=1\n"
     ]
    },
    {
     "name": "stdout",
     "output_type": "stream",
     "text": [
      "Trying for M9A\n"
     ]
    },
    {
     "name": "stderr",
     "output_type": "stream",
     "text": [
      "Status code 401 from http://api.opencagedata.com/geocode/v1/json: ERROR - 401 Client Error: Unauthorized for url: http://api.opencagedata.com/geocode/v1/json?query=M9A%2C+Toronto%2C+Ontario&key=13aa077d21ae42f287ec8607e07b2159&limit=1\n"
     ]
    },
    {
     "name": "stdout",
     "output_type": "stream",
     "text": [
      "Trying for M9A\n"
     ]
    },
    {
     "name": "stderr",
     "output_type": "stream",
     "text": [
      "Status code 401 from http://api.opencagedata.com/geocode/v1/json: ERROR - 401 Client Error: Unauthorized for url: http://api.opencagedata.com/geocode/v1/json?query=M9A%2C+Toronto%2C+Ontario&key=13aa077d21ae42f287ec8607e07b2159&limit=1\n"
     ]
    },
    {
     "name": "stdout",
     "output_type": "stream",
     "text": [
      "Trying for M9A\n"
     ]
    },
    {
     "name": "stderr",
     "output_type": "stream",
     "text": [
      "Status code 401 from http://api.opencagedata.com/geocode/v1/json: ERROR - 401 Client Error: Unauthorized for url: http://api.opencagedata.com/geocode/v1/json?query=M9A%2C+Toronto%2C+Ontario&key=13aa077d21ae42f287ec8607e07b2159&limit=1\n"
     ]
    },
    {
     "name": "stdout",
     "output_type": "stream",
     "text": [
      "Trying for M9A\n"
     ]
    },
    {
     "name": "stderr",
     "output_type": "stream",
     "text": [
      "Status code 401 from http://api.opencagedata.com/geocode/v1/json: ERROR - 401 Client Error: Unauthorized for url: http://api.opencagedata.com/geocode/v1/json?query=M9A%2C+Toronto%2C+Ontario&key=13aa077d21ae42f287ec8607e07b2159&limit=1\n"
     ]
    },
    {
     "name": "stdout",
     "output_type": "stream",
     "text": [
      "Trying for M9A\n"
     ]
    },
    {
     "name": "stderr",
     "output_type": "stream",
     "text": [
      "Status code 401 from http://api.opencagedata.com/geocode/v1/json: ERROR - 401 Client Error: Unauthorized for url: http://api.opencagedata.com/geocode/v1/json?query=M9A%2C+Toronto%2C+Ontario&key=13aa077d21ae42f287ec8607e07b2159&limit=1\n"
     ]
    },
    {
     "name": "stdout",
     "output_type": "stream",
     "text": [
      "Trying for M9A\n"
     ]
    },
    {
     "name": "stderr",
     "output_type": "stream",
     "text": [
      "Status code 401 from http://api.opencagedata.com/geocode/v1/json: ERROR - 401 Client Error: Unauthorized for url: http://api.opencagedata.com/geocode/v1/json?query=M9A%2C+Toronto%2C+Ontario&key=13aa077d21ae42f287ec8607e07b2159&limit=1\n"
     ]
    },
    {
     "name": "stdout",
     "output_type": "stream",
     "text": [
      "Trying for M9A\n"
     ]
    },
    {
     "name": "stderr",
     "output_type": "stream",
     "text": [
      "Status code 401 from http://api.opencagedata.com/geocode/v1/json: ERROR - 401 Client Error: Unauthorized for url: http://api.opencagedata.com/geocode/v1/json?query=M9A%2C+Toronto%2C+Ontario&key=13aa077d21ae42f287ec8607e07b2159&limit=1\n"
     ]
    },
    {
     "name": "stdout",
     "output_type": "stream",
     "text": [
      "Trying for M9A\n"
     ]
    },
    {
     "name": "stderr",
     "output_type": "stream",
     "text": [
      "Status code 401 from http://api.opencagedata.com/geocode/v1/json: ERROR - 401 Client Error: Unauthorized for url: http://api.opencagedata.com/geocode/v1/json?query=M9A%2C+Toronto%2C+Ontario&key=13aa077d21ae42f287ec8607e07b2159&limit=1\n"
     ]
    },
    {
     "name": "stdout",
     "output_type": "stream",
     "text": [
      "Trying for M9A\n"
     ]
    },
    {
     "name": "stderr",
     "output_type": "stream",
     "text": [
      "Status code 401 from http://api.opencagedata.com/geocode/v1/json: ERROR - 401 Client Error: Unauthorized for url: http://api.opencagedata.com/geocode/v1/json?query=M9A%2C+Toronto%2C+Ontario&key=13aa077d21ae42f287ec8607e07b2159&limit=1\n"
     ]
    },
    {
     "name": "stdout",
     "output_type": "stream",
     "text": [
      "Trying for M9A\n"
     ]
    },
    {
     "name": "stderr",
     "output_type": "stream",
     "text": [
      "Status code 401 from http://api.opencagedata.com/geocode/v1/json: ERROR - 401 Client Error: Unauthorized for url: http://api.opencagedata.com/geocode/v1/json?query=M9A%2C+Toronto%2C+Ontario&key=13aa077d21ae42f287ec8607e07b2159&limit=1\n"
     ]
    },
    {
     "name": "stdout",
     "output_type": "stream",
     "text": [
      "Trying for M9A\n"
     ]
    },
    {
     "name": "stderr",
     "output_type": "stream",
     "text": [
      "Status code 401 from http://api.opencagedata.com/geocode/v1/json: ERROR - 401 Client Error: Unauthorized for url: http://api.opencagedata.com/geocode/v1/json?query=M9A%2C+Toronto%2C+Ontario&key=13aa077d21ae42f287ec8607e07b2159&limit=1\n"
     ]
    },
    {
     "name": "stdout",
     "output_type": "stream",
     "text": [
      "Trying for M9A\n"
     ]
    },
    {
     "name": "stderr",
     "output_type": "stream",
     "text": [
      "Status code 401 from http://api.opencagedata.com/geocode/v1/json: ERROR - 401 Client Error: Unauthorized for url: http://api.opencagedata.com/geocode/v1/json?query=M9A%2C+Toronto%2C+Ontario&key=13aa077d21ae42f287ec8607e07b2159&limit=1\n"
     ]
    },
    {
     "name": "stdout",
     "output_type": "stream",
     "text": [
      "Trying for M9A\n"
     ]
    },
    {
     "name": "stderr",
     "output_type": "stream",
     "text": [
      "Status code 401 from http://api.opencagedata.com/geocode/v1/json: ERROR - 401 Client Error: Unauthorized for url: http://api.opencagedata.com/geocode/v1/json?query=M9A%2C+Toronto%2C+Ontario&key=13aa077d21ae42f287ec8607e07b2159&limit=1\n"
     ]
    },
    {
     "name": "stdout",
     "output_type": "stream",
     "text": [
      "Trying for M9A\n"
     ]
    },
    {
     "name": "stderr",
     "output_type": "stream",
     "text": [
      "Status code 401 from http://api.opencagedata.com/geocode/v1/json: ERROR - 401 Client Error: Unauthorized for url: http://api.opencagedata.com/geocode/v1/json?query=M9A%2C+Toronto%2C+Ontario&key=13aa077d21ae42f287ec8607e07b2159&limit=1\n"
     ]
    },
    {
     "name": "stdout",
     "output_type": "stream",
     "text": [
      "Trying for M9A\n"
     ]
    },
    {
     "name": "stderr",
     "output_type": "stream",
     "text": [
      "Status code 401 from http://api.opencagedata.com/geocode/v1/json: ERROR - 401 Client Error: Unauthorized for url: http://api.opencagedata.com/geocode/v1/json?query=M9A%2C+Toronto%2C+Ontario&key=13aa077d21ae42f287ec8607e07b2159&limit=1\n"
     ]
    },
    {
     "name": "stdout",
     "output_type": "stream",
     "text": [
      "Trying for M9A\n"
     ]
    },
    {
     "name": "stderr",
     "output_type": "stream",
     "text": [
      "Status code 401 from http://api.opencagedata.com/geocode/v1/json: ERROR - 401 Client Error: Unauthorized for url: http://api.opencagedata.com/geocode/v1/json?query=M9A%2C+Toronto%2C+Ontario&key=13aa077d21ae42f287ec8607e07b2159&limit=1\n"
     ]
    },
    {
     "name": "stdout",
     "output_type": "stream",
     "text": [
      "Trying for M9A\n"
     ]
    },
    {
     "name": "stderr",
     "output_type": "stream",
     "text": [
      "Status code 401 from http://api.opencagedata.com/geocode/v1/json: ERROR - 401 Client Error: Unauthorized for url: http://api.opencagedata.com/geocode/v1/json?query=M9A%2C+Toronto%2C+Ontario&key=13aa077d21ae42f287ec8607e07b2159&limit=1\n"
     ]
    },
    {
     "name": "stdout",
     "output_type": "stream",
     "text": [
      "Trying for M9A\n"
     ]
    },
    {
     "name": "stderr",
     "output_type": "stream",
     "text": [
      "Status code 401 from http://api.opencagedata.com/geocode/v1/json: ERROR - 401 Client Error: Unauthorized for url: http://api.opencagedata.com/geocode/v1/json?query=M9A%2C+Toronto%2C+Ontario&key=13aa077d21ae42f287ec8607e07b2159&limit=1\n"
     ]
    },
    {
     "name": "stdout",
     "output_type": "stream",
     "text": [
      "Trying for M9A\n"
     ]
    },
    {
     "name": "stderr",
     "output_type": "stream",
     "text": [
      "Status code 401 from http://api.opencagedata.com/geocode/v1/json: ERROR - 401 Client Error: Unauthorized for url: http://api.opencagedata.com/geocode/v1/json?query=M9A%2C+Toronto%2C+Ontario&key=13aa077d21ae42f287ec8607e07b2159&limit=1\n"
     ]
    },
    {
     "name": "stdout",
     "output_type": "stream",
     "text": [
      "Trying for M9A\n"
     ]
    },
    {
     "name": "stderr",
     "output_type": "stream",
     "text": [
      "Status code 401 from http://api.opencagedata.com/geocode/v1/json: ERROR - 401 Client Error: Unauthorized for url: http://api.opencagedata.com/geocode/v1/json?query=M9A%2C+Toronto%2C+Ontario&key=13aa077d21ae42f287ec8607e07b2159&limit=1\n"
     ]
    },
    {
     "name": "stdout",
     "output_type": "stream",
     "text": [
      "Trying for M9A\n"
     ]
    },
    {
     "name": "stderr",
     "output_type": "stream",
     "text": [
      "Status code 401 from http://api.opencagedata.com/geocode/v1/json: ERROR - 401 Client Error: Unauthorized for url: http://api.opencagedata.com/geocode/v1/json?query=M9A%2C+Toronto%2C+Ontario&key=13aa077d21ae42f287ec8607e07b2159&limit=1\n"
     ]
    },
    {
     "name": "stdout",
     "output_type": "stream",
     "text": [
      "Trying for M9A\n"
     ]
    },
    {
     "name": "stderr",
     "output_type": "stream",
     "text": [
      "Status code 401 from http://api.opencagedata.com/geocode/v1/json: ERROR - 401 Client Error: Unauthorized for url: http://api.opencagedata.com/geocode/v1/json?query=M9A%2C+Toronto%2C+Ontario&key=13aa077d21ae42f287ec8607e07b2159&limit=1\n"
     ]
    },
    {
     "name": "stdout",
     "output_type": "stream",
     "text": [
      "Trying for M9A\n"
     ]
    },
    {
     "name": "stderr",
     "output_type": "stream",
     "text": [
      "Status code 401 from http://api.opencagedata.com/geocode/v1/json: ERROR - 401 Client Error: Unauthorized for url: http://api.opencagedata.com/geocode/v1/json?query=M9A%2C+Toronto%2C+Ontario&key=13aa077d21ae42f287ec8607e07b2159&limit=1\n"
     ]
    },
    {
     "name": "stdout",
     "output_type": "stream",
     "text": [
      "Trying for M9A\n"
     ]
    },
    {
     "name": "stderr",
     "output_type": "stream",
     "text": [
      "Status code 401 from http://api.opencagedata.com/geocode/v1/json: ERROR - 401 Client Error: Unauthorized for url: http://api.opencagedata.com/geocode/v1/json?query=M9A%2C+Toronto%2C+Ontario&key=13aa077d21ae42f287ec8607e07b2159&limit=1\n"
     ]
    },
    {
     "name": "stdout",
     "output_type": "stream",
     "text": [
      "Trying for M9A\n"
     ]
    },
    {
     "name": "stderr",
     "output_type": "stream",
     "text": [
      "Status code 401 from http://api.opencagedata.com/geocode/v1/json: ERROR - 401 Client Error: Unauthorized for url: http://api.opencagedata.com/geocode/v1/json?query=M9A%2C+Toronto%2C+Ontario&key=13aa077d21ae42f287ec8607e07b2159&limit=1\n"
     ]
    },
    {
     "name": "stdout",
     "output_type": "stream",
     "text": [
      "Trying for M9A\n"
     ]
    },
    {
     "name": "stderr",
     "output_type": "stream",
     "text": [
      "Status code 401 from http://api.opencagedata.com/geocode/v1/json: ERROR - 401 Client Error: Unauthorized for url: http://api.opencagedata.com/geocode/v1/json?query=M9A%2C+Toronto%2C+Ontario&key=13aa077d21ae42f287ec8607e07b2159&limit=1\n"
     ]
    },
    {
     "name": "stdout",
     "output_type": "stream",
     "text": [
      "Trying for M9A\n"
     ]
    },
    {
     "name": "stderr",
     "output_type": "stream",
     "text": [
      "Status code 401 from http://api.opencagedata.com/geocode/v1/json: ERROR - 401 Client Error: Unauthorized for url: http://api.opencagedata.com/geocode/v1/json?query=M9A%2C+Toronto%2C+Ontario&key=13aa077d21ae42f287ec8607e07b2159&limit=1\n"
     ]
    },
    {
     "name": "stdout",
     "output_type": "stream",
     "text": [
      "Trying for M9A\n"
     ]
    },
    {
     "name": "stderr",
     "output_type": "stream",
     "text": [
      "Status code 401 from http://api.opencagedata.com/geocode/v1/json: ERROR - 401 Client Error: Unauthorized for url: http://api.opencagedata.com/geocode/v1/json?query=M9A%2C+Toronto%2C+Ontario&key=13aa077d21ae42f287ec8607e07b2159&limit=1\n"
     ]
    },
    {
     "name": "stdout",
     "output_type": "stream",
     "text": [
      "Trying for M9A\n"
     ]
    },
    {
     "name": "stderr",
     "output_type": "stream",
     "text": [
      "Status code 401 from http://api.opencagedata.com/geocode/v1/json: ERROR - 401 Client Error: Unauthorized for url: http://api.opencagedata.com/geocode/v1/json?query=M9A%2C+Toronto%2C+Ontario&key=13aa077d21ae42f287ec8607e07b2159&limit=1\n"
     ]
    },
    {
     "name": "stdout",
     "output_type": "stream",
     "text": [
      "Trying for M9A\n"
     ]
    },
    {
     "name": "stderr",
     "output_type": "stream",
     "text": [
      "Status code 401 from http://api.opencagedata.com/geocode/v1/json: ERROR - 401 Client Error: Unauthorized for url: http://api.opencagedata.com/geocode/v1/json?query=M9A%2C+Toronto%2C+Ontario&key=13aa077d21ae42f287ec8607e07b2159&limit=1\n"
     ]
    },
    {
     "name": "stdout",
     "output_type": "stream",
     "text": [
      "Trying for M9A\n"
     ]
    },
    {
     "name": "stderr",
     "output_type": "stream",
     "text": [
      "Status code 401 from http://api.opencagedata.com/geocode/v1/json: ERROR - 401 Client Error: Unauthorized for url: http://api.opencagedata.com/geocode/v1/json?query=M9A%2C+Toronto%2C+Ontario&key=13aa077d21ae42f287ec8607e07b2159&limit=1\n"
     ]
    },
    {
     "name": "stdout",
     "output_type": "stream",
     "text": [
      "Trying for M9A\n"
     ]
    },
    {
     "name": "stderr",
     "output_type": "stream",
     "text": [
      "Status code 401 from http://api.opencagedata.com/geocode/v1/json: ERROR - 401 Client Error: Unauthorized for url: http://api.opencagedata.com/geocode/v1/json?query=M9A%2C+Toronto%2C+Ontario&key=13aa077d21ae42f287ec8607e07b2159&limit=1\n"
     ]
    },
    {
     "name": "stdout",
     "output_type": "stream",
     "text": [
      "Trying for M9A\n"
     ]
    },
    {
     "name": "stderr",
     "output_type": "stream",
     "text": [
      "Status code 401 from http://api.opencagedata.com/geocode/v1/json: ERROR - 401 Client Error: Unauthorized for url: http://api.opencagedata.com/geocode/v1/json?query=M9A%2C+Toronto%2C+Ontario&key=13aa077d21ae42f287ec8607e07b2159&limit=1\n"
     ]
    },
    {
     "name": "stdout",
     "output_type": "stream",
     "text": [
      "Trying for M9A\n"
     ]
    },
    {
     "name": "stderr",
     "output_type": "stream",
     "text": [
      "Status code 401 from http://api.opencagedata.com/geocode/v1/json: ERROR - 401 Client Error: Unauthorized for url: http://api.opencagedata.com/geocode/v1/json?query=M9A%2C+Toronto%2C+Ontario&key=13aa077d21ae42f287ec8607e07b2159&limit=1\n"
     ]
    },
    {
     "name": "stdout",
     "output_type": "stream",
     "text": [
      "Trying for M9A\n"
     ]
    },
    {
     "name": "stderr",
     "output_type": "stream",
     "text": [
      "Status code 401 from http://api.opencagedata.com/geocode/v1/json: ERROR - 401 Client Error: Unauthorized for url: http://api.opencagedata.com/geocode/v1/json?query=M9A%2C+Toronto%2C+Ontario&key=13aa077d21ae42f287ec8607e07b2159&limit=1\n"
     ]
    },
    {
     "name": "stdout",
     "output_type": "stream",
     "text": [
      "Trying for M9A\n"
     ]
    },
    {
     "name": "stderr",
     "output_type": "stream",
     "text": [
      "Status code 401 from http://api.opencagedata.com/geocode/v1/json: ERROR - 401 Client Error: Unauthorized for url: http://api.opencagedata.com/geocode/v1/json?query=M9A%2C+Toronto%2C+Ontario&key=13aa077d21ae42f287ec8607e07b2159&limit=1\n"
     ]
    },
    {
     "name": "stdout",
     "output_type": "stream",
     "text": [
      "Trying for M9A\n"
     ]
    },
    {
     "name": "stderr",
     "output_type": "stream",
     "text": [
      "Status code 401 from http://api.opencagedata.com/geocode/v1/json: ERROR - 401 Client Error: Unauthorized for url: http://api.opencagedata.com/geocode/v1/json?query=M9A%2C+Toronto%2C+Ontario&key=13aa077d21ae42f287ec8607e07b2159&limit=1\n"
     ]
    },
    {
     "name": "stdout",
     "output_type": "stream",
     "text": [
      "Trying for M9A\n"
     ]
    },
    {
     "name": "stderr",
     "output_type": "stream",
     "text": [
      "Status code 401 from http://api.opencagedata.com/geocode/v1/json: ERROR - 401 Client Error: Unauthorized for url: http://api.opencagedata.com/geocode/v1/json?query=M9A%2C+Toronto%2C+Ontario&key=13aa077d21ae42f287ec8607e07b2159&limit=1\n"
     ]
    },
    {
     "name": "stdout",
     "output_type": "stream",
     "text": [
      "Trying for M9A\n"
     ]
    },
    {
     "name": "stderr",
     "output_type": "stream",
     "text": [
      "Status code 401 from http://api.opencagedata.com/geocode/v1/json: ERROR - 401 Client Error: Unauthorized for url: http://api.opencagedata.com/geocode/v1/json?query=M9A%2C+Toronto%2C+Ontario&key=13aa077d21ae42f287ec8607e07b2159&limit=1\n"
     ]
    },
    {
     "name": "stdout",
     "output_type": "stream",
     "text": [
      "Trying for M9A\n"
     ]
    },
    {
     "name": "stderr",
     "output_type": "stream",
     "text": [
      "Status code 401 from http://api.opencagedata.com/geocode/v1/json: ERROR - 401 Client Error: Unauthorized for url: http://api.opencagedata.com/geocode/v1/json?query=M9A%2C+Toronto%2C+Ontario&key=13aa077d21ae42f287ec8607e07b2159&limit=1\n"
     ]
    },
    {
     "name": "stdout",
     "output_type": "stream",
     "text": [
      "Trying for M9A\n"
     ]
    },
    {
     "name": "stderr",
     "output_type": "stream",
     "text": [
      "Status code 401 from http://api.opencagedata.com/geocode/v1/json: ERROR - 401 Client Error: Unauthorized for url: http://api.opencagedata.com/geocode/v1/json?query=M9A%2C+Toronto%2C+Ontario&key=13aa077d21ae42f287ec8607e07b2159&limit=1\n"
     ]
    },
    {
     "name": "stdout",
     "output_type": "stream",
     "text": [
      "Trying for M9A\n"
     ]
    },
    {
     "name": "stderr",
     "output_type": "stream",
     "text": [
      "Status code 401 from http://api.opencagedata.com/geocode/v1/json: ERROR - 401 Client Error: Unauthorized for url: http://api.opencagedata.com/geocode/v1/json?query=M9A%2C+Toronto%2C+Ontario&key=13aa077d21ae42f287ec8607e07b2159&limit=1\n"
     ]
    },
    {
     "name": "stdout",
     "output_type": "stream",
     "text": [
      "Trying for M9A\n"
     ]
    },
    {
     "name": "stderr",
     "output_type": "stream",
     "text": [
      "Status code 401 from http://api.opencagedata.com/geocode/v1/json: ERROR - 401 Client Error: Unauthorized for url: http://api.opencagedata.com/geocode/v1/json?query=M9A%2C+Toronto%2C+Ontario&key=13aa077d21ae42f287ec8607e07b2159&limit=1\n"
     ]
    },
    {
     "name": "stdout",
     "output_type": "stream",
     "text": [
      "Trying for M9A\n"
     ]
    },
    {
     "name": "stderr",
     "output_type": "stream",
     "text": [
      "Status code 401 from http://api.opencagedata.com/geocode/v1/json: ERROR - 401 Client Error: Unauthorized for url: http://api.opencagedata.com/geocode/v1/json?query=M9A%2C+Toronto%2C+Ontario&key=13aa077d21ae42f287ec8607e07b2159&limit=1\n"
     ]
    },
    {
     "name": "stdout",
     "output_type": "stream",
     "text": [
      "Trying for M9A\n"
     ]
    },
    {
     "name": "stderr",
     "output_type": "stream",
     "text": [
      "Status code 401 from http://api.opencagedata.com/geocode/v1/json: ERROR - 401 Client Error: Unauthorized for url: http://api.opencagedata.com/geocode/v1/json?query=M9A%2C+Toronto%2C+Ontario&key=13aa077d21ae42f287ec8607e07b2159&limit=1\n"
     ]
    },
    {
     "name": "stdout",
     "output_type": "stream",
     "text": [
      "Trying for M9A\n"
     ]
    },
    {
     "name": "stderr",
     "output_type": "stream",
     "text": [
      "Status code 401 from http://api.opencagedata.com/geocode/v1/json: ERROR - 401 Client Error: Unauthorized for url: http://api.opencagedata.com/geocode/v1/json?query=M9A%2C+Toronto%2C+Ontario&key=13aa077d21ae42f287ec8607e07b2159&limit=1\n"
     ]
    },
    {
     "name": "stdout",
     "output_type": "stream",
     "text": [
      "Trying for M9A\n"
     ]
    },
    {
     "name": "stderr",
     "output_type": "stream",
     "text": [
      "Status code 401 from http://api.opencagedata.com/geocode/v1/json: ERROR - 401 Client Error: Unauthorized for url: http://api.opencagedata.com/geocode/v1/json?query=M9A%2C+Toronto%2C+Ontario&key=13aa077d21ae42f287ec8607e07b2159&limit=1\n"
     ]
    },
    {
     "name": "stdout",
     "output_type": "stream",
     "text": [
      "Trying for M9A\n"
     ]
    },
    {
     "name": "stderr",
     "output_type": "stream",
     "text": [
      "Status code 401 from http://api.opencagedata.com/geocode/v1/json: ERROR - 401 Client Error: Unauthorized for url: http://api.opencagedata.com/geocode/v1/json?query=M9A%2C+Toronto%2C+Ontario&key=13aa077d21ae42f287ec8607e07b2159&limit=1\n"
     ]
    },
    {
     "name": "stdout",
     "output_type": "stream",
     "text": [
      "Trying for M9A\n"
     ]
    },
    {
     "name": "stderr",
     "output_type": "stream",
     "text": [
      "Status code 401 from http://api.opencagedata.com/geocode/v1/json: ERROR - 401 Client Error: Unauthorized for url: http://api.opencagedata.com/geocode/v1/json?query=M9A%2C+Toronto%2C+Ontario&key=13aa077d21ae42f287ec8607e07b2159&limit=1\n"
     ]
    },
    {
     "name": "stdout",
     "output_type": "stream",
     "text": [
      "Trying for M9A\n"
     ]
    },
    {
     "name": "stderr",
     "output_type": "stream",
     "text": [
      "Status code 401 from http://api.opencagedata.com/geocode/v1/json: ERROR - 401 Client Error: Unauthorized for url: http://api.opencagedata.com/geocode/v1/json?query=M9A%2C+Toronto%2C+Ontario&key=13aa077d21ae42f287ec8607e07b2159&limit=1\n"
     ]
    },
    {
     "name": "stdout",
     "output_type": "stream",
     "text": [
      "Trying for M9A\n"
     ]
    },
    {
     "name": "stderr",
     "output_type": "stream",
     "text": [
      "Status code 401 from http://api.opencagedata.com/geocode/v1/json: ERROR - 401 Client Error: Unauthorized for url: http://api.opencagedata.com/geocode/v1/json?query=M9A%2C+Toronto%2C+Ontario&key=13aa077d21ae42f287ec8607e07b2159&limit=1\n"
     ]
    },
    {
     "name": "stdout",
     "output_type": "stream",
     "text": [
      "Trying for M9A\n"
     ]
    },
    {
     "name": "stderr",
     "output_type": "stream",
     "text": [
      "Status code 401 from http://api.opencagedata.com/geocode/v1/json: ERROR - 401 Client Error: Unauthorized for url: http://api.opencagedata.com/geocode/v1/json?query=M9A%2C+Toronto%2C+Ontario&key=13aa077d21ae42f287ec8607e07b2159&limit=1\n"
     ]
    },
    {
     "name": "stdout",
     "output_type": "stream",
     "text": [
      "Trying for M9A\n"
     ]
    },
    {
     "name": "stderr",
     "output_type": "stream",
     "text": [
      "Status code 401 from http://api.opencagedata.com/geocode/v1/json: ERROR - 401 Client Error: Unauthorized for url: http://api.opencagedata.com/geocode/v1/json?query=M9A%2C+Toronto%2C+Ontario&key=13aa077d21ae42f287ec8607e07b2159&limit=1\n"
     ]
    },
    {
     "name": "stdout",
     "output_type": "stream",
     "text": [
      "Trying for M9A\n"
     ]
    },
    {
     "name": "stderr",
     "output_type": "stream",
     "text": [
      "Status code 401 from http://api.opencagedata.com/geocode/v1/json: ERROR - 401 Client Error: Unauthorized for url: http://api.opencagedata.com/geocode/v1/json?query=M9A%2C+Toronto%2C+Ontario&key=13aa077d21ae42f287ec8607e07b2159&limit=1\n"
     ]
    },
    {
     "name": "stdout",
     "output_type": "stream",
     "text": [
      "Trying for M9A\n"
     ]
    },
    {
     "name": "stderr",
     "output_type": "stream",
     "text": [
      "Status code 401 from http://api.opencagedata.com/geocode/v1/json: ERROR - 401 Client Error: Unauthorized for url: http://api.opencagedata.com/geocode/v1/json?query=M9A%2C+Toronto%2C+Ontario&key=13aa077d21ae42f287ec8607e07b2159&limit=1\n"
     ]
    },
    {
     "name": "stdout",
     "output_type": "stream",
     "text": [
      "Trying for M9A\n"
     ]
    },
    {
     "name": "stderr",
     "output_type": "stream",
     "text": [
      "Status code 401 from http://api.opencagedata.com/geocode/v1/json: ERROR - 401 Client Error: Unauthorized for url: http://api.opencagedata.com/geocode/v1/json?query=M9A%2C+Toronto%2C+Ontario&key=13aa077d21ae42f287ec8607e07b2159&limit=1\n"
     ]
    },
    {
     "name": "stdout",
     "output_type": "stream",
     "text": [
      "Trying for M9A\n"
     ]
    },
    {
     "name": "stderr",
     "output_type": "stream",
     "text": [
      "Status code 401 from http://api.opencagedata.com/geocode/v1/json: ERROR - 401 Client Error: Unauthorized for url: http://api.opencagedata.com/geocode/v1/json?query=M9A%2C+Toronto%2C+Ontario&key=13aa077d21ae42f287ec8607e07b2159&limit=1\n"
     ]
    },
    {
     "name": "stdout",
     "output_type": "stream",
     "text": [
      "Trying for M9A\n"
     ]
    },
    {
     "name": "stderr",
     "output_type": "stream",
     "text": [
      "Status code 401 from http://api.opencagedata.com/geocode/v1/json: ERROR - 401 Client Error: Unauthorized for url: http://api.opencagedata.com/geocode/v1/json?query=M9A%2C+Toronto%2C+Ontario&key=13aa077d21ae42f287ec8607e07b2159&limit=1\n"
     ]
    },
    {
     "name": "stdout",
     "output_type": "stream",
     "text": [
      "Trying for M9A\n"
     ]
    },
    {
     "name": "stderr",
     "output_type": "stream",
     "text": [
      "Status code 401 from http://api.opencagedata.com/geocode/v1/json: ERROR - 401 Client Error: Unauthorized for url: http://api.opencagedata.com/geocode/v1/json?query=M9A%2C+Toronto%2C+Ontario&key=13aa077d21ae42f287ec8607e07b2159&limit=1\n"
     ]
    },
    {
     "name": "stdout",
     "output_type": "stream",
     "text": [
      "Trying for M9A\n"
     ]
    },
    {
     "name": "stderr",
     "output_type": "stream",
     "text": [
      "Status code 401 from http://api.opencagedata.com/geocode/v1/json: ERROR - 401 Client Error: Unauthorized for url: http://api.opencagedata.com/geocode/v1/json?query=M9A%2C+Toronto%2C+Ontario&key=13aa077d21ae42f287ec8607e07b2159&limit=1\n"
     ]
    },
    {
     "name": "stdout",
     "output_type": "stream",
     "text": [
      "Trying for M9A\n"
     ]
    },
    {
     "name": "stderr",
     "output_type": "stream",
     "text": [
      "Status code 401 from http://api.opencagedata.com/geocode/v1/json: ERROR - 401 Client Error: Unauthorized for url: http://api.opencagedata.com/geocode/v1/json?query=M9A%2C+Toronto%2C+Ontario&key=13aa077d21ae42f287ec8607e07b2159&limit=1\n"
     ]
    },
    {
     "name": "stdout",
     "output_type": "stream",
     "text": [
      "Trying for M9A\n"
     ]
    },
    {
     "name": "stderr",
     "output_type": "stream",
     "text": [
      "Status code 401 from http://api.opencagedata.com/geocode/v1/json: ERROR - 401 Client Error: Unauthorized for url: http://api.opencagedata.com/geocode/v1/json?query=M9A%2C+Toronto%2C+Ontario&key=13aa077d21ae42f287ec8607e07b2159&limit=1\n"
     ]
    },
    {
     "name": "stdout",
     "output_type": "stream",
     "text": [
      "Trying for M9A\n"
     ]
    },
    {
     "name": "stderr",
     "output_type": "stream",
     "text": [
      "Status code 401 from http://api.opencagedata.com/geocode/v1/json: ERROR - 401 Client Error: Unauthorized for url: http://api.opencagedata.com/geocode/v1/json?query=M9A%2C+Toronto%2C+Ontario&key=13aa077d21ae42f287ec8607e07b2159&limit=1\n"
     ]
    },
    {
     "name": "stdout",
     "output_type": "stream",
     "text": [
      "Trying for M9A\n"
     ]
    },
    {
     "name": "stderr",
     "output_type": "stream",
     "text": [
      "Status code 401 from http://api.opencagedata.com/geocode/v1/json: ERROR - 401 Client Error: Unauthorized for url: http://api.opencagedata.com/geocode/v1/json?query=M9A%2C+Toronto%2C+Ontario&key=13aa077d21ae42f287ec8607e07b2159&limit=1\n"
     ]
    },
    {
     "name": "stdout",
     "output_type": "stream",
     "text": [
      "Trying for M9A\n"
     ]
    },
    {
     "name": "stderr",
     "output_type": "stream",
     "text": [
      "Status code 401 from http://api.opencagedata.com/geocode/v1/json: ERROR - 401 Client Error: Unauthorized for url: http://api.opencagedata.com/geocode/v1/json?query=M9A%2C+Toronto%2C+Ontario&key=13aa077d21ae42f287ec8607e07b2159&limit=1\n"
     ]
    },
    {
     "name": "stdout",
     "output_type": "stream",
     "text": [
      "Trying for M9A\n"
     ]
    },
    {
     "name": "stderr",
     "output_type": "stream",
     "text": [
      "Status code 401 from http://api.opencagedata.com/geocode/v1/json: ERROR - 401 Client Error: Unauthorized for url: http://api.opencagedata.com/geocode/v1/json?query=M9A%2C+Toronto%2C+Ontario&key=13aa077d21ae42f287ec8607e07b2159&limit=1\n"
     ]
    },
    {
     "name": "stdout",
     "output_type": "stream",
     "text": [
      "Trying for M9A\n"
     ]
    },
    {
     "name": "stderr",
     "output_type": "stream",
     "text": [
      "Status code 401 from http://api.opencagedata.com/geocode/v1/json: ERROR - 401 Client Error: Unauthorized for url: http://api.opencagedata.com/geocode/v1/json?query=M9A%2C+Toronto%2C+Ontario&key=13aa077d21ae42f287ec8607e07b2159&limit=1\n"
     ]
    },
    {
     "name": "stdout",
     "output_type": "stream",
     "text": [
      "Trying for M9A\n"
     ]
    },
    {
     "name": "stderr",
     "output_type": "stream",
     "text": [
      "Status code 401 from http://api.opencagedata.com/geocode/v1/json: ERROR - 401 Client Error: Unauthorized for url: http://api.opencagedata.com/geocode/v1/json?query=M9A%2C+Toronto%2C+Ontario&key=13aa077d21ae42f287ec8607e07b2159&limit=1\n"
     ]
    },
    {
     "name": "stdout",
     "output_type": "stream",
     "text": [
      "Trying for M9A\n"
     ]
    },
    {
     "name": "stderr",
     "output_type": "stream",
     "text": [
      "Status code 401 from http://api.opencagedata.com/geocode/v1/json: ERROR - 401 Client Error: Unauthorized for url: http://api.opencagedata.com/geocode/v1/json?query=M9A%2C+Toronto%2C+Ontario&key=13aa077d21ae42f287ec8607e07b2159&limit=1\n"
     ]
    },
    {
     "name": "stdout",
     "output_type": "stream",
     "text": [
      "Trying for M9A\n"
     ]
    },
    {
     "name": "stderr",
     "output_type": "stream",
     "text": [
      "Status code 401 from http://api.opencagedata.com/geocode/v1/json: ERROR - 401 Client Error: Unauthorized for url: http://api.opencagedata.com/geocode/v1/json?query=M9A%2C+Toronto%2C+Ontario&key=13aa077d21ae42f287ec8607e07b2159&limit=1\n"
     ]
    },
    {
     "name": "stdout",
     "output_type": "stream",
     "text": [
      "Trying for M9A\n"
     ]
    },
    {
     "name": "stderr",
     "output_type": "stream",
     "text": [
      "Status code 401 from http://api.opencagedata.com/geocode/v1/json: ERROR - 401 Client Error: Unauthorized for url: http://api.opencagedata.com/geocode/v1/json?query=M9A%2C+Toronto%2C+Ontario&key=13aa077d21ae42f287ec8607e07b2159&limit=1\n"
     ]
    },
    {
     "name": "stdout",
     "output_type": "stream",
     "text": [
      "Trying for M9A\n"
     ]
    },
    {
     "name": "stderr",
     "output_type": "stream",
     "text": [
      "Status code 401 from http://api.opencagedata.com/geocode/v1/json: ERROR - 401 Client Error: Unauthorized for url: http://api.opencagedata.com/geocode/v1/json?query=M9A%2C+Toronto%2C+Ontario&key=13aa077d21ae42f287ec8607e07b2159&limit=1\n"
     ]
    },
    {
     "name": "stdout",
     "output_type": "stream",
     "text": [
      "Trying for M9A\n"
     ]
    },
    {
     "name": "stderr",
     "output_type": "stream",
     "text": [
      "Status code 401 from http://api.opencagedata.com/geocode/v1/json: ERROR - 401 Client Error: Unauthorized for url: http://api.opencagedata.com/geocode/v1/json?query=M9A%2C+Toronto%2C+Ontario&key=13aa077d21ae42f287ec8607e07b2159&limit=1\n"
     ]
    },
    {
     "name": "stdout",
     "output_type": "stream",
     "text": [
      "Trying for M9A\n"
     ]
    },
    {
     "name": "stderr",
     "output_type": "stream",
     "text": [
      "Status code 401 from http://api.opencagedata.com/geocode/v1/json: ERROR - 401 Client Error: Unauthorized for url: http://api.opencagedata.com/geocode/v1/json?query=M9A%2C+Toronto%2C+Ontario&key=13aa077d21ae42f287ec8607e07b2159&limit=1\n"
     ]
    },
    {
     "name": "stdout",
     "output_type": "stream",
     "text": [
      "Trying for M9A\n"
     ]
    },
    {
     "name": "stderr",
     "output_type": "stream",
     "text": [
      "Status code 401 from http://api.opencagedata.com/geocode/v1/json: ERROR - 401 Client Error: Unauthorized for url: http://api.opencagedata.com/geocode/v1/json?query=M9A%2C+Toronto%2C+Ontario&key=13aa077d21ae42f287ec8607e07b2159&limit=1\n"
     ]
    },
    {
     "name": "stdout",
     "output_type": "stream",
     "text": [
      "Trying for M9A\n"
     ]
    },
    {
     "name": "stderr",
     "output_type": "stream",
     "text": [
      "Status code 401 from http://api.opencagedata.com/geocode/v1/json: ERROR - 401 Client Error: Unauthorized for url: http://api.opencagedata.com/geocode/v1/json?query=M9A%2C+Toronto%2C+Ontario&key=13aa077d21ae42f287ec8607e07b2159&limit=1\n"
     ]
    },
    {
     "name": "stdout",
     "output_type": "stream",
     "text": [
      "Trying for M9A\n"
     ]
    },
    {
     "name": "stderr",
     "output_type": "stream",
     "text": [
      "Status code 401 from http://api.opencagedata.com/geocode/v1/json: ERROR - 401 Client Error: Unauthorized for url: http://api.opencagedata.com/geocode/v1/json?query=M9A%2C+Toronto%2C+Ontario&key=13aa077d21ae42f287ec8607e07b2159&limit=1\n"
     ]
    },
    {
     "name": "stdout",
     "output_type": "stream",
     "text": [
      "Trying for M9A\n"
     ]
    },
    {
     "name": "stderr",
     "output_type": "stream",
     "text": [
      "Status code 401 from http://api.opencagedata.com/geocode/v1/json: ERROR - 401 Client Error: Unauthorized for url: http://api.opencagedata.com/geocode/v1/json?query=M9A%2C+Toronto%2C+Ontario&key=13aa077d21ae42f287ec8607e07b2159&limit=1\n"
     ]
    },
    {
     "name": "stdout",
     "output_type": "stream",
     "text": [
      "Trying for M9A\n"
     ]
    },
    {
     "name": "stderr",
     "output_type": "stream",
     "text": [
      "Status code 401 from http://api.opencagedata.com/geocode/v1/json: ERROR - 401 Client Error: Unauthorized for url: http://api.opencagedata.com/geocode/v1/json?query=M9A%2C+Toronto%2C+Ontario&key=13aa077d21ae42f287ec8607e07b2159&limit=1\n"
     ]
    },
    {
     "name": "stdout",
     "output_type": "stream",
     "text": [
      "Trying for M9A\n"
     ]
    },
    {
     "name": "stderr",
     "output_type": "stream",
     "text": [
      "Status code 401 from http://api.opencagedata.com/geocode/v1/json: ERROR - 401 Client Error: Unauthorized for url: http://api.opencagedata.com/geocode/v1/json?query=M9A%2C+Toronto%2C+Ontario&key=13aa077d21ae42f287ec8607e07b2159&limit=1\n"
     ]
    },
    {
     "name": "stdout",
     "output_type": "stream",
     "text": [
      "Trying for M9A\n"
     ]
    },
    {
     "name": "stderr",
     "output_type": "stream",
     "text": [
      "Status code 401 from http://api.opencagedata.com/geocode/v1/json: ERROR - 401 Client Error: Unauthorized for url: http://api.opencagedata.com/geocode/v1/json?query=M9A%2C+Toronto%2C+Ontario&key=13aa077d21ae42f287ec8607e07b2159&limit=1\n"
     ]
    },
    {
     "name": "stdout",
     "output_type": "stream",
     "text": [
      "Trying for M9A\n"
     ]
    },
    {
     "name": "stderr",
     "output_type": "stream",
     "text": [
      "Status code 401 from http://api.opencagedata.com/geocode/v1/json: ERROR - 401 Client Error: Unauthorized for url: http://api.opencagedata.com/geocode/v1/json?query=M9A%2C+Toronto%2C+Ontario&key=13aa077d21ae42f287ec8607e07b2159&limit=1\n"
     ]
    },
    {
     "name": "stdout",
     "output_type": "stream",
     "text": [
      "Trying for M9A\n"
     ]
    },
    {
     "name": "stderr",
     "output_type": "stream",
     "text": [
      "Status code 401 from http://api.opencagedata.com/geocode/v1/json: ERROR - 401 Client Error: Unauthorized for url: http://api.opencagedata.com/geocode/v1/json?query=M9A%2C+Toronto%2C+Ontario&key=13aa077d21ae42f287ec8607e07b2159&limit=1\n"
     ]
    },
    {
     "name": "stdout",
     "output_type": "stream",
     "text": [
      "Trying for M9A\n"
     ]
    },
    {
     "name": "stderr",
     "output_type": "stream",
     "text": [
      "Status code 401 from http://api.opencagedata.com/geocode/v1/json: ERROR - 401 Client Error: Unauthorized for url: http://api.opencagedata.com/geocode/v1/json?query=M9A%2C+Toronto%2C+Ontario&key=13aa077d21ae42f287ec8607e07b2159&limit=1\n"
     ]
    },
    {
     "name": "stdout",
     "output_type": "stream",
     "text": [
      "Trying for M9A\n"
     ]
    },
    {
     "name": "stderr",
     "output_type": "stream",
     "text": [
      "Status code 401 from http://api.opencagedata.com/geocode/v1/json: ERROR - 401 Client Error: Unauthorized for url: http://api.opencagedata.com/geocode/v1/json?query=M9A%2C+Toronto%2C+Ontario&key=13aa077d21ae42f287ec8607e07b2159&limit=1\n"
     ]
    },
    {
     "name": "stdout",
     "output_type": "stream",
     "text": [
      "Trying for M9A\n"
     ]
    },
    {
     "name": "stderr",
     "output_type": "stream",
     "text": [
      "Status code 401 from http://api.opencagedata.com/geocode/v1/json: ERROR - 401 Client Error: Unauthorized for url: http://api.opencagedata.com/geocode/v1/json?query=M9A%2C+Toronto%2C+Ontario&key=13aa077d21ae42f287ec8607e07b2159&limit=1\n"
     ]
    },
    {
     "name": "stdout",
     "output_type": "stream",
     "text": [
      "Trying for M9A\n"
     ]
    },
    {
     "name": "stderr",
     "output_type": "stream",
     "text": [
      "Status code 401 from http://api.opencagedata.com/geocode/v1/json: ERROR - 401 Client Error: Unauthorized for url: http://api.opencagedata.com/geocode/v1/json?query=M9A%2C+Toronto%2C+Ontario&key=13aa077d21ae42f287ec8607e07b2159&limit=1\n"
     ]
    },
    {
     "name": "stdout",
     "output_type": "stream",
     "text": [
      "Trying for M9A\n"
     ]
    },
    {
     "name": "stderr",
     "output_type": "stream",
     "text": [
      "Status code 401 from http://api.opencagedata.com/geocode/v1/json: ERROR - 401 Client Error: Unauthorized for url: http://api.opencagedata.com/geocode/v1/json?query=M9A%2C+Toronto%2C+Ontario&key=13aa077d21ae42f287ec8607e07b2159&limit=1\n"
     ]
    },
    {
     "name": "stdout",
     "output_type": "stream",
     "text": [
      "Trying for M9A\n"
     ]
    },
    {
     "name": "stderr",
     "output_type": "stream",
     "text": [
      "Status code 401 from http://api.opencagedata.com/geocode/v1/json: ERROR - 401 Client Error: Unauthorized for url: http://api.opencagedata.com/geocode/v1/json?query=M9A%2C+Toronto%2C+Ontario&key=13aa077d21ae42f287ec8607e07b2159&limit=1\n"
     ]
    },
    {
     "name": "stdout",
     "output_type": "stream",
     "text": [
      "Trying for M9A\n"
     ]
    },
    {
     "name": "stderr",
     "output_type": "stream",
     "text": [
      "Status code 401 from http://api.opencagedata.com/geocode/v1/json: ERROR - 401 Client Error: Unauthorized for url: http://api.opencagedata.com/geocode/v1/json?query=M9A%2C+Toronto%2C+Ontario&key=13aa077d21ae42f287ec8607e07b2159&limit=1\n"
     ]
    },
    {
     "name": "stdout",
     "output_type": "stream",
     "text": [
      "Trying for M9A\n"
     ]
    },
    {
     "name": "stderr",
     "output_type": "stream",
     "text": [
      "Status code 401 from http://api.opencagedata.com/geocode/v1/json: ERROR - 401 Client Error: Unauthorized for url: http://api.opencagedata.com/geocode/v1/json?query=M9A%2C+Toronto%2C+Ontario&key=13aa077d21ae42f287ec8607e07b2159&limit=1\n"
     ]
    },
    {
     "name": "stdout",
     "output_type": "stream",
     "text": [
      "Trying for M9A\n"
     ]
    },
    {
     "name": "stderr",
     "output_type": "stream",
     "text": [
      "Status code 401 from http://api.opencagedata.com/geocode/v1/json: ERROR - 401 Client Error: Unauthorized for url: http://api.opencagedata.com/geocode/v1/json?query=M9A%2C+Toronto%2C+Ontario&key=13aa077d21ae42f287ec8607e07b2159&limit=1\n"
     ]
    },
    {
     "name": "stdout",
     "output_type": "stream",
     "text": [
      "Trying for M9A\n"
     ]
    },
    {
     "name": "stderr",
     "output_type": "stream",
     "text": [
      "Status code 401 from http://api.opencagedata.com/geocode/v1/json: ERROR - 401 Client Error: Unauthorized for url: http://api.opencagedata.com/geocode/v1/json?query=M9A%2C+Toronto%2C+Ontario&key=13aa077d21ae42f287ec8607e07b2159&limit=1\n"
     ]
    },
    {
     "name": "stdout",
     "output_type": "stream",
     "text": [
      "Trying for M9A\n"
     ]
    },
    {
     "name": "stderr",
     "output_type": "stream",
     "text": [
      "Status code 401 from http://api.opencagedata.com/geocode/v1/json: ERROR - 401 Client Error: Unauthorized for url: http://api.opencagedata.com/geocode/v1/json?query=M9A%2C+Toronto%2C+Ontario&key=13aa077d21ae42f287ec8607e07b2159&limit=1\n"
     ]
    },
    {
     "name": "stdout",
     "output_type": "stream",
     "text": [
      "Trying for M9A\n"
     ]
    },
    {
     "name": "stderr",
     "output_type": "stream",
     "text": [
      "Status code 401 from http://api.opencagedata.com/geocode/v1/json: ERROR - 401 Client Error: Unauthorized for url: http://api.opencagedata.com/geocode/v1/json?query=M9A%2C+Toronto%2C+Ontario&key=13aa077d21ae42f287ec8607e07b2159&limit=1\n"
     ]
    },
    {
     "name": "stdout",
     "output_type": "stream",
     "text": [
      "Trying for M9A\n",
      "M9A, done\n",
      "M1B, Toronto, Ontario\n",
      "Trying for M1B\n"
     ]
    },
    {
     "name": "stderr",
     "output_type": "stream",
     "text": [
      "Status code 401 from http://api.opencagedata.com/geocode/v1/json: ERROR - 401 Client Error: Unauthorized for url: http://api.opencagedata.com/geocode/v1/json?query=M1B%2C+Toronto%2C+Ontario&key=13aa077d21ae42f287ec8607e07b2159&limit=1\n"
     ]
    },
    {
     "name": "stdout",
     "output_type": "stream",
     "text": [
      "Trying for M1B\n"
     ]
    },
    {
     "name": "stderr",
     "output_type": "stream",
     "text": [
      "Status code 401 from http://api.opencagedata.com/geocode/v1/json: ERROR - 401 Client Error: Unauthorized for url: http://api.opencagedata.com/geocode/v1/json?query=M1B%2C+Toronto%2C+Ontario&key=13aa077d21ae42f287ec8607e07b2159&limit=1\n"
     ]
    },
    {
     "name": "stdout",
     "output_type": "stream",
     "text": [
      "Trying for M1B\n"
     ]
    },
    {
     "name": "stderr",
     "output_type": "stream",
     "text": [
      "Status code 401 from http://api.opencagedata.com/geocode/v1/json: ERROR - 401 Client Error: Unauthorized for url: http://api.opencagedata.com/geocode/v1/json?query=M1B%2C+Toronto%2C+Ontario&key=13aa077d21ae42f287ec8607e07b2159&limit=1\n"
     ]
    },
    {
     "name": "stdout",
     "output_type": "stream",
     "text": [
      "Trying for M1B\n"
     ]
    },
    {
     "name": "stderr",
     "output_type": "stream",
     "text": [
      "Status code 401 from http://api.opencagedata.com/geocode/v1/json: ERROR - 401 Client Error: Unauthorized for url: http://api.opencagedata.com/geocode/v1/json?query=M1B%2C+Toronto%2C+Ontario&key=13aa077d21ae42f287ec8607e07b2159&limit=1\n"
     ]
    },
    {
     "name": "stdout",
     "output_type": "stream",
     "text": [
      "Trying for M1B\n"
     ]
    },
    {
     "name": "stderr",
     "output_type": "stream",
     "text": [
      "Status code 401 from http://api.opencagedata.com/geocode/v1/json: ERROR - 401 Client Error: Unauthorized for url: http://api.opencagedata.com/geocode/v1/json?query=M1B%2C+Toronto%2C+Ontario&key=13aa077d21ae42f287ec8607e07b2159&limit=1\n"
     ]
    },
    {
     "name": "stdout",
     "output_type": "stream",
     "text": [
      "Trying for M1B\n"
     ]
    },
    {
     "name": "stderr",
     "output_type": "stream",
     "text": [
      "Status code 401 from http://api.opencagedata.com/geocode/v1/json: ERROR - 401 Client Error: Unauthorized for url: http://api.opencagedata.com/geocode/v1/json?query=M1B%2C+Toronto%2C+Ontario&key=13aa077d21ae42f287ec8607e07b2159&limit=1\n"
     ]
    },
    {
     "name": "stdout",
     "output_type": "stream",
     "text": [
      "Trying for M1B\n"
     ]
    },
    {
     "name": "stderr",
     "output_type": "stream",
     "text": [
      "Status code 401 from http://api.opencagedata.com/geocode/v1/json: ERROR - 401 Client Error: Unauthorized for url: http://api.opencagedata.com/geocode/v1/json?query=M1B%2C+Toronto%2C+Ontario&key=13aa077d21ae42f287ec8607e07b2159&limit=1\n"
     ]
    },
    {
     "name": "stdout",
     "output_type": "stream",
     "text": [
      "Trying for M1B\n"
     ]
    },
    {
     "name": "stderr",
     "output_type": "stream",
     "text": [
      "Status code 401 from http://api.opencagedata.com/geocode/v1/json: ERROR - 401 Client Error: Unauthorized for url: http://api.opencagedata.com/geocode/v1/json?query=M1B%2C+Toronto%2C+Ontario&key=13aa077d21ae42f287ec8607e07b2159&limit=1\n"
     ]
    },
    {
     "name": "stdout",
     "output_type": "stream",
     "text": [
      "Trying for M1B\n"
     ]
    },
    {
     "name": "stderr",
     "output_type": "stream",
     "text": [
      "Status code 401 from http://api.opencagedata.com/geocode/v1/json: ERROR - 401 Client Error: Unauthorized for url: http://api.opencagedata.com/geocode/v1/json?query=M1B%2C+Toronto%2C+Ontario&key=13aa077d21ae42f287ec8607e07b2159&limit=1\n"
     ]
    },
    {
     "name": "stdout",
     "output_type": "stream",
     "text": [
      "Trying for M1B\n"
     ]
    },
    {
     "name": "stderr",
     "output_type": "stream",
     "text": [
      "Status code 401 from http://api.opencagedata.com/geocode/v1/json: ERROR - 401 Client Error: Unauthorized for url: http://api.opencagedata.com/geocode/v1/json?query=M1B%2C+Toronto%2C+Ontario&key=13aa077d21ae42f287ec8607e07b2159&limit=1\n"
     ]
    },
    {
     "name": "stdout",
     "output_type": "stream",
     "text": [
      "Trying for M1B\n"
     ]
    },
    {
     "name": "stderr",
     "output_type": "stream",
     "text": [
      "Status code 401 from http://api.opencagedata.com/geocode/v1/json: ERROR - 401 Client Error: Unauthorized for url: http://api.opencagedata.com/geocode/v1/json?query=M1B%2C+Toronto%2C+Ontario&key=13aa077d21ae42f287ec8607e07b2159&limit=1\n"
     ]
    },
    {
     "name": "stdout",
     "output_type": "stream",
     "text": [
      "Trying for M1B\n"
     ]
    },
    {
     "name": "stderr",
     "output_type": "stream",
     "text": [
      "Status code 401 from http://api.opencagedata.com/geocode/v1/json: ERROR - 401 Client Error: Unauthorized for url: http://api.opencagedata.com/geocode/v1/json?query=M1B%2C+Toronto%2C+Ontario&key=13aa077d21ae42f287ec8607e07b2159&limit=1\n"
     ]
    },
    {
     "name": "stdout",
     "output_type": "stream",
     "text": [
      "Trying for M1B\n"
     ]
    },
    {
     "name": "stderr",
     "output_type": "stream",
     "text": [
      "Status code 401 from http://api.opencagedata.com/geocode/v1/json: ERROR - 401 Client Error: Unauthorized for url: http://api.opencagedata.com/geocode/v1/json?query=M1B%2C+Toronto%2C+Ontario&key=13aa077d21ae42f287ec8607e07b2159&limit=1\n"
     ]
    },
    {
     "name": "stdout",
     "output_type": "stream",
     "text": [
      "Trying for M1B\n"
     ]
    },
    {
     "name": "stderr",
     "output_type": "stream",
     "text": [
      "Status code 401 from http://api.opencagedata.com/geocode/v1/json: ERROR - 401 Client Error: Unauthorized for url: http://api.opencagedata.com/geocode/v1/json?query=M1B%2C+Toronto%2C+Ontario&key=13aa077d21ae42f287ec8607e07b2159&limit=1\n"
     ]
    },
    {
     "name": "stdout",
     "output_type": "stream",
     "text": [
      "Trying for M1B\n"
     ]
    },
    {
     "name": "stderr",
     "output_type": "stream",
     "text": [
      "Status code 401 from http://api.opencagedata.com/geocode/v1/json: ERROR - 401 Client Error: Unauthorized for url: http://api.opencagedata.com/geocode/v1/json?query=M1B%2C+Toronto%2C+Ontario&key=13aa077d21ae42f287ec8607e07b2159&limit=1\n"
     ]
    },
    {
     "name": "stdout",
     "output_type": "stream",
     "text": [
      "Trying for M1B\n"
     ]
    },
    {
     "name": "stderr",
     "output_type": "stream",
     "text": [
      "Status code 401 from http://api.opencagedata.com/geocode/v1/json: ERROR - 401 Client Error: Unauthorized for url: http://api.opencagedata.com/geocode/v1/json?query=M1B%2C+Toronto%2C+Ontario&key=13aa077d21ae42f287ec8607e07b2159&limit=1\n"
     ]
    },
    {
     "name": "stdout",
     "output_type": "stream",
     "text": [
      "Trying for M1B\n"
     ]
    },
    {
     "name": "stderr",
     "output_type": "stream",
     "text": [
      "Status code 401 from http://api.opencagedata.com/geocode/v1/json: ERROR - 401 Client Error: Unauthorized for url: http://api.opencagedata.com/geocode/v1/json?query=M1B%2C+Toronto%2C+Ontario&key=13aa077d21ae42f287ec8607e07b2159&limit=1\n"
     ]
    },
    {
     "name": "stdout",
     "output_type": "stream",
     "text": [
      "Trying for M1B\n"
     ]
    },
    {
     "name": "stderr",
     "output_type": "stream",
     "text": [
      "Status code 401 from http://api.opencagedata.com/geocode/v1/json: ERROR - 401 Client Error: Unauthorized for url: http://api.opencagedata.com/geocode/v1/json?query=M1B%2C+Toronto%2C+Ontario&key=13aa077d21ae42f287ec8607e07b2159&limit=1\n"
     ]
    },
    {
     "name": "stdout",
     "output_type": "stream",
     "text": [
      "Trying for M1B\n"
     ]
    },
    {
     "name": "stderr",
     "output_type": "stream",
     "text": [
      "Status code 401 from http://api.opencagedata.com/geocode/v1/json: ERROR - 401 Client Error: Unauthorized for url: http://api.opencagedata.com/geocode/v1/json?query=M1B%2C+Toronto%2C+Ontario&key=13aa077d21ae42f287ec8607e07b2159&limit=1\n"
     ]
    },
    {
     "name": "stdout",
     "output_type": "stream",
     "text": [
      "Trying for M1B\n"
     ]
    },
    {
     "name": "stderr",
     "output_type": "stream",
     "text": [
      "Status code 401 from http://api.opencagedata.com/geocode/v1/json: ERROR - 401 Client Error: Unauthorized for url: http://api.opencagedata.com/geocode/v1/json?query=M1B%2C+Toronto%2C+Ontario&key=13aa077d21ae42f287ec8607e07b2159&limit=1\n"
     ]
    },
    {
     "name": "stdout",
     "output_type": "stream",
     "text": [
      "Trying for M1B\n"
     ]
    },
    {
     "name": "stderr",
     "output_type": "stream",
     "text": [
      "Status code 401 from http://api.opencagedata.com/geocode/v1/json: ERROR - 401 Client Error: Unauthorized for url: http://api.opencagedata.com/geocode/v1/json?query=M1B%2C+Toronto%2C+Ontario&key=13aa077d21ae42f287ec8607e07b2159&limit=1\n"
     ]
    },
    {
     "name": "stdout",
     "output_type": "stream",
     "text": [
      "Trying for M1B\n"
     ]
    },
    {
     "name": "stderr",
     "output_type": "stream",
     "text": [
      "Status code 401 from http://api.opencagedata.com/geocode/v1/json: ERROR - 401 Client Error: Unauthorized for url: http://api.opencagedata.com/geocode/v1/json?query=M1B%2C+Toronto%2C+Ontario&key=13aa077d21ae42f287ec8607e07b2159&limit=1\n"
     ]
    },
    {
     "name": "stdout",
     "output_type": "stream",
     "text": [
      "Trying for M1B\n"
     ]
    },
    {
     "name": "stderr",
     "output_type": "stream",
     "text": [
      "Status code 401 from http://api.opencagedata.com/geocode/v1/json: ERROR - 401 Client Error: Unauthorized for url: http://api.opencagedata.com/geocode/v1/json?query=M1B%2C+Toronto%2C+Ontario&key=13aa077d21ae42f287ec8607e07b2159&limit=1\n"
     ]
    },
    {
     "name": "stdout",
     "output_type": "stream",
     "text": [
      "Trying for M1B\n"
     ]
    },
    {
     "name": "stderr",
     "output_type": "stream",
     "text": [
      "Status code 401 from http://api.opencagedata.com/geocode/v1/json: ERROR - 401 Client Error: Unauthorized for url: http://api.opencagedata.com/geocode/v1/json?query=M1B%2C+Toronto%2C+Ontario&key=13aa077d21ae42f287ec8607e07b2159&limit=1\n"
     ]
    },
    {
     "name": "stdout",
     "output_type": "stream",
     "text": [
      "Trying for M1B\n"
     ]
    },
    {
     "name": "stderr",
     "output_type": "stream",
     "text": [
      "Status code 401 from http://api.opencagedata.com/geocode/v1/json: ERROR - 401 Client Error: Unauthorized for url: http://api.opencagedata.com/geocode/v1/json?query=M1B%2C+Toronto%2C+Ontario&key=13aa077d21ae42f287ec8607e07b2159&limit=1\n"
     ]
    },
    {
     "name": "stdout",
     "output_type": "stream",
     "text": [
      "Trying for M1B\n"
     ]
    },
    {
     "name": "stderr",
     "output_type": "stream",
     "text": [
      "Status code 401 from http://api.opencagedata.com/geocode/v1/json: ERROR - 401 Client Error: Unauthorized for url: http://api.opencagedata.com/geocode/v1/json?query=M1B%2C+Toronto%2C+Ontario&key=13aa077d21ae42f287ec8607e07b2159&limit=1\n"
     ]
    },
    {
     "name": "stdout",
     "output_type": "stream",
     "text": [
      "Trying for M1B\n"
     ]
    },
    {
     "name": "stderr",
     "output_type": "stream",
     "text": [
      "Status code 401 from http://api.opencagedata.com/geocode/v1/json: ERROR - 401 Client Error: Unauthorized for url: http://api.opencagedata.com/geocode/v1/json?query=M1B%2C+Toronto%2C+Ontario&key=13aa077d21ae42f287ec8607e07b2159&limit=1\n"
     ]
    },
    {
     "name": "stdout",
     "output_type": "stream",
     "text": [
      "Trying for M1B\n"
     ]
    },
    {
     "name": "stderr",
     "output_type": "stream",
     "text": [
      "Status code 401 from http://api.opencagedata.com/geocode/v1/json: ERROR - 401 Client Error: Unauthorized for url: http://api.opencagedata.com/geocode/v1/json?query=M1B%2C+Toronto%2C+Ontario&key=13aa077d21ae42f287ec8607e07b2159&limit=1\n"
     ]
    },
    {
     "name": "stdout",
     "output_type": "stream",
     "text": [
      "Trying for M1B\n"
     ]
    },
    {
     "name": "stderr",
     "output_type": "stream",
     "text": [
      "Status code 401 from http://api.opencagedata.com/geocode/v1/json: ERROR - 401 Client Error: Unauthorized for url: http://api.opencagedata.com/geocode/v1/json?query=M1B%2C+Toronto%2C+Ontario&key=13aa077d21ae42f287ec8607e07b2159&limit=1\n"
     ]
    },
    {
     "name": "stdout",
     "output_type": "stream",
     "text": [
      "Trying for M1B\n"
     ]
    },
    {
     "name": "stderr",
     "output_type": "stream",
     "text": [
      "Status code 401 from http://api.opencagedata.com/geocode/v1/json: ERROR - 401 Client Error: Unauthorized for url: http://api.opencagedata.com/geocode/v1/json?query=M1B%2C+Toronto%2C+Ontario&key=13aa077d21ae42f287ec8607e07b2159&limit=1\n"
     ]
    },
    {
     "name": "stdout",
     "output_type": "stream",
     "text": [
      "Trying for M1B\n"
     ]
    },
    {
     "name": "stderr",
     "output_type": "stream",
     "text": [
      "Status code 401 from http://api.opencagedata.com/geocode/v1/json: ERROR - 401 Client Error: Unauthorized for url: http://api.opencagedata.com/geocode/v1/json?query=M1B%2C+Toronto%2C+Ontario&key=13aa077d21ae42f287ec8607e07b2159&limit=1\n"
     ]
    },
    {
     "name": "stdout",
     "output_type": "stream",
     "text": [
      "Trying for M1B\n"
     ]
    },
    {
     "name": "stderr",
     "output_type": "stream",
     "text": [
      "Status code 401 from http://api.opencagedata.com/geocode/v1/json: ERROR - 401 Client Error: Unauthorized for url: http://api.opencagedata.com/geocode/v1/json?query=M1B%2C+Toronto%2C+Ontario&key=13aa077d21ae42f287ec8607e07b2159&limit=1\n"
     ]
    },
    {
     "name": "stdout",
     "output_type": "stream",
     "text": [
      "Trying for M1B\n"
     ]
    },
    {
     "name": "stderr",
     "output_type": "stream",
     "text": [
      "Status code 401 from http://api.opencagedata.com/geocode/v1/json: ERROR - 401 Client Error: Unauthorized for url: http://api.opencagedata.com/geocode/v1/json?query=M1B%2C+Toronto%2C+Ontario&key=13aa077d21ae42f287ec8607e07b2159&limit=1\n"
     ]
    },
    {
     "name": "stdout",
     "output_type": "stream",
     "text": [
      "Trying for M1B\n"
     ]
    },
    {
     "name": "stderr",
     "output_type": "stream",
     "text": [
      "Status code 401 from http://api.opencagedata.com/geocode/v1/json: ERROR - 401 Client Error: Unauthorized for url: http://api.opencagedata.com/geocode/v1/json?query=M1B%2C+Toronto%2C+Ontario&key=13aa077d21ae42f287ec8607e07b2159&limit=1\n"
     ]
    },
    {
     "name": "stdout",
     "output_type": "stream",
     "text": [
      "Trying for M1B\n"
     ]
    },
    {
     "name": "stderr",
     "output_type": "stream",
     "text": [
      "Status code 401 from http://api.opencagedata.com/geocode/v1/json: ERROR - 401 Client Error: Unauthorized for url: http://api.opencagedata.com/geocode/v1/json?query=M1B%2C+Toronto%2C+Ontario&key=13aa077d21ae42f287ec8607e07b2159&limit=1\n"
     ]
    },
    {
     "name": "stdout",
     "output_type": "stream",
     "text": [
      "Trying for M1B\n"
     ]
    },
    {
     "name": "stderr",
     "output_type": "stream",
     "text": [
      "Status code 401 from http://api.opencagedata.com/geocode/v1/json: ERROR - 401 Client Error: Unauthorized for url: http://api.opencagedata.com/geocode/v1/json?query=M1B%2C+Toronto%2C+Ontario&key=13aa077d21ae42f287ec8607e07b2159&limit=1\n"
     ]
    },
    {
     "name": "stdout",
     "output_type": "stream",
     "text": [
      "Trying for M1B\n"
     ]
    },
    {
     "name": "stderr",
     "output_type": "stream",
     "text": [
      "Status code 401 from http://api.opencagedata.com/geocode/v1/json: ERROR - 401 Client Error: Unauthorized for url: http://api.opencagedata.com/geocode/v1/json?query=M1B%2C+Toronto%2C+Ontario&key=13aa077d21ae42f287ec8607e07b2159&limit=1\n"
     ]
    },
    {
     "name": "stdout",
     "output_type": "stream",
     "text": [
      "Trying for M1B\n"
     ]
    },
    {
     "name": "stderr",
     "output_type": "stream",
     "text": [
      "Status code 401 from http://api.opencagedata.com/geocode/v1/json: ERROR - 401 Client Error: Unauthorized for url: http://api.opencagedata.com/geocode/v1/json?query=M1B%2C+Toronto%2C+Ontario&key=13aa077d21ae42f287ec8607e07b2159&limit=1\n"
     ]
    },
    {
     "name": "stdout",
     "output_type": "stream",
     "text": [
      "Trying for M1B\n"
     ]
    },
    {
     "name": "stderr",
     "output_type": "stream",
     "text": [
      "Status code 401 from http://api.opencagedata.com/geocode/v1/json: ERROR - 401 Client Error: Unauthorized for url: http://api.opencagedata.com/geocode/v1/json?query=M1B%2C+Toronto%2C+Ontario&key=13aa077d21ae42f287ec8607e07b2159&limit=1\n"
     ]
    },
    {
     "name": "stdout",
     "output_type": "stream",
     "text": [
      "Trying for M1B\n"
     ]
    },
    {
     "name": "stderr",
     "output_type": "stream",
     "text": [
      "Status code 401 from http://api.opencagedata.com/geocode/v1/json: ERROR - 401 Client Error: Unauthorized for url: http://api.opencagedata.com/geocode/v1/json?query=M1B%2C+Toronto%2C+Ontario&key=13aa077d21ae42f287ec8607e07b2159&limit=1\n"
     ]
    },
    {
     "name": "stdout",
     "output_type": "stream",
     "text": [
      "Trying for M1B\n"
     ]
    },
    {
     "name": "stderr",
     "output_type": "stream",
     "text": [
      "Status code 401 from http://api.opencagedata.com/geocode/v1/json: ERROR - 401 Client Error: Unauthorized for url: http://api.opencagedata.com/geocode/v1/json?query=M1B%2C+Toronto%2C+Ontario&key=13aa077d21ae42f287ec8607e07b2159&limit=1\n"
     ]
    },
    {
     "name": "stdout",
     "output_type": "stream",
     "text": [
      "Trying for M1B\n"
     ]
    },
    {
     "name": "stderr",
     "output_type": "stream",
     "text": [
      "Status code 401 from http://api.opencagedata.com/geocode/v1/json: ERROR - 401 Client Error: Unauthorized for url: http://api.opencagedata.com/geocode/v1/json?query=M1B%2C+Toronto%2C+Ontario&key=13aa077d21ae42f287ec8607e07b2159&limit=1\n"
     ]
    },
    {
     "name": "stdout",
     "output_type": "stream",
     "text": [
      "Trying for M1B\n"
     ]
    },
    {
     "name": "stderr",
     "output_type": "stream",
     "text": [
      "Status code 401 from http://api.opencagedata.com/geocode/v1/json: ERROR - 401 Client Error: Unauthorized for url: http://api.opencagedata.com/geocode/v1/json?query=M1B%2C+Toronto%2C+Ontario&key=13aa077d21ae42f287ec8607e07b2159&limit=1\n"
     ]
    },
    {
     "name": "stdout",
     "output_type": "stream",
     "text": [
      "Trying for M1B\n"
     ]
    },
    {
     "name": "stderr",
     "output_type": "stream",
     "text": [
      "Status code 401 from http://api.opencagedata.com/geocode/v1/json: ERROR - 401 Client Error: Unauthorized for url: http://api.opencagedata.com/geocode/v1/json?query=M1B%2C+Toronto%2C+Ontario&key=13aa077d21ae42f287ec8607e07b2159&limit=1\n"
     ]
    },
    {
     "name": "stdout",
     "output_type": "stream",
     "text": [
      "Trying for M1B\n"
     ]
    },
    {
     "name": "stderr",
     "output_type": "stream",
     "text": [
      "Status code 401 from http://api.opencagedata.com/geocode/v1/json: ERROR - 401 Client Error: Unauthorized for url: http://api.opencagedata.com/geocode/v1/json?query=M1B%2C+Toronto%2C+Ontario&key=13aa077d21ae42f287ec8607e07b2159&limit=1\n"
     ]
    },
    {
     "name": "stdout",
     "output_type": "stream",
     "text": [
      "Trying for M1B\n"
     ]
    },
    {
     "name": "stderr",
     "output_type": "stream",
     "text": [
      "Status code 401 from http://api.opencagedata.com/geocode/v1/json: ERROR - 401 Client Error: Unauthorized for url: http://api.opencagedata.com/geocode/v1/json?query=M1B%2C+Toronto%2C+Ontario&key=13aa077d21ae42f287ec8607e07b2159&limit=1\n"
     ]
    },
    {
     "name": "stdout",
     "output_type": "stream",
     "text": [
      "Trying for M1B\n"
     ]
    },
    {
     "name": "stderr",
     "output_type": "stream",
     "text": [
      "Status code 401 from http://api.opencagedata.com/geocode/v1/json: ERROR - 401 Client Error: Unauthorized for url: http://api.opencagedata.com/geocode/v1/json?query=M1B%2C+Toronto%2C+Ontario&key=13aa077d21ae42f287ec8607e07b2159&limit=1\n"
     ]
    },
    {
     "name": "stdout",
     "output_type": "stream",
     "text": [
      "Trying for M1B\n"
     ]
    },
    {
     "name": "stderr",
     "output_type": "stream",
     "text": [
      "Status code 401 from http://api.opencagedata.com/geocode/v1/json: ERROR - 401 Client Error: Unauthorized for url: http://api.opencagedata.com/geocode/v1/json?query=M1B%2C+Toronto%2C+Ontario&key=13aa077d21ae42f287ec8607e07b2159&limit=1\n"
     ]
    },
    {
     "name": "stdout",
     "output_type": "stream",
     "text": [
      "Trying for M1B\n"
     ]
    },
    {
     "name": "stderr",
     "output_type": "stream",
     "text": [
      "Status code 401 from http://api.opencagedata.com/geocode/v1/json: ERROR - 401 Client Error: Unauthorized for url: http://api.opencagedata.com/geocode/v1/json?query=M1B%2C+Toronto%2C+Ontario&key=13aa077d21ae42f287ec8607e07b2159&limit=1\n"
     ]
    },
    {
     "name": "stdout",
     "output_type": "stream",
     "text": [
      "Trying for M1B\n"
     ]
    },
    {
     "name": "stderr",
     "output_type": "stream",
     "text": [
      "Status code 401 from http://api.opencagedata.com/geocode/v1/json: ERROR - 401 Client Error: Unauthorized for url: http://api.opencagedata.com/geocode/v1/json?query=M1B%2C+Toronto%2C+Ontario&key=13aa077d21ae42f287ec8607e07b2159&limit=1\n"
     ]
    },
    {
     "name": "stdout",
     "output_type": "stream",
     "text": [
      "Trying for M1B\n"
     ]
    },
    {
     "name": "stderr",
     "output_type": "stream",
     "text": [
      "Status code 401 from http://api.opencagedata.com/geocode/v1/json: ERROR - 401 Client Error: Unauthorized for url: http://api.opencagedata.com/geocode/v1/json?query=M1B%2C+Toronto%2C+Ontario&key=13aa077d21ae42f287ec8607e07b2159&limit=1\n"
     ]
    },
    {
     "name": "stdout",
     "output_type": "stream",
     "text": [
      "Trying for M1B\n"
     ]
    },
    {
     "name": "stderr",
     "output_type": "stream",
     "text": [
      "Status code 401 from http://api.opencagedata.com/geocode/v1/json: ERROR - 401 Client Error: Unauthorized for url: http://api.opencagedata.com/geocode/v1/json?query=M1B%2C+Toronto%2C+Ontario&key=13aa077d21ae42f287ec8607e07b2159&limit=1\n"
     ]
    },
    {
     "name": "stdout",
     "output_type": "stream",
     "text": [
      "Trying for M1B\n"
     ]
    },
    {
     "name": "stderr",
     "output_type": "stream",
     "text": [
      "Status code 401 from http://api.opencagedata.com/geocode/v1/json: ERROR - 401 Client Error: Unauthorized for url: http://api.opencagedata.com/geocode/v1/json?query=M1B%2C+Toronto%2C+Ontario&key=13aa077d21ae42f287ec8607e07b2159&limit=1\n"
     ]
    },
    {
     "name": "stdout",
     "output_type": "stream",
     "text": [
      "Trying for M1B\n"
     ]
    },
    {
     "name": "stderr",
     "output_type": "stream",
     "text": [
      "Status code 401 from http://api.opencagedata.com/geocode/v1/json: ERROR - 401 Client Error: Unauthorized for url: http://api.opencagedata.com/geocode/v1/json?query=M1B%2C+Toronto%2C+Ontario&key=13aa077d21ae42f287ec8607e07b2159&limit=1\n"
     ]
    },
    {
     "name": "stdout",
     "output_type": "stream",
     "text": [
      "Trying for M1B\n"
     ]
    },
    {
     "name": "stderr",
     "output_type": "stream",
     "text": [
      "Status code 401 from http://api.opencagedata.com/geocode/v1/json: ERROR - 401 Client Error: Unauthorized for url: http://api.opencagedata.com/geocode/v1/json?query=M1B%2C+Toronto%2C+Ontario&key=13aa077d21ae42f287ec8607e07b2159&limit=1\n"
     ]
    },
    {
     "name": "stdout",
     "output_type": "stream",
     "text": [
      "Trying for M1B\n"
     ]
    },
    {
     "name": "stderr",
     "output_type": "stream",
     "text": [
      "Status code 401 from http://api.opencagedata.com/geocode/v1/json: ERROR - 401 Client Error: Unauthorized for url: http://api.opencagedata.com/geocode/v1/json?query=M1B%2C+Toronto%2C+Ontario&key=13aa077d21ae42f287ec8607e07b2159&limit=1\n"
     ]
    },
    {
     "name": "stdout",
     "output_type": "stream",
     "text": [
      "Trying for M1B\n"
     ]
    },
    {
     "name": "stderr",
     "output_type": "stream",
     "text": [
      "Status code 401 from http://api.opencagedata.com/geocode/v1/json: ERROR - 401 Client Error: Unauthorized for url: http://api.opencagedata.com/geocode/v1/json?query=M1B%2C+Toronto%2C+Ontario&key=13aa077d21ae42f287ec8607e07b2159&limit=1\n"
     ]
    },
    {
     "name": "stdout",
     "output_type": "stream",
     "text": [
      "Trying for M1B\n"
     ]
    },
    {
     "name": "stderr",
     "output_type": "stream",
     "text": [
      "Status code 401 from http://api.opencagedata.com/geocode/v1/json: ERROR - 401 Client Error: Unauthorized for url: http://api.opencagedata.com/geocode/v1/json?query=M1B%2C+Toronto%2C+Ontario&key=13aa077d21ae42f287ec8607e07b2159&limit=1\n"
     ]
    },
    {
     "name": "stdout",
     "output_type": "stream",
     "text": [
      "Trying for M1B\n"
     ]
    },
    {
     "name": "stderr",
     "output_type": "stream",
     "text": [
      "Status code 401 from http://api.opencagedata.com/geocode/v1/json: ERROR - 401 Client Error: Unauthorized for url: http://api.opencagedata.com/geocode/v1/json?query=M1B%2C+Toronto%2C+Ontario&key=13aa077d21ae42f287ec8607e07b2159&limit=1\n"
     ]
    },
    {
     "name": "stdout",
     "output_type": "stream",
     "text": [
      "Trying for M1B\n"
     ]
    },
    {
     "name": "stderr",
     "output_type": "stream",
     "text": [
      "Status code 401 from http://api.opencagedata.com/geocode/v1/json: ERROR - 401 Client Error: Unauthorized for url: http://api.opencagedata.com/geocode/v1/json?query=M1B%2C+Toronto%2C+Ontario&key=13aa077d21ae42f287ec8607e07b2159&limit=1\n"
     ]
    },
    {
     "name": "stdout",
     "output_type": "stream",
     "text": [
      "Trying for M1B\n"
     ]
    },
    {
     "name": "stderr",
     "output_type": "stream",
     "text": [
      "Status code 401 from http://api.opencagedata.com/geocode/v1/json: ERROR - 401 Client Error: Unauthorized for url: http://api.opencagedata.com/geocode/v1/json?query=M1B%2C+Toronto%2C+Ontario&key=13aa077d21ae42f287ec8607e07b2159&limit=1\n"
     ]
    },
    {
     "name": "stdout",
     "output_type": "stream",
     "text": [
      "Trying for M1B\n"
     ]
    },
    {
     "name": "stderr",
     "output_type": "stream",
     "text": [
      "Status code 401 from http://api.opencagedata.com/geocode/v1/json: ERROR - 401 Client Error: Unauthorized for url: http://api.opencagedata.com/geocode/v1/json?query=M1B%2C+Toronto%2C+Ontario&key=13aa077d21ae42f287ec8607e07b2159&limit=1\n"
     ]
    },
    {
     "name": "stdout",
     "output_type": "stream",
     "text": [
      "Trying for M1B\n"
     ]
    },
    {
     "name": "stderr",
     "output_type": "stream",
     "text": [
      "Status code 401 from http://api.opencagedata.com/geocode/v1/json: ERROR - 401 Client Error: Unauthorized for url: http://api.opencagedata.com/geocode/v1/json?query=M1B%2C+Toronto%2C+Ontario&key=13aa077d21ae42f287ec8607e07b2159&limit=1\n"
     ]
    },
    {
     "name": "stdout",
     "output_type": "stream",
     "text": [
      "Trying for M1B\n"
     ]
    },
    {
     "name": "stderr",
     "output_type": "stream",
     "text": [
      "Status code 401 from http://api.opencagedata.com/geocode/v1/json: ERROR - 401 Client Error: Unauthorized for url: http://api.opencagedata.com/geocode/v1/json?query=M1B%2C+Toronto%2C+Ontario&key=13aa077d21ae42f287ec8607e07b2159&limit=1\n"
     ]
    },
    {
     "name": "stdout",
     "output_type": "stream",
     "text": [
      "Trying for M1B\n"
     ]
    },
    {
     "name": "stderr",
     "output_type": "stream",
     "text": [
      "Status code 401 from http://api.opencagedata.com/geocode/v1/json: ERROR - 401 Client Error: Unauthorized for url: http://api.opencagedata.com/geocode/v1/json?query=M1B%2C+Toronto%2C+Ontario&key=13aa077d21ae42f287ec8607e07b2159&limit=1\n"
     ]
    },
    {
     "name": "stdout",
     "output_type": "stream",
     "text": [
      "Trying for M1B\n"
     ]
    },
    {
     "name": "stderr",
     "output_type": "stream",
     "text": [
      "Status code 401 from http://api.opencagedata.com/geocode/v1/json: ERROR - 401 Client Error: Unauthorized for url: http://api.opencagedata.com/geocode/v1/json?query=M1B%2C+Toronto%2C+Ontario&key=13aa077d21ae42f287ec8607e07b2159&limit=1\n"
     ]
    },
    {
     "name": "stdout",
     "output_type": "stream",
     "text": [
      "Trying for M1B\n"
     ]
    },
    {
     "name": "stderr",
     "output_type": "stream",
     "text": [
      "Status code 401 from http://api.opencagedata.com/geocode/v1/json: ERROR - 401 Client Error: Unauthorized for url: http://api.opencagedata.com/geocode/v1/json?query=M1B%2C+Toronto%2C+Ontario&key=13aa077d21ae42f287ec8607e07b2159&limit=1\n"
     ]
    },
    {
     "name": "stdout",
     "output_type": "stream",
     "text": [
      "Trying for M1B\n"
     ]
    },
    {
     "name": "stderr",
     "output_type": "stream",
     "text": [
      "Status code 401 from http://api.opencagedata.com/geocode/v1/json: ERROR - 401 Client Error: Unauthorized for url: http://api.opencagedata.com/geocode/v1/json?query=M1B%2C+Toronto%2C+Ontario&key=13aa077d21ae42f287ec8607e07b2159&limit=1\n"
     ]
    },
    {
     "name": "stdout",
     "output_type": "stream",
     "text": [
      "Trying for M1B\n"
     ]
    },
    {
     "name": "stderr",
     "output_type": "stream",
     "text": [
      "Status code 401 from http://api.opencagedata.com/geocode/v1/json: ERROR - 401 Client Error: Unauthorized for url: http://api.opencagedata.com/geocode/v1/json?query=M1B%2C+Toronto%2C+Ontario&key=13aa077d21ae42f287ec8607e07b2159&limit=1\n"
     ]
    },
    {
     "name": "stdout",
     "output_type": "stream",
     "text": [
      "Trying for M1B\n"
     ]
    },
    {
     "name": "stderr",
     "output_type": "stream",
     "text": [
      "Status code 401 from http://api.opencagedata.com/geocode/v1/json: ERROR - 401 Client Error: Unauthorized for url: http://api.opencagedata.com/geocode/v1/json?query=M1B%2C+Toronto%2C+Ontario&key=13aa077d21ae42f287ec8607e07b2159&limit=1\n"
     ]
    },
    {
     "name": "stdout",
     "output_type": "stream",
     "text": [
      "Trying for M1B\n"
     ]
    },
    {
     "name": "stderr",
     "output_type": "stream",
     "text": [
      "Status code 401 from http://api.opencagedata.com/geocode/v1/json: ERROR - 401 Client Error: Unauthorized for url: http://api.opencagedata.com/geocode/v1/json?query=M1B%2C+Toronto%2C+Ontario&key=13aa077d21ae42f287ec8607e07b2159&limit=1\n"
     ]
    },
    {
     "name": "stdout",
     "output_type": "stream",
     "text": [
      "Trying for M1B\n"
     ]
    },
    {
     "name": "stderr",
     "output_type": "stream",
     "text": [
      "Status code 401 from http://api.opencagedata.com/geocode/v1/json: ERROR - 401 Client Error: Unauthorized for url: http://api.opencagedata.com/geocode/v1/json?query=M1B%2C+Toronto%2C+Ontario&key=13aa077d21ae42f287ec8607e07b2159&limit=1\n"
     ]
    },
    {
     "name": "stdout",
     "output_type": "stream",
     "text": [
      "Trying for M1B\n"
     ]
    },
    {
     "name": "stderr",
     "output_type": "stream",
     "text": [
      "Status code 401 from http://api.opencagedata.com/geocode/v1/json: ERROR - 401 Client Error: Unauthorized for url: http://api.opencagedata.com/geocode/v1/json?query=M1B%2C+Toronto%2C+Ontario&key=13aa077d21ae42f287ec8607e07b2159&limit=1\n"
     ]
    },
    {
     "name": "stdout",
     "output_type": "stream",
     "text": [
      "Trying for M1B\n"
     ]
    },
    {
     "name": "stderr",
     "output_type": "stream",
     "text": [
      "Status code 401 from http://api.opencagedata.com/geocode/v1/json: ERROR - 401 Client Error: Unauthorized for url: http://api.opencagedata.com/geocode/v1/json?query=M1B%2C+Toronto%2C+Ontario&key=13aa077d21ae42f287ec8607e07b2159&limit=1\n"
     ]
    },
    {
     "name": "stdout",
     "output_type": "stream",
     "text": [
      "Trying for M1B\n"
     ]
    },
    {
     "name": "stderr",
     "output_type": "stream",
     "text": [
      "Status code 401 from http://api.opencagedata.com/geocode/v1/json: ERROR - 401 Client Error: Unauthorized for url: http://api.opencagedata.com/geocode/v1/json?query=M1B%2C+Toronto%2C+Ontario&key=13aa077d21ae42f287ec8607e07b2159&limit=1\n"
     ]
    },
    {
     "name": "stdout",
     "output_type": "stream",
     "text": [
      "Trying for M1B\n"
     ]
    },
    {
     "name": "stderr",
     "output_type": "stream",
     "text": [
      "Status code 401 from http://api.opencagedata.com/geocode/v1/json: ERROR - 401 Client Error: Unauthorized for url: http://api.opencagedata.com/geocode/v1/json?query=M1B%2C+Toronto%2C+Ontario&key=13aa077d21ae42f287ec8607e07b2159&limit=1\n"
     ]
    },
    {
     "name": "stdout",
     "output_type": "stream",
     "text": [
      "Trying for M1B\n"
     ]
    },
    {
     "name": "stderr",
     "output_type": "stream",
     "text": [
      "Status code 401 from http://api.opencagedata.com/geocode/v1/json: ERROR - 401 Client Error: Unauthorized for url: http://api.opencagedata.com/geocode/v1/json?query=M1B%2C+Toronto%2C+Ontario&key=13aa077d21ae42f287ec8607e07b2159&limit=1\n"
     ]
    },
    {
     "name": "stdout",
     "output_type": "stream",
     "text": [
      "Trying for M1B\n"
     ]
    },
    {
     "name": "stderr",
     "output_type": "stream",
     "text": [
      "Status code 401 from http://api.opencagedata.com/geocode/v1/json: ERROR - 401 Client Error: Unauthorized for url: http://api.opencagedata.com/geocode/v1/json?query=M1B%2C+Toronto%2C+Ontario&key=13aa077d21ae42f287ec8607e07b2159&limit=1\n"
     ]
    },
    {
     "name": "stdout",
     "output_type": "stream",
     "text": [
      "Trying for M1B\n"
     ]
    },
    {
     "name": "stderr",
     "output_type": "stream",
     "text": [
      "Status code 401 from http://api.opencagedata.com/geocode/v1/json: ERROR - 401 Client Error: Unauthorized for url: http://api.opencagedata.com/geocode/v1/json?query=M1B%2C+Toronto%2C+Ontario&key=13aa077d21ae42f287ec8607e07b2159&limit=1\n"
     ]
    },
    {
     "name": "stdout",
     "output_type": "stream",
     "text": [
      "Trying for M1B\n"
     ]
    },
    {
     "name": "stderr",
     "output_type": "stream",
     "text": [
      "Status code 401 from http://api.opencagedata.com/geocode/v1/json: ERROR - 401 Client Error: Unauthorized for url: http://api.opencagedata.com/geocode/v1/json?query=M1B%2C+Toronto%2C+Ontario&key=13aa077d21ae42f287ec8607e07b2159&limit=1\n"
     ]
    },
    {
     "name": "stdout",
     "output_type": "stream",
     "text": [
      "Trying for M1B\n"
     ]
    },
    {
     "name": "stderr",
     "output_type": "stream",
     "text": [
      "Status code 401 from http://api.opencagedata.com/geocode/v1/json: ERROR - 401 Client Error: Unauthorized for url: http://api.opencagedata.com/geocode/v1/json?query=M1B%2C+Toronto%2C+Ontario&key=13aa077d21ae42f287ec8607e07b2159&limit=1\n"
     ]
    },
    {
     "name": "stdout",
     "output_type": "stream",
     "text": [
      "Trying for M1B\n"
     ]
    },
    {
     "name": "stderr",
     "output_type": "stream",
     "text": [
      "Status code 401 from http://api.opencagedata.com/geocode/v1/json: ERROR - 401 Client Error: Unauthorized for url: http://api.opencagedata.com/geocode/v1/json?query=M1B%2C+Toronto%2C+Ontario&key=13aa077d21ae42f287ec8607e07b2159&limit=1\n"
     ]
    },
    {
     "name": "stdout",
     "output_type": "stream",
     "text": [
      "Trying for M1B\n"
     ]
    },
    {
     "name": "stderr",
     "output_type": "stream",
     "text": [
      "Status code 401 from http://api.opencagedata.com/geocode/v1/json: ERROR - 401 Client Error: Unauthorized for url: http://api.opencagedata.com/geocode/v1/json?query=M1B%2C+Toronto%2C+Ontario&key=13aa077d21ae42f287ec8607e07b2159&limit=1\n"
     ]
    },
    {
     "name": "stdout",
     "output_type": "stream",
     "text": [
      "Trying for M1B\n"
     ]
    },
    {
     "name": "stderr",
     "output_type": "stream",
     "text": [
      "Status code 401 from http://api.opencagedata.com/geocode/v1/json: ERROR - 401 Client Error: Unauthorized for url: http://api.opencagedata.com/geocode/v1/json?query=M1B%2C+Toronto%2C+Ontario&key=13aa077d21ae42f287ec8607e07b2159&limit=1\n"
     ]
    },
    {
     "name": "stdout",
     "output_type": "stream",
     "text": [
      "Trying for M1B\n"
     ]
    },
    {
     "name": "stderr",
     "output_type": "stream",
     "text": [
      "Status code 401 from http://api.opencagedata.com/geocode/v1/json: ERROR - 401 Client Error: Unauthorized for url: http://api.opencagedata.com/geocode/v1/json?query=M1B%2C+Toronto%2C+Ontario&key=13aa077d21ae42f287ec8607e07b2159&limit=1\n"
     ]
    },
    {
     "name": "stdout",
     "output_type": "stream",
     "text": [
      "Trying for M1B\n"
     ]
    },
    {
     "name": "stderr",
     "output_type": "stream",
     "text": [
      "Status code 401 from http://api.opencagedata.com/geocode/v1/json: ERROR - 401 Client Error: Unauthorized for url: http://api.opencagedata.com/geocode/v1/json?query=M1B%2C+Toronto%2C+Ontario&key=13aa077d21ae42f287ec8607e07b2159&limit=1\n"
     ]
    },
    {
     "name": "stdout",
     "output_type": "stream",
     "text": [
      "Trying for M1B\n"
     ]
    },
    {
     "name": "stderr",
     "output_type": "stream",
     "text": [
      "Status code 401 from http://api.opencagedata.com/geocode/v1/json: ERROR - 401 Client Error: Unauthorized for url: http://api.opencagedata.com/geocode/v1/json?query=M1B%2C+Toronto%2C+Ontario&key=13aa077d21ae42f287ec8607e07b2159&limit=1\n"
     ]
    },
    {
     "name": "stdout",
     "output_type": "stream",
     "text": [
      "Trying for M1B\n"
     ]
    },
    {
     "name": "stderr",
     "output_type": "stream",
     "text": [
      "Status code 401 from http://api.opencagedata.com/geocode/v1/json: ERROR - 401 Client Error: Unauthorized for url: http://api.opencagedata.com/geocode/v1/json?query=M1B%2C+Toronto%2C+Ontario&key=13aa077d21ae42f287ec8607e07b2159&limit=1\n"
     ]
    },
    {
     "name": "stdout",
     "output_type": "stream",
     "text": [
      "Trying for M1B\n"
     ]
    },
    {
     "name": "stderr",
     "output_type": "stream",
     "text": [
      "Status code 401 from http://api.opencagedata.com/geocode/v1/json: ERROR - 401 Client Error: Unauthorized for url: http://api.opencagedata.com/geocode/v1/json?query=M1B%2C+Toronto%2C+Ontario&key=13aa077d21ae42f287ec8607e07b2159&limit=1\n"
     ]
    },
    {
     "name": "stdout",
     "output_type": "stream",
     "text": [
      "Trying for M1B\n"
     ]
    },
    {
     "name": "stderr",
     "output_type": "stream",
     "text": [
      "Status code 401 from http://api.opencagedata.com/geocode/v1/json: ERROR - 401 Client Error: Unauthorized for url: http://api.opencagedata.com/geocode/v1/json?query=M1B%2C+Toronto%2C+Ontario&key=13aa077d21ae42f287ec8607e07b2159&limit=1\n"
     ]
    },
    {
     "name": "stdout",
     "output_type": "stream",
     "text": [
      "Trying for M1B\n"
     ]
    },
    {
     "name": "stderr",
     "output_type": "stream",
     "text": [
      "Status code 401 from http://api.opencagedata.com/geocode/v1/json: ERROR - 401 Client Error: Unauthorized for url: http://api.opencagedata.com/geocode/v1/json?query=M1B%2C+Toronto%2C+Ontario&key=13aa077d21ae42f287ec8607e07b2159&limit=1\n"
     ]
    },
    {
     "name": "stdout",
     "output_type": "stream",
     "text": [
      "Trying for M1B\n"
     ]
    },
    {
     "name": "stderr",
     "output_type": "stream",
     "text": [
      "Status code 401 from http://api.opencagedata.com/geocode/v1/json: ERROR - 401 Client Error: Unauthorized for url: http://api.opencagedata.com/geocode/v1/json?query=M1B%2C+Toronto%2C+Ontario&key=13aa077d21ae42f287ec8607e07b2159&limit=1\n"
     ]
    },
    {
     "name": "stdout",
     "output_type": "stream",
     "text": [
      "Trying for M1B\n"
     ]
    },
    {
     "name": "stderr",
     "output_type": "stream",
     "text": [
      "Status code 401 from http://api.opencagedata.com/geocode/v1/json: ERROR - 401 Client Error: Unauthorized for url: http://api.opencagedata.com/geocode/v1/json?query=M1B%2C+Toronto%2C+Ontario&key=13aa077d21ae42f287ec8607e07b2159&limit=1\n"
     ]
    },
    {
     "name": "stdout",
     "output_type": "stream",
     "text": [
      "Trying for M1B\n"
     ]
    },
    {
     "name": "stderr",
     "output_type": "stream",
     "text": [
      "Status code 401 from http://api.opencagedata.com/geocode/v1/json: ERROR - 401 Client Error: Unauthorized for url: http://api.opencagedata.com/geocode/v1/json?query=M1B%2C+Toronto%2C+Ontario&key=13aa077d21ae42f287ec8607e07b2159&limit=1\n"
     ]
    },
    {
     "name": "stdout",
     "output_type": "stream",
     "text": [
      "Trying for M1B\n"
     ]
    },
    {
     "name": "stderr",
     "output_type": "stream",
     "text": [
      "Status code 401 from http://api.opencagedata.com/geocode/v1/json: ERROR - 401 Client Error: Unauthorized for url: http://api.opencagedata.com/geocode/v1/json?query=M1B%2C+Toronto%2C+Ontario&key=13aa077d21ae42f287ec8607e07b2159&limit=1\n"
     ]
    },
    {
     "name": "stdout",
     "output_type": "stream",
     "text": [
      "Trying for M1B\n"
     ]
    },
    {
     "name": "stderr",
     "output_type": "stream",
     "text": [
      "Status code 401 from http://api.opencagedata.com/geocode/v1/json: ERROR - 401 Client Error: Unauthorized for url: http://api.opencagedata.com/geocode/v1/json?query=M1B%2C+Toronto%2C+Ontario&key=13aa077d21ae42f287ec8607e07b2159&limit=1\n"
     ]
    },
    {
     "name": "stdout",
     "output_type": "stream",
     "text": [
      "Trying for M1B\n"
     ]
    },
    {
     "name": "stderr",
     "output_type": "stream",
     "text": [
      "Status code 401 from http://api.opencagedata.com/geocode/v1/json: ERROR - 401 Client Error: Unauthorized for url: http://api.opencagedata.com/geocode/v1/json?query=M1B%2C+Toronto%2C+Ontario&key=13aa077d21ae42f287ec8607e07b2159&limit=1\n"
     ]
    },
    {
     "name": "stdout",
     "output_type": "stream",
     "text": [
      "Trying for M1B\n"
     ]
    },
    {
     "name": "stderr",
     "output_type": "stream",
     "text": [
      "Status code 401 from http://api.opencagedata.com/geocode/v1/json: ERROR - 401 Client Error: Unauthorized for url: http://api.opencagedata.com/geocode/v1/json?query=M1B%2C+Toronto%2C+Ontario&key=13aa077d21ae42f287ec8607e07b2159&limit=1\n"
     ]
    },
    {
     "name": "stdout",
     "output_type": "stream",
     "text": [
      "Trying for M1B\n"
     ]
    },
    {
     "name": "stderr",
     "output_type": "stream",
     "text": [
      "Status code 401 from http://api.opencagedata.com/geocode/v1/json: ERROR - 401 Client Error: Unauthorized for url: http://api.opencagedata.com/geocode/v1/json?query=M1B%2C+Toronto%2C+Ontario&key=13aa077d21ae42f287ec8607e07b2159&limit=1\n"
     ]
    },
    {
     "name": "stdout",
     "output_type": "stream",
     "text": [
      "Trying for M1B\n"
     ]
    },
    {
     "name": "stderr",
     "output_type": "stream",
     "text": [
      "Status code 401 from http://api.opencagedata.com/geocode/v1/json: ERROR - 401 Client Error: Unauthorized for url: http://api.opencagedata.com/geocode/v1/json?query=M1B%2C+Toronto%2C+Ontario&key=13aa077d21ae42f287ec8607e07b2159&limit=1\n"
     ]
    },
    {
     "name": "stdout",
     "output_type": "stream",
     "text": [
      "Trying for M1B\n"
     ]
    },
    {
     "name": "stderr",
     "output_type": "stream",
     "text": [
      "Status code 401 from http://api.opencagedata.com/geocode/v1/json: ERROR - 401 Client Error: Unauthorized for url: http://api.opencagedata.com/geocode/v1/json?query=M1B%2C+Toronto%2C+Ontario&key=13aa077d21ae42f287ec8607e07b2159&limit=1\n"
     ]
    },
    {
     "name": "stdout",
     "output_type": "stream",
     "text": [
      "Trying for M1B\n"
     ]
    },
    {
     "name": "stderr",
     "output_type": "stream",
     "text": [
      "Status code 401 from http://api.opencagedata.com/geocode/v1/json: ERROR - 401 Client Error: Unauthorized for url: http://api.opencagedata.com/geocode/v1/json?query=M1B%2C+Toronto%2C+Ontario&key=13aa077d21ae42f287ec8607e07b2159&limit=1\n"
     ]
    },
    {
     "name": "stdout",
     "output_type": "stream",
     "text": [
      "Trying for M1B\n"
     ]
    },
    {
     "name": "stderr",
     "output_type": "stream",
     "text": [
      "Status code 401 from http://api.opencagedata.com/geocode/v1/json: ERROR - 401 Client Error: Unauthorized for url: http://api.opencagedata.com/geocode/v1/json?query=M1B%2C+Toronto%2C+Ontario&key=13aa077d21ae42f287ec8607e07b2159&limit=1\n"
     ]
    },
    {
     "name": "stdout",
     "output_type": "stream",
     "text": [
      "Trying for M1B\n"
     ]
    },
    {
     "name": "stderr",
     "output_type": "stream",
     "text": [
      "Status code 401 from http://api.opencagedata.com/geocode/v1/json: ERROR - 401 Client Error: Unauthorized for url: http://api.opencagedata.com/geocode/v1/json?query=M1B%2C+Toronto%2C+Ontario&key=13aa077d21ae42f287ec8607e07b2159&limit=1\n"
     ]
    },
    {
     "name": "stdout",
     "output_type": "stream",
     "text": [
      "Trying for M1B\n"
     ]
    },
    {
     "name": "stderr",
     "output_type": "stream",
     "text": [
      "Status code 401 from http://api.opencagedata.com/geocode/v1/json: ERROR - 401 Client Error: Unauthorized for url: http://api.opencagedata.com/geocode/v1/json?query=M1B%2C+Toronto%2C+Ontario&key=13aa077d21ae42f287ec8607e07b2159&limit=1\n"
     ]
    },
    {
     "name": "stdout",
     "output_type": "stream",
     "text": [
      "Trying for M1B\n"
     ]
    },
    {
     "name": "stderr",
     "output_type": "stream",
     "text": [
      "Status code 401 from http://api.opencagedata.com/geocode/v1/json: ERROR - 401 Client Error: Unauthorized for url: http://api.opencagedata.com/geocode/v1/json?query=M1B%2C+Toronto%2C+Ontario&key=13aa077d21ae42f287ec8607e07b2159&limit=1\n"
     ]
    },
    {
     "name": "stdout",
     "output_type": "stream",
     "text": [
      "Trying for M1B\n"
     ]
    },
    {
     "name": "stderr",
     "output_type": "stream",
     "text": [
      "Status code 401 from http://api.opencagedata.com/geocode/v1/json: ERROR - 401 Client Error: Unauthorized for url: http://api.opencagedata.com/geocode/v1/json?query=M1B%2C+Toronto%2C+Ontario&key=13aa077d21ae42f287ec8607e07b2159&limit=1\n"
     ]
    },
    {
     "name": "stdout",
     "output_type": "stream",
     "text": [
      "Trying for M1B\n"
     ]
    },
    {
     "name": "stderr",
     "output_type": "stream",
     "text": [
      "Status code 401 from http://api.opencagedata.com/geocode/v1/json: ERROR - 401 Client Error: Unauthorized for url: http://api.opencagedata.com/geocode/v1/json?query=M1B%2C+Toronto%2C+Ontario&key=13aa077d21ae42f287ec8607e07b2159&limit=1\n"
     ]
    },
    {
     "name": "stdout",
     "output_type": "stream",
     "text": [
      "Trying for M1B\n"
     ]
    },
    {
     "name": "stderr",
     "output_type": "stream",
     "text": [
      "Status code 401 from http://api.opencagedata.com/geocode/v1/json: ERROR - 401 Client Error: Unauthorized for url: http://api.opencagedata.com/geocode/v1/json?query=M1B%2C+Toronto%2C+Ontario&key=13aa077d21ae42f287ec8607e07b2159&limit=1\n"
     ]
    },
    {
     "name": "stdout",
     "output_type": "stream",
     "text": [
      "Trying for M1B\n"
     ]
    },
    {
     "name": "stderr",
     "output_type": "stream",
     "text": [
      "Status code 401 from http://api.opencagedata.com/geocode/v1/json: ERROR - 401 Client Error: Unauthorized for url: http://api.opencagedata.com/geocode/v1/json?query=M1B%2C+Toronto%2C+Ontario&key=13aa077d21ae42f287ec8607e07b2159&limit=1\n"
     ]
    },
    {
     "name": "stdout",
     "output_type": "stream",
     "text": [
      "Trying for M1B\n"
     ]
    },
    {
     "name": "stderr",
     "output_type": "stream",
     "text": [
      "Status code 401 from http://api.opencagedata.com/geocode/v1/json: ERROR - 401 Client Error: Unauthorized for url: http://api.opencagedata.com/geocode/v1/json?query=M1B%2C+Toronto%2C+Ontario&key=13aa077d21ae42f287ec8607e07b2159&limit=1\n"
     ]
    },
    {
     "name": "stdout",
     "output_type": "stream",
     "text": [
      "Trying for M1B\n"
     ]
    },
    {
     "name": "stderr",
     "output_type": "stream",
     "text": [
      "Status code 401 from http://api.opencagedata.com/geocode/v1/json: ERROR - 401 Client Error: Unauthorized for url: http://api.opencagedata.com/geocode/v1/json?query=M1B%2C+Toronto%2C+Ontario&key=13aa077d21ae42f287ec8607e07b2159&limit=1\n"
     ]
    },
    {
     "name": "stdout",
     "output_type": "stream",
     "text": [
      "Trying for M1B\n"
     ]
    },
    {
     "name": "stderr",
     "output_type": "stream",
     "text": [
      "Status code 401 from http://api.opencagedata.com/geocode/v1/json: ERROR - 401 Client Error: Unauthorized for url: http://api.opencagedata.com/geocode/v1/json?query=M1B%2C+Toronto%2C+Ontario&key=13aa077d21ae42f287ec8607e07b2159&limit=1\n"
     ]
    },
    {
     "name": "stdout",
     "output_type": "stream",
     "text": [
      "Trying for M1B\n"
     ]
    },
    {
     "name": "stderr",
     "output_type": "stream",
     "text": [
      "Status code 401 from http://api.opencagedata.com/geocode/v1/json: ERROR - 401 Client Error: Unauthorized for url: http://api.opencagedata.com/geocode/v1/json?query=M1B%2C+Toronto%2C+Ontario&key=13aa077d21ae42f287ec8607e07b2159&limit=1\n"
     ]
    },
    {
     "name": "stdout",
     "output_type": "stream",
     "text": [
      "Trying for M1B\n"
     ]
    },
    {
     "name": "stderr",
     "output_type": "stream",
     "text": [
      "Status code 401 from http://api.opencagedata.com/geocode/v1/json: ERROR - 401 Client Error: Unauthorized for url: http://api.opencagedata.com/geocode/v1/json?query=M1B%2C+Toronto%2C+Ontario&key=13aa077d21ae42f287ec8607e07b2159&limit=1\n"
     ]
    },
    {
     "name": "stdout",
     "output_type": "stream",
     "text": [
      "Trying for M1B\n"
     ]
    },
    {
     "name": "stderr",
     "output_type": "stream",
     "text": [
      "Status code 401 from http://api.opencagedata.com/geocode/v1/json: ERROR - 401 Client Error: Unauthorized for url: http://api.opencagedata.com/geocode/v1/json?query=M1B%2C+Toronto%2C+Ontario&key=13aa077d21ae42f287ec8607e07b2159&limit=1\n"
     ]
    },
    {
     "name": "stdout",
     "output_type": "stream",
     "text": [
      "Trying for M1B\n",
      "M1B, done\n",
      "M6H, Toronto, Ontario\n",
      "Trying for M6H\n"
     ]
    },
    {
     "name": "stderr",
     "output_type": "stream",
     "text": [
      "Status code 401 from http://api.opencagedata.com/geocode/v1/json: ERROR - 401 Client Error: Unauthorized for url: http://api.opencagedata.com/geocode/v1/json?query=M6H%2C+Toronto%2C+Ontario&key=13aa077d21ae42f287ec8607e07b2159&limit=1\n"
     ]
    },
    {
     "name": "stdout",
     "output_type": "stream",
     "text": [
      "Trying for M6H\n"
     ]
    },
    {
     "name": "stderr",
     "output_type": "stream",
     "text": [
      "Status code 401 from http://api.opencagedata.com/geocode/v1/json: ERROR - 401 Client Error: Unauthorized for url: http://api.opencagedata.com/geocode/v1/json?query=M6H%2C+Toronto%2C+Ontario&key=13aa077d21ae42f287ec8607e07b2159&limit=1\n"
     ]
    },
    {
     "name": "stdout",
     "output_type": "stream",
     "text": [
      "Trying for M6H\n"
     ]
    },
    {
     "name": "stderr",
     "output_type": "stream",
     "text": [
      "Status code 401 from http://api.opencagedata.com/geocode/v1/json: ERROR - 401 Client Error: Unauthorized for url: http://api.opencagedata.com/geocode/v1/json?query=M6H%2C+Toronto%2C+Ontario&key=13aa077d21ae42f287ec8607e07b2159&limit=1\n"
     ]
    },
    {
     "name": "stdout",
     "output_type": "stream",
     "text": [
      "Trying for M6H\n"
     ]
    },
    {
     "name": "stderr",
     "output_type": "stream",
     "text": [
      "Status code 401 from http://api.opencagedata.com/geocode/v1/json: ERROR - 401 Client Error: Unauthorized for url: http://api.opencagedata.com/geocode/v1/json?query=M6H%2C+Toronto%2C+Ontario&key=13aa077d21ae42f287ec8607e07b2159&limit=1\n"
     ]
    },
    {
     "name": "stdout",
     "output_type": "stream",
     "text": [
      "Trying for M6H\n"
     ]
    },
    {
     "name": "stderr",
     "output_type": "stream",
     "text": [
      "Status code 401 from http://api.opencagedata.com/geocode/v1/json: ERROR - 401 Client Error: Unauthorized for url: http://api.opencagedata.com/geocode/v1/json?query=M6H%2C+Toronto%2C+Ontario&key=13aa077d21ae42f287ec8607e07b2159&limit=1\n"
     ]
    },
    {
     "name": "stdout",
     "output_type": "stream",
     "text": [
      "Trying for M6H\n"
     ]
    },
    {
     "name": "stderr",
     "output_type": "stream",
     "text": [
      "Status code 401 from http://api.opencagedata.com/geocode/v1/json: ERROR - 401 Client Error: Unauthorized for url: http://api.opencagedata.com/geocode/v1/json?query=M6H%2C+Toronto%2C+Ontario&key=13aa077d21ae42f287ec8607e07b2159&limit=1\n"
     ]
    },
    {
     "name": "stdout",
     "output_type": "stream",
     "text": [
      "Trying for M6H\n"
     ]
    },
    {
     "name": "stderr",
     "output_type": "stream",
     "text": [
      "Status code 401 from http://api.opencagedata.com/geocode/v1/json: ERROR - 401 Client Error: Unauthorized for url: http://api.opencagedata.com/geocode/v1/json?query=M6H%2C+Toronto%2C+Ontario&key=13aa077d21ae42f287ec8607e07b2159&limit=1\n"
     ]
    },
    {
     "name": "stdout",
     "output_type": "stream",
     "text": [
      "Trying for M6H\n"
     ]
    },
    {
     "name": "stderr",
     "output_type": "stream",
     "text": [
      "Status code 401 from http://api.opencagedata.com/geocode/v1/json: ERROR - 401 Client Error: Unauthorized for url: http://api.opencagedata.com/geocode/v1/json?query=M6H%2C+Toronto%2C+Ontario&key=13aa077d21ae42f287ec8607e07b2159&limit=1\n"
     ]
    },
    {
     "name": "stdout",
     "output_type": "stream",
     "text": [
      "Trying for M6H\n"
     ]
    },
    {
     "name": "stderr",
     "output_type": "stream",
     "text": [
      "Status code 401 from http://api.opencagedata.com/geocode/v1/json: ERROR - 401 Client Error: Unauthorized for url: http://api.opencagedata.com/geocode/v1/json?query=M6H%2C+Toronto%2C+Ontario&key=13aa077d21ae42f287ec8607e07b2159&limit=1\n"
     ]
    },
    {
     "name": "stdout",
     "output_type": "stream",
     "text": [
      "Trying for M6H\n"
     ]
    },
    {
     "name": "stderr",
     "output_type": "stream",
     "text": [
      "Status code 401 from http://api.opencagedata.com/geocode/v1/json: ERROR - 401 Client Error: Unauthorized for url: http://api.opencagedata.com/geocode/v1/json?query=M6H%2C+Toronto%2C+Ontario&key=13aa077d21ae42f287ec8607e07b2159&limit=1\n"
     ]
    },
    {
     "name": "stdout",
     "output_type": "stream",
     "text": [
      "Trying for M6H\n",
      "M6H, done\n",
      "M6C, Toronto, Ontario\n",
      "Trying for M6C\n"
     ]
    },
    {
     "name": "stderr",
     "output_type": "stream",
     "text": [
      "Status code 401 from http://api.opencagedata.com/geocode/v1/json: ERROR - 401 Client Error: Unauthorized for url: http://api.opencagedata.com/geocode/v1/json?query=M6C%2C+Toronto%2C+Ontario&key=13aa077d21ae42f287ec8607e07b2159&limit=1\n"
     ]
    },
    {
     "name": "stdout",
     "output_type": "stream",
     "text": [
      "Trying for M6C\n"
     ]
    },
    {
     "name": "stderr",
     "output_type": "stream",
     "text": [
      "Status code 401 from http://api.opencagedata.com/geocode/v1/json: ERROR - 401 Client Error: Unauthorized for url: http://api.opencagedata.com/geocode/v1/json?query=M6C%2C+Toronto%2C+Ontario&key=13aa077d21ae42f287ec8607e07b2159&limit=1\n"
     ]
    },
    {
     "name": "stdout",
     "output_type": "stream",
     "text": [
      "Trying for M6C\n"
     ]
    },
    {
     "name": "stderr",
     "output_type": "stream",
     "text": [
      "Status code 401 from http://api.opencagedata.com/geocode/v1/json: ERROR - 401 Client Error: Unauthorized for url: http://api.opencagedata.com/geocode/v1/json?query=M6C%2C+Toronto%2C+Ontario&key=13aa077d21ae42f287ec8607e07b2159&limit=1\n"
     ]
    },
    {
     "name": "stdout",
     "output_type": "stream",
     "text": [
      "Trying for M6C\n"
     ]
    },
    {
     "name": "stderr",
     "output_type": "stream",
     "text": [
      "Status code 401 from http://api.opencagedata.com/geocode/v1/json: ERROR - 401 Client Error: Unauthorized for url: http://api.opencagedata.com/geocode/v1/json?query=M6C%2C+Toronto%2C+Ontario&key=13aa077d21ae42f287ec8607e07b2159&limit=1\n"
     ]
    },
    {
     "name": "stdout",
     "output_type": "stream",
     "text": [
      "Trying for M6C\n"
     ]
    },
    {
     "name": "stderr",
     "output_type": "stream",
     "text": [
      "Status code 401 from http://api.opencagedata.com/geocode/v1/json: ERROR - 401 Client Error: Unauthorized for url: http://api.opencagedata.com/geocode/v1/json?query=M6C%2C+Toronto%2C+Ontario&key=13aa077d21ae42f287ec8607e07b2159&limit=1\n"
     ]
    },
    {
     "name": "stdout",
     "output_type": "stream",
     "text": [
      "Trying for M6C\n"
     ]
    },
    {
     "name": "stderr",
     "output_type": "stream",
     "text": [
      "Status code 401 from http://api.opencagedata.com/geocode/v1/json: ERROR - 401 Client Error: Unauthorized for url: http://api.opencagedata.com/geocode/v1/json?query=M6C%2C+Toronto%2C+Ontario&key=13aa077d21ae42f287ec8607e07b2159&limit=1\n"
     ]
    },
    {
     "name": "stdout",
     "output_type": "stream",
     "text": [
      "Trying for M6C\n"
     ]
    },
    {
     "name": "stderr",
     "output_type": "stream",
     "text": [
      "Status code 401 from http://api.opencagedata.com/geocode/v1/json: ERROR - 401 Client Error: Unauthorized for url: http://api.opencagedata.com/geocode/v1/json?query=M6C%2C+Toronto%2C+Ontario&key=13aa077d21ae42f287ec8607e07b2159&limit=1\n"
     ]
    },
    {
     "name": "stdout",
     "output_type": "stream",
     "text": [
      "Trying for M6C\n"
     ]
    },
    {
     "name": "stderr",
     "output_type": "stream",
     "text": [
      "Status code 401 from http://api.opencagedata.com/geocode/v1/json: ERROR - 401 Client Error: Unauthorized for url: http://api.opencagedata.com/geocode/v1/json?query=M6C%2C+Toronto%2C+Ontario&key=13aa077d21ae42f287ec8607e07b2159&limit=1\n"
     ]
    },
    {
     "name": "stdout",
     "output_type": "stream",
     "text": [
      "Trying for M6C\n"
     ]
    },
    {
     "name": "stderr",
     "output_type": "stream",
     "text": [
      "Status code 401 from http://api.opencagedata.com/geocode/v1/json: ERROR - 401 Client Error: Unauthorized for url: http://api.opencagedata.com/geocode/v1/json?query=M6C%2C+Toronto%2C+Ontario&key=13aa077d21ae42f287ec8607e07b2159&limit=1\n"
     ]
    },
    {
     "name": "stdout",
     "output_type": "stream",
     "text": [
      "Trying for M6C\n"
     ]
    },
    {
     "name": "stderr",
     "output_type": "stream",
     "text": [
      "Status code 401 from http://api.opencagedata.com/geocode/v1/json: ERROR - 401 Client Error: Unauthorized for url: http://api.opencagedata.com/geocode/v1/json?query=M6C%2C+Toronto%2C+Ontario&key=13aa077d21ae42f287ec8607e07b2159&limit=1\n"
     ]
    },
    {
     "name": "stdout",
     "output_type": "stream",
     "text": [
      "Trying for M6C\n"
     ]
    },
    {
     "name": "stderr",
     "output_type": "stream",
     "text": [
      "Status code 401 from http://api.opencagedata.com/geocode/v1/json: ERROR - 401 Client Error: Unauthorized for url: http://api.opencagedata.com/geocode/v1/json?query=M6C%2C+Toronto%2C+Ontario&key=13aa077d21ae42f287ec8607e07b2159&limit=1\n"
     ]
    },
    {
     "name": "stdout",
     "output_type": "stream",
     "text": [
      "Trying for M6C\n"
     ]
    },
    {
     "name": "stderr",
     "output_type": "stream",
     "text": [
      "Status code 401 from http://api.opencagedata.com/geocode/v1/json: ERROR - 401 Client Error: Unauthorized for url: http://api.opencagedata.com/geocode/v1/json?query=M6C%2C+Toronto%2C+Ontario&key=13aa077d21ae42f287ec8607e07b2159&limit=1\n"
     ]
    },
    {
     "name": "stdout",
     "output_type": "stream",
     "text": [
      "Trying for M6C\n"
     ]
    },
    {
     "name": "stderr",
     "output_type": "stream",
     "text": [
      "Status code 401 from http://api.opencagedata.com/geocode/v1/json: ERROR - 401 Client Error: Unauthorized for url: http://api.opencagedata.com/geocode/v1/json?query=M6C%2C+Toronto%2C+Ontario&key=13aa077d21ae42f287ec8607e07b2159&limit=1\n"
     ]
    },
    {
     "name": "stdout",
     "output_type": "stream",
     "text": [
      "Trying for M6C\n"
     ]
    },
    {
     "name": "stderr",
     "output_type": "stream",
     "text": [
      "Status code 401 from http://api.opencagedata.com/geocode/v1/json: ERROR - 401 Client Error: Unauthorized for url: http://api.opencagedata.com/geocode/v1/json?query=M6C%2C+Toronto%2C+Ontario&key=13aa077d21ae42f287ec8607e07b2159&limit=1\n"
     ]
    },
    {
     "name": "stdout",
     "output_type": "stream",
     "text": [
      "Trying for M6C\n"
     ]
    },
    {
     "name": "stderr",
     "output_type": "stream",
     "text": [
      "Status code 401 from http://api.opencagedata.com/geocode/v1/json: ERROR - 401 Client Error: Unauthorized for url: http://api.opencagedata.com/geocode/v1/json?query=M6C%2C+Toronto%2C+Ontario&key=13aa077d21ae42f287ec8607e07b2159&limit=1\n"
     ]
    },
    {
     "name": "stdout",
     "output_type": "stream",
     "text": [
      "Trying for M6C\n"
     ]
    },
    {
     "name": "stderr",
     "output_type": "stream",
     "text": [
      "Status code 401 from http://api.opencagedata.com/geocode/v1/json: ERROR - 401 Client Error: Unauthorized for url: http://api.opencagedata.com/geocode/v1/json?query=M6C%2C+Toronto%2C+Ontario&key=13aa077d21ae42f287ec8607e07b2159&limit=1\n"
     ]
    },
    {
     "name": "stdout",
     "output_type": "stream",
     "text": [
      "Trying for M6C\n"
     ]
    },
    {
     "name": "stderr",
     "output_type": "stream",
     "text": [
      "Status code 401 from http://api.opencagedata.com/geocode/v1/json: ERROR - 401 Client Error: Unauthorized for url: http://api.opencagedata.com/geocode/v1/json?query=M6C%2C+Toronto%2C+Ontario&key=13aa077d21ae42f287ec8607e07b2159&limit=1\n"
     ]
    },
    {
     "name": "stdout",
     "output_type": "stream",
     "text": [
      "Trying for M6C\n"
     ]
    },
    {
     "name": "stderr",
     "output_type": "stream",
     "text": [
      "Status code 401 from http://api.opencagedata.com/geocode/v1/json: ERROR - 401 Client Error: Unauthorized for url: http://api.opencagedata.com/geocode/v1/json?query=M6C%2C+Toronto%2C+Ontario&key=13aa077d21ae42f287ec8607e07b2159&limit=1\n"
     ]
    },
    {
     "name": "stdout",
     "output_type": "stream",
     "text": [
      "Trying for M6C\n"
     ]
    },
    {
     "name": "stderr",
     "output_type": "stream",
     "text": [
      "Status code 401 from http://api.opencagedata.com/geocode/v1/json: ERROR - 401 Client Error: Unauthorized for url: http://api.opencagedata.com/geocode/v1/json?query=M6C%2C+Toronto%2C+Ontario&key=13aa077d21ae42f287ec8607e07b2159&limit=1\n"
     ]
    },
    {
     "name": "stdout",
     "output_type": "stream",
     "text": [
      "Trying for M6C\n"
     ]
    },
    {
     "name": "stderr",
     "output_type": "stream",
     "text": [
      "Status code 401 from http://api.opencagedata.com/geocode/v1/json: ERROR - 401 Client Error: Unauthorized for url: http://api.opencagedata.com/geocode/v1/json?query=M6C%2C+Toronto%2C+Ontario&key=13aa077d21ae42f287ec8607e07b2159&limit=1\n"
     ]
    },
    {
     "name": "stdout",
     "output_type": "stream",
     "text": [
      "Trying for M6C\n"
     ]
    },
    {
     "name": "stderr",
     "output_type": "stream",
     "text": [
      "Status code 401 from http://api.opencagedata.com/geocode/v1/json: ERROR - 401 Client Error: Unauthorized for url: http://api.opencagedata.com/geocode/v1/json?query=M6C%2C+Toronto%2C+Ontario&key=13aa077d21ae42f287ec8607e07b2159&limit=1\n"
     ]
    },
    {
     "name": "stdout",
     "output_type": "stream",
     "text": [
      "Trying for M6C\n"
     ]
    },
    {
     "name": "stderr",
     "output_type": "stream",
     "text": [
      "Status code 401 from http://api.opencagedata.com/geocode/v1/json: ERROR - 401 Client Error: Unauthorized for url: http://api.opencagedata.com/geocode/v1/json?query=M6C%2C+Toronto%2C+Ontario&key=13aa077d21ae42f287ec8607e07b2159&limit=1\n"
     ]
    },
    {
     "name": "stdout",
     "output_type": "stream",
     "text": [
      "Trying for M6C\n"
     ]
    },
    {
     "name": "stderr",
     "output_type": "stream",
     "text": [
      "Status code 401 from http://api.opencagedata.com/geocode/v1/json: ERROR - 401 Client Error: Unauthorized for url: http://api.opencagedata.com/geocode/v1/json?query=M6C%2C+Toronto%2C+Ontario&key=13aa077d21ae42f287ec8607e07b2159&limit=1\n"
     ]
    },
    {
     "name": "stdout",
     "output_type": "stream",
     "text": [
      "Trying for M6C\n"
     ]
    },
    {
     "name": "stderr",
     "output_type": "stream",
     "text": [
      "Status code 401 from http://api.opencagedata.com/geocode/v1/json: ERROR - 401 Client Error: Unauthorized for url: http://api.opencagedata.com/geocode/v1/json?query=M6C%2C+Toronto%2C+Ontario&key=13aa077d21ae42f287ec8607e07b2159&limit=1\n"
     ]
    },
    {
     "name": "stdout",
     "output_type": "stream",
     "text": [
      "Trying for M6C\n"
     ]
    },
    {
     "name": "stderr",
     "output_type": "stream",
     "text": [
      "Status code 401 from http://api.opencagedata.com/geocode/v1/json: ERROR - 401 Client Error: Unauthorized for url: http://api.opencagedata.com/geocode/v1/json?query=M6C%2C+Toronto%2C+Ontario&key=13aa077d21ae42f287ec8607e07b2159&limit=1\n"
     ]
    },
    {
     "name": "stdout",
     "output_type": "stream",
     "text": [
      "Trying for M6C\n"
     ]
    },
    {
     "name": "stderr",
     "output_type": "stream",
     "text": [
      "Status code 401 from http://api.opencagedata.com/geocode/v1/json: ERROR - 401 Client Error: Unauthorized for url: http://api.opencagedata.com/geocode/v1/json?query=M6C%2C+Toronto%2C+Ontario&key=13aa077d21ae42f287ec8607e07b2159&limit=1\n"
     ]
    },
    {
     "name": "stdout",
     "output_type": "stream",
     "text": [
      "Trying for M6C\n"
     ]
    },
    {
     "name": "stderr",
     "output_type": "stream",
     "text": [
      "Status code 401 from http://api.opencagedata.com/geocode/v1/json: ERROR - 401 Client Error: Unauthorized for url: http://api.opencagedata.com/geocode/v1/json?query=M6C%2C+Toronto%2C+Ontario&key=13aa077d21ae42f287ec8607e07b2159&limit=1\n"
     ]
    },
    {
     "name": "stdout",
     "output_type": "stream",
     "text": [
      "Trying for M6C\n"
     ]
    },
    {
     "name": "stderr",
     "output_type": "stream",
     "text": [
      "Status code 401 from http://api.opencagedata.com/geocode/v1/json: ERROR - 401 Client Error: Unauthorized for url: http://api.opencagedata.com/geocode/v1/json?query=M6C%2C+Toronto%2C+Ontario&key=13aa077d21ae42f287ec8607e07b2159&limit=1\n"
     ]
    },
    {
     "name": "stdout",
     "output_type": "stream",
     "text": [
      "Trying for M6C\n"
     ]
    },
    {
     "name": "stderr",
     "output_type": "stream",
     "text": [
      "Status code 401 from http://api.opencagedata.com/geocode/v1/json: ERROR - 401 Client Error: Unauthorized for url: http://api.opencagedata.com/geocode/v1/json?query=M6C%2C+Toronto%2C+Ontario&key=13aa077d21ae42f287ec8607e07b2159&limit=1\n"
     ]
    },
    {
     "name": "stdout",
     "output_type": "stream",
     "text": [
      "Trying for M6C\n"
     ]
    },
    {
     "name": "stderr",
     "output_type": "stream",
     "text": [
      "Status code 401 from http://api.opencagedata.com/geocode/v1/json: ERROR - 401 Client Error: Unauthorized for url: http://api.opencagedata.com/geocode/v1/json?query=M6C%2C+Toronto%2C+Ontario&key=13aa077d21ae42f287ec8607e07b2159&limit=1\n"
     ]
    },
    {
     "name": "stdout",
     "output_type": "stream",
     "text": [
      "Trying for M6C\n"
     ]
    },
    {
     "name": "stderr",
     "output_type": "stream",
     "text": [
      "Status code 401 from http://api.opencagedata.com/geocode/v1/json: ERROR - 401 Client Error: Unauthorized for url: http://api.opencagedata.com/geocode/v1/json?query=M6C%2C+Toronto%2C+Ontario&key=13aa077d21ae42f287ec8607e07b2159&limit=1\n"
     ]
    },
    {
     "name": "stdout",
     "output_type": "stream",
     "text": [
      "Trying for M6C\n"
     ]
    },
    {
     "name": "stderr",
     "output_type": "stream",
     "text": [
      "Status code 401 from http://api.opencagedata.com/geocode/v1/json: ERROR - 401 Client Error: Unauthorized for url: http://api.opencagedata.com/geocode/v1/json?query=M6C%2C+Toronto%2C+Ontario&key=13aa077d21ae42f287ec8607e07b2159&limit=1\n"
     ]
    },
    {
     "name": "stdout",
     "output_type": "stream",
     "text": [
      "Trying for M6C\n"
     ]
    },
    {
     "name": "stderr",
     "output_type": "stream",
     "text": [
      "Status code 401 from http://api.opencagedata.com/geocode/v1/json: ERROR - 401 Client Error: Unauthorized for url: http://api.opencagedata.com/geocode/v1/json?query=M6C%2C+Toronto%2C+Ontario&key=13aa077d21ae42f287ec8607e07b2159&limit=1\n"
     ]
    },
    {
     "name": "stdout",
     "output_type": "stream",
     "text": [
      "Trying for M6C\n"
     ]
    },
    {
     "name": "stderr",
     "output_type": "stream",
     "text": [
      "Status code 401 from http://api.opencagedata.com/geocode/v1/json: ERROR - 401 Client Error: Unauthorized for url: http://api.opencagedata.com/geocode/v1/json?query=M6C%2C+Toronto%2C+Ontario&key=13aa077d21ae42f287ec8607e07b2159&limit=1\n"
     ]
    },
    {
     "name": "stdout",
     "output_type": "stream",
     "text": [
      "Trying for M6C\n"
     ]
    },
    {
     "name": "stderr",
     "output_type": "stream",
     "text": [
      "Status code 401 from http://api.opencagedata.com/geocode/v1/json: ERROR - 401 Client Error: Unauthorized for url: http://api.opencagedata.com/geocode/v1/json?query=M6C%2C+Toronto%2C+Ontario&key=13aa077d21ae42f287ec8607e07b2159&limit=1\n"
     ]
    },
    {
     "name": "stdout",
     "output_type": "stream",
     "text": [
      "Trying for M6C\n"
     ]
    },
    {
     "name": "stderr",
     "output_type": "stream",
     "text": [
      "Status code 401 from http://api.opencagedata.com/geocode/v1/json: ERROR - 401 Client Error: Unauthorized for url: http://api.opencagedata.com/geocode/v1/json?query=M6C%2C+Toronto%2C+Ontario&key=13aa077d21ae42f287ec8607e07b2159&limit=1\n"
     ]
    },
    {
     "name": "stdout",
     "output_type": "stream",
     "text": [
      "Trying for M6C\n"
     ]
    },
    {
     "name": "stderr",
     "output_type": "stream",
     "text": [
      "Status code 401 from http://api.opencagedata.com/geocode/v1/json: ERROR - 401 Client Error: Unauthorized for url: http://api.opencagedata.com/geocode/v1/json?query=M6C%2C+Toronto%2C+Ontario&key=13aa077d21ae42f287ec8607e07b2159&limit=1\n"
     ]
    },
    {
     "name": "stdout",
     "output_type": "stream",
     "text": [
      "Trying for M6C\n"
     ]
    },
    {
     "name": "stderr",
     "output_type": "stream",
     "text": [
      "Status code 401 from http://api.opencagedata.com/geocode/v1/json: ERROR - 401 Client Error: Unauthorized for url: http://api.opencagedata.com/geocode/v1/json?query=M6C%2C+Toronto%2C+Ontario&key=13aa077d21ae42f287ec8607e07b2159&limit=1\n"
     ]
    },
    {
     "name": "stdout",
     "output_type": "stream",
     "text": [
      "Trying for M6C\n"
     ]
    },
    {
     "name": "stderr",
     "output_type": "stream",
     "text": [
      "Status code 401 from http://api.opencagedata.com/geocode/v1/json: ERROR - 401 Client Error: Unauthorized for url: http://api.opencagedata.com/geocode/v1/json?query=M6C%2C+Toronto%2C+Ontario&key=13aa077d21ae42f287ec8607e07b2159&limit=1\n"
     ]
    },
    {
     "name": "stdout",
     "output_type": "stream",
     "text": [
      "Trying for M6C\n"
     ]
    },
    {
     "name": "stderr",
     "output_type": "stream",
     "text": [
      "Status code 401 from http://api.opencagedata.com/geocode/v1/json: ERROR - 401 Client Error: Unauthorized for url: http://api.opencagedata.com/geocode/v1/json?query=M6C%2C+Toronto%2C+Ontario&key=13aa077d21ae42f287ec8607e07b2159&limit=1\n"
     ]
    },
    {
     "name": "stdout",
     "output_type": "stream",
     "text": [
      "Trying for M6C\n"
     ]
    },
    {
     "name": "stderr",
     "output_type": "stream",
     "text": [
      "Status code 401 from http://api.opencagedata.com/geocode/v1/json: ERROR - 401 Client Error: Unauthorized for url: http://api.opencagedata.com/geocode/v1/json?query=M6C%2C+Toronto%2C+Ontario&key=13aa077d21ae42f287ec8607e07b2159&limit=1\n"
     ]
    },
    {
     "name": "stdout",
     "output_type": "stream",
     "text": [
      "Trying for M6C\n"
     ]
    },
    {
     "name": "stderr",
     "output_type": "stream",
     "text": [
      "Status code 401 from http://api.opencagedata.com/geocode/v1/json: ERROR - 401 Client Error: Unauthorized for url: http://api.opencagedata.com/geocode/v1/json?query=M6C%2C+Toronto%2C+Ontario&key=13aa077d21ae42f287ec8607e07b2159&limit=1\n"
     ]
    },
    {
     "name": "stdout",
     "output_type": "stream",
     "text": [
      "Trying for M6C\n"
     ]
    },
    {
     "name": "stderr",
     "output_type": "stream",
     "text": [
      "Status code 401 from http://api.opencagedata.com/geocode/v1/json: ERROR - 401 Client Error: Unauthorized for url: http://api.opencagedata.com/geocode/v1/json?query=M6C%2C+Toronto%2C+Ontario&key=13aa077d21ae42f287ec8607e07b2159&limit=1\n"
     ]
    },
    {
     "name": "stdout",
     "output_type": "stream",
     "text": [
      "Trying for M6C\n"
     ]
    },
    {
     "name": "stderr",
     "output_type": "stream",
     "text": [
      "Status code 401 from http://api.opencagedata.com/geocode/v1/json: ERROR - 401 Client Error: Unauthorized for url: http://api.opencagedata.com/geocode/v1/json?query=M6C%2C+Toronto%2C+Ontario&key=13aa077d21ae42f287ec8607e07b2159&limit=1\n"
     ]
    },
    {
     "name": "stdout",
     "output_type": "stream",
     "text": [
      "Trying for M6C\n"
     ]
    },
    {
     "name": "stderr",
     "output_type": "stream",
     "text": [
      "Status code 401 from http://api.opencagedata.com/geocode/v1/json: ERROR - 401 Client Error: Unauthorized for url: http://api.opencagedata.com/geocode/v1/json?query=M6C%2C+Toronto%2C+Ontario&key=13aa077d21ae42f287ec8607e07b2159&limit=1\n"
     ]
    },
    {
     "name": "stdout",
     "output_type": "stream",
     "text": [
      "Trying for M6C\n"
     ]
    },
    {
     "name": "stderr",
     "output_type": "stream",
     "text": [
      "Status code 401 from http://api.opencagedata.com/geocode/v1/json: ERROR - 401 Client Error: Unauthorized for url: http://api.opencagedata.com/geocode/v1/json?query=M6C%2C+Toronto%2C+Ontario&key=13aa077d21ae42f287ec8607e07b2159&limit=1\n"
     ]
    },
    {
     "name": "stdout",
     "output_type": "stream",
     "text": [
      "Trying for M6C\n"
     ]
    },
    {
     "name": "stderr",
     "output_type": "stream",
     "text": [
      "Status code 401 from http://api.opencagedata.com/geocode/v1/json: ERROR - 401 Client Error: Unauthorized for url: http://api.opencagedata.com/geocode/v1/json?query=M6C%2C+Toronto%2C+Ontario&key=13aa077d21ae42f287ec8607e07b2159&limit=1\n"
     ]
    },
    {
     "name": "stdout",
     "output_type": "stream",
     "text": [
      "Trying for M6C\n"
     ]
    },
    {
     "name": "stderr",
     "output_type": "stream",
     "text": [
      "Status code 401 from http://api.opencagedata.com/geocode/v1/json: ERROR - 401 Client Error: Unauthorized for url: http://api.opencagedata.com/geocode/v1/json?query=M6C%2C+Toronto%2C+Ontario&key=13aa077d21ae42f287ec8607e07b2159&limit=1\n"
     ]
    },
    {
     "name": "stdout",
     "output_type": "stream",
     "text": [
      "Trying for M6C\n"
     ]
    },
    {
     "name": "stderr",
     "output_type": "stream",
     "text": [
      "Status code 401 from http://api.opencagedata.com/geocode/v1/json: ERROR - 401 Client Error: Unauthorized for url: http://api.opencagedata.com/geocode/v1/json?query=M6C%2C+Toronto%2C+Ontario&key=13aa077d21ae42f287ec8607e07b2159&limit=1\n"
     ]
    },
    {
     "name": "stdout",
     "output_type": "stream",
     "text": [
      "Trying for M6C\n"
     ]
    },
    {
     "name": "stderr",
     "output_type": "stream",
     "text": [
      "Status code 401 from http://api.opencagedata.com/geocode/v1/json: ERROR - 401 Client Error: Unauthorized for url: http://api.opencagedata.com/geocode/v1/json?query=M6C%2C+Toronto%2C+Ontario&key=13aa077d21ae42f287ec8607e07b2159&limit=1\n"
     ]
    },
    {
     "name": "stdout",
     "output_type": "stream",
     "text": [
      "Trying for M6C\n"
     ]
    },
    {
     "name": "stderr",
     "output_type": "stream",
     "text": [
      "Status code 401 from http://api.opencagedata.com/geocode/v1/json: ERROR - 401 Client Error: Unauthorized for url: http://api.opencagedata.com/geocode/v1/json?query=M6C%2C+Toronto%2C+Ontario&key=13aa077d21ae42f287ec8607e07b2159&limit=1\n"
     ]
    },
    {
     "name": "stdout",
     "output_type": "stream",
     "text": [
      "Trying for M6C\n"
     ]
    },
    {
     "name": "stderr",
     "output_type": "stream",
     "text": [
      "Status code 401 from http://api.opencagedata.com/geocode/v1/json: ERROR - 401 Client Error: Unauthorized for url: http://api.opencagedata.com/geocode/v1/json?query=M6C%2C+Toronto%2C+Ontario&key=13aa077d21ae42f287ec8607e07b2159&limit=1\n"
     ]
    },
    {
     "name": "stdout",
     "output_type": "stream",
     "text": [
      "Trying for M6C\n"
     ]
    },
    {
     "name": "stderr",
     "output_type": "stream",
     "text": [
      "Status code 401 from http://api.opencagedata.com/geocode/v1/json: ERROR - 401 Client Error: Unauthorized for url: http://api.opencagedata.com/geocode/v1/json?query=M6C%2C+Toronto%2C+Ontario&key=13aa077d21ae42f287ec8607e07b2159&limit=1\n"
     ]
    },
    {
     "name": "stdout",
     "output_type": "stream",
     "text": [
      "Trying for M6C\n"
     ]
    },
    {
     "name": "stderr",
     "output_type": "stream",
     "text": [
      "Status code 401 from http://api.opencagedata.com/geocode/v1/json: ERROR - 401 Client Error: Unauthorized for url: http://api.opencagedata.com/geocode/v1/json?query=M6C%2C+Toronto%2C+Ontario&key=13aa077d21ae42f287ec8607e07b2159&limit=1\n"
     ]
    },
    {
     "name": "stdout",
     "output_type": "stream",
     "text": [
      "Trying for M6C\n"
     ]
    },
    {
     "name": "stderr",
     "output_type": "stream",
     "text": [
      "Status code 401 from http://api.opencagedata.com/geocode/v1/json: ERROR - 401 Client Error: Unauthorized for url: http://api.opencagedata.com/geocode/v1/json?query=M6C%2C+Toronto%2C+Ontario&key=13aa077d21ae42f287ec8607e07b2159&limit=1\n"
     ]
    },
    {
     "name": "stdout",
     "output_type": "stream",
     "text": [
      "Trying for M6C\n"
     ]
    },
    {
     "name": "stderr",
     "output_type": "stream",
     "text": [
      "Status code 401 from http://api.opencagedata.com/geocode/v1/json: ERROR - 401 Client Error: Unauthorized for url: http://api.opencagedata.com/geocode/v1/json?query=M6C%2C+Toronto%2C+Ontario&key=13aa077d21ae42f287ec8607e07b2159&limit=1\n"
     ]
    },
    {
     "name": "stdout",
     "output_type": "stream",
     "text": [
      "Trying for M6C\n"
     ]
    },
    {
     "name": "stderr",
     "output_type": "stream",
     "text": [
      "Status code 401 from http://api.opencagedata.com/geocode/v1/json: ERROR - 401 Client Error: Unauthorized for url: http://api.opencagedata.com/geocode/v1/json?query=M6C%2C+Toronto%2C+Ontario&key=13aa077d21ae42f287ec8607e07b2159&limit=1\n"
     ]
    },
    {
     "name": "stdout",
     "output_type": "stream",
     "text": [
      "Trying for M6C\n"
     ]
    },
    {
     "name": "stderr",
     "output_type": "stream",
     "text": [
      "Status code 401 from http://api.opencagedata.com/geocode/v1/json: ERROR - 401 Client Error: Unauthorized for url: http://api.opencagedata.com/geocode/v1/json?query=M6C%2C+Toronto%2C+Ontario&key=13aa077d21ae42f287ec8607e07b2159&limit=1\n"
     ]
    },
    {
     "name": "stdout",
     "output_type": "stream",
     "text": [
      "Trying for M6C\n"
     ]
    },
    {
     "name": "stderr",
     "output_type": "stream",
     "text": [
      "Status code 401 from http://api.opencagedata.com/geocode/v1/json: ERROR - 401 Client Error: Unauthorized for url: http://api.opencagedata.com/geocode/v1/json?query=M6C%2C+Toronto%2C+Ontario&key=13aa077d21ae42f287ec8607e07b2159&limit=1\n"
     ]
    },
    {
     "name": "stdout",
     "output_type": "stream",
     "text": [
      "Trying for M6C\n"
     ]
    },
    {
     "name": "stderr",
     "output_type": "stream",
     "text": [
      "Status code 401 from http://api.opencagedata.com/geocode/v1/json: ERROR - 401 Client Error: Unauthorized for url: http://api.opencagedata.com/geocode/v1/json?query=M6C%2C+Toronto%2C+Ontario&key=13aa077d21ae42f287ec8607e07b2159&limit=1\n"
     ]
    },
    {
     "name": "stdout",
     "output_type": "stream",
     "text": [
      "Trying for M6C\n"
     ]
    },
    {
     "name": "stderr",
     "output_type": "stream",
     "text": [
      "Status code 401 from http://api.opencagedata.com/geocode/v1/json: ERROR - 401 Client Error: Unauthorized for url: http://api.opencagedata.com/geocode/v1/json?query=M6C%2C+Toronto%2C+Ontario&key=13aa077d21ae42f287ec8607e07b2159&limit=1\n"
     ]
    },
    {
     "name": "stdout",
     "output_type": "stream",
     "text": [
      "Trying for M6C\n"
     ]
    },
    {
     "name": "stderr",
     "output_type": "stream",
     "text": [
      "Status code 401 from http://api.opencagedata.com/geocode/v1/json: ERROR - 401 Client Error: Unauthorized for url: http://api.opencagedata.com/geocode/v1/json?query=M6C%2C+Toronto%2C+Ontario&key=13aa077d21ae42f287ec8607e07b2159&limit=1\n"
     ]
    },
    {
     "name": "stdout",
     "output_type": "stream",
     "text": [
      "Trying for M6C\n"
     ]
    },
    {
     "name": "stderr",
     "output_type": "stream",
     "text": [
      "Status code 401 from http://api.opencagedata.com/geocode/v1/json: ERROR - 401 Client Error: Unauthorized for url: http://api.opencagedata.com/geocode/v1/json?query=M6C%2C+Toronto%2C+Ontario&key=13aa077d21ae42f287ec8607e07b2159&limit=1\n"
     ]
    },
    {
     "name": "stdout",
     "output_type": "stream",
     "text": [
      "Trying for M6C\n"
     ]
    },
    {
     "name": "stderr",
     "output_type": "stream",
     "text": [
      "Status code 401 from http://api.opencagedata.com/geocode/v1/json: ERROR - 401 Client Error: Unauthorized for url: http://api.opencagedata.com/geocode/v1/json?query=M6C%2C+Toronto%2C+Ontario&key=13aa077d21ae42f287ec8607e07b2159&limit=1\n"
     ]
    },
    {
     "name": "stdout",
     "output_type": "stream",
     "text": [
      "Trying for M6C\n"
     ]
    },
    {
     "name": "stderr",
     "output_type": "stream",
     "text": [
      "Status code 401 from http://api.opencagedata.com/geocode/v1/json: ERROR - 401 Client Error: Unauthorized for url: http://api.opencagedata.com/geocode/v1/json?query=M6C%2C+Toronto%2C+Ontario&key=13aa077d21ae42f287ec8607e07b2159&limit=1\n"
     ]
    },
    {
     "name": "stdout",
     "output_type": "stream",
     "text": [
      "Trying for M6C\n"
     ]
    },
    {
     "name": "stderr",
     "output_type": "stream",
     "text": [
      "Status code 401 from http://api.opencagedata.com/geocode/v1/json: ERROR - 401 Client Error: Unauthorized for url: http://api.opencagedata.com/geocode/v1/json?query=M6C%2C+Toronto%2C+Ontario&key=13aa077d21ae42f287ec8607e07b2159&limit=1\n"
     ]
    },
    {
     "name": "stdout",
     "output_type": "stream",
     "text": [
      "Trying for M6C\n"
     ]
    },
    {
     "name": "stderr",
     "output_type": "stream",
     "text": [
      "Status code 401 from http://api.opencagedata.com/geocode/v1/json: ERROR - 401 Client Error: Unauthorized for url: http://api.opencagedata.com/geocode/v1/json?query=M6C%2C+Toronto%2C+Ontario&key=13aa077d21ae42f287ec8607e07b2159&limit=1\n"
     ]
    },
    {
     "name": "stdout",
     "output_type": "stream",
     "text": [
      "Trying for M6C\n"
     ]
    },
    {
     "name": "stderr",
     "output_type": "stream",
     "text": [
      "Status code 401 from http://api.opencagedata.com/geocode/v1/json: ERROR - 401 Client Error: Unauthorized for url: http://api.opencagedata.com/geocode/v1/json?query=M6C%2C+Toronto%2C+Ontario&key=13aa077d21ae42f287ec8607e07b2159&limit=1\n"
     ]
    },
    {
     "name": "stdout",
     "output_type": "stream",
     "text": [
      "Trying for M6C\n"
     ]
    },
    {
     "name": "stderr",
     "output_type": "stream",
     "text": [
      "Status code 401 from http://api.opencagedata.com/geocode/v1/json: ERROR - 401 Client Error: Unauthorized for url: http://api.opencagedata.com/geocode/v1/json?query=M6C%2C+Toronto%2C+Ontario&key=13aa077d21ae42f287ec8607e07b2159&limit=1\n"
     ]
    },
    {
     "name": "stdout",
     "output_type": "stream",
     "text": [
      "Trying for M6C\n"
     ]
    },
    {
     "name": "stderr",
     "output_type": "stream",
     "text": [
      "Status code 401 from http://api.opencagedata.com/geocode/v1/json: ERROR - 401 Client Error: Unauthorized for url: http://api.opencagedata.com/geocode/v1/json?query=M6C%2C+Toronto%2C+Ontario&key=13aa077d21ae42f287ec8607e07b2159&limit=1\n"
     ]
    },
    {
     "name": "stdout",
     "output_type": "stream",
     "text": [
      "Trying for M6C\n"
     ]
    },
    {
     "name": "stderr",
     "output_type": "stream",
     "text": [
      "Status code 401 from http://api.opencagedata.com/geocode/v1/json: ERROR - 401 Client Error: Unauthorized for url: http://api.opencagedata.com/geocode/v1/json?query=M6C%2C+Toronto%2C+Ontario&key=13aa077d21ae42f287ec8607e07b2159&limit=1\n"
     ]
    },
    {
     "name": "stdout",
     "output_type": "stream",
     "text": [
      "Trying for M6C\n"
     ]
    },
    {
     "name": "stderr",
     "output_type": "stream",
     "text": [
      "Status code 401 from http://api.opencagedata.com/geocode/v1/json: ERROR - 401 Client Error: Unauthorized for url: http://api.opencagedata.com/geocode/v1/json?query=M6C%2C+Toronto%2C+Ontario&key=13aa077d21ae42f287ec8607e07b2159&limit=1\n"
     ]
    },
    {
     "name": "stdout",
     "output_type": "stream",
     "text": [
      "Trying for M6C\n"
     ]
    },
    {
     "name": "stderr",
     "output_type": "stream",
     "text": [
      "Status code 401 from http://api.opencagedata.com/geocode/v1/json: ERROR - 401 Client Error: Unauthorized for url: http://api.opencagedata.com/geocode/v1/json?query=M6C%2C+Toronto%2C+Ontario&key=13aa077d21ae42f287ec8607e07b2159&limit=1\n"
     ]
    },
    {
     "name": "stdout",
     "output_type": "stream",
     "text": [
      "Trying for M6C\n"
     ]
    },
    {
     "name": "stderr",
     "output_type": "stream",
     "text": [
      "Status code 401 from http://api.opencagedata.com/geocode/v1/json: ERROR - 401 Client Error: Unauthorized for url: http://api.opencagedata.com/geocode/v1/json?query=M6C%2C+Toronto%2C+Ontario&key=13aa077d21ae42f287ec8607e07b2159&limit=1\n"
     ]
    },
    {
     "name": "stdout",
     "output_type": "stream",
     "text": [
      "Trying for M6C\n"
     ]
    },
    {
     "name": "stderr",
     "output_type": "stream",
     "text": [
      "Status code 401 from http://api.opencagedata.com/geocode/v1/json: ERROR - 401 Client Error: Unauthorized for url: http://api.opencagedata.com/geocode/v1/json?query=M6C%2C+Toronto%2C+Ontario&key=13aa077d21ae42f287ec8607e07b2159&limit=1\n"
     ]
    },
    {
     "name": "stdout",
     "output_type": "stream",
     "text": [
      "Trying for M6C\n"
     ]
    },
    {
     "name": "stderr",
     "output_type": "stream",
     "text": [
      "Status code 401 from http://api.opencagedata.com/geocode/v1/json: ERROR - 401 Client Error: Unauthorized for url: http://api.opencagedata.com/geocode/v1/json?query=M6C%2C+Toronto%2C+Ontario&key=13aa077d21ae42f287ec8607e07b2159&limit=1\n"
     ]
    },
    {
     "name": "stdout",
     "output_type": "stream",
     "text": [
      "Trying for M6C\n"
     ]
    },
    {
     "name": "stderr",
     "output_type": "stream",
     "text": [
      "Status code 401 from http://api.opencagedata.com/geocode/v1/json: ERROR - 401 Client Error: Unauthorized for url: http://api.opencagedata.com/geocode/v1/json?query=M6C%2C+Toronto%2C+Ontario&key=13aa077d21ae42f287ec8607e07b2159&limit=1\n"
     ]
    },
    {
     "name": "stdout",
     "output_type": "stream",
     "text": [
      "Trying for M6C\n"
     ]
    },
    {
     "name": "stderr",
     "output_type": "stream",
     "text": [
      "Status code 401 from http://api.opencagedata.com/geocode/v1/json: ERROR - 401 Client Error: Unauthorized for url: http://api.opencagedata.com/geocode/v1/json?query=M6C%2C+Toronto%2C+Ontario&key=13aa077d21ae42f287ec8607e07b2159&limit=1\n"
     ]
    },
    {
     "name": "stdout",
     "output_type": "stream",
     "text": [
      "Trying for M6C\n"
     ]
    },
    {
     "name": "stderr",
     "output_type": "stream",
     "text": [
      "Status code 401 from http://api.opencagedata.com/geocode/v1/json: ERROR - 401 Client Error: Unauthorized for url: http://api.opencagedata.com/geocode/v1/json?query=M6C%2C+Toronto%2C+Ontario&key=13aa077d21ae42f287ec8607e07b2159&limit=1\n"
     ]
    },
    {
     "name": "stdout",
     "output_type": "stream",
     "text": [
      "Trying for M6C\n"
     ]
    },
    {
     "name": "stderr",
     "output_type": "stream",
     "text": [
      "Status code 401 from http://api.opencagedata.com/geocode/v1/json: ERROR - 401 Client Error: Unauthorized for url: http://api.opencagedata.com/geocode/v1/json?query=M6C%2C+Toronto%2C+Ontario&key=13aa077d21ae42f287ec8607e07b2159&limit=1\n"
     ]
    },
    {
     "name": "stdout",
     "output_type": "stream",
     "text": [
      "Trying for M6C\n"
     ]
    },
    {
     "name": "stderr",
     "output_type": "stream",
     "text": [
      "Status code 401 from http://api.opencagedata.com/geocode/v1/json: ERROR - 401 Client Error: Unauthorized for url: http://api.opencagedata.com/geocode/v1/json?query=M6C%2C+Toronto%2C+Ontario&key=13aa077d21ae42f287ec8607e07b2159&limit=1\n"
     ]
    },
    {
     "name": "stdout",
     "output_type": "stream",
     "text": [
      "Trying for M6C\n"
     ]
    },
    {
     "name": "stderr",
     "output_type": "stream",
     "text": [
      "Status code 401 from http://api.opencagedata.com/geocode/v1/json: ERROR - 401 Client Error: Unauthorized for url: http://api.opencagedata.com/geocode/v1/json?query=M6C%2C+Toronto%2C+Ontario&key=13aa077d21ae42f287ec8607e07b2159&limit=1\n"
     ]
    },
    {
     "name": "stdout",
     "output_type": "stream",
     "text": [
      "Trying for M6C\n"
     ]
    },
    {
     "name": "stderr",
     "output_type": "stream",
     "text": [
      "Status code 401 from http://api.opencagedata.com/geocode/v1/json: ERROR - 401 Client Error: Unauthorized for url: http://api.opencagedata.com/geocode/v1/json?query=M6C%2C+Toronto%2C+Ontario&key=13aa077d21ae42f287ec8607e07b2159&limit=1\n"
     ]
    },
    {
     "name": "stdout",
     "output_type": "stream",
     "text": [
      "Trying for M6C\n"
     ]
    },
    {
     "name": "stderr",
     "output_type": "stream",
     "text": [
      "Status code 401 from http://api.opencagedata.com/geocode/v1/json: ERROR - 401 Client Error: Unauthorized for url: http://api.opencagedata.com/geocode/v1/json?query=M6C%2C+Toronto%2C+Ontario&key=13aa077d21ae42f287ec8607e07b2159&limit=1\n"
     ]
    },
    {
     "name": "stdout",
     "output_type": "stream",
     "text": [
      "Trying for M6C\n"
     ]
    },
    {
     "name": "stderr",
     "output_type": "stream",
     "text": [
      "Status code 401 from http://api.opencagedata.com/geocode/v1/json: ERROR - 401 Client Error: Unauthorized for url: http://api.opencagedata.com/geocode/v1/json?query=M6C%2C+Toronto%2C+Ontario&key=13aa077d21ae42f287ec8607e07b2159&limit=1\n"
     ]
    },
    {
     "name": "stdout",
     "output_type": "stream",
     "text": [
      "Trying for M6C\n"
     ]
    },
    {
     "name": "stderr",
     "output_type": "stream",
     "text": [
      "Status code 401 from http://api.opencagedata.com/geocode/v1/json: ERROR - 401 Client Error: Unauthorized for url: http://api.opencagedata.com/geocode/v1/json?query=M6C%2C+Toronto%2C+Ontario&key=13aa077d21ae42f287ec8607e07b2159&limit=1\n"
     ]
    },
    {
     "name": "stdout",
     "output_type": "stream",
     "text": [
      "Trying for M6C\n"
     ]
    },
    {
     "name": "stderr",
     "output_type": "stream",
     "text": [
      "Status code 401 from http://api.opencagedata.com/geocode/v1/json: ERROR - 401 Client Error: Unauthorized for url: http://api.opencagedata.com/geocode/v1/json?query=M6C%2C+Toronto%2C+Ontario&key=13aa077d21ae42f287ec8607e07b2159&limit=1\n"
     ]
    },
    {
     "name": "stdout",
     "output_type": "stream",
     "text": [
      "Trying for M6C\n"
     ]
    },
    {
     "name": "stderr",
     "output_type": "stream",
     "text": [
      "Status code 401 from http://api.opencagedata.com/geocode/v1/json: ERROR - 401 Client Error: Unauthorized for url: http://api.opencagedata.com/geocode/v1/json?query=M6C%2C+Toronto%2C+Ontario&key=13aa077d21ae42f287ec8607e07b2159&limit=1\n"
     ]
    },
    {
     "name": "stdout",
     "output_type": "stream",
     "text": [
      "Trying for M6C\n"
     ]
    },
    {
     "name": "stderr",
     "output_type": "stream",
     "text": [
      "Status code 401 from http://api.opencagedata.com/geocode/v1/json: ERROR - 401 Client Error: Unauthorized for url: http://api.opencagedata.com/geocode/v1/json?query=M6C%2C+Toronto%2C+Ontario&key=13aa077d21ae42f287ec8607e07b2159&limit=1\n"
     ]
    },
    {
     "name": "stdout",
     "output_type": "stream",
     "text": [
      "Trying for M6C\n"
     ]
    },
    {
     "name": "stderr",
     "output_type": "stream",
     "text": [
      "Status code 401 from http://api.opencagedata.com/geocode/v1/json: ERROR - 401 Client Error: Unauthorized for url: http://api.opencagedata.com/geocode/v1/json?query=M6C%2C+Toronto%2C+Ontario&key=13aa077d21ae42f287ec8607e07b2159&limit=1\n"
     ]
    },
    {
     "name": "stdout",
     "output_type": "stream",
     "text": [
      "Trying for M6C\n"
     ]
    },
    {
     "name": "stderr",
     "output_type": "stream",
     "text": [
      "Status code 401 from http://api.opencagedata.com/geocode/v1/json: ERROR - 401 Client Error: Unauthorized for url: http://api.opencagedata.com/geocode/v1/json?query=M6C%2C+Toronto%2C+Ontario&key=13aa077d21ae42f287ec8607e07b2159&limit=1\n"
     ]
    },
    {
     "name": "stdout",
     "output_type": "stream",
     "text": [
      "Trying for M6C\n"
     ]
    },
    {
     "name": "stderr",
     "output_type": "stream",
     "text": [
      "Status code 401 from http://api.opencagedata.com/geocode/v1/json: ERROR - 401 Client Error: Unauthorized for url: http://api.opencagedata.com/geocode/v1/json?query=M6C%2C+Toronto%2C+Ontario&key=13aa077d21ae42f287ec8607e07b2159&limit=1\n"
     ]
    },
    {
     "name": "stdout",
     "output_type": "stream",
     "text": [
      "Trying for M6C\n"
     ]
    },
    {
     "name": "stderr",
     "output_type": "stream",
     "text": [
      "Status code 401 from http://api.opencagedata.com/geocode/v1/json: ERROR - 401 Client Error: Unauthorized for url: http://api.opencagedata.com/geocode/v1/json?query=M6C%2C+Toronto%2C+Ontario&key=13aa077d21ae42f287ec8607e07b2159&limit=1\n"
     ]
    },
    {
     "name": "stdout",
     "output_type": "stream",
     "text": [
      "Trying for M6C\n"
     ]
    },
    {
     "name": "stderr",
     "output_type": "stream",
     "text": [
      "Status code 401 from http://api.opencagedata.com/geocode/v1/json: ERROR - 401 Client Error: Unauthorized for url: http://api.opencagedata.com/geocode/v1/json?query=M6C%2C+Toronto%2C+Ontario&key=13aa077d21ae42f287ec8607e07b2159&limit=1\n"
     ]
    },
    {
     "name": "stdout",
     "output_type": "stream",
     "text": [
      "Trying for M6C\n"
     ]
    },
    {
     "name": "stderr",
     "output_type": "stream",
     "text": [
      "Status code 401 from http://api.opencagedata.com/geocode/v1/json: ERROR - 401 Client Error: Unauthorized for url: http://api.opencagedata.com/geocode/v1/json?query=M6C%2C+Toronto%2C+Ontario&key=13aa077d21ae42f287ec8607e07b2159&limit=1\n"
     ]
    },
    {
     "name": "stdout",
     "output_type": "stream",
     "text": [
      "Trying for M6C\n"
     ]
    },
    {
     "name": "stderr",
     "output_type": "stream",
     "text": [
      "Status code 401 from http://api.opencagedata.com/geocode/v1/json: ERROR - 401 Client Error: Unauthorized for url: http://api.opencagedata.com/geocode/v1/json?query=M6C%2C+Toronto%2C+Ontario&key=13aa077d21ae42f287ec8607e07b2159&limit=1\n"
     ]
    },
    {
     "name": "stdout",
     "output_type": "stream",
     "text": [
      "Trying for M6C\n"
     ]
    },
    {
     "name": "stderr",
     "output_type": "stream",
     "text": [
      "Status code 401 from http://api.opencagedata.com/geocode/v1/json: ERROR - 401 Client Error: Unauthorized for url: http://api.opencagedata.com/geocode/v1/json?query=M6C%2C+Toronto%2C+Ontario&key=13aa077d21ae42f287ec8607e07b2159&limit=1\n"
     ]
    },
    {
     "name": "stdout",
     "output_type": "stream",
     "text": [
      "Trying for M6C\n"
     ]
    },
    {
     "name": "stderr",
     "output_type": "stream",
     "text": [
      "Status code 401 from http://api.opencagedata.com/geocode/v1/json: ERROR - 401 Client Error: Unauthorized for url: http://api.opencagedata.com/geocode/v1/json?query=M6C%2C+Toronto%2C+Ontario&key=13aa077d21ae42f287ec8607e07b2159&limit=1\n"
     ]
    },
    {
     "name": "stdout",
     "output_type": "stream",
     "text": [
      "Trying for M6C\n"
     ]
    },
    {
     "name": "stderr",
     "output_type": "stream",
     "text": [
      "Status code 401 from http://api.opencagedata.com/geocode/v1/json: ERROR - 401 Client Error: Unauthorized for url: http://api.opencagedata.com/geocode/v1/json?query=M6C%2C+Toronto%2C+Ontario&key=13aa077d21ae42f287ec8607e07b2159&limit=1\n"
     ]
    },
    {
     "name": "stdout",
     "output_type": "stream",
     "text": [
      "Trying for M6C\n"
     ]
    },
    {
     "name": "stderr",
     "output_type": "stream",
     "text": [
      "Status code 401 from http://api.opencagedata.com/geocode/v1/json: ERROR - 401 Client Error: Unauthorized for url: http://api.opencagedata.com/geocode/v1/json?query=M6C%2C+Toronto%2C+Ontario&key=13aa077d21ae42f287ec8607e07b2159&limit=1\n"
     ]
    },
    {
     "name": "stdout",
     "output_type": "stream",
     "text": [
      "Trying for M6C\n"
     ]
    },
    {
     "name": "stderr",
     "output_type": "stream",
     "text": [
      "Status code 401 from http://api.opencagedata.com/geocode/v1/json: ERROR - 401 Client Error: Unauthorized for url: http://api.opencagedata.com/geocode/v1/json?query=M6C%2C+Toronto%2C+Ontario&key=13aa077d21ae42f287ec8607e07b2159&limit=1\n"
     ]
    },
    {
     "name": "stdout",
     "output_type": "stream",
     "text": [
      "Trying for M6C\n"
     ]
    },
    {
     "name": "stderr",
     "output_type": "stream",
     "text": [
      "Status code 401 from http://api.opencagedata.com/geocode/v1/json: ERROR - 401 Client Error: Unauthorized for url: http://api.opencagedata.com/geocode/v1/json?query=M6C%2C+Toronto%2C+Ontario&key=13aa077d21ae42f287ec8607e07b2159&limit=1\n"
     ]
    },
    {
     "name": "stdout",
     "output_type": "stream",
     "text": [
      "Trying for M6C\n"
     ]
    },
    {
     "name": "stderr",
     "output_type": "stream",
     "text": [
      "Status code 401 from http://api.opencagedata.com/geocode/v1/json: ERROR - 401 Client Error: Unauthorized for url: http://api.opencagedata.com/geocode/v1/json?query=M6C%2C+Toronto%2C+Ontario&key=13aa077d21ae42f287ec8607e07b2159&limit=1\n"
     ]
    },
    {
     "name": "stdout",
     "output_type": "stream",
     "text": [
      "Trying for M6C\n"
     ]
    },
    {
     "name": "stderr",
     "output_type": "stream",
     "text": [
      "Status code 401 from http://api.opencagedata.com/geocode/v1/json: ERROR - 401 Client Error: Unauthorized for url: http://api.opencagedata.com/geocode/v1/json?query=M6C%2C+Toronto%2C+Ontario&key=13aa077d21ae42f287ec8607e07b2159&limit=1\n"
     ]
    },
    {
     "name": "stdout",
     "output_type": "stream",
     "text": [
      "Trying for M6C\n"
     ]
    },
    {
     "name": "stderr",
     "output_type": "stream",
     "text": [
      "Status code 401 from http://api.opencagedata.com/geocode/v1/json: ERROR - 401 Client Error: Unauthorized for url: http://api.opencagedata.com/geocode/v1/json?query=M6C%2C+Toronto%2C+Ontario&key=13aa077d21ae42f287ec8607e07b2159&limit=1\n"
     ]
    },
    {
     "name": "stdout",
     "output_type": "stream",
     "text": [
      "Trying for M6C\n"
     ]
    },
    {
     "name": "stderr",
     "output_type": "stream",
     "text": [
      "Status code 401 from http://api.opencagedata.com/geocode/v1/json: ERROR - 401 Client Error: Unauthorized for url: http://api.opencagedata.com/geocode/v1/json?query=M6C%2C+Toronto%2C+Ontario&key=13aa077d21ae42f287ec8607e07b2159&limit=1\n"
     ]
    },
    {
     "name": "stdout",
     "output_type": "stream",
     "text": [
      "Trying for M6C\n"
     ]
    },
    {
     "name": "stderr",
     "output_type": "stream",
     "text": [
      "Status code 401 from http://api.opencagedata.com/geocode/v1/json: ERROR - 401 Client Error: Unauthorized for url: http://api.opencagedata.com/geocode/v1/json?query=M6C%2C+Toronto%2C+Ontario&key=13aa077d21ae42f287ec8607e07b2159&limit=1\n"
     ]
    },
    {
     "name": "stdout",
     "output_type": "stream",
     "text": [
      "Trying for M6C\n"
     ]
    },
    {
     "name": "stderr",
     "output_type": "stream",
     "text": [
      "Status code 401 from http://api.opencagedata.com/geocode/v1/json: ERROR - 401 Client Error: Unauthorized for url: http://api.opencagedata.com/geocode/v1/json?query=M6C%2C+Toronto%2C+Ontario&key=13aa077d21ae42f287ec8607e07b2159&limit=1\n"
     ]
    },
    {
     "name": "stdout",
     "output_type": "stream",
     "text": [
      "Trying for M6C\n"
     ]
    },
    {
     "name": "stderr",
     "output_type": "stream",
     "text": [
      "Status code 401 from http://api.opencagedata.com/geocode/v1/json: ERROR - 401 Client Error: Unauthorized for url: http://api.opencagedata.com/geocode/v1/json?query=M6C%2C+Toronto%2C+Ontario&key=13aa077d21ae42f287ec8607e07b2159&limit=1\n"
     ]
    },
    {
     "name": "stdout",
     "output_type": "stream",
     "text": [
      "Trying for M6C\n"
     ]
    },
    {
     "name": "stderr",
     "output_type": "stream",
     "text": [
      "Status code 401 from http://api.opencagedata.com/geocode/v1/json: ERROR - 401 Client Error: Unauthorized for url: http://api.opencagedata.com/geocode/v1/json?query=M6C%2C+Toronto%2C+Ontario&key=13aa077d21ae42f287ec8607e07b2159&limit=1\n"
     ]
    },
    {
     "name": "stdout",
     "output_type": "stream",
     "text": [
      "Trying for M6C\n"
     ]
    },
    {
     "name": "stderr",
     "output_type": "stream",
     "text": [
      "Status code 401 from http://api.opencagedata.com/geocode/v1/json: ERROR - 401 Client Error: Unauthorized for url: http://api.opencagedata.com/geocode/v1/json?query=M6C%2C+Toronto%2C+Ontario&key=13aa077d21ae42f287ec8607e07b2159&limit=1\n"
     ]
    },
    {
     "name": "stdout",
     "output_type": "stream",
     "text": [
      "Trying for M6C\n"
     ]
    },
    {
     "name": "stderr",
     "output_type": "stream",
     "text": [
      "Status code 401 from http://api.opencagedata.com/geocode/v1/json: ERROR - 401 Client Error: Unauthorized for url: http://api.opencagedata.com/geocode/v1/json?query=M6C%2C+Toronto%2C+Ontario&key=13aa077d21ae42f287ec8607e07b2159&limit=1\n"
     ]
    },
    {
     "name": "stdout",
     "output_type": "stream",
     "text": [
      "Trying for M6C\n"
     ]
    },
    {
     "name": "stderr",
     "output_type": "stream",
     "text": [
      "Status code 401 from http://api.opencagedata.com/geocode/v1/json: ERROR - 401 Client Error: Unauthorized for url: http://api.opencagedata.com/geocode/v1/json?query=M6C%2C+Toronto%2C+Ontario&key=13aa077d21ae42f287ec8607e07b2159&limit=1\n"
     ]
    },
    {
     "name": "stdout",
     "output_type": "stream",
     "text": [
      "Trying for M6C\n"
     ]
    },
    {
     "name": "stderr",
     "output_type": "stream",
     "text": [
      "Status code 401 from http://api.opencagedata.com/geocode/v1/json: ERROR - 401 Client Error: Unauthorized for url: http://api.opencagedata.com/geocode/v1/json?query=M6C%2C+Toronto%2C+Ontario&key=13aa077d21ae42f287ec8607e07b2159&limit=1\n"
     ]
    },
    {
     "name": "stdout",
     "output_type": "stream",
     "text": [
      "Trying for M6C\n"
     ]
    },
    {
     "name": "stderr",
     "output_type": "stream",
     "text": [
      "Status code 401 from http://api.opencagedata.com/geocode/v1/json: ERROR - 401 Client Error: Unauthorized for url: http://api.opencagedata.com/geocode/v1/json?query=M6C%2C+Toronto%2C+Ontario&key=13aa077d21ae42f287ec8607e07b2159&limit=1\n"
     ]
    },
    {
     "name": "stdout",
     "output_type": "stream",
     "text": [
      "Trying for M6C\n"
     ]
    },
    {
     "name": "stderr",
     "output_type": "stream",
     "text": [
      "Status code 401 from http://api.opencagedata.com/geocode/v1/json: ERROR - 401 Client Error: Unauthorized for url: http://api.opencagedata.com/geocode/v1/json?query=M6C%2C+Toronto%2C+Ontario&key=13aa077d21ae42f287ec8607e07b2159&limit=1\n"
     ]
    },
    {
     "name": "stdout",
     "output_type": "stream",
     "text": [
      "Trying for M6C\n"
     ]
    },
    {
     "name": "stderr",
     "output_type": "stream",
     "text": [
      "Status code 401 from http://api.opencagedata.com/geocode/v1/json: ERROR - 401 Client Error: Unauthorized for url: http://api.opencagedata.com/geocode/v1/json?query=M6C%2C+Toronto%2C+Ontario&key=13aa077d21ae42f287ec8607e07b2159&limit=1\n"
     ]
    },
    {
     "name": "stdout",
     "output_type": "stream",
     "text": [
      "Trying for M6C\n"
     ]
    },
    {
     "name": "stderr",
     "output_type": "stream",
     "text": [
      "Status code 401 from http://api.opencagedata.com/geocode/v1/json: ERROR - 401 Client Error: Unauthorized for url: http://api.opencagedata.com/geocode/v1/json?query=M6C%2C+Toronto%2C+Ontario&key=13aa077d21ae42f287ec8607e07b2159&limit=1\n"
     ]
    },
    {
     "name": "stdout",
     "output_type": "stream",
     "text": [
      "Trying for M6C\n"
     ]
    },
    {
     "name": "stderr",
     "output_type": "stream",
     "text": [
      "Status code 401 from http://api.opencagedata.com/geocode/v1/json: ERROR - 401 Client Error: Unauthorized for url: http://api.opencagedata.com/geocode/v1/json?query=M6C%2C+Toronto%2C+Ontario&key=13aa077d21ae42f287ec8607e07b2159&limit=1\n"
     ]
    },
    {
     "name": "stdout",
     "output_type": "stream",
     "text": [
      "Trying for M6C\n"
     ]
    },
    {
     "name": "stderr",
     "output_type": "stream",
     "text": [
      "Status code 401 from http://api.opencagedata.com/geocode/v1/json: ERROR - 401 Client Error: Unauthorized for url: http://api.opencagedata.com/geocode/v1/json?query=M6C%2C+Toronto%2C+Ontario&key=13aa077d21ae42f287ec8607e07b2159&limit=1\n"
     ]
    },
    {
     "name": "stdout",
     "output_type": "stream",
     "text": [
      "Trying for M6C\n"
     ]
    },
    {
     "name": "stderr",
     "output_type": "stream",
     "text": [
      "Status code 401 from http://api.opencagedata.com/geocode/v1/json: ERROR - 401 Client Error: Unauthorized for url: http://api.opencagedata.com/geocode/v1/json?query=M6C%2C+Toronto%2C+Ontario&key=13aa077d21ae42f287ec8607e07b2159&limit=1\n"
     ]
    },
    {
     "name": "stdout",
     "output_type": "stream",
     "text": [
      "Trying for M6C\n"
     ]
    },
    {
     "name": "stderr",
     "output_type": "stream",
     "text": [
      "Status code 401 from http://api.opencagedata.com/geocode/v1/json: ERROR - 401 Client Error: Unauthorized for url: http://api.opencagedata.com/geocode/v1/json?query=M6C%2C+Toronto%2C+Ontario&key=13aa077d21ae42f287ec8607e07b2159&limit=1\n"
     ]
    },
    {
     "name": "stdout",
     "output_type": "stream",
     "text": [
      "Trying for M6C\n"
     ]
    },
    {
     "name": "stderr",
     "output_type": "stream",
     "text": [
      "Status code 401 from http://api.opencagedata.com/geocode/v1/json: ERROR - 401 Client Error: Unauthorized for url: http://api.opencagedata.com/geocode/v1/json?query=M6C%2C+Toronto%2C+Ontario&key=13aa077d21ae42f287ec8607e07b2159&limit=1\n"
     ]
    },
    {
     "name": "stdout",
     "output_type": "stream",
     "text": [
      "Trying for M6C\n"
     ]
    },
    {
     "name": "stderr",
     "output_type": "stream",
     "text": [
      "Status code 401 from http://api.opencagedata.com/geocode/v1/json: ERROR - 401 Client Error: Unauthorized for url: http://api.opencagedata.com/geocode/v1/json?query=M6C%2C+Toronto%2C+Ontario&key=13aa077d21ae42f287ec8607e07b2159&limit=1\n"
     ]
    },
    {
     "name": "stdout",
     "output_type": "stream",
     "text": [
      "Trying for M6C\n"
     ]
    },
    {
     "name": "stderr",
     "output_type": "stream",
     "text": [
      "Status code 401 from http://api.opencagedata.com/geocode/v1/json: ERROR - 401 Client Error: Unauthorized for url: http://api.opencagedata.com/geocode/v1/json?query=M6C%2C+Toronto%2C+Ontario&key=13aa077d21ae42f287ec8607e07b2159&limit=1\n"
     ]
    },
    {
     "name": "stdout",
     "output_type": "stream",
     "text": [
      "Trying for M6C\n"
     ]
    },
    {
     "name": "stderr",
     "output_type": "stream",
     "text": [
      "Status code 401 from http://api.opencagedata.com/geocode/v1/json: ERROR - 401 Client Error: Unauthorized for url: http://api.opencagedata.com/geocode/v1/json?query=M6C%2C+Toronto%2C+Ontario&key=13aa077d21ae42f287ec8607e07b2159&limit=1\n"
     ]
    },
    {
     "name": "stdout",
     "output_type": "stream",
     "text": [
      "Trying for M6C\n"
     ]
    },
    {
     "name": "stderr",
     "output_type": "stream",
     "text": [
      "Status code 401 from http://api.opencagedata.com/geocode/v1/json: ERROR - 401 Client Error: Unauthorized for url: http://api.opencagedata.com/geocode/v1/json?query=M6C%2C+Toronto%2C+Ontario&key=13aa077d21ae42f287ec8607e07b2159&limit=1\n"
     ]
    },
    {
     "name": "stdout",
     "output_type": "stream",
     "text": [
      "Trying for M6C\n"
     ]
    },
    {
     "name": "stderr",
     "output_type": "stream",
     "text": [
      "Status code 401 from http://api.opencagedata.com/geocode/v1/json: ERROR - 401 Client Error: Unauthorized for url: http://api.opencagedata.com/geocode/v1/json?query=M6C%2C+Toronto%2C+Ontario&key=13aa077d21ae42f287ec8607e07b2159&limit=1\n"
     ]
    },
    {
     "name": "stdout",
     "output_type": "stream",
     "text": [
      "Trying for M6C\n"
     ]
    },
    {
     "name": "stderr",
     "output_type": "stream",
     "text": [
      "Status code 401 from http://api.opencagedata.com/geocode/v1/json: ERROR - 401 Client Error: Unauthorized for url: http://api.opencagedata.com/geocode/v1/json?query=M6C%2C+Toronto%2C+Ontario&key=13aa077d21ae42f287ec8607e07b2159&limit=1\n"
     ]
    },
    {
     "name": "stdout",
     "output_type": "stream",
     "text": [
      "Trying for M6C\n"
     ]
    },
    {
     "name": "stderr",
     "output_type": "stream",
     "text": [
      "Status code 401 from http://api.opencagedata.com/geocode/v1/json: ERROR - 401 Client Error: Unauthorized for url: http://api.opencagedata.com/geocode/v1/json?query=M6C%2C+Toronto%2C+Ontario&key=13aa077d21ae42f287ec8607e07b2159&limit=1\n"
     ]
    },
    {
     "name": "stdout",
     "output_type": "stream",
     "text": [
      "Trying for M6C\n"
     ]
    },
    {
     "name": "stderr",
     "output_type": "stream",
     "text": [
      "Status code 401 from http://api.opencagedata.com/geocode/v1/json: ERROR - 401 Client Error: Unauthorized for url: http://api.opencagedata.com/geocode/v1/json?query=M6C%2C+Toronto%2C+Ontario&key=13aa077d21ae42f287ec8607e07b2159&limit=1\n"
     ]
    },
    {
     "name": "stdout",
     "output_type": "stream",
     "text": [
      "Trying for M6C\n"
     ]
    },
    {
     "name": "stderr",
     "output_type": "stream",
     "text": [
      "Status code 401 from http://api.opencagedata.com/geocode/v1/json: ERROR - 401 Client Error: Unauthorized for url: http://api.opencagedata.com/geocode/v1/json?query=M6C%2C+Toronto%2C+Ontario&key=13aa077d21ae42f287ec8607e07b2159&limit=1\n"
     ]
    },
    {
     "name": "stdout",
     "output_type": "stream",
     "text": [
      "Trying for M6C\n"
     ]
    },
    {
     "name": "stderr",
     "output_type": "stream",
     "text": [
      "Status code 401 from http://api.opencagedata.com/geocode/v1/json: ERROR - 401 Client Error: Unauthorized for url: http://api.opencagedata.com/geocode/v1/json?query=M6C%2C+Toronto%2C+Ontario&key=13aa077d21ae42f287ec8607e07b2159&limit=1\n"
     ]
    },
    {
     "name": "stdout",
     "output_type": "stream",
     "text": [
      "Trying for M6C\n"
     ]
    },
    {
     "name": "stderr",
     "output_type": "stream",
     "text": [
      "Status code 401 from http://api.opencagedata.com/geocode/v1/json: ERROR - 401 Client Error: Unauthorized for url: http://api.opencagedata.com/geocode/v1/json?query=M6C%2C+Toronto%2C+Ontario&key=13aa077d21ae42f287ec8607e07b2159&limit=1\n"
     ]
    },
    {
     "name": "stdout",
     "output_type": "stream",
     "text": [
      "Trying for M6C\n"
     ]
    },
    {
     "name": "stderr",
     "output_type": "stream",
     "text": [
      "Status code 401 from http://api.opencagedata.com/geocode/v1/json: ERROR - 401 Client Error: Unauthorized for url: http://api.opencagedata.com/geocode/v1/json?query=M6C%2C+Toronto%2C+Ontario&key=13aa077d21ae42f287ec8607e07b2159&limit=1\n"
     ]
    },
    {
     "name": "stdout",
     "output_type": "stream",
     "text": [
      "Trying for M6C\n"
     ]
    },
    {
     "name": "stderr",
     "output_type": "stream",
     "text": [
      "Status code 401 from http://api.opencagedata.com/geocode/v1/json: ERROR - 401 Client Error: Unauthorized for url: http://api.opencagedata.com/geocode/v1/json?query=M6C%2C+Toronto%2C+Ontario&key=13aa077d21ae42f287ec8607e07b2159&limit=1\n"
     ]
    },
    {
     "name": "stdout",
     "output_type": "stream",
     "text": [
      "Trying for M6C\n"
     ]
    },
    {
     "name": "stderr",
     "output_type": "stream",
     "text": [
      "Status code 401 from http://api.opencagedata.com/geocode/v1/json: ERROR - 401 Client Error: Unauthorized for url: http://api.opencagedata.com/geocode/v1/json?query=M6C%2C+Toronto%2C+Ontario&key=13aa077d21ae42f287ec8607e07b2159&limit=1\n"
     ]
    },
    {
     "name": "stdout",
     "output_type": "stream",
     "text": [
      "Trying for M6C\n"
     ]
    },
    {
     "name": "stderr",
     "output_type": "stream",
     "text": [
      "Status code 401 from http://api.opencagedata.com/geocode/v1/json: ERROR - 401 Client Error: Unauthorized for url: http://api.opencagedata.com/geocode/v1/json?query=M6C%2C+Toronto%2C+Ontario&key=13aa077d21ae42f287ec8607e07b2159&limit=1\n"
     ]
    },
    {
     "name": "stdout",
     "output_type": "stream",
     "text": [
      "Trying for M6C\n"
     ]
    },
    {
     "name": "stderr",
     "output_type": "stream",
     "text": [
      "Status code 401 from http://api.opencagedata.com/geocode/v1/json: ERROR - 401 Client Error: Unauthorized for url: http://api.opencagedata.com/geocode/v1/json?query=M6C%2C+Toronto%2C+Ontario&key=13aa077d21ae42f287ec8607e07b2159&limit=1\n"
     ]
    },
    {
     "name": "stdout",
     "output_type": "stream",
     "text": [
      "Trying for M6C\n"
     ]
    },
    {
     "name": "stderr",
     "output_type": "stream",
     "text": [
      "Status code 401 from http://api.opencagedata.com/geocode/v1/json: ERROR - 401 Client Error: Unauthorized for url: http://api.opencagedata.com/geocode/v1/json?query=M6C%2C+Toronto%2C+Ontario&key=13aa077d21ae42f287ec8607e07b2159&limit=1\n"
     ]
    },
    {
     "name": "stdout",
     "output_type": "stream",
     "text": [
      "Trying for M6C\n"
     ]
    },
    {
     "name": "stderr",
     "output_type": "stream",
     "text": [
      "Status code 401 from http://api.opencagedata.com/geocode/v1/json: ERROR - 401 Client Error: Unauthorized for url: http://api.opencagedata.com/geocode/v1/json?query=M6C%2C+Toronto%2C+Ontario&key=13aa077d21ae42f287ec8607e07b2159&limit=1\n"
     ]
    },
    {
     "name": "stdout",
     "output_type": "stream",
     "text": [
      "Trying for M6C\n"
     ]
    },
    {
     "name": "stderr",
     "output_type": "stream",
     "text": [
      "Status code 401 from http://api.opencagedata.com/geocode/v1/json: ERROR - 401 Client Error: Unauthorized for url: http://api.opencagedata.com/geocode/v1/json?query=M6C%2C+Toronto%2C+Ontario&key=13aa077d21ae42f287ec8607e07b2159&limit=1\n"
     ]
    },
    {
     "name": "stdout",
     "output_type": "stream",
     "text": [
      "Trying for M6C\n"
     ]
    },
    {
     "name": "stderr",
     "output_type": "stream",
     "text": [
      "Status code 401 from http://api.opencagedata.com/geocode/v1/json: ERROR - 401 Client Error: Unauthorized for url: http://api.opencagedata.com/geocode/v1/json?query=M6C%2C+Toronto%2C+Ontario&key=13aa077d21ae42f287ec8607e07b2159&limit=1\n"
     ]
    },
    {
     "name": "stdout",
     "output_type": "stream",
     "text": [
      "Trying for M6C\n"
     ]
    },
    {
     "name": "stderr",
     "output_type": "stream",
     "text": [
      "Status code 401 from http://api.opencagedata.com/geocode/v1/json: ERROR - 401 Client Error: Unauthorized for url: http://api.opencagedata.com/geocode/v1/json?query=M6C%2C+Toronto%2C+Ontario&key=13aa077d21ae42f287ec8607e07b2159&limit=1\n"
     ]
    },
    {
     "name": "stdout",
     "output_type": "stream",
     "text": [
      "Trying for M6C\n"
     ]
    },
    {
     "name": "stderr",
     "output_type": "stream",
     "text": [
      "Status code 401 from http://api.opencagedata.com/geocode/v1/json: ERROR - 401 Client Error: Unauthorized for url: http://api.opencagedata.com/geocode/v1/json?query=M6C%2C+Toronto%2C+Ontario&key=13aa077d21ae42f287ec8607e07b2159&limit=1\n"
     ]
    },
    {
     "name": "stdout",
     "output_type": "stream",
     "text": [
      "Trying for M6C\n"
     ]
    },
    {
     "name": "stderr",
     "output_type": "stream",
     "text": [
      "Status code 401 from http://api.opencagedata.com/geocode/v1/json: ERROR - 401 Client Error: Unauthorized for url: http://api.opencagedata.com/geocode/v1/json?query=M6C%2C+Toronto%2C+Ontario&key=13aa077d21ae42f287ec8607e07b2159&limit=1\n"
     ]
    },
    {
     "name": "stdout",
     "output_type": "stream",
     "text": [
      "Trying for M6C\n"
     ]
    },
    {
     "name": "stderr",
     "output_type": "stream",
     "text": [
      "Status code 401 from http://api.opencagedata.com/geocode/v1/json: ERROR - 401 Client Error: Unauthorized for url: http://api.opencagedata.com/geocode/v1/json?query=M6C%2C+Toronto%2C+Ontario&key=13aa077d21ae42f287ec8607e07b2159&limit=1\n"
     ]
    },
    {
     "name": "stdout",
     "output_type": "stream",
     "text": [
      "Trying for M6C\n"
     ]
    },
    {
     "name": "stderr",
     "output_type": "stream",
     "text": [
      "Status code 401 from http://api.opencagedata.com/geocode/v1/json: ERROR - 401 Client Error: Unauthorized for url: http://api.opencagedata.com/geocode/v1/json?query=M6C%2C+Toronto%2C+Ontario&key=13aa077d21ae42f287ec8607e07b2159&limit=1\n"
     ]
    },
    {
     "name": "stdout",
     "output_type": "stream",
     "text": [
      "Trying for M6C\n"
     ]
    },
    {
     "name": "stderr",
     "output_type": "stream",
     "text": [
      "Status code 401 from http://api.opencagedata.com/geocode/v1/json: ERROR - 401 Client Error: Unauthorized for url: http://api.opencagedata.com/geocode/v1/json?query=M6C%2C+Toronto%2C+Ontario&key=13aa077d21ae42f287ec8607e07b2159&limit=1\n"
     ]
    },
    {
     "name": "stdout",
     "output_type": "stream",
     "text": [
      "Trying for M6C\n"
     ]
    },
    {
     "name": "stderr",
     "output_type": "stream",
     "text": [
      "Status code 401 from http://api.opencagedata.com/geocode/v1/json: ERROR - 401 Client Error: Unauthorized for url: http://api.opencagedata.com/geocode/v1/json?query=M6C%2C+Toronto%2C+Ontario&key=13aa077d21ae42f287ec8607e07b2159&limit=1\n"
     ]
    },
    {
     "name": "stdout",
     "output_type": "stream",
     "text": [
      "Trying for M6C\n"
     ]
    },
    {
     "name": "stderr",
     "output_type": "stream",
     "text": [
      "Status code 401 from http://api.opencagedata.com/geocode/v1/json: ERROR - 401 Client Error: Unauthorized for url: http://api.opencagedata.com/geocode/v1/json?query=M6C%2C+Toronto%2C+Ontario&key=13aa077d21ae42f287ec8607e07b2159&limit=1\n"
     ]
    },
    {
     "name": "stdout",
     "output_type": "stream",
     "text": [
      "Trying for M6C\n"
     ]
    },
    {
     "name": "stderr",
     "output_type": "stream",
     "text": [
      "Status code 401 from http://api.opencagedata.com/geocode/v1/json: ERROR - 401 Client Error: Unauthorized for url: http://api.opencagedata.com/geocode/v1/json?query=M6C%2C+Toronto%2C+Ontario&key=13aa077d21ae42f287ec8607e07b2159&limit=1\n"
     ]
    },
    {
     "name": "stdout",
     "output_type": "stream",
     "text": [
      "Trying for M6C\n"
     ]
    },
    {
     "name": "stderr",
     "output_type": "stream",
     "text": [
      "Status code 401 from http://api.opencagedata.com/geocode/v1/json: ERROR - 401 Client Error: Unauthorized for url: http://api.opencagedata.com/geocode/v1/json?query=M6C%2C+Toronto%2C+Ontario&key=13aa077d21ae42f287ec8607e07b2159&limit=1\n"
     ]
    },
    {
     "name": "stdout",
     "output_type": "stream",
     "text": [
      "Trying for M6C\n"
     ]
    },
    {
     "name": "stderr",
     "output_type": "stream",
     "text": [
      "Status code 401 from http://api.opencagedata.com/geocode/v1/json: ERROR - 401 Client Error: Unauthorized for url: http://api.opencagedata.com/geocode/v1/json?query=M6C%2C+Toronto%2C+Ontario&key=13aa077d21ae42f287ec8607e07b2159&limit=1\n"
     ]
    },
    {
     "name": "stdout",
     "output_type": "stream",
     "text": [
      "Trying for M6C\n"
     ]
    },
    {
     "name": "stderr",
     "output_type": "stream",
     "text": [
      "Status code 401 from http://api.opencagedata.com/geocode/v1/json: ERROR - 401 Client Error: Unauthorized for url: http://api.opencagedata.com/geocode/v1/json?query=M6C%2C+Toronto%2C+Ontario&key=13aa077d21ae42f287ec8607e07b2159&limit=1\n"
     ]
    },
    {
     "name": "stdout",
     "output_type": "stream",
     "text": [
      "Trying for M6C\n"
     ]
    },
    {
     "name": "stderr",
     "output_type": "stream",
     "text": [
      "Status code 401 from http://api.opencagedata.com/geocode/v1/json: ERROR - 401 Client Error: Unauthorized for url: http://api.opencagedata.com/geocode/v1/json?query=M6C%2C+Toronto%2C+Ontario&key=13aa077d21ae42f287ec8607e07b2159&limit=1\n"
     ]
    },
    {
     "name": "stdout",
     "output_type": "stream",
     "text": [
      "Trying for M6C\n"
     ]
    },
    {
     "name": "stderr",
     "output_type": "stream",
     "text": [
      "Status code 401 from http://api.opencagedata.com/geocode/v1/json: ERROR - 401 Client Error: Unauthorized for url: http://api.opencagedata.com/geocode/v1/json?query=M6C%2C+Toronto%2C+Ontario&key=13aa077d21ae42f287ec8607e07b2159&limit=1\n"
     ]
    },
    {
     "name": "stdout",
     "output_type": "stream",
     "text": [
      "Trying for M6C\n"
     ]
    },
    {
     "name": "stderr",
     "output_type": "stream",
     "text": [
      "Status code 401 from http://api.opencagedata.com/geocode/v1/json: ERROR - 401 Client Error: Unauthorized for url: http://api.opencagedata.com/geocode/v1/json?query=M6C%2C+Toronto%2C+Ontario&key=13aa077d21ae42f287ec8607e07b2159&limit=1\n"
     ]
    },
    {
     "name": "stdout",
     "output_type": "stream",
     "text": [
      "Trying for M6C\n"
     ]
    },
    {
     "name": "stderr",
     "output_type": "stream",
     "text": [
      "Status code 401 from http://api.opencagedata.com/geocode/v1/json: ERROR - 401 Client Error: Unauthorized for url: http://api.opencagedata.com/geocode/v1/json?query=M6C%2C+Toronto%2C+Ontario&key=13aa077d21ae42f287ec8607e07b2159&limit=1\n"
     ]
    },
    {
     "name": "stdout",
     "output_type": "stream",
     "text": [
      "Trying for M6C\n"
     ]
    },
    {
     "name": "stderr",
     "output_type": "stream",
     "text": [
      "Status code 401 from http://api.opencagedata.com/geocode/v1/json: ERROR - 401 Client Error: Unauthorized for url: http://api.opencagedata.com/geocode/v1/json?query=M6C%2C+Toronto%2C+Ontario&key=13aa077d21ae42f287ec8607e07b2159&limit=1\n"
     ]
    },
    {
     "name": "stdout",
     "output_type": "stream",
     "text": [
      "Trying for M6C\n"
     ]
    },
    {
     "name": "stderr",
     "output_type": "stream",
     "text": [
      "Status code 401 from http://api.opencagedata.com/geocode/v1/json: ERROR - 401 Client Error: Unauthorized for url: http://api.opencagedata.com/geocode/v1/json?query=M6C%2C+Toronto%2C+Ontario&key=13aa077d21ae42f287ec8607e07b2159&limit=1\n"
     ]
    },
    {
     "name": "stdout",
     "output_type": "stream",
     "text": [
      "Trying for M6C\n"
     ]
    },
    {
     "name": "stderr",
     "output_type": "stream",
     "text": [
      "Status code 401 from http://api.opencagedata.com/geocode/v1/json: ERROR - 401 Client Error: Unauthorized for url: http://api.opencagedata.com/geocode/v1/json?query=M6C%2C+Toronto%2C+Ontario&key=13aa077d21ae42f287ec8607e07b2159&limit=1\n"
     ]
    },
    {
     "name": "stdout",
     "output_type": "stream",
     "text": [
      "Trying for M6C\n"
     ]
    },
    {
     "name": "stderr",
     "output_type": "stream",
     "text": [
      "Status code 401 from http://api.opencagedata.com/geocode/v1/json: ERROR - 401 Client Error: Unauthorized for url: http://api.opencagedata.com/geocode/v1/json?query=M6C%2C+Toronto%2C+Ontario&key=13aa077d21ae42f287ec8607e07b2159&limit=1\n"
     ]
    },
    {
     "name": "stdout",
     "output_type": "stream",
     "text": [
      "Trying for M6C\n"
     ]
    },
    {
     "name": "stderr",
     "output_type": "stream",
     "text": [
      "Status code 401 from http://api.opencagedata.com/geocode/v1/json: ERROR - 401 Client Error: Unauthorized for url: http://api.opencagedata.com/geocode/v1/json?query=M6C%2C+Toronto%2C+Ontario&key=13aa077d21ae42f287ec8607e07b2159&limit=1\n"
     ]
    },
    {
     "name": "stdout",
     "output_type": "stream",
     "text": [
      "Trying for M6C\n"
     ]
    },
    {
     "name": "stderr",
     "output_type": "stream",
     "text": [
      "Status code 401 from http://api.opencagedata.com/geocode/v1/json: ERROR - 401 Client Error: Unauthorized for url: http://api.opencagedata.com/geocode/v1/json?query=M6C%2C+Toronto%2C+Ontario&key=13aa077d21ae42f287ec8607e07b2159&limit=1\n"
     ]
    },
    {
     "name": "stdout",
     "output_type": "stream",
     "text": [
      "Trying for M6C\n"
     ]
    },
    {
     "name": "stderr",
     "output_type": "stream",
     "text": [
      "Status code 401 from http://api.opencagedata.com/geocode/v1/json: ERROR - 401 Client Error: Unauthorized for url: http://api.opencagedata.com/geocode/v1/json?query=M6C%2C+Toronto%2C+Ontario&key=13aa077d21ae42f287ec8607e07b2159&limit=1\n"
     ]
    },
    {
     "name": "stdout",
     "output_type": "stream",
     "text": [
      "Trying for M6C\n"
     ]
    },
    {
     "name": "stderr",
     "output_type": "stream",
     "text": [
      "Status code 401 from http://api.opencagedata.com/geocode/v1/json: ERROR - 401 Client Error: Unauthorized for url: http://api.opencagedata.com/geocode/v1/json?query=M6C%2C+Toronto%2C+Ontario&key=13aa077d21ae42f287ec8607e07b2159&limit=1\n"
     ]
    },
    {
     "name": "stdout",
     "output_type": "stream",
     "text": [
      "Trying for M6C\n"
     ]
    },
    {
     "name": "stderr",
     "output_type": "stream",
     "text": [
      "Status code 401 from http://api.opencagedata.com/geocode/v1/json: ERROR - 401 Client Error: Unauthorized for url: http://api.opencagedata.com/geocode/v1/json?query=M6C%2C+Toronto%2C+Ontario&key=13aa077d21ae42f287ec8607e07b2159&limit=1\n"
     ]
    },
    {
     "name": "stdout",
     "output_type": "stream",
     "text": [
      "Trying for M6C\n"
     ]
    },
    {
     "name": "stderr",
     "output_type": "stream",
     "text": [
      "Status code 401 from http://api.opencagedata.com/geocode/v1/json: ERROR - 401 Client Error: Unauthorized for url: http://api.opencagedata.com/geocode/v1/json?query=M6C%2C+Toronto%2C+Ontario&key=13aa077d21ae42f287ec8607e07b2159&limit=1\n"
     ]
    },
    {
     "name": "stdout",
     "output_type": "stream",
     "text": [
      "Trying for M6C\n"
     ]
    },
    {
     "name": "stderr",
     "output_type": "stream",
     "text": [
      "Status code 401 from http://api.opencagedata.com/geocode/v1/json: ERROR - 401 Client Error: Unauthorized for url: http://api.opencagedata.com/geocode/v1/json?query=M6C%2C+Toronto%2C+Ontario&key=13aa077d21ae42f287ec8607e07b2159&limit=1\n"
     ]
    },
    {
     "name": "stdout",
     "output_type": "stream",
     "text": [
      "Trying for M6C\n"
     ]
    },
    {
     "name": "stderr",
     "output_type": "stream",
     "text": [
      "Status code 401 from http://api.opencagedata.com/geocode/v1/json: ERROR - 401 Client Error: Unauthorized for url: http://api.opencagedata.com/geocode/v1/json?query=M6C%2C+Toronto%2C+Ontario&key=13aa077d21ae42f287ec8607e07b2159&limit=1\n"
     ]
    },
    {
     "name": "stdout",
     "output_type": "stream",
     "text": [
      "Trying for M6C\n"
     ]
    },
    {
     "name": "stderr",
     "output_type": "stream",
     "text": [
      "Status code 401 from http://api.opencagedata.com/geocode/v1/json: ERROR - 401 Client Error: Unauthorized for url: http://api.opencagedata.com/geocode/v1/json?query=M6C%2C+Toronto%2C+Ontario&key=13aa077d21ae42f287ec8607e07b2159&limit=1\n"
     ]
    },
    {
     "name": "stdout",
     "output_type": "stream",
     "text": [
      "Trying for M6C\n"
     ]
    },
    {
     "name": "stderr",
     "output_type": "stream",
     "text": [
      "Status code 401 from http://api.opencagedata.com/geocode/v1/json: ERROR - 401 Client Error: Unauthorized for url: http://api.opencagedata.com/geocode/v1/json?query=M6C%2C+Toronto%2C+Ontario&key=13aa077d21ae42f287ec8607e07b2159&limit=1\n"
     ]
    },
    {
     "name": "stdout",
     "output_type": "stream",
     "text": [
      "Trying for M6C\n"
     ]
    },
    {
     "name": "stderr",
     "output_type": "stream",
     "text": [
      "Status code 401 from http://api.opencagedata.com/geocode/v1/json: ERROR - 401 Client Error: Unauthorized for url: http://api.opencagedata.com/geocode/v1/json?query=M6C%2C+Toronto%2C+Ontario&key=13aa077d21ae42f287ec8607e07b2159&limit=1\n"
     ]
    },
    {
     "name": "stdout",
     "output_type": "stream",
     "text": [
      "Trying for M6C\n"
     ]
    },
    {
     "name": "stderr",
     "output_type": "stream",
     "text": [
      "Status code 401 from http://api.opencagedata.com/geocode/v1/json: ERROR - 401 Client Error: Unauthorized for url: http://api.opencagedata.com/geocode/v1/json?query=M6C%2C+Toronto%2C+Ontario&key=13aa077d21ae42f287ec8607e07b2159&limit=1\n"
     ]
    },
    {
     "name": "stdout",
     "output_type": "stream",
     "text": [
      "Trying for M6C\n"
     ]
    },
    {
     "name": "stderr",
     "output_type": "stream",
     "text": [
      "Status code 401 from http://api.opencagedata.com/geocode/v1/json: ERROR - 401 Client Error: Unauthorized for url: http://api.opencagedata.com/geocode/v1/json?query=M6C%2C+Toronto%2C+Ontario&key=13aa077d21ae42f287ec8607e07b2159&limit=1\n"
     ]
    },
    {
     "name": "stdout",
     "output_type": "stream",
     "text": [
      "Trying for M6C\n"
     ]
    },
    {
     "name": "stderr",
     "output_type": "stream",
     "text": [
      "Status code 401 from http://api.opencagedata.com/geocode/v1/json: ERROR - 401 Client Error: Unauthorized for url: http://api.opencagedata.com/geocode/v1/json?query=M6C%2C+Toronto%2C+Ontario&key=13aa077d21ae42f287ec8607e07b2159&limit=1\n"
     ]
    },
    {
     "name": "stdout",
     "output_type": "stream",
     "text": [
      "Trying for M6C\n"
     ]
    },
    {
     "name": "stderr",
     "output_type": "stream",
     "text": [
      "Status code 401 from http://api.opencagedata.com/geocode/v1/json: ERROR - 401 Client Error: Unauthorized for url: http://api.opencagedata.com/geocode/v1/json?query=M6C%2C+Toronto%2C+Ontario&key=13aa077d21ae42f287ec8607e07b2159&limit=1\n"
     ]
    },
    {
     "name": "stdout",
     "output_type": "stream",
     "text": [
      "Trying for M6C\n"
     ]
    },
    {
     "name": "stderr",
     "output_type": "stream",
     "text": [
      "Status code 401 from http://api.opencagedata.com/geocode/v1/json: ERROR - 401 Client Error: Unauthorized for url: http://api.opencagedata.com/geocode/v1/json?query=M6C%2C+Toronto%2C+Ontario&key=13aa077d21ae42f287ec8607e07b2159&limit=1\n"
     ]
    },
    {
     "name": "stdout",
     "output_type": "stream",
     "text": [
      "Trying for M6C\n"
     ]
    },
    {
     "name": "stderr",
     "output_type": "stream",
     "text": [
      "Status code 401 from http://api.opencagedata.com/geocode/v1/json: ERROR - 401 Client Error: Unauthorized for url: http://api.opencagedata.com/geocode/v1/json?query=M6C%2C+Toronto%2C+Ontario&key=13aa077d21ae42f287ec8607e07b2159&limit=1\n"
     ]
    },
    {
     "name": "stdout",
     "output_type": "stream",
     "text": [
      "Trying for M6C\n"
     ]
    },
    {
     "name": "stderr",
     "output_type": "stream",
     "text": [
      "Status code 401 from http://api.opencagedata.com/geocode/v1/json: ERROR - 401 Client Error: Unauthorized for url: http://api.opencagedata.com/geocode/v1/json?query=M6C%2C+Toronto%2C+Ontario&key=13aa077d21ae42f287ec8607e07b2159&limit=1\n"
     ]
    },
    {
     "name": "stdout",
     "output_type": "stream",
     "text": [
      "Trying for M6C\n"
     ]
    },
    {
     "name": "stderr",
     "output_type": "stream",
     "text": [
      "Status code 401 from http://api.opencagedata.com/geocode/v1/json: ERROR - 401 Client Error: Unauthorized for url: http://api.opencagedata.com/geocode/v1/json?query=M6C%2C+Toronto%2C+Ontario&key=13aa077d21ae42f287ec8607e07b2159&limit=1\n"
     ]
    },
    {
     "name": "stdout",
     "output_type": "stream",
     "text": [
      "Trying for M6C\n"
     ]
    },
    {
     "name": "stderr",
     "output_type": "stream",
     "text": [
      "Status code 401 from http://api.opencagedata.com/geocode/v1/json: ERROR - 401 Client Error: Unauthorized for url: http://api.opencagedata.com/geocode/v1/json?query=M6C%2C+Toronto%2C+Ontario&key=13aa077d21ae42f287ec8607e07b2159&limit=1\n"
     ]
    },
    {
     "name": "stdout",
     "output_type": "stream",
     "text": [
      "Trying for M6C\n"
     ]
    },
    {
     "name": "stderr",
     "output_type": "stream",
     "text": [
      "Status code 401 from http://api.opencagedata.com/geocode/v1/json: ERROR - 401 Client Error: Unauthorized for url: http://api.opencagedata.com/geocode/v1/json?query=M6C%2C+Toronto%2C+Ontario&key=13aa077d21ae42f287ec8607e07b2159&limit=1\n"
     ]
    },
    {
     "name": "stdout",
     "output_type": "stream",
     "text": [
      "Trying for M6C\n"
     ]
    },
    {
     "name": "stderr",
     "output_type": "stream",
     "text": [
      "Status code 401 from http://api.opencagedata.com/geocode/v1/json: ERROR - 401 Client Error: Unauthorized for url: http://api.opencagedata.com/geocode/v1/json?query=M6C%2C+Toronto%2C+Ontario&key=13aa077d21ae42f287ec8607e07b2159&limit=1\n"
     ]
    },
    {
     "name": "stdout",
     "output_type": "stream",
     "text": [
      "Trying for M6C\n"
     ]
    },
    {
     "name": "stderr",
     "output_type": "stream",
     "text": [
      "Status code 401 from http://api.opencagedata.com/geocode/v1/json: ERROR - 401 Client Error: Unauthorized for url: http://api.opencagedata.com/geocode/v1/json?query=M6C%2C+Toronto%2C+Ontario&key=13aa077d21ae42f287ec8607e07b2159&limit=1\n"
     ]
    },
    {
     "name": "stdout",
     "output_type": "stream",
     "text": [
      "Trying for M6C\n"
     ]
    },
    {
     "name": "stderr",
     "output_type": "stream",
     "text": [
      "Status code 401 from http://api.opencagedata.com/geocode/v1/json: ERROR - 401 Client Error: Unauthorized for url: http://api.opencagedata.com/geocode/v1/json?query=M6C%2C+Toronto%2C+Ontario&key=13aa077d21ae42f287ec8607e07b2159&limit=1\n"
     ]
    },
    {
     "name": "stdout",
     "output_type": "stream",
     "text": [
      "Trying for M6C\n"
     ]
    },
    {
     "name": "stderr",
     "output_type": "stream",
     "text": [
      "Status code 401 from http://api.opencagedata.com/geocode/v1/json: ERROR - 401 Client Error: Unauthorized for url: http://api.opencagedata.com/geocode/v1/json?query=M6C%2C+Toronto%2C+Ontario&key=13aa077d21ae42f287ec8607e07b2159&limit=1\n"
     ]
    },
    {
     "name": "stdout",
     "output_type": "stream",
     "text": [
      "Trying for M6C\n"
     ]
    },
    {
     "name": "stderr",
     "output_type": "stream",
     "text": [
      "Status code 401 from http://api.opencagedata.com/geocode/v1/json: ERROR - 401 Client Error: Unauthorized for url: http://api.opencagedata.com/geocode/v1/json?query=M6C%2C+Toronto%2C+Ontario&key=13aa077d21ae42f287ec8607e07b2159&limit=1\n"
     ]
    },
    {
     "name": "stdout",
     "output_type": "stream",
     "text": [
      "Trying for M6C\n"
     ]
    },
    {
     "name": "stderr",
     "output_type": "stream",
     "text": [
      "Status code 401 from http://api.opencagedata.com/geocode/v1/json: ERROR - 401 Client Error: Unauthorized for url: http://api.opencagedata.com/geocode/v1/json?query=M6C%2C+Toronto%2C+Ontario&key=13aa077d21ae42f287ec8607e07b2159&limit=1\n"
     ]
    },
    {
     "name": "stdout",
     "output_type": "stream",
     "text": [
      "Trying for M6C\n"
     ]
    },
    {
     "name": "stderr",
     "output_type": "stream",
     "text": [
      "Status code 401 from http://api.opencagedata.com/geocode/v1/json: ERROR - 401 Client Error: Unauthorized for url: http://api.opencagedata.com/geocode/v1/json?query=M6C%2C+Toronto%2C+Ontario&key=13aa077d21ae42f287ec8607e07b2159&limit=1\n"
     ]
    },
    {
     "name": "stdout",
     "output_type": "stream",
     "text": [
      "Trying for M6C\n"
     ]
    },
    {
     "name": "stderr",
     "output_type": "stream",
     "text": [
      "Status code 401 from http://api.opencagedata.com/geocode/v1/json: ERROR - 401 Client Error: Unauthorized for url: http://api.opencagedata.com/geocode/v1/json?query=M6C%2C+Toronto%2C+Ontario&key=13aa077d21ae42f287ec8607e07b2159&limit=1\n"
     ]
    },
    {
     "name": "stdout",
     "output_type": "stream",
     "text": [
      "Trying for M6C\n"
     ]
    },
    {
     "name": "stderr",
     "output_type": "stream",
     "text": [
      "Status code 401 from http://api.opencagedata.com/geocode/v1/json: ERROR - 401 Client Error: Unauthorized for url: http://api.opencagedata.com/geocode/v1/json?query=M6C%2C+Toronto%2C+Ontario&key=13aa077d21ae42f287ec8607e07b2159&limit=1\n"
     ]
    },
    {
     "name": "stdout",
     "output_type": "stream",
     "text": [
      "Trying for M6C\n"
     ]
    },
    {
     "name": "stderr",
     "output_type": "stream",
     "text": [
      "Status code 401 from http://api.opencagedata.com/geocode/v1/json: ERROR - 401 Client Error: Unauthorized for url: http://api.opencagedata.com/geocode/v1/json?query=M6C%2C+Toronto%2C+Ontario&key=13aa077d21ae42f287ec8607e07b2159&limit=1\n"
     ]
    },
    {
     "name": "stdout",
     "output_type": "stream",
     "text": [
      "Trying for M6C\n"
     ]
    },
    {
     "name": "stderr",
     "output_type": "stream",
     "text": [
      "Status code 401 from http://api.opencagedata.com/geocode/v1/json: ERROR - 401 Client Error: Unauthorized for url: http://api.opencagedata.com/geocode/v1/json?query=M6C%2C+Toronto%2C+Ontario&key=13aa077d21ae42f287ec8607e07b2159&limit=1\n"
     ]
    },
    {
     "name": "stdout",
     "output_type": "stream",
     "text": [
      "Trying for M6C\n"
     ]
    },
    {
     "name": "stderr",
     "output_type": "stream",
     "text": [
      "Status code 401 from http://api.opencagedata.com/geocode/v1/json: ERROR - 401 Client Error: Unauthorized for url: http://api.opencagedata.com/geocode/v1/json?query=M6C%2C+Toronto%2C+Ontario&key=13aa077d21ae42f287ec8607e07b2159&limit=1\n"
     ]
    },
    {
     "name": "stdout",
     "output_type": "stream",
     "text": [
      "Trying for M6C\n"
     ]
    },
    {
     "name": "stderr",
     "output_type": "stream",
     "text": [
      "Status code 401 from http://api.opencagedata.com/geocode/v1/json: ERROR - 401 Client Error: Unauthorized for url: http://api.opencagedata.com/geocode/v1/json?query=M6C%2C+Toronto%2C+Ontario&key=13aa077d21ae42f287ec8607e07b2159&limit=1\n"
     ]
    },
    {
     "name": "stdout",
     "output_type": "stream",
     "text": [
      "Trying for M6C\n"
     ]
    },
    {
     "name": "stderr",
     "output_type": "stream",
     "text": [
      "Status code 401 from http://api.opencagedata.com/geocode/v1/json: ERROR - 401 Client Error: Unauthorized for url: http://api.opencagedata.com/geocode/v1/json?query=M6C%2C+Toronto%2C+Ontario&key=13aa077d21ae42f287ec8607e07b2159&limit=1\n"
     ]
    },
    {
     "name": "stdout",
     "output_type": "stream",
     "text": [
      "Trying for M6C\n"
     ]
    },
    {
     "name": "stderr",
     "output_type": "stream",
     "text": [
      "Status code 401 from http://api.opencagedata.com/geocode/v1/json: ERROR - 401 Client Error: Unauthorized for url: http://api.opencagedata.com/geocode/v1/json?query=M6C%2C+Toronto%2C+Ontario&key=13aa077d21ae42f287ec8607e07b2159&limit=1\n"
     ]
    },
    {
     "name": "stdout",
     "output_type": "stream",
     "text": [
      "Trying for M6C\n"
     ]
    },
    {
     "name": "stderr",
     "output_type": "stream",
     "text": [
      "Status code 401 from http://api.opencagedata.com/geocode/v1/json: ERROR - 401 Client Error: Unauthorized for url: http://api.opencagedata.com/geocode/v1/json?query=M6C%2C+Toronto%2C+Ontario&key=13aa077d21ae42f287ec8607e07b2159&limit=1\n"
     ]
    },
    {
     "name": "stdout",
     "output_type": "stream",
     "text": [
      "Trying for M6C\n"
     ]
    },
    {
     "name": "stderr",
     "output_type": "stream",
     "text": [
      "Status code 401 from http://api.opencagedata.com/geocode/v1/json: ERROR - 401 Client Error: Unauthorized for url: http://api.opencagedata.com/geocode/v1/json?query=M6C%2C+Toronto%2C+Ontario&key=13aa077d21ae42f287ec8607e07b2159&limit=1\n"
     ]
    },
    {
     "name": "stdout",
     "output_type": "stream",
     "text": [
      "Trying for M6C\n"
     ]
    },
    {
     "name": "stderr",
     "output_type": "stream",
     "text": [
      "Status code 401 from http://api.opencagedata.com/geocode/v1/json: ERROR - 401 Client Error: Unauthorized for url: http://api.opencagedata.com/geocode/v1/json?query=M6C%2C+Toronto%2C+Ontario&key=13aa077d21ae42f287ec8607e07b2159&limit=1\n"
     ]
    },
    {
     "name": "stdout",
     "output_type": "stream",
     "text": [
      "Trying for M6C\n"
     ]
    },
    {
     "name": "stderr",
     "output_type": "stream",
     "text": [
      "Status code 401 from http://api.opencagedata.com/geocode/v1/json: ERROR - 401 Client Error: Unauthorized for url: http://api.opencagedata.com/geocode/v1/json?query=M6C%2C+Toronto%2C+Ontario&key=13aa077d21ae42f287ec8607e07b2159&limit=1\n"
     ]
    },
    {
     "name": "stdout",
     "output_type": "stream",
     "text": [
      "Trying for M6C\n"
     ]
    },
    {
     "name": "stderr",
     "output_type": "stream",
     "text": [
      "Status code 401 from http://api.opencagedata.com/geocode/v1/json: ERROR - 401 Client Error: Unauthorized for url: http://api.opencagedata.com/geocode/v1/json?query=M6C%2C+Toronto%2C+Ontario&key=13aa077d21ae42f287ec8607e07b2159&limit=1\n"
     ]
    },
    {
     "name": "stdout",
     "output_type": "stream",
     "text": [
      "Trying for M6C\n"
     ]
    },
    {
     "name": "stderr",
     "output_type": "stream",
     "text": [
      "Status code 401 from http://api.opencagedata.com/geocode/v1/json: ERROR - 401 Client Error: Unauthorized for url: http://api.opencagedata.com/geocode/v1/json?query=M6C%2C+Toronto%2C+Ontario&key=13aa077d21ae42f287ec8607e07b2159&limit=1\n"
     ]
    },
    {
     "name": "stdout",
     "output_type": "stream",
     "text": [
      "Trying for M6C\n"
     ]
    },
    {
     "name": "stderr",
     "output_type": "stream",
     "text": [
      "Status code 401 from http://api.opencagedata.com/geocode/v1/json: ERROR - 401 Client Error: Unauthorized for url: http://api.opencagedata.com/geocode/v1/json?query=M6C%2C+Toronto%2C+Ontario&key=13aa077d21ae42f287ec8607e07b2159&limit=1\n"
     ]
    },
    {
     "name": "stdout",
     "output_type": "stream",
     "text": [
      "Trying for M6C\n"
     ]
    },
    {
     "name": "stderr",
     "output_type": "stream",
     "text": [
      "Status code 401 from http://api.opencagedata.com/geocode/v1/json: ERROR - 401 Client Error: Unauthorized for url: http://api.opencagedata.com/geocode/v1/json?query=M6C%2C+Toronto%2C+Ontario&key=13aa077d21ae42f287ec8607e07b2159&limit=1\n"
     ]
    },
    {
     "name": "stdout",
     "output_type": "stream",
     "text": [
      "Trying for M6C\n"
     ]
    },
    {
     "name": "stderr",
     "output_type": "stream",
     "text": [
      "Status code 401 from http://api.opencagedata.com/geocode/v1/json: ERROR - 401 Client Error: Unauthorized for url: http://api.opencagedata.com/geocode/v1/json?query=M6C%2C+Toronto%2C+Ontario&key=13aa077d21ae42f287ec8607e07b2159&limit=1\n"
     ]
    },
    {
     "name": "stdout",
     "output_type": "stream",
     "text": [
      "Trying for M6C\n"
     ]
    },
    {
     "name": "stderr",
     "output_type": "stream",
     "text": [
      "Status code 401 from http://api.opencagedata.com/geocode/v1/json: ERROR - 401 Client Error: Unauthorized for url: http://api.opencagedata.com/geocode/v1/json?query=M6C%2C+Toronto%2C+Ontario&key=13aa077d21ae42f287ec8607e07b2159&limit=1\n"
     ]
    },
    {
     "name": "stdout",
     "output_type": "stream",
     "text": [
      "Trying for M6C\n"
     ]
    },
    {
     "name": "stderr",
     "output_type": "stream",
     "text": [
      "Status code 401 from http://api.opencagedata.com/geocode/v1/json: ERROR - 401 Client Error: Unauthorized for url: http://api.opencagedata.com/geocode/v1/json?query=M6C%2C+Toronto%2C+Ontario&key=13aa077d21ae42f287ec8607e07b2159&limit=1\n"
     ]
    },
    {
     "name": "stdout",
     "output_type": "stream",
     "text": [
      "Trying for M6C\n"
     ]
    },
    {
     "name": "stderr",
     "output_type": "stream",
     "text": [
      "Status code 401 from http://api.opencagedata.com/geocode/v1/json: ERROR - 401 Client Error: Unauthorized for url: http://api.opencagedata.com/geocode/v1/json?query=M6C%2C+Toronto%2C+Ontario&key=13aa077d21ae42f287ec8607e07b2159&limit=1\n"
     ]
    },
    {
     "name": "stdout",
     "output_type": "stream",
     "text": [
      "Trying for M6C\n"
     ]
    },
    {
     "name": "stderr",
     "output_type": "stream",
     "text": [
      "Status code 401 from http://api.opencagedata.com/geocode/v1/json: ERROR - 401 Client Error: Unauthorized for url: http://api.opencagedata.com/geocode/v1/json?query=M6C%2C+Toronto%2C+Ontario&key=13aa077d21ae42f287ec8607e07b2159&limit=1\n"
     ]
    },
    {
     "name": "stdout",
     "output_type": "stream",
     "text": [
      "Trying for M6C\n"
     ]
    },
    {
     "name": "stderr",
     "output_type": "stream",
     "text": [
      "Status code 401 from http://api.opencagedata.com/geocode/v1/json: ERROR - 401 Client Error: Unauthorized for url: http://api.opencagedata.com/geocode/v1/json?query=M6C%2C+Toronto%2C+Ontario&key=13aa077d21ae42f287ec8607e07b2159&limit=1\n"
     ]
    },
    {
     "name": "stdout",
     "output_type": "stream",
     "text": [
      "Trying for M6C\n"
     ]
    },
    {
     "name": "stderr",
     "output_type": "stream",
     "text": [
      "Status code 401 from http://api.opencagedata.com/geocode/v1/json: ERROR - 401 Client Error: Unauthorized for url: http://api.opencagedata.com/geocode/v1/json?query=M6C%2C+Toronto%2C+Ontario&key=13aa077d21ae42f287ec8607e07b2159&limit=1\n"
     ]
    },
    {
     "name": "stdout",
     "output_type": "stream",
     "text": [
      "Trying for M6C\n"
     ]
    },
    {
     "name": "stderr",
     "output_type": "stream",
     "text": [
      "Status code 401 from http://api.opencagedata.com/geocode/v1/json: ERROR - 401 Client Error: Unauthorized for url: http://api.opencagedata.com/geocode/v1/json?query=M6C%2C+Toronto%2C+Ontario&key=13aa077d21ae42f287ec8607e07b2159&limit=1\n"
     ]
    },
    {
     "name": "stdout",
     "output_type": "stream",
     "text": [
      "Trying for M6C\n"
     ]
    },
    {
     "name": "stderr",
     "output_type": "stream",
     "text": [
      "Status code 401 from http://api.opencagedata.com/geocode/v1/json: ERROR - 401 Client Error: Unauthorized for url: http://api.opencagedata.com/geocode/v1/json?query=M6C%2C+Toronto%2C+Ontario&key=13aa077d21ae42f287ec8607e07b2159&limit=1\n"
     ]
    },
    {
     "name": "stdout",
     "output_type": "stream",
     "text": [
      "Trying for M6C\n"
     ]
    },
    {
     "name": "stderr",
     "output_type": "stream",
     "text": [
      "Status code 401 from http://api.opencagedata.com/geocode/v1/json: ERROR - 401 Client Error: Unauthorized for url: http://api.opencagedata.com/geocode/v1/json?query=M6C%2C+Toronto%2C+Ontario&key=13aa077d21ae42f287ec8607e07b2159&limit=1\n"
     ]
    },
    {
     "name": "stdout",
     "output_type": "stream",
     "text": [
      "Trying for M6C\n"
     ]
    },
    {
     "name": "stderr",
     "output_type": "stream",
     "text": [
      "Status code 401 from http://api.opencagedata.com/geocode/v1/json: ERROR - 401 Client Error: Unauthorized for url: http://api.opencagedata.com/geocode/v1/json?query=M6C%2C+Toronto%2C+Ontario&key=13aa077d21ae42f287ec8607e07b2159&limit=1\n"
     ]
    },
    {
     "name": "stdout",
     "output_type": "stream",
     "text": [
      "Trying for M6C\n"
     ]
    },
    {
     "name": "stderr",
     "output_type": "stream",
     "text": [
      "Status code 401 from http://api.opencagedata.com/geocode/v1/json: ERROR - 401 Client Error: Unauthorized for url: http://api.opencagedata.com/geocode/v1/json?query=M6C%2C+Toronto%2C+Ontario&key=13aa077d21ae42f287ec8607e07b2159&limit=1\n"
     ]
    },
    {
     "name": "stdout",
     "output_type": "stream",
     "text": [
      "Trying for M6C\n"
     ]
    },
    {
     "name": "stderr",
     "output_type": "stream",
     "text": [
      "Status code 401 from http://api.opencagedata.com/geocode/v1/json: ERROR - 401 Client Error: Unauthorized for url: http://api.opencagedata.com/geocode/v1/json?query=M6C%2C+Toronto%2C+Ontario&key=13aa077d21ae42f287ec8607e07b2159&limit=1\n"
     ]
    },
    {
     "name": "stdout",
     "output_type": "stream",
     "text": [
      "Trying for M6C\n"
     ]
    },
    {
     "name": "stderr",
     "output_type": "stream",
     "text": [
      "Status code 401 from http://api.opencagedata.com/geocode/v1/json: ERROR - 401 Client Error: Unauthorized for url: http://api.opencagedata.com/geocode/v1/json?query=M6C%2C+Toronto%2C+Ontario&key=13aa077d21ae42f287ec8607e07b2159&limit=1\n"
     ]
    },
    {
     "name": "stdout",
     "output_type": "stream",
     "text": [
      "Trying for M6C\n"
     ]
    },
    {
     "name": "stderr",
     "output_type": "stream",
     "text": [
      "Status code 401 from http://api.opencagedata.com/geocode/v1/json: ERROR - 401 Client Error: Unauthorized for url: http://api.opencagedata.com/geocode/v1/json?query=M6C%2C+Toronto%2C+Ontario&key=13aa077d21ae42f287ec8607e07b2159&limit=1\n"
     ]
    },
    {
     "name": "stdout",
     "output_type": "stream",
     "text": [
      "Trying for M6C\n"
     ]
    },
    {
     "name": "stderr",
     "output_type": "stream",
     "text": [
      "Status code 401 from http://api.opencagedata.com/geocode/v1/json: ERROR - 401 Client Error: Unauthorized for url: http://api.opencagedata.com/geocode/v1/json?query=M6C%2C+Toronto%2C+Ontario&key=13aa077d21ae42f287ec8607e07b2159&limit=1\n"
     ]
    },
    {
     "name": "stdout",
     "output_type": "stream",
     "text": [
      "Trying for M6C\n"
     ]
    },
    {
     "name": "stderr",
     "output_type": "stream",
     "text": [
      "Status code 401 from http://api.opencagedata.com/geocode/v1/json: ERROR - 401 Client Error: Unauthorized for url: http://api.opencagedata.com/geocode/v1/json?query=M6C%2C+Toronto%2C+Ontario&key=13aa077d21ae42f287ec8607e07b2159&limit=1\n"
     ]
    },
    {
     "name": "stdout",
     "output_type": "stream",
     "text": [
      "Trying for M6C\n"
     ]
    },
    {
     "name": "stderr",
     "output_type": "stream",
     "text": [
      "Status code 401 from http://api.opencagedata.com/geocode/v1/json: ERROR - 401 Client Error: Unauthorized for url: http://api.opencagedata.com/geocode/v1/json?query=M6C%2C+Toronto%2C+Ontario&key=13aa077d21ae42f287ec8607e07b2159&limit=1\n"
     ]
    },
    {
     "name": "stdout",
     "output_type": "stream",
     "text": [
      "Trying for M6C\n"
     ]
    },
    {
     "name": "stderr",
     "output_type": "stream",
     "text": [
      "Status code 401 from http://api.opencagedata.com/geocode/v1/json: ERROR - 401 Client Error: Unauthorized for url: http://api.opencagedata.com/geocode/v1/json?query=M6C%2C+Toronto%2C+Ontario&key=13aa077d21ae42f287ec8607e07b2159&limit=1\n"
     ]
    },
    {
     "name": "stdout",
     "output_type": "stream",
     "text": [
      "Trying for M6C\n"
     ]
    },
    {
     "name": "stderr",
     "output_type": "stream",
     "text": [
      "Status code 401 from http://api.opencagedata.com/geocode/v1/json: ERROR - 401 Client Error: Unauthorized for url: http://api.opencagedata.com/geocode/v1/json?query=M6C%2C+Toronto%2C+Ontario&key=13aa077d21ae42f287ec8607e07b2159&limit=1\n"
     ]
    },
    {
     "name": "stdout",
     "output_type": "stream",
     "text": [
      "Trying for M6C\n"
     ]
    },
    {
     "name": "stderr",
     "output_type": "stream",
     "text": [
      "Status code 401 from http://api.opencagedata.com/geocode/v1/json: ERROR - 401 Client Error: Unauthorized for url: http://api.opencagedata.com/geocode/v1/json?query=M6C%2C+Toronto%2C+Ontario&key=13aa077d21ae42f287ec8607e07b2159&limit=1\n"
     ]
    },
    {
     "name": "stdout",
     "output_type": "stream",
     "text": [
      "Trying for M6C\n"
     ]
    },
    {
     "name": "stderr",
     "output_type": "stream",
     "text": [
      "Status code 401 from http://api.opencagedata.com/geocode/v1/json: ERROR - 401 Client Error: Unauthorized for url: http://api.opencagedata.com/geocode/v1/json?query=M6C%2C+Toronto%2C+Ontario&key=13aa077d21ae42f287ec8607e07b2159&limit=1\n"
     ]
    },
    {
     "name": "stdout",
     "output_type": "stream",
     "text": [
      "Trying for M6C\n"
     ]
    },
    {
     "name": "stderr",
     "output_type": "stream",
     "text": [
      "Status code 401 from http://api.opencagedata.com/geocode/v1/json: ERROR - 401 Client Error: Unauthorized for url: http://api.opencagedata.com/geocode/v1/json?query=M6C%2C+Toronto%2C+Ontario&key=13aa077d21ae42f287ec8607e07b2159&limit=1\n"
     ]
    },
    {
     "name": "stdout",
     "output_type": "stream",
     "text": [
      "Trying for M6C\n"
     ]
    },
    {
     "name": "stderr",
     "output_type": "stream",
     "text": [
      "Status code 401 from http://api.opencagedata.com/geocode/v1/json: ERROR - 401 Client Error: Unauthorized for url: http://api.opencagedata.com/geocode/v1/json?query=M6C%2C+Toronto%2C+Ontario&key=13aa077d21ae42f287ec8607e07b2159&limit=1\n"
     ]
    },
    {
     "name": "stdout",
     "output_type": "stream",
     "text": [
      "Trying for M6C\n"
     ]
    },
    {
     "name": "stderr",
     "output_type": "stream",
     "text": [
      "Status code 401 from http://api.opencagedata.com/geocode/v1/json: ERROR - 401 Client Error: Unauthorized for url: http://api.opencagedata.com/geocode/v1/json?query=M6C%2C+Toronto%2C+Ontario&key=13aa077d21ae42f287ec8607e07b2159&limit=1\n"
     ]
    },
    {
     "name": "stdout",
     "output_type": "stream",
     "text": [
      "Trying for M6C\n"
     ]
    },
    {
     "name": "stderr",
     "output_type": "stream",
     "text": [
      "Status code 401 from http://api.opencagedata.com/geocode/v1/json: ERROR - 401 Client Error: Unauthorized for url: http://api.opencagedata.com/geocode/v1/json?query=M6C%2C+Toronto%2C+Ontario&key=13aa077d21ae42f287ec8607e07b2159&limit=1\n"
     ]
    },
    {
     "name": "stdout",
     "output_type": "stream",
     "text": [
      "Trying for M6C\n"
     ]
    },
    {
     "name": "stderr",
     "output_type": "stream",
     "text": [
      "Status code 401 from http://api.opencagedata.com/geocode/v1/json: ERROR - 401 Client Error: Unauthorized for url: http://api.opencagedata.com/geocode/v1/json?query=M6C%2C+Toronto%2C+Ontario&key=13aa077d21ae42f287ec8607e07b2159&limit=1\n"
     ]
    },
    {
     "name": "stdout",
     "output_type": "stream",
     "text": [
      "Trying for M6C\n"
     ]
    },
    {
     "name": "stderr",
     "output_type": "stream",
     "text": [
      "Status code 401 from http://api.opencagedata.com/geocode/v1/json: ERROR - 401 Client Error: Unauthorized for url: http://api.opencagedata.com/geocode/v1/json?query=M6C%2C+Toronto%2C+Ontario&key=13aa077d21ae42f287ec8607e07b2159&limit=1\n"
     ]
    },
    {
     "name": "stdout",
     "output_type": "stream",
     "text": [
      "Trying for M6C\n",
      "M6C, done\n"
     ]
    }
   ],
   "source": [
    "\n",
    "# Search for the Latitude and Longitude of each postal code\n",
    "for postal_code in postal_codes:\n",
    "    # initialize your variable to None\n",
    "    lat_lng_coords = None\n",
    "\n",
    "    # loop until you get the coordinates\n",
    "    print('{}, Toronto, Ontario'.format(postal_code))\n",
    "    while(lat_lng_coords is None):\n",
    "        print('Trying for {}'.format(postal_code))\n",
    "        # g = geocoder.google('{}, Toronto, Ontario'.format(postal_code))\n",
    "        g = geocoder.opencage('{}, Toronto, Ontario'.format(postal_code), key='13aa077d21ae42f287ec8607e07b2159')\n",
    "        lat_lng_coords = g.latlng\n",
    "\n",
    "    print('{}, done'.format(postal_code))\n",
    "    latitude = lat_lng_coords[0]\n",
    "    longitude = lat_lng_coords[1]\n",
    "    \n",
    "    df2.loc[df2.PostalCode == postal_code, 'Latitude'] = latitude\n",
    "    df2.loc[df2.PostalCode == postal_code, 'Longitude'] = longitude"
   ]
  },
  {
   "cell_type": "markdown",
   "metadata": {},
   "source": [
    "#### Print the updated dataframe"
   ]
  },
  {
   "cell_type": "code",
   "execution_count": 20,
   "metadata": {},
   "outputs": [
    {
     "data": {
      "text/html": [
       "<div>\n",
       "<style scoped>\n",
       "    .dataframe tbody tr th:only-of-type {\n",
       "        vertical-align: middle;\n",
       "    }\n",
       "\n",
       "    .dataframe tbody tr th {\n",
       "        vertical-align: top;\n",
       "    }\n",
       "\n",
       "    .dataframe thead th {\n",
       "        text-align: right;\n",
       "    }\n",
       "</style>\n",
       "<table border=\"1\" class=\"dataframe\">\n",
       "  <thead>\n",
       "    <tr style=\"text-align: right;\">\n",
       "      <th></th>\n",
       "      <th>PostalCode</th>\n",
       "      <th>Borough</th>\n",
       "      <th>Neighbourhood</th>\n",
       "      <th>Latitude</th>\n",
       "      <th>Longitude</th>\n",
       "    </tr>\n",
       "  </thead>\n",
       "  <tbody>\n",
       "    <tr>\n",
       "      <th>0</th>\n",
       "      <td>M4N</td>\n",
       "      <td>Central Toronto</td>\n",
       "      <td>Lawrence Park,Roselawn,Davisville North,Forest...</td>\n",
       "      <td>43.730100</td>\n",
       "      <td>-79.393500</td>\n",
       "    </tr>\n",
       "    <tr>\n",
       "      <th>1</th>\n",
       "      <td>M5A</td>\n",
       "      <td>Downtown Toronto</td>\n",
       "      <td>Harbourfront,Queen's Park,Ryerson,Garden Distr...</td>\n",
       "      <td>43.655500</td>\n",
       "      <td>-79.362600</td>\n",
       "    </tr>\n",
       "    <tr>\n",
       "      <th>2</th>\n",
       "      <td>M4E</td>\n",
       "      <td>East Toronto</td>\n",
       "      <td>The Beaches,The Danforth West,Riverdale,The Be...</td>\n",
       "      <td>43.678400</td>\n",
       "      <td>-79.294100</td>\n",
       "    </tr>\n",
       "    <tr>\n",
       "      <th>3</th>\n",
       "      <td>M4B</td>\n",
       "      <td>East York</td>\n",
       "      <td>Woodbine Gardens,Parkview Hill,Woodbine Height...</td>\n",
       "      <td>43.706300</td>\n",
       "      <td>-79.309400</td>\n",
       "    </tr>\n",
       "    <tr>\n",
       "      <th>4</th>\n",
       "      <td>M9B</td>\n",
       "      <td>Etobicoke</td>\n",
       "      <td>Cloverdale,Islington,Martin Grove,Princess Gar...</td>\n",
       "      <td>43.640741</td>\n",
       "      <td>-79.541902</td>\n",
       "    </tr>\n",
       "    <tr>\n",
       "      <th>5</th>\n",
       "      <td>M7R</td>\n",
       "      <td>Mississauga</td>\n",
       "      <td>Canada Post Gateway Processing Centre</td>\n",
       "      <td>43.653963</td>\n",
       "      <td>-79.387207</td>\n",
       "    </tr>\n",
       "    <tr>\n",
       "      <th>6</th>\n",
       "      <td>M3A</td>\n",
       "      <td>North York</td>\n",
       "      <td>Parkwoods,Victoria Village,Lawrence Heights,La...</td>\n",
       "      <td>43.653963</td>\n",
       "      <td>-79.387207</td>\n",
       "    </tr>\n",
       "    <tr>\n",
       "      <th>7</th>\n",
       "      <td>M9A</td>\n",
       "      <td>Queen's Park</td>\n",
       "      <td>Queen's Park</td>\n",
       "      <td>43.666200</td>\n",
       "      <td>-79.528200</td>\n",
       "    </tr>\n",
       "    <tr>\n",
       "      <th>8</th>\n",
       "      <td>M1B</td>\n",
       "      <td>Scarborough</td>\n",
       "      <td>Rouge,Malvern,Highland Creek,Rouge Hill,Port U...</td>\n",
       "      <td>43.653963</td>\n",
       "      <td>-79.387207</td>\n",
       "    </tr>\n",
       "    <tr>\n",
       "      <th>9</th>\n",
       "      <td>M6H</td>\n",
       "      <td>West Toronto</td>\n",
       "      <td>Dovercourt Village,Dufferin,Little Portugal,Tr...</td>\n",
       "      <td>43.665500</td>\n",
       "      <td>-79.437800</td>\n",
       "    </tr>\n",
       "    <tr>\n",
       "      <th>10</th>\n",
       "      <td>M6C</td>\n",
       "      <td>York</td>\n",
       "      <td>Humewood-Cedarvale,Caledonia-Fairbanks,Del Ray...</td>\n",
       "      <td>43.691500</td>\n",
       "      <td>-79.430700</td>\n",
       "    </tr>\n",
       "  </tbody>\n",
       "</table>\n",
       "</div>"
      ],
      "text/plain": [
       "   PostalCode           Borough  \\\n",
       "0         M4N   Central Toronto   \n",
       "1         M5A  Downtown Toronto   \n",
       "2         M4E      East Toronto   \n",
       "3         M4B         East York   \n",
       "4         M9B         Etobicoke   \n",
       "5         M7R       Mississauga   \n",
       "6         M3A        North York   \n",
       "7         M9A      Queen's Park   \n",
       "8         M1B       Scarborough   \n",
       "9         M6H      West Toronto   \n",
       "10        M6C              York   \n",
       "\n",
       "                                        Neighbourhood   Latitude  Longitude  \n",
       "0   Lawrence Park,Roselawn,Davisville North,Forest...  43.730100 -79.393500  \n",
       "1   Harbourfront,Queen's Park,Ryerson,Garden Distr...  43.655500 -79.362600  \n",
       "2   The Beaches,The Danforth West,Riverdale,The Be...  43.678400 -79.294100  \n",
       "3   Woodbine Gardens,Parkview Hill,Woodbine Height...  43.706300 -79.309400  \n",
       "4   Cloverdale,Islington,Martin Grove,Princess Gar...  43.640741 -79.541902  \n",
       "5               Canada Post Gateway Processing Centre  43.653963 -79.387207  \n",
       "6   Parkwoods,Victoria Village,Lawrence Heights,La...  43.653963 -79.387207  \n",
       "7                                        Queen's Park  43.666200 -79.528200  \n",
       "8   Rouge,Malvern,Highland Creek,Rouge Hill,Port U...  43.653963 -79.387207  \n",
       "9   Dovercourt Village,Dufferin,Little Portugal,Tr...  43.665500 -79.437800  \n",
       "10  Humewood-Cedarvale,Caledonia-Fairbanks,Del Ray...  43.691500 -79.430700  "
      ]
     },
     "execution_count": 20,
     "metadata": {},
     "output_type": "execute_result"
    }
   ],
   "source": [
    "df2"
   ]
  },
  {
   "cell_type": "markdown",
   "metadata": {},
   "source": [
    "10. Import the required libraries to explore and draw a folium map"
   ]
  },
  {
   "cell_type": "code",
   "execution_count": 22,
   "metadata": {
    "scrolled": true
   },
   "outputs": [
    {
     "name": "stdout",
     "output_type": "stream",
     "text": [
      "Collecting package metadata (current_repodata.json): done\n",
      "Solving environment: done\n",
      "\n",
      "# All requested packages already installed.\n",
      "\n",
      "Collecting package metadata (current_repodata.json): done\n",
      "Solving environment: failed with initial frozen solve. Retrying with flexible solve.\n",
      "Collecting package metadata (repodata.json): done\n",
      "Solving environment: done\n",
      "\n",
      "## Package Plan ##\n",
      "\n",
      "  environment location: /Users/sakthi/opt/anaconda3\n",
      "\n",
      "  added / updated specs:\n",
      "    - folium=0.5.0\n",
      "\n",
      "\n",
      "The following packages will be downloaded:\n",
      "\n",
      "    package                    |            build\n",
      "    ---------------------------|-----------------\n",
      "    altair-4.0.1               |             py_0         575 KB  conda-forge\n",
      "    branca-0.3.1               |             py_0          25 KB  conda-forge\n",
      "    folium-0.5.0               |             py_0          45 KB  conda-forge\n",
      "    vincent-0.4.4              |             py_1          28 KB  conda-forge\n",
      "    ------------------------------------------------------------\n",
      "                                           Total:         673 KB\n",
      "\n",
      "The following NEW packages will be INSTALLED:\n",
      "\n",
      "  altair             conda-forge/noarch::altair-4.0.1-py_0\n",
      "  branca             conda-forge/noarch::branca-0.3.1-py_0\n",
      "  folium             conda-forge/noarch::folium-0.5.0-py_0\n",
      "  vincent            conda-forge/noarch::vincent-0.4.4-py_1\n",
      "\n",
      "\n",
      "\n",
      "Downloading and Extracting Packages\n",
      "branca-0.3.1         | 25 KB     | ##################################### | 100% \n",
      "altair-4.0.1         | 575 KB    | ##################################### | 100% \n",
      "folium-0.5.0         | 45 KB     | ##################################### | 100% \n",
      "vincent-0.4.4        | 28 KB     | ##################################### | 100% \n",
      "Preparing transaction: done\n",
      "Verifying transaction: done\n",
      "Executing transaction: done\n",
      "Libraries imported.\n"
     ]
    }
   ],
   "source": [
    "import numpy as np # library to handle data in a vectorized manner\n",
    "\n",
    "import pandas as pd # library for data analsysis\n",
    "pd.set_option('display.max_columns', None)\n",
    "pd.set_option('display.max_rows', None)\n",
    "\n",
    "import json # library to handle JSON files\n",
    "\n",
    "!conda install -c conda-forge geopy --yes # uncomment this line if you haven't completed the Foursquare API lab\n",
    "from geopy.geocoders import Nominatim # convert an address into latitude and longitude values\n",
    "\n",
    "import requests # library to handle requests\n",
    "from pandas.io.json import json_normalize # tranform JSON file into a pandas dataframe\n",
    "\n",
    "# Matplotlib and associated plotting modules\n",
    "import matplotlib.cm as cm\n",
    "import matplotlib.colors as colors\n",
    "\n",
    "# import k-means from clustering stage\n",
    "from sklearn.cluster import KMeans\n",
    "\n",
    "!conda install -c conda-forge folium=0.5.0 --yes # uncomment this line if you haven't completed the Foursquare API lab\n",
    "import folium # map rendering library\n",
    "\n",
    "print('Libraries imported.')"
   ]
  },
  {
   "cell_type": "code",
   "execution_count": 23,
   "metadata": {},
   "outputs": [
    {
     "name": "stdout",
     "output_type": "stream",
     "text": [
      "The dataframe has 11 boroughs and 11 neighborhoods.\n"
     ]
    }
   ],
   "source": [
    "print('The dataframe has {} boroughs and {} neighborhoods.'.format(\n",
    "        len(df2['Borough'].unique()),\n",
    "        df2.shape[0]\n",
    "    )\n",
    ")"
   ]
  },
  {
   "cell_type": "code",
   "execution_count": 24,
   "metadata": {},
   "outputs": [
    {
     "name": "stdout",
     "output_type": "stream",
     "text": [
      "The geograpical coordinate of Toronto, Canada are 43.653963, -79.387207.\n"
     ]
    }
   ],
   "source": [
    "address = 'Toronto, Canada'\n",
    "\n",
    "geolocator = Nominatim(user_agent=\"tc_explorer\")\n",
    "location = geolocator.geocode(address)\n",
    "latitude = location.latitude\n",
    "longitude = location.longitude\n",
    "print('The geograpical coordinate of Toronto, Canada are {}, {}.'.format(latitude, longitude))"
   ]
  },
  {
   "cell_type": "code",
   "execution_count": 26,
   "metadata": {},
   "outputs": [
    {
     "data": {
      "text/html": [
       "<div style=\"width:100%;\"><div style=\"position:relative;width:100%;height:0;padding-bottom:60%;\"><iframe src=\"data:text/html;charset=utf-8;base64,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\" style=\"position:absolute;width:100%;height:100%;left:0;top:0;border:none !important;\" allowfullscreen webkitallowfullscreen mozallowfullscreen></iframe></div></div>"
      ],
      "text/plain": [
       "<folium.folium.Map at 0x1a2152af50>"
      ]
     },
     "execution_count": 26,
     "metadata": {},
     "output_type": "execute_result"
    }
   ],
   "source": [
    "# create map of Manhattan using latitude and longitude values\n",
    "map_toronto = folium.Map(location=[latitude, longitude], zoom_start=11)\n",
    "\n",
    "# add markers to map\n",
    "for lat, lng, label in zip(df2['Latitude'], df2['Longitude'], df2['Neighbourhood']):\n",
    "    label = folium.Popup(label, parse_html=True)\n",
    "    folium.CircleMarker(\n",
    "        [lat, lng],\n",
    "        radius=5,\n",
    "        popup=label,\n",
    "        color='blue',\n",
    "        fill=True,\n",
    "        fill_color='#3186cc',\n",
    "        fill_opacity=0.7,\n",
    "        parse_html=False).add_to(map_toronto)  \n",
    "    \n",
    "map_toronto"
   ]
  },
  {
   "cell_type": "code",
   "execution_count": 27,
   "metadata": {},
   "outputs": [
    {
     "name": "stdout",
     "output_type": "stream",
     "text": [
      "Your credentails:\n",
      "CLIENT_ID: 153D4BSGW1NP1XLVV21HF3F1WZBFT4ARD0JV0CVT2VO0JGEQ\n",
      "CLIENT_SECRET:VO0CAB0TGN5FUNDWGRAODZHT15U0C1IKPUSUZIWU2ORN2AFC\n"
     ]
    }
   ],
   "source": [
    "CLIENT_ID = '153D4BSGW1NP1XLVV21HF3F1WZBFT4ARD0JV0CVT2VO0JGEQ' # your Foursquare ID\n",
    "CLIENT_SECRET = 'VO0CAB0TGN5FUNDWGRAODZHT15U0C1IKPUSUZIWU2ORN2AFC' # your Foursquare Secret\n",
    "VERSION = '20180605' # Foursquare API version\n",
    "\n",
    "print('Your credentails:')\n",
    "print('CLIENT_ID: ' + CLIENT_ID)\n",
    "print('CLIENT_SECRET:' + CLIENT_SECRET)"
   ]
  },
  {
   "cell_type": "code",
   "execution_count": 28,
   "metadata": {},
   "outputs": [
    {
     "data": {
      "text/plain": [
       "'Lawrence Park,Roselawn,Davisville North,Forest Hill North,Forest Hill West,North Toronto West,The Annex,North Midtown,Yorkville,Davisville,Moore Park,Summerhill East,Deer Park,Forest Hill SE,Rathnelly,South Hill,Summerhill West'"
      ]
     },
     "execution_count": 28,
     "metadata": {},
     "output_type": "execute_result"
    }
   ],
   "source": [
    "df2.loc[0, 'Neighbourhood']"
   ]
  },
  {
   "cell_type": "code",
   "execution_count": 30,
   "metadata": {},
   "outputs": [
    {
     "name": "stdout",
     "output_type": "stream",
     "text": [
      "Latitude and longitude values of Lawrence Park,Roselawn,Davisville North,Forest Hill North,Forest Hill West,North Toronto West,The Annex,North Midtown,Yorkville,Davisville,Moore Park,Summerhill East,Deer Park,Forest Hill SE,Rathnelly,South Hill,Summerhill West are 43.7301, -79.3935.\n"
     ]
    }
   ],
   "source": [
    "neighborhood_latitude = df2.loc[0, 'Latitude'] # neighborhood latitude value\n",
    "neighborhood_longitude = df2.loc[0, 'Longitude'] # neighborhood longitude value\n",
    "\n",
    "neighborhood_name = df2.loc[0, 'Neighbourhood'] # neighborhood name\n",
    "\n",
    "print('Latitude and longitude values of {} are {}, {}.'.format(neighborhood_name, \n",
    "                                                               neighborhood_latitude, \n",
    "                                                               neighborhood_longitude))"
   ]
  },
  {
   "cell_type": "markdown",
   "metadata": {},
   "source": [
    "### Prepare url "
   ]
  },
  {
   "cell_type": "code",
   "execution_count": 31,
   "metadata": {},
   "outputs": [
    {
     "data": {
      "text/plain": [
       "'https://api.foursquare.com/v2/venues/explore?&client_id=153D4BSGW1NP1XLVV21HF3F1WZBFT4ARD0JV0CVT2VO0JGEQ&client_secret=VO0CAB0TGN5FUNDWGRAODZHT15U0C1IKPUSUZIWU2ORN2AFC&v=20180605&ll=43.7301,-79.3935&radius=500&limit=100'"
      ]
     },
     "execution_count": 31,
     "metadata": {},
     "output_type": "execute_result"
    }
   ],
   "source": [
    "LIMIT = 100 # limit of number of venues returned by Foursquare API\n",
    "radius = 500 # define radius\n",
    "url = 'https://api.foursquare.com/v2/venues/explore?&client_id={}&client_secret={}&v={}&ll={},{}&radius={}&limit={}'.format( \n",
    "    CLIENT_ID, \n",
    "    CLIENT_SECRET, \n",
    "    VERSION, \n",
    "    neighborhood_latitude, \n",
    "    neighborhood_longitude, \n",
    "    radius, \n",
    "    LIMIT)\n",
    "url # display URL\n",
    "\n"
   ]
  },
  {
   "cell_type": "markdown",
   "metadata": {},
   "source": [
    "#### get the results"
   ]
  },
  {
   "cell_type": "code",
   "execution_count": 33,
   "metadata": {},
   "outputs": [
    {
     "data": {
      "text/plain": [
       "{'meta': {'code': 200, 'requestId': '5e2f218d9388d7001b937956'},\n",
       " 'response': {'warning': {'text': \"There aren't a lot of results near you. Try something more general, reset your filters, or expand the search area.\"},\n",
       "  'headerLocation': 'Toronto',\n",
       "  'headerFullLocation': 'Toronto',\n",
       "  'headerLocationGranularity': 'city',\n",
       "  'totalResults': 3,\n",
       "  'suggestedBounds': {'ne': {'lat': 43.7346000045, 'lng': -79.38728414472493},\n",
       "   'sw': {'lat': 43.7255999955, 'lng': -79.39971585527508}},\n",
       "  'groups': [{'type': 'Recommended Places',\n",
       "    'name': 'recommended',\n",
       "    'items': [{'reasons': {'count': 0,\n",
       "       'items': [{'summary': 'This spot is popular',\n",
       "         'type': 'general',\n",
       "         'reasonName': 'globalInteractionReason'}]},\n",
       "      'venue': {'id': '50e6da19e4b0d8a78a0e9794',\n",
       "       'name': 'Lawrence Park Ravine',\n",
       "       'location': {'address': '3055 Yonge Street',\n",
       "        'crossStreet': 'Lawrence Avenue East',\n",
       "        'lat': 43.72696303913755,\n",
       "        'lng': -79.39438246708775,\n",
       "        'labeledLatLngs': [{'label': 'display',\n",
       "          'lat': 43.72696303913755,\n",
       "          'lng': -79.39438246708775}],\n",
       "        'distance': 356,\n",
       "        'cc': 'CA',\n",
       "        'city': 'Toronto',\n",
       "        'state': 'ON',\n",
       "        'country': 'Canada',\n",
       "        'formattedAddress': ['3055 Yonge Street (Lawrence Avenue East)',\n",
       "         'Toronto ON',\n",
       "         'Canada']},\n",
       "       'categories': [{'id': '4bf58dd8d48988d163941735',\n",
       "         'name': 'Park',\n",
       "         'pluralName': 'Parks',\n",
       "         'shortName': 'Park',\n",
       "         'icon': {'prefix': 'https://ss3.4sqi.net/img/categories_v2/parks_outdoors/park_',\n",
       "          'suffix': '.png'},\n",
       "         'primary': True}],\n",
       "       'photos': {'count': 0, 'groups': []}},\n",
       "      'referralId': 'e-0-50e6da19e4b0d8a78a0e9794-0'},\n",
       "     {'reasons': {'count': 0,\n",
       "       'items': [{'summary': 'This spot is popular',\n",
       "         'type': 'general',\n",
       "         'reasonName': 'globalInteractionReason'}]},\n",
       "      'venue': {'id': '5968d757a6031c5daae7f8c5',\n",
       "       'name': 'The Photo School – Toronto',\n",
       "       'location': {'address': '1655 Dupont st., 204A',\n",
       "        'lat': 43.730429240438326,\n",
       "        'lng': -79.38876673579216,\n",
       "        'labeledLatLngs': [{'label': 'display',\n",
       "          'lat': 43.730429240438326,\n",
       "          'lng': -79.38876673579216}],\n",
       "        'distance': 382,\n",
       "        'postalCode': 'M6P 3S9',\n",
       "        'cc': 'CA',\n",
       "        'city': 'Toronto',\n",
       "        'state': 'ON',\n",
       "        'country': 'Canada',\n",
       "        'formattedAddress': ['1655 Dupont st., 204A',\n",
       "         'Toronto ON M6P 3S9',\n",
       "         'Canada']},\n",
       "       'categories': [{'id': '554a5e17498efabeda6cc559',\n",
       "         'name': 'Photography Studio',\n",
       "         'pluralName': 'Photography Studios',\n",
       "         'shortName': 'Photo Studio',\n",
       "         'icon': {'prefix': 'https://ss3.4sqi.net/img/categories_v2/shops/camerastore_',\n",
       "          'suffix': '.png'},\n",
       "         'primary': True}],\n",
       "       'photos': {'count': 0, 'groups': []}},\n",
       "      'referralId': 'e-0-5968d757a6031c5daae7f8c5-1'},\n",
       "     {'reasons': {'count': 0,\n",
       "       'items': [{'summary': 'This spot is popular',\n",
       "         'type': 'general',\n",
       "         'reasonName': 'globalInteractionReason'}]},\n",
       "      'venue': {'id': '5d4a80c64411870008ffac66',\n",
       "       'name': 'J.N. Munkongolo & Associates - Family Lawyer',\n",
       "       'location': {'address': '215 Lawrence Avenue E',\n",
       "        'lat': 43.7274366,\n",
       "        'lng': -79.3902635,\n",
       "        'labeledLatLngs': [{'label': 'display',\n",
       "          'lat': 43.7274366,\n",
       "          'lng': -79.3902635}],\n",
       "        'distance': 394,\n",
       "        'postalCode': 'M4N 1T3',\n",
       "        'cc': 'CA',\n",
       "        'city': 'Toronto',\n",
       "        'state': 'ON',\n",
       "        'country': 'Canada',\n",
       "        'formattedAddress': ['215 Lawrence Avenue E',\n",
       "         'Toronto ON M4N 1T3',\n",
       "         'Canada']},\n",
       "       'categories': [{'id': '52f2ab2ebcbc57f1066b8b3f',\n",
       "         'name': 'Lawyer',\n",
       "         'pluralName': 'Lawyers',\n",
       "         'shortName': 'Lawyer',\n",
       "         'icon': {'prefix': 'https://ss3.4sqi.net/img/categories_v2/education/lawschool_',\n",
       "          'suffix': '.png'},\n",
       "         'primary': True}],\n",
       "       'photos': {'count': 0, 'groups': []},\n",
       "       'venuePage': {'id': '552568098'}},\n",
       "      'referralId': 'e-0-5d4a80c64411870008ffac66-2'}]}]}}"
      ]
     },
     "execution_count": 33,
     "metadata": {},
     "output_type": "execute_result"
    }
   ],
   "source": [
    " results = requests.get(url).json()\n",
    "results"
   ]
  },
  {
   "cell_type": "code",
   "execution_count": 35,
   "metadata": {},
   "outputs": [],
   "source": [
    "# function that extracts the category of the venue\n",
    "def get_category_type(row):\n",
    "    try:\n",
    "        categories_list = row['categories']\n",
    "    except:\n",
    "        categories_list = row['venue.categories']\n",
    "        \n",
    "    if len(categories_list) == 0:\n",
    "        return None\n",
    "    else:\n",
    "        return categories_list[0]['name']"
   ]
  },
  {
   "cell_type": "code",
   "execution_count": 36,
   "metadata": {},
   "outputs": [
    {
     "data": {
      "text/html": [
       "<div>\n",
       "<style scoped>\n",
       "    .dataframe tbody tr th:only-of-type {\n",
       "        vertical-align: middle;\n",
       "    }\n",
       "\n",
       "    .dataframe tbody tr th {\n",
       "        vertical-align: top;\n",
       "    }\n",
       "\n",
       "    .dataframe thead th {\n",
       "        text-align: right;\n",
       "    }\n",
       "</style>\n",
       "<table border=\"1\" class=\"dataframe\">\n",
       "  <thead>\n",
       "    <tr style=\"text-align: right;\">\n",
       "      <th></th>\n",
       "      <th>name</th>\n",
       "      <th>categories</th>\n",
       "      <th>lat</th>\n",
       "      <th>lng</th>\n",
       "    </tr>\n",
       "  </thead>\n",
       "  <tbody>\n",
       "    <tr>\n",
       "      <th>0</th>\n",
       "      <td>Lawrence Park Ravine</td>\n",
       "      <td>Park</td>\n",
       "      <td>43.726963</td>\n",
       "      <td>-79.394382</td>\n",
       "    </tr>\n",
       "    <tr>\n",
       "      <th>1</th>\n",
       "      <td>The Photo School – Toronto</td>\n",
       "      <td>Photography Studio</td>\n",
       "      <td>43.730429</td>\n",
       "      <td>-79.388767</td>\n",
       "    </tr>\n",
       "    <tr>\n",
       "      <th>2</th>\n",
       "      <td>J.N. Munkongolo &amp; Associates - Family Lawyer</td>\n",
       "      <td>Lawyer</td>\n",
       "      <td>43.727437</td>\n",
       "      <td>-79.390264</td>\n",
       "    </tr>\n",
       "  </tbody>\n",
       "</table>\n",
       "</div>"
      ],
      "text/plain": [
       "                                           name          categories  \\\n",
       "0                          Lawrence Park Ravine                Park   \n",
       "1                    The Photo School – Toronto  Photography Studio   \n",
       "2  J.N. Munkongolo & Associates - Family Lawyer              Lawyer   \n",
       "\n",
       "         lat        lng  \n",
       "0  43.726963 -79.394382  \n",
       "1  43.730429 -79.388767  \n",
       "2  43.727437 -79.390264  "
      ]
     },
     "execution_count": 36,
     "metadata": {},
     "output_type": "execute_result"
    }
   ],
   "source": [
    "venues = results['response']['groups'][0]['items']\n",
    "    \n",
    "nearby_venues = json_normalize(venues) # flatten JSON\n",
    "\n",
    "# filter columns\n",
    "filtered_columns = ['venue.name', 'venue.categories', 'venue.location.lat', 'venue.location.lng']\n",
    "nearby_venues =nearby_venues.loc[:, filtered_columns]\n",
    "\n",
    "# filter the category for each row\n",
    "nearby_venues['venue.categories'] = nearby_venues.apply(get_category_type, axis=1)\n",
    "\n",
    "# clean columns\n",
    "nearby_venues.columns = [col.split(\".\")[-1] for col in nearby_venues.columns]\n",
    "\n",
    "nearby_venues.head()"
   ]
  },
  {
   "cell_type": "code",
   "execution_count": 37,
   "metadata": {},
   "outputs": [
    {
     "name": "stdout",
     "output_type": "stream",
     "text": [
      "3 venues were returned by Foursquare.\n"
     ]
    }
   ],
   "source": [
    "print('{} venues were returned by Foursquare.'.format(nearby_venues.shape[0]))"
   ]
  },
  {
   "cell_type": "code",
   "execution_count": 42,
   "metadata": {},
   "outputs": [],
   "source": [
    "def getNearbyVenues(names, latitudes, longitudes, radius=500):\n",
    "    \n",
    "    venues_list=[]\n",
    "    for name, lat, lng in zip(names, latitudes, longitudes):\n",
    "        print(name)\n",
    "            \n",
    "        # create the API request URL\n",
    "        url = 'https://api.foursquare.com/v2/venues/explore?&client_id={}&client_secret={}&v={}&ll={},{}&radius={}&limit={}'.format(\n",
    "            CLIENT_ID, \n",
    "            CLIENT_SECRET, \n",
    "            VERSION, \n",
    "            lat, \n",
    "            lng, \n",
    "            radius, \n",
    "            LIMIT)\n",
    "            \n",
    "        # make the GET request\n",
    "        results = requests.get(url).json()[\"response\"]['groups'][0]['items']\n",
    "        \n",
    "        # return only relevant information for each nearby venue\n",
    "        venues_list.append([(\n",
    "            name, \n",
    "            lat, \n",
    "            lng, \n",
    "            v['venue']['name'], \n",
    "            v['venue']['location']['lat'], \n",
    "            v['venue']['location']['lng'],  \n",
    "            v['venue']['categories'][0]['name']) for v in results])\n",
    "\n",
    "    nearby_venues = pd.DataFrame([item for venue_list in venues_list for item in venue_list])\n",
    "    nearby_venues.columns = ['Neighbourhood', \n",
    "                  'Neighbourhood Latitude', \n",
    "                  'Neighbourhood Longitude', \n",
    "                  'Venue', \n",
    "                  'Venue Latitude', \n",
    "                  'Venue Longitude', \n",
    "                  'Venue Category']\n",
    "    \n",
    "    return(nearby_venues)"
   ]
  },
  {
   "cell_type": "code",
   "execution_count": 44,
   "metadata": {},
   "outputs": [
    {
     "name": "stdout",
     "output_type": "stream",
     "text": [
      "Lawrence Park,Roselawn,Davisville North,Forest Hill North,Forest Hill West,North Toronto West,The Annex,North Midtown,Yorkville,Davisville,Moore Park,Summerhill East,Deer Park,Forest Hill SE,Rathnelly,South Hill,Summerhill West\n",
      "Harbourfront,Queen's Park,Ryerson,Garden District,St. James Town,Berczy Park,Central Bay Street,Christie,Adelaide,King,Richmond,Harbourfront East,Toronto Islands,Union Station,Design Exchange,Toronto Dominion Centre,Commerce Court,Victoria Hotel,Harbord,University of Toronto,Chinatown,Grange Park,Kensington Market,CN Tower,Bathurst Quay,Island airport,Harbourfront West,King and Spadina,Railway Lands,South Niagara,Rosedale,Stn A PO Boxes 25 The Esplanade,Cabbagetown,St. James Town,First Canadian Place,Underground city,Church and Wellesley\n",
      "The Beaches,The Danforth West,Riverdale,The Beaches West,India Bazaar,Studio District,Business Reply Mail Processing Centre 969 Eastern\n",
      "Woodbine Gardens,Parkview Hill,Woodbine Heights,Leaside,Thorncliffe Park,East Toronto\n",
      "Cloverdale,Islington,Martin Grove,Princess Gardens,West Deane Park,Bloordale Gardens,Eringate,Markland Wood,Old Burnhamthorpe,Westmount,Kingsview Village,Martin Grove Gardens,Richview Gardens,St. Phillips,Humber Bay Shores,Mimico South,New Toronto,Albion Gardens,Beaumond Heights,Humbergate,Jamestown,Mount Olive,Silverstone,South Steeles,Thistletown,Alderwood,Long Branch,Northwest,The Kingsway,Montgomery Road,Old Mill North,Humber Bay,King's Mill Park,Kingsway Park South East,Mimico NE,Old Mill South,The Queensway East,Royal York South East,Sunnylea,Kingsway Park South West,Mimico NW,The Queensway West,Royal York South West,South of Bloor\n",
      "Canada Post Gateway Processing Centre\n",
      "Parkwoods,Victoria Village,Lawrence Heights,Lawrence Manor,Don Mills North,Glencairn,Flemingdon Park,Don Mills South,Hillcrest Village,Bathurst Manor,Downsview North,Wilson Heights,Fairview,Henry Farm,Oriole,Northwood Park,York University,Bayview Village,CFB Toronto,Downsview East,Silver Hills,York Mills,Downsview West,Downsview,North Park,Upwood Park,Humber Summit,Newtonbrook,Willowdale,Downsview Central,Bedford Park,Lawrence Manor East,Emery,Humberlea,Willowdale South,Downsview Northwest,York Mills West,Willowdale West\n",
      "Queen's Park\n",
      "Rouge,Malvern,Highland Creek,Rouge Hill,Port Union,Guildwood,Morningside,West Hill,Woburn,Cedarbrae,Scarborough Village,East Birchmount Park,Ionview,Kennedy Park,Clairlea,Golden Mile,Oakridge,Cliffcrest,Cliffside,Scarborough Village West,Birch Cliff,Cliffside West,Dorset Park,Scarborough Town Centre,Wexford Heights,Maryvale,Wexford,Agincourt,Clarks Corners,Sullivan,Tam O'Shanter,Agincourt North,L'Amoreaux East,Milliken,Steeles East,L'Amoreaux West,Upper Rouge\n",
      "Dovercourt Village,Dufferin,Little Portugal,Trinity,Brockton,Exhibition Place,Parkdale Village,High Park,The Junction South,Parkdale,Roncesvalles,Runnymede,Swansea\n",
      "Humewood-Cedarvale,Caledonia-Fairbanks,Del Ray,Keelesdale,Mount Dennis,Silverthorn,The Junction North,Runnymede,Weston\n"
     ]
    }
   ],
   "source": [
    "# type your answer here\n",
    "\n",
    "df2_venues = getNearbyVenues(names=df2['Neighbourhood'],\n",
    "                                   latitudes=df2['Latitude'],\n",
    "                                   longitudes=df2['Longitude']\n",
    "                                  )\n",
    "\n",
    "\n"
   ]
  },
  {
   "cell_type": "code",
   "execution_count": 49,
   "metadata": {},
   "outputs": [
    {
     "name": "stdout",
     "output_type": "stream",
     "text": [
      "(322, 7)\n"
     ]
    },
    {
     "data": {
      "text/html": [
       "<div>\n",
       "<style scoped>\n",
       "    .dataframe tbody tr th:only-of-type {\n",
       "        vertical-align: middle;\n",
       "    }\n",
       "\n",
       "    .dataframe tbody tr th {\n",
       "        vertical-align: top;\n",
       "    }\n",
       "\n",
       "    .dataframe thead th {\n",
       "        text-align: right;\n",
       "    }\n",
       "</style>\n",
       "<table border=\"1\" class=\"dataframe\">\n",
       "  <thead>\n",
       "    <tr style=\"text-align: right;\">\n",
       "      <th></th>\n",
       "      <th>Neighbourhood</th>\n",
       "      <th>Neighbourhood Latitude</th>\n",
       "      <th>Neighbourhood Longitude</th>\n",
       "      <th>Venue</th>\n",
       "      <th>Venue Latitude</th>\n",
       "      <th>Venue Longitude</th>\n",
       "      <th>Venue Category</th>\n",
       "    </tr>\n",
       "  </thead>\n",
       "  <tbody>\n",
       "    <tr>\n",
       "      <th>0</th>\n",
       "      <td>Lawrence Park,Roselawn,Davisville North,Forest...</td>\n",
       "      <td>43.7301</td>\n",
       "      <td>-79.3935</td>\n",
       "      <td>Lawrence Park Ravine</td>\n",
       "      <td>43.726963</td>\n",
       "      <td>-79.394382</td>\n",
       "      <td>Park</td>\n",
       "    </tr>\n",
       "    <tr>\n",
       "      <th>1</th>\n",
       "      <td>Lawrence Park,Roselawn,Davisville North,Forest...</td>\n",
       "      <td>43.7301</td>\n",
       "      <td>-79.3935</td>\n",
       "      <td>The Photo School – Toronto</td>\n",
       "      <td>43.730429</td>\n",
       "      <td>-79.388767</td>\n",
       "      <td>Photography Studio</td>\n",
       "    </tr>\n",
       "    <tr>\n",
       "      <th>2</th>\n",
       "      <td>Lawrence Park,Roselawn,Davisville North,Forest...</td>\n",
       "      <td>43.7301</td>\n",
       "      <td>-79.3935</td>\n",
       "      <td>J.N. Munkongolo &amp; Associates - Family Lawyer</td>\n",
       "      <td>43.727437</td>\n",
       "      <td>-79.390264</td>\n",
       "      <td>Lawyer</td>\n",
       "    </tr>\n",
       "    <tr>\n",
       "      <th>3</th>\n",
       "      <td>Harbourfront,Queen's Park,Ryerson,Garden Distr...</td>\n",
       "      <td>43.6555</td>\n",
       "      <td>-79.3626</td>\n",
       "      <td>Tandem Coffee</td>\n",
       "      <td>43.653559</td>\n",
       "      <td>-79.361809</td>\n",
       "      <td>Coffee Shop</td>\n",
       "    </tr>\n",
       "    <tr>\n",
       "      <th>4</th>\n",
       "      <td>Harbourfront,Queen's Park,Ryerson,Garden Distr...</td>\n",
       "      <td>43.6555</td>\n",
       "      <td>-79.3626</td>\n",
       "      <td>Roselle Desserts</td>\n",
       "      <td>43.653447</td>\n",
       "      <td>-79.362017</td>\n",
       "      <td>Bakery</td>\n",
       "    </tr>\n",
       "  </tbody>\n",
       "</table>\n",
       "</div>"
      ],
      "text/plain": [
       "                                       Neighbourhood  Neighbourhood Latitude  \\\n",
       "0  Lawrence Park,Roselawn,Davisville North,Forest...                 43.7301   \n",
       "1  Lawrence Park,Roselawn,Davisville North,Forest...                 43.7301   \n",
       "2  Lawrence Park,Roselawn,Davisville North,Forest...                 43.7301   \n",
       "3  Harbourfront,Queen's Park,Ryerson,Garden Distr...                 43.6555   \n",
       "4  Harbourfront,Queen's Park,Ryerson,Garden Distr...                 43.6555   \n",
       "\n",
       "   Neighbourhood Longitude                                         Venue  \\\n",
       "0                 -79.3935                          Lawrence Park Ravine   \n",
       "1                 -79.3935                    The Photo School – Toronto   \n",
       "2                 -79.3935  J.N. Munkongolo & Associates - Family Lawyer   \n",
       "3                 -79.3626                                 Tandem Coffee   \n",
       "4                 -79.3626                              Roselle Desserts   \n",
       "\n",
       "   Venue Latitude  Venue Longitude      Venue Category  \n",
       "0       43.726963       -79.394382                Park  \n",
       "1       43.730429       -79.388767  Photography Studio  \n",
       "2       43.727437       -79.390264              Lawyer  \n",
       "3       43.653559       -79.361809         Coffee Shop  \n",
       "4       43.653447       -79.362017              Bakery  "
      ]
     },
     "execution_count": 49,
     "metadata": {},
     "output_type": "execute_result"
    }
   ],
   "source": [
    "print(df2_venues.shape)\n",
    "df2_venues.head()"
   ]
  },
  {
   "cell_type": "code",
   "execution_count": 50,
   "metadata": {},
   "outputs": [
    {
     "data": {
      "text/html": [
       "<div>\n",
       "<style scoped>\n",
       "    .dataframe tbody tr th:only-of-type {\n",
       "        vertical-align: middle;\n",
       "    }\n",
       "\n",
       "    .dataframe tbody tr th {\n",
       "        vertical-align: top;\n",
       "    }\n",
       "\n",
       "    .dataframe thead th {\n",
       "        text-align: right;\n",
       "    }\n",
       "</style>\n",
       "<table border=\"1\" class=\"dataframe\">\n",
       "  <thead>\n",
       "    <tr style=\"text-align: right;\">\n",
       "      <th></th>\n",
       "      <th>Neighbourhood Latitude</th>\n",
       "      <th>Neighbourhood Longitude</th>\n",
       "      <th>Venue</th>\n",
       "      <th>Venue Latitude</th>\n",
       "      <th>Venue Longitude</th>\n",
       "      <th>Venue Category</th>\n",
       "    </tr>\n",
       "    <tr>\n",
       "      <th>Neighbourhood</th>\n",
       "      <th></th>\n",
       "      <th></th>\n",
       "      <th></th>\n",
       "      <th></th>\n",
       "      <th></th>\n",
       "      <th></th>\n",
       "    </tr>\n",
       "  </thead>\n",
       "  <tbody>\n",
       "    <tr>\n",
       "      <th>Canada Post Gateway Processing Centre</th>\n",
       "      <td>75</td>\n",
       "      <td>75</td>\n",
       "      <td>75</td>\n",
       "      <td>75</td>\n",
       "      <td>75</td>\n",
       "      <td>75</td>\n",
       "    </tr>\n",
       "    <tr>\n",
       "      <th>Cloverdale,Islington,Martin Grove,Princess Gardens,West Deane Park,Bloordale Gardens,Eringate,Markland Wood,Old Burnhamthorpe,Westmount,Kingsview Village,Martin Grove Gardens,Richview Gardens,St. Phillips,Humber Bay Shores,Mimico South,New Toronto,Albion Gardens,Beaumond Heights,Humbergate,Jamestown,Mount Olive,Silverstone,South Steeles,Thistletown,Alderwood,Long Branch,Northwest,The Kingsway,Montgomery Road,Old Mill North,Humber Bay,King's Mill Park,Kingsway Park South East,Mimico NE,Old Mill South,The Queensway East,Royal York South East,Sunnylea,Kingsway Park South West,Mimico NW,The Queensway West,Royal York South West,South of Bloor</th>\n",
       "      <td>18</td>\n",
       "      <td>18</td>\n",
       "      <td>18</td>\n",
       "      <td>18</td>\n",
       "      <td>18</td>\n",
       "      <td>18</td>\n",
       "    </tr>\n",
       "    <tr>\n",
       "      <th>Dovercourt Village,Dufferin,Little Portugal,Trinity,Brockton,Exhibition Place,Parkdale Village,High Park,The Junction South,Parkdale,Roncesvalles,Runnymede,Swansea</th>\n",
       "      <td>20</td>\n",
       "      <td>20</td>\n",
       "      <td>20</td>\n",
       "      <td>20</td>\n",
       "      <td>20</td>\n",
       "      <td>20</td>\n",
       "    </tr>\n",
       "    <tr>\n",
       "      <th>Harbourfront,Queen's Park,Ryerson,Garden District,St. James Town,Berczy Park,Central Bay Street,Christie,Adelaide,King,Richmond,Harbourfront East,Toronto Islands,Union Station,Design Exchange,Toronto Dominion Centre,Commerce Court,Victoria Hotel,Harbord,University of Toronto,Chinatown,Grange Park,Kensington Market,CN Tower,Bathurst Quay,Island airport,Harbourfront West,King and Spadina,Railway Lands,South Niagara,Rosedale,Stn A PO Boxes 25 The Esplanade,Cabbagetown,St. James Town,First Canadian Place,Underground city,Church and Wellesley</th>\n",
       "      <td>22</td>\n",
       "      <td>22</td>\n",
       "      <td>22</td>\n",
       "      <td>22</td>\n",
       "      <td>22</td>\n",
       "      <td>22</td>\n",
       "    </tr>\n",
       "    <tr>\n",
       "      <th>Humewood-Cedarvale,Caledonia-Fairbanks,Del Ray,Keelesdale,Mount Dennis,Silverthorn,The Junction North,Runnymede,Weston</th>\n",
       "      <td>10</td>\n",
       "      <td>10</td>\n",
       "      <td>10</td>\n",
       "      <td>10</td>\n",
       "      <td>10</td>\n",
       "      <td>10</td>\n",
       "    </tr>\n",
       "    <tr>\n",
       "      <th>Lawrence Park,Roselawn,Davisville North,Forest Hill North,Forest Hill West,North Toronto West,The Annex,North Midtown,Yorkville,Davisville,Moore Park,Summerhill East,Deer Park,Forest Hill SE,Rathnelly,South Hill,Summerhill West</th>\n",
       "      <td>3</td>\n",
       "      <td>3</td>\n",
       "      <td>3</td>\n",
       "      <td>3</td>\n",
       "      <td>3</td>\n",
       "      <td>3</td>\n",
       "    </tr>\n",
       "    <tr>\n",
       "      <th>Parkwoods,Victoria Village,Lawrence Heights,Lawrence Manor,Don Mills North,Glencairn,Flemingdon Park,Don Mills South,Hillcrest Village,Bathurst Manor,Downsview North,Wilson Heights,Fairview,Henry Farm,Oriole,Northwood Park,York University,Bayview Village,CFB Toronto,Downsview East,Silver Hills,York Mills,Downsview West,Downsview,North Park,Upwood Park,Humber Summit,Newtonbrook,Willowdale,Downsview Central,Bedford Park,Lawrence Manor East,Emery,Humberlea,Willowdale South,Downsview Northwest,York Mills West,Willowdale West</th>\n",
       "      <td>75</td>\n",
       "      <td>75</td>\n",
       "      <td>75</td>\n",
       "      <td>75</td>\n",
       "      <td>75</td>\n",
       "      <td>75</td>\n",
       "    </tr>\n",
       "    <tr>\n",
       "      <th>Queen's Park</th>\n",
       "      <td>6</td>\n",
       "      <td>6</td>\n",
       "      <td>6</td>\n",
       "      <td>6</td>\n",
       "      <td>6</td>\n",
       "      <td>6</td>\n",
       "    </tr>\n",
       "    <tr>\n",
       "      <th>Rouge,Malvern,Highland Creek,Rouge Hill,Port Union,Guildwood,Morningside,West Hill,Woburn,Cedarbrae,Scarborough Village,East Birchmount Park,Ionview,Kennedy Park,Clairlea,Golden Mile,Oakridge,Cliffcrest,Cliffside,Scarborough Village West,Birch Cliff,Cliffside West,Dorset Park,Scarborough Town Centre,Wexford Heights,Maryvale,Wexford,Agincourt,Clarks Corners,Sullivan,Tam O'Shanter,Agincourt North,L'Amoreaux East,Milliken,Steeles East,L'Amoreaux West,Upper Rouge</th>\n",
       "      <td>75</td>\n",
       "      <td>75</td>\n",
       "      <td>75</td>\n",
       "      <td>75</td>\n",
       "      <td>75</td>\n",
       "      <td>75</td>\n",
       "    </tr>\n",
       "    <tr>\n",
       "      <th>The Beaches,The Danforth West,Riverdale,The Beaches West,India Bazaar,Studio District,Business Reply Mail Processing Centre 969 Eastern</th>\n",
       "      <td>7</td>\n",
       "      <td>7</td>\n",
       "      <td>7</td>\n",
       "      <td>7</td>\n",
       "      <td>7</td>\n",
       "      <td>7</td>\n",
       "    </tr>\n",
       "    <tr>\n",
       "      <th>Woodbine Gardens,Parkview Hill,Woodbine Heights,Leaside,Thorncliffe Park,East Toronto</th>\n",
       "      <td>11</td>\n",
       "      <td>11</td>\n",
       "      <td>11</td>\n",
       "      <td>11</td>\n",
       "      <td>11</td>\n",
       "      <td>11</td>\n",
       "    </tr>\n",
       "  </tbody>\n",
       "</table>\n",
       "</div>"
      ],
      "text/plain": [
       "                                                    Neighbourhood Latitude  \\\n",
       "Neighbourhood                                                                \n",
       "Canada Post Gateway Processing Centre                                   75   \n",
       "Cloverdale,Islington,Martin Grove,Princess Gard...                      18   \n",
       "Dovercourt Village,Dufferin,Little Portugal,Tri...                      20   \n",
       "Harbourfront,Queen's Park,Ryerson,Garden Distri...                      22   \n",
       "Humewood-Cedarvale,Caledonia-Fairbanks,Del Ray,...                      10   \n",
       "Lawrence Park,Roselawn,Davisville North,Forest ...                       3   \n",
       "Parkwoods,Victoria Village,Lawrence Heights,Law...                      75   \n",
       "Queen's Park                                                             6   \n",
       "Rouge,Malvern,Highland Creek,Rouge Hill,Port Un...                      75   \n",
       "The Beaches,The Danforth West,Riverdale,The Bea...                       7   \n",
       "Woodbine Gardens,Parkview Hill,Woodbine Heights...                      11   \n",
       "\n",
       "                                                    Neighbourhood Longitude  \\\n",
       "Neighbourhood                                                                 \n",
       "Canada Post Gateway Processing Centre                                    75   \n",
       "Cloverdale,Islington,Martin Grove,Princess Gard...                       18   \n",
       "Dovercourt Village,Dufferin,Little Portugal,Tri...                       20   \n",
       "Harbourfront,Queen's Park,Ryerson,Garden Distri...                       22   \n",
       "Humewood-Cedarvale,Caledonia-Fairbanks,Del Ray,...                       10   \n",
       "Lawrence Park,Roselawn,Davisville North,Forest ...                        3   \n",
       "Parkwoods,Victoria Village,Lawrence Heights,Law...                       75   \n",
       "Queen's Park                                                              6   \n",
       "Rouge,Malvern,Highland Creek,Rouge Hill,Port Un...                       75   \n",
       "The Beaches,The Danforth West,Riverdale,The Bea...                        7   \n",
       "Woodbine Gardens,Parkview Hill,Woodbine Heights...                       11   \n",
       "\n",
       "                                                    Venue  Venue Latitude  \\\n",
       "Neighbourhood                                                               \n",
       "Canada Post Gateway Processing Centre                  75              75   \n",
       "Cloverdale,Islington,Martin Grove,Princess Gard...     18              18   \n",
       "Dovercourt Village,Dufferin,Little Portugal,Tri...     20              20   \n",
       "Harbourfront,Queen's Park,Ryerson,Garden Distri...     22              22   \n",
       "Humewood-Cedarvale,Caledonia-Fairbanks,Del Ray,...     10              10   \n",
       "Lawrence Park,Roselawn,Davisville North,Forest ...      3               3   \n",
       "Parkwoods,Victoria Village,Lawrence Heights,Law...     75              75   \n",
       "Queen's Park                                            6               6   \n",
       "Rouge,Malvern,Highland Creek,Rouge Hill,Port Un...     75              75   \n",
       "The Beaches,The Danforth West,Riverdale,The Bea...      7               7   \n",
       "Woodbine Gardens,Parkview Hill,Woodbine Heights...     11              11   \n",
       "\n",
       "                                                    Venue Longitude  \\\n",
       "Neighbourhood                                                         \n",
       "Canada Post Gateway Processing Centre                            75   \n",
       "Cloverdale,Islington,Martin Grove,Princess Gard...               18   \n",
       "Dovercourt Village,Dufferin,Little Portugal,Tri...               20   \n",
       "Harbourfront,Queen's Park,Ryerson,Garden Distri...               22   \n",
       "Humewood-Cedarvale,Caledonia-Fairbanks,Del Ray,...               10   \n",
       "Lawrence Park,Roselawn,Davisville North,Forest ...                3   \n",
       "Parkwoods,Victoria Village,Lawrence Heights,Law...               75   \n",
       "Queen's Park                                                      6   \n",
       "Rouge,Malvern,Highland Creek,Rouge Hill,Port Un...               75   \n",
       "The Beaches,The Danforth West,Riverdale,The Bea...                7   \n",
       "Woodbine Gardens,Parkview Hill,Woodbine Heights...               11   \n",
       "\n",
       "                                                    Venue Category  \n",
       "Neighbourhood                                                       \n",
       "Canada Post Gateway Processing Centre                           75  \n",
       "Cloverdale,Islington,Martin Grove,Princess Gard...              18  \n",
       "Dovercourt Village,Dufferin,Little Portugal,Tri...              20  \n",
       "Harbourfront,Queen's Park,Ryerson,Garden Distri...              22  \n",
       "Humewood-Cedarvale,Caledonia-Fairbanks,Del Ray,...              10  \n",
       "Lawrence Park,Roselawn,Davisville North,Forest ...               3  \n",
       "Parkwoods,Victoria Village,Lawrence Heights,Law...              75  \n",
       "Queen's Park                                                     6  \n",
       "Rouge,Malvern,Highland Creek,Rouge Hill,Port Un...              75  \n",
       "The Beaches,The Danforth West,Riverdale,The Bea...               7  \n",
       "Woodbine Gardens,Parkview Hill,Woodbine Heights...              11  "
      ]
     },
     "execution_count": 50,
     "metadata": {},
     "output_type": "execute_result"
    }
   ],
   "source": [
    "df2_venues.groupby('Neighbourhood').count()"
   ]
  },
  {
   "cell_type": "code",
   "execution_count": 52,
   "metadata": {},
   "outputs": [
    {
     "name": "stdout",
     "output_type": "stream",
     "text": [
      "There are 94 uniques categories.\n"
     ]
    }
   ],
   "source": [
    "print('There are {} uniques categories.'.format(len(df2_venues['Venue Category'].unique())))"
   ]
  },
  {
   "cell_type": "code",
   "execution_count": null,
   "metadata": {},
   "outputs": [],
   "source": []
  }
 ],
 "metadata": {
  "kernelspec": {
   "display_name": "Python 3",
   "language": "python",
   "name": "python3"
  },
  "language_info": {
   "codemirror_mode": {
    "name": "ipython",
    "version": 3
   },
   "file_extension": ".py",
   "mimetype": "text/x-python",
   "name": "python",
   "nbconvert_exporter": "python",
   "pygments_lexer": "ipython3",
   "version": "3.7.5"
  }
 },
 "nbformat": 4,
 "nbformat_minor": 2
}
