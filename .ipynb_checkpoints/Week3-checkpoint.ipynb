{
 "cells": [
  {
   "cell_type": "markdown",
   "metadata": {},
   "source": [
    "# Applied Data Science Week 3 Assignment"
   ]
  },
  {
   "cell_type": "markdown",
   "metadata": {},
   "source": [
    "1. Import required libraries "
   ]
  },
  {
   "cell_type": "code",
   "execution_count": 1,
   "metadata": {},
   "outputs": [],
   "source": [
    "import pandas as pd"
   ]
  },
  {
   "cell_type": "markdown",
   "metadata": {},
   "source": [
    "2. Load the data frame from the wiki page using read_html panda function"
   ]
  },
  {
   "cell_type": "code",
   "execution_count": 2,
   "metadata": {},
   "outputs": [
    {
     "data": {
      "text/plain": [
       "(286, 3)"
      ]
     },
     "execution_count": 2,
     "metadata": {},
     "output_type": "execute_result"
    }
   ],
   "source": [
    "#parse the html page into panda data frame\n",
    "\n",
    "link = \"https://en.wikipedia.org/wiki/List_of_postal_codes_of_Canada:_M\"\n",
    "\n",
    "tables = pd.read_html(link)\n",
    "\n",
    "df = tables[0].iloc[1:]\n",
    "\n",
    "df.columns = ['PostalCode', 'Borough', 'Neighbourhood']\n",
    "\n",
    "df.shape"
   ]
  },
  {
   "cell_type": "markdown",
   "metadata": {},
   "source": [
    "3. Drop Borough entries which is equal to 'Not assigned'"
   ]
  },
  {
   "cell_type": "code",
   "execution_count": 3,
   "metadata": {},
   "outputs": [
    {
     "name": "stderr",
     "output_type": "stream",
     "text": [
      "/Users/sakthi/opt/anaconda3/lib/python3.7/site-packages/pandas/core/frame.py:4117: SettingWithCopyWarning: \n",
      "A value is trying to be set on a copy of a slice from a DataFrame\n",
      "\n",
      "See the caveats in the documentation: http://pandas.pydata.org/pandas-docs/stable/user_guide/indexing.html#returning-a-view-versus-a-copy\n",
      "  errors=errors,\n"
     ]
    },
    {
     "data": {
      "text/plain": [
       "(210, 3)"
      ]
     },
     "execution_count": 3,
     "metadata": {},
     "output_type": "execute_result"
    }
   ],
   "source": [
    "df.drop(df[df.Borough == 'Not assigned'].index, inplace=True)\n",
    "\n",
    "df.shape"
   ]
  },
  {
   "cell_type": "markdown",
   "metadata": {},
   "source": [
    "4. Aggregate Neighbourhood as command separated value by grouping Borough"
   ]
  },
  {
   "cell_type": "code",
   "execution_count": 4,
   "metadata": {},
   "outputs": [
    {
     "data": {
      "text/plain": [
       "(11, 3)"
      ]
     },
     "execution_count": 4,
     "metadata": {},
     "output_type": "execute_result"
    }
   ],
   "source": [
    "df1 = df.groupby('Borough').agg({'PostalCode' : 'first', 'Neighbourhood' : ','.join}).reset_index().reindex(columns=df.columns)\n",
    "\n",
    "df1.shape"
   ]
  },
  {
   "cell_type": "markdown",
   "metadata": {},
   "source": [
    "5. Fill Neighbourhood value as Borough in case if it is 'Not assigned'"
   ]
  },
  {
   "cell_type": "code",
   "execution_count": 5,
   "metadata": {},
   "outputs": [
    {
     "data": {
      "text/html": [
       "<div>\n",
       "<style scoped>\n",
       "    .dataframe tbody tr th:only-of-type {\n",
       "        vertical-align: middle;\n",
       "    }\n",
       "\n",
       "    .dataframe tbody tr th {\n",
       "        vertical-align: top;\n",
       "    }\n",
       "\n",
       "    .dataframe thead th {\n",
       "        text-align: right;\n",
       "    }\n",
       "</style>\n",
       "<table border=\"1\" class=\"dataframe\">\n",
       "  <thead>\n",
       "    <tr style=\"text-align: right;\">\n",
       "      <th></th>\n",
       "      <th>PostalCode</th>\n",
       "      <th>Borough</th>\n",
       "      <th>Neighbourhood</th>\n",
       "    </tr>\n",
       "  </thead>\n",
       "  <tbody>\n",
       "    <tr>\n",
       "      <th>0</th>\n",
       "      <td>M4N</td>\n",
       "      <td>Central Toronto</td>\n",
       "      <td>Lawrence Park,Roselawn,Davisville North,Forest...</td>\n",
       "    </tr>\n",
       "    <tr>\n",
       "      <th>1</th>\n",
       "      <td>M5A</td>\n",
       "      <td>Downtown Toronto</td>\n",
       "      <td>Harbourfront,Queen's Park,Ryerson,Garden Distr...</td>\n",
       "    </tr>\n",
       "    <tr>\n",
       "      <th>2</th>\n",
       "      <td>M4E</td>\n",
       "      <td>East Toronto</td>\n",
       "      <td>The Beaches,The Danforth West,Riverdale,The Be...</td>\n",
       "    </tr>\n",
       "    <tr>\n",
       "      <th>3</th>\n",
       "      <td>M4B</td>\n",
       "      <td>East York</td>\n",
       "      <td>Woodbine Gardens,Parkview Hill,Woodbine Height...</td>\n",
       "    </tr>\n",
       "    <tr>\n",
       "      <th>4</th>\n",
       "      <td>M9B</td>\n",
       "      <td>Etobicoke</td>\n",
       "      <td>Cloverdale,Islington,Martin Grove,Princess Gar...</td>\n",
       "    </tr>\n",
       "    <tr>\n",
       "      <th>5</th>\n",
       "      <td>M7R</td>\n",
       "      <td>Mississauga</td>\n",
       "      <td>Canada Post Gateway Processing Centre</td>\n",
       "    </tr>\n",
       "    <tr>\n",
       "      <th>6</th>\n",
       "      <td>M3A</td>\n",
       "      <td>North York</td>\n",
       "      <td>Parkwoods,Victoria Village,Lawrence Heights,La...</td>\n",
       "    </tr>\n",
       "    <tr>\n",
       "      <th>7</th>\n",
       "      <td>M9A</td>\n",
       "      <td>Queen's Park</td>\n",
       "      <td>Queen's Park</td>\n",
       "    </tr>\n",
       "    <tr>\n",
       "      <th>8</th>\n",
       "      <td>M1B</td>\n",
       "      <td>Scarborough</td>\n",
       "      <td>Rouge,Malvern,Highland Creek,Rouge Hill,Port U...</td>\n",
       "    </tr>\n",
       "    <tr>\n",
       "      <th>9</th>\n",
       "      <td>M6H</td>\n",
       "      <td>West Toronto</td>\n",
       "      <td>Dovercourt Village,Dufferin,Little Portugal,Tr...</td>\n",
       "    </tr>\n",
       "    <tr>\n",
       "      <th>10</th>\n",
       "      <td>M6C</td>\n",
       "      <td>York</td>\n",
       "      <td>Humewood-Cedarvale,Caledonia-Fairbanks,Del Ray...</td>\n",
       "    </tr>\n",
       "  </tbody>\n",
       "</table>\n",
       "</div>"
      ],
      "text/plain": [
       "   PostalCode           Borough  \\\n",
       "0         M4N   Central Toronto   \n",
       "1         M5A  Downtown Toronto   \n",
       "2         M4E      East Toronto   \n",
       "3         M4B         East York   \n",
       "4         M9B         Etobicoke   \n",
       "5         M7R       Mississauga   \n",
       "6         M3A        North York   \n",
       "7         M9A      Queen's Park   \n",
       "8         M1B       Scarborough   \n",
       "9         M6H      West Toronto   \n",
       "10        M6C              York   \n",
       "\n",
       "                                        Neighbourhood  \n",
       "0   Lawrence Park,Roselawn,Davisville North,Forest...  \n",
       "1   Harbourfront,Queen's Park,Ryerson,Garden Distr...  \n",
       "2   The Beaches,The Danforth West,Riverdale,The Be...  \n",
       "3   Woodbine Gardens,Parkview Hill,Woodbine Height...  \n",
       "4   Cloverdale,Islington,Martin Grove,Princess Gar...  \n",
       "5               Canada Post Gateway Processing Centre  \n",
       "6   Parkwoods,Victoria Village,Lawrence Heights,La...  \n",
       "7                                        Queen's Park  \n",
       "8   Rouge,Malvern,Highland Creek,Rouge Hill,Port U...  \n",
       "9   Dovercourt Village,Dufferin,Little Portugal,Tr...  \n",
       "10  Humewood-Cedarvale,Caledonia-Fairbanks,Del Ray...  "
      ]
     },
     "execution_count": 5,
     "metadata": {},
     "output_type": "execute_result"
    }
   ],
   "source": [
    "df1.loc[df1['Neighbourhood'] == 'Not assigned', 'Neighbourhood'] = df1['Borough']\n",
    "df1"
   ]
  },
  {
   "cell_type": "markdown",
   "metadata": {},
   "source": [
    "6. Print the resulted shape"
   ]
  },
  {
   "cell_type": "code",
   "execution_count": 6,
   "metadata": {},
   "outputs": [
    {
     "data": {
      "text/plain": [
       "(11, 3)"
      ]
     },
     "execution_count": 6,
     "metadata": {},
     "output_type": "execute_result"
    }
   ],
   "source": [
    "df1.shape"
   ]
  },
  {
   "cell_type": "markdown",
   "metadata": {},
   "source": [
    "#### Print the resulted data frame"
   ]
  },
  {
   "cell_type": "code",
   "execution_count": 7,
   "metadata": {},
   "outputs": [
    {
     "data": {
      "text/html": [
       "<div>\n",
       "<style scoped>\n",
       "    .dataframe tbody tr th:only-of-type {\n",
       "        vertical-align: middle;\n",
       "    }\n",
       "\n",
       "    .dataframe tbody tr th {\n",
       "        vertical-align: top;\n",
       "    }\n",
       "\n",
       "    .dataframe thead th {\n",
       "        text-align: right;\n",
       "    }\n",
       "</style>\n",
       "<table border=\"1\" class=\"dataframe\">\n",
       "  <thead>\n",
       "    <tr style=\"text-align: right;\">\n",
       "      <th></th>\n",
       "      <th>PostalCode</th>\n",
       "      <th>Borough</th>\n",
       "      <th>Neighbourhood</th>\n",
       "    </tr>\n",
       "  </thead>\n",
       "  <tbody>\n",
       "    <tr>\n",
       "      <th>0</th>\n",
       "      <td>M4N</td>\n",
       "      <td>Central Toronto</td>\n",
       "      <td>Lawrence Park,Roselawn,Davisville North,Forest...</td>\n",
       "    </tr>\n",
       "    <tr>\n",
       "      <th>1</th>\n",
       "      <td>M5A</td>\n",
       "      <td>Downtown Toronto</td>\n",
       "      <td>Harbourfront,Queen's Park,Ryerson,Garden Distr...</td>\n",
       "    </tr>\n",
       "    <tr>\n",
       "      <th>2</th>\n",
       "      <td>M4E</td>\n",
       "      <td>East Toronto</td>\n",
       "      <td>The Beaches,The Danforth West,Riverdale,The Be...</td>\n",
       "    </tr>\n",
       "    <tr>\n",
       "      <th>3</th>\n",
       "      <td>M4B</td>\n",
       "      <td>East York</td>\n",
       "      <td>Woodbine Gardens,Parkview Hill,Woodbine Height...</td>\n",
       "    </tr>\n",
       "    <tr>\n",
       "      <th>4</th>\n",
       "      <td>M9B</td>\n",
       "      <td>Etobicoke</td>\n",
       "      <td>Cloverdale,Islington,Martin Grove,Princess Gar...</td>\n",
       "    </tr>\n",
       "    <tr>\n",
       "      <th>5</th>\n",
       "      <td>M7R</td>\n",
       "      <td>Mississauga</td>\n",
       "      <td>Canada Post Gateway Processing Centre</td>\n",
       "    </tr>\n",
       "    <tr>\n",
       "      <th>6</th>\n",
       "      <td>M3A</td>\n",
       "      <td>North York</td>\n",
       "      <td>Parkwoods,Victoria Village,Lawrence Heights,La...</td>\n",
       "    </tr>\n",
       "    <tr>\n",
       "      <th>7</th>\n",
       "      <td>M9A</td>\n",
       "      <td>Queen's Park</td>\n",
       "      <td>Queen's Park</td>\n",
       "    </tr>\n",
       "    <tr>\n",
       "      <th>8</th>\n",
       "      <td>M1B</td>\n",
       "      <td>Scarborough</td>\n",
       "      <td>Rouge,Malvern,Highland Creek,Rouge Hill,Port U...</td>\n",
       "    </tr>\n",
       "    <tr>\n",
       "      <th>9</th>\n",
       "      <td>M6H</td>\n",
       "      <td>West Toronto</td>\n",
       "      <td>Dovercourt Village,Dufferin,Little Portugal,Tr...</td>\n",
       "    </tr>\n",
       "    <tr>\n",
       "      <th>10</th>\n",
       "      <td>M6C</td>\n",
       "      <td>York</td>\n",
       "      <td>Humewood-Cedarvale,Caledonia-Fairbanks,Del Ray...</td>\n",
       "    </tr>\n",
       "  </tbody>\n",
       "</table>\n",
       "</div>"
      ],
      "text/plain": [
       "   PostalCode           Borough  \\\n",
       "0         M4N   Central Toronto   \n",
       "1         M5A  Downtown Toronto   \n",
       "2         M4E      East Toronto   \n",
       "3         M4B         East York   \n",
       "4         M9B         Etobicoke   \n",
       "5         M7R       Mississauga   \n",
       "6         M3A        North York   \n",
       "7         M9A      Queen's Park   \n",
       "8         M1B       Scarborough   \n",
       "9         M6H      West Toronto   \n",
       "10        M6C              York   \n",
       "\n",
       "                                        Neighbourhood  \n",
       "0   Lawrence Park,Roselawn,Davisville North,Forest...  \n",
       "1   Harbourfront,Queen's Park,Ryerson,Garden Distr...  \n",
       "2   The Beaches,The Danforth West,Riverdale,The Be...  \n",
       "3   Woodbine Gardens,Parkview Hill,Woodbine Height...  \n",
       "4   Cloverdale,Islington,Martin Grove,Princess Gar...  \n",
       "5               Canada Post Gateway Processing Centre  \n",
       "6   Parkwoods,Victoria Village,Lawrence Heights,La...  \n",
       "7                                        Queen's Park  \n",
       "8   Rouge,Malvern,Highland Creek,Rouge Hill,Port U...  \n",
       "9   Dovercourt Village,Dufferin,Little Portugal,Tr...  \n",
       "10  Humewood-Cedarvale,Caledonia-Fairbanks,Del Ray...  "
      ]
     },
     "execution_count": 7,
     "metadata": {},
     "output_type": "execute_result"
    }
   ],
   "source": [
    "df1"
   ]
  },
  {
   "cell_type": "markdown",
   "metadata": {},
   "source": [
    "7. Install and import the geocoder"
   ]
  },
  {
   "cell_type": "code",
   "execution_count": 8,
   "metadata": {},
   "outputs": [
    {
     "name": "stdout",
     "output_type": "stream",
     "text": [
      "Requirement already satisfied: geocoder in /Users/sakthi/opt/anaconda3/lib/python3.7/site-packages (1.38.1)\n",
      "Requirement already satisfied: requests in /Users/sakthi/opt/anaconda3/lib/python3.7/site-packages (from geocoder) (2.22.0)\n",
      "Requirement already satisfied: ratelim in /Users/sakthi/opt/anaconda3/lib/python3.7/site-packages (from geocoder) (0.1.6)\n",
      "Requirement already satisfied: future in /Users/sakthi/opt/anaconda3/lib/python3.7/site-packages (from geocoder) (0.18.2)\n",
      "Requirement already satisfied: six in /Users/sakthi/opt/anaconda3/lib/python3.7/site-packages (from geocoder) (1.13.0)\n",
      "Requirement already satisfied: click in /Users/sakthi/opt/anaconda3/lib/python3.7/site-packages (from geocoder) (7.0)\n",
      "Requirement already satisfied: idna<2.9,>=2.5 in /Users/sakthi/opt/anaconda3/lib/python3.7/site-packages (from requests->geocoder) (2.8)\n",
      "Requirement already satisfied: chardet<3.1.0,>=3.0.2 in /Users/sakthi/opt/anaconda3/lib/python3.7/site-packages (from requests->geocoder) (3.0.4)\n",
      "Requirement already satisfied: certifi>=2017.4.17 in /Users/sakthi/opt/anaconda3/lib/python3.7/site-packages (from requests->geocoder) (2019.11.28)\n",
      "Requirement already satisfied: urllib3!=1.25.0,!=1.25.1,<1.26,>=1.21.1 in /Users/sakthi/opt/anaconda3/lib/python3.7/site-packages (from requests->geocoder) (1.25.7)\n",
      "Requirement already satisfied: decorator in /Users/sakthi/opt/anaconda3/lib/python3.7/site-packages (from ratelim->geocoder) (4.4.1)\n"
     ]
    }
   ],
   "source": [
    "!pip install geocoder\n",
    "\n",
    "import geocoder # import geocoder"
   ]
  },
  {
   "cell_type": "markdown",
   "metadata": {},
   "source": [
    "8. Prepare list to fetch coordinates from postal code"
   ]
  },
  {
   "cell_type": "code",
   "execution_count": 12,
   "metadata": {},
   "outputs": [
    {
     "data": {
      "text/plain": [
       "['M4N', 'M5A', 'M4E', 'M4B', 'M9B', 'M7R', 'M3A', 'M9A', 'M1B', 'M6H', 'M6C']"
      ]
     },
     "execution_count": 12,
     "metadata": {},
     "output_type": "execute_result"
    }
   ],
   "source": [
    "# Only run once to get the Latitude / Longitude then Pickled\n",
    "import geocoder\n",
    "\n",
    "# Create a copy of the part_01 dataframe\n",
    "df2 = df1.copy()\n",
    "\n",
    "# Create a list of all the Postal Codes\n",
    "postal_codes = df1['PostalCode'].tolist()\n",
    "\n",
    "postal_codes"
   ]
  },
  {
   "cell_type": "code",
   "execution_count": 13,
   "metadata": {},
   "outputs": [
    {
     "name": "stdout",
     "output_type": "stream",
     "text": [
      "Collecting package metadata (current_repodata.json): done\n",
      "Solving environment: done\n",
      "\n",
      "## Package Plan ##\n",
      "\n",
      "  environment location: /Users/sakthi/opt/anaconda3\n",
      "\n",
      "  added / updated specs:\n",
      "    - geocoder\n",
      "\n",
      "\n",
      "The following packages will be downloaded:\n",
      "\n",
      "    package                    |            build\n",
      "    ---------------------------|-----------------\n",
      "    geocoder-1.38.1            |             py_1          53 KB  conda-forge\n",
      "    ratelim-0.1.6              |             py_2           6 KB  conda-forge\n",
      "    ------------------------------------------------------------\n",
      "                                           Total:          59 KB\n",
      "\n",
      "The following NEW packages will be INSTALLED:\n",
      "\n",
      "  geocoder           conda-forge/noarch::geocoder-1.38.1-py_1\n",
      "  ratelim            conda-forge/noarch::ratelim-0.1.6-py_2\n",
      "\n",
      "\n",
      "\n",
      "Downloading and Extracting Packages\n",
      "ratelim-0.1.6        | 6 KB      | ##################################### | 100% \n",
      "geocoder-1.38.1      | 53 KB     | ##################################### | 100% \n",
      "Preparing transaction: done\n",
      "Verifying transaction: done\n",
      "Executing transaction: done\n"
     ]
    }
   ],
   "source": [
    "!conda install -c conda-forge geocoder --yes"
   ]
  },
  {
   "cell_type": "markdown",
   "metadata": {},
   "source": [
    "9. Get the coordinates by calling geocoder function"
   ]
  },
  {
   "cell_type": "code",
   "execution_count": 19,
   "metadata": {},
   "outputs": [
    {
     "name": "stdout",
     "output_type": "stream",
     "text": [
      "M4N, Toronto, Ontario\n",
      "Trying for M4N\n"
     ]
    },
    {
     "name": "stderr",
     "output_type": "stream",
     "text": [
      "Status code 401 from http://api.opencagedata.com/geocode/v1/json: ERROR - 401 Client Error: Unauthorized for url: http://api.opencagedata.com/geocode/v1/json?query=M4N%2C+Toronto%2C+Ontario&key=13aa077d21ae42f287ec8607e07b2159&limit=1\n"
     ]
    },
    {
     "name": "stdout",
     "output_type": "stream",
     "text": [
      "Trying for M4N\n"
     ]
    },
    {
     "name": "stderr",
     "output_type": "stream",
     "text": [
      "Status code 401 from http://api.opencagedata.com/geocode/v1/json: ERROR - 401 Client Error: Unauthorized for url: http://api.opencagedata.com/geocode/v1/json?query=M4N%2C+Toronto%2C+Ontario&key=13aa077d21ae42f287ec8607e07b2159&limit=1\n"
     ]
    },
    {
     "name": "stdout",
     "output_type": "stream",
     "text": [
      "Trying for M4N\n"
     ]
    },
    {
     "name": "stderr",
     "output_type": "stream",
     "text": [
      "Status code 401 from http://api.opencagedata.com/geocode/v1/json: ERROR - 401 Client Error: Unauthorized for url: http://api.opencagedata.com/geocode/v1/json?query=M4N%2C+Toronto%2C+Ontario&key=13aa077d21ae42f287ec8607e07b2159&limit=1\n"
     ]
    },
    {
     "name": "stdout",
     "output_type": "stream",
     "text": [
      "Trying for M4N\n",
      "M4N, done\n",
      "M5A, Toronto, Ontario\n",
      "Trying for M5A\n"
     ]
    },
    {
     "name": "stderr",
     "output_type": "stream",
     "text": [
      "Status code 401 from http://api.opencagedata.com/geocode/v1/json: ERROR - 401 Client Error: Unauthorized for url: http://api.opencagedata.com/geocode/v1/json?query=M5A%2C+Toronto%2C+Ontario&key=13aa077d21ae42f287ec8607e07b2159&limit=1\n"
     ]
    },
    {
     "name": "stdout",
     "output_type": "stream",
     "text": [
      "Trying for M5A\n"
     ]
    },
    {
     "name": "stderr",
     "output_type": "stream",
     "text": [
      "Status code 401 from http://api.opencagedata.com/geocode/v1/json: ERROR - 401 Client Error: Unauthorized for url: http://api.opencagedata.com/geocode/v1/json?query=M5A%2C+Toronto%2C+Ontario&key=13aa077d21ae42f287ec8607e07b2159&limit=1\n"
     ]
    },
    {
     "name": "stdout",
     "output_type": "stream",
     "text": [
      "Trying for M5A\n"
     ]
    },
    {
     "name": "stderr",
     "output_type": "stream",
     "text": [
      "Status code 401 from http://api.opencagedata.com/geocode/v1/json: ERROR - 401 Client Error: Unauthorized for url: http://api.opencagedata.com/geocode/v1/json?query=M5A%2C+Toronto%2C+Ontario&key=13aa077d21ae42f287ec8607e07b2159&limit=1\n"
     ]
    },
    {
     "name": "stdout",
     "output_type": "stream",
     "text": [
      "Trying for M5A\n",
      "M5A, done\n",
      "M4E, Toronto, Ontario\n",
      "Trying for M4E\n"
     ]
    },
    {
     "name": "stderr",
     "output_type": "stream",
     "text": [
      "Status code 401 from http://api.opencagedata.com/geocode/v1/json: ERROR - 401 Client Error: Unauthorized for url: http://api.opencagedata.com/geocode/v1/json?query=M4E%2C+Toronto%2C+Ontario&key=13aa077d21ae42f287ec8607e07b2159&limit=1\n"
     ]
    },
    {
     "name": "stdout",
     "output_type": "stream",
     "text": [
      "Trying for M4E\n"
     ]
    },
    {
     "name": "stderr",
     "output_type": "stream",
     "text": [
      "Status code 401 from http://api.opencagedata.com/geocode/v1/json: ERROR - 401 Client Error: Unauthorized for url: http://api.opencagedata.com/geocode/v1/json?query=M4E%2C+Toronto%2C+Ontario&key=13aa077d21ae42f287ec8607e07b2159&limit=1\n"
     ]
    },
    {
     "name": "stdout",
     "output_type": "stream",
     "text": [
      "Trying for M4E\n"
     ]
    },
    {
     "name": "stderr",
     "output_type": "stream",
     "text": [
      "Status code 401 from http://api.opencagedata.com/geocode/v1/json: ERROR - 401 Client Error: Unauthorized for url: http://api.opencagedata.com/geocode/v1/json?query=M4E%2C+Toronto%2C+Ontario&key=13aa077d21ae42f287ec8607e07b2159&limit=1\n"
     ]
    },
    {
     "name": "stdout",
     "output_type": "stream",
     "text": [
      "Trying for M4E\n"
     ]
    },
    {
     "name": "stderr",
     "output_type": "stream",
     "text": [
      "Status code 401 from http://api.opencagedata.com/geocode/v1/json: ERROR - 401 Client Error: Unauthorized for url: http://api.opencagedata.com/geocode/v1/json?query=M4E%2C+Toronto%2C+Ontario&key=13aa077d21ae42f287ec8607e07b2159&limit=1\n"
     ]
    },
    {
     "name": "stdout",
     "output_type": "stream",
     "text": [
      "Trying for M4E\n"
     ]
    },
    {
     "name": "stderr",
     "output_type": "stream",
     "text": [
      "Status code 401 from http://api.opencagedata.com/geocode/v1/json: ERROR - 401 Client Error: Unauthorized for url: http://api.opencagedata.com/geocode/v1/json?query=M4E%2C+Toronto%2C+Ontario&key=13aa077d21ae42f287ec8607e07b2159&limit=1\n"
     ]
    },
    {
     "name": "stdout",
     "output_type": "stream",
     "text": [
      "Trying for M4E\n"
     ]
    },
    {
     "name": "stderr",
     "output_type": "stream",
     "text": [
      "Status code 401 from http://api.opencagedata.com/geocode/v1/json: ERROR - 401 Client Error: Unauthorized for url: http://api.opencagedata.com/geocode/v1/json?query=M4E%2C+Toronto%2C+Ontario&key=13aa077d21ae42f287ec8607e07b2159&limit=1\n"
     ]
    },
    {
     "name": "stdout",
     "output_type": "stream",
     "text": [
      "Trying for M4E\n"
     ]
    },
    {
     "name": "stderr",
     "output_type": "stream",
     "text": [
      "Status code 401 from http://api.opencagedata.com/geocode/v1/json: ERROR - 401 Client Error: Unauthorized for url: http://api.opencagedata.com/geocode/v1/json?query=M4E%2C+Toronto%2C+Ontario&key=13aa077d21ae42f287ec8607e07b2159&limit=1\n"
     ]
    },
    {
     "name": "stdout",
     "output_type": "stream",
     "text": [
      "Trying for M4E\n"
     ]
    },
    {
     "name": "stderr",
     "output_type": "stream",
     "text": [
      "Status code 401 from http://api.opencagedata.com/geocode/v1/json: ERROR - 401 Client Error: Unauthorized for url: http://api.opencagedata.com/geocode/v1/json?query=M4E%2C+Toronto%2C+Ontario&key=13aa077d21ae42f287ec8607e07b2159&limit=1\n"
     ]
    },
    {
     "name": "stdout",
     "output_type": "stream",
     "text": [
      "Trying for M4E\n"
     ]
    },
    {
     "name": "stderr",
     "output_type": "stream",
     "text": [
      "Status code 401 from http://api.opencagedata.com/geocode/v1/json: ERROR - 401 Client Error: Unauthorized for url: http://api.opencagedata.com/geocode/v1/json?query=M4E%2C+Toronto%2C+Ontario&key=13aa077d21ae42f287ec8607e07b2159&limit=1\n"
     ]
    },
    {
     "name": "stdout",
     "output_type": "stream",
     "text": [
      "Trying for M4E\n"
     ]
    },
    {
     "name": "stderr",
     "output_type": "stream",
     "text": [
      "Status code 401 from http://api.opencagedata.com/geocode/v1/json: ERROR - 401 Client Error: Unauthorized for url: http://api.opencagedata.com/geocode/v1/json?query=M4E%2C+Toronto%2C+Ontario&key=13aa077d21ae42f287ec8607e07b2159&limit=1\n"
     ]
    },
    {
     "name": "stdout",
     "output_type": "stream",
     "text": [
      "Trying for M4E\n"
     ]
    },
    {
     "name": "stderr",
     "output_type": "stream",
     "text": [
      "Status code 401 from http://api.opencagedata.com/geocode/v1/json: ERROR - 401 Client Error: Unauthorized for url: http://api.opencagedata.com/geocode/v1/json?query=M4E%2C+Toronto%2C+Ontario&key=13aa077d21ae42f287ec8607e07b2159&limit=1\n"
     ]
    },
    {
     "name": "stdout",
     "output_type": "stream",
     "text": [
      "Trying for M4E\n"
     ]
    },
    {
     "name": "stderr",
     "output_type": "stream",
     "text": [
      "Status code 401 from http://api.opencagedata.com/geocode/v1/json: ERROR - 401 Client Error: Unauthorized for url: http://api.opencagedata.com/geocode/v1/json?query=M4E%2C+Toronto%2C+Ontario&key=13aa077d21ae42f287ec8607e07b2159&limit=1\n"
     ]
    },
    {
     "name": "stdout",
     "output_type": "stream",
     "text": [
      "Trying for M4E\n"
     ]
    },
    {
     "name": "stderr",
     "output_type": "stream",
     "text": [
      "Status code 401 from http://api.opencagedata.com/geocode/v1/json: ERROR - 401 Client Error: Unauthorized for url: http://api.opencagedata.com/geocode/v1/json?query=M4E%2C+Toronto%2C+Ontario&key=13aa077d21ae42f287ec8607e07b2159&limit=1\n"
     ]
    },
    {
     "name": "stdout",
     "output_type": "stream",
     "text": [
      "Trying for M4E\n"
     ]
    },
    {
     "name": "stderr",
     "output_type": "stream",
     "text": [
      "Status code 401 from http://api.opencagedata.com/geocode/v1/json: ERROR - 401 Client Error: Unauthorized for url: http://api.opencagedata.com/geocode/v1/json?query=M4E%2C+Toronto%2C+Ontario&key=13aa077d21ae42f287ec8607e07b2159&limit=1\n"
     ]
    },
    {
     "name": "stdout",
     "output_type": "stream",
     "text": [
      "Trying for M4E\n"
     ]
    },
    {
     "name": "stderr",
     "output_type": "stream",
     "text": [
      "Status code 401 from http://api.opencagedata.com/geocode/v1/json: ERROR - 401 Client Error: Unauthorized for url: http://api.opencagedata.com/geocode/v1/json?query=M4E%2C+Toronto%2C+Ontario&key=13aa077d21ae42f287ec8607e07b2159&limit=1\n"
     ]
    },
    {
     "name": "stdout",
     "output_type": "stream",
     "text": [
      "Trying for M4E\n"
     ]
    },
    {
     "name": "stderr",
     "output_type": "stream",
     "text": [
      "Status code 401 from http://api.opencagedata.com/geocode/v1/json: ERROR - 401 Client Error: Unauthorized for url: http://api.opencagedata.com/geocode/v1/json?query=M4E%2C+Toronto%2C+Ontario&key=13aa077d21ae42f287ec8607e07b2159&limit=1\n"
     ]
    },
    {
     "name": "stdout",
     "output_type": "stream",
     "text": [
      "Trying for M4E\n"
     ]
    },
    {
     "name": "stderr",
     "output_type": "stream",
     "text": [
      "Status code 401 from http://api.opencagedata.com/geocode/v1/json: ERROR - 401 Client Error: Unauthorized for url: http://api.opencagedata.com/geocode/v1/json?query=M4E%2C+Toronto%2C+Ontario&key=13aa077d21ae42f287ec8607e07b2159&limit=1\n"
     ]
    },
    {
     "name": "stdout",
     "output_type": "stream",
     "text": [
      "Trying for M4E\n"
     ]
    },
    {
     "name": "stderr",
     "output_type": "stream",
     "text": [
      "Status code 401 from http://api.opencagedata.com/geocode/v1/json: ERROR - 401 Client Error: Unauthorized for url: http://api.opencagedata.com/geocode/v1/json?query=M4E%2C+Toronto%2C+Ontario&key=13aa077d21ae42f287ec8607e07b2159&limit=1\n"
     ]
    },
    {
     "name": "stdout",
     "output_type": "stream",
     "text": [
      "Trying for M4E\n"
     ]
    },
    {
     "name": "stderr",
     "output_type": "stream",
     "text": [
      "Status code 401 from http://api.opencagedata.com/geocode/v1/json: ERROR - 401 Client Error: Unauthorized for url: http://api.opencagedata.com/geocode/v1/json?query=M4E%2C+Toronto%2C+Ontario&key=13aa077d21ae42f287ec8607e07b2159&limit=1\n"
     ]
    },
    {
     "name": "stdout",
     "output_type": "stream",
     "text": [
      "Trying for M4E\n"
     ]
    },
    {
     "name": "stderr",
     "output_type": "stream",
     "text": [
      "Status code 401 from http://api.opencagedata.com/geocode/v1/json: ERROR - 401 Client Error: Unauthorized for url: http://api.opencagedata.com/geocode/v1/json?query=M4E%2C+Toronto%2C+Ontario&key=13aa077d21ae42f287ec8607e07b2159&limit=1\n"
     ]
    },
    {
     "name": "stdout",
     "output_type": "stream",
     "text": [
      "Trying for M4E\n"
     ]
    },
    {
     "name": "stderr",
     "output_type": "stream",
     "text": [
      "Status code 401 from http://api.opencagedata.com/geocode/v1/json: ERROR - 401 Client Error: Unauthorized for url: http://api.opencagedata.com/geocode/v1/json?query=M4E%2C+Toronto%2C+Ontario&key=13aa077d21ae42f287ec8607e07b2159&limit=1\n"
     ]
    },
    {
     "name": "stdout",
     "output_type": "stream",
     "text": [
      "Trying for M4E\n"
     ]
    },
    {
     "name": "stderr",
     "output_type": "stream",
     "text": [
      "Status code 401 from http://api.opencagedata.com/geocode/v1/json: ERROR - 401 Client Error: Unauthorized for url: http://api.opencagedata.com/geocode/v1/json?query=M4E%2C+Toronto%2C+Ontario&key=13aa077d21ae42f287ec8607e07b2159&limit=1\n"
     ]
    },
    {
     "name": "stdout",
     "output_type": "stream",
     "text": [
      "Trying for M4E\n"
     ]
    },
    {
     "name": "stderr",
     "output_type": "stream",
     "text": [
      "Status code 401 from http://api.opencagedata.com/geocode/v1/json: ERROR - 401 Client Error: Unauthorized for url: http://api.opencagedata.com/geocode/v1/json?query=M4E%2C+Toronto%2C+Ontario&key=13aa077d21ae42f287ec8607e07b2159&limit=1\n"
     ]
    },
    {
     "name": "stdout",
     "output_type": "stream",
     "text": [
      "Trying for M4E\n"
     ]
    },
    {
     "name": "stderr",
     "output_type": "stream",
     "text": [
      "Status code 401 from http://api.opencagedata.com/geocode/v1/json: ERROR - 401 Client Error: Unauthorized for url: http://api.opencagedata.com/geocode/v1/json?query=M4E%2C+Toronto%2C+Ontario&key=13aa077d21ae42f287ec8607e07b2159&limit=1\n"
     ]
    },
    {
     "name": "stdout",
     "output_type": "stream",
     "text": [
      "Trying for M4E\n"
     ]
    },
    {
     "name": "stderr",
     "output_type": "stream",
     "text": [
      "Status code 401 from http://api.opencagedata.com/geocode/v1/json: ERROR - 401 Client Error: Unauthorized for url: http://api.opencagedata.com/geocode/v1/json?query=M4E%2C+Toronto%2C+Ontario&key=13aa077d21ae42f287ec8607e07b2159&limit=1\n"
     ]
    },
    {
     "name": "stdout",
     "output_type": "stream",
     "text": [
      "Trying for M4E\n"
     ]
    },
    {
     "name": "stderr",
     "output_type": "stream",
     "text": [
      "Status code 401 from http://api.opencagedata.com/geocode/v1/json: ERROR - 401 Client Error: Unauthorized for url: http://api.opencagedata.com/geocode/v1/json?query=M4E%2C+Toronto%2C+Ontario&key=13aa077d21ae42f287ec8607e07b2159&limit=1\n"
     ]
    },
    {
     "name": "stdout",
     "output_type": "stream",
     "text": [
      "Trying for M4E\n"
     ]
    },
    {
     "name": "stderr",
     "output_type": "stream",
     "text": [
      "Status code 401 from http://api.opencagedata.com/geocode/v1/json: ERROR - 401 Client Error: Unauthorized for url: http://api.opencagedata.com/geocode/v1/json?query=M4E%2C+Toronto%2C+Ontario&key=13aa077d21ae42f287ec8607e07b2159&limit=1\n"
     ]
    },
    {
     "name": "stdout",
     "output_type": "stream",
     "text": [
      "Trying for M4E\n"
     ]
    },
    {
     "name": "stderr",
     "output_type": "stream",
     "text": [
      "Status code 401 from http://api.opencagedata.com/geocode/v1/json: ERROR - 401 Client Error: Unauthorized for url: http://api.opencagedata.com/geocode/v1/json?query=M4E%2C+Toronto%2C+Ontario&key=13aa077d21ae42f287ec8607e07b2159&limit=1\n"
     ]
    },
    {
     "name": "stdout",
     "output_type": "stream",
     "text": [
      "Trying for M4E\n"
     ]
    },
    {
     "name": "stderr",
     "output_type": "stream",
     "text": [
      "Status code 401 from http://api.opencagedata.com/geocode/v1/json: ERROR - 401 Client Error: Unauthorized for url: http://api.opencagedata.com/geocode/v1/json?query=M4E%2C+Toronto%2C+Ontario&key=13aa077d21ae42f287ec8607e07b2159&limit=1\n"
     ]
    },
    {
     "name": "stdout",
     "output_type": "stream",
     "text": [
      "Trying for M4E\n"
     ]
    },
    {
     "name": "stderr",
     "output_type": "stream",
     "text": [
      "Status code 401 from http://api.opencagedata.com/geocode/v1/json: ERROR - 401 Client Error: Unauthorized for url: http://api.opencagedata.com/geocode/v1/json?query=M4E%2C+Toronto%2C+Ontario&key=13aa077d21ae42f287ec8607e07b2159&limit=1\n"
     ]
    },
    {
     "name": "stdout",
     "output_type": "stream",
     "text": [
      "Trying for M4E\n"
     ]
    },
    {
     "name": "stderr",
     "output_type": "stream",
     "text": [
      "Status code 401 from http://api.opencagedata.com/geocode/v1/json: ERROR - 401 Client Error: Unauthorized for url: http://api.opencagedata.com/geocode/v1/json?query=M4E%2C+Toronto%2C+Ontario&key=13aa077d21ae42f287ec8607e07b2159&limit=1\n"
     ]
    },
    {
     "name": "stdout",
     "output_type": "stream",
     "text": [
      "Trying for M4E\n"
     ]
    },
    {
     "name": "stderr",
     "output_type": "stream",
     "text": [
      "Status code 401 from http://api.opencagedata.com/geocode/v1/json: ERROR - 401 Client Error: Unauthorized for url: http://api.opencagedata.com/geocode/v1/json?query=M4E%2C+Toronto%2C+Ontario&key=13aa077d21ae42f287ec8607e07b2159&limit=1\n"
     ]
    },
    {
     "name": "stdout",
     "output_type": "stream",
     "text": [
      "Trying for M4E\n"
     ]
    },
    {
     "name": "stderr",
     "output_type": "stream",
     "text": [
      "Status code 401 from http://api.opencagedata.com/geocode/v1/json: ERROR - 401 Client Error: Unauthorized for url: http://api.opencagedata.com/geocode/v1/json?query=M4E%2C+Toronto%2C+Ontario&key=13aa077d21ae42f287ec8607e07b2159&limit=1\n"
     ]
    },
    {
     "name": "stdout",
     "output_type": "stream",
     "text": [
      "Trying for M4E\n"
     ]
    },
    {
     "name": "stderr",
     "output_type": "stream",
     "text": [
      "Status code 401 from http://api.opencagedata.com/geocode/v1/json: ERROR - 401 Client Error: Unauthorized for url: http://api.opencagedata.com/geocode/v1/json?query=M4E%2C+Toronto%2C+Ontario&key=13aa077d21ae42f287ec8607e07b2159&limit=1\n"
     ]
    },
    {
     "name": "stdout",
     "output_type": "stream",
     "text": [
      "Trying for M4E\n"
     ]
    },
    {
     "name": "stderr",
     "output_type": "stream",
     "text": [
      "Status code 401 from http://api.opencagedata.com/geocode/v1/json: ERROR - 401 Client Error: Unauthorized for url: http://api.opencagedata.com/geocode/v1/json?query=M4E%2C+Toronto%2C+Ontario&key=13aa077d21ae42f287ec8607e07b2159&limit=1\n"
     ]
    },
    {
     "name": "stdout",
     "output_type": "stream",
     "text": [
      "Trying for M4E\n"
     ]
    },
    {
     "name": "stderr",
     "output_type": "stream",
     "text": [
      "Status code 401 from http://api.opencagedata.com/geocode/v1/json: ERROR - 401 Client Error: Unauthorized for url: http://api.opencagedata.com/geocode/v1/json?query=M4E%2C+Toronto%2C+Ontario&key=13aa077d21ae42f287ec8607e07b2159&limit=1\n"
     ]
    },
    {
     "name": "stdout",
     "output_type": "stream",
     "text": [
      "Trying for M4E\n"
     ]
    },
    {
     "name": "stderr",
     "output_type": "stream",
     "text": [
      "Status code 401 from http://api.opencagedata.com/geocode/v1/json: ERROR - 401 Client Error: Unauthorized for url: http://api.opencagedata.com/geocode/v1/json?query=M4E%2C+Toronto%2C+Ontario&key=13aa077d21ae42f287ec8607e07b2159&limit=1\n"
     ]
    },
    {
     "name": "stdout",
     "output_type": "stream",
     "text": [
      "Trying for M4E\n"
     ]
    },
    {
     "name": "stderr",
     "output_type": "stream",
     "text": [
      "Status code 401 from http://api.opencagedata.com/geocode/v1/json: ERROR - 401 Client Error: Unauthorized for url: http://api.opencagedata.com/geocode/v1/json?query=M4E%2C+Toronto%2C+Ontario&key=13aa077d21ae42f287ec8607e07b2159&limit=1\n"
     ]
    },
    {
     "name": "stdout",
     "output_type": "stream",
     "text": [
      "Trying for M4E\n"
     ]
    },
    {
     "name": "stderr",
     "output_type": "stream",
     "text": [
      "Status code 401 from http://api.opencagedata.com/geocode/v1/json: ERROR - 401 Client Error: Unauthorized for url: http://api.opencagedata.com/geocode/v1/json?query=M4E%2C+Toronto%2C+Ontario&key=13aa077d21ae42f287ec8607e07b2159&limit=1\n"
     ]
    },
    {
     "name": "stdout",
     "output_type": "stream",
     "text": [
      "Trying for M4E\n"
     ]
    },
    {
     "name": "stderr",
     "output_type": "stream",
     "text": [
      "Status code 401 from http://api.opencagedata.com/geocode/v1/json: ERROR - 401 Client Error: Unauthorized for url: http://api.opencagedata.com/geocode/v1/json?query=M4E%2C+Toronto%2C+Ontario&key=13aa077d21ae42f287ec8607e07b2159&limit=1\n"
     ]
    },
    {
     "name": "stdout",
     "output_type": "stream",
     "text": [
      "Trying for M4E\n"
     ]
    },
    {
     "name": "stderr",
     "output_type": "stream",
     "text": [
      "Status code 401 from http://api.opencagedata.com/geocode/v1/json: ERROR - 401 Client Error: Unauthorized for url: http://api.opencagedata.com/geocode/v1/json?query=M4E%2C+Toronto%2C+Ontario&key=13aa077d21ae42f287ec8607e07b2159&limit=1\n"
     ]
    },
    {
     "name": "stdout",
     "output_type": "stream",
     "text": [
      "Trying for M4E\n"
     ]
    },
    {
     "name": "stderr",
     "output_type": "stream",
     "text": [
      "Status code 401 from http://api.opencagedata.com/geocode/v1/json: ERROR - 401 Client Error: Unauthorized for url: http://api.opencagedata.com/geocode/v1/json?query=M4E%2C+Toronto%2C+Ontario&key=13aa077d21ae42f287ec8607e07b2159&limit=1\n"
     ]
    },
    {
     "name": "stdout",
     "output_type": "stream",
     "text": [
      "Trying for M4E\n"
     ]
    },
    {
     "name": "stderr",
     "output_type": "stream",
     "text": [
      "Status code 401 from http://api.opencagedata.com/geocode/v1/json: ERROR - 401 Client Error: Unauthorized for url: http://api.opencagedata.com/geocode/v1/json?query=M4E%2C+Toronto%2C+Ontario&key=13aa077d21ae42f287ec8607e07b2159&limit=1\n"
     ]
    },
    {
     "name": "stdout",
     "output_type": "stream",
     "text": [
      "Trying for M4E\n"
     ]
    },
    {
     "name": "stderr",
     "output_type": "stream",
     "text": [
      "Status code 401 from http://api.opencagedata.com/geocode/v1/json: ERROR - 401 Client Error: Unauthorized for url: http://api.opencagedata.com/geocode/v1/json?query=M4E%2C+Toronto%2C+Ontario&key=13aa077d21ae42f287ec8607e07b2159&limit=1\n"
     ]
    },
    {
     "name": "stdout",
     "output_type": "stream",
     "text": [
      "Trying for M4E\n"
     ]
    },
    {
     "name": "stderr",
     "output_type": "stream",
     "text": [
      "Status code 401 from http://api.opencagedata.com/geocode/v1/json: ERROR - 401 Client Error: Unauthorized for url: http://api.opencagedata.com/geocode/v1/json?query=M4E%2C+Toronto%2C+Ontario&key=13aa077d21ae42f287ec8607e07b2159&limit=1\n"
     ]
    },
    {
     "name": "stdout",
     "output_type": "stream",
     "text": [
      "Trying for M4E\n"
     ]
    },
    {
     "name": "stderr",
     "output_type": "stream",
     "text": [
      "Status code 401 from http://api.opencagedata.com/geocode/v1/json: ERROR - 401 Client Error: Unauthorized for url: http://api.opencagedata.com/geocode/v1/json?query=M4E%2C+Toronto%2C+Ontario&key=13aa077d21ae42f287ec8607e07b2159&limit=1\n"
     ]
    },
    {
     "name": "stdout",
     "output_type": "stream",
     "text": [
      "Trying for M4E\n"
     ]
    },
    {
     "name": "stderr",
     "output_type": "stream",
     "text": [
      "Status code 401 from http://api.opencagedata.com/geocode/v1/json: ERROR - 401 Client Error: Unauthorized for url: http://api.opencagedata.com/geocode/v1/json?query=M4E%2C+Toronto%2C+Ontario&key=13aa077d21ae42f287ec8607e07b2159&limit=1\n"
     ]
    },
    {
     "name": "stdout",
     "output_type": "stream",
     "text": [
      "Trying for M4E\n"
     ]
    },
    {
     "name": "stderr",
     "output_type": "stream",
     "text": [
      "Status code 401 from http://api.opencagedata.com/geocode/v1/json: ERROR - 401 Client Error: Unauthorized for url: http://api.opencagedata.com/geocode/v1/json?query=M4E%2C+Toronto%2C+Ontario&key=13aa077d21ae42f287ec8607e07b2159&limit=1\n"
     ]
    },
    {
     "name": "stdout",
     "output_type": "stream",
     "text": [
      "Trying for M4E\n"
     ]
    },
    {
     "name": "stderr",
     "output_type": "stream",
     "text": [
      "Status code 401 from http://api.opencagedata.com/geocode/v1/json: ERROR - 401 Client Error: Unauthorized for url: http://api.opencagedata.com/geocode/v1/json?query=M4E%2C+Toronto%2C+Ontario&key=13aa077d21ae42f287ec8607e07b2159&limit=1\n"
     ]
    },
    {
     "name": "stdout",
     "output_type": "stream",
     "text": [
      "Trying for M4E\n"
     ]
    },
    {
     "name": "stderr",
     "output_type": "stream",
     "text": [
      "Status code 401 from http://api.opencagedata.com/geocode/v1/json: ERROR - 401 Client Error: Unauthorized for url: http://api.opencagedata.com/geocode/v1/json?query=M4E%2C+Toronto%2C+Ontario&key=13aa077d21ae42f287ec8607e07b2159&limit=1\n"
     ]
    },
    {
     "name": "stdout",
     "output_type": "stream",
     "text": [
      "Trying for M4E\n"
     ]
    },
    {
     "name": "stderr",
     "output_type": "stream",
     "text": [
      "Status code 401 from http://api.opencagedata.com/geocode/v1/json: ERROR - 401 Client Error: Unauthorized for url: http://api.opencagedata.com/geocode/v1/json?query=M4E%2C+Toronto%2C+Ontario&key=13aa077d21ae42f287ec8607e07b2159&limit=1\n"
     ]
    },
    {
     "name": "stdout",
     "output_type": "stream",
     "text": [
      "Trying for M4E\n"
     ]
    },
    {
     "name": "stderr",
     "output_type": "stream",
     "text": [
      "Status code 401 from http://api.opencagedata.com/geocode/v1/json: ERROR - 401 Client Error: Unauthorized for url: http://api.opencagedata.com/geocode/v1/json?query=M4E%2C+Toronto%2C+Ontario&key=13aa077d21ae42f287ec8607e07b2159&limit=1\n"
     ]
    },
    {
     "name": "stdout",
     "output_type": "stream",
     "text": [
      "Trying for M4E\n"
     ]
    },
    {
     "name": "stderr",
     "output_type": "stream",
     "text": [
      "Status code 401 from http://api.opencagedata.com/geocode/v1/json: ERROR - 401 Client Error: Unauthorized for url: http://api.opencagedata.com/geocode/v1/json?query=M4E%2C+Toronto%2C+Ontario&key=13aa077d21ae42f287ec8607e07b2159&limit=1\n"
     ]
    },
    {
     "name": "stdout",
     "output_type": "stream",
     "text": [
      "Trying for M4E\n"
     ]
    },
    {
     "name": "stderr",
     "output_type": "stream",
     "text": [
      "Status code 401 from http://api.opencagedata.com/geocode/v1/json: ERROR - 401 Client Error: Unauthorized for url: http://api.opencagedata.com/geocode/v1/json?query=M4E%2C+Toronto%2C+Ontario&key=13aa077d21ae42f287ec8607e07b2159&limit=1\n"
     ]
    },
    {
     "name": "stdout",
     "output_type": "stream",
     "text": [
      "Trying for M4E\n"
     ]
    },
    {
     "name": "stderr",
     "output_type": "stream",
     "text": [
      "Status code 401 from http://api.opencagedata.com/geocode/v1/json: ERROR - 401 Client Error: Unauthorized for url: http://api.opencagedata.com/geocode/v1/json?query=M4E%2C+Toronto%2C+Ontario&key=13aa077d21ae42f287ec8607e07b2159&limit=1\n"
     ]
    },
    {
     "name": "stdout",
     "output_type": "stream",
     "text": [
      "Trying for M4E\n"
     ]
    },
    {
     "name": "stderr",
     "output_type": "stream",
     "text": [
      "Status code 401 from http://api.opencagedata.com/geocode/v1/json: ERROR - 401 Client Error: Unauthorized for url: http://api.opencagedata.com/geocode/v1/json?query=M4E%2C+Toronto%2C+Ontario&key=13aa077d21ae42f287ec8607e07b2159&limit=1\n"
     ]
    },
    {
     "name": "stdout",
     "output_type": "stream",
     "text": [
      "Trying for M4E\n"
     ]
    },
    {
     "name": "stderr",
     "output_type": "stream",
     "text": [
      "Status code 401 from http://api.opencagedata.com/geocode/v1/json: ERROR - 401 Client Error: Unauthorized for url: http://api.opencagedata.com/geocode/v1/json?query=M4E%2C+Toronto%2C+Ontario&key=13aa077d21ae42f287ec8607e07b2159&limit=1\n"
     ]
    },
    {
     "name": "stdout",
     "output_type": "stream",
     "text": [
      "Trying for M4E\n"
     ]
    },
    {
     "name": "stderr",
     "output_type": "stream",
     "text": [
      "Status code 401 from http://api.opencagedata.com/geocode/v1/json: ERROR - 401 Client Error: Unauthorized for url: http://api.opencagedata.com/geocode/v1/json?query=M4E%2C+Toronto%2C+Ontario&key=13aa077d21ae42f287ec8607e07b2159&limit=1\n"
     ]
    },
    {
     "name": "stdout",
     "output_type": "stream",
     "text": [
      "Trying for M4E\n"
     ]
    },
    {
     "name": "stderr",
     "output_type": "stream",
     "text": [
      "Status code 401 from http://api.opencagedata.com/geocode/v1/json: ERROR - 401 Client Error: Unauthorized for url: http://api.opencagedata.com/geocode/v1/json?query=M4E%2C+Toronto%2C+Ontario&key=13aa077d21ae42f287ec8607e07b2159&limit=1\n"
     ]
    },
    {
     "name": "stdout",
     "output_type": "stream",
     "text": [
      "Trying for M4E\n"
     ]
    },
    {
     "name": "stderr",
     "output_type": "stream",
     "text": [
      "Status code 401 from http://api.opencagedata.com/geocode/v1/json: ERROR - 401 Client Error: Unauthorized for url: http://api.opencagedata.com/geocode/v1/json?query=M4E%2C+Toronto%2C+Ontario&key=13aa077d21ae42f287ec8607e07b2159&limit=1\n"
     ]
    },
    {
     "name": "stdout",
     "output_type": "stream",
     "text": [
      "Trying for M4E\n"
     ]
    },
    {
     "name": "stderr",
     "output_type": "stream",
     "text": [
      "Status code 401 from http://api.opencagedata.com/geocode/v1/json: ERROR - 401 Client Error: Unauthorized for url: http://api.opencagedata.com/geocode/v1/json?query=M4E%2C+Toronto%2C+Ontario&key=13aa077d21ae42f287ec8607e07b2159&limit=1\n"
     ]
    },
    {
     "name": "stdout",
     "output_type": "stream",
     "text": [
      "Trying for M4E\n"
     ]
    },
    {
     "name": "stderr",
     "output_type": "stream",
     "text": [
      "Status code 401 from http://api.opencagedata.com/geocode/v1/json: ERROR - 401 Client Error: Unauthorized for url: http://api.opencagedata.com/geocode/v1/json?query=M4E%2C+Toronto%2C+Ontario&key=13aa077d21ae42f287ec8607e07b2159&limit=1\n"
     ]
    },
    {
     "name": "stdout",
     "output_type": "stream",
     "text": [
      "Trying for M4E\n"
     ]
    },
    {
     "name": "stderr",
     "output_type": "stream",
     "text": [
      "Status code 401 from http://api.opencagedata.com/geocode/v1/json: ERROR - 401 Client Error: Unauthorized for url: http://api.opencagedata.com/geocode/v1/json?query=M4E%2C+Toronto%2C+Ontario&key=13aa077d21ae42f287ec8607e07b2159&limit=1\n"
     ]
    },
    {
     "name": "stdout",
     "output_type": "stream",
     "text": [
      "Trying for M4E\n"
     ]
    },
    {
     "name": "stderr",
     "output_type": "stream",
     "text": [
      "Status code 401 from http://api.opencagedata.com/geocode/v1/json: ERROR - 401 Client Error: Unauthorized for url: http://api.opencagedata.com/geocode/v1/json?query=M4E%2C+Toronto%2C+Ontario&key=13aa077d21ae42f287ec8607e07b2159&limit=1\n"
     ]
    },
    {
     "name": "stdout",
     "output_type": "stream",
     "text": [
      "Trying for M4E\n"
     ]
    },
    {
     "name": "stderr",
     "output_type": "stream",
     "text": [
      "Status code 401 from http://api.opencagedata.com/geocode/v1/json: ERROR - 401 Client Error: Unauthorized for url: http://api.opencagedata.com/geocode/v1/json?query=M4E%2C+Toronto%2C+Ontario&key=13aa077d21ae42f287ec8607e07b2159&limit=1\n"
     ]
    },
    {
     "name": "stdout",
     "output_type": "stream",
     "text": [
      "Trying for M4E\n"
     ]
    },
    {
     "name": "stderr",
     "output_type": "stream",
     "text": [
      "Status code 401 from http://api.opencagedata.com/geocode/v1/json: ERROR - 401 Client Error: Unauthorized for url: http://api.opencagedata.com/geocode/v1/json?query=M4E%2C+Toronto%2C+Ontario&key=13aa077d21ae42f287ec8607e07b2159&limit=1\n"
     ]
    },
    {
     "name": "stdout",
     "output_type": "stream",
     "text": [
      "Trying for M4E\n"
     ]
    },
    {
     "name": "stderr",
     "output_type": "stream",
     "text": [
      "Status code 401 from http://api.opencagedata.com/geocode/v1/json: ERROR - 401 Client Error: Unauthorized for url: http://api.opencagedata.com/geocode/v1/json?query=M4E%2C+Toronto%2C+Ontario&key=13aa077d21ae42f287ec8607e07b2159&limit=1\n"
     ]
    },
    {
     "name": "stdout",
     "output_type": "stream",
     "text": [
      "Trying for M4E\n"
     ]
    },
    {
     "name": "stderr",
     "output_type": "stream",
     "text": [
      "Status code 401 from http://api.opencagedata.com/geocode/v1/json: ERROR - 401 Client Error: Unauthorized for url: http://api.opencagedata.com/geocode/v1/json?query=M4E%2C+Toronto%2C+Ontario&key=13aa077d21ae42f287ec8607e07b2159&limit=1\n"
     ]
    },
    {
     "name": "stdout",
     "output_type": "stream",
     "text": [
      "Trying for M4E\n"
     ]
    },
    {
     "name": "stderr",
     "output_type": "stream",
     "text": [
      "Status code 401 from http://api.opencagedata.com/geocode/v1/json: ERROR - 401 Client Error: Unauthorized for url: http://api.opencagedata.com/geocode/v1/json?query=M4E%2C+Toronto%2C+Ontario&key=13aa077d21ae42f287ec8607e07b2159&limit=1\n"
     ]
    },
    {
     "name": "stdout",
     "output_type": "stream",
     "text": [
      "Trying for M4E\n"
     ]
    },
    {
     "name": "stderr",
     "output_type": "stream",
     "text": [
      "Status code 401 from http://api.opencagedata.com/geocode/v1/json: ERROR - 401 Client Error: Unauthorized for url: http://api.opencagedata.com/geocode/v1/json?query=M4E%2C+Toronto%2C+Ontario&key=13aa077d21ae42f287ec8607e07b2159&limit=1\n"
     ]
    },
    {
     "name": "stdout",
     "output_type": "stream",
     "text": [
      "Trying for M4E\n"
     ]
    },
    {
     "name": "stderr",
     "output_type": "stream",
     "text": [
      "Status code 401 from http://api.opencagedata.com/geocode/v1/json: ERROR - 401 Client Error: Unauthorized for url: http://api.opencagedata.com/geocode/v1/json?query=M4E%2C+Toronto%2C+Ontario&key=13aa077d21ae42f287ec8607e07b2159&limit=1\n"
     ]
    },
    {
     "name": "stdout",
     "output_type": "stream",
     "text": [
      "Trying for M4E\n"
     ]
    },
    {
     "name": "stderr",
     "output_type": "stream",
     "text": [
      "Status code 401 from http://api.opencagedata.com/geocode/v1/json: ERROR - 401 Client Error: Unauthorized for url: http://api.opencagedata.com/geocode/v1/json?query=M4E%2C+Toronto%2C+Ontario&key=13aa077d21ae42f287ec8607e07b2159&limit=1\n"
     ]
    },
    {
     "name": "stdout",
     "output_type": "stream",
     "text": [
      "Trying for M4E\n"
     ]
    },
    {
     "name": "stderr",
     "output_type": "stream",
     "text": [
      "Status code 401 from http://api.opencagedata.com/geocode/v1/json: ERROR - 401 Client Error: Unauthorized for url: http://api.opencagedata.com/geocode/v1/json?query=M4E%2C+Toronto%2C+Ontario&key=13aa077d21ae42f287ec8607e07b2159&limit=1\n"
     ]
    },
    {
     "name": "stdout",
     "output_type": "stream",
     "text": [
      "Trying for M4E\n"
     ]
    },
    {
     "name": "stderr",
     "output_type": "stream",
     "text": [
      "Status code 401 from http://api.opencagedata.com/geocode/v1/json: ERROR - 401 Client Error: Unauthorized for url: http://api.opencagedata.com/geocode/v1/json?query=M4E%2C+Toronto%2C+Ontario&key=13aa077d21ae42f287ec8607e07b2159&limit=1\n"
     ]
    },
    {
     "name": "stdout",
     "output_type": "stream",
     "text": [
      "Trying for M4E\n"
     ]
    },
    {
     "name": "stderr",
     "output_type": "stream",
     "text": [
      "Status code 401 from http://api.opencagedata.com/geocode/v1/json: ERROR - 401 Client Error: Unauthorized for url: http://api.opencagedata.com/geocode/v1/json?query=M4E%2C+Toronto%2C+Ontario&key=13aa077d21ae42f287ec8607e07b2159&limit=1\n"
     ]
    },
    {
     "name": "stdout",
     "output_type": "stream",
     "text": [
      "Trying for M4E\n"
     ]
    },
    {
     "name": "stderr",
     "output_type": "stream",
     "text": [
      "Status code 401 from http://api.opencagedata.com/geocode/v1/json: ERROR - 401 Client Error: Unauthorized for url: http://api.opencagedata.com/geocode/v1/json?query=M4E%2C+Toronto%2C+Ontario&key=13aa077d21ae42f287ec8607e07b2159&limit=1\n"
     ]
    },
    {
     "name": "stdout",
     "output_type": "stream",
     "text": [
      "Trying for M4E\n"
     ]
    },
    {
     "name": "stderr",
     "output_type": "stream",
     "text": [
      "Status code 401 from http://api.opencagedata.com/geocode/v1/json: ERROR - 401 Client Error: Unauthorized for url: http://api.opencagedata.com/geocode/v1/json?query=M4E%2C+Toronto%2C+Ontario&key=13aa077d21ae42f287ec8607e07b2159&limit=1\n"
     ]
    },
    {
     "name": "stdout",
     "output_type": "stream",
     "text": [
      "Trying for M4E\n"
     ]
    },
    {
     "name": "stderr",
     "output_type": "stream",
     "text": [
      "Status code 401 from http://api.opencagedata.com/geocode/v1/json: ERROR - 401 Client Error: Unauthorized for url: http://api.opencagedata.com/geocode/v1/json?query=M4E%2C+Toronto%2C+Ontario&key=13aa077d21ae42f287ec8607e07b2159&limit=1\n"
     ]
    },
    {
     "name": "stdout",
     "output_type": "stream",
     "text": [
      "Trying for M4E\n"
     ]
    },
    {
     "name": "stderr",
     "output_type": "stream",
     "text": [
      "Status code 401 from http://api.opencagedata.com/geocode/v1/json: ERROR - 401 Client Error: Unauthorized for url: http://api.opencagedata.com/geocode/v1/json?query=M4E%2C+Toronto%2C+Ontario&key=13aa077d21ae42f287ec8607e07b2159&limit=1\n"
     ]
    },
    {
     "name": "stdout",
     "output_type": "stream",
     "text": [
      "Trying for M4E\n"
     ]
    },
    {
     "name": "stderr",
     "output_type": "stream",
     "text": [
      "Status code 401 from http://api.opencagedata.com/geocode/v1/json: ERROR - 401 Client Error: Unauthorized for url: http://api.opencagedata.com/geocode/v1/json?query=M4E%2C+Toronto%2C+Ontario&key=13aa077d21ae42f287ec8607e07b2159&limit=1\n"
     ]
    },
    {
     "name": "stdout",
     "output_type": "stream",
     "text": [
      "Trying for M4E\n"
     ]
    },
    {
     "name": "stderr",
     "output_type": "stream",
     "text": [
      "Status code 401 from http://api.opencagedata.com/geocode/v1/json: ERROR - 401 Client Error: Unauthorized for url: http://api.opencagedata.com/geocode/v1/json?query=M4E%2C+Toronto%2C+Ontario&key=13aa077d21ae42f287ec8607e07b2159&limit=1\n"
     ]
    },
    {
     "name": "stdout",
     "output_type": "stream",
     "text": [
      "Trying for M4E\n"
     ]
    },
    {
     "name": "stderr",
     "output_type": "stream",
     "text": [
      "Status code 401 from http://api.opencagedata.com/geocode/v1/json: ERROR - 401 Client Error: Unauthorized for url: http://api.opencagedata.com/geocode/v1/json?query=M4E%2C+Toronto%2C+Ontario&key=13aa077d21ae42f287ec8607e07b2159&limit=1\n"
     ]
    },
    {
     "name": "stdout",
     "output_type": "stream",
     "text": [
      "Trying for M4E\n"
     ]
    },
    {
     "name": "stderr",
     "output_type": "stream",
     "text": [
      "Status code 401 from http://api.opencagedata.com/geocode/v1/json: ERROR - 401 Client Error: Unauthorized for url: http://api.opencagedata.com/geocode/v1/json?query=M4E%2C+Toronto%2C+Ontario&key=13aa077d21ae42f287ec8607e07b2159&limit=1\n"
     ]
    },
    {
     "name": "stdout",
     "output_type": "stream",
     "text": [
      "Trying for M4E\n"
     ]
    },
    {
     "name": "stderr",
     "output_type": "stream",
     "text": [
      "Status code 401 from http://api.opencagedata.com/geocode/v1/json: ERROR - 401 Client Error: Unauthorized for url: http://api.opencagedata.com/geocode/v1/json?query=M4E%2C+Toronto%2C+Ontario&key=13aa077d21ae42f287ec8607e07b2159&limit=1\n"
     ]
    },
    {
     "name": "stdout",
     "output_type": "stream",
     "text": [
      "Trying for M4E\n"
     ]
    },
    {
     "name": "stderr",
     "output_type": "stream",
     "text": [
      "Status code 401 from http://api.opencagedata.com/geocode/v1/json: ERROR - 401 Client Error: Unauthorized for url: http://api.opencagedata.com/geocode/v1/json?query=M4E%2C+Toronto%2C+Ontario&key=13aa077d21ae42f287ec8607e07b2159&limit=1\n"
     ]
    },
    {
     "name": "stdout",
     "output_type": "stream",
     "text": [
      "Trying for M4E\n"
     ]
    },
    {
     "name": "stderr",
     "output_type": "stream",
     "text": [
      "Status code 401 from http://api.opencagedata.com/geocode/v1/json: ERROR - 401 Client Error: Unauthorized for url: http://api.opencagedata.com/geocode/v1/json?query=M4E%2C+Toronto%2C+Ontario&key=13aa077d21ae42f287ec8607e07b2159&limit=1\n"
     ]
    },
    {
     "name": "stdout",
     "output_type": "stream",
     "text": [
      "Trying for M4E\n"
     ]
    },
    {
     "name": "stderr",
     "output_type": "stream",
     "text": [
      "Status code 401 from http://api.opencagedata.com/geocode/v1/json: ERROR - 401 Client Error: Unauthorized for url: http://api.opencagedata.com/geocode/v1/json?query=M4E%2C+Toronto%2C+Ontario&key=13aa077d21ae42f287ec8607e07b2159&limit=1\n"
     ]
    },
    {
     "name": "stdout",
     "output_type": "stream",
     "text": [
      "Trying for M4E\n"
     ]
    },
    {
     "name": "stderr",
     "output_type": "stream",
     "text": [
      "Status code 401 from http://api.opencagedata.com/geocode/v1/json: ERROR - 401 Client Error: Unauthorized for url: http://api.opencagedata.com/geocode/v1/json?query=M4E%2C+Toronto%2C+Ontario&key=13aa077d21ae42f287ec8607e07b2159&limit=1\n"
     ]
    },
    {
     "name": "stdout",
     "output_type": "stream",
     "text": [
      "Trying for M4E\n"
     ]
    },
    {
     "name": "stderr",
     "output_type": "stream",
     "text": [
      "Status code 401 from http://api.opencagedata.com/geocode/v1/json: ERROR - 401 Client Error: Unauthorized for url: http://api.opencagedata.com/geocode/v1/json?query=M4E%2C+Toronto%2C+Ontario&key=13aa077d21ae42f287ec8607e07b2159&limit=1\n"
     ]
    },
    {
     "name": "stdout",
     "output_type": "stream",
     "text": [
      "Trying for M4E\n"
     ]
    },
    {
     "name": "stderr",
     "output_type": "stream",
     "text": [
      "Status code 401 from http://api.opencagedata.com/geocode/v1/json: ERROR - 401 Client Error: Unauthorized for url: http://api.opencagedata.com/geocode/v1/json?query=M4E%2C+Toronto%2C+Ontario&key=13aa077d21ae42f287ec8607e07b2159&limit=1\n"
     ]
    },
    {
     "name": "stdout",
     "output_type": "stream",
     "text": [
      "Trying for M4E\n"
     ]
    },
    {
     "name": "stderr",
     "output_type": "stream",
     "text": [
      "Status code 401 from http://api.opencagedata.com/geocode/v1/json: ERROR - 401 Client Error: Unauthorized for url: http://api.opencagedata.com/geocode/v1/json?query=M4E%2C+Toronto%2C+Ontario&key=13aa077d21ae42f287ec8607e07b2159&limit=1\n"
     ]
    },
    {
     "name": "stdout",
     "output_type": "stream",
     "text": [
      "Trying for M4E\n"
     ]
    },
    {
     "name": "stderr",
     "output_type": "stream",
     "text": [
      "Status code 401 from http://api.opencagedata.com/geocode/v1/json: ERROR - 401 Client Error: Unauthorized for url: http://api.opencagedata.com/geocode/v1/json?query=M4E%2C+Toronto%2C+Ontario&key=13aa077d21ae42f287ec8607e07b2159&limit=1\n"
     ]
    },
    {
     "name": "stdout",
     "output_type": "stream",
     "text": [
      "Trying for M4E\n"
     ]
    },
    {
     "name": "stderr",
     "output_type": "stream",
     "text": [
      "Status code 401 from http://api.opencagedata.com/geocode/v1/json: ERROR - 401 Client Error: Unauthorized for url: http://api.opencagedata.com/geocode/v1/json?query=M4E%2C+Toronto%2C+Ontario&key=13aa077d21ae42f287ec8607e07b2159&limit=1\n"
     ]
    },
    {
     "name": "stdout",
     "output_type": "stream",
     "text": [
      "Trying for M4E\n"
     ]
    },
    {
     "name": "stderr",
     "output_type": "stream",
     "text": [
      "Status code 401 from http://api.opencagedata.com/geocode/v1/json: ERROR - 401 Client Error: Unauthorized for url: http://api.opencagedata.com/geocode/v1/json?query=M4E%2C+Toronto%2C+Ontario&key=13aa077d21ae42f287ec8607e07b2159&limit=1\n"
     ]
    },
    {
     "name": "stdout",
     "output_type": "stream",
     "text": [
      "Trying for M4E\n"
     ]
    },
    {
     "name": "stderr",
     "output_type": "stream",
     "text": [
      "Status code 401 from http://api.opencagedata.com/geocode/v1/json: ERROR - 401 Client Error: Unauthorized for url: http://api.opencagedata.com/geocode/v1/json?query=M4E%2C+Toronto%2C+Ontario&key=13aa077d21ae42f287ec8607e07b2159&limit=1\n"
     ]
    },
    {
     "name": "stdout",
     "output_type": "stream",
     "text": [
      "Trying for M4E\n"
     ]
    },
    {
     "name": "stderr",
     "output_type": "stream",
     "text": [
      "Status code 401 from http://api.opencagedata.com/geocode/v1/json: ERROR - 401 Client Error: Unauthorized for url: http://api.opencagedata.com/geocode/v1/json?query=M4E%2C+Toronto%2C+Ontario&key=13aa077d21ae42f287ec8607e07b2159&limit=1\n"
     ]
    },
    {
     "name": "stdout",
     "output_type": "stream",
     "text": [
      "Trying for M4E\n"
     ]
    },
    {
     "name": "stderr",
     "output_type": "stream",
     "text": [
      "Status code 401 from http://api.opencagedata.com/geocode/v1/json: ERROR - 401 Client Error: Unauthorized for url: http://api.opencagedata.com/geocode/v1/json?query=M4E%2C+Toronto%2C+Ontario&key=13aa077d21ae42f287ec8607e07b2159&limit=1\n"
     ]
    },
    {
     "name": "stdout",
     "output_type": "stream",
     "text": [
      "Trying for M4E\n"
     ]
    },
    {
     "name": "stderr",
     "output_type": "stream",
     "text": [
      "Status code 401 from http://api.opencagedata.com/geocode/v1/json: ERROR - 401 Client Error: Unauthorized for url: http://api.opencagedata.com/geocode/v1/json?query=M4E%2C+Toronto%2C+Ontario&key=13aa077d21ae42f287ec8607e07b2159&limit=1\n"
     ]
    },
    {
     "name": "stdout",
     "output_type": "stream",
     "text": [
      "Trying for M4E\n"
     ]
    },
    {
     "name": "stderr",
     "output_type": "stream",
     "text": [
      "Status code 401 from http://api.opencagedata.com/geocode/v1/json: ERROR - 401 Client Error: Unauthorized for url: http://api.opencagedata.com/geocode/v1/json?query=M4E%2C+Toronto%2C+Ontario&key=13aa077d21ae42f287ec8607e07b2159&limit=1\n"
     ]
    },
    {
     "name": "stdout",
     "output_type": "stream",
     "text": [
      "Trying for M4E\n"
     ]
    },
    {
     "name": "stderr",
     "output_type": "stream",
     "text": [
      "Status code 401 from http://api.opencagedata.com/geocode/v1/json: ERROR - 401 Client Error: Unauthorized for url: http://api.opencagedata.com/geocode/v1/json?query=M4E%2C+Toronto%2C+Ontario&key=13aa077d21ae42f287ec8607e07b2159&limit=1\n"
     ]
    },
    {
     "name": "stdout",
     "output_type": "stream",
     "text": [
      "Trying for M4E\n"
     ]
    },
    {
     "name": "stderr",
     "output_type": "stream",
     "text": [
      "Status code 401 from http://api.opencagedata.com/geocode/v1/json: ERROR - 401 Client Error: Unauthorized for url: http://api.opencagedata.com/geocode/v1/json?query=M4E%2C+Toronto%2C+Ontario&key=13aa077d21ae42f287ec8607e07b2159&limit=1\n"
     ]
    },
    {
     "name": "stdout",
     "output_type": "stream",
     "text": [
      "Trying for M4E\n"
     ]
    },
    {
     "name": "stderr",
     "output_type": "stream",
     "text": [
      "Status code 401 from http://api.opencagedata.com/geocode/v1/json: ERROR - 401 Client Error: Unauthorized for url: http://api.opencagedata.com/geocode/v1/json?query=M4E%2C+Toronto%2C+Ontario&key=13aa077d21ae42f287ec8607e07b2159&limit=1\n"
     ]
    },
    {
     "name": "stdout",
     "output_type": "stream",
     "text": [
      "Trying for M4E\n"
     ]
    },
    {
     "name": "stderr",
     "output_type": "stream",
     "text": [
      "Status code 401 from http://api.opencagedata.com/geocode/v1/json: ERROR - 401 Client Error: Unauthorized for url: http://api.opencagedata.com/geocode/v1/json?query=M4E%2C+Toronto%2C+Ontario&key=13aa077d21ae42f287ec8607e07b2159&limit=1\n"
     ]
    },
    {
     "name": "stdout",
     "output_type": "stream",
     "text": [
      "Trying for M4E\n"
     ]
    },
    {
     "name": "stderr",
     "output_type": "stream",
     "text": [
      "Status code 401 from http://api.opencagedata.com/geocode/v1/json: ERROR - 401 Client Error: Unauthorized for url: http://api.opencagedata.com/geocode/v1/json?query=M4E%2C+Toronto%2C+Ontario&key=13aa077d21ae42f287ec8607e07b2159&limit=1\n"
     ]
    },
    {
     "name": "stdout",
     "output_type": "stream",
     "text": [
      "Trying for M4E\n"
     ]
    },
    {
     "name": "stderr",
     "output_type": "stream",
     "text": [
      "Status code 401 from http://api.opencagedata.com/geocode/v1/json: ERROR - 401 Client Error: Unauthorized for url: http://api.opencagedata.com/geocode/v1/json?query=M4E%2C+Toronto%2C+Ontario&key=13aa077d21ae42f287ec8607e07b2159&limit=1\n"
     ]
    },
    {
     "name": "stdout",
     "output_type": "stream",
     "text": [
      "Trying for M4E\n"
     ]
    },
    {
     "name": "stderr",
     "output_type": "stream",
     "text": [
      "Status code 401 from http://api.opencagedata.com/geocode/v1/json: ERROR - 401 Client Error: Unauthorized for url: http://api.opencagedata.com/geocode/v1/json?query=M4E%2C+Toronto%2C+Ontario&key=13aa077d21ae42f287ec8607e07b2159&limit=1\n"
     ]
    },
    {
     "name": "stdout",
     "output_type": "stream",
     "text": [
      "Trying for M4E\n"
     ]
    },
    {
     "name": "stderr",
     "output_type": "stream",
     "text": [
      "Status code 401 from http://api.opencagedata.com/geocode/v1/json: ERROR - 401 Client Error: Unauthorized for url: http://api.opencagedata.com/geocode/v1/json?query=M4E%2C+Toronto%2C+Ontario&key=13aa077d21ae42f287ec8607e07b2159&limit=1\n"
     ]
    },
    {
     "name": "stdout",
     "output_type": "stream",
     "text": [
      "Trying for M4E\n"
     ]
    },
    {
     "name": "stderr",
     "output_type": "stream",
     "text": [
      "Status code 401 from http://api.opencagedata.com/geocode/v1/json: ERROR - 401 Client Error: Unauthorized for url: http://api.opencagedata.com/geocode/v1/json?query=M4E%2C+Toronto%2C+Ontario&key=13aa077d21ae42f287ec8607e07b2159&limit=1\n"
     ]
    },
    {
     "name": "stdout",
     "output_type": "stream",
     "text": [
      "Trying for M4E\n"
     ]
    },
    {
     "name": "stderr",
     "output_type": "stream",
     "text": [
      "Status code 401 from http://api.opencagedata.com/geocode/v1/json: ERROR - 401 Client Error: Unauthorized for url: http://api.opencagedata.com/geocode/v1/json?query=M4E%2C+Toronto%2C+Ontario&key=13aa077d21ae42f287ec8607e07b2159&limit=1\n"
     ]
    },
    {
     "name": "stdout",
     "output_type": "stream",
     "text": [
      "Trying for M4E\n"
     ]
    },
    {
     "name": "stderr",
     "output_type": "stream",
     "text": [
      "Status code 401 from http://api.opencagedata.com/geocode/v1/json: ERROR - 401 Client Error: Unauthorized for url: http://api.opencagedata.com/geocode/v1/json?query=M4E%2C+Toronto%2C+Ontario&key=13aa077d21ae42f287ec8607e07b2159&limit=1\n"
     ]
    },
    {
     "name": "stdout",
     "output_type": "stream",
     "text": [
      "Trying for M4E\n"
     ]
    },
    {
     "name": "stderr",
     "output_type": "stream",
     "text": [
      "Status code 401 from http://api.opencagedata.com/geocode/v1/json: ERROR - 401 Client Error: Unauthorized for url: http://api.opencagedata.com/geocode/v1/json?query=M4E%2C+Toronto%2C+Ontario&key=13aa077d21ae42f287ec8607e07b2159&limit=1\n"
     ]
    },
    {
     "name": "stdout",
     "output_type": "stream",
     "text": [
      "Trying for M4E\n"
     ]
    },
    {
     "name": "stderr",
     "output_type": "stream",
     "text": [
      "Status code 401 from http://api.opencagedata.com/geocode/v1/json: ERROR - 401 Client Error: Unauthorized for url: http://api.opencagedata.com/geocode/v1/json?query=M4E%2C+Toronto%2C+Ontario&key=13aa077d21ae42f287ec8607e07b2159&limit=1\n"
     ]
    },
    {
     "name": "stdout",
     "output_type": "stream",
     "text": [
      "Trying for M4E\n",
      "M4E, done\n",
      "M4B, Toronto, Ontario\n",
      "Trying for M4B\n"
     ]
    },
    {
     "name": "stderr",
     "output_type": "stream",
     "text": [
      "Status code 401 from http://api.opencagedata.com/geocode/v1/json: ERROR - 401 Client Error: Unauthorized for url: http://api.opencagedata.com/geocode/v1/json?query=M4B%2C+Toronto%2C+Ontario&key=13aa077d21ae42f287ec8607e07b2159&limit=1\n"
     ]
    },
    {
     "name": "stdout",
     "output_type": "stream",
     "text": [
      "Trying for M4B\n"
     ]
    },
    {
     "name": "stderr",
     "output_type": "stream",
     "text": [
      "Status code 401 from http://api.opencagedata.com/geocode/v1/json: ERROR - 401 Client Error: Unauthorized for url: http://api.opencagedata.com/geocode/v1/json?query=M4B%2C+Toronto%2C+Ontario&key=13aa077d21ae42f287ec8607e07b2159&limit=1\n"
     ]
    },
    {
     "name": "stdout",
     "output_type": "stream",
     "text": [
      "Trying for M4B\n"
     ]
    },
    {
     "name": "stderr",
     "output_type": "stream",
     "text": [
      "Status code 401 from http://api.opencagedata.com/geocode/v1/json: ERROR - 401 Client Error: Unauthorized for url: http://api.opencagedata.com/geocode/v1/json?query=M4B%2C+Toronto%2C+Ontario&key=13aa077d21ae42f287ec8607e07b2159&limit=1\n"
     ]
    },
    {
     "name": "stdout",
     "output_type": "stream",
     "text": [
      "Trying for M4B\n"
     ]
    },
    {
     "name": "stderr",
     "output_type": "stream",
     "text": [
      "Status code 401 from http://api.opencagedata.com/geocode/v1/json: ERROR - 401 Client Error: Unauthorized for url: http://api.opencagedata.com/geocode/v1/json?query=M4B%2C+Toronto%2C+Ontario&key=13aa077d21ae42f287ec8607e07b2159&limit=1\n"
     ]
    },
    {
     "name": "stdout",
     "output_type": "stream",
     "text": [
      "Trying for M4B\n"
     ]
    },
    {
     "name": "stderr",
     "output_type": "stream",
     "text": [
      "Status code 401 from http://api.opencagedata.com/geocode/v1/json: ERROR - 401 Client Error: Unauthorized for url: http://api.opencagedata.com/geocode/v1/json?query=M4B%2C+Toronto%2C+Ontario&key=13aa077d21ae42f287ec8607e07b2159&limit=1\n"
     ]
    },
    {
     "name": "stdout",
     "output_type": "stream",
     "text": [
      "Trying for M4B\n"
     ]
    },
    {
     "name": "stderr",
     "output_type": "stream",
     "text": [
      "Status code 401 from http://api.opencagedata.com/geocode/v1/json: ERROR - 401 Client Error: Unauthorized for url: http://api.opencagedata.com/geocode/v1/json?query=M4B%2C+Toronto%2C+Ontario&key=13aa077d21ae42f287ec8607e07b2159&limit=1\n"
     ]
    },
    {
     "name": "stdout",
     "output_type": "stream",
     "text": [
      "Trying for M4B\n"
     ]
    },
    {
     "name": "stderr",
     "output_type": "stream",
     "text": [
      "Status code 401 from http://api.opencagedata.com/geocode/v1/json: ERROR - 401 Client Error: Unauthorized for url: http://api.opencagedata.com/geocode/v1/json?query=M4B%2C+Toronto%2C+Ontario&key=13aa077d21ae42f287ec8607e07b2159&limit=1\n"
     ]
    },
    {
     "name": "stdout",
     "output_type": "stream",
     "text": [
      "Trying for M4B\n"
     ]
    },
    {
     "name": "stderr",
     "output_type": "stream",
     "text": [
      "Status code 401 from http://api.opencagedata.com/geocode/v1/json: ERROR - 401 Client Error: Unauthorized for url: http://api.opencagedata.com/geocode/v1/json?query=M4B%2C+Toronto%2C+Ontario&key=13aa077d21ae42f287ec8607e07b2159&limit=1\n"
     ]
    },
    {
     "name": "stdout",
     "output_type": "stream",
     "text": [
      "Trying for M4B\n"
     ]
    },
    {
     "name": "stderr",
     "output_type": "stream",
     "text": [
      "Status code 401 from http://api.opencagedata.com/geocode/v1/json: ERROR - 401 Client Error: Unauthorized for url: http://api.opencagedata.com/geocode/v1/json?query=M4B%2C+Toronto%2C+Ontario&key=13aa077d21ae42f287ec8607e07b2159&limit=1\n"
     ]
    },
    {
     "name": "stdout",
     "output_type": "stream",
     "text": [
      "Trying for M4B\n"
     ]
    },
    {
     "name": "stderr",
     "output_type": "stream",
     "text": [
      "Status code 401 from http://api.opencagedata.com/geocode/v1/json: ERROR - 401 Client Error: Unauthorized for url: http://api.opencagedata.com/geocode/v1/json?query=M4B%2C+Toronto%2C+Ontario&key=13aa077d21ae42f287ec8607e07b2159&limit=1\n"
     ]
    },
    {
     "name": "stdout",
     "output_type": "stream",
     "text": [
      "Trying for M4B\n"
     ]
    },
    {
     "name": "stderr",
     "output_type": "stream",
     "text": [
      "Status code 401 from http://api.opencagedata.com/geocode/v1/json: ERROR - 401 Client Error: Unauthorized for url: http://api.opencagedata.com/geocode/v1/json?query=M4B%2C+Toronto%2C+Ontario&key=13aa077d21ae42f287ec8607e07b2159&limit=1\n"
     ]
    },
    {
     "name": "stdout",
     "output_type": "stream",
     "text": [
      "Trying for M4B\n"
     ]
    },
    {
     "name": "stderr",
     "output_type": "stream",
     "text": [
      "Status code 401 from http://api.opencagedata.com/geocode/v1/json: ERROR - 401 Client Error: Unauthorized for url: http://api.opencagedata.com/geocode/v1/json?query=M4B%2C+Toronto%2C+Ontario&key=13aa077d21ae42f287ec8607e07b2159&limit=1\n"
     ]
    },
    {
     "name": "stdout",
     "output_type": "stream",
     "text": [
      "Trying for M4B\n"
     ]
    },
    {
     "name": "stderr",
     "output_type": "stream",
     "text": [
      "Status code 401 from http://api.opencagedata.com/geocode/v1/json: ERROR - 401 Client Error: Unauthorized for url: http://api.opencagedata.com/geocode/v1/json?query=M4B%2C+Toronto%2C+Ontario&key=13aa077d21ae42f287ec8607e07b2159&limit=1\n"
     ]
    },
    {
     "name": "stdout",
     "output_type": "stream",
     "text": [
      "Trying for M4B\n"
     ]
    },
    {
     "name": "stderr",
     "output_type": "stream",
     "text": [
      "Status code 401 from http://api.opencagedata.com/geocode/v1/json: ERROR - 401 Client Error: Unauthorized for url: http://api.opencagedata.com/geocode/v1/json?query=M4B%2C+Toronto%2C+Ontario&key=13aa077d21ae42f287ec8607e07b2159&limit=1\n"
     ]
    },
    {
     "name": "stdout",
     "output_type": "stream",
     "text": [
      "Trying for M4B\n"
     ]
    },
    {
     "name": "stderr",
     "output_type": "stream",
     "text": [
      "Status code 401 from http://api.opencagedata.com/geocode/v1/json: ERROR - 401 Client Error: Unauthorized for url: http://api.opencagedata.com/geocode/v1/json?query=M4B%2C+Toronto%2C+Ontario&key=13aa077d21ae42f287ec8607e07b2159&limit=1\n"
     ]
    },
    {
     "name": "stdout",
     "output_type": "stream",
     "text": [
      "Trying for M4B\n"
     ]
    },
    {
     "name": "stderr",
     "output_type": "stream",
     "text": [
      "Status code 401 from http://api.opencagedata.com/geocode/v1/json: ERROR - 401 Client Error: Unauthorized for url: http://api.opencagedata.com/geocode/v1/json?query=M4B%2C+Toronto%2C+Ontario&key=13aa077d21ae42f287ec8607e07b2159&limit=1\n"
     ]
    },
    {
     "name": "stdout",
     "output_type": "stream",
     "text": [
      "Trying for M4B\n"
     ]
    },
    {
     "name": "stderr",
     "output_type": "stream",
     "text": [
      "Status code 401 from http://api.opencagedata.com/geocode/v1/json: ERROR - 401 Client Error: Unauthorized for url: http://api.opencagedata.com/geocode/v1/json?query=M4B%2C+Toronto%2C+Ontario&key=13aa077d21ae42f287ec8607e07b2159&limit=1\n"
     ]
    },
    {
     "name": "stdout",
     "output_type": "stream",
     "text": [
      "Trying for M4B\n"
     ]
    },
    {
     "name": "stderr",
     "output_type": "stream",
     "text": [
      "Status code 401 from http://api.opencagedata.com/geocode/v1/json: ERROR - 401 Client Error: Unauthorized for url: http://api.opencagedata.com/geocode/v1/json?query=M4B%2C+Toronto%2C+Ontario&key=13aa077d21ae42f287ec8607e07b2159&limit=1\n"
     ]
    },
    {
     "name": "stdout",
     "output_type": "stream",
     "text": [
      "Trying for M4B\n"
     ]
    },
    {
     "name": "stderr",
     "output_type": "stream",
     "text": [
      "Status code 401 from http://api.opencagedata.com/geocode/v1/json: ERROR - 401 Client Error: Unauthorized for url: http://api.opencagedata.com/geocode/v1/json?query=M4B%2C+Toronto%2C+Ontario&key=13aa077d21ae42f287ec8607e07b2159&limit=1\n"
     ]
    },
    {
     "name": "stdout",
     "output_type": "stream",
     "text": [
      "Trying for M4B\n"
     ]
    },
    {
     "name": "stderr",
     "output_type": "stream",
     "text": [
      "Status code 401 from http://api.opencagedata.com/geocode/v1/json: ERROR - 401 Client Error: Unauthorized for url: http://api.opencagedata.com/geocode/v1/json?query=M4B%2C+Toronto%2C+Ontario&key=13aa077d21ae42f287ec8607e07b2159&limit=1\n"
     ]
    },
    {
     "name": "stdout",
     "output_type": "stream",
     "text": [
      "Trying for M4B\n"
     ]
    },
    {
     "name": "stderr",
     "output_type": "stream",
     "text": [
      "Status code 401 from http://api.opencagedata.com/geocode/v1/json: ERROR - 401 Client Error: Unauthorized for url: http://api.opencagedata.com/geocode/v1/json?query=M4B%2C+Toronto%2C+Ontario&key=13aa077d21ae42f287ec8607e07b2159&limit=1\n"
     ]
    },
    {
     "name": "stdout",
     "output_type": "stream",
     "text": [
      "Trying for M4B\n"
     ]
    },
    {
     "name": "stderr",
     "output_type": "stream",
     "text": [
      "Status code 401 from http://api.opencagedata.com/geocode/v1/json: ERROR - 401 Client Error: Unauthorized for url: http://api.opencagedata.com/geocode/v1/json?query=M4B%2C+Toronto%2C+Ontario&key=13aa077d21ae42f287ec8607e07b2159&limit=1\n"
     ]
    },
    {
     "name": "stdout",
     "output_type": "stream",
     "text": [
      "Trying for M4B\n"
     ]
    },
    {
     "name": "stderr",
     "output_type": "stream",
     "text": [
      "Status code 401 from http://api.opencagedata.com/geocode/v1/json: ERROR - 401 Client Error: Unauthorized for url: http://api.opencagedata.com/geocode/v1/json?query=M4B%2C+Toronto%2C+Ontario&key=13aa077d21ae42f287ec8607e07b2159&limit=1\n"
     ]
    },
    {
     "name": "stdout",
     "output_type": "stream",
     "text": [
      "Trying for M4B\n"
     ]
    },
    {
     "name": "stderr",
     "output_type": "stream",
     "text": [
      "Status code 401 from http://api.opencagedata.com/geocode/v1/json: ERROR - 401 Client Error: Unauthorized for url: http://api.opencagedata.com/geocode/v1/json?query=M4B%2C+Toronto%2C+Ontario&key=13aa077d21ae42f287ec8607e07b2159&limit=1\n"
     ]
    },
    {
     "name": "stdout",
     "output_type": "stream",
     "text": [
      "Trying for M4B\n"
     ]
    },
    {
     "name": "stderr",
     "output_type": "stream",
     "text": [
      "Status code 401 from http://api.opencagedata.com/geocode/v1/json: ERROR - 401 Client Error: Unauthorized for url: http://api.opencagedata.com/geocode/v1/json?query=M4B%2C+Toronto%2C+Ontario&key=13aa077d21ae42f287ec8607e07b2159&limit=1\n"
     ]
    },
    {
     "name": "stdout",
     "output_type": "stream",
     "text": [
      "Trying for M4B\n"
     ]
    },
    {
     "name": "stderr",
     "output_type": "stream",
     "text": [
      "Status code 401 from http://api.opencagedata.com/geocode/v1/json: ERROR - 401 Client Error: Unauthorized for url: http://api.opencagedata.com/geocode/v1/json?query=M4B%2C+Toronto%2C+Ontario&key=13aa077d21ae42f287ec8607e07b2159&limit=1\n"
     ]
    },
    {
     "name": "stdout",
     "output_type": "stream",
     "text": [
      "Trying for M4B\n"
     ]
    },
    {
     "name": "stderr",
     "output_type": "stream",
     "text": [
      "Status code 401 from http://api.opencagedata.com/geocode/v1/json: ERROR - 401 Client Error: Unauthorized for url: http://api.opencagedata.com/geocode/v1/json?query=M4B%2C+Toronto%2C+Ontario&key=13aa077d21ae42f287ec8607e07b2159&limit=1\n"
     ]
    },
    {
     "name": "stdout",
     "output_type": "stream",
     "text": [
      "Trying for M4B\n"
     ]
    },
    {
     "name": "stderr",
     "output_type": "stream",
     "text": [
      "Status code 401 from http://api.opencagedata.com/geocode/v1/json: ERROR - 401 Client Error: Unauthorized for url: http://api.opencagedata.com/geocode/v1/json?query=M4B%2C+Toronto%2C+Ontario&key=13aa077d21ae42f287ec8607e07b2159&limit=1\n"
     ]
    },
    {
     "name": "stdout",
     "output_type": "stream",
     "text": [
      "Trying for M4B\n"
     ]
    },
    {
     "name": "stderr",
     "output_type": "stream",
     "text": [
      "Status code 401 from http://api.opencagedata.com/geocode/v1/json: ERROR - 401 Client Error: Unauthorized for url: http://api.opencagedata.com/geocode/v1/json?query=M4B%2C+Toronto%2C+Ontario&key=13aa077d21ae42f287ec8607e07b2159&limit=1\n"
     ]
    },
    {
     "name": "stdout",
     "output_type": "stream",
     "text": [
      "Trying for M4B\n"
     ]
    },
    {
     "name": "stderr",
     "output_type": "stream",
     "text": [
      "Status code 401 from http://api.opencagedata.com/geocode/v1/json: ERROR - 401 Client Error: Unauthorized for url: http://api.opencagedata.com/geocode/v1/json?query=M4B%2C+Toronto%2C+Ontario&key=13aa077d21ae42f287ec8607e07b2159&limit=1\n"
     ]
    },
    {
     "name": "stdout",
     "output_type": "stream",
     "text": [
      "Trying for M4B\n"
     ]
    },
    {
     "name": "stderr",
     "output_type": "stream",
     "text": [
      "Status code 401 from http://api.opencagedata.com/geocode/v1/json: ERROR - 401 Client Error: Unauthorized for url: http://api.opencagedata.com/geocode/v1/json?query=M4B%2C+Toronto%2C+Ontario&key=13aa077d21ae42f287ec8607e07b2159&limit=1\n"
     ]
    },
    {
     "name": "stdout",
     "output_type": "stream",
     "text": [
      "Trying for M4B\n"
     ]
    },
    {
     "name": "stderr",
     "output_type": "stream",
     "text": [
      "Status code 401 from http://api.opencagedata.com/geocode/v1/json: ERROR - 401 Client Error: Unauthorized for url: http://api.opencagedata.com/geocode/v1/json?query=M4B%2C+Toronto%2C+Ontario&key=13aa077d21ae42f287ec8607e07b2159&limit=1\n"
     ]
    },
    {
     "name": "stdout",
     "output_type": "stream",
     "text": [
      "Trying for M4B\n"
     ]
    },
    {
     "name": "stderr",
     "output_type": "stream",
     "text": [
      "Status code 401 from http://api.opencagedata.com/geocode/v1/json: ERROR - 401 Client Error: Unauthorized for url: http://api.opencagedata.com/geocode/v1/json?query=M4B%2C+Toronto%2C+Ontario&key=13aa077d21ae42f287ec8607e07b2159&limit=1\n"
     ]
    },
    {
     "name": "stdout",
     "output_type": "stream",
     "text": [
      "Trying for M4B\n"
     ]
    },
    {
     "name": "stderr",
     "output_type": "stream",
     "text": [
      "Status code 401 from http://api.opencagedata.com/geocode/v1/json: ERROR - 401 Client Error: Unauthorized for url: http://api.opencagedata.com/geocode/v1/json?query=M4B%2C+Toronto%2C+Ontario&key=13aa077d21ae42f287ec8607e07b2159&limit=1\n"
     ]
    },
    {
     "name": "stdout",
     "output_type": "stream",
     "text": [
      "Trying for M4B\n"
     ]
    },
    {
     "name": "stderr",
     "output_type": "stream",
     "text": [
      "Status code 401 from http://api.opencagedata.com/geocode/v1/json: ERROR - 401 Client Error: Unauthorized for url: http://api.opencagedata.com/geocode/v1/json?query=M4B%2C+Toronto%2C+Ontario&key=13aa077d21ae42f287ec8607e07b2159&limit=1\n"
     ]
    },
    {
     "name": "stdout",
     "output_type": "stream",
     "text": [
      "Trying for M4B\n"
     ]
    },
    {
     "name": "stderr",
     "output_type": "stream",
     "text": [
      "Status code 401 from http://api.opencagedata.com/geocode/v1/json: ERROR - 401 Client Error: Unauthorized for url: http://api.opencagedata.com/geocode/v1/json?query=M4B%2C+Toronto%2C+Ontario&key=13aa077d21ae42f287ec8607e07b2159&limit=1\n"
     ]
    },
    {
     "name": "stdout",
     "output_type": "stream",
     "text": [
      "Trying for M4B\n"
     ]
    },
    {
     "name": "stderr",
     "output_type": "stream",
     "text": [
      "Status code 401 from http://api.opencagedata.com/geocode/v1/json: ERROR - 401 Client Error: Unauthorized for url: http://api.opencagedata.com/geocode/v1/json?query=M4B%2C+Toronto%2C+Ontario&key=13aa077d21ae42f287ec8607e07b2159&limit=1\n"
     ]
    },
    {
     "name": "stdout",
     "output_type": "stream",
     "text": [
      "Trying for M4B\n"
     ]
    },
    {
     "name": "stderr",
     "output_type": "stream",
     "text": [
      "Status code 401 from http://api.opencagedata.com/geocode/v1/json: ERROR - 401 Client Error: Unauthorized for url: http://api.opencagedata.com/geocode/v1/json?query=M4B%2C+Toronto%2C+Ontario&key=13aa077d21ae42f287ec8607e07b2159&limit=1\n"
     ]
    },
    {
     "name": "stdout",
     "output_type": "stream",
     "text": [
      "Trying for M4B\n"
     ]
    },
    {
     "name": "stderr",
     "output_type": "stream",
     "text": [
      "Status code 401 from http://api.opencagedata.com/geocode/v1/json: ERROR - 401 Client Error: Unauthorized for url: http://api.opencagedata.com/geocode/v1/json?query=M4B%2C+Toronto%2C+Ontario&key=13aa077d21ae42f287ec8607e07b2159&limit=1\n"
     ]
    },
    {
     "name": "stdout",
     "output_type": "stream",
     "text": [
      "Trying for M4B\n"
     ]
    },
    {
     "name": "stderr",
     "output_type": "stream",
     "text": [
      "Status code 401 from http://api.opencagedata.com/geocode/v1/json: ERROR - 401 Client Error: Unauthorized for url: http://api.opencagedata.com/geocode/v1/json?query=M4B%2C+Toronto%2C+Ontario&key=13aa077d21ae42f287ec8607e07b2159&limit=1\n"
     ]
    },
    {
     "name": "stdout",
     "output_type": "stream",
     "text": [
      "Trying for M4B\n"
     ]
    },
    {
     "name": "stderr",
     "output_type": "stream",
     "text": [
      "Status code 401 from http://api.opencagedata.com/geocode/v1/json: ERROR - 401 Client Error: Unauthorized for url: http://api.opencagedata.com/geocode/v1/json?query=M4B%2C+Toronto%2C+Ontario&key=13aa077d21ae42f287ec8607e07b2159&limit=1\n"
     ]
    },
    {
     "name": "stdout",
     "output_type": "stream",
     "text": [
      "Trying for M4B\n"
     ]
    },
    {
     "name": "stderr",
     "output_type": "stream",
     "text": [
      "Status code 401 from http://api.opencagedata.com/geocode/v1/json: ERROR - 401 Client Error: Unauthorized for url: http://api.opencagedata.com/geocode/v1/json?query=M4B%2C+Toronto%2C+Ontario&key=13aa077d21ae42f287ec8607e07b2159&limit=1\n"
     ]
    },
    {
     "name": "stdout",
     "output_type": "stream",
     "text": [
      "Trying for M4B\n"
     ]
    },
    {
     "name": "stderr",
     "output_type": "stream",
     "text": [
      "Status code 401 from http://api.opencagedata.com/geocode/v1/json: ERROR - 401 Client Error: Unauthorized for url: http://api.opencagedata.com/geocode/v1/json?query=M4B%2C+Toronto%2C+Ontario&key=13aa077d21ae42f287ec8607e07b2159&limit=1\n"
     ]
    },
    {
     "name": "stdout",
     "output_type": "stream",
     "text": [
      "Trying for M4B\n"
     ]
    },
    {
     "name": "stderr",
     "output_type": "stream",
     "text": [
      "Status code 401 from http://api.opencagedata.com/geocode/v1/json: ERROR - 401 Client Error: Unauthorized for url: http://api.opencagedata.com/geocode/v1/json?query=M4B%2C+Toronto%2C+Ontario&key=13aa077d21ae42f287ec8607e07b2159&limit=1\n"
     ]
    },
    {
     "name": "stdout",
     "output_type": "stream",
     "text": [
      "Trying for M4B\n"
     ]
    },
    {
     "name": "stderr",
     "output_type": "stream",
     "text": [
      "Status code 401 from http://api.opencagedata.com/geocode/v1/json: ERROR - 401 Client Error: Unauthorized for url: http://api.opencagedata.com/geocode/v1/json?query=M4B%2C+Toronto%2C+Ontario&key=13aa077d21ae42f287ec8607e07b2159&limit=1\n"
     ]
    },
    {
     "name": "stdout",
     "output_type": "stream",
     "text": [
      "Trying for M4B\n"
     ]
    },
    {
     "name": "stderr",
     "output_type": "stream",
     "text": [
      "Status code 401 from http://api.opencagedata.com/geocode/v1/json: ERROR - 401 Client Error: Unauthorized for url: http://api.opencagedata.com/geocode/v1/json?query=M4B%2C+Toronto%2C+Ontario&key=13aa077d21ae42f287ec8607e07b2159&limit=1\n"
     ]
    },
    {
     "name": "stdout",
     "output_type": "stream",
     "text": [
      "Trying for M4B\n"
     ]
    },
    {
     "name": "stderr",
     "output_type": "stream",
     "text": [
      "Status code 401 from http://api.opencagedata.com/geocode/v1/json: ERROR - 401 Client Error: Unauthorized for url: http://api.opencagedata.com/geocode/v1/json?query=M4B%2C+Toronto%2C+Ontario&key=13aa077d21ae42f287ec8607e07b2159&limit=1\n"
     ]
    },
    {
     "name": "stdout",
     "output_type": "stream",
     "text": [
      "Trying for M4B\n"
     ]
    },
    {
     "name": "stderr",
     "output_type": "stream",
     "text": [
      "Status code 401 from http://api.opencagedata.com/geocode/v1/json: ERROR - 401 Client Error: Unauthorized for url: http://api.opencagedata.com/geocode/v1/json?query=M4B%2C+Toronto%2C+Ontario&key=13aa077d21ae42f287ec8607e07b2159&limit=1\n"
     ]
    },
    {
     "name": "stdout",
     "output_type": "stream",
     "text": [
      "Trying for M4B\n"
     ]
    },
    {
     "name": "stderr",
     "output_type": "stream",
     "text": [
      "Status code 401 from http://api.opencagedata.com/geocode/v1/json: ERROR - 401 Client Error: Unauthorized for url: http://api.opencagedata.com/geocode/v1/json?query=M4B%2C+Toronto%2C+Ontario&key=13aa077d21ae42f287ec8607e07b2159&limit=1\n"
     ]
    },
    {
     "name": "stdout",
     "output_type": "stream",
     "text": [
      "Trying for M4B\n"
     ]
    },
    {
     "name": "stderr",
     "output_type": "stream",
     "text": [
      "Status code 401 from http://api.opencagedata.com/geocode/v1/json: ERROR - 401 Client Error: Unauthorized for url: http://api.opencagedata.com/geocode/v1/json?query=M4B%2C+Toronto%2C+Ontario&key=13aa077d21ae42f287ec8607e07b2159&limit=1\n"
     ]
    },
    {
     "name": "stdout",
     "output_type": "stream",
     "text": [
      "Trying for M4B\n"
     ]
    },
    {
     "name": "stderr",
     "output_type": "stream",
     "text": [
      "Status code 401 from http://api.opencagedata.com/geocode/v1/json: ERROR - 401 Client Error: Unauthorized for url: http://api.opencagedata.com/geocode/v1/json?query=M4B%2C+Toronto%2C+Ontario&key=13aa077d21ae42f287ec8607e07b2159&limit=1\n"
     ]
    },
    {
     "name": "stdout",
     "output_type": "stream",
     "text": [
      "Trying for M4B\n"
     ]
    },
    {
     "name": "stderr",
     "output_type": "stream",
     "text": [
      "Status code 401 from http://api.opencagedata.com/geocode/v1/json: ERROR - 401 Client Error: Unauthorized for url: http://api.opencagedata.com/geocode/v1/json?query=M4B%2C+Toronto%2C+Ontario&key=13aa077d21ae42f287ec8607e07b2159&limit=1\n"
     ]
    },
    {
     "name": "stdout",
     "output_type": "stream",
     "text": [
      "Trying for M4B\n"
     ]
    },
    {
     "name": "stderr",
     "output_type": "stream",
     "text": [
      "Status code 401 from http://api.opencagedata.com/geocode/v1/json: ERROR - 401 Client Error: Unauthorized for url: http://api.opencagedata.com/geocode/v1/json?query=M4B%2C+Toronto%2C+Ontario&key=13aa077d21ae42f287ec8607e07b2159&limit=1\n"
     ]
    },
    {
     "name": "stdout",
     "output_type": "stream",
     "text": [
      "Trying for M4B\n"
     ]
    },
    {
     "name": "stderr",
     "output_type": "stream",
     "text": [
      "Status code 401 from http://api.opencagedata.com/geocode/v1/json: ERROR - 401 Client Error: Unauthorized for url: http://api.opencagedata.com/geocode/v1/json?query=M4B%2C+Toronto%2C+Ontario&key=13aa077d21ae42f287ec8607e07b2159&limit=1\n"
     ]
    },
    {
     "name": "stdout",
     "output_type": "stream",
     "text": [
      "Trying for M4B\n"
     ]
    },
    {
     "name": "stderr",
     "output_type": "stream",
     "text": [
      "Status code 401 from http://api.opencagedata.com/geocode/v1/json: ERROR - 401 Client Error: Unauthorized for url: http://api.opencagedata.com/geocode/v1/json?query=M4B%2C+Toronto%2C+Ontario&key=13aa077d21ae42f287ec8607e07b2159&limit=1\n"
     ]
    },
    {
     "name": "stdout",
     "output_type": "stream",
     "text": [
      "Trying for M4B\n"
     ]
    },
    {
     "name": "stderr",
     "output_type": "stream",
     "text": [
      "Status code 401 from http://api.opencagedata.com/geocode/v1/json: ERROR - 401 Client Error: Unauthorized for url: http://api.opencagedata.com/geocode/v1/json?query=M4B%2C+Toronto%2C+Ontario&key=13aa077d21ae42f287ec8607e07b2159&limit=1\n"
     ]
    },
    {
     "name": "stdout",
     "output_type": "stream",
     "text": [
      "Trying for M4B\n"
     ]
    },
    {
     "name": "stderr",
     "output_type": "stream",
     "text": [
      "Status code 401 from http://api.opencagedata.com/geocode/v1/json: ERROR - 401 Client Error: Unauthorized for url: http://api.opencagedata.com/geocode/v1/json?query=M4B%2C+Toronto%2C+Ontario&key=13aa077d21ae42f287ec8607e07b2159&limit=1\n"
     ]
    },
    {
     "name": "stdout",
     "output_type": "stream",
     "text": [
      "Trying for M4B\n"
     ]
    },
    {
     "name": "stderr",
     "output_type": "stream",
     "text": [
      "Status code 401 from http://api.opencagedata.com/geocode/v1/json: ERROR - 401 Client Error: Unauthorized for url: http://api.opencagedata.com/geocode/v1/json?query=M4B%2C+Toronto%2C+Ontario&key=13aa077d21ae42f287ec8607e07b2159&limit=1\n"
     ]
    },
    {
     "name": "stdout",
     "output_type": "stream",
     "text": [
      "Trying for M4B\n"
     ]
    },
    {
     "name": "stderr",
     "output_type": "stream",
     "text": [
      "Status code 401 from http://api.opencagedata.com/geocode/v1/json: ERROR - 401 Client Error: Unauthorized for url: http://api.opencagedata.com/geocode/v1/json?query=M4B%2C+Toronto%2C+Ontario&key=13aa077d21ae42f287ec8607e07b2159&limit=1\n"
     ]
    },
    {
     "name": "stdout",
     "output_type": "stream",
     "text": [
      "Trying for M4B\n"
     ]
    },
    {
     "name": "stderr",
     "output_type": "stream",
     "text": [
      "Status code 401 from http://api.opencagedata.com/geocode/v1/json: ERROR - 401 Client Error: Unauthorized for url: http://api.opencagedata.com/geocode/v1/json?query=M4B%2C+Toronto%2C+Ontario&key=13aa077d21ae42f287ec8607e07b2159&limit=1\n"
     ]
    },
    {
     "name": "stdout",
     "output_type": "stream",
     "text": [
      "Trying for M4B\n"
     ]
    },
    {
     "name": "stderr",
     "output_type": "stream",
     "text": [
      "Status code 401 from http://api.opencagedata.com/geocode/v1/json: ERROR - 401 Client Error: Unauthorized for url: http://api.opencagedata.com/geocode/v1/json?query=M4B%2C+Toronto%2C+Ontario&key=13aa077d21ae42f287ec8607e07b2159&limit=1\n"
     ]
    },
    {
     "name": "stdout",
     "output_type": "stream",
     "text": [
      "Trying for M4B\n"
     ]
    },
    {
     "name": "stderr",
     "output_type": "stream",
     "text": [
      "Status code 401 from http://api.opencagedata.com/geocode/v1/json: ERROR - 401 Client Error: Unauthorized for url: http://api.opencagedata.com/geocode/v1/json?query=M4B%2C+Toronto%2C+Ontario&key=13aa077d21ae42f287ec8607e07b2159&limit=1\n"
     ]
    },
    {
     "name": "stdout",
     "output_type": "stream",
     "text": [
      "Trying for M4B\n"
     ]
    },
    {
     "name": "stderr",
     "output_type": "stream",
     "text": [
      "Status code 401 from http://api.opencagedata.com/geocode/v1/json: ERROR - 401 Client Error: Unauthorized for url: http://api.opencagedata.com/geocode/v1/json?query=M4B%2C+Toronto%2C+Ontario&key=13aa077d21ae42f287ec8607e07b2159&limit=1\n"
     ]
    },
    {
     "name": "stdout",
     "output_type": "stream",
     "text": [
      "Trying for M4B\n"
     ]
    },
    {
     "name": "stderr",
     "output_type": "stream",
     "text": [
      "Status code 401 from http://api.opencagedata.com/geocode/v1/json: ERROR - 401 Client Error: Unauthorized for url: http://api.opencagedata.com/geocode/v1/json?query=M4B%2C+Toronto%2C+Ontario&key=13aa077d21ae42f287ec8607e07b2159&limit=1\n"
     ]
    },
    {
     "name": "stdout",
     "output_type": "stream",
     "text": [
      "Trying for M4B\n"
     ]
    },
    {
     "name": "stderr",
     "output_type": "stream",
     "text": [
      "Status code 401 from http://api.opencagedata.com/geocode/v1/json: ERROR - 401 Client Error: Unauthorized for url: http://api.opencagedata.com/geocode/v1/json?query=M4B%2C+Toronto%2C+Ontario&key=13aa077d21ae42f287ec8607e07b2159&limit=1\n"
     ]
    },
    {
     "name": "stdout",
     "output_type": "stream",
     "text": [
      "Trying for M4B\n"
     ]
    },
    {
     "name": "stderr",
     "output_type": "stream",
     "text": [
      "Status code 401 from http://api.opencagedata.com/geocode/v1/json: ERROR - 401 Client Error: Unauthorized for url: http://api.opencagedata.com/geocode/v1/json?query=M4B%2C+Toronto%2C+Ontario&key=13aa077d21ae42f287ec8607e07b2159&limit=1\n"
     ]
    },
    {
     "name": "stdout",
     "output_type": "stream",
     "text": [
      "Trying for M4B\n"
     ]
    },
    {
     "name": "stderr",
     "output_type": "stream",
     "text": [
      "Status code 401 from http://api.opencagedata.com/geocode/v1/json: ERROR - 401 Client Error: Unauthorized for url: http://api.opencagedata.com/geocode/v1/json?query=M4B%2C+Toronto%2C+Ontario&key=13aa077d21ae42f287ec8607e07b2159&limit=1\n"
     ]
    },
    {
     "name": "stdout",
     "output_type": "stream",
     "text": [
      "Trying for M4B\n"
     ]
    },
    {
     "name": "stderr",
     "output_type": "stream",
     "text": [
      "Status code 401 from http://api.opencagedata.com/geocode/v1/json: ERROR - 401 Client Error: Unauthorized for url: http://api.opencagedata.com/geocode/v1/json?query=M4B%2C+Toronto%2C+Ontario&key=13aa077d21ae42f287ec8607e07b2159&limit=1\n"
     ]
    },
    {
     "name": "stdout",
     "output_type": "stream",
     "text": [
      "Trying for M4B\n"
     ]
    },
    {
     "name": "stderr",
     "output_type": "stream",
     "text": [
      "Status code 401 from http://api.opencagedata.com/geocode/v1/json: ERROR - 401 Client Error: Unauthorized for url: http://api.opencagedata.com/geocode/v1/json?query=M4B%2C+Toronto%2C+Ontario&key=13aa077d21ae42f287ec8607e07b2159&limit=1\n"
     ]
    },
    {
     "name": "stdout",
     "output_type": "stream",
     "text": [
      "Trying for M4B\n"
     ]
    },
    {
     "name": "stderr",
     "output_type": "stream",
     "text": [
      "Status code 401 from http://api.opencagedata.com/geocode/v1/json: ERROR - 401 Client Error: Unauthorized for url: http://api.opencagedata.com/geocode/v1/json?query=M4B%2C+Toronto%2C+Ontario&key=13aa077d21ae42f287ec8607e07b2159&limit=1\n"
     ]
    },
    {
     "name": "stdout",
     "output_type": "stream",
     "text": [
      "Trying for M4B\n"
     ]
    },
    {
     "name": "stderr",
     "output_type": "stream",
     "text": [
      "Status code 401 from http://api.opencagedata.com/geocode/v1/json: ERROR - 401 Client Error: Unauthorized for url: http://api.opencagedata.com/geocode/v1/json?query=M4B%2C+Toronto%2C+Ontario&key=13aa077d21ae42f287ec8607e07b2159&limit=1\n"
     ]
    },
    {
     "name": "stdout",
     "output_type": "stream",
     "text": [
      "Trying for M4B\n"
     ]
    },
    {
     "name": "stderr",
     "output_type": "stream",
     "text": [
      "Status code 401 from http://api.opencagedata.com/geocode/v1/json: ERROR - 401 Client Error: Unauthorized for url: http://api.opencagedata.com/geocode/v1/json?query=M4B%2C+Toronto%2C+Ontario&key=13aa077d21ae42f287ec8607e07b2159&limit=1\n"
     ]
    },
    {
     "name": "stdout",
     "output_type": "stream",
     "text": [
      "Trying for M4B\n"
     ]
    },
    {
     "name": "stderr",
     "output_type": "stream",
     "text": [
      "Status code 401 from http://api.opencagedata.com/geocode/v1/json: ERROR - 401 Client Error: Unauthorized for url: http://api.opencagedata.com/geocode/v1/json?query=M4B%2C+Toronto%2C+Ontario&key=13aa077d21ae42f287ec8607e07b2159&limit=1\n"
     ]
    },
    {
     "name": "stdout",
     "output_type": "stream",
     "text": [
      "Trying for M4B\n"
     ]
    },
    {
     "name": "stderr",
     "output_type": "stream",
     "text": [
      "Status code 401 from http://api.opencagedata.com/geocode/v1/json: ERROR - 401 Client Error: Unauthorized for url: http://api.opencagedata.com/geocode/v1/json?query=M4B%2C+Toronto%2C+Ontario&key=13aa077d21ae42f287ec8607e07b2159&limit=1\n"
     ]
    },
    {
     "name": "stdout",
     "output_type": "stream",
     "text": [
      "Trying for M4B\n"
     ]
    },
    {
     "name": "stderr",
     "output_type": "stream",
     "text": [
      "Status code 401 from http://api.opencagedata.com/geocode/v1/json: ERROR - 401 Client Error: Unauthorized for url: http://api.opencagedata.com/geocode/v1/json?query=M4B%2C+Toronto%2C+Ontario&key=13aa077d21ae42f287ec8607e07b2159&limit=1\n"
     ]
    },
    {
     "name": "stdout",
     "output_type": "stream",
     "text": [
      "Trying for M4B\n"
     ]
    },
    {
     "name": "stderr",
     "output_type": "stream",
     "text": [
      "Status code 401 from http://api.opencagedata.com/geocode/v1/json: ERROR - 401 Client Error: Unauthorized for url: http://api.opencagedata.com/geocode/v1/json?query=M4B%2C+Toronto%2C+Ontario&key=13aa077d21ae42f287ec8607e07b2159&limit=1\n"
     ]
    },
    {
     "name": "stdout",
     "output_type": "stream",
     "text": [
      "Trying for M4B\n"
     ]
    },
    {
     "name": "stderr",
     "output_type": "stream",
     "text": [
      "Status code 401 from http://api.opencagedata.com/geocode/v1/json: ERROR - 401 Client Error: Unauthorized for url: http://api.opencagedata.com/geocode/v1/json?query=M4B%2C+Toronto%2C+Ontario&key=13aa077d21ae42f287ec8607e07b2159&limit=1\n"
     ]
    },
    {
     "name": "stdout",
     "output_type": "stream",
     "text": [
      "Trying for M4B\n"
     ]
    },
    {
     "name": "stderr",
     "output_type": "stream",
     "text": [
      "Status code 401 from http://api.opencagedata.com/geocode/v1/json: ERROR - 401 Client Error: Unauthorized for url: http://api.opencagedata.com/geocode/v1/json?query=M4B%2C+Toronto%2C+Ontario&key=13aa077d21ae42f287ec8607e07b2159&limit=1\n"
     ]
    },
    {
     "name": "stdout",
     "output_type": "stream",
     "text": [
      "Trying for M4B\n"
     ]
    },
    {
     "name": "stderr",
     "output_type": "stream",
     "text": [
      "Status code 401 from http://api.opencagedata.com/geocode/v1/json: ERROR - 401 Client Error: Unauthorized for url: http://api.opencagedata.com/geocode/v1/json?query=M4B%2C+Toronto%2C+Ontario&key=13aa077d21ae42f287ec8607e07b2159&limit=1\n"
     ]
    },
    {
     "name": "stdout",
     "output_type": "stream",
     "text": [
      "Trying for M4B\n"
     ]
    },
    {
     "name": "stderr",
     "output_type": "stream",
     "text": [
      "Status code 401 from http://api.opencagedata.com/geocode/v1/json: ERROR - 401 Client Error: Unauthorized for url: http://api.opencagedata.com/geocode/v1/json?query=M4B%2C+Toronto%2C+Ontario&key=13aa077d21ae42f287ec8607e07b2159&limit=1\n"
     ]
    },
    {
     "name": "stdout",
     "output_type": "stream",
     "text": [
      "Trying for M4B\n"
     ]
    },
    {
     "name": "stderr",
     "output_type": "stream",
     "text": [
      "Status code 401 from http://api.opencagedata.com/geocode/v1/json: ERROR - 401 Client Error: Unauthorized for url: http://api.opencagedata.com/geocode/v1/json?query=M4B%2C+Toronto%2C+Ontario&key=13aa077d21ae42f287ec8607e07b2159&limit=1\n"
     ]
    },
    {
     "name": "stdout",
     "output_type": "stream",
     "text": [
      "Trying for M4B\n"
     ]
    },
    {
     "name": "stderr",
     "output_type": "stream",
     "text": [
      "Status code 401 from http://api.opencagedata.com/geocode/v1/json: ERROR - 401 Client Error: Unauthorized for url: http://api.opencagedata.com/geocode/v1/json?query=M4B%2C+Toronto%2C+Ontario&key=13aa077d21ae42f287ec8607e07b2159&limit=1\n"
     ]
    },
    {
     "name": "stdout",
     "output_type": "stream",
     "text": [
      "Trying for M4B\n"
     ]
    },
    {
     "name": "stderr",
     "output_type": "stream",
     "text": [
      "Status code 401 from http://api.opencagedata.com/geocode/v1/json: ERROR - 401 Client Error: Unauthorized for url: http://api.opencagedata.com/geocode/v1/json?query=M4B%2C+Toronto%2C+Ontario&key=13aa077d21ae42f287ec8607e07b2159&limit=1\n"
     ]
    },
    {
     "name": "stdout",
     "output_type": "stream",
     "text": [
      "Trying for M4B\n"
     ]
    },
    {
     "name": "stderr",
     "output_type": "stream",
     "text": [
      "Status code 401 from http://api.opencagedata.com/geocode/v1/json: ERROR - 401 Client Error: Unauthorized for url: http://api.opencagedata.com/geocode/v1/json?query=M4B%2C+Toronto%2C+Ontario&key=13aa077d21ae42f287ec8607e07b2159&limit=1\n"
     ]
    },
    {
     "name": "stdout",
     "output_type": "stream",
     "text": [
      "Trying for M4B\n"
     ]
    },
    {
     "name": "stderr",
     "output_type": "stream",
     "text": [
      "Status code 401 from http://api.opencagedata.com/geocode/v1/json: ERROR - 401 Client Error: Unauthorized for url: http://api.opencagedata.com/geocode/v1/json?query=M4B%2C+Toronto%2C+Ontario&key=13aa077d21ae42f287ec8607e07b2159&limit=1\n"
     ]
    },
    {
     "name": "stdout",
     "output_type": "stream",
     "text": [
      "Trying for M4B\n"
     ]
    },
    {
     "name": "stderr",
     "output_type": "stream",
     "text": [
      "Status code 401 from http://api.opencagedata.com/geocode/v1/json: ERROR - 401 Client Error: Unauthorized for url: http://api.opencagedata.com/geocode/v1/json?query=M4B%2C+Toronto%2C+Ontario&key=13aa077d21ae42f287ec8607e07b2159&limit=1\n"
     ]
    },
    {
     "name": "stdout",
     "output_type": "stream",
     "text": [
      "Trying for M4B\n"
     ]
    },
    {
     "name": "stderr",
     "output_type": "stream",
     "text": [
      "Status code 401 from http://api.opencagedata.com/geocode/v1/json: ERROR - 401 Client Error: Unauthorized for url: http://api.opencagedata.com/geocode/v1/json?query=M4B%2C+Toronto%2C+Ontario&key=13aa077d21ae42f287ec8607e07b2159&limit=1\n"
     ]
    },
    {
     "name": "stdout",
     "output_type": "stream",
     "text": [
      "Trying for M4B\n"
     ]
    },
    {
     "name": "stderr",
     "output_type": "stream",
     "text": [
      "Status code 401 from http://api.opencagedata.com/geocode/v1/json: ERROR - 401 Client Error: Unauthorized for url: http://api.opencagedata.com/geocode/v1/json?query=M4B%2C+Toronto%2C+Ontario&key=13aa077d21ae42f287ec8607e07b2159&limit=1\n"
     ]
    },
    {
     "name": "stdout",
     "output_type": "stream",
     "text": [
      "Trying for M4B\n"
     ]
    },
    {
     "name": "stderr",
     "output_type": "stream",
     "text": [
      "Status code 401 from http://api.opencagedata.com/geocode/v1/json: ERROR - 401 Client Error: Unauthorized for url: http://api.opencagedata.com/geocode/v1/json?query=M4B%2C+Toronto%2C+Ontario&key=13aa077d21ae42f287ec8607e07b2159&limit=1\n"
     ]
    },
    {
     "name": "stdout",
     "output_type": "stream",
     "text": [
      "Trying for M4B\n"
     ]
    },
    {
     "name": "stderr",
     "output_type": "stream",
     "text": [
      "Status code 401 from http://api.opencagedata.com/geocode/v1/json: ERROR - 401 Client Error: Unauthorized for url: http://api.opencagedata.com/geocode/v1/json?query=M4B%2C+Toronto%2C+Ontario&key=13aa077d21ae42f287ec8607e07b2159&limit=1\n"
     ]
    },
    {
     "name": "stdout",
     "output_type": "stream",
     "text": [
      "Trying for M4B\n"
     ]
    },
    {
     "name": "stderr",
     "output_type": "stream",
     "text": [
      "Status code 401 from http://api.opencagedata.com/geocode/v1/json: ERROR - 401 Client Error: Unauthorized for url: http://api.opencagedata.com/geocode/v1/json?query=M4B%2C+Toronto%2C+Ontario&key=13aa077d21ae42f287ec8607e07b2159&limit=1\n"
     ]
    },
    {
     "name": "stdout",
     "output_type": "stream",
     "text": [
      "Trying for M4B\n"
     ]
    },
    {
     "name": "stderr",
     "output_type": "stream",
     "text": [
      "Status code 401 from http://api.opencagedata.com/geocode/v1/json: ERROR - 401 Client Error: Unauthorized for url: http://api.opencagedata.com/geocode/v1/json?query=M4B%2C+Toronto%2C+Ontario&key=13aa077d21ae42f287ec8607e07b2159&limit=1\n"
     ]
    },
    {
     "name": "stdout",
     "output_type": "stream",
     "text": [
      "Trying for M4B\n"
     ]
    },
    {
     "name": "stderr",
     "output_type": "stream",
     "text": [
      "Status code 401 from http://api.opencagedata.com/geocode/v1/json: ERROR - 401 Client Error: Unauthorized for url: http://api.opencagedata.com/geocode/v1/json?query=M4B%2C+Toronto%2C+Ontario&key=13aa077d21ae42f287ec8607e07b2159&limit=1\n"
     ]
    },
    {
     "name": "stdout",
     "output_type": "stream",
     "text": [
      "Trying for M4B\n"
     ]
    },
    {
     "name": "stderr",
     "output_type": "stream",
     "text": [
      "Status code 401 from http://api.opencagedata.com/geocode/v1/json: ERROR - 401 Client Error: Unauthorized for url: http://api.opencagedata.com/geocode/v1/json?query=M4B%2C+Toronto%2C+Ontario&key=13aa077d21ae42f287ec8607e07b2159&limit=1\n"
     ]
    },
    {
     "name": "stdout",
     "output_type": "stream",
     "text": [
      "Trying for M4B\n"
     ]
    },
    {
     "name": "stderr",
     "output_type": "stream",
     "text": [
      "Status code 401 from http://api.opencagedata.com/geocode/v1/json: ERROR - 401 Client Error: Unauthorized for url: http://api.opencagedata.com/geocode/v1/json?query=M4B%2C+Toronto%2C+Ontario&key=13aa077d21ae42f287ec8607e07b2159&limit=1\n"
     ]
    },
    {
     "name": "stdout",
     "output_type": "stream",
     "text": [
      "Trying for M4B\n"
     ]
    },
    {
     "name": "stderr",
     "output_type": "stream",
     "text": [
      "Status code 401 from http://api.opencagedata.com/geocode/v1/json: ERROR - 401 Client Error: Unauthorized for url: http://api.opencagedata.com/geocode/v1/json?query=M4B%2C+Toronto%2C+Ontario&key=13aa077d21ae42f287ec8607e07b2159&limit=1\n"
     ]
    },
    {
     "name": "stdout",
     "output_type": "stream",
     "text": [
      "Trying for M4B\n"
     ]
    },
    {
     "name": "stderr",
     "output_type": "stream",
     "text": [
      "Status code 401 from http://api.opencagedata.com/geocode/v1/json: ERROR - 401 Client Error: Unauthorized for url: http://api.opencagedata.com/geocode/v1/json?query=M4B%2C+Toronto%2C+Ontario&key=13aa077d21ae42f287ec8607e07b2159&limit=1\n"
     ]
    },
    {
     "name": "stdout",
     "output_type": "stream",
     "text": [
      "Trying for M4B\n"
     ]
    },
    {
     "name": "stderr",
     "output_type": "stream",
     "text": [
      "Status code 401 from http://api.opencagedata.com/geocode/v1/json: ERROR - 401 Client Error: Unauthorized for url: http://api.opencagedata.com/geocode/v1/json?query=M4B%2C+Toronto%2C+Ontario&key=13aa077d21ae42f287ec8607e07b2159&limit=1\n"
     ]
    },
    {
     "name": "stdout",
     "output_type": "stream",
     "text": [
      "Trying for M4B\n"
     ]
    },
    {
     "name": "stderr",
     "output_type": "stream",
     "text": [
      "Status code 401 from http://api.opencagedata.com/geocode/v1/json: ERROR - 401 Client Error: Unauthorized for url: http://api.opencagedata.com/geocode/v1/json?query=M4B%2C+Toronto%2C+Ontario&key=13aa077d21ae42f287ec8607e07b2159&limit=1\n"
     ]
    },
    {
     "name": "stdout",
     "output_type": "stream",
     "text": [
      "Trying for M4B\n"
     ]
    },
    {
     "name": "stderr",
     "output_type": "stream",
     "text": [
      "Status code 401 from http://api.opencagedata.com/geocode/v1/json: ERROR - 401 Client Error: Unauthorized for url: http://api.opencagedata.com/geocode/v1/json?query=M4B%2C+Toronto%2C+Ontario&key=13aa077d21ae42f287ec8607e07b2159&limit=1\n"
     ]
    },
    {
     "name": "stdout",
     "output_type": "stream",
     "text": [
      "Trying for M4B\n"
     ]
    },
    {
     "name": "stderr",
     "output_type": "stream",
     "text": [
      "Status code 401 from http://api.opencagedata.com/geocode/v1/json: ERROR - 401 Client Error: Unauthorized for url: http://api.opencagedata.com/geocode/v1/json?query=M4B%2C+Toronto%2C+Ontario&key=13aa077d21ae42f287ec8607e07b2159&limit=1\n"
     ]
    },
    {
     "name": "stdout",
     "output_type": "stream",
     "text": [
      "Trying for M4B\n"
     ]
    },
    {
     "name": "stderr",
     "output_type": "stream",
     "text": [
      "Status code 401 from http://api.opencagedata.com/geocode/v1/json: ERROR - 401 Client Error: Unauthorized for url: http://api.opencagedata.com/geocode/v1/json?query=M4B%2C+Toronto%2C+Ontario&key=13aa077d21ae42f287ec8607e07b2159&limit=1\n"
     ]
    },
    {
     "name": "stdout",
     "output_type": "stream",
     "text": [
      "Trying for M4B\n"
     ]
    },
    {
     "name": "stderr",
     "output_type": "stream",
     "text": [
      "Status code 401 from http://api.opencagedata.com/geocode/v1/json: ERROR - 401 Client Error: Unauthorized for url: http://api.opencagedata.com/geocode/v1/json?query=M4B%2C+Toronto%2C+Ontario&key=13aa077d21ae42f287ec8607e07b2159&limit=1\n"
     ]
    },
    {
     "name": "stdout",
     "output_type": "stream",
     "text": [
      "Trying for M4B\n"
     ]
    },
    {
     "name": "stderr",
     "output_type": "stream",
     "text": [
      "Status code 401 from http://api.opencagedata.com/geocode/v1/json: ERROR - 401 Client Error: Unauthorized for url: http://api.opencagedata.com/geocode/v1/json?query=M4B%2C+Toronto%2C+Ontario&key=13aa077d21ae42f287ec8607e07b2159&limit=1\n"
     ]
    },
    {
     "name": "stdout",
     "output_type": "stream",
     "text": [
      "Trying for M4B\n"
     ]
    },
    {
     "name": "stderr",
     "output_type": "stream",
     "text": [
      "Status code 401 from http://api.opencagedata.com/geocode/v1/json: ERROR - 401 Client Error: Unauthorized for url: http://api.opencagedata.com/geocode/v1/json?query=M4B%2C+Toronto%2C+Ontario&key=13aa077d21ae42f287ec8607e07b2159&limit=1\n"
     ]
    },
    {
     "name": "stdout",
     "output_type": "stream",
     "text": [
      "Trying for M4B\n"
     ]
    },
    {
     "name": "stderr",
     "output_type": "stream",
     "text": [
      "Status code 401 from http://api.opencagedata.com/geocode/v1/json: ERROR - 401 Client Error: Unauthorized for url: http://api.opencagedata.com/geocode/v1/json?query=M4B%2C+Toronto%2C+Ontario&key=13aa077d21ae42f287ec8607e07b2159&limit=1\n"
     ]
    },
    {
     "name": "stdout",
     "output_type": "stream",
     "text": [
      "Trying for M4B\n"
     ]
    },
    {
     "name": "stderr",
     "output_type": "stream",
     "text": [
      "Status code 401 from http://api.opencagedata.com/geocode/v1/json: ERROR - 401 Client Error: Unauthorized for url: http://api.opencagedata.com/geocode/v1/json?query=M4B%2C+Toronto%2C+Ontario&key=13aa077d21ae42f287ec8607e07b2159&limit=1\n"
     ]
    },
    {
     "name": "stdout",
     "output_type": "stream",
     "text": [
      "Trying for M4B\n"
     ]
    },
    {
     "name": "stderr",
     "output_type": "stream",
     "text": [
      "Status code 401 from http://api.opencagedata.com/geocode/v1/json: ERROR - 401 Client Error: Unauthorized for url: http://api.opencagedata.com/geocode/v1/json?query=M4B%2C+Toronto%2C+Ontario&key=13aa077d21ae42f287ec8607e07b2159&limit=1\n"
     ]
    },
    {
     "name": "stdout",
     "output_type": "stream",
     "text": [
      "Trying for M4B\n"
     ]
    },
    {
     "name": "stderr",
     "output_type": "stream",
     "text": [
      "Status code 401 from http://api.opencagedata.com/geocode/v1/json: ERROR - 401 Client Error: Unauthorized for url: http://api.opencagedata.com/geocode/v1/json?query=M4B%2C+Toronto%2C+Ontario&key=13aa077d21ae42f287ec8607e07b2159&limit=1\n"
     ]
    },
    {
     "name": "stdout",
     "output_type": "stream",
     "text": [
      "Trying for M4B\n"
     ]
    },
    {
     "name": "stderr",
     "output_type": "stream",
     "text": [
      "Status code 401 from http://api.opencagedata.com/geocode/v1/json: ERROR - 401 Client Error: Unauthorized for url: http://api.opencagedata.com/geocode/v1/json?query=M4B%2C+Toronto%2C+Ontario&key=13aa077d21ae42f287ec8607e07b2159&limit=1\n"
     ]
    },
    {
     "name": "stdout",
     "output_type": "stream",
     "text": [
      "Trying for M4B\n"
     ]
    },
    {
     "name": "stderr",
     "output_type": "stream",
     "text": [
      "Status code 401 from http://api.opencagedata.com/geocode/v1/json: ERROR - 401 Client Error: Unauthorized for url: http://api.opencagedata.com/geocode/v1/json?query=M4B%2C+Toronto%2C+Ontario&key=13aa077d21ae42f287ec8607e07b2159&limit=1\n"
     ]
    },
    {
     "name": "stdout",
     "output_type": "stream",
     "text": [
      "Trying for M4B\n"
     ]
    },
    {
     "name": "stderr",
     "output_type": "stream",
     "text": [
      "Status code 401 from http://api.opencagedata.com/geocode/v1/json: ERROR - 401 Client Error: Unauthorized for url: http://api.opencagedata.com/geocode/v1/json?query=M4B%2C+Toronto%2C+Ontario&key=13aa077d21ae42f287ec8607e07b2159&limit=1\n"
     ]
    },
    {
     "name": "stdout",
     "output_type": "stream",
     "text": [
      "Trying for M4B\n"
     ]
    },
    {
     "name": "stderr",
     "output_type": "stream",
     "text": [
      "Status code 401 from http://api.opencagedata.com/geocode/v1/json: ERROR - 401 Client Error: Unauthorized for url: http://api.opencagedata.com/geocode/v1/json?query=M4B%2C+Toronto%2C+Ontario&key=13aa077d21ae42f287ec8607e07b2159&limit=1\n"
     ]
    },
    {
     "name": "stdout",
     "output_type": "stream",
     "text": [
      "Trying for M4B\n"
     ]
    },
    {
     "name": "stderr",
     "output_type": "stream",
     "text": [
      "Status code 401 from http://api.opencagedata.com/geocode/v1/json: ERROR - 401 Client Error: Unauthorized for url: http://api.opencagedata.com/geocode/v1/json?query=M4B%2C+Toronto%2C+Ontario&key=13aa077d21ae42f287ec8607e07b2159&limit=1\n"
     ]
    },
    {
     "name": "stdout",
     "output_type": "stream",
     "text": [
      "Trying for M4B\n"
     ]
    },
    {
     "name": "stderr",
     "output_type": "stream",
     "text": [
      "Status code 401 from http://api.opencagedata.com/geocode/v1/json: ERROR - 401 Client Error: Unauthorized for url: http://api.opencagedata.com/geocode/v1/json?query=M4B%2C+Toronto%2C+Ontario&key=13aa077d21ae42f287ec8607e07b2159&limit=1\n"
     ]
    },
    {
     "name": "stdout",
     "output_type": "stream",
     "text": [
      "Trying for M4B\n"
     ]
    },
    {
     "name": "stderr",
     "output_type": "stream",
     "text": [
      "Status code 401 from http://api.opencagedata.com/geocode/v1/json: ERROR - 401 Client Error: Unauthorized for url: http://api.opencagedata.com/geocode/v1/json?query=M4B%2C+Toronto%2C+Ontario&key=13aa077d21ae42f287ec8607e07b2159&limit=1\n"
     ]
    },
    {
     "name": "stdout",
     "output_type": "stream",
     "text": [
      "Trying for M4B\n"
     ]
    },
    {
     "name": "stderr",
     "output_type": "stream",
     "text": [
      "Status code 401 from http://api.opencagedata.com/geocode/v1/json: ERROR - 401 Client Error: Unauthorized for url: http://api.opencagedata.com/geocode/v1/json?query=M4B%2C+Toronto%2C+Ontario&key=13aa077d21ae42f287ec8607e07b2159&limit=1\n"
     ]
    },
    {
     "name": "stdout",
     "output_type": "stream",
     "text": [
      "Trying for M4B\n"
     ]
    },
    {
     "name": "stderr",
     "output_type": "stream",
     "text": [
      "Status code 401 from http://api.opencagedata.com/geocode/v1/json: ERROR - 401 Client Error: Unauthorized for url: http://api.opencagedata.com/geocode/v1/json?query=M4B%2C+Toronto%2C+Ontario&key=13aa077d21ae42f287ec8607e07b2159&limit=1\n"
     ]
    },
    {
     "name": "stdout",
     "output_type": "stream",
     "text": [
      "Trying for M4B\n"
     ]
    },
    {
     "name": "stderr",
     "output_type": "stream",
     "text": [
      "Status code 401 from http://api.opencagedata.com/geocode/v1/json: ERROR - 401 Client Error: Unauthorized for url: http://api.opencagedata.com/geocode/v1/json?query=M4B%2C+Toronto%2C+Ontario&key=13aa077d21ae42f287ec8607e07b2159&limit=1\n"
     ]
    },
    {
     "name": "stdout",
     "output_type": "stream",
     "text": [
      "Trying for M4B\n"
     ]
    },
    {
     "name": "stderr",
     "output_type": "stream",
     "text": [
      "Status code 401 from http://api.opencagedata.com/geocode/v1/json: ERROR - 401 Client Error: Unauthorized for url: http://api.opencagedata.com/geocode/v1/json?query=M4B%2C+Toronto%2C+Ontario&key=13aa077d21ae42f287ec8607e07b2159&limit=1\n"
     ]
    },
    {
     "name": "stdout",
     "output_type": "stream",
     "text": [
      "Trying for M4B\n"
     ]
    },
    {
     "name": "stderr",
     "output_type": "stream",
     "text": [
      "Status code 401 from http://api.opencagedata.com/geocode/v1/json: ERROR - 401 Client Error: Unauthorized for url: http://api.opencagedata.com/geocode/v1/json?query=M4B%2C+Toronto%2C+Ontario&key=13aa077d21ae42f287ec8607e07b2159&limit=1\n"
     ]
    },
    {
     "name": "stdout",
     "output_type": "stream",
     "text": [
      "Trying for M4B\n"
     ]
    },
    {
     "name": "stderr",
     "output_type": "stream",
     "text": [
      "Status code 401 from http://api.opencagedata.com/geocode/v1/json: ERROR - 401 Client Error: Unauthorized for url: http://api.opencagedata.com/geocode/v1/json?query=M4B%2C+Toronto%2C+Ontario&key=13aa077d21ae42f287ec8607e07b2159&limit=1\n"
     ]
    },
    {
     "name": "stdout",
     "output_type": "stream",
     "text": [
      "Trying for M4B\n"
     ]
    },
    {
     "name": "stderr",
     "output_type": "stream",
     "text": [
      "Status code 401 from http://api.opencagedata.com/geocode/v1/json: ERROR - 401 Client Error: Unauthorized for url: http://api.opencagedata.com/geocode/v1/json?query=M4B%2C+Toronto%2C+Ontario&key=13aa077d21ae42f287ec8607e07b2159&limit=1\n"
     ]
    },
    {
     "name": "stdout",
     "output_type": "stream",
     "text": [
      "Trying for M4B\n"
     ]
    },
    {
     "name": "stderr",
     "output_type": "stream",
     "text": [
      "Status code 401 from http://api.opencagedata.com/geocode/v1/json: ERROR - 401 Client Error: Unauthorized for url: http://api.opencagedata.com/geocode/v1/json?query=M4B%2C+Toronto%2C+Ontario&key=13aa077d21ae42f287ec8607e07b2159&limit=1\n"
     ]
    },
    {
     "name": "stdout",
     "output_type": "stream",
     "text": [
      "Trying for M4B\n"
     ]
    },
    {
     "name": "stderr",
     "output_type": "stream",
     "text": [
      "Status code 401 from http://api.opencagedata.com/geocode/v1/json: ERROR - 401 Client Error: Unauthorized for url: http://api.opencagedata.com/geocode/v1/json?query=M4B%2C+Toronto%2C+Ontario&key=13aa077d21ae42f287ec8607e07b2159&limit=1\n"
     ]
    },
    {
     "name": "stdout",
     "output_type": "stream",
     "text": [
      "Trying for M4B\n"
     ]
    },
    {
     "name": "stderr",
     "output_type": "stream",
     "text": [
      "Status code 401 from http://api.opencagedata.com/geocode/v1/json: ERROR - 401 Client Error: Unauthorized for url: http://api.opencagedata.com/geocode/v1/json?query=M4B%2C+Toronto%2C+Ontario&key=13aa077d21ae42f287ec8607e07b2159&limit=1\n"
     ]
    },
    {
     "name": "stdout",
     "output_type": "stream",
     "text": [
      "Trying for M4B\n"
     ]
    },
    {
     "name": "stderr",
     "output_type": "stream",
     "text": [
      "Status code 401 from http://api.opencagedata.com/geocode/v1/json: ERROR - 401 Client Error: Unauthorized for url: http://api.opencagedata.com/geocode/v1/json?query=M4B%2C+Toronto%2C+Ontario&key=13aa077d21ae42f287ec8607e07b2159&limit=1\n"
     ]
    },
    {
     "name": "stdout",
     "output_type": "stream",
     "text": [
      "Trying for M4B\n"
     ]
    },
    {
     "name": "stderr",
     "output_type": "stream",
     "text": [
      "Status code 401 from http://api.opencagedata.com/geocode/v1/json: ERROR - 401 Client Error: Unauthorized for url: http://api.opencagedata.com/geocode/v1/json?query=M4B%2C+Toronto%2C+Ontario&key=13aa077d21ae42f287ec8607e07b2159&limit=1\n"
     ]
    },
    {
     "name": "stdout",
     "output_type": "stream",
     "text": [
      "Trying for M4B\n"
     ]
    },
    {
     "name": "stderr",
     "output_type": "stream",
     "text": [
      "Status code 401 from http://api.opencagedata.com/geocode/v1/json: ERROR - 401 Client Error: Unauthorized for url: http://api.opencagedata.com/geocode/v1/json?query=M4B%2C+Toronto%2C+Ontario&key=13aa077d21ae42f287ec8607e07b2159&limit=1\n"
     ]
    },
    {
     "name": "stdout",
     "output_type": "stream",
     "text": [
      "Trying for M4B\n"
     ]
    },
    {
     "name": "stderr",
     "output_type": "stream",
     "text": [
      "Status code 401 from http://api.opencagedata.com/geocode/v1/json: ERROR - 401 Client Error: Unauthorized for url: http://api.opencagedata.com/geocode/v1/json?query=M4B%2C+Toronto%2C+Ontario&key=13aa077d21ae42f287ec8607e07b2159&limit=1\n"
     ]
    },
    {
     "name": "stdout",
     "output_type": "stream",
     "text": [
      "Trying for M4B\n"
     ]
    },
    {
     "name": "stderr",
     "output_type": "stream",
     "text": [
      "Status code 401 from http://api.opencagedata.com/geocode/v1/json: ERROR - 401 Client Error: Unauthorized for url: http://api.opencagedata.com/geocode/v1/json?query=M4B%2C+Toronto%2C+Ontario&key=13aa077d21ae42f287ec8607e07b2159&limit=1\n"
     ]
    },
    {
     "name": "stdout",
     "output_type": "stream",
     "text": [
      "Trying for M4B\n"
     ]
    },
    {
     "name": "stderr",
     "output_type": "stream",
     "text": [
      "Status code 401 from http://api.opencagedata.com/geocode/v1/json: ERROR - 401 Client Error: Unauthorized for url: http://api.opencagedata.com/geocode/v1/json?query=M4B%2C+Toronto%2C+Ontario&key=13aa077d21ae42f287ec8607e07b2159&limit=1\n"
     ]
    },
    {
     "name": "stdout",
     "output_type": "stream",
     "text": [
      "Trying for M4B\n"
     ]
    },
    {
     "name": "stderr",
     "output_type": "stream",
     "text": [
      "Status code 401 from http://api.opencagedata.com/geocode/v1/json: ERROR - 401 Client Error: Unauthorized for url: http://api.opencagedata.com/geocode/v1/json?query=M4B%2C+Toronto%2C+Ontario&key=13aa077d21ae42f287ec8607e07b2159&limit=1\n"
     ]
    },
    {
     "name": "stdout",
     "output_type": "stream",
     "text": [
      "Trying for M4B\n"
     ]
    },
    {
     "name": "stderr",
     "output_type": "stream",
     "text": [
      "Status code 401 from http://api.opencagedata.com/geocode/v1/json: ERROR - 401 Client Error: Unauthorized for url: http://api.opencagedata.com/geocode/v1/json?query=M4B%2C+Toronto%2C+Ontario&key=13aa077d21ae42f287ec8607e07b2159&limit=1\n"
     ]
    },
    {
     "name": "stdout",
     "output_type": "stream",
     "text": [
      "Trying for M4B\n"
     ]
    },
    {
     "name": "stderr",
     "output_type": "stream",
     "text": [
      "Status code 401 from http://api.opencagedata.com/geocode/v1/json: ERROR - 401 Client Error: Unauthorized for url: http://api.opencagedata.com/geocode/v1/json?query=M4B%2C+Toronto%2C+Ontario&key=13aa077d21ae42f287ec8607e07b2159&limit=1\n"
     ]
    },
    {
     "name": "stdout",
     "output_type": "stream",
     "text": [
      "Trying for M4B\n"
     ]
    },
    {
     "name": "stderr",
     "output_type": "stream",
     "text": [
      "Status code 401 from http://api.opencagedata.com/geocode/v1/json: ERROR - 401 Client Error: Unauthorized for url: http://api.opencagedata.com/geocode/v1/json?query=M4B%2C+Toronto%2C+Ontario&key=13aa077d21ae42f287ec8607e07b2159&limit=1\n"
     ]
    },
    {
     "name": "stdout",
     "output_type": "stream",
     "text": [
      "Trying for M4B\n"
     ]
    },
    {
     "name": "stderr",
     "output_type": "stream",
     "text": [
      "Status code 401 from http://api.opencagedata.com/geocode/v1/json: ERROR - 401 Client Error: Unauthorized for url: http://api.opencagedata.com/geocode/v1/json?query=M4B%2C+Toronto%2C+Ontario&key=13aa077d21ae42f287ec8607e07b2159&limit=1\n"
     ]
    },
    {
     "name": "stdout",
     "output_type": "stream",
     "text": [
      "Trying for M4B\n"
     ]
    },
    {
     "name": "stderr",
     "output_type": "stream",
     "text": [
      "Status code 401 from http://api.opencagedata.com/geocode/v1/json: ERROR - 401 Client Error: Unauthorized for url: http://api.opencagedata.com/geocode/v1/json?query=M4B%2C+Toronto%2C+Ontario&key=13aa077d21ae42f287ec8607e07b2159&limit=1\n"
     ]
    },
    {
     "name": "stdout",
     "output_type": "stream",
     "text": [
      "Trying for M4B\n"
     ]
    },
    {
     "name": "stderr",
     "output_type": "stream",
     "text": [
      "Status code 401 from http://api.opencagedata.com/geocode/v1/json: ERROR - 401 Client Error: Unauthorized for url: http://api.opencagedata.com/geocode/v1/json?query=M4B%2C+Toronto%2C+Ontario&key=13aa077d21ae42f287ec8607e07b2159&limit=1\n"
     ]
    },
    {
     "name": "stdout",
     "output_type": "stream",
     "text": [
      "Trying for M4B\n"
     ]
    },
    {
     "name": "stderr",
     "output_type": "stream",
     "text": [
      "Status code 401 from http://api.opencagedata.com/geocode/v1/json: ERROR - 401 Client Error: Unauthorized for url: http://api.opencagedata.com/geocode/v1/json?query=M4B%2C+Toronto%2C+Ontario&key=13aa077d21ae42f287ec8607e07b2159&limit=1\n"
     ]
    },
    {
     "name": "stdout",
     "output_type": "stream",
     "text": [
      "Trying for M4B\n"
     ]
    },
    {
     "name": "stderr",
     "output_type": "stream",
     "text": [
      "Status code 401 from http://api.opencagedata.com/geocode/v1/json: ERROR - 401 Client Error: Unauthorized for url: http://api.opencagedata.com/geocode/v1/json?query=M4B%2C+Toronto%2C+Ontario&key=13aa077d21ae42f287ec8607e07b2159&limit=1\n"
     ]
    },
    {
     "name": "stdout",
     "output_type": "stream",
     "text": [
      "Trying for M4B\n"
     ]
    },
    {
     "name": "stderr",
     "output_type": "stream",
     "text": [
      "Status code 401 from http://api.opencagedata.com/geocode/v1/json: ERROR - 401 Client Error: Unauthorized for url: http://api.opencagedata.com/geocode/v1/json?query=M4B%2C+Toronto%2C+Ontario&key=13aa077d21ae42f287ec8607e07b2159&limit=1\n"
     ]
    },
    {
     "name": "stdout",
     "output_type": "stream",
     "text": [
      "Trying for M4B\n"
     ]
    },
    {
     "name": "stderr",
     "output_type": "stream",
     "text": [
      "Status code 401 from http://api.opencagedata.com/geocode/v1/json: ERROR - 401 Client Error: Unauthorized for url: http://api.opencagedata.com/geocode/v1/json?query=M4B%2C+Toronto%2C+Ontario&key=13aa077d21ae42f287ec8607e07b2159&limit=1\n"
     ]
    },
    {
     "name": "stdout",
     "output_type": "stream",
     "text": [
      "Trying for M4B\n"
     ]
    },
    {
     "name": "stderr",
     "output_type": "stream",
     "text": [
      "Status code 401 from http://api.opencagedata.com/geocode/v1/json: ERROR - 401 Client Error: Unauthorized for url: http://api.opencagedata.com/geocode/v1/json?query=M4B%2C+Toronto%2C+Ontario&key=13aa077d21ae42f287ec8607e07b2159&limit=1\n"
     ]
    },
    {
     "name": "stdout",
     "output_type": "stream",
     "text": [
      "Trying for M4B\n"
     ]
    },
    {
     "name": "stderr",
     "output_type": "stream",
     "text": [
      "Status code 401 from http://api.opencagedata.com/geocode/v1/json: ERROR - 401 Client Error: Unauthorized for url: http://api.opencagedata.com/geocode/v1/json?query=M4B%2C+Toronto%2C+Ontario&key=13aa077d21ae42f287ec8607e07b2159&limit=1\n"
     ]
    },
    {
     "name": "stdout",
     "output_type": "stream",
     "text": [
      "Trying for M4B\n"
     ]
    },
    {
     "name": "stderr",
     "output_type": "stream",
     "text": [
      "Status code 401 from http://api.opencagedata.com/geocode/v1/json: ERROR - 401 Client Error: Unauthorized for url: http://api.opencagedata.com/geocode/v1/json?query=M4B%2C+Toronto%2C+Ontario&key=13aa077d21ae42f287ec8607e07b2159&limit=1\n"
     ]
    },
    {
     "name": "stdout",
     "output_type": "stream",
     "text": [
      "Trying for M4B\n"
     ]
    },
    {
     "name": "stderr",
     "output_type": "stream",
     "text": [
      "Status code 401 from http://api.opencagedata.com/geocode/v1/json: ERROR - 401 Client Error: Unauthorized for url: http://api.opencagedata.com/geocode/v1/json?query=M4B%2C+Toronto%2C+Ontario&key=13aa077d21ae42f287ec8607e07b2159&limit=1\n"
     ]
    },
    {
     "name": "stdout",
     "output_type": "stream",
     "text": [
      "Trying for M4B\n"
     ]
    },
    {
     "name": "stderr",
     "output_type": "stream",
     "text": [
      "Status code 401 from http://api.opencagedata.com/geocode/v1/json: ERROR - 401 Client Error: Unauthorized for url: http://api.opencagedata.com/geocode/v1/json?query=M4B%2C+Toronto%2C+Ontario&key=13aa077d21ae42f287ec8607e07b2159&limit=1\n"
     ]
    },
    {
     "name": "stdout",
     "output_type": "stream",
     "text": [
      "Trying for M4B\n"
     ]
    },
    {
     "name": "stderr",
     "output_type": "stream",
     "text": [
      "Status code 401 from http://api.opencagedata.com/geocode/v1/json: ERROR - 401 Client Error: Unauthorized for url: http://api.opencagedata.com/geocode/v1/json?query=M4B%2C+Toronto%2C+Ontario&key=13aa077d21ae42f287ec8607e07b2159&limit=1\n"
     ]
    },
    {
     "name": "stdout",
     "output_type": "stream",
     "text": [
      "Trying for M4B\n"
     ]
    },
    {
     "name": "stderr",
     "output_type": "stream",
     "text": [
      "Status code 401 from http://api.opencagedata.com/geocode/v1/json: ERROR - 401 Client Error: Unauthorized for url: http://api.opencagedata.com/geocode/v1/json?query=M4B%2C+Toronto%2C+Ontario&key=13aa077d21ae42f287ec8607e07b2159&limit=1\n"
     ]
    },
    {
     "name": "stdout",
     "output_type": "stream",
     "text": [
      "Trying for M4B\n"
     ]
    },
    {
     "name": "stderr",
     "output_type": "stream",
     "text": [
      "Status code 401 from http://api.opencagedata.com/geocode/v1/json: ERROR - 401 Client Error: Unauthorized for url: http://api.opencagedata.com/geocode/v1/json?query=M4B%2C+Toronto%2C+Ontario&key=13aa077d21ae42f287ec8607e07b2159&limit=1\n"
     ]
    },
    {
     "name": "stdout",
     "output_type": "stream",
     "text": [
      "Trying for M4B\n"
     ]
    },
    {
     "name": "stderr",
     "output_type": "stream",
     "text": [
      "Status code 401 from http://api.opencagedata.com/geocode/v1/json: ERROR - 401 Client Error: Unauthorized for url: http://api.opencagedata.com/geocode/v1/json?query=M4B%2C+Toronto%2C+Ontario&key=13aa077d21ae42f287ec8607e07b2159&limit=1\n"
     ]
    },
    {
     "name": "stdout",
     "output_type": "stream",
     "text": [
      "Trying for M4B\n"
     ]
    },
    {
     "name": "stderr",
     "output_type": "stream",
     "text": [
      "Status code 401 from http://api.opencagedata.com/geocode/v1/json: ERROR - 401 Client Error: Unauthorized for url: http://api.opencagedata.com/geocode/v1/json?query=M4B%2C+Toronto%2C+Ontario&key=13aa077d21ae42f287ec8607e07b2159&limit=1\n"
     ]
    },
    {
     "name": "stdout",
     "output_type": "stream",
     "text": [
      "Trying for M4B\n"
     ]
    },
    {
     "name": "stderr",
     "output_type": "stream",
     "text": [
      "Status code 401 from http://api.opencagedata.com/geocode/v1/json: ERROR - 401 Client Error: Unauthorized for url: http://api.opencagedata.com/geocode/v1/json?query=M4B%2C+Toronto%2C+Ontario&key=13aa077d21ae42f287ec8607e07b2159&limit=1\n"
     ]
    },
    {
     "name": "stdout",
     "output_type": "stream",
     "text": [
      "Trying for M4B\n"
     ]
    },
    {
     "name": "stderr",
     "output_type": "stream",
     "text": [
      "Status code 401 from http://api.opencagedata.com/geocode/v1/json: ERROR - 401 Client Error: Unauthorized for url: http://api.opencagedata.com/geocode/v1/json?query=M4B%2C+Toronto%2C+Ontario&key=13aa077d21ae42f287ec8607e07b2159&limit=1\n"
     ]
    },
    {
     "name": "stdout",
     "output_type": "stream",
     "text": [
      "Trying for M4B\n"
     ]
    },
    {
     "name": "stderr",
     "output_type": "stream",
     "text": [
      "Status code 401 from http://api.opencagedata.com/geocode/v1/json: ERROR - 401 Client Error: Unauthorized for url: http://api.opencagedata.com/geocode/v1/json?query=M4B%2C+Toronto%2C+Ontario&key=13aa077d21ae42f287ec8607e07b2159&limit=1\n"
     ]
    },
    {
     "name": "stdout",
     "output_type": "stream",
     "text": [
      "Trying for M4B\n"
     ]
    },
    {
     "name": "stderr",
     "output_type": "stream",
     "text": [
      "Status code 401 from http://api.opencagedata.com/geocode/v1/json: ERROR - 401 Client Error: Unauthorized for url: http://api.opencagedata.com/geocode/v1/json?query=M4B%2C+Toronto%2C+Ontario&key=13aa077d21ae42f287ec8607e07b2159&limit=1\n"
     ]
    },
    {
     "name": "stdout",
     "output_type": "stream",
     "text": [
      "Trying for M4B\n"
     ]
    },
    {
     "name": "stderr",
     "output_type": "stream",
     "text": [
      "Status code 401 from http://api.opencagedata.com/geocode/v1/json: ERROR - 401 Client Error: Unauthorized for url: http://api.opencagedata.com/geocode/v1/json?query=M4B%2C+Toronto%2C+Ontario&key=13aa077d21ae42f287ec8607e07b2159&limit=1\n"
     ]
    },
    {
     "name": "stdout",
     "output_type": "stream",
     "text": [
      "Trying for M4B\n"
     ]
    },
    {
     "name": "stderr",
     "output_type": "stream",
     "text": [
      "Status code 401 from http://api.opencagedata.com/geocode/v1/json: ERROR - 401 Client Error: Unauthorized for url: http://api.opencagedata.com/geocode/v1/json?query=M4B%2C+Toronto%2C+Ontario&key=13aa077d21ae42f287ec8607e07b2159&limit=1\n"
     ]
    },
    {
     "name": "stdout",
     "output_type": "stream",
     "text": [
      "Trying for M4B\n"
     ]
    },
    {
     "name": "stderr",
     "output_type": "stream",
     "text": [
      "Status code 401 from http://api.opencagedata.com/geocode/v1/json: ERROR - 401 Client Error: Unauthorized for url: http://api.opencagedata.com/geocode/v1/json?query=M4B%2C+Toronto%2C+Ontario&key=13aa077d21ae42f287ec8607e07b2159&limit=1\n"
     ]
    },
    {
     "name": "stdout",
     "output_type": "stream",
     "text": [
      "Trying for M4B\n"
     ]
    },
    {
     "name": "stderr",
     "output_type": "stream",
     "text": [
      "Status code 401 from http://api.opencagedata.com/geocode/v1/json: ERROR - 401 Client Error: Unauthorized for url: http://api.opencagedata.com/geocode/v1/json?query=M4B%2C+Toronto%2C+Ontario&key=13aa077d21ae42f287ec8607e07b2159&limit=1\n"
     ]
    },
    {
     "name": "stdout",
     "output_type": "stream",
     "text": [
      "Trying for M4B\n"
     ]
    },
    {
     "name": "stderr",
     "output_type": "stream",
     "text": [
      "Status code 401 from http://api.opencagedata.com/geocode/v1/json: ERROR - 401 Client Error: Unauthorized for url: http://api.opencagedata.com/geocode/v1/json?query=M4B%2C+Toronto%2C+Ontario&key=13aa077d21ae42f287ec8607e07b2159&limit=1\n"
     ]
    },
    {
     "name": "stdout",
     "output_type": "stream",
     "text": [
      "Trying for M4B\n"
     ]
    },
    {
     "name": "stderr",
     "output_type": "stream",
     "text": [
      "Status code 401 from http://api.opencagedata.com/geocode/v1/json: ERROR - 401 Client Error: Unauthorized for url: http://api.opencagedata.com/geocode/v1/json?query=M4B%2C+Toronto%2C+Ontario&key=13aa077d21ae42f287ec8607e07b2159&limit=1\n"
     ]
    },
    {
     "name": "stdout",
     "output_type": "stream",
     "text": [
      "Trying for M4B\n",
      "M4B, done\n",
      "M9B, Toronto, Ontario\n",
      "Trying for M9B\n"
     ]
    },
    {
     "name": "stderr",
     "output_type": "stream",
     "text": [
      "Status code 401 from http://api.opencagedata.com/geocode/v1/json: ERROR - 401 Client Error: Unauthorized for url: http://api.opencagedata.com/geocode/v1/json?query=M9B%2C+Toronto%2C+Ontario&key=13aa077d21ae42f287ec8607e07b2159&limit=1\n"
     ]
    },
    {
     "name": "stdout",
     "output_type": "stream",
     "text": [
      "Trying for M9B\n"
     ]
    },
    {
     "name": "stderr",
     "output_type": "stream",
     "text": [
      "Status code 401 from http://api.opencagedata.com/geocode/v1/json: ERROR - 401 Client Error: Unauthorized for url: http://api.opencagedata.com/geocode/v1/json?query=M9B%2C+Toronto%2C+Ontario&key=13aa077d21ae42f287ec8607e07b2159&limit=1\n"
     ]
    },
    {
     "name": "stdout",
     "output_type": "stream",
     "text": [
      "Trying for M9B\n"
     ]
    },
    {
     "name": "stderr",
     "output_type": "stream",
     "text": [
      "Status code 401 from http://api.opencagedata.com/geocode/v1/json: ERROR - 401 Client Error: Unauthorized for url: http://api.opencagedata.com/geocode/v1/json?query=M9B%2C+Toronto%2C+Ontario&key=13aa077d21ae42f287ec8607e07b2159&limit=1\n"
     ]
    },
    {
     "name": "stdout",
     "output_type": "stream",
     "text": [
      "Trying for M9B\n"
     ]
    },
    {
     "name": "stderr",
     "output_type": "stream",
     "text": [
      "Status code 401 from http://api.opencagedata.com/geocode/v1/json: ERROR - 401 Client Error: Unauthorized for url: http://api.opencagedata.com/geocode/v1/json?query=M9B%2C+Toronto%2C+Ontario&key=13aa077d21ae42f287ec8607e07b2159&limit=1\n"
     ]
    },
    {
     "name": "stdout",
     "output_type": "stream",
     "text": [
      "Trying for M9B\n"
     ]
    },
    {
     "name": "stderr",
     "output_type": "stream",
     "text": [
      "Status code 401 from http://api.opencagedata.com/geocode/v1/json: ERROR - 401 Client Error: Unauthorized for url: http://api.opencagedata.com/geocode/v1/json?query=M9B%2C+Toronto%2C+Ontario&key=13aa077d21ae42f287ec8607e07b2159&limit=1\n"
     ]
    },
    {
     "name": "stdout",
     "output_type": "stream",
     "text": [
      "Trying for M9B\n"
     ]
    },
    {
     "name": "stderr",
     "output_type": "stream",
     "text": [
      "Status code 401 from http://api.opencagedata.com/geocode/v1/json: ERROR - 401 Client Error: Unauthorized for url: http://api.opencagedata.com/geocode/v1/json?query=M9B%2C+Toronto%2C+Ontario&key=13aa077d21ae42f287ec8607e07b2159&limit=1\n"
     ]
    },
    {
     "name": "stdout",
     "output_type": "stream",
     "text": [
      "Trying for M9B\n"
     ]
    },
    {
     "name": "stderr",
     "output_type": "stream",
     "text": [
      "Status code 401 from http://api.opencagedata.com/geocode/v1/json: ERROR - 401 Client Error: Unauthorized for url: http://api.opencagedata.com/geocode/v1/json?query=M9B%2C+Toronto%2C+Ontario&key=13aa077d21ae42f287ec8607e07b2159&limit=1\n"
     ]
    },
    {
     "name": "stdout",
     "output_type": "stream",
     "text": [
      "Trying for M9B\n"
     ]
    },
    {
     "name": "stderr",
     "output_type": "stream",
     "text": [
      "Status code 401 from http://api.opencagedata.com/geocode/v1/json: ERROR - 401 Client Error: Unauthorized for url: http://api.opencagedata.com/geocode/v1/json?query=M9B%2C+Toronto%2C+Ontario&key=13aa077d21ae42f287ec8607e07b2159&limit=1\n"
     ]
    },
    {
     "name": "stdout",
     "output_type": "stream",
     "text": [
      "Trying for M9B\n"
     ]
    },
    {
     "name": "stderr",
     "output_type": "stream",
     "text": [
      "Status code 401 from http://api.opencagedata.com/geocode/v1/json: ERROR - 401 Client Error: Unauthorized for url: http://api.opencagedata.com/geocode/v1/json?query=M9B%2C+Toronto%2C+Ontario&key=13aa077d21ae42f287ec8607e07b2159&limit=1\n"
     ]
    },
    {
     "name": "stdout",
     "output_type": "stream",
     "text": [
      "Trying for M9B\n"
     ]
    },
    {
     "name": "stderr",
     "output_type": "stream",
     "text": [
      "Status code 401 from http://api.opencagedata.com/geocode/v1/json: ERROR - 401 Client Error: Unauthorized for url: http://api.opencagedata.com/geocode/v1/json?query=M9B%2C+Toronto%2C+Ontario&key=13aa077d21ae42f287ec8607e07b2159&limit=1\n"
     ]
    },
    {
     "name": "stdout",
     "output_type": "stream",
     "text": [
      "Trying for M9B\n"
     ]
    },
    {
     "name": "stderr",
     "output_type": "stream",
     "text": [
      "Status code 401 from http://api.opencagedata.com/geocode/v1/json: ERROR - 401 Client Error: Unauthorized for url: http://api.opencagedata.com/geocode/v1/json?query=M9B%2C+Toronto%2C+Ontario&key=13aa077d21ae42f287ec8607e07b2159&limit=1\n"
     ]
    },
    {
     "name": "stdout",
     "output_type": "stream",
     "text": [
      "Trying for M9B\n"
     ]
    },
    {
     "name": "stderr",
     "output_type": "stream",
     "text": [
      "Status code 401 from http://api.opencagedata.com/geocode/v1/json: ERROR - 401 Client Error: Unauthorized for url: http://api.opencagedata.com/geocode/v1/json?query=M9B%2C+Toronto%2C+Ontario&key=13aa077d21ae42f287ec8607e07b2159&limit=1\n"
     ]
    },
    {
     "name": "stdout",
     "output_type": "stream",
     "text": [
      "Trying for M9B\n"
     ]
    },
    {
     "name": "stderr",
     "output_type": "stream",
     "text": [
      "Status code 401 from http://api.opencagedata.com/geocode/v1/json: ERROR - 401 Client Error: Unauthorized for url: http://api.opencagedata.com/geocode/v1/json?query=M9B%2C+Toronto%2C+Ontario&key=13aa077d21ae42f287ec8607e07b2159&limit=1\n"
     ]
    },
    {
     "name": "stdout",
     "output_type": "stream",
     "text": [
      "Trying for M9B\n"
     ]
    },
    {
     "name": "stderr",
     "output_type": "stream",
     "text": [
      "Status code 401 from http://api.opencagedata.com/geocode/v1/json: ERROR - 401 Client Error: Unauthorized for url: http://api.opencagedata.com/geocode/v1/json?query=M9B%2C+Toronto%2C+Ontario&key=13aa077d21ae42f287ec8607e07b2159&limit=1\n"
     ]
    },
    {
     "name": "stdout",
     "output_type": "stream",
     "text": [
      "Trying for M9B\n"
     ]
    },
    {
     "name": "stderr",
     "output_type": "stream",
     "text": [
      "Status code 401 from http://api.opencagedata.com/geocode/v1/json: ERROR - 401 Client Error: Unauthorized for url: http://api.opencagedata.com/geocode/v1/json?query=M9B%2C+Toronto%2C+Ontario&key=13aa077d21ae42f287ec8607e07b2159&limit=1\n"
     ]
    },
    {
     "name": "stdout",
     "output_type": "stream",
     "text": [
      "Trying for M9B\n"
     ]
    },
    {
     "name": "stderr",
     "output_type": "stream",
     "text": [
      "Status code 401 from http://api.opencagedata.com/geocode/v1/json: ERROR - 401 Client Error: Unauthorized for url: http://api.opencagedata.com/geocode/v1/json?query=M9B%2C+Toronto%2C+Ontario&key=13aa077d21ae42f287ec8607e07b2159&limit=1\n"
     ]
    },
    {
     "name": "stdout",
     "output_type": "stream",
     "text": [
      "Trying for M9B\n"
     ]
    },
    {
     "name": "stderr",
     "output_type": "stream",
     "text": [
      "Status code 401 from http://api.opencagedata.com/geocode/v1/json: ERROR - 401 Client Error: Unauthorized for url: http://api.opencagedata.com/geocode/v1/json?query=M9B%2C+Toronto%2C+Ontario&key=13aa077d21ae42f287ec8607e07b2159&limit=1\n"
     ]
    },
    {
     "name": "stdout",
     "output_type": "stream",
     "text": [
      "Trying for M9B\n"
     ]
    },
    {
     "name": "stderr",
     "output_type": "stream",
     "text": [
      "Status code 401 from http://api.opencagedata.com/geocode/v1/json: ERROR - 401 Client Error: Unauthorized for url: http://api.opencagedata.com/geocode/v1/json?query=M9B%2C+Toronto%2C+Ontario&key=13aa077d21ae42f287ec8607e07b2159&limit=1\n"
     ]
    },
    {
     "name": "stdout",
     "output_type": "stream",
     "text": [
      "Trying for M9B\n"
     ]
    },
    {
     "name": "stderr",
     "output_type": "stream",
     "text": [
      "Status code 401 from http://api.opencagedata.com/geocode/v1/json: ERROR - 401 Client Error: Unauthorized for url: http://api.opencagedata.com/geocode/v1/json?query=M9B%2C+Toronto%2C+Ontario&key=13aa077d21ae42f287ec8607e07b2159&limit=1\n"
     ]
    },
    {
     "name": "stdout",
     "output_type": "stream",
     "text": [
      "Trying for M9B\n"
     ]
    },
    {
     "name": "stderr",
     "output_type": "stream",
     "text": [
      "Status code 401 from http://api.opencagedata.com/geocode/v1/json: ERROR - 401 Client Error: Unauthorized for url: http://api.opencagedata.com/geocode/v1/json?query=M9B%2C+Toronto%2C+Ontario&key=13aa077d21ae42f287ec8607e07b2159&limit=1\n"
     ]
    },
    {
     "name": "stdout",
     "output_type": "stream",
     "text": [
      "Trying for M9B\n",
      "M9B, done\n",
      "M7R, Toronto, Ontario\n",
      "Trying for M7R\n"
     ]
    },
    {
     "name": "stderr",
     "output_type": "stream",
     "text": [
      "Status code 401 from http://api.opencagedata.com/geocode/v1/json: ERROR - 401 Client Error: Unauthorized for url: http://api.opencagedata.com/geocode/v1/json?query=M7R%2C+Toronto%2C+Ontario&key=13aa077d21ae42f287ec8607e07b2159&limit=1\n"
     ]
    },
    {
     "name": "stdout",
     "output_type": "stream",
     "text": [
      "Trying for M7R\n"
     ]
    },
    {
     "name": "stderr",
     "output_type": "stream",
     "text": [
      "Status code 401 from http://api.opencagedata.com/geocode/v1/json: ERROR - 401 Client Error: Unauthorized for url: http://api.opencagedata.com/geocode/v1/json?query=M7R%2C+Toronto%2C+Ontario&key=13aa077d21ae42f287ec8607e07b2159&limit=1\n"
     ]
    },
    {
     "name": "stdout",
     "output_type": "stream",
     "text": [
      "Trying for M7R\n"
     ]
    },
    {
     "name": "stderr",
     "output_type": "stream",
     "text": [
      "Status code 401 from http://api.opencagedata.com/geocode/v1/json: ERROR - 401 Client Error: Unauthorized for url: http://api.opencagedata.com/geocode/v1/json?query=M7R%2C+Toronto%2C+Ontario&key=13aa077d21ae42f287ec8607e07b2159&limit=1\n"
     ]
    },
    {
     "name": "stdout",
     "output_type": "stream",
     "text": [
      "Trying for M7R\n"
     ]
    },
    {
     "name": "stderr",
     "output_type": "stream",
     "text": [
      "Status code 401 from http://api.opencagedata.com/geocode/v1/json: ERROR - 401 Client Error: Unauthorized for url: http://api.opencagedata.com/geocode/v1/json?query=M7R%2C+Toronto%2C+Ontario&key=13aa077d21ae42f287ec8607e07b2159&limit=1\n"
     ]
    },
    {
     "name": "stdout",
     "output_type": "stream",
     "text": [
      "Trying for M7R\n"
     ]
    },
    {
     "name": "stderr",
     "output_type": "stream",
     "text": [
      "Status code 401 from http://api.opencagedata.com/geocode/v1/json: ERROR - 401 Client Error: Unauthorized for url: http://api.opencagedata.com/geocode/v1/json?query=M7R%2C+Toronto%2C+Ontario&key=13aa077d21ae42f287ec8607e07b2159&limit=1\n"
     ]
    },
    {
     "name": "stdout",
     "output_type": "stream",
     "text": [
      "Trying for M7R\n"
     ]
    },
    {
     "name": "stderr",
     "output_type": "stream",
     "text": [
      "Status code 401 from http://api.opencagedata.com/geocode/v1/json: ERROR - 401 Client Error: Unauthorized for url: http://api.opencagedata.com/geocode/v1/json?query=M7R%2C+Toronto%2C+Ontario&key=13aa077d21ae42f287ec8607e07b2159&limit=1\n"
     ]
    },
    {
     "name": "stdout",
     "output_type": "stream",
     "text": [
      "Trying for M7R\n"
     ]
    },
    {
     "name": "stderr",
     "output_type": "stream",
     "text": [
      "Status code 401 from http://api.opencagedata.com/geocode/v1/json: ERROR - 401 Client Error: Unauthorized for url: http://api.opencagedata.com/geocode/v1/json?query=M7R%2C+Toronto%2C+Ontario&key=13aa077d21ae42f287ec8607e07b2159&limit=1\n"
     ]
    },
    {
     "name": "stdout",
     "output_type": "stream",
     "text": [
      "Trying for M7R\n"
     ]
    },
    {
     "name": "stderr",
     "output_type": "stream",
     "text": [
      "Status code 401 from http://api.opencagedata.com/geocode/v1/json: ERROR - 401 Client Error: Unauthorized for url: http://api.opencagedata.com/geocode/v1/json?query=M7R%2C+Toronto%2C+Ontario&key=13aa077d21ae42f287ec8607e07b2159&limit=1\n"
     ]
    },
    {
     "name": "stdout",
     "output_type": "stream",
     "text": [
      "Trying for M7R\n"
     ]
    },
    {
     "name": "stderr",
     "output_type": "stream",
     "text": [
      "Status code 401 from http://api.opencagedata.com/geocode/v1/json: ERROR - 401 Client Error: Unauthorized for url: http://api.opencagedata.com/geocode/v1/json?query=M7R%2C+Toronto%2C+Ontario&key=13aa077d21ae42f287ec8607e07b2159&limit=1\n"
     ]
    },
    {
     "name": "stdout",
     "output_type": "stream",
     "text": [
      "Trying for M7R\n"
     ]
    },
    {
     "name": "stderr",
     "output_type": "stream",
     "text": [
      "Status code 401 from http://api.opencagedata.com/geocode/v1/json: ERROR - 401 Client Error: Unauthorized for url: http://api.opencagedata.com/geocode/v1/json?query=M7R%2C+Toronto%2C+Ontario&key=13aa077d21ae42f287ec8607e07b2159&limit=1\n"
     ]
    },
    {
     "name": "stdout",
     "output_type": "stream",
     "text": [
      "Trying for M7R\n"
     ]
    },
    {
     "name": "stderr",
     "output_type": "stream",
     "text": [
      "Status code 401 from http://api.opencagedata.com/geocode/v1/json: ERROR - 401 Client Error: Unauthorized for url: http://api.opencagedata.com/geocode/v1/json?query=M7R%2C+Toronto%2C+Ontario&key=13aa077d21ae42f287ec8607e07b2159&limit=1\n"
     ]
    },
    {
     "name": "stdout",
     "output_type": "stream",
     "text": [
      "Trying for M7R\n"
     ]
    },
    {
     "name": "stderr",
     "output_type": "stream",
     "text": [
      "Status code 401 from http://api.opencagedata.com/geocode/v1/json: ERROR - 401 Client Error: Unauthorized for url: http://api.opencagedata.com/geocode/v1/json?query=M7R%2C+Toronto%2C+Ontario&key=13aa077d21ae42f287ec8607e07b2159&limit=1\n"
     ]
    },
    {
     "name": "stdout",
     "output_type": "stream",
     "text": [
      "Trying for M7R\n"
     ]
    },
    {
     "name": "stderr",
     "output_type": "stream",
     "text": [
      "Status code 401 from http://api.opencagedata.com/geocode/v1/json: ERROR - 401 Client Error: Unauthorized for url: http://api.opencagedata.com/geocode/v1/json?query=M7R%2C+Toronto%2C+Ontario&key=13aa077d21ae42f287ec8607e07b2159&limit=1\n"
     ]
    },
    {
     "name": "stdout",
     "output_type": "stream",
     "text": [
      "Trying for M7R\n"
     ]
    },
    {
     "name": "stderr",
     "output_type": "stream",
     "text": [
      "Status code 401 from http://api.opencagedata.com/geocode/v1/json: ERROR - 401 Client Error: Unauthorized for url: http://api.opencagedata.com/geocode/v1/json?query=M7R%2C+Toronto%2C+Ontario&key=13aa077d21ae42f287ec8607e07b2159&limit=1\n"
     ]
    },
    {
     "name": "stdout",
     "output_type": "stream",
     "text": [
      "Trying for M7R\n"
     ]
    },
    {
     "name": "stderr",
     "output_type": "stream",
     "text": [
      "Status code 401 from http://api.opencagedata.com/geocode/v1/json: ERROR - 401 Client Error: Unauthorized for url: http://api.opencagedata.com/geocode/v1/json?query=M7R%2C+Toronto%2C+Ontario&key=13aa077d21ae42f287ec8607e07b2159&limit=1\n"
     ]
    },
    {
     "name": "stdout",
     "output_type": "stream",
     "text": [
      "Trying for M7R\n"
     ]
    },
    {
     "name": "stderr",
     "output_type": "stream",
     "text": [
      "Status code 401 from http://api.opencagedata.com/geocode/v1/json: ERROR - 401 Client Error: Unauthorized for url: http://api.opencagedata.com/geocode/v1/json?query=M7R%2C+Toronto%2C+Ontario&key=13aa077d21ae42f287ec8607e07b2159&limit=1\n"
     ]
    },
    {
     "name": "stdout",
     "output_type": "stream",
     "text": [
      "Trying for M7R\n"
     ]
    },
    {
     "name": "stderr",
     "output_type": "stream",
     "text": [
      "Status code 401 from http://api.opencagedata.com/geocode/v1/json: ERROR - 401 Client Error: Unauthorized for url: http://api.opencagedata.com/geocode/v1/json?query=M7R%2C+Toronto%2C+Ontario&key=13aa077d21ae42f287ec8607e07b2159&limit=1\n"
     ]
    },
    {
     "name": "stdout",
     "output_type": "stream",
     "text": [
      "Trying for M7R\n"
     ]
    },
    {
     "name": "stderr",
     "output_type": "stream",
     "text": [
      "Status code 401 from http://api.opencagedata.com/geocode/v1/json: ERROR - 401 Client Error: Unauthorized for url: http://api.opencagedata.com/geocode/v1/json?query=M7R%2C+Toronto%2C+Ontario&key=13aa077d21ae42f287ec8607e07b2159&limit=1\n"
     ]
    },
    {
     "name": "stdout",
     "output_type": "stream",
     "text": [
      "Trying for M7R\n"
     ]
    },
    {
     "name": "stderr",
     "output_type": "stream",
     "text": [
      "Status code 401 from http://api.opencagedata.com/geocode/v1/json: ERROR - 401 Client Error: Unauthorized for url: http://api.opencagedata.com/geocode/v1/json?query=M7R%2C+Toronto%2C+Ontario&key=13aa077d21ae42f287ec8607e07b2159&limit=1\n"
     ]
    },
    {
     "name": "stdout",
     "output_type": "stream",
     "text": [
      "Trying for M7R\n"
     ]
    },
    {
     "name": "stderr",
     "output_type": "stream",
     "text": [
      "Status code 401 from http://api.opencagedata.com/geocode/v1/json: ERROR - 401 Client Error: Unauthorized for url: http://api.opencagedata.com/geocode/v1/json?query=M7R%2C+Toronto%2C+Ontario&key=13aa077d21ae42f287ec8607e07b2159&limit=1\n"
     ]
    },
    {
     "name": "stdout",
     "output_type": "stream",
     "text": [
      "Trying for M7R\n"
     ]
    },
    {
     "name": "stderr",
     "output_type": "stream",
     "text": [
      "Status code 401 from http://api.opencagedata.com/geocode/v1/json: ERROR - 401 Client Error: Unauthorized for url: http://api.opencagedata.com/geocode/v1/json?query=M7R%2C+Toronto%2C+Ontario&key=13aa077d21ae42f287ec8607e07b2159&limit=1\n"
     ]
    },
    {
     "name": "stdout",
     "output_type": "stream",
     "text": [
      "Trying for M7R\n"
     ]
    },
    {
     "name": "stderr",
     "output_type": "stream",
     "text": [
      "Status code 401 from http://api.opencagedata.com/geocode/v1/json: ERROR - 401 Client Error: Unauthorized for url: http://api.opencagedata.com/geocode/v1/json?query=M7R%2C+Toronto%2C+Ontario&key=13aa077d21ae42f287ec8607e07b2159&limit=1\n"
     ]
    },
    {
     "name": "stdout",
     "output_type": "stream",
     "text": [
      "Trying for M7R\n"
     ]
    },
    {
     "name": "stderr",
     "output_type": "stream",
     "text": [
      "Status code 401 from http://api.opencagedata.com/geocode/v1/json: ERROR - 401 Client Error: Unauthorized for url: http://api.opencagedata.com/geocode/v1/json?query=M7R%2C+Toronto%2C+Ontario&key=13aa077d21ae42f287ec8607e07b2159&limit=1\n"
     ]
    },
    {
     "name": "stdout",
     "output_type": "stream",
     "text": [
      "Trying for M7R\n"
     ]
    },
    {
     "name": "stderr",
     "output_type": "stream",
     "text": [
      "Status code 401 from http://api.opencagedata.com/geocode/v1/json: ERROR - 401 Client Error: Unauthorized for url: http://api.opencagedata.com/geocode/v1/json?query=M7R%2C+Toronto%2C+Ontario&key=13aa077d21ae42f287ec8607e07b2159&limit=1\n"
     ]
    },
    {
     "name": "stdout",
     "output_type": "stream",
     "text": [
      "Trying for M7R\n"
     ]
    },
    {
     "name": "stderr",
     "output_type": "stream",
     "text": [
      "Status code 401 from http://api.opencagedata.com/geocode/v1/json: ERROR - 401 Client Error: Unauthorized for url: http://api.opencagedata.com/geocode/v1/json?query=M7R%2C+Toronto%2C+Ontario&key=13aa077d21ae42f287ec8607e07b2159&limit=1\n"
     ]
    },
    {
     "name": "stdout",
     "output_type": "stream",
     "text": [
      "Trying for M7R\n"
     ]
    },
    {
     "name": "stderr",
     "output_type": "stream",
     "text": [
      "Status code 401 from http://api.opencagedata.com/geocode/v1/json: ERROR - 401 Client Error: Unauthorized for url: http://api.opencagedata.com/geocode/v1/json?query=M7R%2C+Toronto%2C+Ontario&key=13aa077d21ae42f287ec8607e07b2159&limit=1\n"
     ]
    },
    {
     "name": "stdout",
     "output_type": "stream",
     "text": [
      "Trying for M7R\n"
     ]
    },
    {
     "name": "stderr",
     "output_type": "stream",
     "text": [
      "Status code 401 from http://api.opencagedata.com/geocode/v1/json: ERROR - 401 Client Error: Unauthorized for url: http://api.opencagedata.com/geocode/v1/json?query=M7R%2C+Toronto%2C+Ontario&key=13aa077d21ae42f287ec8607e07b2159&limit=1\n"
     ]
    },
    {
     "name": "stdout",
     "output_type": "stream",
     "text": [
      "Trying for M7R\n"
     ]
    },
    {
     "name": "stderr",
     "output_type": "stream",
     "text": [
      "Status code 401 from http://api.opencagedata.com/geocode/v1/json: ERROR - 401 Client Error: Unauthorized for url: http://api.opencagedata.com/geocode/v1/json?query=M7R%2C+Toronto%2C+Ontario&key=13aa077d21ae42f287ec8607e07b2159&limit=1\n"
     ]
    },
    {
     "name": "stdout",
     "output_type": "stream",
     "text": [
      "Trying for M7R\n"
     ]
    },
    {
     "name": "stderr",
     "output_type": "stream",
     "text": [
      "Status code 401 from http://api.opencagedata.com/geocode/v1/json: ERROR - 401 Client Error: Unauthorized for url: http://api.opencagedata.com/geocode/v1/json?query=M7R%2C+Toronto%2C+Ontario&key=13aa077d21ae42f287ec8607e07b2159&limit=1\n"
     ]
    },
    {
     "name": "stdout",
     "output_type": "stream",
     "text": [
      "Trying for M7R\n",
      "M7R, done\n",
      "M3A, Toronto, Ontario\n",
      "Trying for M3A\n"
     ]
    },
    {
     "name": "stderr",
     "output_type": "stream",
     "text": [
      "Status code 401 from http://api.opencagedata.com/geocode/v1/json: ERROR - 401 Client Error: Unauthorized for url: http://api.opencagedata.com/geocode/v1/json?query=M3A%2C+Toronto%2C+Ontario&key=13aa077d21ae42f287ec8607e07b2159&limit=1\n"
     ]
    },
    {
     "name": "stdout",
     "output_type": "stream",
     "text": [
      "Trying for M3A\n",
      "M3A, done\n",
      "M9A, Toronto, Ontario\n",
      "Trying for M9A\n"
     ]
    },
    {
     "name": "stderr",
     "output_type": "stream",
     "text": [
      "Status code 401 from http://api.opencagedata.com/geocode/v1/json: ERROR - 401 Client Error: Unauthorized for url: http://api.opencagedata.com/geocode/v1/json?query=M9A%2C+Toronto%2C+Ontario&key=13aa077d21ae42f287ec8607e07b2159&limit=1\n"
     ]
    },
    {
     "name": "stdout",
     "output_type": "stream",
     "text": [
      "Trying for M9A\n"
     ]
    },
    {
     "name": "stderr",
     "output_type": "stream",
     "text": [
      "Status code 401 from http://api.opencagedata.com/geocode/v1/json: ERROR - 401 Client Error: Unauthorized for url: http://api.opencagedata.com/geocode/v1/json?query=M9A%2C+Toronto%2C+Ontario&key=13aa077d21ae42f287ec8607e07b2159&limit=1\n"
     ]
    },
    {
     "name": "stdout",
     "output_type": "stream",
     "text": [
      "Trying for M9A\n"
     ]
    },
    {
     "name": "stderr",
     "output_type": "stream",
     "text": [
      "Status code 401 from http://api.opencagedata.com/geocode/v1/json: ERROR - 401 Client Error: Unauthorized for url: http://api.opencagedata.com/geocode/v1/json?query=M9A%2C+Toronto%2C+Ontario&key=13aa077d21ae42f287ec8607e07b2159&limit=1\n"
     ]
    },
    {
     "name": "stdout",
     "output_type": "stream",
     "text": [
      "Trying for M9A\n"
     ]
    },
    {
     "name": "stderr",
     "output_type": "stream",
     "text": [
      "Status code 401 from http://api.opencagedata.com/geocode/v1/json: ERROR - 401 Client Error: Unauthorized for url: http://api.opencagedata.com/geocode/v1/json?query=M9A%2C+Toronto%2C+Ontario&key=13aa077d21ae42f287ec8607e07b2159&limit=1\n"
     ]
    },
    {
     "name": "stdout",
     "output_type": "stream",
     "text": [
      "Trying for M9A\n"
     ]
    },
    {
     "name": "stderr",
     "output_type": "stream",
     "text": [
      "Status code 401 from http://api.opencagedata.com/geocode/v1/json: ERROR - 401 Client Error: Unauthorized for url: http://api.opencagedata.com/geocode/v1/json?query=M9A%2C+Toronto%2C+Ontario&key=13aa077d21ae42f287ec8607e07b2159&limit=1\n"
     ]
    },
    {
     "name": "stdout",
     "output_type": "stream",
     "text": [
      "Trying for M9A\n"
     ]
    },
    {
     "name": "stderr",
     "output_type": "stream",
     "text": [
      "Status code 401 from http://api.opencagedata.com/geocode/v1/json: ERROR - 401 Client Error: Unauthorized for url: http://api.opencagedata.com/geocode/v1/json?query=M9A%2C+Toronto%2C+Ontario&key=13aa077d21ae42f287ec8607e07b2159&limit=1\n"
     ]
    },
    {
     "name": "stdout",
     "output_type": "stream",
     "text": [
      "Trying for M9A\n"
     ]
    },
    {
     "name": "stderr",
     "output_type": "stream",
     "text": [
      "Status code 401 from http://api.opencagedata.com/geocode/v1/json: ERROR - 401 Client Error: Unauthorized for url: http://api.opencagedata.com/geocode/v1/json?query=M9A%2C+Toronto%2C+Ontario&key=13aa077d21ae42f287ec8607e07b2159&limit=1\n"
     ]
    },
    {
     "name": "stdout",
     "output_type": "stream",
     "text": [
      "Trying for M9A\n"
     ]
    },
    {
     "name": "stderr",
     "output_type": "stream",
     "text": [
      "Status code 401 from http://api.opencagedata.com/geocode/v1/json: ERROR - 401 Client Error: Unauthorized for url: http://api.opencagedata.com/geocode/v1/json?query=M9A%2C+Toronto%2C+Ontario&key=13aa077d21ae42f287ec8607e07b2159&limit=1\n"
     ]
    },
    {
     "name": "stdout",
     "output_type": "stream",
     "text": [
      "Trying for M9A\n"
     ]
    },
    {
     "name": "stderr",
     "output_type": "stream",
     "text": [
      "Status code 401 from http://api.opencagedata.com/geocode/v1/json: ERROR - 401 Client Error: Unauthorized for url: http://api.opencagedata.com/geocode/v1/json?query=M9A%2C+Toronto%2C+Ontario&key=13aa077d21ae42f287ec8607e07b2159&limit=1\n"
     ]
    },
    {
     "name": "stdout",
     "output_type": "stream",
     "text": [
      "Trying for M9A\n"
     ]
    },
    {
     "name": "stderr",
     "output_type": "stream",
     "text": [
      "Status code 401 from http://api.opencagedata.com/geocode/v1/json: ERROR - 401 Client Error: Unauthorized for url: http://api.opencagedata.com/geocode/v1/json?query=M9A%2C+Toronto%2C+Ontario&key=13aa077d21ae42f287ec8607e07b2159&limit=1\n"
     ]
    },
    {
     "name": "stdout",
     "output_type": "stream",
     "text": [
      "Trying for M9A\n"
     ]
    },
    {
     "name": "stderr",
     "output_type": "stream",
     "text": [
      "Status code 401 from http://api.opencagedata.com/geocode/v1/json: ERROR - 401 Client Error: Unauthorized for url: http://api.opencagedata.com/geocode/v1/json?query=M9A%2C+Toronto%2C+Ontario&key=13aa077d21ae42f287ec8607e07b2159&limit=1\n"
     ]
    },
    {
     "name": "stdout",
     "output_type": "stream",
     "text": [
      "Trying for M9A\n"
     ]
    },
    {
     "name": "stderr",
     "output_type": "stream",
     "text": [
      "Status code 401 from http://api.opencagedata.com/geocode/v1/json: ERROR - 401 Client Error: Unauthorized for url: http://api.opencagedata.com/geocode/v1/json?query=M9A%2C+Toronto%2C+Ontario&key=13aa077d21ae42f287ec8607e07b2159&limit=1\n"
     ]
    },
    {
     "name": "stdout",
     "output_type": "stream",
     "text": [
      "Trying for M9A\n"
     ]
    },
    {
     "name": "stderr",
     "output_type": "stream",
     "text": [
      "Status code 401 from http://api.opencagedata.com/geocode/v1/json: ERROR - 401 Client Error: Unauthorized for url: http://api.opencagedata.com/geocode/v1/json?query=M9A%2C+Toronto%2C+Ontario&key=13aa077d21ae42f287ec8607e07b2159&limit=1\n"
     ]
    },
    {
     "name": "stdout",
     "output_type": "stream",
     "text": [
      "Trying for M9A\n"
     ]
    },
    {
     "name": "stderr",
     "output_type": "stream",
     "text": [
      "Status code 401 from http://api.opencagedata.com/geocode/v1/json: ERROR - 401 Client Error: Unauthorized for url: http://api.opencagedata.com/geocode/v1/json?query=M9A%2C+Toronto%2C+Ontario&key=13aa077d21ae42f287ec8607e07b2159&limit=1\n"
     ]
    },
    {
     "name": "stdout",
     "output_type": "stream",
     "text": [
      "Trying for M9A\n"
     ]
    },
    {
     "name": "stderr",
     "output_type": "stream",
     "text": [
      "Status code 401 from http://api.opencagedata.com/geocode/v1/json: ERROR - 401 Client Error: Unauthorized for url: http://api.opencagedata.com/geocode/v1/json?query=M9A%2C+Toronto%2C+Ontario&key=13aa077d21ae42f287ec8607e07b2159&limit=1\n"
     ]
    },
    {
     "name": "stdout",
     "output_type": "stream",
     "text": [
      "Trying for M9A\n"
     ]
    },
    {
     "name": "stderr",
     "output_type": "stream",
     "text": [
      "Status code 401 from http://api.opencagedata.com/geocode/v1/json: ERROR - 401 Client Error: Unauthorized for url: http://api.opencagedata.com/geocode/v1/json?query=M9A%2C+Toronto%2C+Ontario&key=13aa077d21ae42f287ec8607e07b2159&limit=1\n"
     ]
    },
    {
     "name": "stdout",
     "output_type": "stream",
     "text": [
      "Trying for M9A\n"
     ]
    },
    {
     "name": "stderr",
     "output_type": "stream",
     "text": [
      "Status code 401 from http://api.opencagedata.com/geocode/v1/json: ERROR - 401 Client Error: Unauthorized for url: http://api.opencagedata.com/geocode/v1/json?query=M9A%2C+Toronto%2C+Ontario&key=13aa077d21ae42f287ec8607e07b2159&limit=1\n"
     ]
    },
    {
     "name": "stdout",
     "output_type": "stream",
     "text": [
      "Trying for M9A\n"
     ]
    },
    {
     "name": "stderr",
     "output_type": "stream",
     "text": [
      "Status code 401 from http://api.opencagedata.com/geocode/v1/json: ERROR - 401 Client Error: Unauthorized for url: http://api.opencagedata.com/geocode/v1/json?query=M9A%2C+Toronto%2C+Ontario&key=13aa077d21ae42f287ec8607e07b2159&limit=1\n"
     ]
    },
    {
     "name": "stdout",
     "output_type": "stream",
     "text": [
      "Trying for M9A\n"
     ]
    },
    {
     "name": "stderr",
     "output_type": "stream",
     "text": [
      "Status code 401 from http://api.opencagedata.com/geocode/v1/json: ERROR - 401 Client Error: Unauthorized for url: http://api.opencagedata.com/geocode/v1/json?query=M9A%2C+Toronto%2C+Ontario&key=13aa077d21ae42f287ec8607e07b2159&limit=1\n"
     ]
    },
    {
     "name": "stdout",
     "output_type": "stream",
     "text": [
      "Trying for M9A\n"
     ]
    },
    {
     "name": "stderr",
     "output_type": "stream",
     "text": [
      "Status code 401 from http://api.opencagedata.com/geocode/v1/json: ERROR - 401 Client Error: Unauthorized for url: http://api.opencagedata.com/geocode/v1/json?query=M9A%2C+Toronto%2C+Ontario&key=13aa077d21ae42f287ec8607e07b2159&limit=1\n"
     ]
    },
    {
     "name": "stdout",
     "output_type": "stream",
     "text": [
      "Trying for M9A\n"
     ]
    },
    {
     "name": "stderr",
     "output_type": "stream",
     "text": [
      "Status code 401 from http://api.opencagedata.com/geocode/v1/json: ERROR - 401 Client Error: Unauthorized for url: http://api.opencagedata.com/geocode/v1/json?query=M9A%2C+Toronto%2C+Ontario&key=13aa077d21ae42f287ec8607e07b2159&limit=1\n"
     ]
    },
    {
     "name": "stdout",
     "output_type": "stream",
     "text": [
      "Trying for M9A\n"
     ]
    },
    {
     "name": "stderr",
     "output_type": "stream",
     "text": [
      "Status code 401 from http://api.opencagedata.com/geocode/v1/json: ERROR - 401 Client Error: Unauthorized for url: http://api.opencagedata.com/geocode/v1/json?query=M9A%2C+Toronto%2C+Ontario&key=13aa077d21ae42f287ec8607e07b2159&limit=1\n"
     ]
    },
    {
     "name": "stdout",
     "output_type": "stream",
     "text": [
      "Trying for M9A\n"
     ]
    },
    {
     "name": "stderr",
     "output_type": "stream",
     "text": [
      "Status code 401 from http://api.opencagedata.com/geocode/v1/json: ERROR - 401 Client Error: Unauthorized for url: http://api.opencagedata.com/geocode/v1/json?query=M9A%2C+Toronto%2C+Ontario&key=13aa077d21ae42f287ec8607e07b2159&limit=1\n"
     ]
    },
    {
     "name": "stdout",
     "output_type": "stream",
     "text": [
      "Trying for M9A\n"
     ]
    },
    {
     "name": "stderr",
     "output_type": "stream",
     "text": [
      "Status code 401 from http://api.opencagedata.com/geocode/v1/json: ERROR - 401 Client Error: Unauthorized for url: http://api.opencagedata.com/geocode/v1/json?query=M9A%2C+Toronto%2C+Ontario&key=13aa077d21ae42f287ec8607e07b2159&limit=1\n"
     ]
    },
    {
     "name": "stdout",
     "output_type": "stream",
     "text": [
      "Trying for M9A\n"
     ]
    },
    {
     "name": "stderr",
     "output_type": "stream",
     "text": [
      "Status code 401 from http://api.opencagedata.com/geocode/v1/json: ERROR - 401 Client Error: Unauthorized for url: http://api.opencagedata.com/geocode/v1/json?query=M9A%2C+Toronto%2C+Ontario&key=13aa077d21ae42f287ec8607e07b2159&limit=1\n"
     ]
    },
    {
     "name": "stdout",
     "output_type": "stream",
     "text": [
      "Trying for M9A\n"
     ]
    },
    {
     "name": "stderr",
     "output_type": "stream",
     "text": [
      "Status code 401 from http://api.opencagedata.com/geocode/v1/json: ERROR - 401 Client Error: Unauthorized for url: http://api.opencagedata.com/geocode/v1/json?query=M9A%2C+Toronto%2C+Ontario&key=13aa077d21ae42f287ec8607e07b2159&limit=1\n"
     ]
    },
    {
     "name": "stdout",
     "output_type": "stream",
     "text": [
      "Trying for M9A\n"
     ]
    },
    {
     "name": "stderr",
     "output_type": "stream",
     "text": [
      "Status code 401 from http://api.opencagedata.com/geocode/v1/json: ERROR - 401 Client Error: Unauthorized for url: http://api.opencagedata.com/geocode/v1/json?query=M9A%2C+Toronto%2C+Ontario&key=13aa077d21ae42f287ec8607e07b2159&limit=1\n"
     ]
    },
    {
     "name": "stdout",
     "output_type": "stream",
     "text": [
      "Trying for M9A\n"
     ]
    },
    {
     "name": "stderr",
     "output_type": "stream",
     "text": [
      "Status code 401 from http://api.opencagedata.com/geocode/v1/json: ERROR - 401 Client Error: Unauthorized for url: http://api.opencagedata.com/geocode/v1/json?query=M9A%2C+Toronto%2C+Ontario&key=13aa077d21ae42f287ec8607e07b2159&limit=1\n"
     ]
    },
    {
     "name": "stdout",
     "output_type": "stream",
     "text": [
      "Trying for M9A\n"
     ]
    },
    {
     "name": "stderr",
     "output_type": "stream",
     "text": [
      "Status code 401 from http://api.opencagedata.com/geocode/v1/json: ERROR - 401 Client Error: Unauthorized for url: http://api.opencagedata.com/geocode/v1/json?query=M9A%2C+Toronto%2C+Ontario&key=13aa077d21ae42f287ec8607e07b2159&limit=1\n"
     ]
    },
    {
     "name": "stdout",
     "output_type": "stream",
     "text": [
      "Trying for M9A\n"
     ]
    },
    {
     "name": "stderr",
     "output_type": "stream",
     "text": [
      "Status code 401 from http://api.opencagedata.com/geocode/v1/json: ERROR - 401 Client Error: Unauthorized for url: http://api.opencagedata.com/geocode/v1/json?query=M9A%2C+Toronto%2C+Ontario&key=13aa077d21ae42f287ec8607e07b2159&limit=1\n"
     ]
    },
    {
     "name": "stdout",
     "output_type": "stream",
     "text": [
      "Trying for M9A\n"
     ]
    },
    {
     "name": "stderr",
     "output_type": "stream",
     "text": [
      "Status code 401 from http://api.opencagedata.com/geocode/v1/json: ERROR - 401 Client Error: Unauthorized for url: http://api.opencagedata.com/geocode/v1/json?query=M9A%2C+Toronto%2C+Ontario&key=13aa077d21ae42f287ec8607e07b2159&limit=1\n"
     ]
    },
    {
     "name": "stdout",
     "output_type": "stream",
     "text": [
      "Trying for M9A\n"
     ]
    },
    {
     "name": "stderr",
     "output_type": "stream",
     "text": [
      "Status code 401 from http://api.opencagedata.com/geocode/v1/json: ERROR - 401 Client Error: Unauthorized for url: http://api.opencagedata.com/geocode/v1/json?query=M9A%2C+Toronto%2C+Ontario&key=13aa077d21ae42f287ec8607e07b2159&limit=1\n"
     ]
    },
    {
     "name": "stdout",
     "output_type": "stream",
     "text": [
      "Trying for M9A\n"
     ]
    },
    {
     "name": "stderr",
     "output_type": "stream",
     "text": [
      "Status code 401 from http://api.opencagedata.com/geocode/v1/json: ERROR - 401 Client Error: Unauthorized for url: http://api.opencagedata.com/geocode/v1/json?query=M9A%2C+Toronto%2C+Ontario&key=13aa077d21ae42f287ec8607e07b2159&limit=1\n"
     ]
    },
    {
     "name": "stdout",
     "output_type": "stream",
     "text": [
      "Trying for M9A\n"
     ]
    },
    {
     "name": "stderr",
     "output_type": "stream",
     "text": [
      "Status code 401 from http://api.opencagedata.com/geocode/v1/json: ERROR - 401 Client Error: Unauthorized for url: http://api.opencagedata.com/geocode/v1/json?query=M9A%2C+Toronto%2C+Ontario&key=13aa077d21ae42f287ec8607e07b2159&limit=1\n"
     ]
    },
    {
     "name": "stdout",
     "output_type": "stream",
     "text": [
      "Trying for M9A\n"
     ]
    },
    {
     "name": "stderr",
     "output_type": "stream",
     "text": [
      "Status code 401 from http://api.opencagedata.com/geocode/v1/json: ERROR - 401 Client Error: Unauthorized for url: http://api.opencagedata.com/geocode/v1/json?query=M9A%2C+Toronto%2C+Ontario&key=13aa077d21ae42f287ec8607e07b2159&limit=1\n"
     ]
    },
    {
     "name": "stdout",
     "output_type": "stream",
     "text": [
      "Trying for M9A\n"
     ]
    },
    {
     "name": "stderr",
     "output_type": "stream",
     "text": [
      "Status code 401 from http://api.opencagedata.com/geocode/v1/json: ERROR - 401 Client Error: Unauthorized for url: http://api.opencagedata.com/geocode/v1/json?query=M9A%2C+Toronto%2C+Ontario&key=13aa077d21ae42f287ec8607e07b2159&limit=1\n"
     ]
    },
    {
     "name": "stdout",
     "output_type": "stream",
     "text": [
      "Trying for M9A\n"
     ]
    },
    {
     "name": "stderr",
     "output_type": "stream",
     "text": [
      "Status code 401 from http://api.opencagedata.com/geocode/v1/json: ERROR - 401 Client Error: Unauthorized for url: http://api.opencagedata.com/geocode/v1/json?query=M9A%2C+Toronto%2C+Ontario&key=13aa077d21ae42f287ec8607e07b2159&limit=1\n"
     ]
    },
    {
     "name": "stdout",
     "output_type": "stream",
     "text": [
      "Trying for M9A\n"
     ]
    },
    {
     "name": "stderr",
     "output_type": "stream",
     "text": [
      "Status code 401 from http://api.opencagedata.com/geocode/v1/json: ERROR - 401 Client Error: Unauthorized for url: http://api.opencagedata.com/geocode/v1/json?query=M9A%2C+Toronto%2C+Ontario&key=13aa077d21ae42f287ec8607e07b2159&limit=1\n"
     ]
    },
    {
     "name": "stdout",
     "output_type": "stream",
     "text": [
      "Trying for M9A\n"
     ]
    },
    {
     "name": "stderr",
     "output_type": "stream",
     "text": [
      "Status code 401 from http://api.opencagedata.com/geocode/v1/json: ERROR - 401 Client Error: Unauthorized for url: http://api.opencagedata.com/geocode/v1/json?query=M9A%2C+Toronto%2C+Ontario&key=13aa077d21ae42f287ec8607e07b2159&limit=1\n"
     ]
    },
    {
     "name": "stdout",
     "output_type": "stream",
     "text": [
      "Trying for M9A\n"
     ]
    },
    {
     "name": "stderr",
     "output_type": "stream",
     "text": [
      "Status code 401 from http://api.opencagedata.com/geocode/v1/json: ERROR - 401 Client Error: Unauthorized for url: http://api.opencagedata.com/geocode/v1/json?query=M9A%2C+Toronto%2C+Ontario&key=13aa077d21ae42f287ec8607e07b2159&limit=1\n"
     ]
    },
    {
     "name": "stdout",
     "output_type": "stream",
     "text": [
      "Trying for M9A\n"
     ]
    },
    {
     "name": "stderr",
     "output_type": "stream",
     "text": [
      "Status code 401 from http://api.opencagedata.com/geocode/v1/json: ERROR - 401 Client Error: Unauthorized for url: http://api.opencagedata.com/geocode/v1/json?query=M9A%2C+Toronto%2C+Ontario&key=13aa077d21ae42f287ec8607e07b2159&limit=1\n"
     ]
    },
    {
     "name": "stdout",
     "output_type": "stream",
     "text": [
      "Trying for M9A\n"
     ]
    },
    {
     "name": "stderr",
     "output_type": "stream",
     "text": [
      "Status code 401 from http://api.opencagedata.com/geocode/v1/json: ERROR - 401 Client Error: Unauthorized for url: http://api.opencagedata.com/geocode/v1/json?query=M9A%2C+Toronto%2C+Ontario&key=13aa077d21ae42f287ec8607e07b2159&limit=1\n"
     ]
    },
    {
     "name": "stdout",
     "output_type": "stream",
     "text": [
      "Trying for M9A\n"
     ]
    },
    {
     "name": "stderr",
     "output_type": "stream",
     "text": [
      "Status code 401 from http://api.opencagedata.com/geocode/v1/json: ERROR - 401 Client Error: Unauthorized for url: http://api.opencagedata.com/geocode/v1/json?query=M9A%2C+Toronto%2C+Ontario&key=13aa077d21ae42f287ec8607e07b2159&limit=1\n"
     ]
    },
    {
     "name": "stdout",
     "output_type": "stream",
     "text": [
      "Trying for M9A\n"
     ]
    },
    {
     "name": "stderr",
     "output_type": "stream",
     "text": [
      "Status code 401 from http://api.opencagedata.com/geocode/v1/json: ERROR - 401 Client Error: Unauthorized for url: http://api.opencagedata.com/geocode/v1/json?query=M9A%2C+Toronto%2C+Ontario&key=13aa077d21ae42f287ec8607e07b2159&limit=1\n"
     ]
    },
    {
     "name": "stdout",
     "output_type": "stream",
     "text": [
      "Trying for M9A\n"
     ]
    },
    {
     "name": "stderr",
     "output_type": "stream",
     "text": [
      "Status code 401 from http://api.opencagedata.com/geocode/v1/json: ERROR - 401 Client Error: Unauthorized for url: http://api.opencagedata.com/geocode/v1/json?query=M9A%2C+Toronto%2C+Ontario&key=13aa077d21ae42f287ec8607e07b2159&limit=1\n"
     ]
    },
    {
     "name": "stdout",
     "output_type": "stream",
     "text": [
      "Trying for M9A\n"
     ]
    },
    {
     "name": "stderr",
     "output_type": "stream",
     "text": [
      "Status code 401 from http://api.opencagedata.com/geocode/v1/json: ERROR - 401 Client Error: Unauthorized for url: http://api.opencagedata.com/geocode/v1/json?query=M9A%2C+Toronto%2C+Ontario&key=13aa077d21ae42f287ec8607e07b2159&limit=1\n"
     ]
    },
    {
     "name": "stdout",
     "output_type": "stream",
     "text": [
      "Trying for M9A\n"
     ]
    },
    {
     "name": "stderr",
     "output_type": "stream",
     "text": [
      "Status code 401 from http://api.opencagedata.com/geocode/v1/json: ERROR - 401 Client Error: Unauthorized for url: http://api.opencagedata.com/geocode/v1/json?query=M9A%2C+Toronto%2C+Ontario&key=13aa077d21ae42f287ec8607e07b2159&limit=1\n"
     ]
    },
    {
     "name": "stdout",
     "output_type": "stream",
     "text": [
      "Trying for M9A\n"
     ]
    },
    {
     "name": "stderr",
     "output_type": "stream",
     "text": [
      "Status code 401 from http://api.opencagedata.com/geocode/v1/json: ERROR - 401 Client Error: Unauthorized for url: http://api.opencagedata.com/geocode/v1/json?query=M9A%2C+Toronto%2C+Ontario&key=13aa077d21ae42f287ec8607e07b2159&limit=1\n"
     ]
    },
    {
     "name": "stdout",
     "output_type": "stream",
     "text": [
      "Trying for M9A\n"
     ]
    },
    {
     "name": "stderr",
     "output_type": "stream",
     "text": [
      "Status code 401 from http://api.opencagedata.com/geocode/v1/json: ERROR - 401 Client Error: Unauthorized for url: http://api.opencagedata.com/geocode/v1/json?query=M9A%2C+Toronto%2C+Ontario&key=13aa077d21ae42f287ec8607e07b2159&limit=1\n"
     ]
    },
    {
     "name": "stdout",
     "output_type": "stream",
     "text": [
      "Trying for M9A\n"
     ]
    },
    {
     "name": "stderr",
     "output_type": "stream",
     "text": [
      "Status code 401 from http://api.opencagedata.com/geocode/v1/json: ERROR - 401 Client Error: Unauthorized for url: http://api.opencagedata.com/geocode/v1/json?query=M9A%2C+Toronto%2C+Ontario&key=13aa077d21ae42f287ec8607e07b2159&limit=1\n"
     ]
    },
    {
     "name": "stdout",
     "output_type": "stream",
     "text": [
      "Trying for M9A\n"
     ]
    },
    {
     "name": "stderr",
     "output_type": "stream",
     "text": [
      "Status code 401 from http://api.opencagedata.com/geocode/v1/json: ERROR - 401 Client Error: Unauthorized for url: http://api.opencagedata.com/geocode/v1/json?query=M9A%2C+Toronto%2C+Ontario&key=13aa077d21ae42f287ec8607e07b2159&limit=1\n"
     ]
    },
    {
     "name": "stdout",
     "output_type": "stream",
     "text": [
      "Trying for M9A\n"
     ]
    },
    {
     "name": "stderr",
     "output_type": "stream",
     "text": [
      "Status code 401 from http://api.opencagedata.com/geocode/v1/json: ERROR - 401 Client Error: Unauthorized for url: http://api.opencagedata.com/geocode/v1/json?query=M9A%2C+Toronto%2C+Ontario&key=13aa077d21ae42f287ec8607e07b2159&limit=1\n"
     ]
    },
    {
     "name": "stdout",
     "output_type": "stream",
     "text": [
      "Trying for M9A\n"
     ]
    },
    {
     "name": "stderr",
     "output_type": "stream",
     "text": [
      "Status code 401 from http://api.opencagedata.com/geocode/v1/json: ERROR - 401 Client Error: Unauthorized for url: http://api.opencagedata.com/geocode/v1/json?query=M9A%2C+Toronto%2C+Ontario&key=13aa077d21ae42f287ec8607e07b2159&limit=1\n"
     ]
    },
    {
     "name": "stdout",
     "output_type": "stream",
     "text": [
      "Trying for M9A\n"
     ]
    },
    {
     "name": "stderr",
     "output_type": "stream",
     "text": [
      "Status code 401 from http://api.opencagedata.com/geocode/v1/json: ERROR - 401 Client Error: Unauthorized for url: http://api.opencagedata.com/geocode/v1/json?query=M9A%2C+Toronto%2C+Ontario&key=13aa077d21ae42f287ec8607e07b2159&limit=1\n"
     ]
    },
    {
     "name": "stdout",
     "output_type": "stream",
     "text": [
      "Trying for M9A\n"
     ]
    },
    {
     "name": "stderr",
     "output_type": "stream",
     "text": [
      "Status code 401 from http://api.opencagedata.com/geocode/v1/json: ERROR - 401 Client Error: Unauthorized for url: http://api.opencagedata.com/geocode/v1/json?query=M9A%2C+Toronto%2C+Ontario&key=13aa077d21ae42f287ec8607e07b2159&limit=1\n"
     ]
    },
    {
     "name": "stdout",
     "output_type": "stream",
     "text": [
      "Trying for M9A\n"
     ]
    },
    {
     "name": "stderr",
     "output_type": "stream",
     "text": [
      "Status code 401 from http://api.opencagedata.com/geocode/v1/json: ERROR - 401 Client Error: Unauthorized for url: http://api.opencagedata.com/geocode/v1/json?query=M9A%2C+Toronto%2C+Ontario&key=13aa077d21ae42f287ec8607e07b2159&limit=1\n"
     ]
    },
    {
     "name": "stdout",
     "output_type": "stream",
     "text": [
      "Trying for M9A\n"
     ]
    },
    {
     "name": "stderr",
     "output_type": "stream",
     "text": [
      "Status code 401 from http://api.opencagedata.com/geocode/v1/json: ERROR - 401 Client Error: Unauthorized for url: http://api.opencagedata.com/geocode/v1/json?query=M9A%2C+Toronto%2C+Ontario&key=13aa077d21ae42f287ec8607e07b2159&limit=1\n"
     ]
    },
    {
     "name": "stdout",
     "output_type": "stream",
     "text": [
      "Trying for M9A\n"
     ]
    },
    {
     "name": "stderr",
     "output_type": "stream",
     "text": [
      "Status code 401 from http://api.opencagedata.com/geocode/v1/json: ERROR - 401 Client Error: Unauthorized for url: http://api.opencagedata.com/geocode/v1/json?query=M9A%2C+Toronto%2C+Ontario&key=13aa077d21ae42f287ec8607e07b2159&limit=1\n"
     ]
    },
    {
     "name": "stdout",
     "output_type": "stream",
     "text": [
      "Trying for M9A\n"
     ]
    },
    {
     "name": "stderr",
     "output_type": "stream",
     "text": [
      "Status code 401 from http://api.opencagedata.com/geocode/v1/json: ERROR - 401 Client Error: Unauthorized for url: http://api.opencagedata.com/geocode/v1/json?query=M9A%2C+Toronto%2C+Ontario&key=13aa077d21ae42f287ec8607e07b2159&limit=1\n"
     ]
    },
    {
     "name": "stdout",
     "output_type": "stream",
     "text": [
      "Trying for M9A\n"
     ]
    },
    {
     "name": "stderr",
     "output_type": "stream",
     "text": [
      "Status code 401 from http://api.opencagedata.com/geocode/v1/json: ERROR - 401 Client Error: Unauthorized for url: http://api.opencagedata.com/geocode/v1/json?query=M9A%2C+Toronto%2C+Ontario&key=13aa077d21ae42f287ec8607e07b2159&limit=1\n"
     ]
    },
    {
     "name": "stdout",
     "output_type": "stream",
     "text": [
      "Trying for M9A\n"
     ]
    },
    {
     "name": "stderr",
     "output_type": "stream",
     "text": [
      "Status code 401 from http://api.opencagedata.com/geocode/v1/json: ERROR - 401 Client Error: Unauthorized for url: http://api.opencagedata.com/geocode/v1/json?query=M9A%2C+Toronto%2C+Ontario&key=13aa077d21ae42f287ec8607e07b2159&limit=1\n"
     ]
    },
    {
     "name": "stdout",
     "output_type": "stream",
     "text": [
      "Trying for M9A\n"
     ]
    },
    {
     "name": "stderr",
     "output_type": "stream",
     "text": [
      "Status code 401 from http://api.opencagedata.com/geocode/v1/json: ERROR - 401 Client Error: Unauthorized for url: http://api.opencagedata.com/geocode/v1/json?query=M9A%2C+Toronto%2C+Ontario&key=13aa077d21ae42f287ec8607e07b2159&limit=1\n"
     ]
    },
    {
     "name": "stdout",
     "output_type": "stream",
     "text": [
      "Trying for M9A\n"
     ]
    },
    {
     "name": "stderr",
     "output_type": "stream",
     "text": [
      "Status code 401 from http://api.opencagedata.com/geocode/v1/json: ERROR - 401 Client Error: Unauthorized for url: http://api.opencagedata.com/geocode/v1/json?query=M9A%2C+Toronto%2C+Ontario&key=13aa077d21ae42f287ec8607e07b2159&limit=1\n"
     ]
    },
    {
     "name": "stdout",
     "output_type": "stream",
     "text": [
      "Trying for M9A\n"
     ]
    },
    {
     "name": "stderr",
     "output_type": "stream",
     "text": [
      "Status code 401 from http://api.opencagedata.com/geocode/v1/json: ERROR - 401 Client Error: Unauthorized for url: http://api.opencagedata.com/geocode/v1/json?query=M9A%2C+Toronto%2C+Ontario&key=13aa077d21ae42f287ec8607e07b2159&limit=1\n"
     ]
    },
    {
     "name": "stdout",
     "output_type": "stream",
     "text": [
      "Trying for M9A\n"
     ]
    },
    {
     "name": "stderr",
     "output_type": "stream",
     "text": [
      "Status code 401 from http://api.opencagedata.com/geocode/v1/json: ERROR - 401 Client Error: Unauthorized for url: http://api.opencagedata.com/geocode/v1/json?query=M9A%2C+Toronto%2C+Ontario&key=13aa077d21ae42f287ec8607e07b2159&limit=1\n"
     ]
    },
    {
     "name": "stdout",
     "output_type": "stream",
     "text": [
      "Trying for M9A\n"
     ]
    },
    {
     "name": "stderr",
     "output_type": "stream",
     "text": [
      "Status code 401 from http://api.opencagedata.com/geocode/v1/json: ERROR - 401 Client Error: Unauthorized for url: http://api.opencagedata.com/geocode/v1/json?query=M9A%2C+Toronto%2C+Ontario&key=13aa077d21ae42f287ec8607e07b2159&limit=1\n"
     ]
    },
    {
     "name": "stdout",
     "output_type": "stream",
     "text": [
      "Trying for M9A\n"
     ]
    },
    {
     "name": "stderr",
     "output_type": "stream",
     "text": [
      "Status code 401 from http://api.opencagedata.com/geocode/v1/json: ERROR - 401 Client Error: Unauthorized for url: http://api.opencagedata.com/geocode/v1/json?query=M9A%2C+Toronto%2C+Ontario&key=13aa077d21ae42f287ec8607e07b2159&limit=1\n"
     ]
    },
    {
     "name": "stdout",
     "output_type": "stream",
     "text": [
      "Trying for M9A\n"
     ]
    },
    {
     "name": "stderr",
     "output_type": "stream",
     "text": [
      "Status code 401 from http://api.opencagedata.com/geocode/v1/json: ERROR - 401 Client Error: Unauthorized for url: http://api.opencagedata.com/geocode/v1/json?query=M9A%2C+Toronto%2C+Ontario&key=13aa077d21ae42f287ec8607e07b2159&limit=1\n"
     ]
    },
    {
     "name": "stdout",
     "output_type": "stream",
     "text": [
      "Trying for M9A\n"
     ]
    },
    {
     "name": "stderr",
     "output_type": "stream",
     "text": [
      "Status code 401 from http://api.opencagedata.com/geocode/v1/json: ERROR - 401 Client Error: Unauthorized for url: http://api.opencagedata.com/geocode/v1/json?query=M9A%2C+Toronto%2C+Ontario&key=13aa077d21ae42f287ec8607e07b2159&limit=1\n"
     ]
    },
    {
     "name": "stdout",
     "output_type": "stream",
     "text": [
      "Trying for M9A\n"
     ]
    },
    {
     "name": "stderr",
     "output_type": "stream",
     "text": [
      "Status code 401 from http://api.opencagedata.com/geocode/v1/json: ERROR - 401 Client Error: Unauthorized for url: http://api.opencagedata.com/geocode/v1/json?query=M9A%2C+Toronto%2C+Ontario&key=13aa077d21ae42f287ec8607e07b2159&limit=1\n"
     ]
    },
    {
     "name": "stdout",
     "output_type": "stream",
     "text": [
      "Trying for M9A\n"
     ]
    },
    {
     "name": "stderr",
     "output_type": "stream",
     "text": [
      "Status code 401 from http://api.opencagedata.com/geocode/v1/json: ERROR - 401 Client Error: Unauthorized for url: http://api.opencagedata.com/geocode/v1/json?query=M9A%2C+Toronto%2C+Ontario&key=13aa077d21ae42f287ec8607e07b2159&limit=1\n"
     ]
    },
    {
     "name": "stdout",
     "output_type": "stream",
     "text": [
      "Trying for M9A\n"
     ]
    },
    {
     "name": "stderr",
     "output_type": "stream",
     "text": [
      "Status code 401 from http://api.opencagedata.com/geocode/v1/json: ERROR - 401 Client Error: Unauthorized for url: http://api.opencagedata.com/geocode/v1/json?query=M9A%2C+Toronto%2C+Ontario&key=13aa077d21ae42f287ec8607e07b2159&limit=1\n"
     ]
    },
    {
     "name": "stdout",
     "output_type": "stream",
     "text": [
      "Trying for M9A\n"
     ]
    },
    {
     "name": "stderr",
     "output_type": "stream",
     "text": [
      "Status code 401 from http://api.opencagedata.com/geocode/v1/json: ERROR - 401 Client Error: Unauthorized for url: http://api.opencagedata.com/geocode/v1/json?query=M9A%2C+Toronto%2C+Ontario&key=13aa077d21ae42f287ec8607e07b2159&limit=1\n"
     ]
    },
    {
     "name": "stdout",
     "output_type": "stream",
     "text": [
      "Trying for M9A\n"
     ]
    },
    {
     "name": "stderr",
     "output_type": "stream",
     "text": [
      "Status code 401 from http://api.opencagedata.com/geocode/v1/json: ERROR - 401 Client Error: Unauthorized for url: http://api.opencagedata.com/geocode/v1/json?query=M9A%2C+Toronto%2C+Ontario&key=13aa077d21ae42f287ec8607e07b2159&limit=1\n"
     ]
    },
    {
     "name": "stdout",
     "output_type": "stream",
     "text": [
      "Trying for M9A\n"
     ]
    },
    {
     "name": "stderr",
     "output_type": "stream",
     "text": [
      "Status code 401 from http://api.opencagedata.com/geocode/v1/json: ERROR - 401 Client Error: Unauthorized for url: http://api.opencagedata.com/geocode/v1/json?query=M9A%2C+Toronto%2C+Ontario&key=13aa077d21ae42f287ec8607e07b2159&limit=1\n"
     ]
    },
    {
     "name": "stdout",
     "output_type": "stream",
     "text": [
      "Trying for M9A\n"
     ]
    },
    {
     "name": "stderr",
     "output_type": "stream",
     "text": [
      "Status code 401 from http://api.opencagedata.com/geocode/v1/json: ERROR - 401 Client Error: Unauthorized for url: http://api.opencagedata.com/geocode/v1/json?query=M9A%2C+Toronto%2C+Ontario&key=13aa077d21ae42f287ec8607e07b2159&limit=1\n"
     ]
    },
    {
     "name": "stdout",
     "output_type": "stream",
     "text": [
      "Trying for M9A\n"
     ]
    },
    {
     "name": "stderr",
     "output_type": "stream",
     "text": [
      "Status code 401 from http://api.opencagedata.com/geocode/v1/json: ERROR - 401 Client Error: Unauthorized for url: http://api.opencagedata.com/geocode/v1/json?query=M9A%2C+Toronto%2C+Ontario&key=13aa077d21ae42f287ec8607e07b2159&limit=1\n"
     ]
    },
    {
     "name": "stdout",
     "output_type": "stream",
     "text": [
      "Trying for M9A\n"
     ]
    },
    {
     "name": "stderr",
     "output_type": "stream",
     "text": [
      "Status code 401 from http://api.opencagedata.com/geocode/v1/json: ERROR - 401 Client Error: Unauthorized for url: http://api.opencagedata.com/geocode/v1/json?query=M9A%2C+Toronto%2C+Ontario&key=13aa077d21ae42f287ec8607e07b2159&limit=1\n"
     ]
    },
    {
     "name": "stdout",
     "output_type": "stream",
     "text": [
      "Trying for M9A\n"
     ]
    },
    {
     "name": "stderr",
     "output_type": "stream",
     "text": [
      "Status code 401 from http://api.opencagedata.com/geocode/v1/json: ERROR - 401 Client Error: Unauthorized for url: http://api.opencagedata.com/geocode/v1/json?query=M9A%2C+Toronto%2C+Ontario&key=13aa077d21ae42f287ec8607e07b2159&limit=1\n"
     ]
    },
    {
     "name": "stdout",
     "output_type": "stream",
     "text": [
      "Trying for M9A\n"
     ]
    },
    {
     "name": "stderr",
     "output_type": "stream",
     "text": [
      "Status code 401 from http://api.opencagedata.com/geocode/v1/json: ERROR - 401 Client Error: Unauthorized for url: http://api.opencagedata.com/geocode/v1/json?query=M9A%2C+Toronto%2C+Ontario&key=13aa077d21ae42f287ec8607e07b2159&limit=1\n"
     ]
    },
    {
     "name": "stdout",
     "output_type": "stream",
     "text": [
      "Trying for M9A\n"
     ]
    },
    {
     "name": "stderr",
     "output_type": "stream",
     "text": [
      "Status code 401 from http://api.opencagedata.com/geocode/v1/json: ERROR - 401 Client Error: Unauthorized for url: http://api.opencagedata.com/geocode/v1/json?query=M9A%2C+Toronto%2C+Ontario&key=13aa077d21ae42f287ec8607e07b2159&limit=1\n"
     ]
    },
    {
     "name": "stdout",
     "output_type": "stream",
     "text": [
      "Trying for M9A\n"
     ]
    },
    {
     "name": "stderr",
     "output_type": "stream",
     "text": [
      "Status code 401 from http://api.opencagedata.com/geocode/v1/json: ERROR - 401 Client Error: Unauthorized for url: http://api.opencagedata.com/geocode/v1/json?query=M9A%2C+Toronto%2C+Ontario&key=13aa077d21ae42f287ec8607e07b2159&limit=1\n"
     ]
    },
    {
     "name": "stdout",
     "output_type": "stream",
     "text": [
      "Trying for M9A\n"
     ]
    },
    {
     "name": "stderr",
     "output_type": "stream",
     "text": [
      "Status code 401 from http://api.opencagedata.com/geocode/v1/json: ERROR - 401 Client Error: Unauthorized for url: http://api.opencagedata.com/geocode/v1/json?query=M9A%2C+Toronto%2C+Ontario&key=13aa077d21ae42f287ec8607e07b2159&limit=1\n"
     ]
    },
    {
     "name": "stdout",
     "output_type": "stream",
     "text": [
      "Trying for M9A\n"
     ]
    },
    {
     "name": "stderr",
     "output_type": "stream",
     "text": [
      "Status code 401 from http://api.opencagedata.com/geocode/v1/json: ERROR - 401 Client Error: Unauthorized for url: http://api.opencagedata.com/geocode/v1/json?query=M9A%2C+Toronto%2C+Ontario&key=13aa077d21ae42f287ec8607e07b2159&limit=1\n"
     ]
    },
    {
     "name": "stdout",
     "output_type": "stream",
     "text": [
      "Trying for M9A\n"
     ]
    },
    {
     "name": "stderr",
     "output_type": "stream",
     "text": [
      "Status code 401 from http://api.opencagedata.com/geocode/v1/json: ERROR - 401 Client Error: Unauthorized for url: http://api.opencagedata.com/geocode/v1/json?query=M9A%2C+Toronto%2C+Ontario&key=13aa077d21ae42f287ec8607e07b2159&limit=1\n"
     ]
    },
    {
     "name": "stdout",
     "output_type": "stream",
     "text": [
      "Trying for M9A\n"
     ]
    },
    {
     "name": "stderr",
     "output_type": "stream",
     "text": [
      "Status code 401 from http://api.opencagedata.com/geocode/v1/json: ERROR - 401 Client Error: Unauthorized for url: http://api.opencagedata.com/geocode/v1/json?query=M9A%2C+Toronto%2C+Ontario&key=13aa077d21ae42f287ec8607e07b2159&limit=1\n"
     ]
    },
    {
     "name": "stdout",
     "output_type": "stream",
     "text": [
      "Trying for M9A\n"
     ]
    },
    {
     "name": "stderr",
     "output_type": "stream",
     "text": [
      "Status code 401 from http://api.opencagedata.com/geocode/v1/json: ERROR - 401 Client Error: Unauthorized for url: http://api.opencagedata.com/geocode/v1/json?query=M9A%2C+Toronto%2C+Ontario&key=13aa077d21ae42f287ec8607e07b2159&limit=1\n"
     ]
    },
    {
     "name": "stdout",
     "output_type": "stream",
     "text": [
      "Trying for M9A\n"
     ]
    },
    {
     "name": "stderr",
     "output_type": "stream",
     "text": [
      "Status code 401 from http://api.opencagedata.com/geocode/v1/json: ERROR - 401 Client Error: Unauthorized for url: http://api.opencagedata.com/geocode/v1/json?query=M9A%2C+Toronto%2C+Ontario&key=13aa077d21ae42f287ec8607e07b2159&limit=1\n"
     ]
    },
    {
     "name": "stdout",
     "output_type": "stream",
     "text": [
      "Trying for M9A\n"
     ]
    },
    {
     "name": "stderr",
     "output_type": "stream",
     "text": [
      "Status code 401 from http://api.opencagedata.com/geocode/v1/json: ERROR - 401 Client Error: Unauthorized for url: http://api.opencagedata.com/geocode/v1/json?query=M9A%2C+Toronto%2C+Ontario&key=13aa077d21ae42f287ec8607e07b2159&limit=1\n"
     ]
    },
    {
     "name": "stdout",
     "output_type": "stream",
     "text": [
      "Trying for M9A\n"
     ]
    },
    {
     "name": "stderr",
     "output_type": "stream",
     "text": [
      "Status code 401 from http://api.opencagedata.com/geocode/v1/json: ERROR - 401 Client Error: Unauthorized for url: http://api.opencagedata.com/geocode/v1/json?query=M9A%2C+Toronto%2C+Ontario&key=13aa077d21ae42f287ec8607e07b2159&limit=1\n"
     ]
    },
    {
     "name": "stdout",
     "output_type": "stream",
     "text": [
      "Trying for M9A\n"
     ]
    },
    {
     "name": "stderr",
     "output_type": "stream",
     "text": [
      "Status code 401 from http://api.opencagedata.com/geocode/v1/json: ERROR - 401 Client Error: Unauthorized for url: http://api.opencagedata.com/geocode/v1/json?query=M9A%2C+Toronto%2C+Ontario&key=13aa077d21ae42f287ec8607e07b2159&limit=1\n"
     ]
    },
    {
     "name": "stdout",
     "output_type": "stream",
     "text": [
      "Trying for M9A\n"
     ]
    },
    {
     "name": "stderr",
     "output_type": "stream",
     "text": [
      "Status code 401 from http://api.opencagedata.com/geocode/v1/json: ERROR - 401 Client Error: Unauthorized for url: http://api.opencagedata.com/geocode/v1/json?query=M9A%2C+Toronto%2C+Ontario&key=13aa077d21ae42f287ec8607e07b2159&limit=1\n"
     ]
    },
    {
     "name": "stdout",
     "output_type": "stream",
     "text": [
      "Trying for M9A\n"
     ]
    },
    {
     "name": "stderr",
     "output_type": "stream",
     "text": [
      "Status code 401 from http://api.opencagedata.com/geocode/v1/json: ERROR - 401 Client Error: Unauthorized for url: http://api.opencagedata.com/geocode/v1/json?query=M9A%2C+Toronto%2C+Ontario&key=13aa077d21ae42f287ec8607e07b2159&limit=1\n"
     ]
    },
    {
     "name": "stdout",
     "output_type": "stream",
     "text": [
      "Trying for M9A\n"
     ]
    },
    {
     "name": "stderr",
     "output_type": "stream",
     "text": [
      "Status code 401 from http://api.opencagedata.com/geocode/v1/json: ERROR - 401 Client Error: Unauthorized for url: http://api.opencagedata.com/geocode/v1/json?query=M9A%2C+Toronto%2C+Ontario&key=13aa077d21ae42f287ec8607e07b2159&limit=1\n"
     ]
    },
    {
     "name": "stdout",
     "output_type": "stream",
     "text": [
      "Trying for M9A\n"
     ]
    },
    {
     "name": "stderr",
     "output_type": "stream",
     "text": [
      "Status code 401 from http://api.opencagedata.com/geocode/v1/json: ERROR - 401 Client Error: Unauthorized for url: http://api.opencagedata.com/geocode/v1/json?query=M9A%2C+Toronto%2C+Ontario&key=13aa077d21ae42f287ec8607e07b2159&limit=1\n"
     ]
    },
    {
     "name": "stdout",
     "output_type": "stream",
     "text": [
      "Trying for M9A\n"
     ]
    },
    {
     "name": "stderr",
     "output_type": "stream",
     "text": [
      "Status code 401 from http://api.opencagedata.com/geocode/v1/json: ERROR - 401 Client Error: Unauthorized for url: http://api.opencagedata.com/geocode/v1/json?query=M9A%2C+Toronto%2C+Ontario&key=13aa077d21ae42f287ec8607e07b2159&limit=1\n"
     ]
    },
    {
     "name": "stdout",
     "output_type": "stream",
     "text": [
      "Trying for M9A\n"
     ]
    },
    {
     "name": "stderr",
     "output_type": "stream",
     "text": [
      "Status code 401 from http://api.opencagedata.com/geocode/v1/json: ERROR - 401 Client Error: Unauthorized for url: http://api.opencagedata.com/geocode/v1/json?query=M9A%2C+Toronto%2C+Ontario&key=13aa077d21ae42f287ec8607e07b2159&limit=1\n"
     ]
    },
    {
     "name": "stdout",
     "output_type": "stream",
     "text": [
      "Trying for M9A\n"
     ]
    },
    {
     "name": "stderr",
     "output_type": "stream",
     "text": [
      "Status code 401 from http://api.opencagedata.com/geocode/v1/json: ERROR - 401 Client Error: Unauthorized for url: http://api.opencagedata.com/geocode/v1/json?query=M9A%2C+Toronto%2C+Ontario&key=13aa077d21ae42f287ec8607e07b2159&limit=1\n"
     ]
    },
    {
     "name": "stdout",
     "output_type": "stream",
     "text": [
      "Trying for M9A\n"
     ]
    },
    {
     "name": "stderr",
     "output_type": "stream",
     "text": [
      "Status code 401 from http://api.opencagedata.com/geocode/v1/json: ERROR - 401 Client Error: Unauthorized for url: http://api.opencagedata.com/geocode/v1/json?query=M9A%2C+Toronto%2C+Ontario&key=13aa077d21ae42f287ec8607e07b2159&limit=1\n"
     ]
    },
    {
     "name": "stdout",
     "output_type": "stream",
     "text": [
      "Trying for M9A\n"
     ]
    },
    {
     "name": "stderr",
     "output_type": "stream",
     "text": [
      "Status code 401 from http://api.opencagedata.com/geocode/v1/json: ERROR - 401 Client Error: Unauthorized for url: http://api.opencagedata.com/geocode/v1/json?query=M9A%2C+Toronto%2C+Ontario&key=13aa077d21ae42f287ec8607e07b2159&limit=1\n"
     ]
    },
    {
     "name": "stdout",
     "output_type": "stream",
     "text": [
      "Trying for M9A\n"
     ]
    },
    {
     "name": "stderr",
     "output_type": "stream",
     "text": [
      "Status code 401 from http://api.opencagedata.com/geocode/v1/json: ERROR - 401 Client Error: Unauthorized for url: http://api.opencagedata.com/geocode/v1/json?query=M9A%2C+Toronto%2C+Ontario&key=13aa077d21ae42f287ec8607e07b2159&limit=1\n"
     ]
    },
    {
     "name": "stdout",
     "output_type": "stream",
     "text": [
      "Trying for M9A\n"
     ]
    },
    {
     "name": "stderr",
     "output_type": "stream",
     "text": [
      "Status code 401 from http://api.opencagedata.com/geocode/v1/json: ERROR - 401 Client Error: Unauthorized for url: http://api.opencagedata.com/geocode/v1/json?query=M9A%2C+Toronto%2C+Ontario&key=13aa077d21ae42f287ec8607e07b2159&limit=1\n"
     ]
    },
    {
     "name": "stdout",
     "output_type": "stream",
     "text": [
      "Trying for M9A\n"
     ]
    },
    {
     "name": "stderr",
     "output_type": "stream",
     "text": [
      "Status code 401 from http://api.opencagedata.com/geocode/v1/json: ERROR - 401 Client Error: Unauthorized for url: http://api.opencagedata.com/geocode/v1/json?query=M9A%2C+Toronto%2C+Ontario&key=13aa077d21ae42f287ec8607e07b2159&limit=1\n"
     ]
    },
    {
     "name": "stdout",
     "output_type": "stream",
     "text": [
      "Trying for M9A\n"
     ]
    },
    {
     "name": "stderr",
     "output_type": "stream",
     "text": [
      "Status code 401 from http://api.opencagedata.com/geocode/v1/json: ERROR - 401 Client Error: Unauthorized for url: http://api.opencagedata.com/geocode/v1/json?query=M9A%2C+Toronto%2C+Ontario&key=13aa077d21ae42f287ec8607e07b2159&limit=1\n"
     ]
    },
    {
     "name": "stdout",
     "output_type": "stream",
     "text": [
      "Trying for M9A\n"
     ]
    },
    {
     "name": "stderr",
     "output_type": "stream",
     "text": [
      "Status code 401 from http://api.opencagedata.com/geocode/v1/json: ERROR - 401 Client Error: Unauthorized for url: http://api.opencagedata.com/geocode/v1/json?query=M9A%2C+Toronto%2C+Ontario&key=13aa077d21ae42f287ec8607e07b2159&limit=1\n"
     ]
    },
    {
     "name": "stdout",
     "output_type": "stream",
     "text": [
      "Trying for M9A\n"
     ]
    },
    {
     "name": "stderr",
     "output_type": "stream",
     "text": [
      "Status code 401 from http://api.opencagedata.com/geocode/v1/json: ERROR - 401 Client Error: Unauthorized for url: http://api.opencagedata.com/geocode/v1/json?query=M9A%2C+Toronto%2C+Ontario&key=13aa077d21ae42f287ec8607e07b2159&limit=1\n"
     ]
    },
    {
     "name": "stdout",
     "output_type": "stream",
     "text": [
      "Trying for M9A\n"
     ]
    },
    {
     "name": "stderr",
     "output_type": "stream",
     "text": [
      "Status code 401 from http://api.opencagedata.com/geocode/v1/json: ERROR - 401 Client Error: Unauthorized for url: http://api.opencagedata.com/geocode/v1/json?query=M9A%2C+Toronto%2C+Ontario&key=13aa077d21ae42f287ec8607e07b2159&limit=1\n"
     ]
    },
    {
     "name": "stdout",
     "output_type": "stream",
     "text": [
      "Trying for M9A\n"
     ]
    },
    {
     "name": "stderr",
     "output_type": "stream",
     "text": [
      "Status code 401 from http://api.opencagedata.com/geocode/v1/json: ERROR - 401 Client Error: Unauthorized for url: http://api.opencagedata.com/geocode/v1/json?query=M9A%2C+Toronto%2C+Ontario&key=13aa077d21ae42f287ec8607e07b2159&limit=1\n"
     ]
    },
    {
     "name": "stdout",
     "output_type": "stream",
     "text": [
      "Trying for M9A\n"
     ]
    },
    {
     "name": "stderr",
     "output_type": "stream",
     "text": [
      "Status code 401 from http://api.opencagedata.com/geocode/v1/json: ERROR - 401 Client Error: Unauthorized for url: http://api.opencagedata.com/geocode/v1/json?query=M9A%2C+Toronto%2C+Ontario&key=13aa077d21ae42f287ec8607e07b2159&limit=1\n"
     ]
    },
    {
     "name": "stdout",
     "output_type": "stream",
     "text": [
      "Trying for M9A\n"
     ]
    },
    {
     "name": "stderr",
     "output_type": "stream",
     "text": [
      "Status code 401 from http://api.opencagedata.com/geocode/v1/json: ERROR - 401 Client Error: Unauthorized for url: http://api.opencagedata.com/geocode/v1/json?query=M9A%2C+Toronto%2C+Ontario&key=13aa077d21ae42f287ec8607e07b2159&limit=1\n"
     ]
    },
    {
     "name": "stdout",
     "output_type": "stream",
     "text": [
      "Trying for M9A\n"
     ]
    },
    {
     "name": "stderr",
     "output_type": "stream",
     "text": [
      "Status code 401 from http://api.opencagedata.com/geocode/v1/json: ERROR - 401 Client Error: Unauthorized for url: http://api.opencagedata.com/geocode/v1/json?query=M9A%2C+Toronto%2C+Ontario&key=13aa077d21ae42f287ec8607e07b2159&limit=1\n"
     ]
    },
    {
     "name": "stdout",
     "output_type": "stream",
     "text": [
      "Trying for M9A\n"
     ]
    },
    {
     "name": "stderr",
     "output_type": "stream",
     "text": [
      "Status code 401 from http://api.opencagedata.com/geocode/v1/json: ERROR - 401 Client Error: Unauthorized for url: http://api.opencagedata.com/geocode/v1/json?query=M9A%2C+Toronto%2C+Ontario&key=13aa077d21ae42f287ec8607e07b2159&limit=1\n"
     ]
    },
    {
     "name": "stdout",
     "output_type": "stream",
     "text": [
      "Trying for M9A\n"
     ]
    },
    {
     "name": "stderr",
     "output_type": "stream",
     "text": [
      "Status code 401 from http://api.opencagedata.com/geocode/v1/json: ERROR - 401 Client Error: Unauthorized for url: http://api.opencagedata.com/geocode/v1/json?query=M9A%2C+Toronto%2C+Ontario&key=13aa077d21ae42f287ec8607e07b2159&limit=1\n"
     ]
    },
    {
     "name": "stdout",
     "output_type": "stream",
     "text": [
      "Trying for M9A\n"
     ]
    },
    {
     "name": "stderr",
     "output_type": "stream",
     "text": [
      "Status code 401 from http://api.opencagedata.com/geocode/v1/json: ERROR - 401 Client Error: Unauthorized for url: http://api.opencagedata.com/geocode/v1/json?query=M9A%2C+Toronto%2C+Ontario&key=13aa077d21ae42f287ec8607e07b2159&limit=1\n"
     ]
    },
    {
     "name": "stdout",
     "output_type": "stream",
     "text": [
      "Trying for M9A\n"
     ]
    },
    {
     "name": "stderr",
     "output_type": "stream",
     "text": [
      "Status code 401 from http://api.opencagedata.com/geocode/v1/json: ERROR - 401 Client Error: Unauthorized for url: http://api.opencagedata.com/geocode/v1/json?query=M9A%2C+Toronto%2C+Ontario&key=13aa077d21ae42f287ec8607e07b2159&limit=1\n"
     ]
    },
    {
     "name": "stdout",
     "output_type": "stream",
     "text": [
      "Trying for M9A\n"
     ]
    },
    {
     "name": "stderr",
     "output_type": "stream",
     "text": [
      "Status code 401 from http://api.opencagedata.com/geocode/v1/json: ERROR - 401 Client Error: Unauthorized for url: http://api.opencagedata.com/geocode/v1/json?query=M9A%2C+Toronto%2C+Ontario&key=13aa077d21ae42f287ec8607e07b2159&limit=1\n"
     ]
    },
    {
     "name": "stdout",
     "output_type": "stream",
     "text": [
      "Trying for M9A\n"
     ]
    },
    {
     "name": "stderr",
     "output_type": "stream",
     "text": [
      "Status code 401 from http://api.opencagedata.com/geocode/v1/json: ERROR - 401 Client Error: Unauthorized for url: http://api.opencagedata.com/geocode/v1/json?query=M9A%2C+Toronto%2C+Ontario&key=13aa077d21ae42f287ec8607e07b2159&limit=1\n"
     ]
    },
    {
     "name": "stdout",
     "output_type": "stream",
     "text": [
      "Trying for M9A\n"
     ]
    },
    {
     "name": "stderr",
     "output_type": "stream",
     "text": [
      "Status code 401 from http://api.opencagedata.com/geocode/v1/json: ERROR - 401 Client Error: Unauthorized for url: http://api.opencagedata.com/geocode/v1/json?query=M9A%2C+Toronto%2C+Ontario&key=13aa077d21ae42f287ec8607e07b2159&limit=1\n"
     ]
    },
    {
     "name": "stdout",
     "output_type": "stream",
     "text": [
      "Trying for M9A\n"
     ]
    },
    {
     "name": "stderr",
     "output_type": "stream",
     "text": [
      "Status code 401 from http://api.opencagedata.com/geocode/v1/json: ERROR - 401 Client Error: Unauthorized for url: http://api.opencagedata.com/geocode/v1/json?query=M9A%2C+Toronto%2C+Ontario&key=13aa077d21ae42f287ec8607e07b2159&limit=1\n"
     ]
    },
    {
     "name": "stdout",
     "output_type": "stream",
     "text": [
      "Trying for M9A\n"
     ]
    },
    {
     "name": "stderr",
     "output_type": "stream",
     "text": [
      "Status code 401 from http://api.opencagedata.com/geocode/v1/json: ERROR - 401 Client Error: Unauthorized for url: http://api.opencagedata.com/geocode/v1/json?query=M9A%2C+Toronto%2C+Ontario&key=13aa077d21ae42f287ec8607e07b2159&limit=1\n"
     ]
    },
    {
     "name": "stdout",
     "output_type": "stream",
     "text": [
      "Trying for M9A\n"
     ]
    },
    {
     "name": "stderr",
     "output_type": "stream",
     "text": [
      "Status code 401 from http://api.opencagedata.com/geocode/v1/json: ERROR - 401 Client Error: Unauthorized for url: http://api.opencagedata.com/geocode/v1/json?query=M9A%2C+Toronto%2C+Ontario&key=13aa077d21ae42f287ec8607e07b2159&limit=1\n"
     ]
    },
    {
     "name": "stdout",
     "output_type": "stream",
     "text": [
      "Trying for M9A\n"
     ]
    },
    {
     "name": "stderr",
     "output_type": "stream",
     "text": [
      "Status code 401 from http://api.opencagedata.com/geocode/v1/json: ERROR - 401 Client Error: Unauthorized for url: http://api.opencagedata.com/geocode/v1/json?query=M9A%2C+Toronto%2C+Ontario&key=13aa077d21ae42f287ec8607e07b2159&limit=1\n"
     ]
    },
    {
     "name": "stdout",
     "output_type": "stream",
     "text": [
      "Trying for M9A\n"
     ]
    },
    {
     "name": "stderr",
     "output_type": "stream",
     "text": [
      "Status code 401 from http://api.opencagedata.com/geocode/v1/json: ERROR - 401 Client Error: Unauthorized for url: http://api.opencagedata.com/geocode/v1/json?query=M9A%2C+Toronto%2C+Ontario&key=13aa077d21ae42f287ec8607e07b2159&limit=1\n"
     ]
    },
    {
     "name": "stdout",
     "output_type": "stream",
     "text": [
      "Trying for M9A\n"
     ]
    },
    {
     "name": "stderr",
     "output_type": "stream",
     "text": [
      "Status code 401 from http://api.opencagedata.com/geocode/v1/json: ERROR - 401 Client Error: Unauthorized for url: http://api.opencagedata.com/geocode/v1/json?query=M9A%2C+Toronto%2C+Ontario&key=13aa077d21ae42f287ec8607e07b2159&limit=1\n"
     ]
    },
    {
     "name": "stdout",
     "output_type": "stream",
     "text": [
      "Trying for M9A\n"
     ]
    },
    {
     "name": "stderr",
     "output_type": "stream",
     "text": [
      "Status code 401 from http://api.opencagedata.com/geocode/v1/json: ERROR - 401 Client Error: Unauthorized for url: http://api.opencagedata.com/geocode/v1/json?query=M9A%2C+Toronto%2C+Ontario&key=13aa077d21ae42f287ec8607e07b2159&limit=1\n"
     ]
    },
    {
     "name": "stdout",
     "output_type": "stream",
     "text": [
      "Trying for M9A\n"
     ]
    },
    {
     "name": "stderr",
     "output_type": "stream",
     "text": [
      "Status code 401 from http://api.opencagedata.com/geocode/v1/json: ERROR - 401 Client Error: Unauthorized for url: http://api.opencagedata.com/geocode/v1/json?query=M9A%2C+Toronto%2C+Ontario&key=13aa077d21ae42f287ec8607e07b2159&limit=1\n"
     ]
    },
    {
     "name": "stdout",
     "output_type": "stream",
     "text": [
      "Trying for M9A\n"
     ]
    },
    {
     "name": "stderr",
     "output_type": "stream",
     "text": [
      "Status code 401 from http://api.opencagedata.com/geocode/v1/json: ERROR - 401 Client Error: Unauthorized for url: http://api.opencagedata.com/geocode/v1/json?query=M9A%2C+Toronto%2C+Ontario&key=13aa077d21ae42f287ec8607e07b2159&limit=1\n"
     ]
    },
    {
     "name": "stdout",
     "output_type": "stream",
     "text": [
      "Trying for M9A\n"
     ]
    },
    {
     "name": "stderr",
     "output_type": "stream",
     "text": [
      "Status code 401 from http://api.opencagedata.com/geocode/v1/json: ERROR - 401 Client Error: Unauthorized for url: http://api.opencagedata.com/geocode/v1/json?query=M9A%2C+Toronto%2C+Ontario&key=13aa077d21ae42f287ec8607e07b2159&limit=1\n"
     ]
    },
    {
     "name": "stdout",
     "output_type": "stream",
     "text": [
      "Trying for M9A\n"
     ]
    },
    {
     "name": "stderr",
     "output_type": "stream",
     "text": [
      "Status code 401 from http://api.opencagedata.com/geocode/v1/json: ERROR - 401 Client Error: Unauthorized for url: http://api.opencagedata.com/geocode/v1/json?query=M9A%2C+Toronto%2C+Ontario&key=13aa077d21ae42f287ec8607e07b2159&limit=1\n"
     ]
    },
    {
     "name": "stdout",
     "output_type": "stream",
     "text": [
      "Trying for M9A\n"
     ]
    },
    {
     "name": "stderr",
     "output_type": "stream",
     "text": [
      "Status code 401 from http://api.opencagedata.com/geocode/v1/json: ERROR - 401 Client Error: Unauthorized for url: http://api.opencagedata.com/geocode/v1/json?query=M9A%2C+Toronto%2C+Ontario&key=13aa077d21ae42f287ec8607e07b2159&limit=1\n"
     ]
    },
    {
     "name": "stdout",
     "output_type": "stream",
     "text": [
      "Trying for M9A\n"
     ]
    },
    {
     "name": "stderr",
     "output_type": "stream",
     "text": [
      "Status code 401 from http://api.opencagedata.com/geocode/v1/json: ERROR - 401 Client Error: Unauthorized for url: http://api.opencagedata.com/geocode/v1/json?query=M9A%2C+Toronto%2C+Ontario&key=13aa077d21ae42f287ec8607e07b2159&limit=1\n"
     ]
    },
    {
     "name": "stdout",
     "output_type": "stream",
     "text": [
      "Trying for M9A\n"
     ]
    },
    {
     "name": "stderr",
     "output_type": "stream",
     "text": [
      "Status code 401 from http://api.opencagedata.com/geocode/v1/json: ERROR - 401 Client Error: Unauthorized for url: http://api.opencagedata.com/geocode/v1/json?query=M9A%2C+Toronto%2C+Ontario&key=13aa077d21ae42f287ec8607e07b2159&limit=1\n"
     ]
    },
    {
     "name": "stdout",
     "output_type": "stream",
     "text": [
      "Trying for M9A\n"
     ]
    },
    {
     "name": "stderr",
     "output_type": "stream",
     "text": [
      "Status code 401 from http://api.opencagedata.com/geocode/v1/json: ERROR - 401 Client Error: Unauthorized for url: http://api.opencagedata.com/geocode/v1/json?query=M9A%2C+Toronto%2C+Ontario&key=13aa077d21ae42f287ec8607e07b2159&limit=1\n"
     ]
    },
    {
     "name": "stdout",
     "output_type": "stream",
     "text": [
      "Trying for M9A\n"
     ]
    },
    {
     "name": "stderr",
     "output_type": "stream",
     "text": [
      "Status code 401 from http://api.opencagedata.com/geocode/v1/json: ERROR - 401 Client Error: Unauthorized for url: http://api.opencagedata.com/geocode/v1/json?query=M9A%2C+Toronto%2C+Ontario&key=13aa077d21ae42f287ec8607e07b2159&limit=1\n"
     ]
    },
    {
     "name": "stdout",
     "output_type": "stream",
     "text": [
      "Trying for M9A\n"
     ]
    },
    {
     "name": "stderr",
     "output_type": "stream",
     "text": [
      "Status code 401 from http://api.opencagedata.com/geocode/v1/json: ERROR - 401 Client Error: Unauthorized for url: http://api.opencagedata.com/geocode/v1/json?query=M9A%2C+Toronto%2C+Ontario&key=13aa077d21ae42f287ec8607e07b2159&limit=1\n"
     ]
    },
    {
     "name": "stdout",
     "output_type": "stream",
     "text": [
      "Trying for M9A\n"
     ]
    },
    {
     "name": "stderr",
     "output_type": "stream",
     "text": [
      "Status code 401 from http://api.opencagedata.com/geocode/v1/json: ERROR - 401 Client Error: Unauthorized for url: http://api.opencagedata.com/geocode/v1/json?query=M9A%2C+Toronto%2C+Ontario&key=13aa077d21ae42f287ec8607e07b2159&limit=1\n"
     ]
    },
    {
     "name": "stdout",
     "output_type": "stream",
     "text": [
      "Trying for M9A\n"
     ]
    },
    {
     "name": "stderr",
     "output_type": "stream",
     "text": [
      "Status code 401 from http://api.opencagedata.com/geocode/v1/json: ERROR - 401 Client Error: Unauthorized for url: http://api.opencagedata.com/geocode/v1/json?query=M9A%2C+Toronto%2C+Ontario&key=13aa077d21ae42f287ec8607e07b2159&limit=1\n"
     ]
    },
    {
     "name": "stdout",
     "output_type": "stream",
     "text": [
      "Trying for M9A\n"
     ]
    },
    {
     "name": "stderr",
     "output_type": "stream",
     "text": [
      "Status code 401 from http://api.opencagedata.com/geocode/v1/json: ERROR - 401 Client Error: Unauthorized for url: http://api.opencagedata.com/geocode/v1/json?query=M9A%2C+Toronto%2C+Ontario&key=13aa077d21ae42f287ec8607e07b2159&limit=1\n"
     ]
    },
    {
     "name": "stdout",
     "output_type": "stream",
     "text": [
      "Trying for M9A\n"
     ]
    },
    {
     "name": "stderr",
     "output_type": "stream",
     "text": [
      "Status code 401 from http://api.opencagedata.com/geocode/v1/json: ERROR - 401 Client Error: Unauthorized for url: http://api.opencagedata.com/geocode/v1/json?query=M9A%2C+Toronto%2C+Ontario&key=13aa077d21ae42f287ec8607e07b2159&limit=1\n"
     ]
    },
    {
     "name": "stdout",
     "output_type": "stream",
     "text": [
      "Trying for M9A\n"
     ]
    },
    {
     "name": "stderr",
     "output_type": "stream",
     "text": [
      "Status code 401 from http://api.opencagedata.com/geocode/v1/json: ERROR - 401 Client Error: Unauthorized for url: http://api.opencagedata.com/geocode/v1/json?query=M9A%2C+Toronto%2C+Ontario&key=13aa077d21ae42f287ec8607e07b2159&limit=1\n"
     ]
    },
    {
     "name": "stdout",
     "output_type": "stream",
     "text": [
      "Trying for M9A\n"
     ]
    },
    {
     "name": "stderr",
     "output_type": "stream",
     "text": [
      "Status code 401 from http://api.opencagedata.com/geocode/v1/json: ERROR - 401 Client Error: Unauthorized for url: http://api.opencagedata.com/geocode/v1/json?query=M9A%2C+Toronto%2C+Ontario&key=13aa077d21ae42f287ec8607e07b2159&limit=1\n"
     ]
    },
    {
     "name": "stdout",
     "output_type": "stream",
     "text": [
      "Trying for M9A\n"
     ]
    },
    {
     "name": "stderr",
     "output_type": "stream",
     "text": [
      "Status code 401 from http://api.opencagedata.com/geocode/v1/json: ERROR - 401 Client Error: Unauthorized for url: http://api.opencagedata.com/geocode/v1/json?query=M9A%2C+Toronto%2C+Ontario&key=13aa077d21ae42f287ec8607e07b2159&limit=1\n"
     ]
    },
    {
     "name": "stdout",
     "output_type": "stream",
     "text": [
      "Trying for M9A\n"
     ]
    },
    {
     "name": "stderr",
     "output_type": "stream",
     "text": [
      "Status code 401 from http://api.opencagedata.com/geocode/v1/json: ERROR - 401 Client Error: Unauthorized for url: http://api.opencagedata.com/geocode/v1/json?query=M9A%2C+Toronto%2C+Ontario&key=13aa077d21ae42f287ec8607e07b2159&limit=1\n"
     ]
    },
    {
     "name": "stdout",
     "output_type": "stream",
     "text": [
      "Trying for M9A\n"
     ]
    },
    {
     "name": "stderr",
     "output_type": "stream",
     "text": [
      "Status code 401 from http://api.opencagedata.com/geocode/v1/json: ERROR - 401 Client Error: Unauthorized for url: http://api.opencagedata.com/geocode/v1/json?query=M9A%2C+Toronto%2C+Ontario&key=13aa077d21ae42f287ec8607e07b2159&limit=1\n"
     ]
    },
    {
     "name": "stdout",
     "output_type": "stream",
     "text": [
      "Trying for M9A\n"
     ]
    },
    {
     "name": "stderr",
     "output_type": "stream",
     "text": [
      "Status code 401 from http://api.opencagedata.com/geocode/v1/json: ERROR - 401 Client Error: Unauthorized for url: http://api.opencagedata.com/geocode/v1/json?query=M9A%2C+Toronto%2C+Ontario&key=13aa077d21ae42f287ec8607e07b2159&limit=1\n"
     ]
    },
    {
     "name": "stdout",
     "output_type": "stream",
     "text": [
      "Trying for M9A\n"
     ]
    },
    {
     "name": "stderr",
     "output_type": "stream",
     "text": [
      "Status code 401 from http://api.opencagedata.com/geocode/v1/json: ERROR - 401 Client Error: Unauthorized for url: http://api.opencagedata.com/geocode/v1/json?query=M9A%2C+Toronto%2C+Ontario&key=13aa077d21ae42f287ec8607e07b2159&limit=1\n"
     ]
    },
    {
     "name": "stdout",
     "output_type": "stream",
     "text": [
      "Trying for M9A\n"
     ]
    },
    {
     "name": "stderr",
     "output_type": "stream",
     "text": [
      "Status code 401 from http://api.opencagedata.com/geocode/v1/json: ERROR - 401 Client Error: Unauthorized for url: http://api.opencagedata.com/geocode/v1/json?query=M9A%2C+Toronto%2C+Ontario&key=13aa077d21ae42f287ec8607e07b2159&limit=1\n"
     ]
    },
    {
     "name": "stdout",
     "output_type": "stream",
     "text": [
      "Trying for M9A\n"
     ]
    },
    {
     "name": "stderr",
     "output_type": "stream",
     "text": [
      "Status code 401 from http://api.opencagedata.com/geocode/v1/json: ERROR - 401 Client Error: Unauthorized for url: http://api.opencagedata.com/geocode/v1/json?query=M9A%2C+Toronto%2C+Ontario&key=13aa077d21ae42f287ec8607e07b2159&limit=1\n"
     ]
    },
    {
     "name": "stdout",
     "output_type": "stream",
     "text": [
      "Trying for M9A\n"
     ]
    },
    {
     "name": "stderr",
     "output_type": "stream",
     "text": [
      "Status code 401 from http://api.opencagedata.com/geocode/v1/json: ERROR - 401 Client Error: Unauthorized for url: http://api.opencagedata.com/geocode/v1/json?query=M9A%2C+Toronto%2C+Ontario&key=13aa077d21ae42f287ec8607e07b2159&limit=1\n"
     ]
    },
    {
     "name": "stdout",
     "output_type": "stream",
     "text": [
      "Trying for M9A\n"
     ]
    },
    {
     "name": "stderr",
     "output_type": "stream",
     "text": [
      "Status code 401 from http://api.opencagedata.com/geocode/v1/json: ERROR - 401 Client Error: Unauthorized for url: http://api.opencagedata.com/geocode/v1/json?query=M9A%2C+Toronto%2C+Ontario&key=13aa077d21ae42f287ec8607e07b2159&limit=1\n"
     ]
    },
    {
     "name": "stdout",
     "output_type": "stream",
     "text": [
      "Trying for M9A\n"
     ]
    },
    {
     "name": "stderr",
     "output_type": "stream",
     "text": [
      "Status code 401 from http://api.opencagedata.com/geocode/v1/json: ERROR - 401 Client Error: Unauthorized for url: http://api.opencagedata.com/geocode/v1/json?query=M9A%2C+Toronto%2C+Ontario&key=13aa077d21ae42f287ec8607e07b2159&limit=1\n"
     ]
    },
    {
     "name": "stdout",
     "output_type": "stream",
     "text": [
      "Trying for M9A\n"
     ]
    },
    {
     "name": "stderr",
     "output_type": "stream",
     "text": [
      "Status code 401 from http://api.opencagedata.com/geocode/v1/json: ERROR - 401 Client Error: Unauthorized for url: http://api.opencagedata.com/geocode/v1/json?query=M9A%2C+Toronto%2C+Ontario&key=13aa077d21ae42f287ec8607e07b2159&limit=1\n"
     ]
    },
    {
     "name": "stdout",
     "output_type": "stream",
     "text": [
      "Trying for M9A\n"
     ]
    },
    {
     "name": "stderr",
     "output_type": "stream",
     "text": [
      "Status code 401 from http://api.opencagedata.com/geocode/v1/json: ERROR - 401 Client Error: Unauthorized for url: http://api.opencagedata.com/geocode/v1/json?query=M9A%2C+Toronto%2C+Ontario&key=13aa077d21ae42f287ec8607e07b2159&limit=1\n"
     ]
    },
    {
     "name": "stdout",
     "output_type": "stream",
     "text": [
      "Trying for M9A\n"
     ]
    },
    {
     "name": "stderr",
     "output_type": "stream",
     "text": [
      "Status code 401 from http://api.opencagedata.com/geocode/v1/json: ERROR - 401 Client Error: Unauthorized for url: http://api.opencagedata.com/geocode/v1/json?query=M9A%2C+Toronto%2C+Ontario&key=13aa077d21ae42f287ec8607e07b2159&limit=1\n"
     ]
    },
    {
     "name": "stdout",
     "output_type": "stream",
     "text": [
      "Trying for M9A\n"
     ]
    },
    {
     "name": "stderr",
     "output_type": "stream",
     "text": [
      "Status code 401 from http://api.opencagedata.com/geocode/v1/json: ERROR - 401 Client Error: Unauthorized for url: http://api.opencagedata.com/geocode/v1/json?query=M9A%2C+Toronto%2C+Ontario&key=13aa077d21ae42f287ec8607e07b2159&limit=1\n"
     ]
    },
    {
     "name": "stdout",
     "output_type": "stream",
     "text": [
      "Trying for M9A\n"
     ]
    },
    {
     "name": "stderr",
     "output_type": "stream",
     "text": [
      "Status code 401 from http://api.opencagedata.com/geocode/v1/json: ERROR - 401 Client Error: Unauthorized for url: http://api.opencagedata.com/geocode/v1/json?query=M9A%2C+Toronto%2C+Ontario&key=13aa077d21ae42f287ec8607e07b2159&limit=1\n"
     ]
    },
    {
     "name": "stdout",
     "output_type": "stream",
     "text": [
      "Trying for M9A\n"
     ]
    },
    {
     "name": "stderr",
     "output_type": "stream",
     "text": [
      "Status code 401 from http://api.opencagedata.com/geocode/v1/json: ERROR - 401 Client Error: Unauthorized for url: http://api.opencagedata.com/geocode/v1/json?query=M9A%2C+Toronto%2C+Ontario&key=13aa077d21ae42f287ec8607e07b2159&limit=1\n"
     ]
    },
    {
     "name": "stdout",
     "output_type": "stream",
     "text": [
      "Trying for M9A\n"
     ]
    },
    {
     "name": "stderr",
     "output_type": "stream",
     "text": [
      "Status code 401 from http://api.opencagedata.com/geocode/v1/json: ERROR - 401 Client Error: Unauthorized for url: http://api.opencagedata.com/geocode/v1/json?query=M9A%2C+Toronto%2C+Ontario&key=13aa077d21ae42f287ec8607e07b2159&limit=1\n"
     ]
    },
    {
     "name": "stdout",
     "output_type": "stream",
     "text": [
      "Trying for M9A\n"
     ]
    },
    {
     "name": "stderr",
     "output_type": "stream",
     "text": [
      "Status code 401 from http://api.opencagedata.com/geocode/v1/json: ERROR - 401 Client Error: Unauthorized for url: http://api.opencagedata.com/geocode/v1/json?query=M9A%2C+Toronto%2C+Ontario&key=13aa077d21ae42f287ec8607e07b2159&limit=1\n"
     ]
    },
    {
     "name": "stdout",
     "output_type": "stream",
     "text": [
      "Trying for M9A\n"
     ]
    },
    {
     "name": "stderr",
     "output_type": "stream",
     "text": [
      "Status code 401 from http://api.opencagedata.com/geocode/v1/json: ERROR - 401 Client Error: Unauthorized for url: http://api.opencagedata.com/geocode/v1/json?query=M9A%2C+Toronto%2C+Ontario&key=13aa077d21ae42f287ec8607e07b2159&limit=1\n"
     ]
    },
    {
     "name": "stdout",
     "output_type": "stream",
     "text": [
      "Trying for M9A\n"
     ]
    },
    {
     "name": "stderr",
     "output_type": "stream",
     "text": [
      "Status code 401 from http://api.opencagedata.com/geocode/v1/json: ERROR - 401 Client Error: Unauthorized for url: http://api.opencagedata.com/geocode/v1/json?query=M9A%2C+Toronto%2C+Ontario&key=13aa077d21ae42f287ec8607e07b2159&limit=1\n"
     ]
    },
    {
     "name": "stdout",
     "output_type": "stream",
     "text": [
      "Trying for M9A\n"
     ]
    },
    {
     "name": "stderr",
     "output_type": "stream",
     "text": [
      "Status code 401 from http://api.opencagedata.com/geocode/v1/json: ERROR - 401 Client Error: Unauthorized for url: http://api.opencagedata.com/geocode/v1/json?query=M9A%2C+Toronto%2C+Ontario&key=13aa077d21ae42f287ec8607e07b2159&limit=1\n"
     ]
    },
    {
     "name": "stdout",
     "output_type": "stream",
     "text": [
      "Trying for M9A\n"
     ]
    },
    {
     "name": "stderr",
     "output_type": "stream",
     "text": [
      "Status code 401 from http://api.opencagedata.com/geocode/v1/json: ERROR - 401 Client Error: Unauthorized for url: http://api.opencagedata.com/geocode/v1/json?query=M9A%2C+Toronto%2C+Ontario&key=13aa077d21ae42f287ec8607e07b2159&limit=1\n"
     ]
    },
    {
     "name": "stdout",
     "output_type": "stream",
     "text": [
      "Trying for M9A\n"
     ]
    },
    {
     "name": "stderr",
     "output_type": "stream",
     "text": [
      "Status code 401 from http://api.opencagedata.com/geocode/v1/json: ERROR - 401 Client Error: Unauthorized for url: http://api.opencagedata.com/geocode/v1/json?query=M9A%2C+Toronto%2C+Ontario&key=13aa077d21ae42f287ec8607e07b2159&limit=1\n"
     ]
    },
    {
     "name": "stdout",
     "output_type": "stream",
     "text": [
      "Trying for M9A\n"
     ]
    },
    {
     "name": "stderr",
     "output_type": "stream",
     "text": [
      "Status code 401 from http://api.opencagedata.com/geocode/v1/json: ERROR - 401 Client Error: Unauthorized for url: http://api.opencagedata.com/geocode/v1/json?query=M9A%2C+Toronto%2C+Ontario&key=13aa077d21ae42f287ec8607e07b2159&limit=1\n"
     ]
    },
    {
     "name": "stdout",
     "output_type": "stream",
     "text": [
      "Trying for M9A\n"
     ]
    },
    {
     "name": "stderr",
     "output_type": "stream",
     "text": [
      "Status code 401 from http://api.opencagedata.com/geocode/v1/json: ERROR - 401 Client Error: Unauthorized for url: http://api.opencagedata.com/geocode/v1/json?query=M9A%2C+Toronto%2C+Ontario&key=13aa077d21ae42f287ec8607e07b2159&limit=1\n"
     ]
    },
    {
     "name": "stdout",
     "output_type": "stream",
     "text": [
      "Trying for M9A\n"
     ]
    },
    {
     "name": "stderr",
     "output_type": "stream",
     "text": [
      "Status code 401 from http://api.opencagedata.com/geocode/v1/json: ERROR - 401 Client Error: Unauthorized for url: http://api.opencagedata.com/geocode/v1/json?query=M9A%2C+Toronto%2C+Ontario&key=13aa077d21ae42f287ec8607e07b2159&limit=1\n"
     ]
    },
    {
     "name": "stdout",
     "output_type": "stream",
     "text": [
      "Trying for M9A\n"
     ]
    },
    {
     "name": "stderr",
     "output_type": "stream",
     "text": [
      "Status code 401 from http://api.opencagedata.com/geocode/v1/json: ERROR - 401 Client Error: Unauthorized for url: http://api.opencagedata.com/geocode/v1/json?query=M9A%2C+Toronto%2C+Ontario&key=13aa077d21ae42f287ec8607e07b2159&limit=1\n"
     ]
    },
    {
     "name": "stdout",
     "output_type": "stream",
     "text": [
      "Trying for M9A\n"
     ]
    },
    {
     "name": "stderr",
     "output_type": "stream",
     "text": [
      "Status code 401 from http://api.opencagedata.com/geocode/v1/json: ERROR - 401 Client Error: Unauthorized for url: http://api.opencagedata.com/geocode/v1/json?query=M9A%2C+Toronto%2C+Ontario&key=13aa077d21ae42f287ec8607e07b2159&limit=1\n"
     ]
    },
    {
     "name": "stdout",
     "output_type": "stream",
     "text": [
      "Trying for M9A\n"
     ]
    },
    {
     "name": "stderr",
     "output_type": "stream",
     "text": [
      "Status code 401 from http://api.opencagedata.com/geocode/v1/json: ERROR - 401 Client Error: Unauthorized for url: http://api.opencagedata.com/geocode/v1/json?query=M9A%2C+Toronto%2C+Ontario&key=13aa077d21ae42f287ec8607e07b2159&limit=1\n"
     ]
    },
    {
     "name": "stdout",
     "output_type": "stream",
     "text": [
      "Trying for M9A\n"
     ]
    },
    {
     "name": "stderr",
     "output_type": "stream",
     "text": [
      "Status code 401 from http://api.opencagedata.com/geocode/v1/json: ERROR - 401 Client Error: Unauthorized for url: http://api.opencagedata.com/geocode/v1/json?query=M9A%2C+Toronto%2C+Ontario&key=13aa077d21ae42f287ec8607e07b2159&limit=1\n"
     ]
    },
    {
     "name": "stdout",
     "output_type": "stream",
     "text": [
      "Trying for M9A\n"
     ]
    },
    {
     "name": "stderr",
     "output_type": "stream",
     "text": [
      "Status code 401 from http://api.opencagedata.com/geocode/v1/json: ERROR - 401 Client Error: Unauthorized for url: http://api.opencagedata.com/geocode/v1/json?query=M9A%2C+Toronto%2C+Ontario&key=13aa077d21ae42f287ec8607e07b2159&limit=1\n"
     ]
    },
    {
     "name": "stdout",
     "output_type": "stream",
     "text": [
      "Trying for M9A\n"
     ]
    },
    {
     "name": "stderr",
     "output_type": "stream",
     "text": [
      "Status code 401 from http://api.opencagedata.com/geocode/v1/json: ERROR - 401 Client Error: Unauthorized for url: http://api.opencagedata.com/geocode/v1/json?query=M9A%2C+Toronto%2C+Ontario&key=13aa077d21ae42f287ec8607e07b2159&limit=1\n"
     ]
    },
    {
     "name": "stdout",
     "output_type": "stream",
     "text": [
      "Trying for M9A\n"
     ]
    },
    {
     "name": "stderr",
     "output_type": "stream",
     "text": [
      "Status code 401 from http://api.opencagedata.com/geocode/v1/json: ERROR - 401 Client Error: Unauthorized for url: http://api.opencagedata.com/geocode/v1/json?query=M9A%2C+Toronto%2C+Ontario&key=13aa077d21ae42f287ec8607e07b2159&limit=1\n"
     ]
    },
    {
     "name": "stdout",
     "output_type": "stream",
     "text": [
      "Trying for M9A\n"
     ]
    },
    {
     "name": "stderr",
     "output_type": "stream",
     "text": [
      "Status code 401 from http://api.opencagedata.com/geocode/v1/json: ERROR - 401 Client Error: Unauthorized for url: http://api.opencagedata.com/geocode/v1/json?query=M9A%2C+Toronto%2C+Ontario&key=13aa077d21ae42f287ec8607e07b2159&limit=1\n"
     ]
    },
    {
     "name": "stdout",
     "output_type": "stream",
     "text": [
      "Trying for M9A\n"
     ]
    },
    {
     "name": "stderr",
     "output_type": "stream",
     "text": [
      "Status code 401 from http://api.opencagedata.com/geocode/v1/json: ERROR - 401 Client Error: Unauthorized for url: http://api.opencagedata.com/geocode/v1/json?query=M9A%2C+Toronto%2C+Ontario&key=13aa077d21ae42f287ec8607e07b2159&limit=1\n"
     ]
    },
    {
     "name": "stdout",
     "output_type": "stream",
     "text": [
      "Trying for M9A\n"
     ]
    },
    {
     "name": "stderr",
     "output_type": "stream",
     "text": [
      "Status code 401 from http://api.opencagedata.com/geocode/v1/json: ERROR - 401 Client Error: Unauthorized for url: http://api.opencagedata.com/geocode/v1/json?query=M9A%2C+Toronto%2C+Ontario&key=13aa077d21ae42f287ec8607e07b2159&limit=1\n"
     ]
    },
    {
     "name": "stdout",
     "output_type": "stream",
     "text": [
      "Trying for M9A\n"
     ]
    },
    {
     "name": "stderr",
     "output_type": "stream",
     "text": [
      "Status code 401 from http://api.opencagedata.com/geocode/v1/json: ERROR - 401 Client Error: Unauthorized for url: http://api.opencagedata.com/geocode/v1/json?query=M9A%2C+Toronto%2C+Ontario&key=13aa077d21ae42f287ec8607e07b2159&limit=1\n"
     ]
    },
    {
     "name": "stdout",
     "output_type": "stream",
     "text": [
      "Trying for M9A\n"
     ]
    },
    {
     "name": "stderr",
     "output_type": "stream",
     "text": [
      "Status code 401 from http://api.opencagedata.com/geocode/v1/json: ERROR - 401 Client Error: Unauthorized for url: http://api.opencagedata.com/geocode/v1/json?query=M9A%2C+Toronto%2C+Ontario&key=13aa077d21ae42f287ec8607e07b2159&limit=1\n"
     ]
    },
    {
     "name": "stdout",
     "output_type": "stream",
     "text": [
      "Trying for M9A\n"
     ]
    },
    {
     "name": "stderr",
     "output_type": "stream",
     "text": [
      "Status code 401 from http://api.opencagedata.com/geocode/v1/json: ERROR - 401 Client Error: Unauthorized for url: http://api.opencagedata.com/geocode/v1/json?query=M9A%2C+Toronto%2C+Ontario&key=13aa077d21ae42f287ec8607e07b2159&limit=1\n"
     ]
    },
    {
     "name": "stdout",
     "output_type": "stream",
     "text": [
      "Trying for M9A\n"
     ]
    },
    {
     "name": "stderr",
     "output_type": "stream",
     "text": [
      "Status code 401 from http://api.opencagedata.com/geocode/v1/json: ERROR - 401 Client Error: Unauthorized for url: http://api.opencagedata.com/geocode/v1/json?query=M9A%2C+Toronto%2C+Ontario&key=13aa077d21ae42f287ec8607e07b2159&limit=1\n"
     ]
    },
    {
     "name": "stdout",
     "output_type": "stream",
     "text": [
      "Trying for M9A\n"
     ]
    },
    {
     "name": "stderr",
     "output_type": "stream",
     "text": [
      "Status code 401 from http://api.opencagedata.com/geocode/v1/json: ERROR - 401 Client Error: Unauthorized for url: http://api.opencagedata.com/geocode/v1/json?query=M9A%2C+Toronto%2C+Ontario&key=13aa077d21ae42f287ec8607e07b2159&limit=1\n"
     ]
    },
    {
     "name": "stdout",
     "output_type": "stream",
     "text": [
      "Trying for M9A\n"
     ]
    },
    {
     "name": "stderr",
     "output_type": "stream",
     "text": [
      "Status code 401 from http://api.opencagedata.com/geocode/v1/json: ERROR - 401 Client Error: Unauthorized for url: http://api.opencagedata.com/geocode/v1/json?query=M9A%2C+Toronto%2C+Ontario&key=13aa077d21ae42f287ec8607e07b2159&limit=1\n"
     ]
    },
    {
     "name": "stdout",
     "output_type": "stream",
     "text": [
      "Trying for M9A\n"
     ]
    },
    {
     "name": "stderr",
     "output_type": "stream",
     "text": [
      "Status code 401 from http://api.opencagedata.com/geocode/v1/json: ERROR - 401 Client Error: Unauthorized for url: http://api.opencagedata.com/geocode/v1/json?query=M9A%2C+Toronto%2C+Ontario&key=13aa077d21ae42f287ec8607e07b2159&limit=1\n"
     ]
    },
    {
     "name": "stdout",
     "output_type": "stream",
     "text": [
      "Trying for M9A\n"
     ]
    },
    {
     "name": "stderr",
     "output_type": "stream",
     "text": [
      "Status code 401 from http://api.opencagedata.com/geocode/v1/json: ERROR - 401 Client Error: Unauthorized for url: http://api.opencagedata.com/geocode/v1/json?query=M9A%2C+Toronto%2C+Ontario&key=13aa077d21ae42f287ec8607e07b2159&limit=1\n"
     ]
    },
    {
     "name": "stdout",
     "output_type": "stream",
     "text": [
      "Trying for M9A\n"
     ]
    },
    {
     "name": "stderr",
     "output_type": "stream",
     "text": [
      "Status code 401 from http://api.opencagedata.com/geocode/v1/json: ERROR - 401 Client Error: Unauthorized for url: http://api.opencagedata.com/geocode/v1/json?query=M9A%2C+Toronto%2C+Ontario&key=13aa077d21ae42f287ec8607e07b2159&limit=1\n"
     ]
    },
    {
     "name": "stdout",
     "output_type": "stream",
     "text": [
      "Trying for M9A\n"
     ]
    },
    {
     "name": "stderr",
     "output_type": "stream",
     "text": [
      "Status code 401 from http://api.opencagedata.com/geocode/v1/json: ERROR - 401 Client Error: Unauthorized for url: http://api.opencagedata.com/geocode/v1/json?query=M9A%2C+Toronto%2C+Ontario&key=13aa077d21ae42f287ec8607e07b2159&limit=1\n"
     ]
    },
    {
     "name": "stdout",
     "output_type": "stream",
     "text": [
      "Trying for M9A\n"
     ]
    },
    {
     "name": "stderr",
     "output_type": "stream",
     "text": [
      "Status code 401 from http://api.opencagedata.com/geocode/v1/json: ERROR - 401 Client Error: Unauthorized for url: http://api.opencagedata.com/geocode/v1/json?query=M9A%2C+Toronto%2C+Ontario&key=13aa077d21ae42f287ec8607e07b2159&limit=1\n"
     ]
    },
    {
     "name": "stdout",
     "output_type": "stream",
     "text": [
      "Trying for M9A\n"
     ]
    },
    {
     "name": "stderr",
     "output_type": "stream",
     "text": [
      "Status code 401 from http://api.opencagedata.com/geocode/v1/json: ERROR - 401 Client Error: Unauthorized for url: http://api.opencagedata.com/geocode/v1/json?query=M9A%2C+Toronto%2C+Ontario&key=13aa077d21ae42f287ec8607e07b2159&limit=1\n"
     ]
    },
    {
     "name": "stdout",
     "output_type": "stream",
     "text": [
      "Trying for M9A\n"
     ]
    },
    {
     "name": "stderr",
     "output_type": "stream",
     "text": [
      "Status code 401 from http://api.opencagedata.com/geocode/v1/json: ERROR - 401 Client Error: Unauthorized for url: http://api.opencagedata.com/geocode/v1/json?query=M9A%2C+Toronto%2C+Ontario&key=13aa077d21ae42f287ec8607e07b2159&limit=1\n"
     ]
    },
    {
     "name": "stdout",
     "output_type": "stream",
     "text": [
      "Trying for M9A\n"
     ]
    },
    {
     "name": "stderr",
     "output_type": "stream",
     "text": [
      "Status code 401 from http://api.opencagedata.com/geocode/v1/json: ERROR - 401 Client Error: Unauthorized for url: http://api.opencagedata.com/geocode/v1/json?query=M9A%2C+Toronto%2C+Ontario&key=13aa077d21ae42f287ec8607e07b2159&limit=1\n"
     ]
    },
    {
     "name": "stdout",
     "output_type": "stream",
     "text": [
      "Trying for M9A\n"
     ]
    },
    {
     "name": "stderr",
     "output_type": "stream",
     "text": [
      "Status code 401 from http://api.opencagedata.com/geocode/v1/json: ERROR - 401 Client Error: Unauthorized for url: http://api.opencagedata.com/geocode/v1/json?query=M9A%2C+Toronto%2C+Ontario&key=13aa077d21ae42f287ec8607e07b2159&limit=1\n"
     ]
    },
    {
     "name": "stdout",
     "output_type": "stream",
     "text": [
      "Trying for M9A\n"
     ]
    },
    {
     "name": "stderr",
     "output_type": "stream",
     "text": [
      "Status code 401 from http://api.opencagedata.com/geocode/v1/json: ERROR - 401 Client Error: Unauthorized for url: http://api.opencagedata.com/geocode/v1/json?query=M9A%2C+Toronto%2C+Ontario&key=13aa077d21ae42f287ec8607e07b2159&limit=1\n"
     ]
    },
    {
     "name": "stdout",
     "output_type": "stream",
     "text": [
      "Trying for M9A\n"
     ]
    },
    {
     "name": "stderr",
     "output_type": "stream",
     "text": [
      "Status code 401 from http://api.opencagedata.com/geocode/v1/json: ERROR - 401 Client Error: Unauthorized for url: http://api.opencagedata.com/geocode/v1/json?query=M9A%2C+Toronto%2C+Ontario&key=13aa077d21ae42f287ec8607e07b2159&limit=1\n"
     ]
    },
    {
     "name": "stdout",
     "output_type": "stream",
     "text": [
      "Trying for M9A\n"
     ]
    },
    {
     "name": "stderr",
     "output_type": "stream",
     "text": [
      "Status code 401 from http://api.opencagedata.com/geocode/v1/json: ERROR - 401 Client Error: Unauthorized for url: http://api.opencagedata.com/geocode/v1/json?query=M9A%2C+Toronto%2C+Ontario&key=13aa077d21ae42f287ec8607e07b2159&limit=1\n"
     ]
    },
    {
     "name": "stdout",
     "output_type": "stream",
     "text": [
      "Trying for M9A\n"
     ]
    },
    {
     "name": "stderr",
     "output_type": "stream",
     "text": [
      "Status code 401 from http://api.opencagedata.com/geocode/v1/json: ERROR - 401 Client Error: Unauthorized for url: http://api.opencagedata.com/geocode/v1/json?query=M9A%2C+Toronto%2C+Ontario&key=13aa077d21ae42f287ec8607e07b2159&limit=1\n"
     ]
    },
    {
     "name": "stdout",
     "output_type": "stream",
     "text": [
      "Trying for M9A\n"
     ]
    },
    {
     "name": "stderr",
     "output_type": "stream",
     "text": [
      "Status code 401 from http://api.opencagedata.com/geocode/v1/json: ERROR - 401 Client Error: Unauthorized for url: http://api.opencagedata.com/geocode/v1/json?query=M9A%2C+Toronto%2C+Ontario&key=13aa077d21ae42f287ec8607e07b2159&limit=1\n"
     ]
    },
    {
     "name": "stdout",
     "output_type": "stream",
     "text": [
      "Trying for M9A\n"
     ]
    },
    {
     "name": "stderr",
     "output_type": "stream",
     "text": [
      "Status code 401 from http://api.opencagedata.com/geocode/v1/json: ERROR - 401 Client Error: Unauthorized for url: http://api.opencagedata.com/geocode/v1/json?query=M9A%2C+Toronto%2C+Ontario&key=13aa077d21ae42f287ec8607e07b2159&limit=1\n"
     ]
    },
    {
     "name": "stdout",
     "output_type": "stream",
     "text": [
      "Trying for M9A\n"
     ]
    },
    {
     "name": "stderr",
     "output_type": "stream",
     "text": [
      "Status code 401 from http://api.opencagedata.com/geocode/v1/json: ERROR - 401 Client Error: Unauthorized for url: http://api.opencagedata.com/geocode/v1/json?query=M9A%2C+Toronto%2C+Ontario&key=13aa077d21ae42f287ec8607e07b2159&limit=1\n"
     ]
    },
    {
     "name": "stdout",
     "output_type": "stream",
     "text": [
      "Trying for M9A\n"
     ]
    },
    {
     "name": "stderr",
     "output_type": "stream",
     "text": [
      "Status code 401 from http://api.opencagedata.com/geocode/v1/json: ERROR - 401 Client Error: Unauthorized for url: http://api.opencagedata.com/geocode/v1/json?query=M9A%2C+Toronto%2C+Ontario&key=13aa077d21ae42f287ec8607e07b2159&limit=1\n"
     ]
    },
    {
     "name": "stdout",
     "output_type": "stream",
     "text": [
      "Trying for M9A\n"
     ]
    },
    {
     "name": "stderr",
     "output_type": "stream",
     "text": [
      "Status code 401 from http://api.opencagedata.com/geocode/v1/json: ERROR - 401 Client Error: Unauthorized for url: http://api.opencagedata.com/geocode/v1/json?query=M9A%2C+Toronto%2C+Ontario&key=13aa077d21ae42f287ec8607e07b2159&limit=1\n"
     ]
    },
    {
     "name": "stdout",
     "output_type": "stream",
     "text": [
      "Trying for M9A\n"
     ]
    },
    {
     "name": "stderr",
     "output_type": "stream",
     "text": [
      "Status code 401 from http://api.opencagedata.com/geocode/v1/json: ERROR - 401 Client Error: Unauthorized for url: http://api.opencagedata.com/geocode/v1/json?query=M9A%2C+Toronto%2C+Ontario&key=13aa077d21ae42f287ec8607e07b2159&limit=1\n"
     ]
    },
    {
     "name": "stdout",
     "output_type": "stream",
     "text": [
      "Trying for M9A\n"
     ]
    },
    {
     "name": "stderr",
     "output_type": "stream",
     "text": [
      "Status code 401 from http://api.opencagedata.com/geocode/v1/json: ERROR - 401 Client Error: Unauthorized for url: http://api.opencagedata.com/geocode/v1/json?query=M9A%2C+Toronto%2C+Ontario&key=13aa077d21ae42f287ec8607e07b2159&limit=1\n"
     ]
    },
    {
     "name": "stdout",
     "output_type": "stream",
     "text": [
      "Trying for M9A\n"
     ]
    },
    {
     "name": "stderr",
     "output_type": "stream",
     "text": [
      "Status code 401 from http://api.opencagedata.com/geocode/v1/json: ERROR - 401 Client Error: Unauthorized for url: http://api.opencagedata.com/geocode/v1/json?query=M9A%2C+Toronto%2C+Ontario&key=13aa077d21ae42f287ec8607e07b2159&limit=1\n"
     ]
    },
    {
     "name": "stdout",
     "output_type": "stream",
     "text": [
      "Trying for M9A\n"
     ]
    },
    {
     "name": "stderr",
     "output_type": "stream",
     "text": [
      "Status code 401 from http://api.opencagedata.com/geocode/v1/json: ERROR - 401 Client Error: Unauthorized for url: http://api.opencagedata.com/geocode/v1/json?query=M9A%2C+Toronto%2C+Ontario&key=13aa077d21ae42f287ec8607e07b2159&limit=1\n"
     ]
    },
    {
     "name": "stdout",
     "output_type": "stream",
     "text": [
      "Trying for M9A\n"
     ]
    },
    {
     "name": "stderr",
     "output_type": "stream",
     "text": [
      "Status code 401 from http://api.opencagedata.com/geocode/v1/json: ERROR - 401 Client Error: Unauthorized for url: http://api.opencagedata.com/geocode/v1/json?query=M9A%2C+Toronto%2C+Ontario&key=13aa077d21ae42f287ec8607e07b2159&limit=1\n"
     ]
    },
    {
     "name": "stdout",
     "output_type": "stream",
     "text": [
      "Trying for M9A\n"
     ]
    },
    {
     "name": "stderr",
     "output_type": "stream",
     "text": [
      "Status code 401 from http://api.opencagedata.com/geocode/v1/json: ERROR - 401 Client Error: Unauthorized for url: http://api.opencagedata.com/geocode/v1/json?query=M9A%2C+Toronto%2C+Ontario&key=13aa077d21ae42f287ec8607e07b2159&limit=1\n"
     ]
    },
    {
     "name": "stdout",
     "output_type": "stream",
     "text": [
      "Trying for M9A\n"
     ]
    },
    {
     "name": "stderr",
     "output_type": "stream",
     "text": [
      "Status code 401 from http://api.opencagedata.com/geocode/v1/json: ERROR - 401 Client Error: Unauthorized for url: http://api.opencagedata.com/geocode/v1/json?query=M9A%2C+Toronto%2C+Ontario&key=13aa077d21ae42f287ec8607e07b2159&limit=1\n"
     ]
    },
    {
     "name": "stdout",
     "output_type": "stream",
     "text": [
      "Trying for M9A\n"
     ]
    },
    {
     "name": "stderr",
     "output_type": "stream",
     "text": [
      "Status code 401 from http://api.opencagedata.com/geocode/v1/json: ERROR - 401 Client Error: Unauthorized for url: http://api.opencagedata.com/geocode/v1/json?query=M9A%2C+Toronto%2C+Ontario&key=13aa077d21ae42f287ec8607e07b2159&limit=1\n"
     ]
    },
    {
     "name": "stdout",
     "output_type": "stream",
     "text": [
      "Trying for M9A\n"
     ]
    },
    {
     "name": "stderr",
     "output_type": "stream",
     "text": [
      "Status code 401 from http://api.opencagedata.com/geocode/v1/json: ERROR - 401 Client Error: Unauthorized for url: http://api.opencagedata.com/geocode/v1/json?query=M9A%2C+Toronto%2C+Ontario&key=13aa077d21ae42f287ec8607e07b2159&limit=1\n"
     ]
    },
    {
     "name": "stdout",
     "output_type": "stream",
     "text": [
      "Trying for M9A\n"
     ]
    },
    {
     "name": "stderr",
     "output_type": "stream",
     "text": [
      "Status code 401 from http://api.opencagedata.com/geocode/v1/json: ERROR - 401 Client Error: Unauthorized for url: http://api.opencagedata.com/geocode/v1/json?query=M9A%2C+Toronto%2C+Ontario&key=13aa077d21ae42f287ec8607e07b2159&limit=1\n"
     ]
    },
    {
     "name": "stdout",
     "output_type": "stream",
     "text": [
      "Trying for M9A\n"
     ]
    },
    {
     "name": "stderr",
     "output_type": "stream",
     "text": [
      "Status code 401 from http://api.opencagedata.com/geocode/v1/json: ERROR - 401 Client Error: Unauthorized for url: http://api.opencagedata.com/geocode/v1/json?query=M9A%2C+Toronto%2C+Ontario&key=13aa077d21ae42f287ec8607e07b2159&limit=1\n"
     ]
    },
    {
     "name": "stdout",
     "output_type": "stream",
     "text": [
      "Trying for M9A\n"
     ]
    },
    {
     "name": "stderr",
     "output_type": "stream",
     "text": [
      "Status code 401 from http://api.opencagedata.com/geocode/v1/json: ERROR - 401 Client Error: Unauthorized for url: http://api.opencagedata.com/geocode/v1/json?query=M9A%2C+Toronto%2C+Ontario&key=13aa077d21ae42f287ec8607e07b2159&limit=1\n"
     ]
    },
    {
     "name": "stdout",
     "output_type": "stream",
     "text": [
      "Trying for M9A\n"
     ]
    },
    {
     "name": "stderr",
     "output_type": "stream",
     "text": [
      "Status code 401 from http://api.opencagedata.com/geocode/v1/json: ERROR - 401 Client Error: Unauthorized for url: http://api.opencagedata.com/geocode/v1/json?query=M9A%2C+Toronto%2C+Ontario&key=13aa077d21ae42f287ec8607e07b2159&limit=1\n"
     ]
    },
    {
     "name": "stdout",
     "output_type": "stream",
     "text": [
      "Trying for M9A\n"
     ]
    },
    {
     "name": "stderr",
     "output_type": "stream",
     "text": [
      "Status code 401 from http://api.opencagedata.com/geocode/v1/json: ERROR - 401 Client Error: Unauthorized for url: http://api.opencagedata.com/geocode/v1/json?query=M9A%2C+Toronto%2C+Ontario&key=13aa077d21ae42f287ec8607e07b2159&limit=1\n"
     ]
    },
    {
     "name": "stdout",
     "output_type": "stream",
     "text": [
      "Trying for M9A\n"
     ]
    },
    {
     "name": "stderr",
     "output_type": "stream",
     "text": [
      "Status code 401 from http://api.opencagedata.com/geocode/v1/json: ERROR - 401 Client Error: Unauthorized for url: http://api.opencagedata.com/geocode/v1/json?query=M9A%2C+Toronto%2C+Ontario&key=13aa077d21ae42f287ec8607e07b2159&limit=1\n"
     ]
    },
    {
     "name": "stdout",
     "output_type": "stream",
     "text": [
      "Trying for M9A\n"
     ]
    },
    {
     "name": "stderr",
     "output_type": "stream",
     "text": [
      "Status code 401 from http://api.opencagedata.com/geocode/v1/json: ERROR - 401 Client Error: Unauthorized for url: http://api.opencagedata.com/geocode/v1/json?query=M9A%2C+Toronto%2C+Ontario&key=13aa077d21ae42f287ec8607e07b2159&limit=1\n"
     ]
    },
    {
     "name": "stdout",
     "output_type": "stream",
     "text": [
      "Trying for M9A\n"
     ]
    },
    {
     "name": "stderr",
     "output_type": "stream",
     "text": [
      "Status code 401 from http://api.opencagedata.com/geocode/v1/json: ERROR - 401 Client Error: Unauthorized for url: http://api.opencagedata.com/geocode/v1/json?query=M9A%2C+Toronto%2C+Ontario&key=13aa077d21ae42f287ec8607e07b2159&limit=1\n"
     ]
    },
    {
     "name": "stdout",
     "output_type": "stream",
     "text": [
      "Trying for M9A\n"
     ]
    },
    {
     "name": "stderr",
     "output_type": "stream",
     "text": [
      "Status code 401 from http://api.opencagedata.com/geocode/v1/json: ERROR - 401 Client Error: Unauthorized for url: http://api.opencagedata.com/geocode/v1/json?query=M9A%2C+Toronto%2C+Ontario&key=13aa077d21ae42f287ec8607e07b2159&limit=1\n"
     ]
    },
    {
     "name": "stdout",
     "output_type": "stream",
     "text": [
      "Trying for M9A\n"
     ]
    },
    {
     "name": "stderr",
     "output_type": "stream",
     "text": [
      "Status code 401 from http://api.opencagedata.com/geocode/v1/json: ERROR - 401 Client Error: Unauthorized for url: http://api.opencagedata.com/geocode/v1/json?query=M9A%2C+Toronto%2C+Ontario&key=13aa077d21ae42f287ec8607e07b2159&limit=1\n"
     ]
    },
    {
     "name": "stdout",
     "output_type": "stream",
     "text": [
      "Trying for M9A\n"
     ]
    },
    {
     "name": "stderr",
     "output_type": "stream",
     "text": [
      "Status code 401 from http://api.opencagedata.com/geocode/v1/json: ERROR - 401 Client Error: Unauthorized for url: http://api.opencagedata.com/geocode/v1/json?query=M9A%2C+Toronto%2C+Ontario&key=13aa077d21ae42f287ec8607e07b2159&limit=1\n"
     ]
    },
    {
     "name": "stdout",
     "output_type": "stream",
     "text": [
      "Trying for M9A\n"
     ]
    },
    {
     "name": "stderr",
     "output_type": "stream",
     "text": [
      "Status code 401 from http://api.opencagedata.com/geocode/v1/json: ERROR - 401 Client Error: Unauthorized for url: http://api.opencagedata.com/geocode/v1/json?query=M9A%2C+Toronto%2C+Ontario&key=13aa077d21ae42f287ec8607e07b2159&limit=1\n"
     ]
    },
    {
     "name": "stdout",
     "output_type": "stream",
     "text": [
      "Trying for M9A\n"
     ]
    },
    {
     "name": "stderr",
     "output_type": "stream",
     "text": [
      "Status code 401 from http://api.opencagedata.com/geocode/v1/json: ERROR - 401 Client Error: Unauthorized for url: http://api.opencagedata.com/geocode/v1/json?query=M9A%2C+Toronto%2C+Ontario&key=13aa077d21ae42f287ec8607e07b2159&limit=1\n"
     ]
    },
    {
     "name": "stdout",
     "output_type": "stream",
     "text": [
      "Trying for M9A\n"
     ]
    },
    {
     "name": "stderr",
     "output_type": "stream",
     "text": [
      "Status code 401 from http://api.opencagedata.com/geocode/v1/json: ERROR - 401 Client Error: Unauthorized for url: http://api.opencagedata.com/geocode/v1/json?query=M9A%2C+Toronto%2C+Ontario&key=13aa077d21ae42f287ec8607e07b2159&limit=1\n"
     ]
    },
    {
     "name": "stdout",
     "output_type": "stream",
     "text": [
      "Trying for M9A\n"
     ]
    },
    {
     "name": "stderr",
     "output_type": "stream",
     "text": [
      "Status code 401 from http://api.opencagedata.com/geocode/v1/json: ERROR - 401 Client Error: Unauthorized for url: http://api.opencagedata.com/geocode/v1/json?query=M9A%2C+Toronto%2C+Ontario&key=13aa077d21ae42f287ec8607e07b2159&limit=1\n"
     ]
    },
    {
     "name": "stdout",
     "output_type": "stream",
     "text": [
      "Trying for M9A\n"
     ]
    },
    {
     "name": "stderr",
     "output_type": "stream",
     "text": [
      "Status code 401 from http://api.opencagedata.com/geocode/v1/json: ERROR - 401 Client Error: Unauthorized for url: http://api.opencagedata.com/geocode/v1/json?query=M9A%2C+Toronto%2C+Ontario&key=13aa077d21ae42f287ec8607e07b2159&limit=1\n"
     ]
    },
    {
     "name": "stdout",
     "output_type": "stream",
     "text": [
      "Trying for M9A\n"
     ]
    },
    {
     "name": "stderr",
     "output_type": "stream",
     "text": [
      "Status code 401 from http://api.opencagedata.com/geocode/v1/json: ERROR - 401 Client Error: Unauthorized for url: http://api.opencagedata.com/geocode/v1/json?query=M9A%2C+Toronto%2C+Ontario&key=13aa077d21ae42f287ec8607e07b2159&limit=1\n"
     ]
    },
    {
     "name": "stdout",
     "output_type": "stream",
     "text": [
      "Trying for M9A\n"
     ]
    },
    {
     "name": "stderr",
     "output_type": "stream",
     "text": [
      "Status code 401 from http://api.opencagedata.com/geocode/v1/json: ERROR - 401 Client Error: Unauthorized for url: http://api.opencagedata.com/geocode/v1/json?query=M9A%2C+Toronto%2C+Ontario&key=13aa077d21ae42f287ec8607e07b2159&limit=1\n"
     ]
    },
    {
     "name": "stdout",
     "output_type": "stream",
     "text": [
      "Trying for M9A\n"
     ]
    },
    {
     "name": "stderr",
     "output_type": "stream",
     "text": [
      "Status code 401 from http://api.opencagedata.com/geocode/v1/json: ERROR - 401 Client Error: Unauthorized for url: http://api.opencagedata.com/geocode/v1/json?query=M9A%2C+Toronto%2C+Ontario&key=13aa077d21ae42f287ec8607e07b2159&limit=1\n"
     ]
    },
    {
     "name": "stdout",
     "output_type": "stream",
     "text": [
      "Trying for M9A\n"
     ]
    },
    {
     "name": "stderr",
     "output_type": "stream",
     "text": [
      "Status code 401 from http://api.opencagedata.com/geocode/v1/json: ERROR - 401 Client Error: Unauthorized for url: http://api.opencagedata.com/geocode/v1/json?query=M9A%2C+Toronto%2C+Ontario&key=13aa077d21ae42f287ec8607e07b2159&limit=1\n"
     ]
    },
    {
     "name": "stdout",
     "output_type": "stream",
     "text": [
      "Trying for M9A\n"
     ]
    },
    {
     "name": "stderr",
     "output_type": "stream",
     "text": [
      "Status code 401 from http://api.opencagedata.com/geocode/v1/json: ERROR - 401 Client Error: Unauthorized for url: http://api.opencagedata.com/geocode/v1/json?query=M9A%2C+Toronto%2C+Ontario&key=13aa077d21ae42f287ec8607e07b2159&limit=1\n"
     ]
    },
    {
     "name": "stdout",
     "output_type": "stream",
     "text": [
      "Trying for M9A\n"
     ]
    },
    {
     "name": "stderr",
     "output_type": "stream",
     "text": [
      "Status code 401 from http://api.opencagedata.com/geocode/v1/json: ERROR - 401 Client Error: Unauthorized for url: http://api.opencagedata.com/geocode/v1/json?query=M9A%2C+Toronto%2C+Ontario&key=13aa077d21ae42f287ec8607e07b2159&limit=1\n"
     ]
    },
    {
     "name": "stdout",
     "output_type": "stream",
     "text": [
      "Trying for M9A\n"
     ]
    },
    {
     "name": "stderr",
     "output_type": "stream",
     "text": [
      "Status code 401 from http://api.opencagedata.com/geocode/v1/json: ERROR - 401 Client Error: Unauthorized for url: http://api.opencagedata.com/geocode/v1/json?query=M9A%2C+Toronto%2C+Ontario&key=13aa077d21ae42f287ec8607e07b2159&limit=1\n"
     ]
    },
    {
     "name": "stdout",
     "output_type": "stream",
     "text": [
      "Trying for M9A\n"
     ]
    },
    {
     "name": "stderr",
     "output_type": "stream",
     "text": [
      "Status code 401 from http://api.opencagedata.com/geocode/v1/json: ERROR - 401 Client Error: Unauthorized for url: http://api.opencagedata.com/geocode/v1/json?query=M9A%2C+Toronto%2C+Ontario&key=13aa077d21ae42f287ec8607e07b2159&limit=1\n"
     ]
    },
    {
     "name": "stdout",
     "output_type": "stream",
     "text": [
      "Trying for M9A\n"
     ]
    },
    {
     "name": "stderr",
     "output_type": "stream",
     "text": [
      "Status code 401 from http://api.opencagedata.com/geocode/v1/json: ERROR - 401 Client Error: Unauthorized for url: http://api.opencagedata.com/geocode/v1/json?query=M9A%2C+Toronto%2C+Ontario&key=13aa077d21ae42f287ec8607e07b2159&limit=1\n"
     ]
    },
    {
     "name": "stdout",
     "output_type": "stream",
     "text": [
      "Trying for M9A\n"
     ]
    },
    {
     "name": "stderr",
     "output_type": "stream",
     "text": [
      "Status code 401 from http://api.opencagedata.com/geocode/v1/json: ERROR - 401 Client Error: Unauthorized for url: http://api.opencagedata.com/geocode/v1/json?query=M9A%2C+Toronto%2C+Ontario&key=13aa077d21ae42f287ec8607e07b2159&limit=1\n"
     ]
    },
    {
     "name": "stdout",
     "output_type": "stream",
     "text": [
      "Trying for M9A\n"
     ]
    },
    {
     "name": "stderr",
     "output_type": "stream",
     "text": [
      "Status code 401 from http://api.opencagedata.com/geocode/v1/json: ERROR - 401 Client Error: Unauthorized for url: http://api.opencagedata.com/geocode/v1/json?query=M9A%2C+Toronto%2C+Ontario&key=13aa077d21ae42f287ec8607e07b2159&limit=1\n"
     ]
    },
    {
     "name": "stdout",
     "output_type": "stream",
     "text": [
      "Trying for M9A\n"
     ]
    },
    {
     "name": "stderr",
     "output_type": "stream",
     "text": [
      "Status code 401 from http://api.opencagedata.com/geocode/v1/json: ERROR - 401 Client Error: Unauthorized for url: http://api.opencagedata.com/geocode/v1/json?query=M9A%2C+Toronto%2C+Ontario&key=13aa077d21ae42f287ec8607e07b2159&limit=1\n"
     ]
    },
    {
     "name": "stdout",
     "output_type": "stream",
     "text": [
      "Trying for M9A\n"
     ]
    },
    {
     "name": "stderr",
     "output_type": "stream",
     "text": [
      "Status code 401 from http://api.opencagedata.com/geocode/v1/json: ERROR - 401 Client Error: Unauthorized for url: http://api.opencagedata.com/geocode/v1/json?query=M9A%2C+Toronto%2C+Ontario&key=13aa077d21ae42f287ec8607e07b2159&limit=1\n"
     ]
    },
    {
     "name": "stdout",
     "output_type": "stream",
     "text": [
      "Trying for M9A\n"
     ]
    },
    {
     "name": "stderr",
     "output_type": "stream",
     "text": [
      "Status code 401 from http://api.opencagedata.com/geocode/v1/json: ERROR - 401 Client Error: Unauthorized for url: http://api.opencagedata.com/geocode/v1/json?query=M9A%2C+Toronto%2C+Ontario&key=13aa077d21ae42f287ec8607e07b2159&limit=1\n"
     ]
    },
    {
     "name": "stdout",
     "output_type": "stream",
     "text": [
      "Trying for M9A\n",
      "M9A, done\n",
      "M1B, Toronto, Ontario\n",
      "Trying for M1B\n"
     ]
    },
    {
     "name": "stderr",
     "output_type": "stream",
     "text": [
      "Status code 401 from http://api.opencagedata.com/geocode/v1/json: ERROR - 401 Client Error: Unauthorized for url: http://api.opencagedata.com/geocode/v1/json?query=M1B%2C+Toronto%2C+Ontario&key=13aa077d21ae42f287ec8607e07b2159&limit=1\n"
     ]
    },
    {
     "name": "stdout",
     "output_type": "stream",
     "text": [
      "Trying for M1B\n"
     ]
    },
    {
     "name": "stderr",
     "output_type": "stream",
     "text": [
      "Status code 401 from http://api.opencagedata.com/geocode/v1/json: ERROR - 401 Client Error: Unauthorized for url: http://api.opencagedata.com/geocode/v1/json?query=M1B%2C+Toronto%2C+Ontario&key=13aa077d21ae42f287ec8607e07b2159&limit=1\n"
     ]
    },
    {
     "name": "stdout",
     "output_type": "stream",
     "text": [
      "Trying for M1B\n"
     ]
    },
    {
     "name": "stderr",
     "output_type": "stream",
     "text": [
      "Status code 401 from http://api.opencagedata.com/geocode/v1/json: ERROR - 401 Client Error: Unauthorized for url: http://api.opencagedata.com/geocode/v1/json?query=M1B%2C+Toronto%2C+Ontario&key=13aa077d21ae42f287ec8607e07b2159&limit=1\n"
     ]
    },
    {
     "name": "stdout",
     "output_type": "stream",
     "text": [
      "Trying for M1B\n"
     ]
    },
    {
     "name": "stderr",
     "output_type": "stream",
     "text": [
      "Status code 401 from http://api.opencagedata.com/geocode/v1/json: ERROR - 401 Client Error: Unauthorized for url: http://api.opencagedata.com/geocode/v1/json?query=M1B%2C+Toronto%2C+Ontario&key=13aa077d21ae42f287ec8607e07b2159&limit=1\n"
     ]
    },
    {
     "name": "stdout",
     "output_type": "stream",
     "text": [
      "Trying for M1B\n"
     ]
    },
    {
     "name": "stderr",
     "output_type": "stream",
     "text": [
      "Status code 401 from http://api.opencagedata.com/geocode/v1/json: ERROR - 401 Client Error: Unauthorized for url: http://api.opencagedata.com/geocode/v1/json?query=M1B%2C+Toronto%2C+Ontario&key=13aa077d21ae42f287ec8607e07b2159&limit=1\n"
     ]
    },
    {
     "name": "stdout",
     "output_type": "stream",
     "text": [
      "Trying for M1B\n"
     ]
    },
    {
     "name": "stderr",
     "output_type": "stream",
     "text": [
      "Status code 401 from http://api.opencagedata.com/geocode/v1/json: ERROR - 401 Client Error: Unauthorized for url: http://api.opencagedata.com/geocode/v1/json?query=M1B%2C+Toronto%2C+Ontario&key=13aa077d21ae42f287ec8607e07b2159&limit=1\n"
     ]
    },
    {
     "name": "stdout",
     "output_type": "stream",
     "text": [
      "Trying for M1B\n"
     ]
    },
    {
     "name": "stderr",
     "output_type": "stream",
     "text": [
      "Status code 401 from http://api.opencagedata.com/geocode/v1/json: ERROR - 401 Client Error: Unauthorized for url: http://api.opencagedata.com/geocode/v1/json?query=M1B%2C+Toronto%2C+Ontario&key=13aa077d21ae42f287ec8607e07b2159&limit=1\n"
     ]
    },
    {
     "name": "stdout",
     "output_type": "stream",
     "text": [
      "Trying for M1B\n"
     ]
    },
    {
     "name": "stderr",
     "output_type": "stream",
     "text": [
      "Status code 401 from http://api.opencagedata.com/geocode/v1/json: ERROR - 401 Client Error: Unauthorized for url: http://api.opencagedata.com/geocode/v1/json?query=M1B%2C+Toronto%2C+Ontario&key=13aa077d21ae42f287ec8607e07b2159&limit=1\n"
     ]
    },
    {
     "name": "stdout",
     "output_type": "stream",
     "text": [
      "Trying for M1B\n"
     ]
    },
    {
     "name": "stderr",
     "output_type": "stream",
     "text": [
      "Status code 401 from http://api.opencagedata.com/geocode/v1/json: ERROR - 401 Client Error: Unauthorized for url: http://api.opencagedata.com/geocode/v1/json?query=M1B%2C+Toronto%2C+Ontario&key=13aa077d21ae42f287ec8607e07b2159&limit=1\n"
     ]
    },
    {
     "name": "stdout",
     "output_type": "stream",
     "text": [
      "Trying for M1B\n"
     ]
    },
    {
     "name": "stderr",
     "output_type": "stream",
     "text": [
      "Status code 401 from http://api.opencagedata.com/geocode/v1/json: ERROR - 401 Client Error: Unauthorized for url: http://api.opencagedata.com/geocode/v1/json?query=M1B%2C+Toronto%2C+Ontario&key=13aa077d21ae42f287ec8607e07b2159&limit=1\n"
     ]
    },
    {
     "name": "stdout",
     "output_type": "stream",
     "text": [
      "Trying for M1B\n"
     ]
    },
    {
     "name": "stderr",
     "output_type": "stream",
     "text": [
      "Status code 401 from http://api.opencagedata.com/geocode/v1/json: ERROR - 401 Client Error: Unauthorized for url: http://api.opencagedata.com/geocode/v1/json?query=M1B%2C+Toronto%2C+Ontario&key=13aa077d21ae42f287ec8607e07b2159&limit=1\n"
     ]
    },
    {
     "name": "stdout",
     "output_type": "stream",
     "text": [
      "Trying for M1B\n"
     ]
    },
    {
     "name": "stderr",
     "output_type": "stream",
     "text": [
      "Status code 401 from http://api.opencagedata.com/geocode/v1/json: ERROR - 401 Client Error: Unauthorized for url: http://api.opencagedata.com/geocode/v1/json?query=M1B%2C+Toronto%2C+Ontario&key=13aa077d21ae42f287ec8607e07b2159&limit=1\n"
     ]
    },
    {
     "name": "stdout",
     "output_type": "stream",
     "text": [
      "Trying for M1B\n"
     ]
    },
    {
     "name": "stderr",
     "output_type": "stream",
     "text": [
      "Status code 401 from http://api.opencagedata.com/geocode/v1/json: ERROR - 401 Client Error: Unauthorized for url: http://api.opencagedata.com/geocode/v1/json?query=M1B%2C+Toronto%2C+Ontario&key=13aa077d21ae42f287ec8607e07b2159&limit=1\n"
     ]
    },
    {
     "name": "stdout",
     "output_type": "stream",
     "text": [
      "Trying for M1B\n"
     ]
    },
    {
     "name": "stderr",
     "output_type": "stream",
     "text": [
      "Status code 401 from http://api.opencagedata.com/geocode/v1/json: ERROR - 401 Client Error: Unauthorized for url: http://api.opencagedata.com/geocode/v1/json?query=M1B%2C+Toronto%2C+Ontario&key=13aa077d21ae42f287ec8607e07b2159&limit=1\n"
     ]
    },
    {
     "name": "stdout",
     "output_type": "stream",
     "text": [
      "Trying for M1B\n"
     ]
    },
    {
     "name": "stderr",
     "output_type": "stream",
     "text": [
      "Status code 401 from http://api.opencagedata.com/geocode/v1/json: ERROR - 401 Client Error: Unauthorized for url: http://api.opencagedata.com/geocode/v1/json?query=M1B%2C+Toronto%2C+Ontario&key=13aa077d21ae42f287ec8607e07b2159&limit=1\n"
     ]
    },
    {
     "name": "stdout",
     "output_type": "stream",
     "text": [
      "Trying for M1B\n"
     ]
    },
    {
     "name": "stderr",
     "output_type": "stream",
     "text": [
      "Status code 401 from http://api.opencagedata.com/geocode/v1/json: ERROR - 401 Client Error: Unauthorized for url: http://api.opencagedata.com/geocode/v1/json?query=M1B%2C+Toronto%2C+Ontario&key=13aa077d21ae42f287ec8607e07b2159&limit=1\n"
     ]
    },
    {
     "name": "stdout",
     "output_type": "stream",
     "text": [
      "Trying for M1B\n"
     ]
    },
    {
     "name": "stderr",
     "output_type": "stream",
     "text": [
      "Status code 401 from http://api.opencagedata.com/geocode/v1/json: ERROR - 401 Client Error: Unauthorized for url: http://api.opencagedata.com/geocode/v1/json?query=M1B%2C+Toronto%2C+Ontario&key=13aa077d21ae42f287ec8607e07b2159&limit=1\n"
     ]
    },
    {
     "name": "stdout",
     "output_type": "stream",
     "text": [
      "Trying for M1B\n"
     ]
    },
    {
     "name": "stderr",
     "output_type": "stream",
     "text": [
      "Status code 401 from http://api.opencagedata.com/geocode/v1/json: ERROR - 401 Client Error: Unauthorized for url: http://api.opencagedata.com/geocode/v1/json?query=M1B%2C+Toronto%2C+Ontario&key=13aa077d21ae42f287ec8607e07b2159&limit=1\n"
     ]
    },
    {
     "name": "stdout",
     "output_type": "stream",
     "text": [
      "Trying for M1B\n"
     ]
    },
    {
     "name": "stderr",
     "output_type": "stream",
     "text": [
      "Status code 401 from http://api.opencagedata.com/geocode/v1/json: ERROR - 401 Client Error: Unauthorized for url: http://api.opencagedata.com/geocode/v1/json?query=M1B%2C+Toronto%2C+Ontario&key=13aa077d21ae42f287ec8607e07b2159&limit=1\n"
     ]
    },
    {
     "name": "stdout",
     "output_type": "stream",
     "text": [
      "Trying for M1B\n"
     ]
    },
    {
     "name": "stderr",
     "output_type": "stream",
     "text": [
      "Status code 401 from http://api.opencagedata.com/geocode/v1/json: ERROR - 401 Client Error: Unauthorized for url: http://api.opencagedata.com/geocode/v1/json?query=M1B%2C+Toronto%2C+Ontario&key=13aa077d21ae42f287ec8607e07b2159&limit=1\n"
     ]
    },
    {
     "name": "stdout",
     "output_type": "stream",
     "text": [
      "Trying for M1B\n"
     ]
    },
    {
     "name": "stderr",
     "output_type": "stream",
     "text": [
      "Status code 401 from http://api.opencagedata.com/geocode/v1/json: ERROR - 401 Client Error: Unauthorized for url: http://api.opencagedata.com/geocode/v1/json?query=M1B%2C+Toronto%2C+Ontario&key=13aa077d21ae42f287ec8607e07b2159&limit=1\n"
     ]
    },
    {
     "name": "stdout",
     "output_type": "stream",
     "text": [
      "Trying for M1B\n"
     ]
    },
    {
     "name": "stderr",
     "output_type": "stream",
     "text": [
      "Status code 401 from http://api.opencagedata.com/geocode/v1/json: ERROR - 401 Client Error: Unauthorized for url: http://api.opencagedata.com/geocode/v1/json?query=M1B%2C+Toronto%2C+Ontario&key=13aa077d21ae42f287ec8607e07b2159&limit=1\n"
     ]
    },
    {
     "name": "stdout",
     "output_type": "stream",
     "text": [
      "Trying for M1B\n"
     ]
    },
    {
     "name": "stderr",
     "output_type": "stream",
     "text": [
      "Status code 401 from http://api.opencagedata.com/geocode/v1/json: ERROR - 401 Client Error: Unauthorized for url: http://api.opencagedata.com/geocode/v1/json?query=M1B%2C+Toronto%2C+Ontario&key=13aa077d21ae42f287ec8607e07b2159&limit=1\n"
     ]
    },
    {
     "name": "stdout",
     "output_type": "stream",
     "text": [
      "Trying for M1B\n"
     ]
    },
    {
     "name": "stderr",
     "output_type": "stream",
     "text": [
      "Status code 401 from http://api.opencagedata.com/geocode/v1/json: ERROR - 401 Client Error: Unauthorized for url: http://api.opencagedata.com/geocode/v1/json?query=M1B%2C+Toronto%2C+Ontario&key=13aa077d21ae42f287ec8607e07b2159&limit=1\n"
     ]
    },
    {
     "name": "stdout",
     "output_type": "stream",
     "text": [
      "Trying for M1B\n"
     ]
    },
    {
     "name": "stderr",
     "output_type": "stream",
     "text": [
      "Status code 401 from http://api.opencagedata.com/geocode/v1/json: ERROR - 401 Client Error: Unauthorized for url: http://api.opencagedata.com/geocode/v1/json?query=M1B%2C+Toronto%2C+Ontario&key=13aa077d21ae42f287ec8607e07b2159&limit=1\n"
     ]
    },
    {
     "name": "stdout",
     "output_type": "stream",
     "text": [
      "Trying for M1B\n"
     ]
    },
    {
     "name": "stderr",
     "output_type": "stream",
     "text": [
      "Status code 401 from http://api.opencagedata.com/geocode/v1/json: ERROR - 401 Client Error: Unauthorized for url: http://api.opencagedata.com/geocode/v1/json?query=M1B%2C+Toronto%2C+Ontario&key=13aa077d21ae42f287ec8607e07b2159&limit=1\n"
     ]
    },
    {
     "name": "stdout",
     "output_type": "stream",
     "text": [
      "Trying for M1B\n"
     ]
    },
    {
     "name": "stderr",
     "output_type": "stream",
     "text": [
      "Status code 401 from http://api.opencagedata.com/geocode/v1/json: ERROR - 401 Client Error: Unauthorized for url: http://api.opencagedata.com/geocode/v1/json?query=M1B%2C+Toronto%2C+Ontario&key=13aa077d21ae42f287ec8607e07b2159&limit=1\n"
     ]
    },
    {
     "name": "stdout",
     "output_type": "stream",
     "text": [
      "Trying for M1B\n"
     ]
    },
    {
     "name": "stderr",
     "output_type": "stream",
     "text": [
      "Status code 401 from http://api.opencagedata.com/geocode/v1/json: ERROR - 401 Client Error: Unauthorized for url: http://api.opencagedata.com/geocode/v1/json?query=M1B%2C+Toronto%2C+Ontario&key=13aa077d21ae42f287ec8607e07b2159&limit=1\n"
     ]
    },
    {
     "name": "stdout",
     "output_type": "stream",
     "text": [
      "Trying for M1B\n"
     ]
    },
    {
     "name": "stderr",
     "output_type": "stream",
     "text": [
      "Status code 401 from http://api.opencagedata.com/geocode/v1/json: ERROR - 401 Client Error: Unauthorized for url: http://api.opencagedata.com/geocode/v1/json?query=M1B%2C+Toronto%2C+Ontario&key=13aa077d21ae42f287ec8607e07b2159&limit=1\n"
     ]
    },
    {
     "name": "stdout",
     "output_type": "stream",
     "text": [
      "Trying for M1B\n"
     ]
    },
    {
     "name": "stderr",
     "output_type": "stream",
     "text": [
      "Status code 401 from http://api.opencagedata.com/geocode/v1/json: ERROR - 401 Client Error: Unauthorized for url: http://api.opencagedata.com/geocode/v1/json?query=M1B%2C+Toronto%2C+Ontario&key=13aa077d21ae42f287ec8607e07b2159&limit=1\n"
     ]
    },
    {
     "name": "stdout",
     "output_type": "stream",
     "text": [
      "Trying for M1B\n"
     ]
    },
    {
     "name": "stderr",
     "output_type": "stream",
     "text": [
      "Status code 401 from http://api.opencagedata.com/geocode/v1/json: ERROR - 401 Client Error: Unauthorized for url: http://api.opencagedata.com/geocode/v1/json?query=M1B%2C+Toronto%2C+Ontario&key=13aa077d21ae42f287ec8607e07b2159&limit=1\n"
     ]
    },
    {
     "name": "stdout",
     "output_type": "stream",
     "text": [
      "Trying for M1B\n"
     ]
    },
    {
     "name": "stderr",
     "output_type": "stream",
     "text": [
      "Status code 401 from http://api.opencagedata.com/geocode/v1/json: ERROR - 401 Client Error: Unauthorized for url: http://api.opencagedata.com/geocode/v1/json?query=M1B%2C+Toronto%2C+Ontario&key=13aa077d21ae42f287ec8607e07b2159&limit=1\n"
     ]
    },
    {
     "name": "stdout",
     "output_type": "stream",
     "text": [
      "Trying for M1B\n"
     ]
    },
    {
     "name": "stderr",
     "output_type": "stream",
     "text": [
      "Status code 401 from http://api.opencagedata.com/geocode/v1/json: ERROR - 401 Client Error: Unauthorized for url: http://api.opencagedata.com/geocode/v1/json?query=M1B%2C+Toronto%2C+Ontario&key=13aa077d21ae42f287ec8607e07b2159&limit=1\n"
     ]
    },
    {
     "name": "stdout",
     "output_type": "stream",
     "text": [
      "Trying for M1B\n"
     ]
    },
    {
     "name": "stderr",
     "output_type": "stream",
     "text": [
      "Status code 401 from http://api.opencagedata.com/geocode/v1/json: ERROR - 401 Client Error: Unauthorized for url: http://api.opencagedata.com/geocode/v1/json?query=M1B%2C+Toronto%2C+Ontario&key=13aa077d21ae42f287ec8607e07b2159&limit=1\n"
     ]
    },
    {
     "name": "stdout",
     "output_type": "stream",
     "text": [
      "Trying for M1B\n"
     ]
    },
    {
     "name": "stderr",
     "output_type": "stream",
     "text": [
      "Status code 401 from http://api.opencagedata.com/geocode/v1/json: ERROR - 401 Client Error: Unauthorized for url: http://api.opencagedata.com/geocode/v1/json?query=M1B%2C+Toronto%2C+Ontario&key=13aa077d21ae42f287ec8607e07b2159&limit=1\n"
     ]
    },
    {
     "name": "stdout",
     "output_type": "stream",
     "text": [
      "Trying for M1B\n"
     ]
    },
    {
     "name": "stderr",
     "output_type": "stream",
     "text": [
      "Status code 401 from http://api.opencagedata.com/geocode/v1/json: ERROR - 401 Client Error: Unauthorized for url: http://api.opencagedata.com/geocode/v1/json?query=M1B%2C+Toronto%2C+Ontario&key=13aa077d21ae42f287ec8607e07b2159&limit=1\n"
     ]
    },
    {
     "name": "stdout",
     "output_type": "stream",
     "text": [
      "Trying for M1B\n"
     ]
    },
    {
     "name": "stderr",
     "output_type": "stream",
     "text": [
      "Status code 401 from http://api.opencagedata.com/geocode/v1/json: ERROR - 401 Client Error: Unauthorized for url: http://api.opencagedata.com/geocode/v1/json?query=M1B%2C+Toronto%2C+Ontario&key=13aa077d21ae42f287ec8607e07b2159&limit=1\n"
     ]
    },
    {
     "name": "stdout",
     "output_type": "stream",
     "text": [
      "Trying for M1B\n"
     ]
    },
    {
     "name": "stderr",
     "output_type": "stream",
     "text": [
      "Status code 401 from http://api.opencagedata.com/geocode/v1/json: ERROR - 401 Client Error: Unauthorized for url: http://api.opencagedata.com/geocode/v1/json?query=M1B%2C+Toronto%2C+Ontario&key=13aa077d21ae42f287ec8607e07b2159&limit=1\n"
     ]
    },
    {
     "name": "stdout",
     "output_type": "stream",
     "text": [
      "Trying for M1B\n"
     ]
    },
    {
     "name": "stderr",
     "output_type": "stream",
     "text": [
      "Status code 401 from http://api.opencagedata.com/geocode/v1/json: ERROR - 401 Client Error: Unauthorized for url: http://api.opencagedata.com/geocode/v1/json?query=M1B%2C+Toronto%2C+Ontario&key=13aa077d21ae42f287ec8607e07b2159&limit=1\n"
     ]
    },
    {
     "name": "stdout",
     "output_type": "stream",
     "text": [
      "Trying for M1B\n"
     ]
    },
    {
     "name": "stderr",
     "output_type": "stream",
     "text": [
      "Status code 401 from http://api.opencagedata.com/geocode/v1/json: ERROR - 401 Client Error: Unauthorized for url: http://api.opencagedata.com/geocode/v1/json?query=M1B%2C+Toronto%2C+Ontario&key=13aa077d21ae42f287ec8607e07b2159&limit=1\n"
     ]
    },
    {
     "name": "stdout",
     "output_type": "stream",
     "text": [
      "Trying for M1B\n"
     ]
    },
    {
     "name": "stderr",
     "output_type": "stream",
     "text": [
      "Status code 401 from http://api.opencagedata.com/geocode/v1/json: ERROR - 401 Client Error: Unauthorized for url: http://api.opencagedata.com/geocode/v1/json?query=M1B%2C+Toronto%2C+Ontario&key=13aa077d21ae42f287ec8607e07b2159&limit=1\n"
     ]
    },
    {
     "name": "stdout",
     "output_type": "stream",
     "text": [
      "Trying for M1B\n"
     ]
    },
    {
     "name": "stderr",
     "output_type": "stream",
     "text": [
      "Status code 401 from http://api.opencagedata.com/geocode/v1/json: ERROR - 401 Client Error: Unauthorized for url: http://api.opencagedata.com/geocode/v1/json?query=M1B%2C+Toronto%2C+Ontario&key=13aa077d21ae42f287ec8607e07b2159&limit=1\n"
     ]
    },
    {
     "name": "stdout",
     "output_type": "stream",
     "text": [
      "Trying for M1B\n"
     ]
    },
    {
     "name": "stderr",
     "output_type": "stream",
     "text": [
      "Status code 401 from http://api.opencagedata.com/geocode/v1/json: ERROR - 401 Client Error: Unauthorized for url: http://api.opencagedata.com/geocode/v1/json?query=M1B%2C+Toronto%2C+Ontario&key=13aa077d21ae42f287ec8607e07b2159&limit=1\n"
     ]
    },
    {
     "name": "stdout",
     "output_type": "stream",
     "text": [
      "Trying for M1B\n"
     ]
    },
    {
     "name": "stderr",
     "output_type": "stream",
     "text": [
      "Status code 401 from http://api.opencagedata.com/geocode/v1/json: ERROR - 401 Client Error: Unauthorized for url: http://api.opencagedata.com/geocode/v1/json?query=M1B%2C+Toronto%2C+Ontario&key=13aa077d21ae42f287ec8607e07b2159&limit=1\n"
     ]
    },
    {
     "name": "stdout",
     "output_type": "stream",
     "text": [
      "Trying for M1B\n"
     ]
    },
    {
     "name": "stderr",
     "output_type": "stream",
     "text": [
      "Status code 401 from http://api.opencagedata.com/geocode/v1/json: ERROR - 401 Client Error: Unauthorized for url: http://api.opencagedata.com/geocode/v1/json?query=M1B%2C+Toronto%2C+Ontario&key=13aa077d21ae42f287ec8607e07b2159&limit=1\n"
     ]
    },
    {
     "name": "stdout",
     "output_type": "stream",
     "text": [
      "Trying for M1B\n"
     ]
    },
    {
     "name": "stderr",
     "output_type": "stream",
     "text": [
      "Status code 401 from http://api.opencagedata.com/geocode/v1/json: ERROR - 401 Client Error: Unauthorized for url: http://api.opencagedata.com/geocode/v1/json?query=M1B%2C+Toronto%2C+Ontario&key=13aa077d21ae42f287ec8607e07b2159&limit=1\n"
     ]
    },
    {
     "name": "stdout",
     "output_type": "stream",
     "text": [
      "Trying for M1B\n"
     ]
    },
    {
     "name": "stderr",
     "output_type": "stream",
     "text": [
      "Status code 401 from http://api.opencagedata.com/geocode/v1/json: ERROR - 401 Client Error: Unauthorized for url: http://api.opencagedata.com/geocode/v1/json?query=M1B%2C+Toronto%2C+Ontario&key=13aa077d21ae42f287ec8607e07b2159&limit=1\n"
     ]
    },
    {
     "name": "stdout",
     "output_type": "stream",
     "text": [
      "Trying for M1B\n"
     ]
    },
    {
     "name": "stderr",
     "output_type": "stream",
     "text": [
      "Status code 401 from http://api.opencagedata.com/geocode/v1/json: ERROR - 401 Client Error: Unauthorized for url: http://api.opencagedata.com/geocode/v1/json?query=M1B%2C+Toronto%2C+Ontario&key=13aa077d21ae42f287ec8607e07b2159&limit=1\n"
     ]
    },
    {
     "name": "stdout",
     "output_type": "stream",
     "text": [
      "Trying for M1B\n"
     ]
    },
    {
     "name": "stderr",
     "output_type": "stream",
     "text": [
      "Status code 401 from http://api.opencagedata.com/geocode/v1/json: ERROR - 401 Client Error: Unauthorized for url: http://api.opencagedata.com/geocode/v1/json?query=M1B%2C+Toronto%2C+Ontario&key=13aa077d21ae42f287ec8607e07b2159&limit=1\n"
     ]
    },
    {
     "name": "stdout",
     "output_type": "stream",
     "text": [
      "Trying for M1B\n"
     ]
    },
    {
     "name": "stderr",
     "output_type": "stream",
     "text": [
      "Status code 401 from http://api.opencagedata.com/geocode/v1/json: ERROR - 401 Client Error: Unauthorized for url: http://api.opencagedata.com/geocode/v1/json?query=M1B%2C+Toronto%2C+Ontario&key=13aa077d21ae42f287ec8607e07b2159&limit=1\n"
     ]
    },
    {
     "name": "stdout",
     "output_type": "stream",
     "text": [
      "Trying for M1B\n"
     ]
    },
    {
     "name": "stderr",
     "output_type": "stream",
     "text": [
      "Status code 401 from http://api.opencagedata.com/geocode/v1/json: ERROR - 401 Client Error: Unauthorized for url: http://api.opencagedata.com/geocode/v1/json?query=M1B%2C+Toronto%2C+Ontario&key=13aa077d21ae42f287ec8607e07b2159&limit=1\n"
     ]
    },
    {
     "name": "stdout",
     "output_type": "stream",
     "text": [
      "Trying for M1B\n"
     ]
    },
    {
     "name": "stderr",
     "output_type": "stream",
     "text": [
      "Status code 401 from http://api.opencagedata.com/geocode/v1/json: ERROR - 401 Client Error: Unauthorized for url: http://api.opencagedata.com/geocode/v1/json?query=M1B%2C+Toronto%2C+Ontario&key=13aa077d21ae42f287ec8607e07b2159&limit=1\n"
     ]
    },
    {
     "name": "stdout",
     "output_type": "stream",
     "text": [
      "Trying for M1B\n"
     ]
    },
    {
     "name": "stderr",
     "output_type": "stream",
     "text": [
      "Status code 401 from http://api.opencagedata.com/geocode/v1/json: ERROR - 401 Client Error: Unauthorized for url: http://api.opencagedata.com/geocode/v1/json?query=M1B%2C+Toronto%2C+Ontario&key=13aa077d21ae42f287ec8607e07b2159&limit=1\n"
     ]
    },
    {
     "name": "stdout",
     "output_type": "stream",
     "text": [
      "Trying for M1B\n"
     ]
    },
    {
     "name": "stderr",
     "output_type": "stream",
     "text": [
      "Status code 401 from http://api.opencagedata.com/geocode/v1/json: ERROR - 401 Client Error: Unauthorized for url: http://api.opencagedata.com/geocode/v1/json?query=M1B%2C+Toronto%2C+Ontario&key=13aa077d21ae42f287ec8607e07b2159&limit=1\n"
     ]
    },
    {
     "name": "stdout",
     "output_type": "stream",
     "text": [
      "Trying for M1B\n"
     ]
    },
    {
     "name": "stderr",
     "output_type": "stream",
     "text": [
      "Status code 401 from http://api.opencagedata.com/geocode/v1/json: ERROR - 401 Client Error: Unauthorized for url: http://api.opencagedata.com/geocode/v1/json?query=M1B%2C+Toronto%2C+Ontario&key=13aa077d21ae42f287ec8607e07b2159&limit=1\n"
     ]
    },
    {
     "name": "stdout",
     "output_type": "stream",
     "text": [
      "Trying for M1B\n"
     ]
    },
    {
     "name": "stderr",
     "output_type": "stream",
     "text": [
      "Status code 401 from http://api.opencagedata.com/geocode/v1/json: ERROR - 401 Client Error: Unauthorized for url: http://api.opencagedata.com/geocode/v1/json?query=M1B%2C+Toronto%2C+Ontario&key=13aa077d21ae42f287ec8607e07b2159&limit=1\n"
     ]
    },
    {
     "name": "stdout",
     "output_type": "stream",
     "text": [
      "Trying for M1B\n"
     ]
    },
    {
     "name": "stderr",
     "output_type": "stream",
     "text": [
      "Status code 401 from http://api.opencagedata.com/geocode/v1/json: ERROR - 401 Client Error: Unauthorized for url: http://api.opencagedata.com/geocode/v1/json?query=M1B%2C+Toronto%2C+Ontario&key=13aa077d21ae42f287ec8607e07b2159&limit=1\n"
     ]
    },
    {
     "name": "stdout",
     "output_type": "stream",
     "text": [
      "Trying for M1B\n"
     ]
    },
    {
     "name": "stderr",
     "output_type": "stream",
     "text": [
      "Status code 401 from http://api.opencagedata.com/geocode/v1/json: ERROR - 401 Client Error: Unauthorized for url: http://api.opencagedata.com/geocode/v1/json?query=M1B%2C+Toronto%2C+Ontario&key=13aa077d21ae42f287ec8607e07b2159&limit=1\n"
     ]
    },
    {
     "name": "stdout",
     "output_type": "stream",
     "text": [
      "Trying for M1B\n"
     ]
    },
    {
     "name": "stderr",
     "output_type": "stream",
     "text": [
      "Status code 401 from http://api.opencagedata.com/geocode/v1/json: ERROR - 401 Client Error: Unauthorized for url: http://api.opencagedata.com/geocode/v1/json?query=M1B%2C+Toronto%2C+Ontario&key=13aa077d21ae42f287ec8607e07b2159&limit=1\n"
     ]
    },
    {
     "name": "stdout",
     "output_type": "stream",
     "text": [
      "Trying for M1B\n"
     ]
    },
    {
     "name": "stderr",
     "output_type": "stream",
     "text": [
      "Status code 401 from http://api.opencagedata.com/geocode/v1/json: ERROR - 401 Client Error: Unauthorized for url: http://api.opencagedata.com/geocode/v1/json?query=M1B%2C+Toronto%2C+Ontario&key=13aa077d21ae42f287ec8607e07b2159&limit=1\n"
     ]
    },
    {
     "name": "stdout",
     "output_type": "stream",
     "text": [
      "Trying for M1B\n"
     ]
    },
    {
     "name": "stderr",
     "output_type": "stream",
     "text": [
      "Status code 401 from http://api.opencagedata.com/geocode/v1/json: ERROR - 401 Client Error: Unauthorized for url: http://api.opencagedata.com/geocode/v1/json?query=M1B%2C+Toronto%2C+Ontario&key=13aa077d21ae42f287ec8607e07b2159&limit=1\n"
     ]
    },
    {
     "name": "stdout",
     "output_type": "stream",
     "text": [
      "Trying for M1B\n"
     ]
    },
    {
     "name": "stderr",
     "output_type": "stream",
     "text": [
      "Status code 401 from http://api.opencagedata.com/geocode/v1/json: ERROR - 401 Client Error: Unauthorized for url: http://api.opencagedata.com/geocode/v1/json?query=M1B%2C+Toronto%2C+Ontario&key=13aa077d21ae42f287ec8607e07b2159&limit=1\n"
     ]
    },
    {
     "name": "stdout",
     "output_type": "stream",
     "text": [
      "Trying for M1B\n"
     ]
    },
    {
     "name": "stderr",
     "output_type": "stream",
     "text": [
      "Status code 401 from http://api.opencagedata.com/geocode/v1/json: ERROR - 401 Client Error: Unauthorized for url: http://api.opencagedata.com/geocode/v1/json?query=M1B%2C+Toronto%2C+Ontario&key=13aa077d21ae42f287ec8607e07b2159&limit=1\n"
     ]
    },
    {
     "name": "stdout",
     "output_type": "stream",
     "text": [
      "Trying for M1B\n"
     ]
    },
    {
     "name": "stderr",
     "output_type": "stream",
     "text": [
      "Status code 401 from http://api.opencagedata.com/geocode/v1/json: ERROR - 401 Client Error: Unauthorized for url: http://api.opencagedata.com/geocode/v1/json?query=M1B%2C+Toronto%2C+Ontario&key=13aa077d21ae42f287ec8607e07b2159&limit=1\n"
     ]
    },
    {
     "name": "stdout",
     "output_type": "stream",
     "text": [
      "Trying for M1B\n"
     ]
    },
    {
     "name": "stderr",
     "output_type": "stream",
     "text": [
      "Status code 401 from http://api.opencagedata.com/geocode/v1/json: ERROR - 401 Client Error: Unauthorized for url: http://api.opencagedata.com/geocode/v1/json?query=M1B%2C+Toronto%2C+Ontario&key=13aa077d21ae42f287ec8607e07b2159&limit=1\n"
     ]
    },
    {
     "name": "stdout",
     "output_type": "stream",
     "text": [
      "Trying for M1B\n"
     ]
    },
    {
     "name": "stderr",
     "output_type": "stream",
     "text": [
      "Status code 401 from http://api.opencagedata.com/geocode/v1/json: ERROR - 401 Client Error: Unauthorized for url: http://api.opencagedata.com/geocode/v1/json?query=M1B%2C+Toronto%2C+Ontario&key=13aa077d21ae42f287ec8607e07b2159&limit=1\n"
     ]
    },
    {
     "name": "stdout",
     "output_type": "stream",
     "text": [
      "Trying for M1B\n"
     ]
    },
    {
     "name": "stderr",
     "output_type": "stream",
     "text": [
      "Status code 401 from http://api.opencagedata.com/geocode/v1/json: ERROR - 401 Client Error: Unauthorized for url: http://api.opencagedata.com/geocode/v1/json?query=M1B%2C+Toronto%2C+Ontario&key=13aa077d21ae42f287ec8607e07b2159&limit=1\n"
     ]
    },
    {
     "name": "stdout",
     "output_type": "stream",
     "text": [
      "Trying for M1B\n"
     ]
    },
    {
     "name": "stderr",
     "output_type": "stream",
     "text": [
      "Status code 401 from http://api.opencagedata.com/geocode/v1/json: ERROR - 401 Client Error: Unauthorized for url: http://api.opencagedata.com/geocode/v1/json?query=M1B%2C+Toronto%2C+Ontario&key=13aa077d21ae42f287ec8607e07b2159&limit=1\n"
     ]
    },
    {
     "name": "stdout",
     "output_type": "stream",
     "text": [
      "Trying for M1B\n"
     ]
    },
    {
     "name": "stderr",
     "output_type": "stream",
     "text": [
      "Status code 401 from http://api.opencagedata.com/geocode/v1/json: ERROR - 401 Client Error: Unauthorized for url: http://api.opencagedata.com/geocode/v1/json?query=M1B%2C+Toronto%2C+Ontario&key=13aa077d21ae42f287ec8607e07b2159&limit=1\n"
     ]
    },
    {
     "name": "stdout",
     "output_type": "stream",
     "text": [
      "Trying for M1B\n"
     ]
    },
    {
     "name": "stderr",
     "output_type": "stream",
     "text": [
      "Status code 401 from http://api.opencagedata.com/geocode/v1/json: ERROR - 401 Client Error: Unauthorized for url: http://api.opencagedata.com/geocode/v1/json?query=M1B%2C+Toronto%2C+Ontario&key=13aa077d21ae42f287ec8607e07b2159&limit=1\n"
     ]
    },
    {
     "name": "stdout",
     "output_type": "stream",
     "text": [
      "Trying for M1B\n"
     ]
    },
    {
     "name": "stderr",
     "output_type": "stream",
     "text": [
      "Status code 401 from http://api.opencagedata.com/geocode/v1/json: ERROR - 401 Client Error: Unauthorized for url: http://api.opencagedata.com/geocode/v1/json?query=M1B%2C+Toronto%2C+Ontario&key=13aa077d21ae42f287ec8607e07b2159&limit=1\n"
     ]
    },
    {
     "name": "stdout",
     "output_type": "stream",
     "text": [
      "Trying for M1B\n"
     ]
    },
    {
     "name": "stderr",
     "output_type": "stream",
     "text": [
      "Status code 401 from http://api.opencagedata.com/geocode/v1/json: ERROR - 401 Client Error: Unauthorized for url: http://api.opencagedata.com/geocode/v1/json?query=M1B%2C+Toronto%2C+Ontario&key=13aa077d21ae42f287ec8607e07b2159&limit=1\n"
     ]
    },
    {
     "name": "stdout",
     "output_type": "stream",
     "text": [
      "Trying for M1B\n"
     ]
    },
    {
     "name": "stderr",
     "output_type": "stream",
     "text": [
      "Status code 401 from http://api.opencagedata.com/geocode/v1/json: ERROR - 401 Client Error: Unauthorized for url: http://api.opencagedata.com/geocode/v1/json?query=M1B%2C+Toronto%2C+Ontario&key=13aa077d21ae42f287ec8607e07b2159&limit=1\n"
     ]
    },
    {
     "name": "stdout",
     "output_type": "stream",
     "text": [
      "Trying for M1B\n"
     ]
    },
    {
     "name": "stderr",
     "output_type": "stream",
     "text": [
      "Status code 401 from http://api.opencagedata.com/geocode/v1/json: ERROR - 401 Client Error: Unauthorized for url: http://api.opencagedata.com/geocode/v1/json?query=M1B%2C+Toronto%2C+Ontario&key=13aa077d21ae42f287ec8607e07b2159&limit=1\n"
     ]
    },
    {
     "name": "stdout",
     "output_type": "stream",
     "text": [
      "Trying for M1B\n"
     ]
    },
    {
     "name": "stderr",
     "output_type": "stream",
     "text": [
      "Status code 401 from http://api.opencagedata.com/geocode/v1/json: ERROR - 401 Client Error: Unauthorized for url: http://api.opencagedata.com/geocode/v1/json?query=M1B%2C+Toronto%2C+Ontario&key=13aa077d21ae42f287ec8607e07b2159&limit=1\n"
     ]
    },
    {
     "name": "stdout",
     "output_type": "stream",
     "text": [
      "Trying for M1B\n"
     ]
    },
    {
     "name": "stderr",
     "output_type": "stream",
     "text": [
      "Status code 401 from http://api.opencagedata.com/geocode/v1/json: ERROR - 401 Client Error: Unauthorized for url: http://api.opencagedata.com/geocode/v1/json?query=M1B%2C+Toronto%2C+Ontario&key=13aa077d21ae42f287ec8607e07b2159&limit=1\n"
     ]
    },
    {
     "name": "stdout",
     "output_type": "stream",
     "text": [
      "Trying for M1B\n"
     ]
    },
    {
     "name": "stderr",
     "output_type": "stream",
     "text": [
      "Status code 401 from http://api.opencagedata.com/geocode/v1/json: ERROR - 401 Client Error: Unauthorized for url: http://api.opencagedata.com/geocode/v1/json?query=M1B%2C+Toronto%2C+Ontario&key=13aa077d21ae42f287ec8607e07b2159&limit=1\n"
     ]
    },
    {
     "name": "stdout",
     "output_type": "stream",
     "text": [
      "Trying for M1B\n"
     ]
    },
    {
     "name": "stderr",
     "output_type": "stream",
     "text": [
      "Status code 401 from http://api.opencagedata.com/geocode/v1/json: ERROR - 401 Client Error: Unauthorized for url: http://api.opencagedata.com/geocode/v1/json?query=M1B%2C+Toronto%2C+Ontario&key=13aa077d21ae42f287ec8607e07b2159&limit=1\n"
     ]
    },
    {
     "name": "stdout",
     "output_type": "stream",
     "text": [
      "Trying for M1B\n"
     ]
    },
    {
     "name": "stderr",
     "output_type": "stream",
     "text": [
      "Status code 401 from http://api.opencagedata.com/geocode/v1/json: ERROR - 401 Client Error: Unauthorized for url: http://api.opencagedata.com/geocode/v1/json?query=M1B%2C+Toronto%2C+Ontario&key=13aa077d21ae42f287ec8607e07b2159&limit=1\n"
     ]
    },
    {
     "name": "stdout",
     "output_type": "stream",
     "text": [
      "Trying for M1B\n"
     ]
    },
    {
     "name": "stderr",
     "output_type": "stream",
     "text": [
      "Status code 401 from http://api.opencagedata.com/geocode/v1/json: ERROR - 401 Client Error: Unauthorized for url: http://api.opencagedata.com/geocode/v1/json?query=M1B%2C+Toronto%2C+Ontario&key=13aa077d21ae42f287ec8607e07b2159&limit=1\n"
     ]
    },
    {
     "name": "stdout",
     "output_type": "stream",
     "text": [
      "Trying for M1B\n"
     ]
    },
    {
     "name": "stderr",
     "output_type": "stream",
     "text": [
      "Status code 401 from http://api.opencagedata.com/geocode/v1/json: ERROR - 401 Client Error: Unauthorized for url: http://api.opencagedata.com/geocode/v1/json?query=M1B%2C+Toronto%2C+Ontario&key=13aa077d21ae42f287ec8607e07b2159&limit=1\n"
     ]
    },
    {
     "name": "stdout",
     "output_type": "stream",
     "text": [
      "Trying for M1B\n"
     ]
    },
    {
     "name": "stderr",
     "output_type": "stream",
     "text": [
      "Status code 401 from http://api.opencagedata.com/geocode/v1/json: ERROR - 401 Client Error: Unauthorized for url: http://api.opencagedata.com/geocode/v1/json?query=M1B%2C+Toronto%2C+Ontario&key=13aa077d21ae42f287ec8607e07b2159&limit=1\n"
     ]
    },
    {
     "name": "stdout",
     "output_type": "stream",
     "text": [
      "Trying for M1B\n"
     ]
    },
    {
     "name": "stderr",
     "output_type": "stream",
     "text": [
      "Status code 401 from http://api.opencagedata.com/geocode/v1/json: ERROR - 401 Client Error: Unauthorized for url: http://api.opencagedata.com/geocode/v1/json?query=M1B%2C+Toronto%2C+Ontario&key=13aa077d21ae42f287ec8607e07b2159&limit=1\n"
     ]
    },
    {
     "name": "stdout",
     "output_type": "stream",
     "text": [
      "Trying for M1B\n"
     ]
    },
    {
     "name": "stderr",
     "output_type": "stream",
     "text": [
      "Status code 401 from http://api.opencagedata.com/geocode/v1/json: ERROR - 401 Client Error: Unauthorized for url: http://api.opencagedata.com/geocode/v1/json?query=M1B%2C+Toronto%2C+Ontario&key=13aa077d21ae42f287ec8607e07b2159&limit=1\n"
     ]
    },
    {
     "name": "stdout",
     "output_type": "stream",
     "text": [
      "Trying for M1B\n"
     ]
    },
    {
     "name": "stderr",
     "output_type": "stream",
     "text": [
      "Status code 401 from http://api.opencagedata.com/geocode/v1/json: ERROR - 401 Client Error: Unauthorized for url: http://api.opencagedata.com/geocode/v1/json?query=M1B%2C+Toronto%2C+Ontario&key=13aa077d21ae42f287ec8607e07b2159&limit=1\n"
     ]
    },
    {
     "name": "stdout",
     "output_type": "stream",
     "text": [
      "Trying for M1B\n"
     ]
    },
    {
     "name": "stderr",
     "output_type": "stream",
     "text": [
      "Status code 401 from http://api.opencagedata.com/geocode/v1/json: ERROR - 401 Client Error: Unauthorized for url: http://api.opencagedata.com/geocode/v1/json?query=M1B%2C+Toronto%2C+Ontario&key=13aa077d21ae42f287ec8607e07b2159&limit=1\n"
     ]
    },
    {
     "name": "stdout",
     "output_type": "stream",
     "text": [
      "Trying for M1B\n"
     ]
    },
    {
     "name": "stderr",
     "output_type": "stream",
     "text": [
      "Status code 401 from http://api.opencagedata.com/geocode/v1/json: ERROR - 401 Client Error: Unauthorized for url: http://api.opencagedata.com/geocode/v1/json?query=M1B%2C+Toronto%2C+Ontario&key=13aa077d21ae42f287ec8607e07b2159&limit=1\n"
     ]
    },
    {
     "name": "stdout",
     "output_type": "stream",
     "text": [
      "Trying for M1B\n"
     ]
    },
    {
     "name": "stderr",
     "output_type": "stream",
     "text": [
      "Status code 401 from http://api.opencagedata.com/geocode/v1/json: ERROR - 401 Client Error: Unauthorized for url: http://api.opencagedata.com/geocode/v1/json?query=M1B%2C+Toronto%2C+Ontario&key=13aa077d21ae42f287ec8607e07b2159&limit=1\n"
     ]
    },
    {
     "name": "stdout",
     "output_type": "stream",
     "text": [
      "Trying for M1B\n"
     ]
    },
    {
     "name": "stderr",
     "output_type": "stream",
     "text": [
      "Status code 401 from http://api.opencagedata.com/geocode/v1/json: ERROR - 401 Client Error: Unauthorized for url: http://api.opencagedata.com/geocode/v1/json?query=M1B%2C+Toronto%2C+Ontario&key=13aa077d21ae42f287ec8607e07b2159&limit=1\n"
     ]
    },
    {
     "name": "stdout",
     "output_type": "stream",
     "text": [
      "Trying for M1B\n"
     ]
    },
    {
     "name": "stderr",
     "output_type": "stream",
     "text": [
      "Status code 401 from http://api.opencagedata.com/geocode/v1/json: ERROR - 401 Client Error: Unauthorized for url: http://api.opencagedata.com/geocode/v1/json?query=M1B%2C+Toronto%2C+Ontario&key=13aa077d21ae42f287ec8607e07b2159&limit=1\n"
     ]
    },
    {
     "name": "stdout",
     "output_type": "stream",
     "text": [
      "Trying for M1B\n"
     ]
    },
    {
     "name": "stderr",
     "output_type": "stream",
     "text": [
      "Status code 401 from http://api.opencagedata.com/geocode/v1/json: ERROR - 401 Client Error: Unauthorized for url: http://api.opencagedata.com/geocode/v1/json?query=M1B%2C+Toronto%2C+Ontario&key=13aa077d21ae42f287ec8607e07b2159&limit=1\n"
     ]
    },
    {
     "name": "stdout",
     "output_type": "stream",
     "text": [
      "Trying for M1B\n"
     ]
    },
    {
     "name": "stderr",
     "output_type": "stream",
     "text": [
      "Status code 401 from http://api.opencagedata.com/geocode/v1/json: ERROR - 401 Client Error: Unauthorized for url: http://api.opencagedata.com/geocode/v1/json?query=M1B%2C+Toronto%2C+Ontario&key=13aa077d21ae42f287ec8607e07b2159&limit=1\n"
     ]
    },
    {
     "name": "stdout",
     "output_type": "stream",
     "text": [
      "Trying for M1B\n"
     ]
    },
    {
     "name": "stderr",
     "output_type": "stream",
     "text": [
      "Status code 401 from http://api.opencagedata.com/geocode/v1/json: ERROR - 401 Client Error: Unauthorized for url: http://api.opencagedata.com/geocode/v1/json?query=M1B%2C+Toronto%2C+Ontario&key=13aa077d21ae42f287ec8607e07b2159&limit=1\n"
     ]
    },
    {
     "name": "stdout",
     "output_type": "stream",
     "text": [
      "Trying for M1B\n"
     ]
    },
    {
     "name": "stderr",
     "output_type": "stream",
     "text": [
      "Status code 401 from http://api.opencagedata.com/geocode/v1/json: ERROR - 401 Client Error: Unauthorized for url: http://api.opencagedata.com/geocode/v1/json?query=M1B%2C+Toronto%2C+Ontario&key=13aa077d21ae42f287ec8607e07b2159&limit=1\n"
     ]
    },
    {
     "name": "stdout",
     "output_type": "stream",
     "text": [
      "Trying for M1B\n"
     ]
    },
    {
     "name": "stderr",
     "output_type": "stream",
     "text": [
      "Status code 401 from http://api.opencagedata.com/geocode/v1/json: ERROR - 401 Client Error: Unauthorized for url: http://api.opencagedata.com/geocode/v1/json?query=M1B%2C+Toronto%2C+Ontario&key=13aa077d21ae42f287ec8607e07b2159&limit=1\n"
     ]
    },
    {
     "name": "stdout",
     "output_type": "stream",
     "text": [
      "Trying for M1B\n"
     ]
    },
    {
     "name": "stderr",
     "output_type": "stream",
     "text": [
      "Status code 401 from http://api.opencagedata.com/geocode/v1/json: ERROR - 401 Client Error: Unauthorized for url: http://api.opencagedata.com/geocode/v1/json?query=M1B%2C+Toronto%2C+Ontario&key=13aa077d21ae42f287ec8607e07b2159&limit=1\n"
     ]
    },
    {
     "name": "stdout",
     "output_type": "stream",
     "text": [
      "Trying for M1B\n"
     ]
    },
    {
     "name": "stderr",
     "output_type": "stream",
     "text": [
      "Status code 401 from http://api.opencagedata.com/geocode/v1/json: ERROR - 401 Client Error: Unauthorized for url: http://api.opencagedata.com/geocode/v1/json?query=M1B%2C+Toronto%2C+Ontario&key=13aa077d21ae42f287ec8607e07b2159&limit=1\n"
     ]
    },
    {
     "name": "stdout",
     "output_type": "stream",
     "text": [
      "Trying for M1B\n"
     ]
    },
    {
     "name": "stderr",
     "output_type": "stream",
     "text": [
      "Status code 401 from http://api.opencagedata.com/geocode/v1/json: ERROR - 401 Client Error: Unauthorized for url: http://api.opencagedata.com/geocode/v1/json?query=M1B%2C+Toronto%2C+Ontario&key=13aa077d21ae42f287ec8607e07b2159&limit=1\n"
     ]
    },
    {
     "name": "stdout",
     "output_type": "stream",
     "text": [
      "Trying for M1B\n"
     ]
    },
    {
     "name": "stderr",
     "output_type": "stream",
     "text": [
      "Status code 401 from http://api.opencagedata.com/geocode/v1/json: ERROR - 401 Client Error: Unauthorized for url: http://api.opencagedata.com/geocode/v1/json?query=M1B%2C+Toronto%2C+Ontario&key=13aa077d21ae42f287ec8607e07b2159&limit=1\n"
     ]
    },
    {
     "name": "stdout",
     "output_type": "stream",
     "text": [
      "Trying for M1B\n"
     ]
    },
    {
     "name": "stderr",
     "output_type": "stream",
     "text": [
      "Status code 401 from http://api.opencagedata.com/geocode/v1/json: ERROR - 401 Client Error: Unauthorized for url: http://api.opencagedata.com/geocode/v1/json?query=M1B%2C+Toronto%2C+Ontario&key=13aa077d21ae42f287ec8607e07b2159&limit=1\n"
     ]
    },
    {
     "name": "stdout",
     "output_type": "stream",
     "text": [
      "Trying for M1B\n"
     ]
    },
    {
     "name": "stderr",
     "output_type": "stream",
     "text": [
      "Status code 401 from http://api.opencagedata.com/geocode/v1/json: ERROR - 401 Client Error: Unauthorized for url: http://api.opencagedata.com/geocode/v1/json?query=M1B%2C+Toronto%2C+Ontario&key=13aa077d21ae42f287ec8607e07b2159&limit=1\n"
     ]
    },
    {
     "name": "stdout",
     "output_type": "stream",
     "text": [
      "Trying for M1B\n"
     ]
    },
    {
     "name": "stderr",
     "output_type": "stream",
     "text": [
      "Status code 401 from http://api.opencagedata.com/geocode/v1/json: ERROR - 401 Client Error: Unauthorized for url: http://api.opencagedata.com/geocode/v1/json?query=M1B%2C+Toronto%2C+Ontario&key=13aa077d21ae42f287ec8607e07b2159&limit=1\n"
     ]
    },
    {
     "name": "stdout",
     "output_type": "stream",
     "text": [
      "Trying for M1B\n"
     ]
    },
    {
     "name": "stderr",
     "output_type": "stream",
     "text": [
      "Status code 401 from http://api.opencagedata.com/geocode/v1/json: ERROR - 401 Client Error: Unauthorized for url: http://api.opencagedata.com/geocode/v1/json?query=M1B%2C+Toronto%2C+Ontario&key=13aa077d21ae42f287ec8607e07b2159&limit=1\n"
     ]
    },
    {
     "name": "stdout",
     "output_type": "stream",
     "text": [
      "Trying for M1B\n"
     ]
    },
    {
     "name": "stderr",
     "output_type": "stream",
     "text": [
      "Status code 401 from http://api.opencagedata.com/geocode/v1/json: ERROR - 401 Client Error: Unauthorized for url: http://api.opencagedata.com/geocode/v1/json?query=M1B%2C+Toronto%2C+Ontario&key=13aa077d21ae42f287ec8607e07b2159&limit=1\n"
     ]
    },
    {
     "name": "stdout",
     "output_type": "stream",
     "text": [
      "Trying for M1B\n"
     ]
    },
    {
     "name": "stderr",
     "output_type": "stream",
     "text": [
      "Status code 401 from http://api.opencagedata.com/geocode/v1/json: ERROR - 401 Client Error: Unauthorized for url: http://api.opencagedata.com/geocode/v1/json?query=M1B%2C+Toronto%2C+Ontario&key=13aa077d21ae42f287ec8607e07b2159&limit=1\n"
     ]
    },
    {
     "name": "stdout",
     "output_type": "stream",
     "text": [
      "Trying for M1B\n"
     ]
    },
    {
     "name": "stderr",
     "output_type": "stream",
     "text": [
      "Status code 401 from http://api.opencagedata.com/geocode/v1/json: ERROR - 401 Client Error: Unauthorized for url: http://api.opencagedata.com/geocode/v1/json?query=M1B%2C+Toronto%2C+Ontario&key=13aa077d21ae42f287ec8607e07b2159&limit=1\n"
     ]
    },
    {
     "name": "stdout",
     "output_type": "stream",
     "text": [
      "Trying for M1B\n"
     ]
    },
    {
     "name": "stderr",
     "output_type": "stream",
     "text": [
      "Status code 401 from http://api.opencagedata.com/geocode/v1/json: ERROR - 401 Client Error: Unauthorized for url: http://api.opencagedata.com/geocode/v1/json?query=M1B%2C+Toronto%2C+Ontario&key=13aa077d21ae42f287ec8607e07b2159&limit=1\n"
     ]
    },
    {
     "name": "stdout",
     "output_type": "stream",
     "text": [
      "Trying for M1B\n"
     ]
    },
    {
     "name": "stderr",
     "output_type": "stream",
     "text": [
      "Status code 401 from http://api.opencagedata.com/geocode/v1/json: ERROR - 401 Client Error: Unauthorized for url: http://api.opencagedata.com/geocode/v1/json?query=M1B%2C+Toronto%2C+Ontario&key=13aa077d21ae42f287ec8607e07b2159&limit=1\n"
     ]
    },
    {
     "name": "stdout",
     "output_type": "stream",
     "text": [
      "Trying for M1B\n"
     ]
    },
    {
     "name": "stderr",
     "output_type": "stream",
     "text": [
      "Status code 401 from http://api.opencagedata.com/geocode/v1/json: ERROR - 401 Client Error: Unauthorized for url: http://api.opencagedata.com/geocode/v1/json?query=M1B%2C+Toronto%2C+Ontario&key=13aa077d21ae42f287ec8607e07b2159&limit=1\n"
     ]
    },
    {
     "name": "stdout",
     "output_type": "stream",
     "text": [
      "Trying for M1B\n"
     ]
    },
    {
     "name": "stderr",
     "output_type": "stream",
     "text": [
      "Status code 401 from http://api.opencagedata.com/geocode/v1/json: ERROR - 401 Client Error: Unauthorized for url: http://api.opencagedata.com/geocode/v1/json?query=M1B%2C+Toronto%2C+Ontario&key=13aa077d21ae42f287ec8607e07b2159&limit=1\n"
     ]
    },
    {
     "name": "stdout",
     "output_type": "stream",
     "text": [
      "Trying for M1B\n"
     ]
    },
    {
     "name": "stderr",
     "output_type": "stream",
     "text": [
      "Status code 401 from http://api.opencagedata.com/geocode/v1/json: ERROR - 401 Client Error: Unauthorized for url: http://api.opencagedata.com/geocode/v1/json?query=M1B%2C+Toronto%2C+Ontario&key=13aa077d21ae42f287ec8607e07b2159&limit=1\n"
     ]
    },
    {
     "name": "stdout",
     "output_type": "stream",
     "text": [
      "Trying for M1B\n"
     ]
    },
    {
     "name": "stderr",
     "output_type": "stream",
     "text": [
      "Status code 401 from http://api.opencagedata.com/geocode/v1/json: ERROR - 401 Client Error: Unauthorized for url: http://api.opencagedata.com/geocode/v1/json?query=M1B%2C+Toronto%2C+Ontario&key=13aa077d21ae42f287ec8607e07b2159&limit=1\n"
     ]
    },
    {
     "name": "stdout",
     "output_type": "stream",
     "text": [
      "Trying for M1B\n"
     ]
    },
    {
     "name": "stderr",
     "output_type": "stream",
     "text": [
      "Status code 401 from http://api.opencagedata.com/geocode/v1/json: ERROR - 401 Client Error: Unauthorized for url: http://api.opencagedata.com/geocode/v1/json?query=M1B%2C+Toronto%2C+Ontario&key=13aa077d21ae42f287ec8607e07b2159&limit=1\n"
     ]
    },
    {
     "name": "stdout",
     "output_type": "stream",
     "text": [
      "Trying for M1B\n"
     ]
    },
    {
     "name": "stderr",
     "output_type": "stream",
     "text": [
      "Status code 401 from http://api.opencagedata.com/geocode/v1/json: ERROR - 401 Client Error: Unauthorized for url: http://api.opencagedata.com/geocode/v1/json?query=M1B%2C+Toronto%2C+Ontario&key=13aa077d21ae42f287ec8607e07b2159&limit=1\n"
     ]
    },
    {
     "name": "stdout",
     "output_type": "stream",
     "text": [
      "Trying for M1B\n"
     ]
    },
    {
     "name": "stderr",
     "output_type": "stream",
     "text": [
      "Status code 401 from http://api.opencagedata.com/geocode/v1/json: ERROR - 401 Client Error: Unauthorized for url: http://api.opencagedata.com/geocode/v1/json?query=M1B%2C+Toronto%2C+Ontario&key=13aa077d21ae42f287ec8607e07b2159&limit=1\n"
     ]
    },
    {
     "name": "stdout",
     "output_type": "stream",
     "text": [
      "Trying for M1B\n"
     ]
    },
    {
     "name": "stderr",
     "output_type": "stream",
     "text": [
      "Status code 401 from http://api.opencagedata.com/geocode/v1/json: ERROR - 401 Client Error: Unauthorized for url: http://api.opencagedata.com/geocode/v1/json?query=M1B%2C+Toronto%2C+Ontario&key=13aa077d21ae42f287ec8607e07b2159&limit=1\n"
     ]
    },
    {
     "name": "stdout",
     "output_type": "stream",
     "text": [
      "Trying for M1B\n",
      "M1B, done\n",
      "M6H, Toronto, Ontario\n",
      "Trying for M6H\n"
     ]
    },
    {
     "name": "stderr",
     "output_type": "stream",
     "text": [
      "Status code 401 from http://api.opencagedata.com/geocode/v1/json: ERROR - 401 Client Error: Unauthorized for url: http://api.opencagedata.com/geocode/v1/json?query=M6H%2C+Toronto%2C+Ontario&key=13aa077d21ae42f287ec8607e07b2159&limit=1\n"
     ]
    },
    {
     "name": "stdout",
     "output_type": "stream",
     "text": [
      "Trying for M6H\n"
     ]
    },
    {
     "name": "stderr",
     "output_type": "stream",
     "text": [
      "Status code 401 from http://api.opencagedata.com/geocode/v1/json: ERROR - 401 Client Error: Unauthorized for url: http://api.opencagedata.com/geocode/v1/json?query=M6H%2C+Toronto%2C+Ontario&key=13aa077d21ae42f287ec8607e07b2159&limit=1\n"
     ]
    },
    {
     "name": "stdout",
     "output_type": "stream",
     "text": [
      "Trying for M6H\n"
     ]
    },
    {
     "name": "stderr",
     "output_type": "stream",
     "text": [
      "Status code 401 from http://api.opencagedata.com/geocode/v1/json: ERROR - 401 Client Error: Unauthorized for url: http://api.opencagedata.com/geocode/v1/json?query=M6H%2C+Toronto%2C+Ontario&key=13aa077d21ae42f287ec8607e07b2159&limit=1\n"
     ]
    },
    {
     "name": "stdout",
     "output_type": "stream",
     "text": [
      "Trying for M6H\n"
     ]
    },
    {
     "name": "stderr",
     "output_type": "stream",
     "text": [
      "Status code 401 from http://api.opencagedata.com/geocode/v1/json: ERROR - 401 Client Error: Unauthorized for url: http://api.opencagedata.com/geocode/v1/json?query=M6H%2C+Toronto%2C+Ontario&key=13aa077d21ae42f287ec8607e07b2159&limit=1\n"
     ]
    },
    {
     "name": "stdout",
     "output_type": "stream",
     "text": [
      "Trying for M6H\n"
     ]
    },
    {
     "name": "stderr",
     "output_type": "stream",
     "text": [
      "Status code 401 from http://api.opencagedata.com/geocode/v1/json: ERROR - 401 Client Error: Unauthorized for url: http://api.opencagedata.com/geocode/v1/json?query=M6H%2C+Toronto%2C+Ontario&key=13aa077d21ae42f287ec8607e07b2159&limit=1\n"
     ]
    },
    {
     "name": "stdout",
     "output_type": "stream",
     "text": [
      "Trying for M6H\n"
     ]
    },
    {
     "name": "stderr",
     "output_type": "stream",
     "text": [
      "Status code 401 from http://api.opencagedata.com/geocode/v1/json: ERROR - 401 Client Error: Unauthorized for url: http://api.opencagedata.com/geocode/v1/json?query=M6H%2C+Toronto%2C+Ontario&key=13aa077d21ae42f287ec8607e07b2159&limit=1\n"
     ]
    },
    {
     "name": "stdout",
     "output_type": "stream",
     "text": [
      "Trying for M6H\n"
     ]
    },
    {
     "name": "stderr",
     "output_type": "stream",
     "text": [
      "Status code 401 from http://api.opencagedata.com/geocode/v1/json: ERROR - 401 Client Error: Unauthorized for url: http://api.opencagedata.com/geocode/v1/json?query=M6H%2C+Toronto%2C+Ontario&key=13aa077d21ae42f287ec8607e07b2159&limit=1\n"
     ]
    },
    {
     "name": "stdout",
     "output_type": "stream",
     "text": [
      "Trying for M6H\n"
     ]
    },
    {
     "name": "stderr",
     "output_type": "stream",
     "text": [
      "Status code 401 from http://api.opencagedata.com/geocode/v1/json: ERROR - 401 Client Error: Unauthorized for url: http://api.opencagedata.com/geocode/v1/json?query=M6H%2C+Toronto%2C+Ontario&key=13aa077d21ae42f287ec8607e07b2159&limit=1\n"
     ]
    },
    {
     "name": "stdout",
     "output_type": "stream",
     "text": [
      "Trying for M6H\n"
     ]
    },
    {
     "name": "stderr",
     "output_type": "stream",
     "text": [
      "Status code 401 from http://api.opencagedata.com/geocode/v1/json: ERROR - 401 Client Error: Unauthorized for url: http://api.opencagedata.com/geocode/v1/json?query=M6H%2C+Toronto%2C+Ontario&key=13aa077d21ae42f287ec8607e07b2159&limit=1\n"
     ]
    },
    {
     "name": "stdout",
     "output_type": "stream",
     "text": [
      "Trying for M6H\n"
     ]
    },
    {
     "name": "stderr",
     "output_type": "stream",
     "text": [
      "Status code 401 from http://api.opencagedata.com/geocode/v1/json: ERROR - 401 Client Error: Unauthorized for url: http://api.opencagedata.com/geocode/v1/json?query=M6H%2C+Toronto%2C+Ontario&key=13aa077d21ae42f287ec8607e07b2159&limit=1\n"
     ]
    },
    {
     "name": "stdout",
     "output_type": "stream",
     "text": [
      "Trying for M6H\n",
      "M6H, done\n",
      "M6C, Toronto, Ontario\n",
      "Trying for M6C\n"
     ]
    },
    {
     "name": "stderr",
     "output_type": "stream",
     "text": [
      "Status code 401 from http://api.opencagedata.com/geocode/v1/json: ERROR - 401 Client Error: Unauthorized for url: http://api.opencagedata.com/geocode/v1/json?query=M6C%2C+Toronto%2C+Ontario&key=13aa077d21ae42f287ec8607e07b2159&limit=1\n"
     ]
    },
    {
     "name": "stdout",
     "output_type": "stream",
     "text": [
      "Trying for M6C\n"
     ]
    },
    {
     "name": "stderr",
     "output_type": "stream",
     "text": [
      "Status code 401 from http://api.opencagedata.com/geocode/v1/json: ERROR - 401 Client Error: Unauthorized for url: http://api.opencagedata.com/geocode/v1/json?query=M6C%2C+Toronto%2C+Ontario&key=13aa077d21ae42f287ec8607e07b2159&limit=1\n"
     ]
    },
    {
     "name": "stdout",
     "output_type": "stream",
     "text": [
      "Trying for M6C\n"
     ]
    },
    {
     "name": "stderr",
     "output_type": "stream",
     "text": [
      "Status code 401 from http://api.opencagedata.com/geocode/v1/json: ERROR - 401 Client Error: Unauthorized for url: http://api.opencagedata.com/geocode/v1/json?query=M6C%2C+Toronto%2C+Ontario&key=13aa077d21ae42f287ec8607e07b2159&limit=1\n"
     ]
    },
    {
     "name": "stdout",
     "output_type": "stream",
     "text": [
      "Trying for M6C\n"
     ]
    },
    {
     "name": "stderr",
     "output_type": "stream",
     "text": [
      "Status code 401 from http://api.opencagedata.com/geocode/v1/json: ERROR - 401 Client Error: Unauthorized for url: http://api.opencagedata.com/geocode/v1/json?query=M6C%2C+Toronto%2C+Ontario&key=13aa077d21ae42f287ec8607e07b2159&limit=1\n"
     ]
    },
    {
     "name": "stdout",
     "output_type": "stream",
     "text": [
      "Trying for M6C\n"
     ]
    },
    {
     "name": "stderr",
     "output_type": "stream",
     "text": [
      "Status code 401 from http://api.opencagedata.com/geocode/v1/json: ERROR - 401 Client Error: Unauthorized for url: http://api.opencagedata.com/geocode/v1/json?query=M6C%2C+Toronto%2C+Ontario&key=13aa077d21ae42f287ec8607e07b2159&limit=1\n"
     ]
    },
    {
     "name": "stdout",
     "output_type": "stream",
     "text": [
      "Trying for M6C\n"
     ]
    },
    {
     "name": "stderr",
     "output_type": "stream",
     "text": [
      "Status code 401 from http://api.opencagedata.com/geocode/v1/json: ERROR - 401 Client Error: Unauthorized for url: http://api.opencagedata.com/geocode/v1/json?query=M6C%2C+Toronto%2C+Ontario&key=13aa077d21ae42f287ec8607e07b2159&limit=1\n"
     ]
    },
    {
     "name": "stdout",
     "output_type": "stream",
     "text": [
      "Trying for M6C\n"
     ]
    },
    {
     "name": "stderr",
     "output_type": "stream",
     "text": [
      "Status code 401 from http://api.opencagedata.com/geocode/v1/json: ERROR - 401 Client Error: Unauthorized for url: http://api.opencagedata.com/geocode/v1/json?query=M6C%2C+Toronto%2C+Ontario&key=13aa077d21ae42f287ec8607e07b2159&limit=1\n"
     ]
    },
    {
     "name": "stdout",
     "output_type": "stream",
     "text": [
      "Trying for M6C\n"
     ]
    },
    {
     "name": "stderr",
     "output_type": "stream",
     "text": [
      "Status code 401 from http://api.opencagedata.com/geocode/v1/json: ERROR - 401 Client Error: Unauthorized for url: http://api.opencagedata.com/geocode/v1/json?query=M6C%2C+Toronto%2C+Ontario&key=13aa077d21ae42f287ec8607e07b2159&limit=1\n"
     ]
    },
    {
     "name": "stdout",
     "output_type": "stream",
     "text": [
      "Trying for M6C\n"
     ]
    },
    {
     "name": "stderr",
     "output_type": "stream",
     "text": [
      "Status code 401 from http://api.opencagedata.com/geocode/v1/json: ERROR - 401 Client Error: Unauthorized for url: http://api.opencagedata.com/geocode/v1/json?query=M6C%2C+Toronto%2C+Ontario&key=13aa077d21ae42f287ec8607e07b2159&limit=1\n"
     ]
    },
    {
     "name": "stdout",
     "output_type": "stream",
     "text": [
      "Trying for M6C\n"
     ]
    },
    {
     "name": "stderr",
     "output_type": "stream",
     "text": [
      "Status code 401 from http://api.opencagedata.com/geocode/v1/json: ERROR - 401 Client Error: Unauthorized for url: http://api.opencagedata.com/geocode/v1/json?query=M6C%2C+Toronto%2C+Ontario&key=13aa077d21ae42f287ec8607e07b2159&limit=1\n"
     ]
    },
    {
     "name": "stdout",
     "output_type": "stream",
     "text": [
      "Trying for M6C\n"
     ]
    },
    {
     "name": "stderr",
     "output_type": "stream",
     "text": [
      "Status code 401 from http://api.opencagedata.com/geocode/v1/json: ERROR - 401 Client Error: Unauthorized for url: http://api.opencagedata.com/geocode/v1/json?query=M6C%2C+Toronto%2C+Ontario&key=13aa077d21ae42f287ec8607e07b2159&limit=1\n"
     ]
    },
    {
     "name": "stdout",
     "output_type": "stream",
     "text": [
      "Trying for M6C\n"
     ]
    },
    {
     "name": "stderr",
     "output_type": "stream",
     "text": [
      "Status code 401 from http://api.opencagedata.com/geocode/v1/json: ERROR - 401 Client Error: Unauthorized for url: http://api.opencagedata.com/geocode/v1/json?query=M6C%2C+Toronto%2C+Ontario&key=13aa077d21ae42f287ec8607e07b2159&limit=1\n"
     ]
    },
    {
     "name": "stdout",
     "output_type": "stream",
     "text": [
      "Trying for M6C\n"
     ]
    },
    {
     "name": "stderr",
     "output_type": "stream",
     "text": [
      "Status code 401 from http://api.opencagedata.com/geocode/v1/json: ERROR - 401 Client Error: Unauthorized for url: http://api.opencagedata.com/geocode/v1/json?query=M6C%2C+Toronto%2C+Ontario&key=13aa077d21ae42f287ec8607e07b2159&limit=1\n"
     ]
    },
    {
     "name": "stdout",
     "output_type": "stream",
     "text": [
      "Trying for M6C\n"
     ]
    },
    {
     "name": "stderr",
     "output_type": "stream",
     "text": [
      "Status code 401 from http://api.opencagedata.com/geocode/v1/json: ERROR - 401 Client Error: Unauthorized for url: http://api.opencagedata.com/geocode/v1/json?query=M6C%2C+Toronto%2C+Ontario&key=13aa077d21ae42f287ec8607e07b2159&limit=1\n"
     ]
    },
    {
     "name": "stdout",
     "output_type": "stream",
     "text": [
      "Trying for M6C\n"
     ]
    },
    {
     "name": "stderr",
     "output_type": "stream",
     "text": [
      "Status code 401 from http://api.opencagedata.com/geocode/v1/json: ERROR - 401 Client Error: Unauthorized for url: http://api.opencagedata.com/geocode/v1/json?query=M6C%2C+Toronto%2C+Ontario&key=13aa077d21ae42f287ec8607e07b2159&limit=1\n"
     ]
    },
    {
     "name": "stdout",
     "output_type": "stream",
     "text": [
      "Trying for M6C\n"
     ]
    },
    {
     "name": "stderr",
     "output_type": "stream",
     "text": [
      "Status code 401 from http://api.opencagedata.com/geocode/v1/json: ERROR - 401 Client Error: Unauthorized for url: http://api.opencagedata.com/geocode/v1/json?query=M6C%2C+Toronto%2C+Ontario&key=13aa077d21ae42f287ec8607e07b2159&limit=1\n"
     ]
    },
    {
     "name": "stdout",
     "output_type": "stream",
     "text": [
      "Trying for M6C\n"
     ]
    },
    {
     "name": "stderr",
     "output_type": "stream",
     "text": [
      "Status code 401 from http://api.opencagedata.com/geocode/v1/json: ERROR - 401 Client Error: Unauthorized for url: http://api.opencagedata.com/geocode/v1/json?query=M6C%2C+Toronto%2C+Ontario&key=13aa077d21ae42f287ec8607e07b2159&limit=1\n"
     ]
    },
    {
     "name": "stdout",
     "output_type": "stream",
     "text": [
      "Trying for M6C\n"
     ]
    },
    {
     "name": "stderr",
     "output_type": "stream",
     "text": [
      "Status code 401 from http://api.opencagedata.com/geocode/v1/json: ERROR - 401 Client Error: Unauthorized for url: http://api.opencagedata.com/geocode/v1/json?query=M6C%2C+Toronto%2C+Ontario&key=13aa077d21ae42f287ec8607e07b2159&limit=1\n"
     ]
    },
    {
     "name": "stdout",
     "output_type": "stream",
     "text": [
      "Trying for M6C\n"
     ]
    },
    {
     "name": "stderr",
     "output_type": "stream",
     "text": [
      "Status code 401 from http://api.opencagedata.com/geocode/v1/json: ERROR - 401 Client Error: Unauthorized for url: http://api.opencagedata.com/geocode/v1/json?query=M6C%2C+Toronto%2C+Ontario&key=13aa077d21ae42f287ec8607e07b2159&limit=1\n"
     ]
    },
    {
     "name": "stdout",
     "output_type": "stream",
     "text": [
      "Trying for M6C\n"
     ]
    },
    {
     "name": "stderr",
     "output_type": "stream",
     "text": [
      "Status code 401 from http://api.opencagedata.com/geocode/v1/json: ERROR - 401 Client Error: Unauthorized for url: http://api.opencagedata.com/geocode/v1/json?query=M6C%2C+Toronto%2C+Ontario&key=13aa077d21ae42f287ec8607e07b2159&limit=1\n"
     ]
    },
    {
     "name": "stdout",
     "output_type": "stream",
     "text": [
      "Trying for M6C\n"
     ]
    },
    {
     "name": "stderr",
     "output_type": "stream",
     "text": [
      "Status code 401 from http://api.opencagedata.com/geocode/v1/json: ERROR - 401 Client Error: Unauthorized for url: http://api.opencagedata.com/geocode/v1/json?query=M6C%2C+Toronto%2C+Ontario&key=13aa077d21ae42f287ec8607e07b2159&limit=1\n"
     ]
    },
    {
     "name": "stdout",
     "output_type": "stream",
     "text": [
      "Trying for M6C\n"
     ]
    },
    {
     "name": "stderr",
     "output_type": "stream",
     "text": [
      "Status code 401 from http://api.opencagedata.com/geocode/v1/json: ERROR - 401 Client Error: Unauthorized for url: http://api.opencagedata.com/geocode/v1/json?query=M6C%2C+Toronto%2C+Ontario&key=13aa077d21ae42f287ec8607e07b2159&limit=1\n"
     ]
    },
    {
     "name": "stdout",
     "output_type": "stream",
     "text": [
      "Trying for M6C\n"
     ]
    },
    {
     "name": "stderr",
     "output_type": "stream",
     "text": [
      "Status code 401 from http://api.opencagedata.com/geocode/v1/json: ERROR - 401 Client Error: Unauthorized for url: http://api.opencagedata.com/geocode/v1/json?query=M6C%2C+Toronto%2C+Ontario&key=13aa077d21ae42f287ec8607e07b2159&limit=1\n"
     ]
    },
    {
     "name": "stdout",
     "output_type": "stream",
     "text": [
      "Trying for M6C\n"
     ]
    },
    {
     "name": "stderr",
     "output_type": "stream",
     "text": [
      "Status code 401 from http://api.opencagedata.com/geocode/v1/json: ERROR - 401 Client Error: Unauthorized for url: http://api.opencagedata.com/geocode/v1/json?query=M6C%2C+Toronto%2C+Ontario&key=13aa077d21ae42f287ec8607e07b2159&limit=1\n"
     ]
    },
    {
     "name": "stdout",
     "output_type": "stream",
     "text": [
      "Trying for M6C\n"
     ]
    },
    {
     "name": "stderr",
     "output_type": "stream",
     "text": [
      "Status code 401 from http://api.opencagedata.com/geocode/v1/json: ERROR - 401 Client Error: Unauthorized for url: http://api.opencagedata.com/geocode/v1/json?query=M6C%2C+Toronto%2C+Ontario&key=13aa077d21ae42f287ec8607e07b2159&limit=1\n"
     ]
    },
    {
     "name": "stdout",
     "output_type": "stream",
     "text": [
      "Trying for M6C\n"
     ]
    },
    {
     "name": "stderr",
     "output_type": "stream",
     "text": [
      "Status code 401 from http://api.opencagedata.com/geocode/v1/json: ERROR - 401 Client Error: Unauthorized for url: http://api.opencagedata.com/geocode/v1/json?query=M6C%2C+Toronto%2C+Ontario&key=13aa077d21ae42f287ec8607e07b2159&limit=1\n"
     ]
    },
    {
     "name": "stdout",
     "output_type": "stream",
     "text": [
      "Trying for M6C\n"
     ]
    },
    {
     "name": "stderr",
     "output_type": "stream",
     "text": [
      "Status code 401 from http://api.opencagedata.com/geocode/v1/json: ERROR - 401 Client Error: Unauthorized for url: http://api.opencagedata.com/geocode/v1/json?query=M6C%2C+Toronto%2C+Ontario&key=13aa077d21ae42f287ec8607e07b2159&limit=1\n"
     ]
    },
    {
     "name": "stdout",
     "output_type": "stream",
     "text": [
      "Trying for M6C\n"
     ]
    },
    {
     "name": "stderr",
     "output_type": "stream",
     "text": [
      "Status code 401 from http://api.opencagedata.com/geocode/v1/json: ERROR - 401 Client Error: Unauthorized for url: http://api.opencagedata.com/geocode/v1/json?query=M6C%2C+Toronto%2C+Ontario&key=13aa077d21ae42f287ec8607e07b2159&limit=1\n"
     ]
    },
    {
     "name": "stdout",
     "output_type": "stream",
     "text": [
      "Trying for M6C\n"
     ]
    },
    {
     "name": "stderr",
     "output_type": "stream",
     "text": [
      "Status code 401 from http://api.opencagedata.com/geocode/v1/json: ERROR - 401 Client Error: Unauthorized for url: http://api.opencagedata.com/geocode/v1/json?query=M6C%2C+Toronto%2C+Ontario&key=13aa077d21ae42f287ec8607e07b2159&limit=1\n"
     ]
    },
    {
     "name": "stdout",
     "output_type": "stream",
     "text": [
      "Trying for M6C\n"
     ]
    },
    {
     "name": "stderr",
     "output_type": "stream",
     "text": [
      "Status code 401 from http://api.opencagedata.com/geocode/v1/json: ERROR - 401 Client Error: Unauthorized for url: http://api.opencagedata.com/geocode/v1/json?query=M6C%2C+Toronto%2C+Ontario&key=13aa077d21ae42f287ec8607e07b2159&limit=1\n"
     ]
    },
    {
     "name": "stdout",
     "output_type": "stream",
     "text": [
      "Trying for M6C\n"
     ]
    },
    {
     "name": "stderr",
     "output_type": "stream",
     "text": [
      "Status code 401 from http://api.opencagedata.com/geocode/v1/json: ERROR - 401 Client Error: Unauthorized for url: http://api.opencagedata.com/geocode/v1/json?query=M6C%2C+Toronto%2C+Ontario&key=13aa077d21ae42f287ec8607e07b2159&limit=1\n"
     ]
    },
    {
     "name": "stdout",
     "output_type": "stream",
     "text": [
      "Trying for M6C\n"
     ]
    },
    {
     "name": "stderr",
     "output_type": "stream",
     "text": [
      "Status code 401 from http://api.opencagedata.com/geocode/v1/json: ERROR - 401 Client Error: Unauthorized for url: http://api.opencagedata.com/geocode/v1/json?query=M6C%2C+Toronto%2C+Ontario&key=13aa077d21ae42f287ec8607e07b2159&limit=1\n"
     ]
    },
    {
     "name": "stdout",
     "output_type": "stream",
     "text": [
      "Trying for M6C\n"
     ]
    },
    {
     "name": "stderr",
     "output_type": "stream",
     "text": [
      "Status code 401 from http://api.opencagedata.com/geocode/v1/json: ERROR - 401 Client Error: Unauthorized for url: http://api.opencagedata.com/geocode/v1/json?query=M6C%2C+Toronto%2C+Ontario&key=13aa077d21ae42f287ec8607e07b2159&limit=1\n"
     ]
    },
    {
     "name": "stdout",
     "output_type": "stream",
     "text": [
      "Trying for M6C\n"
     ]
    },
    {
     "name": "stderr",
     "output_type": "stream",
     "text": [
      "Status code 401 from http://api.opencagedata.com/geocode/v1/json: ERROR - 401 Client Error: Unauthorized for url: http://api.opencagedata.com/geocode/v1/json?query=M6C%2C+Toronto%2C+Ontario&key=13aa077d21ae42f287ec8607e07b2159&limit=1\n"
     ]
    },
    {
     "name": "stdout",
     "output_type": "stream",
     "text": [
      "Trying for M6C\n"
     ]
    },
    {
     "name": "stderr",
     "output_type": "stream",
     "text": [
      "Status code 401 from http://api.opencagedata.com/geocode/v1/json: ERROR - 401 Client Error: Unauthorized for url: http://api.opencagedata.com/geocode/v1/json?query=M6C%2C+Toronto%2C+Ontario&key=13aa077d21ae42f287ec8607e07b2159&limit=1\n"
     ]
    },
    {
     "name": "stdout",
     "output_type": "stream",
     "text": [
      "Trying for M6C\n"
     ]
    },
    {
     "name": "stderr",
     "output_type": "stream",
     "text": [
      "Status code 401 from http://api.opencagedata.com/geocode/v1/json: ERROR - 401 Client Error: Unauthorized for url: http://api.opencagedata.com/geocode/v1/json?query=M6C%2C+Toronto%2C+Ontario&key=13aa077d21ae42f287ec8607e07b2159&limit=1\n"
     ]
    },
    {
     "name": "stdout",
     "output_type": "stream",
     "text": [
      "Trying for M6C\n"
     ]
    },
    {
     "name": "stderr",
     "output_type": "stream",
     "text": [
      "Status code 401 from http://api.opencagedata.com/geocode/v1/json: ERROR - 401 Client Error: Unauthorized for url: http://api.opencagedata.com/geocode/v1/json?query=M6C%2C+Toronto%2C+Ontario&key=13aa077d21ae42f287ec8607e07b2159&limit=1\n"
     ]
    },
    {
     "name": "stdout",
     "output_type": "stream",
     "text": [
      "Trying for M6C\n"
     ]
    },
    {
     "name": "stderr",
     "output_type": "stream",
     "text": [
      "Status code 401 from http://api.opencagedata.com/geocode/v1/json: ERROR - 401 Client Error: Unauthorized for url: http://api.opencagedata.com/geocode/v1/json?query=M6C%2C+Toronto%2C+Ontario&key=13aa077d21ae42f287ec8607e07b2159&limit=1\n"
     ]
    },
    {
     "name": "stdout",
     "output_type": "stream",
     "text": [
      "Trying for M6C\n"
     ]
    },
    {
     "name": "stderr",
     "output_type": "stream",
     "text": [
      "Status code 401 from http://api.opencagedata.com/geocode/v1/json: ERROR - 401 Client Error: Unauthorized for url: http://api.opencagedata.com/geocode/v1/json?query=M6C%2C+Toronto%2C+Ontario&key=13aa077d21ae42f287ec8607e07b2159&limit=1\n"
     ]
    },
    {
     "name": "stdout",
     "output_type": "stream",
     "text": [
      "Trying for M6C\n"
     ]
    },
    {
     "name": "stderr",
     "output_type": "stream",
     "text": [
      "Status code 401 from http://api.opencagedata.com/geocode/v1/json: ERROR - 401 Client Error: Unauthorized for url: http://api.opencagedata.com/geocode/v1/json?query=M6C%2C+Toronto%2C+Ontario&key=13aa077d21ae42f287ec8607e07b2159&limit=1\n"
     ]
    },
    {
     "name": "stdout",
     "output_type": "stream",
     "text": [
      "Trying for M6C\n"
     ]
    },
    {
     "name": "stderr",
     "output_type": "stream",
     "text": [
      "Status code 401 from http://api.opencagedata.com/geocode/v1/json: ERROR - 401 Client Error: Unauthorized for url: http://api.opencagedata.com/geocode/v1/json?query=M6C%2C+Toronto%2C+Ontario&key=13aa077d21ae42f287ec8607e07b2159&limit=1\n"
     ]
    },
    {
     "name": "stdout",
     "output_type": "stream",
     "text": [
      "Trying for M6C\n"
     ]
    },
    {
     "name": "stderr",
     "output_type": "stream",
     "text": [
      "Status code 401 from http://api.opencagedata.com/geocode/v1/json: ERROR - 401 Client Error: Unauthorized for url: http://api.opencagedata.com/geocode/v1/json?query=M6C%2C+Toronto%2C+Ontario&key=13aa077d21ae42f287ec8607e07b2159&limit=1\n"
     ]
    },
    {
     "name": "stdout",
     "output_type": "stream",
     "text": [
      "Trying for M6C\n"
     ]
    },
    {
     "name": "stderr",
     "output_type": "stream",
     "text": [
      "Status code 401 from http://api.opencagedata.com/geocode/v1/json: ERROR - 401 Client Error: Unauthorized for url: http://api.opencagedata.com/geocode/v1/json?query=M6C%2C+Toronto%2C+Ontario&key=13aa077d21ae42f287ec8607e07b2159&limit=1\n"
     ]
    },
    {
     "name": "stdout",
     "output_type": "stream",
     "text": [
      "Trying for M6C\n"
     ]
    },
    {
     "name": "stderr",
     "output_type": "stream",
     "text": [
      "Status code 401 from http://api.opencagedata.com/geocode/v1/json: ERROR - 401 Client Error: Unauthorized for url: http://api.opencagedata.com/geocode/v1/json?query=M6C%2C+Toronto%2C+Ontario&key=13aa077d21ae42f287ec8607e07b2159&limit=1\n"
     ]
    },
    {
     "name": "stdout",
     "output_type": "stream",
     "text": [
      "Trying for M6C\n"
     ]
    },
    {
     "name": "stderr",
     "output_type": "stream",
     "text": [
      "Status code 401 from http://api.opencagedata.com/geocode/v1/json: ERROR - 401 Client Error: Unauthorized for url: http://api.opencagedata.com/geocode/v1/json?query=M6C%2C+Toronto%2C+Ontario&key=13aa077d21ae42f287ec8607e07b2159&limit=1\n"
     ]
    },
    {
     "name": "stdout",
     "output_type": "stream",
     "text": [
      "Trying for M6C\n"
     ]
    },
    {
     "name": "stderr",
     "output_type": "stream",
     "text": [
      "Status code 401 from http://api.opencagedata.com/geocode/v1/json: ERROR - 401 Client Error: Unauthorized for url: http://api.opencagedata.com/geocode/v1/json?query=M6C%2C+Toronto%2C+Ontario&key=13aa077d21ae42f287ec8607e07b2159&limit=1\n"
     ]
    },
    {
     "name": "stdout",
     "output_type": "stream",
     "text": [
      "Trying for M6C\n"
     ]
    },
    {
     "name": "stderr",
     "output_type": "stream",
     "text": [
      "Status code 401 from http://api.opencagedata.com/geocode/v1/json: ERROR - 401 Client Error: Unauthorized for url: http://api.opencagedata.com/geocode/v1/json?query=M6C%2C+Toronto%2C+Ontario&key=13aa077d21ae42f287ec8607e07b2159&limit=1\n"
     ]
    },
    {
     "name": "stdout",
     "output_type": "stream",
     "text": [
      "Trying for M6C\n"
     ]
    },
    {
     "name": "stderr",
     "output_type": "stream",
     "text": [
      "Status code 401 from http://api.opencagedata.com/geocode/v1/json: ERROR - 401 Client Error: Unauthorized for url: http://api.opencagedata.com/geocode/v1/json?query=M6C%2C+Toronto%2C+Ontario&key=13aa077d21ae42f287ec8607e07b2159&limit=1\n"
     ]
    },
    {
     "name": "stdout",
     "output_type": "stream",
     "text": [
      "Trying for M6C\n"
     ]
    },
    {
     "name": "stderr",
     "output_type": "stream",
     "text": [
      "Status code 401 from http://api.opencagedata.com/geocode/v1/json: ERROR - 401 Client Error: Unauthorized for url: http://api.opencagedata.com/geocode/v1/json?query=M6C%2C+Toronto%2C+Ontario&key=13aa077d21ae42f287ec8607e07b2159&limit=1\n"
     ]
    },
    {
     "name": "stdout",
     "output_type": "stream",
     "text": [
      "Trying for M6C\n"
     ]
    },
    {
     "name": "stderr",
     "output_type": "stream",
     "text": [
      "Status code 401 from http://api.opencagedata.com/geocode/v1/json: ERROR - 401 Client Error: Unauthorized for url: http://api.opencagedata.com/geocode/v1/json?query=M6C%2C+Toronto%2C+Ontario&key=13aa077d21ae42f287ec8607e07b2159&limit=1\n"
     ]
    },
    {
     "name": "stdout",
     "output_type": "stream",
     "text": [
      "Trying for M6C\n"
     ]
    },
    {
     "name": "stderr",
     "output_type": "stream",
     "text": [
      "Status code 401 from http://api.opencagedata.com/geocode/v1/json: ERROR - 401 Client Error: Unauthorized for url: http://api.opencagedata.com/geocode/v1/json?query=M6C%2C+Toronto%2C+Ontario&key=13aa077d21ae42f287ec8607e07b2159&limit=1\n"
     ]
    },
    {
     "name": "stdout",
     "output_type": "stream",
     "text": [
      "Trying for M6C\n"
     ]
    },
    {
     "name": "stderr",
     "output_type": "stream",
     "text": [
      "Status code 401 from http://api.opencagedata.com/geocode/v1/json: ERROR - 401 Client Error: Unauthorized for url: http://api.opencagedata.com/geocode/v1/json?query=M6C%2C+Toronto%2C+Ontario&key=13aa077d21ae42f287ec8607e07b2159&limit=1\n"
     ]
    },
    {
     "name": "stdout",
     "output_type": "stream",
     "text": [
      "Trying for M6C\n"
     ]
    },
    {
     "name": "stderr",
     "output_type": "stream",
     "text": [
      "Status code 401 from http://api.opencagedata.com/geocode/v1/json: ERROR - 401 Client Error: Unauthorized for url: http://api.opencagedata.com/geocode/v1/json?query=M6C%2C+Toronto%2C+Ontario&key=13aa077d21ae42f287ec8607e07b2159&limit=1\n"
     ]
    },
    {
     "name": "stdout",
     "output_type": "stream",
     "text": [
      "Trying for M6C\n"
     ]
    },
    {
     "name": "stderr",
     "output_type": "stream",
     "text": [
      "Status code 401 from http://api.opencagedata.com/geocode/v1/json: ERROR - 401 Client Error: Unauthorized for url: http://api.opencagedata.com/geocode/v1/json?query=M6C%2C+Toronto%2C+Ontario&key=13aa077d21ae42f287ec8607e07b2159&limit=1\n"
     ]
    },
    {
     "name": "stdout",
     "output_type": "stream",
     "text": [
      "Trying for M6C\n"
     ]
    },
    {
     "name": "stderr",
     "output_type": "stream",
     "text": [
      "Status code 401 from http://api.opencagedata.com/geocode/v1/json: ERROR - 401 Client Error: Unauthorized for url: http://api.opencagedata.com/geocode/v1/json?query=M6C%2C+Toronto%2C+Ontario&key=13aa077d21ae42f287ec8607e07b2159&limit=1\n"
     ]
    },
    {
     "name": "stdout",
     "output_type": "stream",
     "text": [
      "Trying for M6C\n"
     ]
    },
    {
     "name": "stderr",
     "output_type": "stream",
     "text": [
      "Status code 401 from http://api.opencagedata.com/geocode/v1/json: ERROR - 401 Client Error: Unauthorized for url: http://api.opencagedata.com/geocode/v1/json?query=M6C%2C+Toronto%2C+Ontario&key=13aa077d21ae42f287ec8607e07b2159&limit=1\n"
     ]
    },
    {
     "name": "stdout",
     "output_type": "stream",
     "text": [
      "Trying for M6C\n"
     ]
    },
    {
     "name": "stderr",
     "output_type": "stream",
     "text": [
      "Status code 401 from http://api.opencagedata.com/geocode/v1/json: ERROR - 401 Client Error: Unauthorized for url: http://api.opencagedata.com/geocode/v1/json?query=M6C%2C+Toronto%2C+Ontario&key=13aa077d21ae42f287ec8607e07b2159&limit=1\n"
     ]
    },
    {
     "name": "stdout",
     "output_type": "stream",
     "text": [
      "Trying for M6C\n"
     ]
    },
    {
     "name": "stderr",
     "output_type": "stream",
     "text": [
      "Status code 401 from http://api.opencagedata.com/geocode/v1/json: ERROR - 401 Client Error: Unauthorized for url: http://api.opencagedata.com/geocode/v1/json?query=M6C%2C+Toronto%2C+Ontario&key=13aa077d21ae42f287ec8607e07b2159&limit=1\n"
     ]
    },
    {
     "name": "stdout",
     "output_type": "stream",
     "text": [
      "Trying for M6C\n"
     ]
    },
    {
     "name": "stderr",
     "output_type": "stream",
     "text": [
      "Status code 401 from http://api.opencagedata.com/geocode/v1/json: ERROR - 401 Client Error: Unauthorized for url: http://api.opencagedata.com/geocode/v1/json?query=M6C%2C+Toronto%2C+Ontario&key=13aa077d21ae42f287ec8607e07b2159&limit=1\n"
     ]
    },
    {
     "name": "stdout",
     "output_type": "stream",
     "text": [
      "Trying for M6C\n"
     ]
    },
    {
     "name": "stderr",
     "output_type": "stream",
     "text": [
      "Status code 401 from http://api.opencagedata.com/geocode/v1/json: ERROR - 401 Client Error: Unauthorized for url: http://api.opencagedata.com/geocode/v1/json?query=M6C%2C+Toronto%2C+Ontario&key=13aa077d21ae42f287ec8607e07b2159&limit=1\n"
     ]
    },
    {
     "name": "stdout",
     "output_type": "stream",
     "text": [
      "Trying for M6C\n"
     ]
    },
    {
     "name": "stderr",
     "output_type": "stream",
     "text": [
      "Status code 401 from http://api.opencagedata.com/geocode/v1/json: ERROR - 401 Client Error: Unauthorized for url: http://api.opencagedata.com/geocode/v1/json?query=M6C%2C+Toronto%2C+Ontario&key=13aa077d21ae42f287ec8607e07b2159&limit=1\n"
     ]
    },
    {
     "name": "stdout",
     "output_type": "stream",
     "text": [
      "Trying for M6C\n"
     ]
    },
    {
     "name": "stderr",
     "output_type": "stream",
     "text": [
      "Status code 401 from http://api.opencagedata.com/geocode/v1/json: ERROR - 401 Client Error: Unauthorized for url: http://api.opencagedata.com/geocode/v1/json?query=M6C%2C+Toronto%2C+Ontario&key=13aa077d21ae42f287ec8607e07b2159&limit=1\n"
     ]
    },
    {
     "name": "stdout",
     "output_type": "stream",
     "text": [
      "Trying for M6C\n"
     ]
    },
    {
     "name": "stderr",
     "output_type": "stream",
     "text": [
      "Status code 401 from http://api.opencagedata.com/geocode/v1/json: ERROR - 401 Client Error: Unauthorized for url: http://api.opencagedata.com/geocode/v1/json?query=M6C%2C+Toronto%2C+Ontario&key=13aa077d21ae42f287ec8607e07b2159&limit=1\n"
     ]
    },
    {
     "name": "stdout",
     "output_type": "stream",
     "text": [
      "Trying for M6C\n"
     ]
    },
    {
     "name": "stderr",
     "output_type": "stream",
     "text": [
      "Status code 401 from http://api.opencagedata.com/geocode/v1/json: ERROR - 401 Client Error: Unauthorized for url: http://api.opencagedata.com/geocode/v1/json?query=M6C%2C+Toronto%2C+Ontario&key=13aa077d21ae42f287ec8607e07b2159&limit=1\n"
     ]
    },
    {
     "name": "stdout",
     "output_type": "stream",
     "text": [
      "Trying for M6C\n"
     ]
    },
    {
     "name": "stderr",
     "output_type": "stream",
     "text": [
      "Status code 401 from http://api.opencagedata.com/geocode/v1/json: ERROR - 401 Client Error: Unauthorized for url: http://api.opencagedata.com/geocode/v1/json?query=M6C%2C+Toronto%2C+Ontario&key=13aa077d21ae42f287ec8607e07b2159&limit=1\n"
     ]
    },
    {
     "name": "stdout",
     "output_type": "stream",
     "text": [
      "Trying for M6C\n"
     ]
    },
    {
     "name": "stderr",
     "output_type": "stream",
     "text": [
      "Status code 401 from http://api.opencagedata.com/geocode/v1/json: ERROR - 401 Client Error: Unauthorized for url: http://api.opencagedata.com/geocode/v1/json?query=M6C%2C+Toronto%2C+Ontario&key=13aa077d21ae42f287ec8607e07b2159&limit=1\n"
     ]
    },
    {
     "name": "stdout",
     "output_type": "stream",
     "text": [
      "Trying for M6C\n"
     ]
    },
    {
     "name": "stderr",
     "output_type": "stream",
     "text": [
      "Status code 401 from http://api.opencagedata.com/geocode/v1/json: ERROR - 401 Client Error: Unauthorized for url: http://api.opencagedata.com/geocode/v1/json?query=M6C%2C+Toronto%2C+Ontario&key=13aa077d21ae42f287ec8607e07b2159&limit=1\n"
     ]
    },
    {
     "name": "stdout",
     "output_type": "stream",
     "text": [
      "Trying for M6C\n"
     ]
    },
    {
     "name": "stderr",
     "output_type": "stream",
     "text": [
      "Status code 401 from http://api.opencagedata.com/geocode/v1/json: ERROR - 401 Client Error: Unauthorized for url: http://api.opencagedata.com/geocode/v1/json?query=M6C%2C+Toronto%2C+Ontario&key=13aa077d21ae42f287ec8607e07b2159&limit=1\n"
     ]
    },
    {
     "name": "stdout",
     "output_type": "stream",
     "text": [
      "Trying for M6C\n"
     ]
    },
    {
     "name": "stderr",
     "output_type": "stream",
     "text": [
      "Status code 401 from http://api.opencagedata.com/geocode/v1/json: ERROR - 401 Client Error: Unauthorized for url: http://api.opencagedata.com/geocode/v1/json?query=M6C%2C+Toronto%2C+Ontario&key=13aa077d21ae42f287ec8607e07b2159&limit=1\n"
     ]
    },
    {
     "name": "stdout",
     "output_type": "stream",
     "text": [
      "Trying for M6C\n"
     ]
    },
    {
     "name": "stderr",
     "output_type": "stream",
     "text": [
      "Status code 401 from http://api.opencagedata.com/geocode/v1/json: ERROR - 401 Client Error: Unauthorized for url: http://api.opencagedata.com/geocode/v1/json?query=M6C%2C+Toronto%2C+Ontario&key=13aa077d21ae42f287ec8607e07b2159&limit=1\n"
     ]
    },
    {
     "name": "stdout",
     "output_type": "stream",
     "text": [
      "Trying for M6C\n"
     ]
    },
    {
     "name": "stderr",
     "output_type": "stream",
     "text": [
      "Status code 401 from http://api.opencagedata.com/geocode/v1/json: ERROR - 401 Client Error: Unauthorized for url: http://api.opencagedata.com/geocode/v1/json?query=M6C%2C+Toronto%2C+Ontario&key=13aa077d21ae42f287ec8607e07b2159&limit=1\n"
     ]
    },
    {
     "name": "stdout",
     "output_type": "stream",
     "text": [
      "Trying for M6C\n"
     ]
    },
    {
     "name": "stderr",
     "output_type": "stream",
     "text": [
      "Status code 401 from http://api.opencagedata.com/geocode/v1/json: ERROR - 401 Client Error: Unauthorized for url: http://api.opencagedata.com/geocode/v1/json?query=M6C%2C+Toronto%2C+Ontario&key=13aa077d21ae42f287ec8607e07b2159&limit=1\n"
     ]
    },
    {
     "name": "stdout",
     "output_type": "stream",
     "text": [
      "Trying for M6C\n"
     ]
    },
    {
     "name": "stderr",
     "output_type": "stream",
     "text": [
      "Status code 401 from http://api.opencagedata.com/geocode/v1/json: ERROR - 401 Client Error: Unauthorized for url: http://api.opencagedata.com/geocode/v1/json?query=M6C%2C+Toronto%2C+Ontario&key=13aa077d21ae42f287ec8607e07b2159&limit=1\n"
     ]
    },
    {
     "name": "stdout",
     "output_type": "stream",
     "text": [
      "Trying for M6C\n"
     ]
    },
    {
     "name": "stderr",
     "output_type": "stream",
     "text": [
      "Status code 401 from http://api.opencagedata.com/geocode/v1/json: ERROR - 401 Client Error: Unauthorized for url: http://api.opencagedata.com/geocode/v1/json?query=M6C%2C+Toronto%2C+Ontario&key=13aa077d21ae42f287ec8607e07b2159&limit=1\n"
     ]
    },
    {
     "name": "stdout",
     "output_type": "stream",
     "text": [
      "Trying for M6C\n"
     ]
    },
    {
     "name": "stderr",
     "output_type": "stream",
     "text": [
      "Status code 401 from http://api.opencagedata.com/geocode/v1/json: ERROR - 401 Client Error: Unauthorized for url: http://api.opencagedata.com/geocode/v1/json?query=M6C%2C+Toronto%2C+Ontario&key=13aa077d21ae42f287ec8607e07b2159&limit=1\n"
     ]
    },
    {
     "name": "stdout",
     "output_type": "stream",
     "text": [
      "Trying for M6C\n"
     ]
    },
    {
     "name": "stderr",
     "output_type": "stream",
     "text": [
      "Status code 401 from http://api.opencagedata.com/geocode/v1/json: ERROR - 401 Client Error: Unauthorized for url: http://api.opencagedata.com/geocode/v1/json?query=M6C%2C+Toronto%2C+Ontario&key=13aa077d21ae42f287ec8607e07b2159&limit=1\n"
     ]
    },
    {
     "name": "stdout",
     "output_type": "stream",
     "text": [
      "Trying for M6C\n"
     ]
    },
    {
     "name": "stderr",
     "output_type": "stream",
     "text": [
      "Status code 401 from http://api.opencagedata.com/geocode/v1/json: ERROR - 401 Client Error: Unauthorized for url: http://api.opencagedata.com/geocode/v1/json?query=M6C%2C+Toronto%2C+Ontario&key=13aa077d21ae42f287ec8607e07b2159&limit=1\n"
     ]
    },
    {
     "name": "stdout",
     "output_type": "stream",
     "text": [
      "Trying for M6C\n"
     ]
    },
    {
     "name": "stderr",
     "output_type": "stream",
     "text": [
      "Status code 401 from http://api.opencagedata.com/geocode/v1/json: ERROR - 401 Client Error: Unauthorized for url: http://api.opencagedata.com/geocode/v1/json?query=M6C%2C+Toronto%2C+Ontario&key=13aa077d21ae42f287ec8607e07b2159&limit=1\n"
     ]
    },
    {
     "name": "stdout",
     "output_type": "stream",
     "text": [
      "Trying for M6C\n"
     ]
    },
    {
     "name": "stderr",
     "output_type": "stream",
     "text": [
      "Status code 401 from http://api.opencagedata.com/geocode/v1/json: ERROR - 401 Client Error: Unauthorized for url: http://api.opencagedata.com/geocode/v1/json?query=M6C%2C+Toronto%2C+Ontario&key=13aa077d21ae42f287ec8607e07b2159&limit=1\n"
     ]
    },
    {
     "name": "stdout",
     "output_type": "stream",
     "text": [
      "Trying for M6C\n"
     ]
    },
    {
     "name": "stderr",
     "output_type": "stream",
     "text": [
      "Status code 401 from http://api.opencagedata.com/geocode/v1/json: ERROR - 401 Client Error: Unauthorized for url: http://api.opencagedata.com/geocode/v1/json?query=M6C%2C+Toronto%2C+Ontario&key=13aa077d21ae42f287ec8607e07b2159&limit=1\n"
     ]
    },
    {
     "name": "stdout",
     "output_type": "stream",
     "text": [
      "Trying for M6C\n"
     ]
    },
    {
     "name": "stderr",
     "output_type": "stream",
     "text": [
      "Status code 401 from http://api.opencagedata.com/geocode/v1/json: ERROR - 401 Client Error: Unauthorized for url: http://api.opencagedata.com/geocode/v1/json?query=M6C%2C+Toronto%2C+Ontario&key=13aa077d21ae42f287ec8607e07b2159&limit=1\n"
     ]
    },
    {
     "name": "stdout",
     "output_type": "stream",
     "text": [
      "Trying for M6C\n"
     ]
    },
    {
     "name": "stderr",
     "output_type": "stream",
     "text": [
      "Status code 401 from http://api.opencagedata.com/geocode/v1/json: ERROR - 401 Client Error: Unauthorized for url: http://api.opencagedata.com/geocode/v1/json?query=M6C%2C+Toronto%2C+Ontario&key=13aa077d21ae42f287ec8607e07b2159&limit=1\n"
     ]
    },
    {
     "name": "stdout",
     "output_type": "stream",
     "text": [
      "Trying for M6C\n"
     ]
    },
    {
     "name": "stderr",
     "output_type": "stream",
     "text": [
      "Status code 401 from http://api.opencagedata.com/geocode/v1/json: ERROR - 401 Client Error: Unauthorized for url: http://api.opencagedata.com/geocode/v1/json?query=M6C%2C+Toronto%2C+Ontario&key=13aa077d21ae42f287ec8607e07b2159&limit=1\n"
     ]
    },
    {
     "name": "stdout",
     "output_type": "stream",
     "text": [
      "Trying for M6C\n"
     ]
    },
    {
     "name": "stderr",
     "output_type": "stream",
     "text": [
      "Status code 401 from http://api.opencagedata.com/geocode/v1/json: ERROR - 401 Client Error: Unauthorized for url: http://api.opencagedata.com/geocode/v1/json?query=M6C%2C+Toronto%2C+Ontario&key=13aa077d21ae42f287ec8607e07b2159&limit=1\n"
     ]
    },
    {
     "name": "stdout",
     "output_type": "stream",
     "text": [
      "Trying for M6C\n"
     ]
    },
    {
     "name": "stderr",
     "output_type": "stream",
     "text": [
      "Status code 401 from http://api.opencagedata.com/geocode/v1/json: ERROR - 401 Client Error: Unauthorized for url: http://api.opencagedata.com/geocode/v1/json?query=M6C%2C+Toronto%2C+Ontario&key=13aa077d21ae42f287ec8607e07b2159&limit=1\n"
     ]
    },
    {
     "name": "stdout",
     "output_type": "stream",
     "text": [
      "Trying for M6C\n"
     ]
    },
    {
     "name": "stderr",
     "output_type": "stream",
     "text": [
      "Status code 401 from http://api.opencagedata.com/geocode/v1/json: ERROR - 401 Client Error: Unauthorized for url: http://api.opencagedata.com/geocode/v1/json?query=M6C%2C+Toronto%2C+Ontario&key=13aa077d21ae42f287ec8607e07b2159&limit=1\n"
     ]
    },
    {
     "name": "stdout",
     "output_type": "stream",
     "text": [
      "Trying for M6C\n"
     ]
    },
    {
     "name": "stderr",
     "output_type": "stream",
     "text": [
      "Status code 401 from http://api.opencagedata.com/geocode/v1/json: ERROR - 401 Client Error: Unauthorized for url: http://api.opencagedata.com/geocode/v1/json?query=M6C%2C+Toronto%2C+Ontario&key=13aa077d21ae42f287ec8607e07b2159&limit=1\n"
     ]
    },
    {
     "name": "stdout",
     "output_type": "stream",
     "text": [
      "Trying for M6C\n"
     ]
    },
    {
     "name": "stderr",
     "output_type": "stream",
     "text": [
      "Status code 401 from http://api.opencagedata.com/geocode/v1/json: ERROR - 401 Client Error: Unauthorized for url: http://api.opencagedata.com/geocode/v1/json?query=M6C%2C+Toronto%2C+Ontario&key=13aa077d21ae42f287ec8607e07b2159&limit=1\n"
     ]
    },
    {
     "name": "stdout",
     "output_type": "stream",
     "text": [
      "Trying for M6C\n"
     ]
    },
    {
     "name": "stderr",
     "output_type": "stream",
     "text": [
      "Status code 401 from http://api.opencagedata.com/geocode/v1/json: ERROR - 401 Client Error: Unauthorized for url: http://api.opencagedata.com/geocode/v1/json?query=M6C%2C+Toronto%2C+Ontario&key=13aa077d21ae42f287ec8607e07b2159&limit=1\n"
     ]
    },
    {
     "name": "stdout",
     "output_type": "stream",
     "text": [
      "Trying for M6C\n"
     ]
    },
    {
     "name": "stderr",
     "output_type": "stream",
     "text": [
      "Status code 401 from http://api.opencagedata.com/geocode/v1/json: ERROR - 401 Client Error: Unauthorized for url: http://api.opencagedata.com/geocode/v1/json?query=M6C%2C+Toronto%2C+Ontario&key=13aa077d21ae42f287ec8607e07b2159&limit=1\n"
     ]
    },
    {
     "name": "stdout",
     "output_type": "stream",
     "text": [
      "Trying for M6C\n"
     ]
    },
    {
     "name": "stderr",
     "output_type": "stream",
     "text": [
      "Status code 401 from http://api.opencagedata.com/geocode/v1/json: ERROR - 401 Client Error: Unauthorized for url: http://api.opencagedata.com/geocode/v1/json?query=M6C%2C+Toronto%2C+Ontario&key=13aa077d21ae42f287ec8607e07b2159&limit=1\n"
     ]
    },
    {
     "name": "stdout",
     "output_type": "stream",
     "text": [
      "Trying for M6C\n"
     ]
    },
    {
     "name": "stderr",
     "output_type": "stream",
     "text": [
      "Status code 401 from http://api.opencagedata.com/geocode/v1/json: ERROR - 401 Client Error: Unauthorized for url: http://api.opencagedata.com/geocode/v1/json?query=M6C%2C+Toronto%2C+Ontario&key=13aa077d21ae42f287ec8607e07b2159&limit=1\n"
     ]
    },
    {
     "name": "stdout",
     "output_type": "stream",
     "text": [
      "Trying for M6C\n"
     ]
    },
    {
     "name": "stderr",
     "output_type": "stream",
     "text": [
      "Status code 401 from http://api.opencagedata.com/geocode/v1/json: ERROR - 401 Client Error: Unauthorized for url: http://api.opencagedata.com/geocode/v1/json?query=M6C%2C+Toronto%2C+Ontario&key=13aa077d21ae42f287ec8607e07b2159&limit=1\n"
     ]
    },
    {
     "name": "stdout",
     "output_type": "stream",
     "text": [
      "Trying for M6C\n"
     ]
    },
    {
     "name": "stderr",
     "output_type": "stream",
     "text": [
      "Status code 401 from http://api.opencagedata.com/geocode/v1/json: ERROR - 401 Client Error: Unauthorized for url: http://api.opencagedata.com/geocode/v1/json?query=M6C%2C+Toronto%2C+Ontario&key=13aa077d21ae42f287ec8607e07b2159&limit=1\n"
     ]
    },
    {
     "name": "stdout",
     "output_type": "stream",
     "text": [
      "Trying for M6C\n"
     ]
    },
    {
     "name": "stderr",
     "output_type": "stream",
     "text": [
      "Status code 401 from http://api.opencagedata.com/geocode/v1/json: ERROR - 401 Client Error: Unauthorized for url: http://api.opencagedata.com/geocode/v1/json?query=M6C%2C+Toronto%2C+Ontario&key=13aa077d21ae42f287ec8607e07b2159&limit=1\n"
     ]
    },
    {
     "name": "stdout",
     "output_type": "stream",
     "text": [
      "Trying for M6C\n"
     ]
    },
    {
     "name": "stderr",
     "output_type": "stream",
     "text": [
      "Status code 401 from http://api.opencagedata.com/geocode/v1/json: ERROR - 401 Client Error: Unauthorized for url: http://api.opencagedata.com/geocode/v1/json?query=M6C%2C+Toronto%2C+Ontario&key=13aa077d21ae42f287ec8607e07b2159&limit=1\n"
     ]
    },
    {
     "name": "stdout",
     "output_type": "stream",
     "text": [
      "Trying for M6C\n"
     ]
    },
    {
     "name": "stderr",
     "output_type": "stream",
     "text": [
      "Status code 401 from http://api.opencagedata.com/geocode/v1/json: ERROR - 401 Client Error: Unauthorized for url: http://api.opencagedata.com/geocode/v1/json?query=M6C%2C+Toronto%2C+Ontario&key=13aa077d21ae42f287ec8607e07b2159&limit=1\n"
     ]
    },
    {
     "name": "stdout",
     "output_type": "stream",
     "text": [
      "Trying for M6C\n"
     ]
    },
    {
     "name": "stderr",
     "output_type": "stream",
     "text": [
      "Status code 401 from http://api.opencagedata.com/geocode/v1/json: ERROR - 401 Client Error: Unauthorized for url: http://api.opencagedata.com/geocode/v1/json?query=M6C%2C+Toronto%2C+Ontario&key=13aa077d21ae42f287ec8607e07b2159&limit=1\n"
     ]
    },
    {
     "name": "stdout",
     "output_type": "stream",
     "text": [
      "Trying for M6C\n"
     ]
    },
    {
     "name": "stderr",
     "output_type": "stream",
     "text": [
      "Status code 401 from http://api.opencagedata.com/geocode/v1/json: ERROR - 401 Client Error: Unauthorized for url: http://api.opencagedata.com/geocode/v1/json?query=M6C%2C+Toronto%2C+Ontario&key=13aa077d21ae42f287ec8607e07b2159&limit=1\n"
     ]
    },
    {
     "name": "stdout",
     "output_type": "stream",
     "text": [
      "Trying for M6C\n"
     ]
    },
    {
     "name": "stderr",
     "output_type": "stream",
     "text": [
      "Status code 401 from http://api.opencagedata.com/geocode/v1/json: ERROR - 401 Client Error: Unauthorized for url: http://api.opencagedata.com/geocode/v1/json?query=M6C%2C+Toronto%2C+Ontario&key=13aa077d21ae42f287ec8607e07b2159&limit=1\n"
     ]
    },
    {
     "name": "stdout",
     "output_type": "stream",
     "text": [
      "Trying for M6C\n"
     ]
    },
    {
     "name": "stderr",
     "output_type": "stream",
     "text": [
      "Status code 401 from http://api.opencagedata.com/geocode/v1/json: ERROR - 401 Client Error: Unauthorized for url: http://api.opencagedata.com/geocode/v1/json?query=M6C%2C+Toronto%2C+Ontario&key=13aa077d21ae42f287ec8607e07b2159&limit=1\n"
     ]
    },
    {
     "name": "stdout",
     "output_type": "stream",
     "text": [
      "Trying for M6C\n"
     ]
    },
    {
     "name": "stderr",
     "output_type": "stream",
     "text": [
      "Status code 401 from http://api.opencagedata.com/geocode/v1/json: ERROR - 401 Client Error: Unauthorized for url: http://api.opencagedata.com/geocode/v1/json?query=M6C%2C+Toronto%2C+Ontario&key=13aa077d21ae42f287ec8607e07b2159&limit=1\n"
     ]
    },
    {
     "name": "stdout",
     "output_type": "stream",
     "text": [
      "Trying for M6C\n"
     ]
    },
    {
     "name": "stderr",
     "output_type": "stream",
     "text": [
      "Status code 401 from http://api.opencagedata.com/geocode/v1/json: ERROR - 401 Client Error: Unauthorized for url: http://api.opencagedata.com/geocode/v1/json?query=M6C%2C+Toronto%2C+Ontario&key=13aa077d21ae42f287ec8607e07b2159&limit=1\n"
     ]
    },
    {
     "name": "stdout",
     "output_type": "stream",
     "text": [
      "Trying for M6C\n"
     ]
    },
    {
     "name": "stderr",
     "output_type": "stream",
     "text": [
      "Status code 401 from http://api.opencagedata.com/geocode/v1/json: ERROR - 401 Client Error: Unauthorized for url: http://api.opencagedata.com/geocode/v1/json?query=M6C%2C+Toronto%2C+Ontario&key=13aa077d21ae42f287ec8607e07b2159&limit=1\n"
     ]
    },
    {
     "name": "stdout",
     "output_type": "stream",
     "text": [
      "Trying for M6C\n"
     ]
    },
    {
     "name": "stderr",
     "output_type": "stream",
     "text": [
      "Status code 401 from http://api.opencagedata.com/geocode/v1/json: ERROR - 401 Client Error: Unauthorized for url: http://api.opencagedata.com/geocode/v1/json?query=M6C%2C+Toronto%2C+Ontario&key=13aa077d21ae42f287ec8607e07b2159&limit=1\n"
     ]
    },
    {
     "name": "stdout",
     "output_type": "stream",
     "text": [
      "Trying for M6C\n"
     ]
    },
    {
     "name": "stderr",
     "output_type": "stream",
     "text": [
      "Status code 401 from http://api.opencagedata.com/geocode/v1/json: ERROR - 401 Client Error: Unauthorized for url: http://api.opencagedata.com/geocode/v1/json?query=M6C%2C+Toronto%2C+Ontario&key=13aa077d21ae42f287ec8607e07b2159&limit=1\n"
     ]
    },
    {
     "name": "stdout",
     "output_type": "stream",
     "text": [
      "Trying for M6C\n"
     ]
    },
    {
     "name": "stderr",
     "output_type": "stream",
     "text": [
      "Status code 401 from http://api.opencagedata.com/geocode/v1/json: ERROR - 401 Client Error: Unauthorized for url: http://api.opencagedata.com/geocode/v1/json?query=M6C%2C+Toronto%2C+Ontario&key=13aa077d21ae42f287ec8607e07b2159&limit=1\n"
     ]
    },
    {
     "name": "stdout",
     "output_type": "stream",
     "text": [
      "Trying for M6C\n"
     ]
    },
    {
     "name": "stderr",
     "output_type": "stream",
     "text": [
      "Status code 401 from http://api.opencagedata.com/geocode/v1/json: ERROR - 401 Client Error: Unauthorized for url: http://api.opencagedata.com/geocode/v1/json?query=M6C%2C+Toronto%2C+Ontario&key=13aa077d21ae42f287ec8607e07b2159&limit=1\n"
     ]
    },
    {
     "name": "stdout",
     "output_type": "stream",
     "text": [
      "Trying for M6C\n"
     ]
    },
    {
     "name": "stderr",
     "output_type": "stream",
     "text": [
      "Status code 401 from http://api.opencagedata.com/geocode/v1/json: ERROR - 401 Client Error: Unauthorized for url: http://api.opencagedata.com/geocode/v1/json?query=M6C%2C+Toronto%2C+Ontario&key=13aa077d21ae42f287ec8607e07b2159&limit=1\n"
     ]
    },
    {
     "name": "stdout",
     "output_type": "stream",
     "text": [
      "Trying for M6C\n"
     ]
    },
    {
     "name": "stderr",
     "output_type": "stream",
     "text": [
      "Status code 401 from http://api.opencagedata.com/geocode/v1/json: ERROR - 401 Client Error: Unauthorized for url: http://api.opencagedata.com/geocode/v1/json?query=M6C%2C+Toronto%2C+Ontario&key=13aa077d21ae42f287ec8607e07b2159&limit=1\n"
     ]
    },
    {
     "name": "stdout",
     "output_type": "stream",
     "text": [
      "Trying for M6C\n"
     ]
    },
    {
     "name": "stderr",
     "output_type": "stream",
     "text": [
      "Status code 401 from http://api.opencagedata.com/geocode/v1/json: ERROR - 401 Client Error: Unauthorized for url: http://api.opencagedata.com/geocode/v1/json?query=M6C%2C+Toronto%2C+Ontario&key=13aa077d21ae42f287ec8607e07b2159&limit=1\n"
     ]
    },
    {
     "name": "stdout",
     "output_type": "stream",
     "text": [
      "Trying for M6C\n"
     ]
    },
    {
     "name": "stderr",
     "output_type": "stream",
     "text": [
      "Status code 401 from http://api.opencagedata.com/geocode/v1/json: ERROR - 401 Client Error: Unauthorized for url: http://api.opencagedata.com/geocode/v1/json?query=M6C%2C+Toronto%2C+Ontario&key=13aa077d21ae42f287ec8607e07b2159&limit=1\n"
     ]
    },
    {
     "name": "stdout",
     "output_type": "stream",
     "text": [
      "Trying for M6C\n"
     ]
    },
    {
     "name": "stderr",
     "output_type": "stream",
     "text": [
      "Status code 401 from http://api.opencagedata.com/geocode/v1/json: ERROR - 401 Client Error: Unauthorized for url: http://api.opencagedata.com/geocode/v1/json?query=M6C%2C+Toronto%2C+Ontario&key=13aa077d21ae42f287ec8607e07b2159&limit=1\n"
     ]
    },
    {
     "name": "stdout",
     "output_type": "stream",
     "text": [
      "Trying for M6C\n"
     ]
    },
    {
     "name": "stderr",
     "output_type": "stream",
     "text": [
      "Status code 401 from http://api.opencagedata.com/geocode/v1/json: ERROR - 401 Client Error: Unauthorized for url: http://api.opencagedata.com/geocode/v1/json?query=M6C%2C+Toronto%2C+Ontario&key=13aa077d21ae42f287ec8607e07b2159&limit=1\n"
     ]
    },
    {
     "name": "stdout",
     "output_type": "stream",
     "text": [
      "Trying for M6C\n"
     ]
    },
    {
     "name": "stderr",
     "output_type": "stream",
     "text": [
      "Status code 401 from http://api.opencagedata.com/geocode/v1/json: ERROR - 401 Client Error: Unauthorized for url: http://api.opencagedata.com/geocode/v1/json?query=M6C%2C+Toronto%2C+Ontario&key=13aa077d21ae42f287ec8607e07b2159&limit=1\n"
     ]
    },
    {
     "name": "stdout",
     "output_type": "stream",
     "text": [
      "Trying for M6C\n"
     ]
    },
    {
     "name": "stderr",
     "output_type": "stream",
     "text": [
      "Status code 401 from http://api.opencagedata.com/geocode/v1/json: ERROR - 401 Client Error: Unauthorized for url: http://api.opencagedata.com/geocode/v1/json?query=M6C%2C+Toronto%2C+Ontario&key=13aa077d21ae42f287ec8607e07b2159&limit=1\n"
     ]
    },
    {
     "name": "stdout",
     "output_type": "stream",
     "text": [
      "Trying for M6C\n"
     ]
    },
    {
     "name": "stderr",
     "output_type": "stream",
     "text": [
      "Status code 401 from http://api.opencagedata.com/geocode/v1/json: ERROR - 401 Client Error: Unauthorized for url: http://api.opencagedata.com/geocode/v1/json?query=M6C%2C+Toronto%2C+Ontario&key=13aa077d21ae42f287ec8607e07b2159&limit=1\n"
     ]
    },
    {
     "name": "stdout",
     "output_type": "stream",
     "text": [
      "Trying for M6C\n"
     ]
    },
    {
     "name": "stderr",
     "output_type": "stream",
     "text": [
      "Status code 401 from http://api.opencagedata.com/geocode/v1/json: ERROR - 401 Client Error: Unauthorized for url: http://api.opencagedata.com/geocode/v1/json?query=M6C%2C+Toronto%2C+Ontario&key=13aa077d21ae42f287ec8607e07b2159&limit=1\n"
     ]
    },
    {
     "name": "stdout",
     "output_type": "stream",
     "text": [
      "Trying for M6C\n"
     ]
    },
    {
     "name": "stderr",
     "output_type": "stream",
     "text": [
      "Status code 401 from http://api.opencagedata.com/geocode/v1/json: ERROR - 401 Client Error: Unauthorized for url: http://api.opencagedata.com/geocode/v1/json?query=M6C%2C+Toronto%2C+Ontario&key=13aa077d21ae42f287ec8607e07b2159&limit=1\n"
     ]
    },
    {
     "name": "stdout",
     "output_type": "stream",
     "text": [
      "Trying for M6C\n"
     ]
    },
    {
     "name": "stderr",
     "output_type": "stream",
     "text": [
      "Status code 401 from http://api.opencagedata.com/geocode/v1/json: ERROR - 401 Client Error: Unauthorized for url: http://api.opencagedata.com/geocode/v1/json?query=M6C%2C+Toronto%2C+Ontario&key=13aa077d21ae42f287ec8607e07b2159&limit=1\n"
     ]
    },
    {
     "name": "stdout",
     "output_type": "stream",
     "text": [
      "Trying for M6C\n"
     ]
    },
    {
     "name": "stderr",
     "output_type": "stream",
     "text": [
      "Status code 401 from http://api.opencagedata.com/geocode/v1/json: ERROR - 401 Client Error: Unauthorized for url: http://api.opencagedata.com/geocode/v1/json?query=M6C%2C+Toronto%2C+Ontario&key=13aa077d21ae42f287ec8607e07b2159&limit=1\n"
     ]
    },
    {
     "name": "stdout",
     "output_type": "stream",
     "text": [
      "Trying for M6C\n"
     ]
    },
    {
     "name": "stderr",
     "output_type": "stream",
     "text": [
      "Status code 401 from http://api.opencagedata.com/geocode/v1/json: ERROR - 401 Client Error: Unauthorized for url: http://api.opencagedata.com/geocode/v1/json?query=M6C%2C+Toronto%2C+Ontario&key=13aa077d21ae42f287ec8607e07b2159&limit=1\n"
     ]
    },
    {
     "name": "stdout",
     "output_type": "stream",
     "text": [
      "Trying for M6C\n"
     ]
    },
    {
     "name": "stderr",
     "output_type": "stream",
     "text": [
      "Status code 401 from http://api.opencagedata.com/geocode/v1/json: ERROR - 401 Client Error: Unauthorized for url: http://api.opencagedata.com/geocode/v1/json?query=M6C%2C+Toronto%2C+Ontario&key=13aa077d21ae42f287ec8607e07b2159&limit=1\n"
     ]
    },
    {
     "name": "stdout",
     "output_type": "stream",
     "text": [
      "Trying for M6C\n"
     ]
    },
    {
     "name": "stderr",
     "output_type": "stream",
     "text": [
      "Status code 401 from http://api.opencagedata.com/geocode/v1/json: ERROR - 401 Client Error: Unauthorized for url: http://api.opencagedata.com/geocode/v1/json?query=M6C%2C+Toronto%2C+Ontario&key=13aa077d21ae42f287ec8607e07b2159&limit=1\n"
     ]
    },
    {
     "name": "stdout",
     "output_type": "stream",
     "text": [
      "Trying for M6C\n"
     ]
    },
    {
     "name": "stderr",
     "output_type": "stream",
     "text": [
      "Status code 401 from http://api.opencagedata.com/geocode/v1/json: ERROR - 401 Client Error: Unauthorized for url: http://api.opencagedata.com/geocode/v1/json?query=M6C%2C+Toronto%2C+Ontario&key=13aa077d21ae42f287ec8607e07b2159&limit=1\n"
     ]
    },
    {
     "name": "stdout",
     "output_type": "stream",
     "text": [
      "Trying for M6C\n"
     ]
    },
    {
     "name": "stderr",
     "output_type": "stream",
     "text": [
      "Status code 401 from http://api.opencagedata.com/geocode/v1/json: ERROR - 401 Client Error: Unauthorized for url: http://api.opencagedata.com/geocode/v1/json?query=M6C%2C+Toronto%2C+Ontario&key=13aa077d21ae42f287ec8607e07b2159&limit=1\n"
     ]
    },
    {
     "name": "stdout",
     "output_type": "stream",
     "text": [
      "Trying for M6C\n"
     ]
    },
    {
     "name": "stderr",
     "output_type": "stream",
     "text": [
      "Status code 401 from http://api.opencagedata.com/geocode/v1/json: ERROR - 401 Client Error: Unauthorized for url: http://api.opencagedata.com/geocode/v1/json?query=M6C%2C+Toronto%2C+Ontario&key=13aa077d21ae42f287ec8607e07b2159&limit=1\n"
     ]
    },
    {
     "name": "stdout",
     "output_type": "stream",
     "text": [
      "Trying for M6C\n"
     ]
    },
    {
     "name": "stderr",
     "output_type": "stream",
     "text": [
      "Status code 401 from http://api.opencagedata.com/geocode/v1/json: ERROR - 401 Client Error: Unauthorized for url: http://api.opencagedata.com/geocode/v1/json?query=M6C%2C+Toronto%2C+Ontario&key=13aa077d21ae42f287ec8607e07b2159&limit=1\n"
     ]
    },
    {
     "name": "stdout",
     "output_type": "stream",
     "text": [
      "Trying for M6C\n"
     ]
    },
    {
     "name": "stderr",
     "output_type": "stream",
     "text": [
      "Status code 401 from http://api.opencagedata.com/geocode/v1/json: ERROR - 401 Client Error: Unauthorized for url: http://api.opencagedata.com/geocode/v1/json?query=M6C%2C+Toronto%2C+Ontario&key=13aa077d21ae42f287ec8607e07b2159&limit=1\n"
     ]
    },
    {
     "name": "stdout",
     "output_type": "stream",
     "text": [
      "Trying for M6C\n"
     ]
    },
    {
     "name": "stderr",
     "output_type": "stream",
     "text": [
      "Status code 401 from http://api.opencagedata.com/geocode/v1/json: ERROR - 401 Client Error: Unauthorized for url: http://api.opencagedata.com/geocode/v1/json?query=M6C%2C+Toronto%2C+Ontario&key=13aa077d21ae42f287ec8607e07b2159&limit=1\n"
     ]
    },
    {
     "name": "stdout",
     "output_type": "stream",
     "text": [
      "Trying for M6C\n"
     ]
    },
    {
     "name": "stderr",
     "output_type": "stream",
     "text": [
      "Status code 401 from http://api.opencagedata.com/geocode/v1/json: ERROR - 401 Client Error: Unauthorized for url: http://api.opencagedata.com/geocode/v1/json?query=M6C%2C+Toronto%2C+Ontario&key=13aa077d21ae42f287ec8607e07b2159&limit=1\n"
     ]
    },
    {
     "name": "stdout",
     "output_type": "stream",
     "text": [
      "Trying for M6C\n"
     ]
    },
    {
     "name": "stderr",
     "output_type": "stream",
     "text": [
      "Status code 401 from http://api.opencagedata.com/geocode/v1/json: ERROR - 401 Client Error: Unauthorized for url: http://api.opencagedata.com/geocode/v1/json?query=M6C%2C+Toronto%2C+Ontario&key=13aa077d21ae42f287ec8607e07b2159&limit=1\n"
     ]
    },
    {
     "name": "stdout",
     "output_type": "stream",
     "text": [
      "Trying for M6C\n"
     ]
    },
    {
     "name": "stderr",
     "output_type": "stream",
     "text": [
      "Status code 401 from http://api.opencagedata.com/geocode/v1/json: ERROR - 401 Client Error: Unauthorized for url: http://api.opencagedata.com/geocode/v1/json?query=M6C%2C+Toronto%2C+Ontario&key=13aa077d21ae42f287ec8607e07b2159&limit=1\n"
     ]
    },
    {
     "name": "stdout",
     "output_type": "stream",
     "text": [
      "Trying for M6C\n"
     ]
    },
    {
     "name": "stderr",
     "output_type": "stream",
     "text": [
      "Status code 401 from http://api.opencagedata.com/geocode/v1/json: ERROR - 401 Client Error: Unauthorized for url: http://api.opencagedata.com/geocode/v1/json?query=M6C%2C+Toronto%2C+Ontario&key=13aa077d21ae42f287ec8607e07b2159&limit=1\n"
     ]
    },
    {
     "name": "stdout",
     "output_type": "stream",
     "text": [
      "Trying for M6C\n"
     ]
    },
    {
     "name": "stderr",
     "output_type": "stream",
     "text": [
      "Status code 401 from http://api.opencagedata.com/geocode/v1/json: ERROR - 401 Client Error: Unauthorized for url: http://api.opencagedata.com/geocode/v1/json?query=M6C%2C+Toronto%2C+Ontario&key=13aa077d21ae42f287ec8607e07b2159&limit=1\n"
     ]
    },
    {
     "name": "stdout",
     "output_type": "stream",
     "text": [
      "Trying for M6C\n"
     ]
    },
    {
     "name": "stderr",
     "output_type": "stream",
     "text": [
      "Status code 401 from http://api.opencagedata.com/geocode/v1/json: ERROR - 401 Client Error: Unauthorized for url: http://api.opencagedata.com/geocode/v1/json?query=M6C%2C+Toronto%2C+Ontario&key=13aa077d21ae42f287ec8607e07b2159&limit=1\n"
     ]
    },
    {
     "name": "stdout",
     "output_type": "stream",
     "text": [
      "Trying for M6C\n"
     ]
    },
    {
     "name": "stderr",
     "output_type": "stream",
     "text": [
      "Status code 401 from http://api.opencagedata.com/geocode/v1/json: ERROR - 401 Client Error: Unauthorized for url: http://api.opencagedata.com/geocode/v1/json?query=M6C%2C+Toronto%2C+Ontario&key=13aa077d21ae42f287ec8607e07b2159&limit=1\n"
     ]
    },
    {
     "name": "stdout",
     "output_type": "stream",
     "text": [
      "Trying for M6C\n"
     ]
    },
    {
     "name": "stderr",
     "output_type": "stream",
     "text": [
      "Status code 401 from http://api.opencagedata.com/geocode/v1/json: ERROR - 401 Client Error: Unauthorized for url: http://api.opencagedata.com/geocode/v1/json?query=M6C%2C+Toronto%2C+Ontario&key=13aa077d21ae42f287ec8607e07b2159&limit=1\n"
     ]
    },
    {
     "name": "stdout",
     "output_type": "stream",
     "text": [
      "Trying for M6C\n"
     ]
    },
    {
     "name": "stderr",
     "output_type": "stream",
     "text": [
      "Status code 401 from http://api.opencagedata.com/geocode/v1/json: ERROR - 401 Client Error: Unauthorized for url: http://api.opencagedata.com/geocode/v1/json?query=M6C%2C+Toronto%2C+Ontario&key=13aa077d21ae42f287ec8607e07b2159&limit=1\n"
     ]
    },
    {
     "name": "stdout",
     "output_type": "stream",
     "text": [
      "Trying for M6C\n"
     ]
    },
    {
     "name": "stderr",
     "output_type": "stream",
     "text": [
      "Status code 401 from http://api.opencagedata.com/geocode/v1/json: ERROR - 401 Client Error: Unauthorized for url: http://api.opencagedata.com/geocode/v1/json?query=M6C%2C+Toronto%2C+Ontario&key=13aa077d21ae42f287ec8607e07b2159&limit=1\n"
     ]
    },
    {
     "name": "stdout",
     "output_type": "stream",
     "text": [
      "Trying for M6C\n"
     ]
    },
    {
     "name": "stderr",
     "output_type": "stream",
     "text": [
      "Status code 401 from http://api.opencagedata.com/geocode/v1/json: ERROR - 401 Client Error: Unauthorized for url: http://api.opencagedata.com/geocode/v1/json?query=M6C%2C+Toronto%2C+Ontario&key=13aa077d21ae42f287ec8607e07b2159&limit=1\n"
     ]
    },
    {
     "name": "stdout",
     "output_type": "stream",
     "text": [
      "Trying for M6C\n"
     ]
    },
    {
     "name": "stderr",
     "output_type": "stream",
     "text": [
      "Status code 401 from http://api.opencagedata.com/geocode/v1/json: ERROR - 401 Client Error: Unauthorized for url: http://api.opencagedata.com/geocode/v1/json?query=M6C%2C+Toronto%2C+Ontario&key=13aa077d21ae42f287ec8607e07b2159&limit=1\n"
     ]
    },
    {
     "name": "stdout",
     "output_type": "stream",
     "text": [
      "Trying for M6C\n"
     ]
    },
    {
     "name": "stderr",
     "output_type": "stream",
     "text": [
      "Status code 401 from http://api.opencagedata.com/geocode/v1/json: ERROR - 401 Client Error: Unauthorized for url: http://api.opencagedata.com/geocode/v1/json?query=M6C%2C+Toronto%2C+Ontario&key=13aa077d21ae42f287ec8607e07b2159&limit=1\n"
     ]
    },
    {
     "name": "stdout",
     "output_type": "stream",
     "text": [
      "Trying for M6C\n"
     ]
    },
    {
     "name": "stderr",
     "output_type": "stream",
     "text": [
      "Status code 401 from http://api.opencagedata.com/geocode/v1/json: ERROR - 401 Client Error: Unauthorized for url: http://api.opencagedata.com/geocode/v1/json?query=M6C%2C+Toronto%2C+Ontario&key=13aa077d21ae42f287ec8607e07b2159&limit=1\n"
     ]
    },
    {
     "name": "stdout",
     "output_type": "stream",
     "text": [
      "Trying for M6C\n"
     ]
    },
    {
     "name": "stderr",
     "output_type": "stream",
     "text": [
      "Status code 401 from http://api.opencagedata.com/geocode/v1/json: ERROR - 401 Client Error: Unauthorized for url: http://api.opencagedata.com/geocode/v1/json?query=M6C%2C+Toronto%2C+Ontario&key=13aa077d21ae42f287ec8607e07b2159&limit=1\n"
     ]
    },
    {
     "name": "stdout",
     "output_type": "stream",
     "text": [
      "Trying for M6C\n"
     ]
    },
    {
     "name": "stderr",
     "output_type": "stream",
     "text": [
      "Status code 401 from http://api.opencagedata.com/geocode/v1/json: ERROR - 401 Client Error: Unauthorized for url: http://api.opencagedata.com/geocode/v1/json?query=M6C%2C+Toronto%2C+Ontario&key=13aa077d21ae42f287ec8607e07b2159&limit=1\n"
     ]
    },
    {
     "name": "stdout",
     "output_type": "stream",
     "text": [
      "Trying for M6C\n"
     ]
    },
    {
     "name": "stderr",
     "output_type": "stream",
     "text": [
      "Status code 401 from http://api.opencagedata.com/geocode/v1/json: ERROR - 401 Client Error: Unauthorized for url: http://api.opencagedata.com/geocode/v1/json?query=M6C%2C+Toronto%2C+Ontario&key=13aa077d21ae42f287ec8607e07b2159&limit=1\n"
     ]
    },
    {
     "name": "stdout",
     "output_type": "stream",
     "text": [
      "Trying for M6C\n"
     ]
    },
    {
     "name": "stderr",
     "output_type": "stream",
     "text": [
      "Status code 401 from http://api.opencagedata.com/geocode/v1/json: ERROR - 401 Client Error: Unauthorized for url: http://api.opencagedata.com/geocode/v1/json?query=M6C%2C+Toronto%2C+Ontario&key=13aa077d21ae42f287ec8607e07b2159&limit=1\n"
     ]
    },
    {
     "name": "stdout",
     "output_type": "stream",
     "text": [
      "Trying for M6C\n"
     ]
    },
    {
     "name": "stderr",
     "output_type": "stream",
     "text": [
      "Status code 401 from http://api.opencagedata.com/geocode/v1/json: ERROR - 401 Client Error: Unauthorized for url: http://api.opencagedata.com/geocode/v1/json?query=M6C%2C+Toronto%2C+Ontario&key=13aa077d21ae42f287ec8607e07b2159&limit=1\n"
     ]
    },
    {
     "name": "stdout",
     "output_type": "stream",
     "text": [
      "Trying for M6C\n"
     ]
    },
    {
     "name": "stderr",
     "output_type": "stream",
     "text": [
      "Status code 401 from http://api.opencagedata.com/geocode/v1/json: ERROR - 401 Client Error: Unauthorized for url: http://api.opencagedata.com/geocode/v1/json?query=M6C%2C+Toronto%2C+Ontario&key=13aa077d21ae42f287ec8607e07b2159&limit=1\n"
     ]
    },
    {
     "name": "stdout",
     "output_type": "stream",
     "text": [
      "Trying for M6C\n"
     ]
    },
    {
     "name": "stderr",
     "output_type": "stream",
     "text": [
      "Status code 401 from http://api.opencagedata.com/geocode/v1/json: ERROR - 401 Client Error: Unauthorized for url: http://api.opencagedata.com/geocode/v1/json?query=M6C%2C+Toronto%2C+Ontario&key=13aa077d21ae42f287ec8607e07b2159&limit=1\n"
     ]
    },
    {
     "name": "stdout",
     "output_type": "stream",
     "text": [
      "Trying for M6C\n"
     ]
    },
    {
     "name": "stderr",
     "output_type": "stream",
     "text": [
      "Status code 401 from http://api.opencagedata.com/geocode/v1/json: ERROR - 401 Client Error: Unauthorized for url: http://api.opencagedata.com/geocode/v1/json?query=M6C%2C+Toronto%2C+Ontario&key=13aa077d21ae42f287ec8607e07b2159&limit=1\n"
     ]
    },
    {
     "name": "stdout",
     "output_type": "stream",
     "text": [
      "Trying for M6C\n"
     ]
    },
    {
     "name": "stderr",
     "output_type": "stream",
     "text": [
      "Status code 401 from http://api.opencagedata.com/geocode/v1/json: ERROR - 401 Client Error: Unauthorized for url: http://api.opencagedata.com/geocode/v1/json?query=M6C%2C+Toronto%2C+Ontario&key=13aa077d21ae42f287ec8607e07b2159&limit=1\n"
     ]
    },
    {
     "name": "stdout",
     "output_type": "stream",
     "text": [
      "Trying for M6C\n"
     ]
    },
    {
     "name": "stderr",
     "output_type": "stream",
     "text": [
      "Status code 401 from http://api.opencagedata.com/geocode/v1/json: ERROR - 401 Client Error: Unauthorized for url: http://api.opencagedata.com/geocode/v1/json?query=M6C%2C+Toronto%2C+Ontario&key=13aa077d21ae42f287ec8607e07b2159&limit=1\n"
     ]
    },
    {
     "name": "stdout",
     "output_type": "stream",
     "text": [
      "Trying for M6C\n"
     ]
    },
    {
     "name": "stderr",
     "output_type": "stream",
     "text": [
      "Status code 401 from http://api.opencagedata.com/geocode/v1/json: ERROR - 401 Client Error: Unauthorized for url: http://api.opencagedata.com/geocode/v1/json?query=M6C%2C+Toronto%2C+Ontario&key=13aa077d21ae42f287ec8607e07b2159&limit=1\n"
     ]
    },
    {
     "name": "stdout",
     "output_type": "stream",
     "text": [
      "Trying for M6C\n"
     ]
    },
    {
     "name": "stderr",
     "output_type": "stream",
     "text": [
      "Status code 401 from http://api.opencagedata.com/geocode/v1/json: ERROR - 401 Client Error: Unauthorized for url: http://api.opencagedata.com/geocode/v1/json?query=M6C%2C+Toronto%2C+Ontario&key=13aa077d21ae42f287ec8607e07b2159&limit=1\n"
     ]
    },
    {
     "name": "stdout",
     "output_type": "stream",
     "text": [
      "Trying for M6C\n"
     ]
    },
    {
     "name": "stderr",
     "output_type": "stream",
     "text": [
      "Status code 401 from http://api.opencagedata.com/geocode/v1/json: ERROR - 401 Client Error: Unauthorized for url: http://api.opencagedata.com/geocode/v1/json?query=M6C%2C+Toronto%2C+Ontario&key=13aa077d21ae42f287ec8607e07b2159&limit=1\n"
     ]
    },
    {
     "name": "stdout",
     "output_type": "stream",
     "text": [
      "Trying for M6C\n"
     ]
    },
    {
     "name": "stderr",
     "output_type": "stream",
     "text": [
      "Status code 401 from http://api.opencagedata.com/geocode/v1/json: ERROR - 401 Client Error: Unauthorized for url: http://api.opencagedata.com/geocode/v1/json?query=M6C%2C+Toronto%2C+Ontario&key=13aa077d21ae42f287ec8607e07b2159&limit=1\n"
     ]
    },
    {
     "name": "stdout",
     "output_type": "stream",
     "text": [
      "Trying for M6C\n"
     ]
    },
    {
     "name": "stderr",
     "output_type": "stream",
     "text": [
      "Status code 401 from http://api.opencagedata.com/geocode/v1/json: ERROR - 401 Client Error: Unauthorized for url: http://api.opencagedata.com/geocode/v1/json?query=M6C%2C+Toronto%2C+Ontario&key=13aa077d21ae42f287ec8607e07b2159&limit=1\n"
     ]
    },
    {
     "name": "stdout",
     "output_type": "stream",
     "text": [
      "Trying for M6C\n"
     ]
    },
    {
     "name": "stderr",
     "output_type": "stream",
     "text": [
      "Status code 401 from http://api.opencagedata.com/geocode/v1/json: ERROR - 401 Client Error: Unauthorized for url: http://api.opencagedata.com/geocode/v1/json?query=M6C%2C+Toronto%2C+Ontario&key=13aa077d21ae42f287ec8607e07b2159&limit=1\n"
     ]
    },
    {
     "name": "stdout",
     "output_type": "stream",
     "text": [
      "Trying for M6C\n"
     ]
    },
    {
     "name": "stderr",
     "output_type": "stream",
     "text": [
      "Status code 401 from http://api.opencagedata.com/geocode/v1/json: ERROR - 401 Client Error: Unauthorized for url: http://api.opencagedata.com/geocode/v1/json?query=M6C%2C+Toronto%2C+Ontario&key=13aa077d21ae42f287ec8607e07b2159&limit=1\n"
     ]
    },
    {
     "name": "stdout",
     "output_type": "stream",
     "text": [
      "Trying for M6C\n"
     ]
    },
    {
     "name": "stderr",
     "output_type": "stream",
     "text": [
      "Status code 401 from http://api.opencagedata.com/geocode/v1/json: ERROR - 401 Client Error: Unauthorized for url: http://api.opencagedata.com/geocode/v1/json?query=M6C%2C+Toronto%2C+Ontario&key=13aa077d21ae42f287ec8607e07b2159&limit=1\n"
     ]
    },
    {
     "name": "stdout",
     "output_type": "stream",
     "text": [
      "Trying for M6C\n"
     ]
    },
    {
     "name": "stderr",
     "output_type": "stream",
     "text": [
      "Status code 401 from http://api.opencagedata.com/geocode/v1/json: ERROR - 401 Client Error: Unauthorized for url: http://api.opencagedata.com/geocode/v1/json?query=M6C%2C+Toronto%2C+Ontario&key=13aa077d21ae42f287ec8607e07b2159&limit=1\n"
     ]
    },
    {
     "name": "stdout",
     "output_type": "stream",
     "text": [
      "Trying for M6C\n"
     ]
    },
    {
     "name": "stderr",
     "output_type": "stream",
     "text": [
      "Status code 401 from http://api.opencagedata.com/geocode/v1/json: ERROR - 401 Client Error: Unauthorized for url: http://api.opencagedata.com/geocode/v1/json?query=M6C%2C+Toronto%2C+Ontario&key=13aa077d21ae42f287ec8607e07b2159&limit=1\n"
     ]
    },
    {
     "name": "stdout",
     "output_type": "stream",
     "text": [
      "Trying for M6C\n"
     ]
    },
    {
     "name": "stderr",
     "output_type": "stream",
     "text": [
      "Status code 401 from http://api.opencagedata.com/geocode/v1/json: ERROR - 401 Client Error: Unauthorized for url: http://api.opencagedata.com/geocode/v1/json?query=M6C%2C+Toronto%2C+Ontario&key=13aa077d21ae42f287ec8607e07b2159&limit=1\n"
     ]
    },
    {
     "name": "stdout",
     "output_type": "stream",
     "text": [
      "Trying for M6C\n"
     ]
    },
    {
     "name": "stderr",
     "output_type": "stream",
     "text": [
      "Status code 401 from http://api.opencagedata.com/geocode/v1/json: ERROR - 401 Client Error: Unauthorized for url: http://api.opencagedata.com/geocode/v1/json?query=M6C%2C+Toronto%2C+Ontario&key=13aa077d21ae42f287ec8607e07b2159&limit=1\n"
     ]
    },
    {
     "name": "stdout",
     "output_type": "stream",
     "text": [
      "Trying for M6C\n"
     ]
    },
    {
     "name": "stderr",
     "output_type": "stream",
     "text": [
      "Status code 401 from http://api.opencagedata.com/geocode/v1/json: ERROR - 401 Client Error: Unauthorized for url: http://api.opencagedata.com/geocode/v1/json?query=M6C%2C+Toronto%2C+Ontario&key=13aa077d21ae42f287ec8607e07b2159&limit=1\n"
     ]
    },
    {
     "name": "stdout",
     "output_type": "stream",
     "text": [
      "Trying for M6C\n"
     ]
    },
    {
     "name": "stderr",
     "output_type": "stream",
     "text": [
      "Status code 401 from http://api.opencagedata.com/geocode/v1/json: ERROR - 401 Client Error: Unauthorized for url: http://api.opencagedata.com/geocode/v1/json?query=M6C%2C+Toronto%2C+Ontario&key=13aa077d21ae42f287ec8607e07b2159&limit=1\n"
     ]
    },
    {
     "name": "stdout",
     "output_type": "stream",
     "text": [
      "Trying for M6C\n"
     ]
    },
    {
     "name": "stderr",
     "output_type": "stream",
     "text": [
      "Status code 401 from http://api.opencagedata.com/geocode/v1/json: ERROR - 401 Client Error: Unauthorized for url: http://api.opencagedata.com/geocode/v1/json?query=M6C%2C+Toronto%2C+Ontario&key=13aa077d21ae42f287ec8607e07b2159&limit=1\n"
     ]
    },
    {
     "name": "stdout",
     "output_type": "stream",
     "text": [
      "Trying for M6C\n"
     ]
    },
    {
     "name": "stderr",
     "output_type": "stream",
     "text": [
      "Status code 401 from http://api.opencagedata.com/geocode/v1/json: ERROR - 401 Client Error: Unauthorized for url: http://api.opencagedata.com/geocode/v1/json?query=M6C%2C+Toronto%2C+Ontario&key=13aa077d21ae42f287ec8607e07b2159&limit=1\n"
     ]
    },
    {
     "name": "stdout",
     "output_type": "stream",
     "text": [
      "Trying for M6C\n"
     ]
    },
    {
     "name": "stderr",
     "output_type": "stream",
     "text": [
      "Status code 401 from http://api.opencagedata.com/geocode/v1/json: ERROR - 401 Client Error: Unauthorized for url: http://api.opencagedata.com/geocode/v1/json?query=M6C%2C+Toronto%2C+Ontario&key=13aa077d21ae42f287ec8607e07b2159&limit=1\n"
     ]
    },
    {
     "name": "stdout",
     "output_type": "stream",
     "text": [
      "Trying for M6C\n"
     ]
    },
    {
     "name": "stderr",
     "output_type": "stream",
     "text": [
      "Status code 401 from http://api.opencagedata.com/geocode/v1/json: ERROR - 401 Client Error: Unauthorized for url: http://api.opencagedata.com/geocode/v1/json?query=M6C%2C+Toronto%2C+Ontario&key=13aa077d21ae42f287ec8607e07b2159&limit=1\n"
     ]
    },
    {
     "name": "stdout",
     "output_type": "stream",
     "text": [
      "Trying for M6C\n"
     ]
    },
    {
     "name": "stderr",
     "output_type": "stream",
     "text": [
      "Status code 401 from http://api.opencagedata.com/geocode/v1/json: ERROR - 401 Client Error: Unauthorized for url: http://api.opencagedata.com/geocode/v1/json?query=M6C%2C+Toronto%2C+Ontario&key=13aa077d21ae42f287ec8607e07b2159&limit=1\n"
     ]
    },
    {
     "name": "stdout",
     "output_type": "stream",
     "text": [
      "Trying for M6C\n"
     ]
    },
    {
     "name": "stderr",
     "output_type": "stream",
     "text": [
      "Status code 401 from http://api.opencagedata.com/geocode/v1/json: ERROR - 401 Client Error: Unauthorized for url: http://api.opencagedata.com/geocode/v1/json?query=M6C%2C+Toronto%2C+Ontario&key=13aa077d21ae42f287ec8607e07b2159&limit=1\n"
     ]
    },
    {
     "name": "stdout",
     "output_type": "stream",
     "text": [
      "Trying for M6C\n"
     ]
    },
    {
     "name": "stderr",
     "output_type": "stream",
     "text": [
      "Status code 401 from http://api.opencagedata.com/geocode/v1/json: ERROR - 401 Client Error: Unauthorized for url: http://api.opencagedata.com/geocode/v1/json?query=M6C%2C+Toronto%2C+Ontario&key=13aa077d21ae42f287ec8607e07b2159&limit=1\n"
     ]
    },
    {
     "name": "stdout",
     "output_type": "stream",
     "text": [
      "Trying for M6C\n"
     ]
    },
    {
     "name": "stderr",
     "output_type": "stream",
     "text": [
      "Status code 401 from http://api.opencagedata.com/geocode/v1/json: ERROR - 401 Client Error: Unauthorized for url: http://api.opencagedata.com/geocode/v1/json?query=M6C%2C+Toronto%2C+Ontario&key=13aa077d21ae42f287ec8607e07b2159&limit=1\n"
     ]
    },
    {
     "name": "stdout",
     "output_type": "stream",
     "text": [
      "Trying for M6C\n"
     ]
    },
    {
     "name": "stderr",
     "output_type": "stream",
     "text": [
      "Status code 401 from http://api.opencagedata.com/geocode/v1/json: ERROR - 401 Client Error: Unauthorized for url: http://api.opencagedata.com/geocode/v1/json?query=M6C%2C+Toronto%2C+Ontario&key=13aa077d21ae42f287ec8607e07b2159&limit=1\n"
     ]
    },
    {
     "name": "stdout",
     "output_type": "stream",
     "text": [
      "Trying for M6C\n"
     ]
    },
    {
     "name": "stderr",
     "output_type": "stream",
     "text": [
      "Status code 401 from http://api.opencagedata.com/geocode/v1/json: ERROR - 401 Client Error: Unauthorized for url: http://api.opencagedata.com/geocode/v1/json?query=M6C%2C+Toronto%2C+Ontario&key=13aa077d21ae42f287ec8607e07b2159&limit=1\n"
     ]
    },
    {
     "name": "stdout",
     "output_type": "stream",
     "text": [
      "Trying for M6C\n"
     ]
    },
    {
     "name": "stderr",
     "output_type": "stream",
     "text": [
      "Status code 401 from http://api.opencagedata.com/geocode/v1/json: ERROR - 401 Client Error: Unauthorized for url: http://api.opencagedata.com/geocode/v1/json?query=M6C%2C+Toronto%2C+Ontario&key=13aa077d21ae42f287ec8607e07b2159&limit=1\n"
     ]
    },
    {
     "name": "stdout",
     "output_type": "stream",
     "text": [
      "Trying for M6C\n"
     ]
    },
    {
     "name": "stderr",
     "output_type": "stream",
     "text": [
      "Status code 401 from http://api.opencagedata.com/geocode/v1/json: ERROR - 401 Client Error: Unauthorized for url: http://api.opencagedata.com/geocode/v1/json?query=M6C%2C+Toronto%2C+Ontario&key=13aa077d21ae42f287ec8607e07b2159&limit=1\n"
     ]
    },
    {
     "name": "stdout",
     "output_type": "stream",
     "text": [
      "Trying for M6C\n"
     ]
    },
    {
     "name": "stderr",
     "output_type": "stream",
     "text": [
      "Status code 401 from http://api.opencagedata.com/geocode/v1/json: ERROR - 401 Client Error: Unauthorized for url: http://api.opencagedata.com/geocode/v1/json?query=M6C%2C+Toronto%2C+Ontario&key=13aa077d21ae42f287ec8607e07b2159&limit=1\n"
     ]
    },
    {
     "name": "stdout",
     "output_type": "stream",
     "text": [
      "Trying for M6C\n"
     ]
    },
    {
     "name": "stderr",
     "output_type": "stream",
     "text": [
      "Status code 401 from http://api.opencagedata.com/geocode/v1/json: ERROR - 401 Client Error: Unauthorized for url: http://api.opencagedata.com/geocode/v1/json?query=M6C%2C+Toronto%2C+Ontario&key=13aa077d21ae42f287ec8607e07b2159&limit=1\n"
     ]
    },
    {
     "name": "stdout",
     "output_type": "stream",
     "text": [
      "Trying for M6C\n"
     ]
    },
    {
     "name": "stderr",
     "output_type": "stream",
     "text": [
      "Status code 401 from http://api.opencagedata.com/geocode/v1/json: ERROR - 401 Client Error: Unauthorized for url: http://api.opencagedata.com/geocode/v1/json?query=M6C%2C+Toronto%2C+Ontario&key=13aa077d21ae42f287ec8607e07b2159&limit=1\n"
     ]
    },
    {
     "name": "stdout",
     "output_type": "stream",
     "text": [
      "Trying for M6C\n"
     ]
    },
    {
     "name": "stderr",
     "output_type": "stream",
     "text": [
      "Status code 401 from http://api.opencagedata.com/geocode/v1/json: ERROR - 401 Client Error: Unauthorized for url: http://api.opencagedata.com/geocode/v1/json?query=M6C%2C+Toronto%2C+Ontario&key=13aa077d21ae42f287ec8607e07b2159&limit=1\n"
     ]
    },
    {
     "name": "stdout",
     "output_type": "stream",
     "text": [
      "Trying for M6C\n"
     ]
    },
    {
     "name": "stderr",
     "output_type": "stream",
     "text": [
      "Status code 401 from http://api.opencagedata.com/geocode/v1/json: ERROR - 401 Client Error: Unauthorized for url: http://api.opencagedata.com/geocode/v1/json?query=M6C%2C+Toronto%2C+Ontario&key=13aa077d21ae42f287ec8607e07b2159&limit=1\n"
     ]
    },
    {
     "name": "stdout",
     "output_type": "stream",
     "text": [
      "Trying for M6C\n"
     ]
    },
    {
     "name": "stderr",
     "output_type": "stream",
     "text": [
      "Status code 401 from http://api.opencagedata.com/geocode/v1/json: ERROR - 401 Client Error: Unauthorized for url: http://api.opencagedata.com/geocode/v1/json?query=M6C%2C+Toronto%2C+Ontario&key=13aa077d21ae42f287ec8607e07b2159&limit=1\n"
     ]
    },
    {
     "name": "stdout",
     "output_type": "stream",
     "text": [
      "Trying for M6C\n"
     ]
    },
    {
     "name": "stderr",
     "output_type": "stream",
     "text": [
      "Status code 401 from http://api.opencagedata.com/geocode/v1/json: ERROR - 401 Client Error: Unauthorized for url: http://api.opencagedata.com/geocode/v1/json?query=M6C%2C+Toronto%2C+Ontario&key=13aa077d21ae42f287ec8607e07b2159&limit=1\n"
     ]
    },
    {
     "name": "stdout",
     "output_type": "stream",
     "text": [
      "Trying for M6C\n"
     ]
    },
    {
     "name": "stderr",
     "output_type": "stream",
     "text": [
      "Status code 401 from http://api.opencagedata.com/geocode/v1/json: ERROR - 401 Client Error: Unauthorized for url: http://api.opencagedata.com/geocode/v1/json?query=M6C%2C+Toronto%2C+Ontario&key=13aa077d21ae42f287ec8607e07b2159&limit=1\n"
     ]
    },
    {
     "name": "stdout",
     "output_type": "stream",
     "text": [
      "Trying for M6C\n"
     ]
    },
    {
     "name": "stderr",
     "output_type": "stream",
     "text": [
      "Status code 401 from http://api.opencagedata.com/geocode/v1/json: ERROR - 401 Client Error: Unauthorized for url: http://api.opencagedata.com/geocode/v1/json?query=M6C%2C+Toronto%2C+Ontario&key=13aa077d21ae42f287ec8607e07b2159&limit=1\n"
     ]
    },
    {
     "name": "stdout",
     "output_type": "stream",
     "text": [
      "Trying for M6C\n"
     ]
    },
    {
     "name": "stderr",
     "output_type": "stream",
     "text": [
      "Status code 401 from http://api.opencagedata.com/geocode/v1/json: ERROR - 401 Client Error: Unauthorized for url: http://api.opencagedata.com/geocode/v1/json?query=M6C%2C+Toronto%2C+Ontario&key=13aa077d21ae42f287ec8607e07b2159&limit=1\n"
     ]
    },
    {
     "name": "stdout",
     "output_type": "stream",
     "text": [
      "Trying for M6C\n"
     ]
    },
    {
     "name": "stderr",
     "output_type": "stream",
     "text": [
      "Status code 401 from http://api.opencagedata.com/geocode/v1/json: ERROR - 401 Client Error: Unauthorized for url: http://api.opencagedata.com/geocode/v1/json?query=M6C%2C+Toronto%2C+Ontario&key=13aa077d21ae42f287ec8607e07b2159&limit=1\n"
     ]
    },
    {
     "name": "stdout",
     "output_type": "stream",
     "text": [
      "Trying for M6C\n"
     ]
    },
    {
     "name": "stderr",
     "output_type": "stream",
     "text": [
      "Status code 401 from http://api.opencagedata.com/geocode/v1/json: ERROR - 401 Client Error: Unauthorized for url: http://api.opencagedata.com/geocode/v1/json?query=M6C%2C+Toronto%2C+Ontario&key=13aa077d21ae42f287ec8607e07b2159&limit=1\n"
     ]
    },
    {
     "name": "stdout",
     "output_type": "stream",
     "text": [
      "Trying for M6C\n"
     ]
    },
    {
     "name": "stderr",
     "output_type": "stream",
     "text": [
      "Status code 401 from http://api.opencagedata.com/geocode/v1/json: ERROR - 401 Client Error: Unauthorized for url: http://api.opencagedata.com/geocode/v1/json?query=M6C%2C+Toronto%2C+Ontario&key=13aa077d21ae42f287ec8607e07b2159&limit=1\n"
     ]
    },
    {
     "name": "stdout",
     "output_type": "stream",
     "text": [
      "Trying for M6C\n"
     ]
    },
    {
     "name": "stderr",
     "output_type": "stream",
     "text": [
      "Status code 401 from http://api.opencagedata.com/geocode/v1/json: ERROR - 401 Client Error: Unauthorized for url: http://api.opencagedata.com/geocode/v1/json?query=M6C%2C+Toronto%2C+Ontario&key=13aa077d21ae42f287ec8607e07b2159&limit=1\n"
     ]
    },
    {
     "name": "stdout",
     "output_type": "stream",
     "text": [
      "Trying for M6C\n"
     ]
    },
    {
     "name": "stderr",
     "output_type": "stream",
     "text": [
      "Status code 401 from http://api.opencagedata.com/geocode/v1/json: ERROR - 401 Client Error: Unauthorized for url: http://api.opencagedata.com/geocode/v1/json?query=M6C%2C+Toronto%2C+Ontario&key=13aa077d21ae42f287ec8607e07b2159&limit=1\n"
     ]
    },
    {
     "name": "stdout",
     "output_type": "stream",
     "text": [
      "Trying for M6C\n"
     ]
    },
    {
     "name": "stderr",
     "output_type": "stream",
     "text": [
      "Status code 401 from http://api.opencagedata.com/geocode/v1/json: ERROR - 401 Client Error: Unauthorized for url: http://api.opencagedata.com/geocode/v1/json?query=M6C%2C+Toronto%2C+Ontario&key=13aa077d21ae42f287ec8607e07b2159&limit=1\n"
     ]
    },
    {
     "name": "stdout",
     "output_type": "stream",
     "text": [
      "Trying for M6C\n"
     ]
    },
    {
     "name": "stderr",
     "output_type": "stream",
     "text": [
      "Status code 401 from http://api.opencagedata.com/geocode/v1/json: ERROR - 401 Client Error: Unauthorized for url: http://api.opencagedata.com/geocode/v1/json?query=M6C%2C+Toronto%2C+Ontario&key=13aa077d21ae42f287ec8607e07b2159&limit=1\n"
     ]
    },
    {
     "name": "stdout",
     "output_type": "stream",
     "text": [
      "Trying for M6C\n"
     ]
    },
    {
     "name": "stderr",
     "output_type": "stream",
     "text": [
      "Status code 401 from http://api.opencagedata.com/geocode/v1/json: ERROR - 401 Client Error: Unauthorized for url: http://api.opencagedata.com/geocode/v1/json?query=M6C%2C+Toronto%2C+Ontario&key=13aa077d21ae42f287ec8607e07b2159&limit=1\n"
     ]
    },
    {
     "name": "stdout",
     "output_type": "stream",
     "text": [
      "Trying for M6C\n"
     ]
    },
    {
     "name": "stderr",
     "output_type": "stream",
     "text": [
      "Status code 401 from http://api.opencagedata.com/geocode/v1/json: ERROR - 401 Client Error: Unauthorized for url: http://api.opencagedata.com/geocode/v1/json?query=M6C%2C+Toronto%2C+Ontario&key=13aa077d21ae42f287ec8607e07b2159&limit=1\n"
     ]
    },
    {
     "name": "stdout",
     "output_type": "stream",
     "text": [
      "Trying for M6C\n"
     ]
    },
    {
     "name": "stderr",
     "output_type": "stream",
     "text": [
      "Status code 401 from http://api.opencagedata.com/geocode/v1/json: ERROR - 401 Client Error: Unauthorized for url: http://api.opencagedata.com/geocode/v1/json?query=M6C%2C+Toronto%2C+Ontario&key=13aa077d21ae42f287ec8607e07b2159&limit=1\n"
     ]
    },
    {
     "name": "stdout",
     "output_type": "stream",
     "text": [
      "Trying for M6C\n"
     ]
    },
    {
     "name": "stderr",
     "output_type": "stream",
     "text": [
      "Status code 401 from http://api.opencagedata.com/geocode/v1/json: ERROR - 401 Client Error: Unauthorized for url: http://api.opencagedata.com/geocode/v1/json?query=M6C%2C+Toronto%2C+Ontario&key=13aa077d21ae42f287ec8607e07b2159&limit=1\n"
     ]
    },
    {
     "name": "stdout",
     "output_type": "stream",
     "text": [
      "Trying for M6C\n"
     ]
    },
    {
     "name": "stderr",
     "output_type": "stream",
     "text": [
      "Status code 401 from http://api.opencagedata.com/geocode/v1/json: ERROR - 401 Client Error: Unauthorized for url: http://api.opencagedata.com/geocode/v1/json?query=M6C%2C+Toronto%2C+Ontario&key=13aa077d21ae42f287ec8607e07b2159&limit=1\n"
     ]
    },
    {
     "name": "stdout",
     "output_type": "stream",
     "text": [
      "Trying for M6C\n"
     ]
    },
    {
     "name": "stderr",
     "output_type": "stream",
     "text": [
      "Status code 401 from http://api.opencagedata.com/geocode/v1/json: ERROR - 401 Client Error: Unauthorized for url: http://api.opencagedata.com/geocode/v1/json?query=M6C%2C+Toronto%2C+Ontario&key=13aa077d21ae42f287ec8607e07b2159&limit=1\n"
     ]
    },
    {
     "name": "stdout",
     "output_type": "stream",
     "text": [
      "Trying for M6C\n"
     ]
    },
    {
     "name": "stderr",
     "output_type": "stream",
     "text": [
      "Status code 401 from http://api.opencagedata.com/geocode/v1/json: ERROR - 401 Client Error: Unauthorized for url: http://api.opencagedata.com/geocode/v1/json?query=M6C%2C+Toronto%2C+Ontario&key=13aa077d21ae42f287ec8607e07b2159&limit=1\n"
     ]
    },
    {
     "name": "stdout",
     "output_type": "stream",
     "text": [
      "Trying for M6C\n"
     ]
    },
    {
     "name": "stderr",
     "output_type": "stream",
     "text": [
      "Status code 401 from http://api.opencagedata.com/geocode/v1/json: ERROR - 401 Client Error: Unauthorized for url: http://api.opencagedata.com/geocode/v1/json?query=M6C%2C+Toronto%2C+Ontario&key=13aa077d21ae42f287ec8607e07b2159&limit=1\n"
     ]
    },
    {
     "name": "stdout",
     "output_type": "stream",
     "text": [
      "Trying for M6C\n"
     ]
    },
    {
     "name": "stderr",
     "output_type": "stream",
     "text": [
      "Status code 401 from http://api.opencagedata.com/geocode/v1/json: ERROR - 401 Client Error: Unauthorized for url: http://api.opencagedata.com/geocode/v1/json?query=M6C%2C+Toronto%2C+Ontario&key=13aa077d21ae42f287ec8607e07b2159&limit=1\n"
     ]
    },
    {
     "name": "stdout",
     "output_type": "stream",
     "text": [
      "Trying for M6C\n"
     ]
    },
    {
     "name": "stderr",
     "output_type": "stream",
     "text": [
      "Status code 401 from http://api.opencagedata.com/geocode/v1/json: ERROR - 401 Client Error: Unauthorized for url: http://api.opencagedata.com/geocode/v1/json?query=M6C%2C+Toronto%2C+Ontario&key=13aa077d21ae42f287ec8607e07b2159&limit=1\n"
     ]
    },
    {
     "name": "stdout",
     "output_type": "stream",
     "text": [
      "Trying for M6C\n"
     ]
    },
    {
     "name": "stderr",
     "output_type": "stream",
     "text": [
      "Status code 401 from http://api.opencagedata.com/geocode/v1/json: ERROR - 401 Client Error: Unauthorized for url: http://api.opencagedata.com/geocode/v1/json?query=M6C%2C+Toronto%2C+Ontario&key=13aa077d21ae42f287ec8607e07b2159&limit=1\n"
     ]
    },
    {
     "name": "stdout",
     "output_type": "stream",
     "text": [
      "Trying for M6C\n"
     ]
    },
    {
     "name": "stderr",
     "output_type": "stream",
     "text": [
      "Status code 401 from http://api.opencagedata.com/geocode/v1/json: ERROR - 401 Client Error: Unauthorized for url: http://api.opencagedata.com/geocode/v1/json?query=M6C%2C+Toronto%2C+Ontario&key=13aa077d21ae42f287ec8607e07b2159&limit=1\n"
     ]
    },
    {
     "name": "stdout",
     "output_type": "stream",
     "text": [
      "Trying for M6C\n"
     ]
    },
    {
     "name": "stderr",
     "output_type": "stream",
     "text": [
      "Status code 401 from http://api.opencagedata.com/geocode/v1/json: ERROR - 401 Client Error: Unauthorized for url: http://api.opencagedata.com/geocode/v1/json?query=M6C%2C+Toronto%2C+Ontario&key=13aa077d21ae42f287ec8607e07b2159&limit=1\n"
     ]
    },
    {
     "name": "stdout",
     "output_type": "stream",
     "text": [
      "Trying for M6C\n"
     ]
    },
    {
     "name": "stderr",
     "output_type": "stream",
     "text": [
      "Status code 401 from http://api.opencagedata.com/geocode/v1/json: ERROR - 401 Client Error: Unauthorized for url: http://api.opencagedata.com/geocode/v1/json?query=M6C%2C+Toronto%2C+Ontario&key=13aa077d21ae42f287ec8607e07b2159&limit=1\n"
     ]
    },
    {
     "name": "stdout",
     "output_type": "stream",
     "text": [
      "Trying for M6C\n"
     ]
    },
    {
     "name": "stderr",
     "output_type": "stream",
     "text": [
      "Status code 401 from http://api.opencagedata.com/geocode/v1/json: ERROR - 401 Client Error: Unauthorized for url: http://api.opencagedata.com/geocode/v1/json?query=M6C%2C+Toronto%2C+Ontario&key=13aa077d21ae42f287ec8607e07b2159&limit=1\n"
     ]
    },
    {
     "name": "stdout",
     "output_type": "stream",
     "text": [
      "Trying for M6C\n"
     ]
    },
    {
     "name": "stderr",
     "output_type": "stream",
     "text": [
      "Status code 401 from http://api.opencagedata.com/geocode/v1/json: ERROR - 401 Client Error: Unauthorized for url: http://api.opencagedata.com/geocode/v1/json?query=M6C%2C+Toronto%2C+Ontario&key=13aa077d21ae42f287ec8607e07b2159&limit=1\n"
     ]
    },
    {
     "name": "stdout",
     "output_type": "stream",
     "text": [
      "Trying for M6C\n"
     ]
    },
    {
     "name": "stderr",
     "output_type": "stream",
     "text": [
      "Status code 401 from http://api.opencagedata.com/geocode/v1/json: ERROR - 401 Client Error: Unauthorized for url: http://api.opencagedata.com/geocode/v1/json?query=M6C%2C+Toronto%2C+Ontario&key=13aa077d21ae42f287ec8607e07b2159&limit=1\n"
     ]
    },
    {
     "name": "stdout",
     "output_type": "stream",
     "text": [
      "Trying for M6C\n"
     ]
    },
    {
     "name": "stderr",
     "output_type": "stream",
     "text": [
      "Status code 401 from http://api.opencagedata.com/geocode/v1/json: ERROR - 401 Client Error: Unauthorized for url: http://api.opencagedata.com/geocode/v1/json?query=M6C%2C+Toronto%2C+Ontario&key=13aa077d21ae42f287ec8607e07b2159&limit=1\n"
     ]
    },
    {
     "name": "stdout",
     "output_type": "stream",
     "text": [
      "Trying for M6C\n"
     ]
    },
    {
     "name": "stderr",
     "output_type": "stream",
     "text": [
      "Status code 401 from http://api.opencagedata.com/geocode/v1/json: ERROR - 401 Client Error: Unauthorized for url: http://api.opencagedata.com/geocode/v1/json?query=M6C%2C+Toronto%2C+Ontario&key=13aa077d21ae42f287ec8607e07b2159&limit=1\n"
     ]
    },
    {
     "name": "stdout",
     "output_type": "stream",
     "text": [
      "Trying for M6C\n"
     ]
    },
    {
     "name": "stderr",
     "output_type": "stream",
     "text": [
      "Status code 401 from http://api.opencagedata.com/geocode/v1/json: ERROR - 401 Client Error: Unauthorized for url: http://api.opencagedata.com/geocode/v1/json?query=M6C%2C+Toronto%2C+Ontario&key=13aa077d21ae42f287ec8607e07b2159&limit=1\n"
     ]
    },
    {
     "name": "stdout",
     "output_type": "stream",
     "text": [
      "Trying for M6C\n"
     ]
    },
    {
     "name": "stderr",
     "output_type": "stream",
     "text": [
      "Status code 401 from http://api.opencagedata.com/geocode/v1/json: ERROR - 401 Client Error: Unauthorized for url: http://api.opencagedata.com/geocode/v1/json?query=M6C%2C+Toronto%2C+Ontario&key=13aa077d21ae42f287ec8607e07b2159&limit=1\n"
     ]
    },
    {
     "name": "stdout",
     "output_type": "stream",
     "text": [
      "Trying for M6C\n"
     ]
    },
    {
     "name": "stderr",
     "output_type": "stream",
     "text": [
      "Status code 401 from http://api.opencagedata.com/geocode/v1/json: ERROR - 401 Client Error: Unauthorized for url: http://api.opencagedata.com/geocode/v1/json?query=M6C%2C+Toronto%2C+Ontario&key=13aa077d21ae42f287ec8607e07b2159&limit=1\n"
     ]
    },
    {
     "name": "stdout",
     "output_type": "stream",
     "text": [
      "Trying for M6C\n"
     ]
    },
    {
     "name": "stderr",
     "output_type": "stream",
     "text": [
      "Status code 401 from http://api.opencagedata.com/geocode/v1/json: ERROR - 401 Client Error: Unauthorized for url: http://api.opencagedata.com/geocode/v1/json?query=M6C%2C+Toronto%2C+Ontario&key=13aa077d21ae42f287ec8607e07b2159&limit=1\n"
     ]
    },
    {
     "name": "stdout",
     "output_type": "stream",
     "text": [
      "Trying for M6C\n"
     ]
    },
    {
     "name": "stderr",
     "output_type": "stream",
     "text": [
      "Status code 401 from http://api.opencagedata.com/geocode/v1/json: ERROR - 401 Client Error: Unauthorized for url: http://api.opencagedata.com/geocode/v1/json?query=M6C%2C+Toronto%2C+Ontario&key=13aa077d21ae42f287ec8607e07b2159&limit=1\n"
     ]
    },
    {
     "name": "stdout",
     "output_type": "stream",
     "text": [
      "Trying for M6C\n"
     ]
    },
    {
     "name": "stderr",
     "output_type": "stream",
     "text": [
      "Status code 401 from http://api.opencagedata.com/geocode/v1/json: ERROR - 401 Client Error: Unauthorized for url: http://api.opencagedata.com/geocode/v1/json?query=M6C%2C+Toronto%2C+Ontario&key=13aa077d21ae42f287ec8607e07b2159&limit=1\n"
     ]
    },
    {
     "name": "stdout",
     "output_type": "stream",
     "text": [
      "Trying for M6C\n"
     ]
    },
    {
     "name": "stderr",
     "output_type": "stream",
     "text": [
      "Status code 401 from http://api.opencagedata.com/geocode/v1/json: ERROR - 401 Client Error: Unauthorized for url: http://api.opencagedata.com/geocode/v1/json?query=M6C%2C+Toronto%2C+Ontario&key=13aa077d21ae42f287ec8607e07b2159&limit=1\n"
     ]
    },
    {
     "name": "stdout",
     "output_type": "stream",
     "text": [
      "Trying for M6C\n"
     ]
    },
    {
     "name": "stderr",
     "output_type": "stream",
     "text": [
      "Status code 401 from http://api.opencagedata.com/geocode/v1/json: ERROR - 401 Client Error: Unauthorized for url: http://api.opencagedata.com/geocode/v1/json?query=M6C%2C+Toronto%2C+Ontario&key=13aa077d21ae42f287ec8607e07b2159&limit=1\n"
     ]
    },
    {
     "name": "stdout",
     "output_type": "stream",
     "text": [
      "Trying for M6C\n"
     ]
    },
    {
     "name": "stderr",
     "output_type": "stream",
     "text": [
      "Status code 401 from http://api.opencagedata.com/geocode/v1/json: ERROR - 401 Client Error: Unauthorized for url: http://api.opencagedata.com/geocode/v1/json?query=M6C%2C+Toronto%2C+Ontario&key=13aa077d21ae42f287ec8607e07b2159&limit=1\n"
     ]
    },
    {
     "name": "stdout",
     "output_type": "stream",
     "text": [
      "Trying for M6C\n"
     ]
    },
    {
     "name": "stderr",
     "output_type": "stream",
     "text": [
      "Status code 401 from http://api.opencagedata.com/geocode/v1/json: ERROR - 401 Client Error: Unauthorized for url: http://api.opencagedata.com/geocode/v1/json?query=M6C%2C+Toronto%2C+Ontario&key=13aa077d21ae42f287ec8607e07b2159&limit=1\n"
     ]
    },
    {
     "name": "stdout",
     "output_type": "stream",
     "text": [
      "Trying for M6C\n"
     ]
    },
    {
     "name": "stderr",
     "output_type": "stream",
     "text": [
      "Status code 401 from http://api.opencagedata.com/geocode/v1/json: ERROR - 401 Client Error: Unauthorized for url: http://api.opencagedata.com/geocode/v1/json?query=M6C%2C+Toronto%2C+Ontario&key=13aa077d21ae42f287ec8607e07b2159&limit=1\n"
     ]
    },
    {
     "name": "stdout",
     "output_type": "stream",
     "text": [
      "Trying for M6C\n"
     ]
    },
    {
     "name": "stderr",
     "output_type": "stream",
     "text": [
      "Status code 401 from http://api.opencagedata.com/geocode/v1/json: ERROR - 401 Client Error: Unauthorized for url: http://api.opencagedata.com/geocode/v1/json?query=M6C%2C+Toronto%2C+Ontario&key=13aa077d21ae42f287ec8607e07b2159&limit=1\n"
     ]
    },
    {
     "name": "stdout",
     "output_type": "stream",
     "text": [
      "Trying for M6C\n"
     ]
    },
    {
     "name": "stderr",
     "output_type": "stream",
     "text": [
      "Status code 401 from http://api.opencagedata.com/geocode/v1/json: ERROR - 401 Client Error: Unauthorized for url: http://api.opencagedata.com/geocode/v1/json?query=M6C%2C+Toronto%2C+Ontario&key=13aa077d21ae42f287ec8607e07b2159&limit=1\n"
     ]
    },
    {
     "name": "stdout",
     "output_type": "stream",
     "text": [
      "Trying for M6C\n"
     ]
    },
    {
     "name": "stderr",
     "output_type": "stream",
     "text": [
      "Status code 401 from http://api.opencagedata.com/geocode/v1/json: ERROR - 401 Client Error: Unauthorized for url: http://api.opencagedata.com/geocode/v1/json?query=M6C%2C+Toronto%2C+Ontario&key=13aa077d21ae42f287ec8607e07b2159&limit=1\n"
     ]
    },
    {
     "name": "stdout",
     "output_type": "stream",
     "text": [
      "Trying for M6C\n"
     ]
    },
    {
     "name": "stderr",
     "output_type": "stream",
     "text": [
      "Status code 401 from http://api.opencagedata.com/geocode/v1/json: ERROR - 401 Client Error: Unauthorized for url: http://api.opencagedata.com/geocode/v1/json?query=M6C%2C+Toronto%2C+Ontario&key=13aa077d21ae42f287ec8607e07b2159&limit=1\n"
     ]
    },
    {
     "name": "stdout",
     "output_type": "stream",
     "text": [
      "Trying for M6C\n"
     ]
    },
    {
     "name": "stderr",
     "output_type": "stream",
     "text": [
      "Status code 401 from http://api.opencagedata.com/geocode/v1/json: ERROR - 401 Client Error: Unauthorized for url: http://api.opencagedata.com/geocode/v1/json?query=M6C%2C+Toronto%2C+Ontario&key=13aa077d21ae42f287ec8607e07b2159&limit=1\n"
     ]
    },
    {
     "name": "stdout",
     "output_type": "stream",
     "text": [
      "Trying for M6C\n"
     ]
    },
    {
     "name": "stderr",
     "output_type": "stream",
     "text": [
      "Status code 401 from http://api.opencagedata.com/geocode/v1/json: ERROR - 401 Client Error: Unauthorized for url: http://api.opencagedata.com/geocode/v1/json?query=M6C%2C+Toronto%2C+Ontario&key=13aa077d21ae42f287ec8607e07b2159&limit=1\n"
     ]
    },
    {
     "name": "stdout",
     "output_type": "stream",
     "text": [
      "Trying for M6C\n"
     ]
    },
    {
     "name": "stderr",
     "output_type": "stream",
     "text": [
      "Status code 401 from http://api.opencagedata.com/geocode/v1/json: ERROR - 401 Client Error: Unauthorized for url: http://api.opencagedata.com/geocode/v1/json?query=M6C%2C+Toronto%2C+Ontario&key=13aa077d21ae42f287ec8607e07b2159&limit=1\n"
     ]
    },
    {
     "name": "stdout",
     "output_type": "stream",
     "text": [
      "Trying for M6C\n"
     ]
    },
    {
     "name": "stderr",
     "output_type": "stream",
     "text": [
      "Status code 401 from http://api.opencagedata.com/geocode/v1/json: ERROR - 401 Client Error: Unauthorized for url: http://api.opencagedata.com/geocode/v1/json?query=M6C%2C+Toronto%2C+Ontario&key=13aa077d21ae42f287ec8607e07b2159&limit=1\n"
     ]
    },
    {
     "name": "stdout",
     "output_type": "stream",
     "text": [
      "Trying for M6C\n",
      "M6C, done\n"
     ]
    }
   ],
   "source": [
    "\n",
    "# Search for the Latitude and Longitude of each postal code\n",
    "for postal_code in postal_codes:\n",
    "    # initialize your variable to None\n",
    "    lat_lng_coords = None\n",
    "\n",
    "    # loop until you get the coordinates\n",
    "    print('{}, Toronto, Ontario'.format(postal_code))\n",
    "    while(lat_lng_coords is None):\n",
    "        print('Trying for {}'.format(postal_code))\n",
    "        # g = geocoder.google('{}, Toronto, Ontario'.format(postal_code))\n",
    "        g = geocoder.opencage('{}, Toronto, Ontario'.format(postal_code), key='13aa077d21ae42f287ec8607e07b2159')\n",
    "        lat_lng_coords = g.latlng\n",
    "\n",
    "    print('{}, done'.format(postal_code))\n",
    "    latitude = lat_lng_coords[0]\n",
    "    longitude = lat_lng_coords[1]\n",
    "    \n",
    "    df2.loc[df2.PostalCode == postal_code, 'Latitude'] = latitude\n",
    "    df2.loc[df2.PostalCode == postal_code, 'Longitude'] = longitude"
   ]
  },
  {
   "cell_type": "markdown",
   "metadata": {},
   "source": [
    "#### Print the updated dataframe"
   ]
  },
  {
   "cell_type": "code",
   "execution_count": 20,
   "metadata": {},
   "outputs": [
    {
     "data": {
      "text/html": [
       "<div>\n",
       "<style scoped>\n",
       "    .dataframe tbody tr th:only-of-type {\n",
       "        vertical-align: middle;\n",
       "    }\n",
       "\n",
       "    .dataframe tbody tr th {\n",
       "        vertical-align: top;\n",
       "    }\n",
       "\n",
       "    .dataframe thead th {\n",
       "        text-align: right;\n",
       "    }\n",
       "</style>\n",
       "<table border=\"1\" class=\"dataframe\">\n",
       "  <thead>\n",
       "    <tr style=\"text-align: right;\">\n",
       "      <th></th>\n",
       "      <th>PostalCode</th>\n",
       "      <th>Borough</th>\n",
       "      <th>Neighbourhood</th>\n",
       "      <th>Latitude</th>\n",
       "      <th>Longitude</th>\n",
       "    </tr>\n",
       "  </thead>\n",
       "  <tbody>\n",
       "    <tr>\n",
       "      <th>0</th>\n",
       "      <td>M4N</td>\n",
       "      <td>Central Toronto</td>\n",
       "      <td>Lawrence Park,Roselawn,Davisville North,Forest...</td>\n",
       "      <td>43.730100</td>\n",
       "      <td>-79.393500</td>\n",
       "    </tr>\n",
       "    <tr>\n",
       "      <th>1</th>\n",
       "      <td>M5A</td>\n",
       "      <td>Downtown Toronto</td>\n",
       "      <td>Harbourfront,Queen's Park,Ryerson,Garden Distr...</td>\n",
       "      <td>43.655500</td>\n",
       "      <td>-79.362600</td>\n",
       "    </tr>\n",
       "    <tr>\n",
       "      <th>2</th>\n",
       "      <td>M4E</td>\n",
       "      <td>East Toronto</td>\n",
       "      <td>The Beaches,The Danforth West,Riverdale,The Be...</td>\n",
       "      <td>43.678400</td>\n",
       "      <td>-79.294100</td>\n",
       "    </tr>\n",
       "    <tr>\n",
       "      <th>3</th>\n",
       "      <td>M4B</td>\n",
       "      <td>East York</td>\n",
       "      <td>Woodbine Gardens,Parkview Hill,Woodbine Height...</td>\n",
       "      <td>43.706300</td>\n",
       "      <td>-79.309400</td>\n",
       "    </tr>\n",
       "    <tr>\n",
       "      <th>4</th>\n",
       "      <td>M9B</td>\n",
       "      <td>Etobicoke</td>\n",
       "      <td>Cloverdale,Islington,Martin Grove,Princess Gar...</td>\n",
       "      <td>43.640741</td>\n",
       "      <td>-79.541902</td>\n",
       "    </tr>\n",
       "    <tr>\n",
       "      <th>5</th>\n",
       "      <td>M7R</td>\n",
       "      <td>Mississauga</td>\n",
       "      <td>Canada Post Gateway Processing Centre</td>\n",
       "      <td>43.653963</td>\n",
       "      <td>-79.387207</td>\n",
       "    </tr>\n",
       "    <tr>\n",
       "      <th>6</th>\n",
       "      <td>M3A</td>\n",
       "      <td>North York</td>\n",
       "      <td>Parkwoods,Victoria Village,Lawrence Heights,La...</td>\n",
       "      <td>43.653963</td>\n",
       "      <td>-79.387207</td>\n",
       "    </tr>\n",
       "    <tr>\n",
       "      <th>7</th>\n",
       "      <td>M9A</td>\n",
       "      <td>Queen's Park</td>\n",
       "      <td>Queen's Park</td>\n",
       "      <td>43.666200</td>\n",
       "      <td>-79.528200</td>\n",
       "    </tr>\n",
       "    <tr>\n",
       "      <th>8</th>\n",
       "      <td>M1B</td>\n",
       "      <td>Scarborough</td>\n",
       "      <td>Rouge,Malvern,Highland Creek,Rouge Hill,Port U...</td>\n",
       "      <td>43.653963</td>\n",
       "      <td>-79.387207</td>\n",
       "    </tr>\n",
       "    <tr>\n",
       "      <th>9</th>\n",
       "      <td>M6H</td>\n",
       "      <td>West Toronto</td>\n",
       "      <td>Dovercourt Village,Dufferin,Little Portugal,Tr...</td>\n",
       "      <td>43.665500</td>\n",
       "      <td>-79.437800</td>\n",
       "    </tr>\n",
       "    <tr>\n",
       "      <th>10</th>\n",
       "      <td>M6C</td>\n",
       "      <td>York</td>\n",
       "      <td>Humewood-Cedarvale,Caledonia-Fairbanks,Del Ray...</td>\n",
       "      <td>43.691500</td>\n",
       "      <td>-79.430700</td>\n",
       "    </tr>\n",
       "  </tbody>\n",
       "</table>\n",
       "</div>"
      ],
      "text/plain": [
       "   PostalCode           Borough  \\\n",
       "0         M4N   Central Toronto   \n",
       "1         M5A  Downtown Toronto   \n",
       "2         M4E      East Toronto   \n",
       "3         M4B         East York   \n",
       "4         M9B         Etobicoke   \n",
       "5         M7R       Mississauga   \n",
       "6         M3A        North York   \n",
       "7         M9A      Queen's Park   \n",
       "8         M1B       Scarborough   \n",
       "9         M6H      West Toronto   \n",
       "10        M6C              York   \n",
       "\n",
       "                                        Neighbourhood   Latitude  Longitude  \n",
       "0   Lawrence Park,Roselawn,Davisville North,Forest...  43.730100 -79.393500  \n",
       "1   Harbourfront,Queen's Park,Ryerson,Garden Distr...  43.655500 -79.362600  \n",
       "2   The Beaches,The Danforth West,Riverdale,The Be...  43.678400 -79.294100  \n",
       "3   Woodbine Gardens,Parkview Hill,Woodbine Height...  43.706300 -79.309400  \n",
       "4   Cloverdale,Islington,Martin Grove,Princess Gar...  43.640741 -79.541902  \n",
       "5               Canada Post Gateway Processing Centre  43.653963 -79.387207  \n",
       "6   Parkwoods,Victoria Village,Lawrence Heights,La...  43.653963 -79.387207  \n",
       "7                                        Queen's Park  43.666200 -79.528200  \n",
       "8   Rouge,Malvern,Highland Creek,Rouge Hill,Port U...  43.653963 -79.387207  \n",
       "9   Dovercourt Village,Dufferin,Little Portugal,Tr...  43.665500 -79.437800  \n",
       "10  Humewood-Cedarvale,Caledonia-Fairbanks,Del Ray...  43.691500 -79.430700  "
      ]
     },
     "execution_count": 20,
     "metadata": {},
     "output_type": "execute_result"
    }
   ],
   "source": [
    "df2"
   ]
  },
  {
   "cell_type": "code",
   "execution_count": null,
   "metadata": {},
   "outputs": [],
   "source": []
  },
  {
   "cell_type": "code",
   "execution_count": null,
   "metadata": {},
   "outputs": [],
   "source": []
  },
  {
   "cell_type": "code",
   "execution_count": null,
   "metadata": {},
   "outputs": [],
   "source": []
  }
 ],
 "metadata": {
  "kernelspec": {
   "display_name": "Python 3",
   "language": "python",
   "name": "python3"
  },
  "language_info": {
   "codemirror_mode": {
    "name": "ipython",
    "version": 3
   },
   "file_extension": ".py",
   "mimetype": "text/x-python",
   "name": "python",
   "nbconvert_exporter": "python",
   "pygments_lexer": "ipython3",
   "version": "3.7.5"
  }
 },
 "nbformat": 4,
 "nbformat_minor": 2
}
